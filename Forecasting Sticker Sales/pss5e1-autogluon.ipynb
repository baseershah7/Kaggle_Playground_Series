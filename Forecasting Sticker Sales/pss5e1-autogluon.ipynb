{
 "cells": [
  {
   "cell_type": "code",
   "execution_count": 1,
   "id": "ef9f3372",
   "metadata": {
    "_cell_guid": "b1076dfc-b9ad-4769-8c92-a6c4dae69d19",
    "_uuid": "8f2839f25d086af736a60e9eeb907d3b93b6e0e5",
    "execution": {
     "iopub.execute_input": "2025-02-14T22:21:13.067004Z",
     "iopub.status.busy": "2025-02-14T22:21:13.066774Z",
     "iopub.status.idle": "2025-02-14T22:21:13.823995Z",
     "shell.execute_reply": "2025-02-14T22:21:13.822973Z"
    },
    "papermill": {
     "duration": 0.763637,
     "end_time": "2025-02-14T22:21:13.825304",
     "exception": false,
     "start_time": "2025-02-14T22:21:13.061667",
     "status": "completed"
    },
    "tags": []
   },
   "outputs": [
    {
     "name": "stdout",
     "output_type": "stream",
     "text": [
      "/kaggle/input/ensemble/weighted_ensemble.pkl\n",
      "/kaggle/input/test-pss5e1/test_pss5e1.csv\n",
      "/kaggle/input/ey-final-boss/__results__.html\n",
      "/kaggle/input/ey-final-boss/ey_test_niche_ds.csv\n",
      "/kaggle/input/ey-final-boss/submission_all_data_shp.csv\n",
      "/kaggle/input/ey-final-boss/ey_train_niche_ds.csv\n",
      "/kaggle/input/ey-final-boss/__notebook__.ipynb\n",
      "/kaggle/input/ey-final-boss/__output__.json\n",
      "/kaggle/input/ey-final-boss/custom.css\n",
      "/kaggle/input/ey-final-boss/__results___files/__results___47_0.png\n",
      "/kaggle/input/ey-final-boss/__results___files/__results___7_1.png\n",
      "/kaggle/input/test-df-ey-open-science/Submission_template_UHI2025-v2.csv\n",
      "/kaggle/input/ey-peak-0-979-score/ey_train_niche_ds_0.979.csv\n",
      "/kaggle/input/ey-peak-0-979-score/ey_test_niche_ds_0.979.csv\n",
      "/kaggle/input/playground-series-s5e1/sample_submission.csv\n",
      "/kaggle/input/playground-series-s5e1/train.csv\n",
      "/kaggle/input/playground-series-s5e1/test.csv\n",
      "/kaggle/input/train-pss5e1/train_pss5e1.csv\n",
      "/kaggle/input/uhi-index-data/Training_data_uhi_index_UHI2025-v2.csv\n"
     ]
    }
   ],
   "source": [
    "# This Python 3 environment comes with many helpful analytics libraries installed\n",
    "# It is defined by the kaggle/python Docker image: https://github.com/kaggle/docker-python\n",
    "# For example, here's several helpful packages to load\n",
    "\n",
    "import numpy as np # linear algebra\n",
    "import pandas as pd # data processing, CSV file I/O (e.g. pd.read_csv)\n",
    "\n",
    "# Input data files are available in the read-only \"../input/\" directory\n",
    "# For example, running this (by clicking run or pressing Shift+Enter) will list all files under the input directory\n",
    "\n",
    "import os\n",
    "for dirname, _, filenames in os.walk('/kaggle/input'):\n",
    "    for filename in filenames:\n",
    "        print(os.path.join(dirname, filename))\n",
    "\n",
    "# You can write up to 20GB to the current directory (/kaggle/working/) that gets preserved as output when you create a version using \"Save & Run All\" \n",
    "# You can also write temporary files to /kaggle/temp/, but they won't be saved outside of the current session"
   ]
  },
  {
   "cell_type": "code",
   "execution_count": 2,
   "id": "163d9876",
   "metadata": {
    "execution": {
     "iopub.execute_input": "2025-02-14T22:21:13.834142Z",
     "iopub.status.busy": "2025-02-14T22:21:13.833817Z",
     "iopub.status.idle": "2025-02-14T22:21:25.480899Z",
     "shell.execute_reply": "2025-02-14T22:21:25.479840Z"
    },
    "papermill": {
     "duration": 11.653193,
     "end_time": "2025-02-14T22:21:25.482721",
     "exception": false,
     "start_time": "2025-02-14T22:21:13.829528",
     "status": "completed"
    },
    "tags": []
   },
   "outputs": [
    {
     "name": "stdout",
     "output_type": "stream",
     "text": [
      "Collecting autogluon.tabular[0]\r\n",
      "  Downloading autogluon.tabular-1.2-py3-none-any.whl.metadata (14 kB)\r\n",
      "\u001b[33mWARNING: autogluon-tabular 1.2 does not provide the extra '0'\u001b[0m\u001b[33m\r\n",
      "\u001b[0mRequirement already satisfied: numpy<2.1.4,>=1.25.0 in /usr/local/lib/python3.10/dist-packages (from autogluon.tabular[0]) (1.26.4)\r\n",
      "Requirement already satisfied: scipy<1.16,>=1.5.4 in /usr/local/lib/python3.10/dist-packages (from autogluon.tabular[0]) (1.13.1)\r\n",
      "Requirement already satisfied: pandas<2.3.0,>=2.0.0 in /usr/local/lib/python3.10/dist-packages (from autogluon.tabular[0]) (2.2.2)\r\n",
      "Collecting scikit-learn<1.5.3,>=1.4.0 (from autogluon.tabular[0])\r\n",
      "  Downloading scikit_learn-1.5.2-cp310-cp310-manylinux_2_17_x86_64.manylinux2014_x86_64.whl.metadata (13 kB)\r\n",
      "Requirement already satisfied: networkx<4,>=3.0 in /usr/local/lib/python3.10/dist-packages (from autogluon.tabular[0]) (3.4.2)\r\n",
      "Collecting autogluon.core==1.2 (from autogluon.tabular[0])\r\n",
      "  Downloading autogluon.core-1.2-py3-none-any.whl.metadata (12 kB)\r\n",
      "Collecting autogluon.features==1.2 (from autogluon.tabular[0])\r\n",
      "  Downloading autogluon.features-1.2-py3-none-any.whl.metadata (11 kB)\r\n",
      "Requirement already satisfied: tqdm<5,>=4.38 in /usr/local/lib/python3.10/dist-packages (from autogluon.core==1.2->autogluon.tabular[0]) (4.67.1)\r\n",
      "Requirement already satisfied: requests in /usr/local/lib/python3.10/dist-packages (from autogluon.core==1.2->autogluon.tabular[0]) (2.32.3)\r\n",
      "Requirement already satisfied: matplotlib<3.11,>=3.7.0 in /usr/local/lib/python3.10/dist-packages (from autogluon.core==1.2->autogluon.tabular[0]) (3.7.5)\r\n",
      "Requirement already satisfied: boto3<2,>=1.10 in /usr/local/lib/python3.10/dist-packages (from autogluon.core==1.2->autogluon.tabular[0]) (1.35.93)\r\n",
      "Collecting autogluon.common==1.2 (from autogluon.core==1.2->autogluon.tabular[0])\r\n",
      "  Downloading autogluon.common-1.2-py3-none-any.whl.metadata (11 kB)\r\n",
      "Requirement already satisfied: psutil<7.0.0,>=5.7.3 in /usr/local/lib/python3.10/dist-packages (from autogluon.common==1.2->autogluon.core==1.2->autogluon.tabular[0]) (5.9.5)\r\n",
      "Requirement already satisfied: mkl_fft in /usr/local/lib/python3.10/dist-packages (from numpy<2.1.4,>=1.25.0->autogluon.tabular[0]) (1.3.8)\r\n",
      "Requirement already satisfied: mkl_random in /usr/local/lib/python3.10/dist-packages (from numpy<2.1.4,>=1.25.0->autogluon.tabular[0]) (1.2.4)\r\n",
      "Requirement already satisfied: mkl_umath in /usr/local/lib/python3.10/dist-packages (from numpy<2.1.4,>=1.25.0->autogluon.tabular[0]) (0.1.1)\r\n",
      "Requirement already satisfied: mkl in /usr/local/lib/python3.10/dist-packages (from numpy<2.1.4,>=1.25.0->autogluon.tabular[0]) (2025.0.1)\r\n",
      "Requirement already satisfied: tbb4py in /usr/local/lib/python3.10/dist-packages (from numpy<2.1.4,>=1.25.0->autogluon.tabular[0]) (2022.0.0)\r\n",
      "Requirement already satisfied: mkl-service in /usr/local/lib/python3.10/dist-packages (from numpy<2.1.4,>=1.25.0->autogluon.tabular[0]) (2.4.1)\r\n",
      "Requirement already satisfied: python-dateutil>=2.8.2 in /usr/local/lib/python3.10/dist-packages (from pandas<2.3.0,>=2.0.0->autogluon.tabular[0]) (2.8.2)\r\n",
      "Requirement already satisfied: pytz>=2020.1 in /usr/local/lib/python3.10/dist-packages (from pandas<2.3.0,>=2.0.0->autogluon.tabular[0]) (2024.2)\r\n",
      "Requirement already satisfied: tzdata>=2022.7 in /usr/local/lib/python3.10/dist-packages (from pandas<2.3.0,>=2.0.0->autogluon.tabular[0]) (2024.2)\r\n",
      "Requirement already satisfied: joblib>=1.2.0 in /usr/local/lib/python3.10/dist-packages (from scikit-learn<1.5.3,>=1.4.0->autogluon.tabular[0]) (1.4.2)\r\n",
      "Requirement already satisfied: threadpoolctl>=3.1.0 in /usr/local/lib/python3.10/dist-packages (from scikit-learn<1.5.3,>=1.4.0->autogluon.tabular[0]) (3.5.0)\r\n",
      "Requirement already satisfied: botocore<1.36.0,>=1.35.93 in /usr/local/lib/python3.10/dist-packages (from boto3<2,>=1.10->autogluon.core==1.2->autogluon.tabular[0]) (1.35.93)\r\n",
      "Requirement already satisfied: jmespath<2.0.0,>=0.7.1 in /usr/local/lib/python3.10/dist-packages (from boto3<2,>=1.10->autogluon.core==1.2->autogluon.tabular[0]) (1.0.1)\r\n",
      "Requirement already satisfied: s3transfer<0.11.0,>=0.10.0 in /usr/local/lib/python3.10/dist-packages (from boto3<2,>=1.10->autogluon.core==1.2->autogluon.tabular[0]) (0.10.4)\r\n",
      "Requirement already satisfied: contourpy>=1.0.1 in /usr/local/lib/python3.10/dist-packages (from matplotlib<3.11,>=3.7.0->autogluon.core==1.2->autogluon.tabular[0]) (1.3.1)\r\n",
      "Requirement already satisfied: cycler>=0.10 in /usr/local/lib/python3.10/dist-packages (from matplotlib<3.11,>=3.7.0->autogluon.core==1.2->autogluon.tabular[0]) (0.12.1)\r\n",
      "Requirement already satisfied: fonttools>=4.22.0 in /usr/local/lib/python3.10/dist-packages (from matplotlib<3.11,>=3.7.0->autogluon.core==1.2->autogluon.tabular[0]) (4.55.3)\r\n",
      "Requirement already satisfied: kiwisolver>=1.0.1 in /usr/local/lib/python3.10/dist-packages (from matplotlib<3.11,>=3.7.0->autogluon.core==1.2->autogluon.tabular[0]) (1.4.7)\r\n",
      "Requirement already satisfied: packaging>=20.0 in /usr/local/lib/python3.10/dist-packages (from matplotlib<3.11,>=3.7.0->autogluon.core==1.2->autogluon.tabular[0]) (24.2)\r\n",
      "Requirement already satisfied: pillow>=6.2.0 in /usr/local/lib/python3.10/dist-packages (from matplotlib<3.11,>=3.7.0->autogluon.core==1.2->autogluon.tabular[0]) (11.0.0)\r\n",
      "Requirement already satisfied: pyparsing>=2.3.1 in /usr/local/lib/python3.10/dist-packages (from matplotlib<3.11,>=3.7.0->autogluon.core==1.2->autogluon.tabular[0]) (3.2.0)\r\n",
      "Requirement already satisfied: six>=1.5 in /usr/local/lib/python3.10/dist-packages (from python-dateutil>=2.8.2->pandas<2.3.0,>=2.0.0->autogluon.tabular[0]) (1.17.0)\r\n",
      "Requirement already satisfied: intel-openmp>=2024 in /usr/local/lib/python3.10/dist-packages (from mkl->numpy<2.1.4,>=1.25.0->autogluon.tabular[0]) (2024.2.0)\r\n",
      "Requirement already satisfied: tbb==2022.* in /usr/local/lib/python3.10/dist-packages (from mkl->numpy<2.1.4,>=1.25.0->autogluon.tabular[0]) (2022.0.0)\r\n",
      "Requirement already satisfied: tcmlib==1.* in /usr/local/lib/python3.10/dist-packages (from tbb==2022.*->mkl->numpy<2.1.4,>=1.25.0->autogluon.tabular[0]) (1.2.0)\r\n",
      "Requirement already satisfied: intel-cmplr-lib-rt in /usr/local/lib/python3.10/dist-packages (from mkl_umath->numpy<2.1.4,>=1.25.0->autogluon.tabular[0]) (2024.2.0)\r\n",
      "Requirement already satisfied: charset-normalizer<4,>=2 in /usr/local/lib/python3.10/dist-packages (from requests->autogluon.core==1.2->autogluon.tabular[0]) (3.4.0)\r\n",
      "Requirement already satisfied: idna<4,>=2.5 in /usr/local/lib/python3.10/dist-packages (from requests->autogluon.core==1.2->autogluon.tabular[0]) (3.10)\r\n",
      "Requirement already satisfied: urllib3<3,>=1.21.1 in /usr/local/lib/python3.10/dist-packages (from requests->autogluon.core==1.2->autogluon.tabular[0]) (2.2.3)\r\n",
      "Requirement already satisfied: certifi>=2017.4.17 in /usr/local/lib/python3.10/dist-packages (from requests->autogluon.core==1.2->autogluon.tabular[0]) (2024.12.14)\r\n",
      "Requirement already satisfied: intel-cmplr-lib-ur==2024.2.0 in /usr/local/lib/python3.10/dist-packages (from intel-openmp>=2024->mkl->numpy<2.1.4,>=1.25.0->autogluon.tabular[0]) (2024.2.0)\r\n",
      "Downloading autogluon.core-1.2-py3-none-any.whl (266 kB)\r\n",
      "\u001b[2K   \u001b[90m━━━━━━━━━━━━━━━━━━━━━━━━━━━━━━━━━━━━━━━━\u001b[0m \u001b[32m266.2/266.2 kB\u001b[0m \u001b[31m7.8 MB/s\u001b[0m eta \u001b[36m0:00:00\u001b[0m\r\n",
      "\u001b[?25hDownloading autogluon.features-1.2-py3-none-any.whl (64 kB)\r\n",
      "\u001b[2K   \u001b[90m━━━━━━━━━━━━━━━━━━━━━━━━━━━━━━━━━━━━━━━━\u001b[0m \u001b[32m64.1/64.1 kB\u001b[0m \u001b[31m4.2 MB/s\u001b[0m eta \u001b[36m0:00:00\u001b[0m\r\n",
      "\u001b[?25hDownloading autogluon.common-1.2-py3-none-any.whl (68 kB)\r\n",
      "\u001b[2K   \u001b[90m━━━━━━━━━━━━━━━━━━━━━━━━━━━━━━━━━━━━━━━━\u001b[0m \u001b[32m68.2/68.2 kB\u001b[0m \u001b[31m4.1 MB/s\u001b[0m eta \u001b[36m0:00:00\u001b[0m\r\n",
      "\u001b[?25hDownloading scikit_learn-1.5.2-cp310-cp310-manylinux_2_17_x86_64.manylinux2014_x86_64.whl (13.3 MB)\r\n",
      "\u001b[2K   \u001b[90m━━━━━━━━━━━━━━━━━━━━━━━━━━━━━━━━━━━━━━━━\u001b[0m \u001b[32m13.3/13.3 MB\u001b[0m \u001b[31m99.6 MB/s\u001b[0m eta \u001b[36m0:00:00\u001b[0m\r\n",
      "\u001b[?25hDownloading autogluon.tabular-1.2-py3-none-any.whl (352 kB)\r\n",
      "\u001b[2K   \u001b[90m━━━━━━━━━━━━━━━━━━━━━━━━━━━━━━━━━━━━━━━━\u001b[0m \u001b[32m352.2/352.2 kB\u001b[0m \u001b[31m23.0 MB/s\u001b[0m eta \u001b[36m0:00:00\u001b[0m\r\n",
      "\u001b[?25hInstalling collected packages: scikit-learn, autogluon.common, autogluon.features, autogluon.core, autogluon.tabular\r\n",
      "  Attempting uninstall: scikit-learn\r\n",
      "    Found existing installation: scikit-learn 1.2.2\r\n",
      "    Uninstalling scikit-learn-1.2.2:\r\n",
      "      Successfully uninstalled scikit-learn-1.2.2\r\n",
      "Successfully installed autogluon.common-1.2 autogluon.core-1.2 autogluon.features-1.2 autogluon.tabular-1.2 scikit-learn-1.5.2\r\n"
     ]
    }
   ],
   "source": [
    "!pip install autogluon.tabular[0]\n",
    "# !pip install autogluon.timeseries[0]"
   ]
  },
  {
   "cell_type": "code",
   "execution_count": 3,
   "id": "429c55d2",
   "metadata": {
    "execution": {
     "iopub.execute_input": "2025-02-14T22:21:25.493662Z",
     "iopub.status.busy": "2025-02-14T22:21:25.493417Z",
     "iopub.status.idle": "2025-02-14T22:21:25.496603Z",
     "shell.execute_reply": "2025-02-14T22:21:25.495832Z"
    },
    "papermill": {
     "duration": 0.010027,
     "end_time": "2025-02-14T22:21:25.498008",
     "exception": false,
     "start_time": "2025-02-14T22:21:25.487981",
     "status": "completed"
    },
    "tags": []
   },
   "outputs": [],
   "source": [
    "# train = pd.read_csv('/kaggle/input/train-pss5e1/train_pss5e1.csv')\n",
    "# test = pd.read_csv('/kaggle/input/test-pss5e1/test_pss5e1.csv')\n",
    "# train = train.dropna(subset='num_sold')"
   ]
  },
  {
   "cell_type": "code",
   "execution_count": 4,
   "id": "7cba71ee",
   "metadata": {
    "execution": {
     "iopub.execute_input": "2025-02-14T22:21:25.508309Z",
     "iopub.status.busy": "2025-02-14T22:21:25.508080Z",
     "iopub.status.idle": "2025-02-14T22:21:25.511006Z",
     "shell.execute_reply": "2025-02-14T22:21:25.510341Z"
    },
    "papermill": {
     "duration": 0.009339,
     "end_time": "2025-02-14T22:21:25.512200",
     "exception": false,
     "start_time": "2025-02-14T22:21:25.502861",
     "status": "completed"
    },
    "tags": []
   },
   "outputs": [],
   "source": [
    "# train['time_id'] = train['country'] + '_' + train['product'] + '_' + train['store']\n",
    "# test['time_id'] = test['country'] + '_' + test['product'] + '_' + test['store']"
   ]
  },
  {
   "cell_type": "code",
   "execution_count": 5,
   "id": "e23866d8",
   "metadata": {
    "execution": {
     "iopub.execute_input": "2025-02-14T22:21:25.522573Z",
     "iopub.status.busy": "2025-02-14T22:21:25.522343Z",
     "iopub.status.idle": "2025-02-14T22:21:25.525123Z",
     "shell.execute_reply": "2025-02-14T22:21:25.524486Z"
    },
    "papermill": {
     "duration": 0.009233,
     "end_time": "2025-02-14T22:21:25.526250",
     "exception": false,
     "start_time": "2025-02-14T22:21:25.517017",
     "status": "completed"
    },
    "tags": []
   },
   "outputs": [],
   "source": [
    "# train['date'] = pd.to_datetime(train['date'])\n",
    "# test['date'] = pd.to_datetime(test['date'])"
   ]
  },
  {
   "cell_type": "code",
   "execution_count": 6,
   "id": "63149a2b",
   "metadata": {
    "execution": {
     "iopub.execute_input": "2025-02-14T22:21:25.536554Z",
     "iopub.status.busy": "2025-02-14T22:21:25.536346Z",
     "iopub.status.idle": "2025-02-14T22:21:25.539155Z",
     "shell.execute_reply": "2025-02-14T22:21:25.538532Z"
    },
    "papermill": {
     "duration": 0.00923,
     "end_time": "2025-02-14T22:21:25.540300",
     "exception": false,
     "start_time": "2025-02-14T22:21:25.531070",
     "status": "completed"
    },
    "tags": []
   },
   "outputs": [],
   "source": [
    "# target = 'num_sold'\n",
    "# features = [col for col in train.columns if (col!='num_sold' and col!='date' and col!='id')]\n",
    "# cols_to_drop = ['date', 'id']\n",
    "# train.drop(columns=cols_to_drop, inplace=True)\n",
    "# test.drop(columns=cols_to_drop, inplace=True)"
   ]
  },
  {
   "cell_type": "code",
   "execution_count": 7,
   "id": "2fbc6868",
   "metadata": {
    "execution": {
     "iopub.execute_input": "2025-02-14T22:21:25.550618Z",
     "iopub.status.busy": "2025-02-14T22:21:25.550410Z",
     "iopub.status.idle": "2025-02-14T22:21:25.553197Z",
     "shell.execute_reply": "2025-02-14T22:21:25.552584Z"
    },
    "papermill": {
     "duration": 0.009109,
     "end_time": "2025-02-14T22:21:25.554255",
     "exception": false,
     "start_time": "2025-02-14T22:21:25.545146",
     "status": "completed"
    },
    "tags": []
   },
   "outputs": [],
   "source": [
    "# from scipy.stats import boxcox\n",
    "# train['num_sold'], lmbda = boxcox(train['num_sold'])"
   ]
  },
  {
   "cell_type": "markdown",
   "id": "78ac2446",
   "metadata": {
    "papermill": {
     "duration": 0.004645,
     "end_time": "2025-02-14T22:21:25.563657",
     "exception": false,
     "start_time": "2025-02-14T22:21:25.559012",
     "status": "completed"
    },
    "tags": []
   },
   "source": [
    "# ey tabular"
   ]
  },
  {
   "cell_type": "code",
   "execution_count": 8,
   "id": "03f967b7",
   "metadata": {
    "execution": {
     "iopub.execute_input": "2025-02-14T22:21:25.573885Z",
     "iopub.status.busy": "2025-02-14T22:21:25.573666Z",
     "iopub.status.idle": "2025-02-14T22:21:25.706885Z",
     "shell.execute_reply": "2025-02-14T22:21:25.706243Z"
    },
    "papermill": {
     "duration": 0.139856,
     "end_time": "2025-02-14T22:21:25.708180",
     "exception": false,
     "start_time": "2025-02-14T22:21:25.568324",
     "status": "completed"
    },
    "tags": []
   },
   "outputs": [],
   "source": [
    "train = pd.read_csv('/kaggle/input/ey-peak-0-979-score/ey_train_niche_ds_0.979.csv')\n",
    "test  = pd.read_csv('/kaggle/input/ey-peak-0-979-score/ey_test_niche_ds_0.979.csv')\n",
    "train_org  = pd.read_csv('/kaggle/input/uhi-index-data/Training_data_uhi_index_UHI2025-v2.csv')\n",
    "test_org   = pd.read_csv('/kaggle/input/test-df-ey-open-science/Submission_template_UHI2025-v2.csv')"
   ]
  },
  {
   "cell_type": "code",
   "execution_count": 9,
   "id": "4a1a9212",
   "metadata": {
    "execution": {
     "iopub.execute_input": "2025-02-14T22:21:25.718652Z",
     "iopub.status.busy": "2025-02-14T22:21:25.718445Z",
     "iopub.status.idle": "2025-02-14T22:21:25.726890Z",
     "shell.execute_reply": "2025-02-14T22:21:25.726235Z"
    },
    "papermill": {
     "duration": 0.014816,
     "end_time": "2025-02-14T22:21:25.727999",
     "exception": false,
     "start_time": "2025-02-14T22:21:25.713183",
     "status": "completed"
    },
    "tags": []
   },
   "outputs": [],
   "source": [
    "train['UHI Index'] = train_org['UHI Index']\n",
    "target = 'UHI Index'\n",
    "features = [col for col in train.columns if col!='UHI Index']"
   ]
  },
  {
   "cell_type": "markdown",
   "id": "c740e883",
   "metadata": {
    "papermill": {
     "duration": 0.004545,
     "end_time": "2025-02-14T22:21:25.737233",
     "exception": false,
     "start_time": "2025-02-14T22:21:25.732688",
     "status": "completed"
    },
    "tags": []
   },
   "source": [
    "# Main code "
   ]
  },
  {
   "cell_type": "code",
   "execution_count": 10,
   "id": "704e8ca2",
   "metadata": {
    "execution": {
     "iopub.execute_input": "2025-02-14T22:21:25.747525Z",
     "iopub.status.busy": "2025-02-14T22:21:25.747292Z",
     "iopub.status.idle": "2025-02-14T22:21:27.826784Z",
     "shell.execute_reply": "2025-02-14T22:21:27.825953Z"
    },
    "papermill": {
     "duration": 2.086126,
     "end_time": "2025-02-14T22:21:27.828083",
     "exception": false,
     "start_time": "2025-02-14T22:21:25.741957",
     "status": "completed"
    },
    "tags": []
   },
   "outputs": [
    {
     "name": "stderr",
     "output_type": "stream",
     "text": [
      "No path specified. Models will be saved in: \"AutogluonModels/ag-20250214_222127\"\n"
     ]
    }
   ],
   "source": [
    "from autogluon.tabular import TabularPredictor\n",
    "predictor = TabularPredictor(label=target, eval_metric='r2', problem_type='regression')\n",
    "\n",
    "# tabular_df = TimeSeriesDataFrame(train)\n",
    "# label = 'num_sold'\n",
    "# features = [col for col in tabular_df.columns if col!='num_sold']\n",
    "# aml = TimeSeriesPredictor(label=label, eval_metric='mean_absolute_percentage_error', problem_type='regression')"
   ]
  },
  {
   "cell_type": "code",
   "execution_count": 11,
   "id": "ce9f1ce0",
   "metadata": {
    "execution": {
     "iopub.execute_input": "2025-02-14T22:21:27.839130Z",
     "iopub.status.busy": "2025-02-14T22:21:27.838801Z",
     "iopub.status.idle": "2025-02-15T01:16:33.417627Z",
     "shell.execute_reply": "2025-02-15T01:16:33.416777Z"
    },
    "papermill": {
     "duration": 10505.595211,
     "end_time": "2025-02-15T01:16:33.428412",
     "exception": false,
     "start_time": "2025-02-14T22:21:27.833201",
     "status": "completed"
    },
    "tags": []
   },
   "outputs": [
    {
     "name": "stderr",
     "output_type": "stream",
     "text": [
      "Default metric period is 5 because R2 is/are not implemented for GPU\n",
      "Metric R2 is not implemented on GPU. Will use CPU for metric computation, this could significantly affect learning time\n",
      "Default metric period is 5 because R2 is/are not implemented for GPU\n",
      "Metric R2 is not implemented on GPU. Will use CPU for metric computation, this could significantly affect learning time\n",
      "Default metric period is 5 because R2 is/are not implemented for GPU\n",
      "Metric R2 is not implemented on GPU. Will use CPU for metric computation, this could significantly affect learning time\n",
      "Default metric period is 5 because R2 is/are not implemented for GPU\n",
      "Metric R2 is not implemented on GPU. Will use CPU for metric computation, this could significantly affect learning time\n",
      "Default metric period is 5 because R2 is/are not implemented for GPU\n",
      "Metric R2 is not implemented on GPU. Will use CPU for metric computation, this could significantly affect learning time\n",
      "Default metric period is 5 because R2 is/are not implemented for GPU\n",
      "Metric R2 is not implemented on GPU. Will use CPU for metric computation, this could significantly affect learning time\n",
      "Default metric period is 5 because R2 is/are not implemented for GPU\n",
      "Metric R2 is not implemented on GPU. Will use CPU for metric computation, this could significantly affect learning time\n",
      "Default metric period is 5 because R2 is/are not implemented for GPU\n",
      "Metric R2 is not implemented on GPU. Will use CPU for metric computation, this could significantly affect learning time\n",
      "Default metric period is 5 because R2 is/are not implemented for GPU\n",
      "Metric R2 is not implemented on GPU. Will use CPU for metric computation, this could significantly affect learning time\n",
      "Default metric period is 5 because R2 is/are not implemented for GPU\n",
      "Metric R2 is not implemented on GPU. Will use CPU for metric computation, this could significantly affect learning time\n",
      "Default metric period is 5 because R2 is/are not implemented for GPU\n",
      "Metric R2 is not implemented on GPU. Will use CPU for metric computation, this could significantly affect learning time\n",
      "Default metric period is 5 because R2 is/are not implemented for GPU\n",
      "Metric R2 is not implemented on GPU. Will use CPU for metric computation, this could significantly affect learning time\n",
      "Default metric period is 5 because R2 is/are not implemented for GPU\n",
      "Metric R2 is not implemented on GPU. Will use CPU for metric computation, this could significantly affect learning time\n",
      "Default metric period is 5 because R2 is/are not implemented for GPU\n",
      "Metric R2 is not implemented on GPU. Will use CPU for metric computation, this could significantly affect learning time\n",
      "Default metric period is 5 because R2 is/are not implemented for GPU\n",
      "Metric R2 is not implemented on GPU. Will use CPU for metric computation, this could significantly affect learning time\n",
      "Default metric period is 5 because R2 is/are not implemented for GPU\n",
      "Metric R2 is not implemented on GPU. Will use CPU for metric computation, this could significantly affect learning time\n",
      "Default metric period is 5 because R2 is/are not implemented for GPU\n",
      "Metric R2 is not implemented on GPU. Will use CPU for metric computation, this could significantly affect learning time\n",
      "Default metric period is 5 because R2 is/are not implemented for GPU\n",
      "Metric R2 is not implemented on GPU. Will use CPU for metric computation, this could significantly affect learning time\n",
      "Default metric period is 5 because R2 is/are not implemented for GPU\n",
      "Metric R2 is not implemented on GPU. Will use CPU for metric computation, this could significantly affect learning time\n",
      "Default metric period is 5 because R2 is/are not implemented for GPU\n",
      "Metric R2 is not implemented on GPU. Will use CPU for metric computation, this could significantly affect learning time\n",
      "Default metric period is 5 because R2 is/are not implemented for GPU\n",
      "Metric R2 is not implemented on GPU. Will use CPU for metric computation, this could significantly affect learning time\n",
      "Default metric period is 5 because R2 is/are not implemented for GPU\n",
      "Metric R2 is not implemented on GPU. Will use CPU for metric computation, this could significantly affect learning time\n",
      "Default metric period is 5 because R2 is/are not implemented for GPU\n",
      "Metric R2 is not implemented on GPU. Will use CPU for metric computation, this could significantly affect learning time\n",
      "Default metric period is 5 because R2 is/are not implemented for GPU\n",
      "Metric R2 is not implemented on GPU. Will use CPU for metric computation, this could significantly affect learning time\n",
      "Default metric period is 5 because R2 is/are not implemented for GPU\n",
      "Metric R2 is not implemented on GPU. Will use CPU for metric computation, this could significantly affect learning time\n",
      "Default metric period is 5 because R2 is/are not implemented for GPU\n",
      "Metric R2 is not implemented on GPU. Will use CPU for metric computation, this could significantly affect learning time\n",
      "Default metric period is 5 because R2 is/are not implemented for GPU\n",
      "Metric R2 is not implemented on GPU. Will use CPU for metric computation, this could significantly affect learning time\n",
      "Default metric period is 5 because R2 is/are not implemented for GPU\n",
      "Metric R2 is not implemented on GPU. Will use CPU for metric computation, this could significantly affect learning time\n",
      "Default metric period is 5 because R2 is/are not implemented for GPU\n",
      "Metric R2 is not implemented on GPU. Will use CPU for metric computation, this could significantly affect learning time\n",
      "Default metric period is 5 because R2 is/are not implemented for GPU\n",
      "Metric R2 is not implemented on GPU. Will use CPU for metric computation, this could significantly affect learning time\n",
      "Default metric period is 5 because R2 is/are not implemented for GPU\n",
      "Metric R2 is not implemented on GPU. Will use CPU for metric computation, this could significantly affect learning time\n",
      "Default metric period is 5 because R2 is/are not implemented for GPU\n",
      "Metric R2 is not implemented on GPU. Will use CPU for metric computation, this could significantly affect learning time\n",
      "Default metric period is 5 because R2 is/are not implemented for GPU\n",
      "Metric R2 is not implemented on GPU. Will use CPU for metric computation, this could significantly affect learning time\n",
      "Default metric period is 5 because R2 is/are not implemented for GPU\n",
      "Metric R2 is not implemented on GPU. Will use CPU for metric computation, this could significantly affect learning time\n",
      "Default metric period is 5 because R2 is/are not implemented for GPU\n",
      "Metric R2 is not implemented on GPU. Will use CPU for metric computation, this could significantly affect learning time\n",
      "Default metric period is 5 because R2 is/are not implemented for GPU\n",
      "Metric R2 is not implemented on GPU. Will use CPU for metric computation, this could significantly affect learning time\n",
      "Default metric period is 5 because R2 is/are not implemented for GPU\n",
      "Metric R2 is not implemented on GPU. Will use CPU for metric computation, this could significantly affect learning time\n",
      "Default metric period is 5 because R2 is/are not implemented for GPU\n",
      "Metric R2 is not implemented on GPU. Will use CPU for metric computation, this could significantly affect learning time\n",
      "Default metric period is 5 because R2 is/are not implemented for GPU\n",
      "Metric R2 is not implemented on GPU. Will use CPU for metric computation, this could significantly affect learning time\n",
      "Default metric period is 5 because R2 is/are not implemented for GPU\n",
      "Metric R2 is not implemented on GPU. Will use CPU for metric computation, this could significantly affect learning time\n",
      "Default metric period is 5 because R2 is/are not implemented for GPU\n",
      "Metric R2 is not implemented on GPU. Will use CPU for metric computation, this could significantly affect learning time\n",
      "Default metric period is 5 because R2 is/are not implemented for GPU\n",
      "Metric R2 is not implemented on GPU. Will use CPU for metric computation, this could significantly affect learning time\n",
      "Default metric period is 5 because R2 is/are not implemented for GPU\n",
      "Metric R2 is not implemented on GPU. Will use CPU for metric computation, this could significantly affect learning time\n",
      "Default metric period is 5 because R2 is/are not implemented for GPU\n",
      "Metric R2 is not implemented on GPU. Will use CPU for metric computation, this could significantly affect learning time\n",
      "Default metric period is 5 because R2 is/are not implemented for GPU\n",
      "Metric R2 is not implemented on GPU. Will use CPU for metric computation, this could significantly affect learning time\n",
      "Default metric period is 5 because R2 is/are not implemented for GPU\n",
      "Metric R2 is not implemented on GPU. Will use CPU for metric computation, this could significantly affect learning time\n",
      "Default metric period is 5 because R2 is/are not implemented for GPU\n",
      "Metric R2 is not implemented on GPU. Will use CPU for metric computation, this could significantly affect learning time\n",
      "Default metric period is 5 because R2 is/are not implemented for GPU\n",
      "Metric R2 is not implemented on GPU. Will use CPU for metric computation, this could significantly affect learning time\n",
      "Default metric period is 5 because R2 is/are not implemented for GPU\n",
      "Metric R2 is not implemented on GPU. Will use CPU for metric computation, this could significantly affect learning time\n",
      "Default metric period is 5 because R2 is/are not implemented for GPU\n",
      "Metric R2 is not implemented on GPU. Will use CPU for metric computation, this could significantly affect learning time\n",
      "Default metric period is 5 because R2 is/are not implemented for GPU\n",
      "Metric R2 is not implemented on GPU. Will use CPU for metric computation, this could significantly affect learning time\n",
      "Default metric period is 5 because R2 is/are not implemented for GPU\n",
      "Metric R2 is not implemented on GPU. Will use CPU for metric computation, this could significantly affect learning time\n",
      "Default metric period is 5 because R2 is/are not implemented for GPU\n",
      "Metric R2 is not implemented on GPU. Will use CPU for metric computation, this could significantly affect learning time\n",
      "Default metric period is 5 because R2 is/are not implemented for GPU\n",
      "Metric R2 is not implemented on GPU. Will use CPU for metric computation, this could significantly affect learning time\n",
      "Default metric period is 5 because R2 is/are not implemented for GPU\n",
      "Metric R2 is not implemented on GPU. Will use CPU for metric computation, this could significantly affect learning time\n",
      "Default metric period is 5 because R2 is/are not implemented for GPU\n",
      "Metric R2 is not implemented on GPU. Will use CPU for metric computation, this could significantly affect learning time\n",
      "Default metric period is 5 because R2 is/are not implemented for GPU\n",
      "Metric R2 is not implemented on GPU. Will use CPU for metric computation, this could significantly affect learning time\n",
      "Default metric period is 5 because R2 is/are not implemented for GPU\n",
      "Metric R2 is not implemented on GPU. Will use CPU for metric computation, this could significantly affect learning time\n",
      "Default metric period is 5 because R2 is/are not implemented for GPU\n",
      "Metric R2 is not implemented on GPU. Will use CPU for metric computation, this could significantly affect learning time\n",
      "Default metric period is 5 because R2 is/are not implemented for GPU\n",
      "Metric R2 is not implemented on GPU. Will use CPU for metric computation, this could significantly affect learning time\n",
      "Default metric period is 5 because R2 is/are not implemented for GPU\n",
      "Metric R2 is not implemented on GPU. Will use CPU for metric computation, this could significantly affect learning time\n",
      "Default metric period is 5 because R2 is/are not implemented for GPU\n",
      "Metric R2 is not implemented on GPU. Will use CPU for metric computation, this could significantly affect learning time\n",
      "Default metric period is 5 because R2 is/are not implemented for GPU\n",
      "Metric R2 is not implemented on GPU. Will use CPU for metric computation, this could significantly affect learning time\n",
      "Default metric period is 5 because R2 is/are not implemented for GPU\n",
      "Metric R2 is not implemented on GPU. Will use CPU for metric computation, this could significantly affect learning time\n",
      "Default metric period is 5 because R2 is/are not implemented for GPU\n",
      "Metric R2 is not implemented on GPU. Will use CPU for metric computation, this could significantly affect learning time\n",
      "Default metric period is 5 because R2 is/are not implemented for GPU\n",
      "Metric R2 is not implemented on GPU. Will use CPU for metric computation, this could significantly affect learning time\n",
      "Default metric period is 5 because R2 is/are not implemented for GPU\n",
      "Metric R2 is not implemented on GPU. Will use CPU for metric computation, this could significantly affect learning time\n",
      "Default metric period is 5 because R2 is/are not implemented for GPU\n",
      "Metric R2 is not implemented on GPU. Will use CPU for metric computation, this could significantly affect learning time\n",
      "Default metric period is 5 because R2 is/are not implemented for GPU\n",
      "Metric R2 is not implemented on GPU. Will use CPU for metric computation, this could significantly affect learning time\n",
      "Default metric period is 5 because R2 is/are not implemented for GPU\n",
      "Metric R2 is not implemented on GPU. Will use CPU for metric computation, this could significantly affect learning time\n",
      "Default metric period is 5 because R2 is/are not implemented for GPU\n",
      "Metric R2 is not implemented on GPU. Will use CPU for metric computation, this could significantly affect learning time\n",
      "Default metric period is 5 because R2 is/are not implemented for GPU\n",
      "Metric R2 is not implemented on GPU. Will use CPU for metric computation, this could significantly affect learning time\n",
      "Default metric period is 5 because R2 is/are not implemented for GPU\n",
      "Metric R2 is not implemented on GPU. Will use CPU for metric computation, this could significantly affect learning time\n",
      "Default metric period is 5 because R2 is/are not implemented for GPU\n",
      "Metric R2 is not implemented on GPU. Will use CPU for metric computation, this could significantly affect learning time\n",
      "Default metric period is 5 because R2 is/are not implemented for GPU\n",
      "Metric R2 is not implemented on GPU. Will use CPU for metric computation, this could significantly affect learning time\n",
      "Default metric period is 5 because R2 is/are not implemented for GPU\n",
      "Metric R2 is not implemented on GPU. Will use CPU for metric computation, this could significantly affect learning time\n",
      "Default metric period is 5 because R2 is/are not implemented for GPU\n",
      "Metric R2 is not implemented on GPU. Will use CPU for metric computation, this could significantly affect learning time\n",
      "Default metric period is 5 because R2 is/are not implemented for GPU\n",
      "Metric R2 is not implemented on GPU. Will use CPU for metric computation, this could significantly affect learning time\n",
      "Default metric period is 5 because R2 is/are not implemented for GPU\n",
      "Metric R2 is not implemented on GPU. Will use CPU for metric computation, this could significantly affect learning time\n",
      "Default metric period is 5 because R2 is/are not implemented for GPU\n",
      "Metric R2 is not implemented on GPU. Will use CPU for metric computation, this could significantly affect learning time\n"
     ]
    },
    {
     "data": {
      "text/plain": [
       "<autogluon.tabular.predictor.predictor.TabularPredictor at 0x78e5f947a410>"
      ]
     },
     "execution_count": 11,
     "metadata": {},
     "output_type": "execute_result"
    }
   ],
   "source": [
    "import warnings\n",
    "warnings.filterwarnings(\"ignore\")  # Suppress all warnings\n",
    "predictor.fit(\n",
    "    train_data=train,\n",
    "    time_limit=39600,\n",
    "    presets='best_quality',\n",
    "    num_bag_folds=10,\n",
    "    hyperparameters={\n",
    "        'GBM': {'tree_method': 'gpu_hist', 'device': 'gpu'},  # LightGBM\n",
    "        'CAT': {'task_type': 'GPU'},  # CatBoost\n",
    "        'XGB': {'tree_method': 'gpu_hist', 'gpu_id': 0},  # XGBoost\n",
    "        'NN_TORCH': {},  # Neural networks with GPU\n",
    "        'RF': {},         # Random Forest\n",
    "        'XT': {},         # Extra Trees\n",
    "        'LR': {},          # Linear Regression\n",
    "        # You can add others, e.g., KNN if desired:\n",
    "        'KNN': {}\n",
    "    },\n",
    "    verbosity=0,\n",
    "    num_gpus=1\n",
    ")"
   ]
  },
  {
   "cell_type": "code",
   "execution_count": 12,
   "id": "3214e5aa",
   "metadata": {
    "execution": {
     "iopub.execute_input": "2025-02-15T01:16:33.446783Z",
     "iopub.status.busy": "2025-02-15T01:16:33.446484Z",
     "iopub.status.idle": "2025-02-15T01:16:33.460340Z",
     "shell.execute_reply": "2025-02-15T01:16:33.459734Z"
    },
    "papermill": {
     "duration": 0.024128,
     "end_time": "2025-02-15T01:16:33.461551",
     "exception": false,
     "start_time": "2025-02-15T01:16:33.437423",
     "status": "completed"
    },
    "tags": []
   },
   "outputs": [],
   "source": [
    "leaderboard = predictor.leaderboard()\n",
    "leaderboard.to_csv('leaderboard.csv', index=False)"
   ]
  },
  {
   "cell_type": "code",
   "execution_count": 13,
   "id": "764101d2",
   "metadata": {
    "execution": {
     "iopub.execute_input": "2025-02-15T01:16:33.479760Z",
     "iopub.status.busy": "2025-02-15T01:16:33.479475Z",
     "iopub.status.idle": "2025-02-15T01:16:33.497268Z",
     "shell.execute_reply": "2025-02-15T01:16:33.496409Z"
    },
    "papermill": {
     "duration": 0.028226,
     "end_time": "2025-02-15T01:16:33.498517",
     "exception": false,
     "start_time": "2025-02-15T01:16:33.470291",
     "status": "completed"
    },
    "tags": []
   },
   "outputs": [
    {
     "data": {
      "text/html": [
       "<div>\n",
       "<style scoped>\n",
       "    .dataframe tbody tr th:only-of-type {\n",
       "        vertical-align: middle;\n",
       "    }\n",
       "\n",
       "    .dataframe tbody tr th {\n",
       "        vertical-align: top;\n",
       "    }\n",
       "\n",
       "    .dataframe thead th {\n",
       "        text-align: right;\n",
       "    }\n",
       "</style>\n",
       "<table border=\"1\" class=\"dataframe\">\n",
       "  <thead>\n",
       "    <tr style=\"text-align: right;\">\n",
       "      <th></th>\n",
       "      <th>model</th>\n",
       "      <th>score_val</th>\n",
       "      <th>eval_metric</th>\n",
       "      <th>pred_time_val</th>\n",
       "      <th>fit_time</th>\n",
       "      <th>pred_time_val_marginal</th>\n",
       "      <th>fit_time_marginal</th>\n",
       "      <th>stack_level</th>\n",
       "      <th>can_infer</th>\n",
       "      <th>fit_order</th>\n",
       "    </tr>\n",
       "  </thead>\n",
       "  <tbody>\n",
       "    <tr>\n",
       "      <th>0</th>\n",
       "      <td>WeightedEnsemble_L3</td>\n",
       "      <td>0.976781</td>\n",
       "      <td>r2</td>\n",
       "      <td>7.741875</td>\n",
       "      <td>4493.483769</td>\n",
       "      <td>0.001336</td>\n",
       "      <td>0.333348</td>\n",
       "      <td>3</td>\n",
       "      <td>True</td>\n",
       "      <td>17</td>\n",
       "    </tr>\n",
       "    <tr>\n",
       "      <th>1</th>\n",
       "      <td>LinearModel_BAG_L2</td>\n",
       "      <td>0.976773</td>\n",
       "      <td>r2</td>\n",
       "      <td>7.689247</td>\n",
       "      <td>4483.048164</td>\n",
       "      <td>0.107404</td>\n",
       "      <td>0.828909</td>\n",
       "      <td>2</td>\n",
       "      <td>True</td>\n",
       "      <td>15</td>\n",
       "    </tr>\n",
       "    <tr>\n",
       "      <th>2</th>\n",
       "      <td>WeightedEnsemble_L2</td>\n",
       "      <td>0.976217</td>\n",
       "      <td>r2</td>\n",
       "      <td>6.602856</td>\n",
       "      <td>363.729892</td>\n",
       "      <td>0.001299</td>\n",
       "      <td>0.168170</td>\n",
       "      <td>2</td>\n",
       "      <td>True</td>\n",
       "      <td>9</td>\n",
       "    </tr>\n",
       "    <tr>\n",
       "      <th>3</th>\n",
       "      <td>ExtraTrees_BAG_L1</td>\n",
       "      <td>0.975972</td>\n",
       "      <td>r2</td>\n",
       "      <td>0.444099</td>\n",
       "      <td>4.303341</td>\n",
       "      <td>0.444099</td>\n",
       "      <td>4.303341</td>\n",
       "      <td>1</td>\n",
       "      <td>True</td>\n",
       "      <td>5</td>\n",
       "    </tr>\n",
       "    <tr>\n",
       "      <th>4</th>\n",
       "      <td>LightGBM_BAG_L2</td>\n",
       "      <td>0.975562</td>\n",
       "      <td>r2</td>\n",
       "      <td>7.624569</td>\n",
       "      <td>4502.448296</td>\n",
       "      <td>0.042726</td>\n",
       "      <td>20.229042</td>\n",
       "      <td>2</td>\n",
       "      <td>True</td>\n",
       "      <td>10</td>\n",
       "    </tr>\n",
       "    <tr>\n",
       "      <th>5</th>\n",
       "      <td>ExtraTrees_BAG_L2</td>\n",
       "      <td>0.975457</td>\n",
       "      <td>r2</td>\n",
       "      <td>8.133215</td>\n",
       "      <td>4489.343341</td>\n",
       "      <td>0.551372</td>\n",
       "      <td>7.124086</td>\n",
       "      <td>2</td>\n",
       "      <td>True</td>\n",
       "      <td>13</td>\n",
       "    </tr>\n",
       "    <tr>\n",
       "      <th>6</th>\n",
       "      <td>XGBoost_BAG_L2</td>\n",
       "      <td>0.975453</td>\n",
       "      <td>r2</td>\n",
       "      <td>7.633135</td>\n",
       "      <td>4492.321511</td>\n",
       "      <td>0.051292</td>\n",
       "      <td>10.102257</td>\n",
       "      <td>2</td>\n",
       "      <td>True</td>\n",
       "      <td>14</td>\n",
       "    </tr>\n",
       "    <tr>\n",
       "      <th>7</th>\n",
       "      <td>CatBoost_BAG_L2</td>\n",
       "      <td>0.975029</td>\n",
       "      <td>r2</td>\n",
       "      <td>7.613669</td>\n",
       "      <td>4546.236345</td>\n",
       "      <td>0.031826</td>\n",
       "      <td>64.017091</td>\n",
       "      <td>2</td>\n",
       "      <td>True</td>\n",
       "      <td>12</td>\n",
       "    </tr>\n",
       "    <tr>\n",
       "      <th>8</th>\n",
       "      <td>RandomForest_BAG_L2</td>\n",
       "      <td>0.974747</td>\n",
       "      <td>r2</td>\n",
       "      <td>8.135152</td>\n",
       "      <td>4519.331805</td>\n",
       "      <td>0.553309</td>\n",
       "      <td>37.112550</td>\n",
       "      <td>2</td>\n",
       "      <td>True</td>\n",
       "      <td>11</td>\n",
       "    </tr>\n",
       "    <tr>\n",
       "      <th>9</th>\n",
       "      <td>NeuralNetTorch_BAG_L2</td>\n",
       "      <td>0.972902</td>\n",
       "      <td>r2</td>\n",
       "      <td>7.730273</td>\n",
       "      <td>4715.162481</td>\n",
       "      <td>0.148430</td>\n",
       "      <td>232.943227</td>\n",
       "      <td>2</td>\n",
       "      <td>True</td>\n",
       "      <td>16</td>\n",
       "    </tr>\n",
       "    <tr>\n",
       "      <th>10</th>\n",
       "      <td>RandomForest_BAG_L1</td>\n",
       "      <td>0.972585</td>\n",
       "      <td>r2</td>\n",
       "      <td>0.453107</td>\n",
       "      <td>21.441811</td>\n",
       "      <td>0.453107</td>\n",
       "      <td>21.441811</td>\n",
       "      <td>1</td>\n",
       "      <td>True</td>\n",
       "      <td>3</td>\n",
       "    </tr>\n",
       "    <tr>\n",
       "      <th>11</th>\n",
       "      <td>LightGBM_BAG_L1</td>\n",
       "      <td>0.971177</td>\n",
       "      <td>r2</td>\n",
       "      <td>6.157458</td>\n",
       "      <td>359.258382</td>\n",
       "      <td>6.157458</td>\n",
       "      <td>359.258382</td>\n",
       "      <td>1</td>\n",
       "      <td>True</td>\n",
       "      <td>2</td>\n",
       "    </tr>\n",
       "    <tr>\n",
       "      <th>12</th>\n",
       "      <td>XGBoost_BAG_L1</td>\n",
       "      <td>0.965306</td>\n",
       "      <td>r2</td>\n",
       "      <td>0.089962</td>\n",
       "      <td>19.576593</td>\n",
       "      <td>0.089962</td>\n",
       "      <td>19.576593</td>\n",
       "      <td>1</td>\n",
       "      <td>True</td>\n",
       "      <td>6</td>\n",
       "    </tr>\n",
       "    <tr>\n",
       "      <th>13</th>\n",
       "      <td>NeuralNetTorch_BAG_L1</td>\n",
       "      <td>0.964219</td>\n",
       "      <td>r2</td>\n",
       "      <td>0.149118</td>\n",
       "      <td>3272.357933</td>\n",
       "      <td>0.149118</td>\n",
       "      <td>3272.357933</td>\n",
       "      <td>1</td>\n",
       "      <td>True</td>\n",
       "      <td>8</td>\n",
       "    </tr>\n",
       "    <tr>\n",
       "      <th>14</th>\n",
       "      <td>CatBoost_BAG_L1</td>\n",
       "      <td>0.955640</td>\n",
       "      <td>r2</td>\n",
       "      <td>0.101470</td>\n",
       "      <td>804.559509</td>\n",
       "      <td>0.101470</td>\n",
       "      <td>804.559509</td>\n",
       "      <td>1</td>\n",
       "      <td>True</td>\n",
       "      <td>4</td>\n",
       "    </tr>\n",
       "    <tr>\n",
       "      <th>15</th>\n",
       "      <td>KNeighbors_BAG_L1</td>\n",
       "      <td>0.648475</td>\n",
       "      <td>r2</td>\n",
       "      <td>0.083904</td>\n",
       "      <td>0.016127</td>\n",
       "      <td>0.083904</td>\n",
       "      <td>0.016127</td>\n",
       "      <td>1</td>\n",
       "      <td>True</td>\n",
       "      <td>1</td>\n",
       "    </tr>\n",
       "    <tr>\n",
       "      <th>16</th>\n",
       "      <td>LinearModel_BAG_L1</td>\n",
       "      <td>0.367527</td>\n",
       "      <td>r2</td>\n",
       "      <td>0.102726</td>\n",
       "      <td>0.705559</td>\n",
       "      <td>0.102726</td>\n",
       "      <td>0.705559</td>\n",
       "      <td>1</td>\n",
       "      <td>True</td>\n",
       "      <td>7</td>\n",
       "    </tr>\n",
       "  </tbody>\n",
       "</table>\n",
       "</div>"
      ],
      "text/plain": [
       "                    model  score_val eval_metric  pred_time_val     fit_time  \\\n",
       "0     WeightedEnsemble_L3   0.976781          r2       7.741875  4493.483769   \n",
       "1      LinearModel_BAG_L2   0.976773          r2       7.689247  4483.048164   \n",
       "2     WeightedEnsemble_L2   0.976217          r2       6.602856   363.729892   \n",
       "3       ExtraTrees_BAG_L1   0.975972          r2       0.444099     4.303341   \n",
       "4         LightGBM_BAG_L2   0.975562          r2       7.624569  4502.448296   \n",
       "5       ExtraTrees_BAG_L2   0.975457          r2       8.133215  4489.343341   \n",
       "6          XGBoost_BAG_L2   0.975453          r2       7.633135  4492.321511   \n",
       "7         CatBoost_BAG_L2   0.975029          r2       7.613669  4546.236345   \n",
       "8     RandomForest_BAG_L2   0.974747          r2       8.135152  4519.331805   \n",
       "9   NeuralNetTorch_BAG_L2   0.972902          r2       7.730273  4715.162481   \n",
       "10    RandomForest_BAG_L1   0.972585          r2       0.453107    21.441811   \n",
       "11        LightGBM_BAG_L1   0.971177          r2       6.157458   359.258382   \n",
       "12         XGBoost_BAG_L1   0.965306          r2       0.089962    19.576593   \n",
       "13  NeuralNetTorch_BAG_L1   0.964219          r2       0.149118  3272.357933   \n",
       "14        CatBoost_BAG_L1   0.955640          r2       0.101470   804.559509   \n",
       "15      KNeighbors_BAG_L1   0.648475          r2       0.083904     0.016127   \n",
       "16     LinearModel_BAG_L1   0.367527          r2       0.102726     0.705559   \n",
       "\n",
       "    pred_time_val_marginal  fit_time_marginal  stack_level  can_infer  \\\n",
       "0                 0.001336           0.333348            3       True   \n",
       "1                 0.107404           0.828909            2       True   \n",
       "2                 0.001299           0.168170            2       True   \n",
       "3                 0.444099           4.303341            1       True   \n",
       "4                 0.042726          20.229042            2       True   \n",
       "5                 0.551372           7.124086            2       True   \n",
       "6                 0.051292          10.102257            2       True   \n",
       "7                 0.031826          64.017091            2       True   \n",
       "8                 0.553309          37.112550            2       True   \n",
       "9                 0.148430         232.943227            2       True   \n",
       "10                0.453107          21.441811            1       True   \n",
       "11                6.157458         359.258382            1       True   \n",
       "12                0.089962          19.576593            1       True   \n",
       "13                0.149118        3272.357933            1       True   \n",
       "14                0.101470         804.559509            1       True   \n",
       "15                0.083904           0.016127            1       True   \n",
       "16                0.102726           0.705559            1       True   \n",
       "\n",
       "    fit_order  \n",
       "0          17  \n",
       "1          15  \n",
       "2           9  \n",
       "3           5  \n",
       "4          10  \n",
       "5          13  \n",
       "6          14  \n",
       "7          12  \n",
       "8          11  \n",
       "9          16  \n",
       "10          3  \n",
       "11          2  \n",
       "12          6  \n",
       "13          8  \n",
       "14          4  \n",
       "15          1  \n",
       "16          7  "
      ]
     },
     "execution_count": 13,
     "metadata": {},
     "output_type": "execute_result"
    }
   ],
   "source": [
    "leaderboard"
   ]
  },
  {
   "cell_type": "code",
   "execution_count": 14,
   "id": "be47fc95",
   "metadata": {
    "execution": {
     "iopub.execute_input": "2025-02-15T01:16:33.517398Z",
     "iopub.status.busy": "2025-02-15T01:16:33.517111Z",
     "iopub.status.idle": "2025-02-15T01:16:41.789375Z",
     "shell.execute_reply": "2025-02-15T01:16:41.788451Z"
    },
    "papermill": {
     "duration": 8.283193,
     "end_time": "2025-02-15T01:16:41.790853",
     "exception": false,
     "start_time": "2025-02-15T01:16:33.507660",
     "status": "completed"
    },
    "tags": []
   },
   "outputs": [
    {
     "data": {
      "text/plain": [
       "0       0.963721\n",
       "1       0.963761\n",
       "2       0.962795\n",
       "3       0.961600\n",
       "4       0.959217\n",
       "          ...   \n",
       "1035    1.040894\n",
       "1036    1.043606\n",
       "1037    1.041471\n",
       "1038    1.038707\n",
       "1039    1.037321\n",
       "Name: UHI Index, Length: 1040, dtype: float32"
      ]
     },
     "execution_count": 14,
     "metadata": {},
     "output_type": "execute_result"
    }
   ],
   "source": [
    "predictions = predictor.predict(test)\n",
    "predictions"
   ]
  },
  {
   "cell_type": "code",
   "execution_count": 15,
   "id": "b5907b23",
   "metadata": {
    "execution": {
     "iopub.execute_input": "2025-02-15T01:16:41.809973Z",
     "iopub.status.busy": "2025-02-15T01:16:41.809720Z",
     "iopub.status.idle": "2025-02-15T01:16:41.817501Z",
     "shell.execute_reply": "2025-02-15T01:16:41.816655Z"
    },
    "papermill": {
     "duration": 0.018616,
     "end_time": "2025-02-15T01:16:41.818942",
     "exception": false,
     "start_time": "2025-02-15T01:16:41.800326",
     "status": "completed"
    },
    "tags": []
   },
   "outputs": [],
   "source": [
    "test_org['UHI Index'] = predictions\n",
    "test_org.to_csv('autogluon_niche_sub.csv', index=False)"
   ]
  },
  {
   "cell_type": "markdown",
   "id": "7d2722bc",
   "metadata": {
    "papermill": {
     "duration": 0.008585,
     "end_time": "2025-02-15T01:16:41.836585",
     "exception": false,
     "start_time": "2025-02-15T01:16:41.828000",
     "status": "completed"
    },
    "tags": []
   },
   "source": [
    "# pss5e1 submission process"
   ]
  },
  {
   "cell_type": "code",
   "execution_count": 16,
   "id": "e273bc6c",
   "metadata": {
    "execution": {
     "iopub.execute_input": "2025-02-15T01:16:41.855322Z",
     "iopub.status.busy": "2025-02-15T01:16:41.855048Z",
     "iopub.status.idle": "2025-02-15T01:16:41.858191Z",
     "shell.execute_reply": "2025-02-15T01:16:41.857480Z"
    },
    "papermill": {
     "duration": 0.013917,
     "end_time": "2025-02-15T01:16:41.859372",
     "exception": false,
     "start_time": "2025-02-15T01:16:41.845455",
     "status": "completed"
    },
    "tags": []
   },
   "outputs": [],
   "source": [
    "# def inverse_boxcox(y_transformed, lmbda):\n",
    "#     if lmbda==0:\n",
    "#         return np.exp(y_transformed)\n",
    "#     else:\n",
    "#         return np.power(y_transformed*lmbda+1, 1/lmbda)\n",
    "# # preds = inverse_quantile(preds)\n",
    "# preds = inverse_boxcox(predictions, lmbda)"
   ]
  },
  {
   "cell_type": "code",
   "execution_count": 17,
   "id": "c83bf21e",
   "metadata": {
    "execution": {
     "iopub.execute_input": "2025-02-15T01:16:41.878366Z",
     "iopub.status.busy": "2025-02-15T01:16:41.878093Z",
     "iopub.status.idle": "2025-02-15T01:16:41.881131Z",
     "shell.execute_reply": "2025-02-15T01:16:41.880463Z"
    },
    "papermill": {
     "duration": 0.013968,
     "end_time": "2025-02-15T01:16:41.882279",
     "exception": false,
     "start_time": "2025-02-15T01:16:41.868311",
     "status": "completed"
    },
    "tags": []
   },
   "outputs": [],
   "source": [
    "# sample_test = pd.read_csv('/kaggle/input/playground-series-s5e1/test.csv')\n",
    "# idx = sample_test['id']"
   ]
  },
  {
   "cell_type": "code",
   "execution_count": 18,
   "id": "c3df6788",
   "metadata": {
    "execution": {
     "iopub.execute_input": "2025-02-15T01:16:41.901382Z",
     "iopub.status.busy": "2025-02-15T01:16:41.901099Z",
     "iopub.status.idle": "2025-02-15T01:16:41.904240Z",
     "shell.execute_reply": "2025-02-15T01:16:41.903534Z"
    },
    "papermill": {
     "duration": 0.014012,
     "end_time": "2025-02-15T01:16:41.905437",
     "exception": false,
     "start_time": "2025-02-15T01:16:41.891425",
     "status": "completed"
    },
    "tags": []
   },
   "outputs": [],
   "source": [
    "# predictions_df = pd.DataFrame({\n",
    "#     'id':idx,\n",
    "#     'num_sold':preds\n",
    "# })\n",
    "# predictions_df.to_csv('submission.csv', index=False)"
   ]
  },
  {
   "cell_type": "code",
   "execution_count": null,
   "id": "877a141f",
   "metadata": {
    "papermill": {
     "duration": 0.008527,
     "end_time": "2025-02-15T01:16:41.922976",
     "exception": false,
     "start_time": "2025-02-15T01:16:41.914449",
     "status": "completed"
    },
    "tags": []
   },
   "outputs": [],
   "source": []
  }
 ],
 "metadata": {
  "kaggle": {
   "accelerator": "none",
   "dataSources": [
    {
     "databundleVersionId": 10652996,
     "sourceId": 85723,
     "sourceType": "competition"
    },
    {
     "datasetId": 6534356,
     "sourceId": 10561254,
     "sourceType": "datasetVersion"
    },
    {
     "datasetId": 6534615,
     "sourceId": 10561580,
     "sourceType": "datasetVersion"
    },
    {
     "datasetId": 6534758,
     "sourceId": 10561751,
     "sourceType": "datasetVersion"
    },
    {
     "datasetId": 6547867,
     "sourceId": 10580423,
     "sourceType": "datasetVersion"
    },
    {
     "datasetId": 6547892,
     "sourceId": 10580457,
     "sourceType": "datasetVersion"
    },
    {
     "datasetId": 6669155,
     "sourceId": 10752807,
     "sourceType": "datasetVersion"
    },
    {
     "sourceId": 221172815,
     "sourceType": "kernelVersion"
    }
   ],
   "dockerImageVersionId": 30839,
   "isGpuEnabled": false,
   "isInternetEnabled": true,
   "language": "python",
   "sourceType": "notebook"
  },
  "kernelspec": {
   "display_name": "Python 3",
   "language": "python",
   "name": "python3"
  },
  "language_info": {
   "codemirror_mode": {
    "name": "ipython",
    "version": 3
   },
   "file_extension": ".py",
   "mimetype": "text/x-python",
   "name": "python",
   "nbconvert_exporter": "python",
   "pygments_lexer": "ipython3",
   "version": "3.10.12"
  },
  "papermill": {
   "default_parameters": {},
   "duration": 10534.625361,
   "end_time": "2025-02-15T01:16:45.126010",
   "environment_variables": {},
   "exception": null,
   "input_path": "__notebook__.ipynb",
   "output_path": "__notebook__.ipynb",
   "parameters": {},
   "start_time": "2025-02-14T22:21:10.500649",
   "version": "2.6.0"
  }
 },
 "nbformat": 4,
 "nbformat_minor": 5
}
