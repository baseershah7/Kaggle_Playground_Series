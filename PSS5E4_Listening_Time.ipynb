{
 "cells": [
  {
   "cell_type": "code",
   "execution_count": 1,
   "id": "ff35527f",
   "metadata": {
    "_cell_guid": "b1076dfc-b9ad-4769-8c92-a6c4dae69d19",
    "_uuid": "8f2839f25d086af736a60e9eeb907d3b93b6e0e5",
    "execution": {
     "iopub.execute_input": "2025-07-23T18:58:35.131728Z",
     "iopub.status.busy": "2025-07-23T18:58:35.131319Z",
     "iopub.status.idle": "2025-07-23T18:58:36.093313Z",
     "shell.execute_reply": "2025-07-23T18:58:36.092224Z"
    },
    "papermill": {
     "duration": 0.97114,
     "end_time": "2025-07-23T18:58:36.095202",
     "exception": false,
     "start_time": "2025-07-23T18:58:35.124062",
     "status": "completed"
    },
    "tags": []
   },
   "outputs": [
    {
     "name": "stdout",
     "output_type": "stream",
     "text": [
      "/kaggle/input/podcast-listening-time-prediction-dataset/podcast_dataset.csv\n",
      "/kaggle/input/podcast-listening-time-prediction-dataset/podcast_dataset_info.txt\n",
      "/kaggle/input/playground-series-s5e4/sample_submission.csv\n",
      "/kaggle/input/playground-series-s5e4/train.csv\n",
      "/kaggle/input/playground-series-s5e4/test.csv\n"
     ]
    }
   ],
   "source": [
    "# This Python 3 environment comes with many helpful analytics libraries installed\n",
    "# It is defined by the kaggle/python Docker image: https://github.com/kaggle/docker-python\n",
    "# For example, here's several helpful packages to load\n",
    "\n",
    "import numpy as np # linear algebra\n",
    "import pandas as pd # data processing, CSV file I/O (e.g. pd.read_csv)\n",
    "\n",
    "# Input data files are available in the read-only \"../input/\" directory\n",
    "# For example, running this (by clicking run or pressing Shift+Enter) will list all files under the input directory\n",
    "\n",
    "import os\n",
    "for dirname, _, filenames in os.walk('/kaggle/input'):\n",
    "    for filename in filenames:\n",
    "        print(os.path.join(dirname, filename))\n",
    "\n",
    "# You can write up to 20GB to the current directory (/kaggle/working/) that gets preserved as output when you create a version using \"Save & Run All\" \n",
    "# You can also write temporary files to /kaggle/temp/, but they won't be saved outside of the current session"
   ]
  },
  {
   "cell_type": "code",
   "execution_count": 2,
   "id": "895c75f5",
   "metadata": {
    "execution": {
     "iopub.execute_input": "2025-07-23T18:58:36.108596Z",
     "iopub.status.busy": "2025-07-23T18:58:36.108104Z",
     "iopub.status.idle": "2025-07-23T18:58:39.373205Z",
     "shell.execute_reply": "2025-07-23T18:58:39.372352Z"
    },
    "papermill": {
     "duration": 3.273601,
     "end_time": "2025-07-23T18:58:39.375010",
     "exception": false,
     "start_time": "2025-07-23T18:58:36.101409",
     "status": "completed"
    },
    "tags": []
   },
   "outputs": [],
   "source": [
    "train = pd.read_csv('/kaggle/input/playground-series-s5e4/train.csv')\n",
    "train_idx = train['id']\n",
    "train.drop(columns='id', inplace=True)\n",
    "train_org = pd.read_csv('/kaggle/input/podcast-listening-time-prediction-dataset/podcast_dataset.csv')\n",
    "test = pd.read_csv('/kaggle/input/playground-series-s5e4/test.csv')\n",
    "sam_sub = pd.read_csv('/kaggle/input/playground-series-s5e4/sample_submission.csv')"
   ]
  },
  {
   "cell_type": "code",
   "execution_count": 3,
   "id": "a62bbf81",
   "metadata": {
    "execution": {
     "iopub.execute_input": "2025-07-23T18:58:39.387240Z",
     "iopub.status.busy": "2025-07-23T18:58:39.386862Z",
     "iopub.status.idle": "2025-07-23T18:58:39.446170Z",
     "shell.execute_reply": "2025-07-23T18:58:39.445116Z"
    },
    "papermill": {
     "duration": 0.067414,
     "end_time": "2025-07-23T18:58:39.448030",
     "exception": false,
     "start_time": "2025-07-23T18:58:39.380616",
     "status": "completed"
    },
    "tags": []
   },
   "outputs": [],
   "source": [
    "train_comp = pd.concat([train, train_org], axis=0)"
   ]
  },
  {
   "cell_type": "code",
   "execution_count": 4,
   "id": "5b0b772a",
   "metadata": {
    "execution": {
     "iopub.execute_input": "2025-07-23T18:58:39.459998Z",
     "iopub.status.busy": "2025-07-23T18:58:39.459668Z",
     "iopub.status.idle": "2025-07-23T18:58:39.488232Z",
     "shell.execute_reply": "2025-07-23T18:58:39.487123Z"
    },
    "papermill": {
     "duration": 0.036711,
     "end_time": "2025-07-23T18:58:39.490239",
     "exception": false,
     "start_time": "2025-07-23T18:58:39.453528",
     "status": "completed"
    },
    "tags": []
   },
   "outputs": [
    {
     "name": "stderr",
     "output_type": "stream",
     "text": [
      "/usr/local/lib/python3.10/dist-packages/pandas/io/formats/format.py:1458: RuntimeWarning: invalid value encountered in greater\n",
      "  has_large_values = (abs_vals > 1e6).any()\n",
      "/usr/local/lib/python3.10/dist-packages/pandas/io/formats/format.py:1459: RuntimeWarning: invalid value encountered in less\n",
      "  has_small_values = ((abs_vals < 10 ** (-self.digits)) & (abs_vals > 0)).any()\n",
      "/usr/local/lib/python3.10/dist-packages/pandas/io/formats/format.py:1459: RuntimeWarning: invalid value encountered in greater\n",
      "  has_small_values = ((abs_vals < 10 ** (-self.digits)) & (abs_vals > 0)).any()\n"
     ]
    },
    {
     "data": {
      "text/html": [
       "<div>\n",
       "<style scoped>\n",
       "    .dataframe tbody tr th:only-of-type {\n",
       "        vertical-align: middle;\n",
       "    }\n",
       "\n",
       "    .dataframe tbody tr th {\n",
       "        vertical-align: top;\n",
       "    }\n",
       "\n",
       "    .dataframe thead th {\n",
       "        text-align: right;\n",
       "    }\n",
       "</style>\n",
       "<table border=\"1\" class=\"dataframe\">\n",
       "  <thead>\n",
       "    <tr style=\"text-align: right;\">\n",
       "      <th></th>\n",
       "      <th>Podcast_Name</th>\n",
       "      <th>Episode_Title</th>\n",
       "      <th>Episode_Length_minutes</th>\n",
       "      <th>Genre</th>\n",
       "      <th>Host_Popularity_percentage</th>\n",
       "      <th>Publication_Day</th>\n",
       "      <th>Publication_Time</th>\n",
       "      <th>Guest_Popularity_percentage</th>\n",
       "      <th>Number_of_Ads</th>\n",
       "      <th>Episode_Sentiment</th>\n",
       "      <th>Listening_Time_minutes</th>\n",
       "    </tr>\n",
       "  </thead>\n",
       "  <tbody>\n",
       "    <tr>\n",
       "      <th>0</th>\n",
       "      <td>Mystery Matters</td>\n",
       "      <td>Episode 98</td>\n",
       "      <td>NaN</td>\n",
       "      <td>True Crime</td>\n",
       "      <td>74.81</td>\n",
       "      <td>Thursday</td>\n",
       "      <td>Night</td>\n",
       "      <td>NaN</td>\n",
       "      <td>0.0</td>\n",
       "      <td>Positive</td>\n",
       "      <td>31.41998</td>\n",
       "    </tr>\n",
       "    <tr>\n",
       "      <th>1</th>\n",
       "      <td>Joke Junction</td>\n",
       "      <td>Episode 26</td>\n",
       "      <td>119.8</td>\n",
       "      <td>Comedy</td>\n",
       "      <td>66.95</td>\n",
       "      <td>Saturday</td>\n",
       "      <td>Afternoon</td>\n",
       "      <td>75.95</td>\n",
       "      <td>2.0</td>\n",
       "      <td>Negative</td>\n",
       "      <td>88.01241</td>\n",
       "    </tr>\n",
       "    <tr>\n",
       "      <th>2</th>\n",
       "      <td>Study Sessions</td>\n",
       "      <td>Episode 16</td>\n",
       "      <td>73.9</td>\n",
       "      <td>Education</td>\n",
       "      <td>69.97</td>\n",
       "      <td>Tuesday</td>\n",
       "      <td>Evening</td>\n",
       "      <td>8.97</td>\n",
       "      <td>0.0</td>\n",
       "      <td>Negative</td>\n",
       "      <td>44.92531</td>\n",
       "    </tr>\n",
       "  </tbody>\n",
       "</table>\n",
       "</div>"
      ],
      "text/plain": [
       "      Podcast_Name Episode_Title  Episode_Length_minutes       Genre  \\\n",
       "0  Mystery Matters    Episode 98                     NaN  True Crime   \n",
       "1    Joke Junction    Episode 26                   119.8      Comedy   \n",
       "2   Study Sessions    Episode 16                    73.9   Education   \n",
       "\n",
       "   Host_Popularity_percentage Publication_Day Publication_Time  \\\n",
       "0                       74.81        Thursday            Night   \n",
       "1                       66.95        Saturday        Afternoon   \n",
       "2                       69.97         Tuesday          Evening   \n",
       "\n",
       "   Guest_Popularity_percentage  Number_of_Ads Episode_Sentiment  \\\n",
       "0                          NaN            0.0          Positive   \n",
       "1                        75.95            2.0          Negative   \n",
       "2                         8.97            0.0          Negative   \n",
       "\n",
       "   Listening_Time_minutes  \n",
       "0                31.41998  \n",
       "1                88.01241  \n",
       "2                44.92531  "
      ]
     },
     "execution_count": 4,
     "metadata": {},
     "output_type": "execute_result"
    }
   ],
   "source": [
    "train.head(3)"
   ]
  },
  {
   "cell_type": "code",
   "execution_count": 5,
   "id": "eb1e899b",
   "metadata": {
    "execution": {
     "iopub.execute_input": "2025-07-23T18:58:39.502530Z",
     "iopub.status.busy": "2025-07-23T18:58:39.502212Z",
     "iopub.status.idle": "2025-07-23T18:58:40.348718Z",
     "shell.execute_reply": "2025-07-23T18:58:40.347676Z"
    },
    "papermill": {
     "duration": 0.854608,
     "end_time": "2025-07-23T18:58:40.350416",
     "exception": false,
     "start_time": "2025-07-23T18:58:39.495808",
     "status": "completed"
    },
    "tags": []
   },
   "outputs": [
    {
     "name": "stderr",
     "output_type": "stream",
     "text": [
      "<ipython-input-5-0798abe9369f>:2: SettingWithCopyWarning: \n",
      "A value is trying to be set on a copy of a slice from a DataFrame\n",
      "\n",
      "See the caveats in the documentation: https://pandas.pydata.org/pandas-docs/stable/user_guide/indexing.html#returning-a-view-versus-a-copy\n",
      "  train_comp_enh.dropna(subset='Listening_Time_minutes', inplace=True)\n"
     ]
    }
   ],
   "source": [
    "train_comp_enh = train_comp.drop_duplicates()\n",
    "train_comp_enh.dropna(subset='Listening_Time_minutes', inplace=True)\n",
    "target = train_comp_enh['Listening_Time_minutes']"
   ]
  },
  {
   "cell_type": "code",
   "execution_count": 6,
   "id": "639009ad",
   "metadata": {
    "execution": {
     "iopub.execute_input": "2025-07-23T18:58:40.363250Z",
     "iopub.status.busy": "2025-07-23T18:58:40.362895Z",
     "iopub.status.idle": "2025-07-23T18:58:45.942756Z",
     "shell.execute_reply": "2025-07-23T18:58:45.941646Z"
    },
    "papermill": {
     "duration": 5.588174,
     "end_time": "2025-07-23T18:58:45.944413",
     "exception": false,
     "start_time": "2025-07-23T18:58:40.356239",
     "status": "completed"
    },
    "tags": []
   },
   "outputs": [
    {
     "name": "stderr",
     "output_type": "stream",
     "text": [
      "/usr/local/lib/python3.10/dist-packages/seaborn/_oldcore.py:1119: FutureWarning: use_inf_as_na option is deprecated and will be removed in a future version. Convert inf values to NaN before operating instead.\n",
      "  with pd.option_context('mode.use_inf_as_na', True):\n"
     ]
    },
    {
     "data": {
      "text/plain": [
       "<Axes: xlabel='Listening_Time_minutes', ylabel='Count'>"
      ]
     },
     "execution_count": 6,
     "metadata": {},
     "output_type": "execute_result"
    },
    {
     "data": {
      "image/png": "[encoded data removed]",
      "text/plain": [
       "<Figure size 640x480 with 1 Axes>"
      ]
     },
     "metadata": {},
     "output_type": "display_data"
    }
   ],
   "source": [
    "import seaborn as sns\n",
    "sns.histplot(target, kde=True, color='purple', bins=100)"
   ]
  },
  {
   "cell_type": "code",
   "execution_count": 7,
   "id": "294c013b",
   "metadata": {
    "execution": {
     "iopub.execute_input": "2025-07-23T18:58:45.959231Z",
     "iopub.status.busy": "2025-07-23T18:58:45.958713Z",
     "iopub.status.idle": "2025-07-23T18:58:45.962481Z",
     "shell.execute_reply": "2025-07-23T18:58:45.961633Z"
    },
    "papermill": {
     "duration": 0.012727,
     "end_time": "2025-07-23T18:58:45.963992",
     "exception": false,
     "start_time": "2025-07-23T18:58:45.951265",
     "status": "completed"
    },
    "tags": []
   },
   "outputs": [],
   "source": [
    "# train['Podcast_Name'].value_counts()"
   ]
  },
  {
   "cell_type": "code",
   "execution_count": 8,
   "id": "aa6fa934",
   "metadata": {
    "execution": {
     "iopub.execute_input": "2025-07-23T18:58:45.978529Z",
     "iopub.status.busy": "2025-07-23T18:58:45.978172Z",
     "iopub.status.idle": "2025-07-23T18:58:46.826790Z",
     "shell.execute_reply": "2025-07-23T18:58:46.825916Z"
    },
    "papermill": {
     "duration": 0.858876,
     "end_time": "2025-07-23T18:58:46.829374",
     "exception": false,
     "start_time": "2025-07-23T18:58:45.970498",
     "status": "completed"
    },
    "tags": []
   },
   "outputs": [],
   "source": [
    "from sklearn.model_selection import KFold\n",
    "from catboost import Pool\n",
    "from xgboost import DMatrix\n",
    "# from sklearn.metrics import root_mean_squared_error\n",
    "\n",
    "\n",
    "def root_mean_squared_error(y_true, y_preds):\n",
    "    return np.sqrt(((y_true-y_preds)**2).mean())\n",
    "def cv_score(X, y, model_dict, Iam=None, oof=False, folds=10, seed=1):\n",
    "    kf = KFold(n_splits=folds, shuffle=True, random_state=seed)\n",
    "    if not oof:\n",
    "        for i, (name, model) in enumerate(model_dict.items()):\n",
    "            categorical_cols_cat = X.columns\n",
    "            categorical_cols = X.select_dtypes(include=['object', 'category']).columns\n",
    "            reg_model = clone(model)\n",
    "            scores = []\n",
    "            preds = []\n",
    "            for train_idx, valid_idx in kf.split(X, y):\n",
    "                X_train, X_valid = X.iloc[train_idx], X.iloc[valid_idx]\n",
    "                y_train, y_valid = y.iloc[train_idx], y.iloc[valid_idx]\n",
    "                if name == 'cat':\n",
    "                    X_train[categorical_cols_xgb] = X_train[categorical_cols_xgb].fillna('missing')\n",
    "                    X_valid[categorical_cols_xgb] = X_valid[categorical_cols_xgb].fillna('missing')\n",
    "                    X_train[categorical_cols_xgb] = X_train[categorical_cols_xgb].astype('str').astype('category')\n",
    "                    X_valid[categorical_cols_xgb] = X_valid[categorical_cols_xgb].astype('str').astype('category')\n",
    "                    train_pool = Pool(data=X_train, label=y_train, cat_features=X_train[categorical_cols_xgb].columns.values)\n",
    "                    valid_pool = Pool(data=X_valid, cat_features=X_valid[categorical_cols_xgb].columns.values)\n",
    "                    reg_model.fit(train_pool)\n",
    "                    preds = reg_model.predict(valid_pool)\n",
    "                    score = root_mean_squared_error(y_valid, preds)\n",
    "                    scores.append(score)\n",
    "\n",
    "                elif name== 'xgb':\n",
    "                    X_train[categorical_cols] = X_train[categorical_cols].astype('str').astype('category')\n",
    "                    X_valid[categorical_cols] = X_valid[categorical_cols].astype('str').astype('category')\n",
    "                    reg_model.fit(X_train, y_train, eval_set=[(X_valid, y_valid)], verbose=False)\n",
    "                    # X_train[categorical_cols_xgb] = X_train[categorical_cols_xgb].astype('str').astype('category')\n",
    "                    # X_valid[categorical_cols_xgb] = X_valid[categorical_cols_xgb].astype('str').astype('category')\n",
    "                    \n",
    "                    # train_dmatrix = DMatrix(data=X_train, label=y_train)\n",
    "                    # valid_dmatrix = DMatrix(data=X_valid, label=y_valid)\n",
    "                    \n",
    "                    # params = {\n",
    "                    #     'objective': 'reg:squarederror',\n",
    "                    #     'eval_metric': 'rmse',\n",
    "                    # }\n",
    "                    # params = model.get('params', {})\n",
    "                    # xgb_model = xgb.train(params, train_dmatrix, num_boost_rounds=reg_model.get('num_boost_round', 100), evals=[(val_dmatrix), 'validation'])\n",
    "                    preds = reg_model.predict(X_valid)\n",
    "                    if Iam is not None:\n",
    "                        preds_inv = inv_boxcox(preds, Iam)\n",
    "                        # preds_inv = pd.Series(preds_inv)\n",
    "                        scores = root_mean_squared_error(y_valid, preds)\n",
    "                        scores.append(score)\n",
    "                    else:\n",
    "                        score = root_mean_squared_error(y_valid, preds)\n",
    "                        scores.append(score)\n",
    "\n",
    "                elif name== 'etr':\n",
    "                    X_train[categorical_cols] = X_train[categorical_cols].astype('str').astype('category')\n",
    "                    X_valid[categorical_cols] = X_valid[categorical_cols].astype('str').astype('category')\n",
    "                    o_encoder = OrdinalEncoder(handle_unknown='use_encoded_value', unknown_value=-1)\n",
    "\n",
    "                    X_train[categorical_cols] = o_encoder.fit_transform(X_train[categorical_cols])\n",
    "                    X_valid[categorical_cols] = o_encoder.transform(X_valid[categorical_cols])\n",
    "                    X_train = X_train.fillna(0)\n",
    "                    X_valid = X_valid.fillna(0)\n",
    "                    reg_model.fit(X_train, y_train)\n",
    "                    preds = reg_model.predict(X_valid)\n",
    "                    # preds = np.expm1(preds)\n",
    "                    score = root_mean_squared_error(y_valid, preds)\n",
    "                    scores.append(score)\n",
    "\n",
    "                else:\n",
    "                    X_train[categorical_cols] = X_train[categorical_cols].astype('str').astype('category')\n",
    "                    X_valid[categorical_cols] = X_valid[categorical_cols].astype('str').astype('category')\n",
    "                    reg_model.fit(X_train, y_train)\n",
    "                    if Iam is not None:\n",
    "                        preds = reg_model.predict(X_valid)\n",
    "                        preds_inv = inv_boxcox(preds, Iam)\n",
    "                        score = root_mean_squared_error(y_valid, preds_inv)\n",
    "                        scores.append(score)\n",
    "                    else:\n",
    "                        preds = reg_model.predict(X_valid)\n",
    "                        score = root_mean_squared_error(y_valid, preds)\n",
    "                        scores.append(score)\n",
    "\n",
    "            print(f'Scores for model {name} across {folds} folds :', np.mean(scores))\n",
    "            "
   ]
  },
  {
   "cell_type": "code",
   "execution_count": 9,
   "id": "49a3a31e",
   "metadata": {
    "execution": {
     "iopub.execute_input": "2025-07-23T18:58:46.849230Z",
     "iopub.status.busy": "2025-07-23T18:58:46.848864Z",
     "iopub.status.idle": "2025-07-23T18:58:46.852833Z",
     "shell.execute_reply": "2025-07-23T18:58:46.851910Z"
    },
    "papermill": {
     "duration": 0.015081,
     "end_time": "2025-07-23T18:58:46.854401",
     "exception": false,
     "start_time": "2025-07-23T18:58:46.839320",
     "status": "completed"
    },
    "tags": []
   },
   "outputs": [],
   "source": [
    "seed=1"
   ]
  },
  {
   "cell_type": "code",
   "execution_count": 10,
   "id": "46f0b3e9",
   "metadata": {
    "execution": {
     "iopub.execute_input": "2025-07-23T18:58:46.868764Z",
     "iopub.status.busy": "2025-07-23T18:58:46.868362Z",
     "iopub.status.idle": "2025-07-23T18:58:46.873680Z",
     "shell.execute_reply": "2025-07-23T18:58:46.872815Z"
    },
    "papermill": {
     "duration": 0.014084,
     "end_time": "2025-07-23T18:58:46.875178",
     "exception": false,
     "start_time": "2025-07-23T18:58:46.861094",
     "status": "completed"
    },
    "tags": []
   },
   "outputs": [],
   "source": [
    "def outliers_remover(df, features, threshold=1.5):\n",
    "    df_clean = df.copy()\n",
    "    for feature in features:\n",
    "        Q1 = df[feature].quantile(0.25)\n",
    "        Q3 = df[feature].quantile(0.75)\n",
    "\n",
    "        IQR = Q3 - Q1\n",
    "        lower = Q1 - threshold*IQR\n",
    "        upper = Q3 + threshold*IQR\n",
    "\n",
    "        mask = (df[feature]>=lower) & (df[feature]<=upper)\n",
    "        df_clean = df_clean.loc[mask]\n",
    "\n",
    "    return df_clean\n",
    "\n",
    "# train_clean = outliers_remover(train, ['Episode_Length_minutes', 'Guest_Popularity_percentage', 'Host_Popularity_percentage', 'Number_of_Ads'])\n",
    "# train_clean.shape"
   ]
  },
  {
   "cell_type": "code",
   "execution_count": 11,
   "id": "55c26a7c",
   "metadata": {
    "execution": {
     "iopub.execute_input": "2025-07-23T18:58:46.889399Z",
     "iopub.status.busy": "2025-07-23T18:58:46.889052Z",
     "iopub.status.idle": "2025-07-23T19:03:58.057977Z",
     "shell.execute_reply": "2025-07-23T19:03:58.056652Z"
    },
    "papermill": {
     "duration": 311.17798,
     "end_time": "2025-07-23T19:03:58.059744",
     "exception": false,
     "start_time": "2025-07-23T18:58:46.881764",
     "status": "completed"
    },
    "tags": []
   },
   "outputs": [
    {
     "name": "stderr",
     "output_type": "stream",
     "text": [
      "<ipython-input-11-4c6a2cfdde95>:34: PerformanceWarning: DataFrame is highly fragmented.  This is usually the result of calling `frame.insert` many times, which has poor performance.  Consider joining all columns at once using pd.concat(axis=1) instead. To get a de-fragmented frame, use `newframe = frame.copy()`\n",
      "  test[f'{col}_ce'] = test[col].map(ce_map)\n",
      "<ipython-input-11-4c6a2cfdde95>:30: PerformanceWarning: DataFrame is highly fragmented.  This is usually the result of calling `frame.insert` many times, which has poor performance.  Consider joining all columns at once using pd.concat(axis=1) instead. To get a de-fragmented frame, use `newframe = frame.copy()`\n",
      "  df[f'{col}_te'] = df[col].map(te_map)\n",
      "<ipython-input-11-4c6a2cfdde95>:31: PerformanceWarning: DataFrame is highly fragmented.  This is usually the result of calling `frame.insert` many times, which has poor performance.  Consider joining all columns at once using pd.concat(axis=1) instead. To get a de-fragmented frame, use `newframe = frame.copy()`\n",
      "  df[f'{col}_ce'] = df[col].map(ce_map)\n",
      "<ipython-input-11-4c6a2cfdde95>:33: PerformanceWarning: DataFrame is highly fragmented.  This is usually the result of calling `frame.insert` many times, which has poor performance.  Consider joining all columns at once using pd.concat(axis=1) instead. To get a de-fragmented frame, use `newframe = frame.copy()`\n",
      "  test[f'{col}_te'] = test[col].map(te_map)\n",
      "<ipython-input-11-4c6a2cfdde95>:34: PerformanceWarning: DataFrame is highly fragmented.  This is usually the result of calling `frame.insert` many times, which has poor performance.  Consider joining all columns at once using pd.concat(axis=1) instead. To get a de-fragmented frame, use `newframe = frame.copy()`\n",
      "  test[f'{col}_ce'] = test[col].map(ce_map)\n",
      "<ipython-input-11-4c6a2cfdde95>:30: PerformanceWarning: DataFrame is highly fragmented.  This is usually the result of calling `frame.insert` many times, which has poor performance.  Consider joining all columns at once using pd.concat(axis=1) instead. To get a de-fragmented frame, use `newframe = frame.copy()`\n",
      "  df[f'{col}_te'] = df[col].map(te_map)\n",
      "<ipython-input-11-4c6a2cfdde95>:31: PerformanceWarning: DataFrame is highly fragmented.  This is usually the result of calling `frame.insert` many times, which has poor performance.  Consider joining all columns at once using pd.concat(axis=1) instead. To get a de-fragmented frame, use `newframe = frame.copy()`\n",
      "  df[f'{col}_ce'] = df[col].map(ce_map)\n",
      "<ipython-input-11-4c6a2cfdde95>:33: PerformanceWarning: DataFrame is highly fragmented.  This is usually the result of calling `frame.insert` many times, which has poor performance.  Consider joining all columns at once using pd.concat(axis=1) instead. To get a de-fragmented frame, use `newframe = frame.copy()`\n",
      "  test[f'{col}_te'] = test[col].map(te_map)\n",
      "<ipython-input-11-4c6a2cfdde95>:34: PerformanceWarning: DataFrame is highly fragmented.  This is usually the result of calling `frame.insert` many times, which has poor performance.  Consider joining all columns at once using pd.concat(axis=1) instead. To get a de-fragmented frame, use `newframe = frame.copy()`\n",
      "  test[f'{col}_ce'] = test[col].map(ce_map)\n"
     ]
    }
   ],
   "source": [
    "from itertools import combinations\n",
    "\n",
    "def create_cat_features(df, combo_sizes=[2,3,4]):\n",
    "    df = df.copy(deep=False) \n",
    "    cat_cols = df.select_dtypes(include=['object', 'category']).columns\n",
    "    str_df = df[cat_cols].astype(str)\n",
    "    \n",
    "    all_combos = []\n",
    "    for r in combo_sizes:\n",
    "        all_combos.extend(combinations(cat_cols, r))\n",
    "    \n",
    "    for cols in all_combos:\n",
    "        col_name = '_'.join(cols)\n",
    "        df[col_name] = str_df[list(cols)].agg('_'.join, axis=1)\n",
    "        \n",
    "    return df\n",
    "\n",
    "def te_ce_cat_features(df, test):\n",
    "    df = df.copy()\n",
    "    test = test.copy()\n",
    "    cat_cols = df.select_dtypes(include=['object', 'category']).columns\n",
    "    # str_df = df[cat_cols].astype(str)\n",
    "\n",
    "    for col in cat_cols:\n",
    "        # mappings for categorical columns for both train and test sets\n",
    "        if df[col].nunique()>15:\n",
    "            te_map = df.groupby(col)['Listening_Time_minutes'].mean()\n",
    "            ce_map = df.groupby(col)['Listening_Time_minutes'].sum()\n",
    "\n",
    "            df[f'{col}_te'] = df[col].map(te_map)\n",
    "            df[f'{col}_ce'] = df[col].map(ce_map)\n",
    "\n",
    "            test[f'{col}_te'] = test[col].map(te_map)\n",
    "            test[f'{col}_ce'] = test[col].map(ce_map)\n",
    "\n",
    "            # for unseen categories in test set \n",
    "            global_mean = df['Listening_Time_minutes'].mean()\n",
    "            # global_count = df['Listening_Time_minutes'].sum()\n",
    "            df[f'{col}_te'] = df[f'{col}_te'].fillna(global_mean)\n",
    "            test[f'{col}_te'] = test[f'{col}_te'].fillna(global_mean)\n",
    "            test[f'{col}_ce'] = test[f'{col}_ce'].fillna(0)\n",
    "        else:\n",
    "            continue\n",
    "        \n",
    "\n",
    "    return df, test\n",
    "\n",
    "\n",
    "train_comp_enh = create_cat_features(train_comp_enh)\n",
    "test = create_cat_features(test)\n",
    "\n",
    "train_comp_enh, test = te_ce_cat_features(train_comp_enh, test)"
   ]
  },
  {
   "cell_type": "code",
   "execution_count": 12,
   "id": "a5d94fb4",
   "metadata": {
    "execution": {
     "iopub.execute_input": "2025-07-23T19:03:58.074686Z",
     "iopub.status.busy": "2025-07-23T19:03:58.074279Z",
     "iopub.status.idle": "2025-07-23T19:03:58.099709Z",
     "shell.execute_reply": "2025-07-23T19:03:58.098519Z"
    },
    "papermill": {
     "duration": 0.034674,
     "end_time": "2025-07-23T19:03:58.101348",
     "exception": false,
     "start_time": "2025-07-23T19:03:58.066674",
     "status": "completed"
    },
    "tags": []
   },
   "outputs": [
    {
     "name": "stderr",
     "output_type": "stream",
     "text": [
      "/usr/local/lib/python3.10/dist-packages/pandas/io/formats/format.py:1458: RuntimeWarning: invalid value encountered in greater\n",
      "  has_large_values = (abs_vals > 1e6).any()\n",
      "/usr/local/lib/python3.10/dist-packages/pandas/io/formats/format.py:1459: RuntimeWarning: invalid value encountered in less\n",
      "  has_small_values = ((abs_vals < 10 ** (-self.digits)) & (abs_vals > 0)).any()\n",
      "/usr/local/lib/python3.10/dist-packages/pandas/io/formats/format.py:1459: RuntimeWarning: invalid value encountered in greater\n",
      "  has_small_values = ((abs_vals < 10 ** (-self.digits)) & (abs_vals > 0)).any()\n",
      "/usr/local/lib/python3.10/dist-packages/pandas/io/formats/format.py:1458: RuntimeWarning: invalid value encountered in greater\n",
      "  has_large_values = (abs_vals > 1e6).any()\n",
      "/usr/local/lib/python3.10/dist-packages/pandas/io/formats/format.py:1459: RuntimeWarning: invalid value encountered in less\n",
      "  has_small_values = ((abs_vals < 10 ** (-self.digits)) & (abs_vals > 0)).any()\n",
      "/usr/local/lib/python3.10/dist-packages/pandas/io/formats/format.py:1459: RuntimeWarning: invalid value encountered in greater\n",
      "  has_small_values = ((abs_vals < 10 ** (-self.digits)) & (abs_vals > 0)).any()\n"
     ]
    },
    {
     "data": {
      "text/html": [
       "<div>\n",
       "<style scoped>\n",
       "    .dataframe tbody tr th:only-of-type {\n",
       "        vertical-align: middle;\n",
       "    }\n",
       "\n",
       "    .dataframe tbody tr th {\n",
       "        vertical-align: top;\n",
       "    }\n",
       "\n",
       "    .dataframe thead th {\n",
       "        text-align: right;\n",
       "    }\n",
       "</style>\n",
       "<table border=\"1\" class=\"dataframe\">\n",
       "  <thead>\n",
       "    <tr style=\"text-align: right;\">\n",
       "      <th></th>\n",
       "      <th>Podcast_Name</th>\n",
       "      <th>Episode_Title</th>\n",
       "      <th>Episode_Length_minutes</th>\n",
       "      <th>Genre</th>\n",
       "      <th>Host_Popularity_percentage</th>\n",
       "      <th>Publication_Day</th>\n",
       "      <th>Publication_Time</th>\n",
       "      <th>Guest_Popularity_percentage</th>\n",
       "      <th>Number_of_Ads</th>\n",
       "      <th>Episode_Sentiment</th>\n",
       "      <th>...</th>\n",
       "      <th>Episode_Title_Genre_Publication_Day_Publication_Time_te</th>\n",
       "      <th>Episode_Title_Genre_Publication_Day_Publication_Time_ce</th>\n",
       "      <th>Episode_Title_Genre_Publication_Day_Episode_Sentiment_te</th>\n",
       "      <th>Episode_Title_Genre_Publication_Day_Episode_Sentiment_ce</th>\n",
       "      <th>Episode_Title_Genre_Publication_Time_Episode_Sentiment_te</th>\n",
       "      <th>Episode_Title_Genre_Publication_Time_Episode_Sentiment_ce</th>\n",
       "      <th>Episode_Title_Publication_Day_Publication_Time_Episode_Sentiment_te</th>\n",
       "      <th>Episode_Title_Publication_Day_Publication_Time_Episode_Sentiment_ce</th>\n",
       "      <th>Genre_Publication_Day_Publication_Time_Episode_Sentiment_te</th>\n",
       "      <th>Genre_Publication_Day_Publication_Time_Episode_Sentiment_ce</th>\n",
       "    </tr>\n",
       "  </thead>\n",
       "  <tbody>\n",
       "    <tr>\n",
       "      <th>0</th>\n",
       "      <td>Mystery Matters</td>\n",
       "      <td>Episode 98</td>\n",
       "      <td>NaN</td>\n",
       "      <td>True Crime</td>\n",
       "      <td>74.81</td>\n",
       "      <td>Thursday</td>\n",
       "      <td>Night</td>\n",
       "      <td>NaN</td>\n",
       "      <td>0.0</td>\n",
       "      <td>Positive</td>\n",
       "      <td>...</td>\n",
       "      <td>32.994135</td>\n",
       "      <td>791.859230</td>\n",
       "      <td>39.582903</td>\n",
       "      <td>1227.070002</td>\n",
       "      <td>42.059320</td>\n",
       "      <td>2649.737137</td>\n",
       "      <td>38.358910</td>\n",
       "      <td>2915.277170</td>\n",
       "      <td>48.884186</td>\n",
       "      <td>52257.194795</td>\n",
       "    </tr>\n",
       "    <tr>\n",
       "      <th>1</th>\n",
       "      <td>Joke Junction</td>\n",
       "      <td>Episode 26</td>\n",
       "      <td>119.8</td>\n",
       "      <td>Comedy</td>\n",
       "      <td>66.95</td>\n",
       "      <td>Saturday</td>\n",
       "      <td>Afternoon</td>\n",
       "      <td>75.95</td>\n",
       "      <td>2.0</td>\n",
       "      <td>Negative</td>\n",
       "      <td>...</td>\n",
       "      <td>49.619073</td>\n",
       "      <td>1488.572203</td>\n",
       "      <td>46.428479</td>\n",
       "      <td>1857.139145</td>\n",
       "      <td>50.608281</td>\n",
       "      <td>4200.487324</td>\n",
       "      <td>46.827953</td>\n",
       "      <td>4682.795306</td>\n",
       "      <td>43.224754</td>\n",
       "      <td>43181.529250</td>\n",
       "    </tr>\n",
       "    <tr>\n",
       "      <th>2</th>\n",
       "      <td>Study Sessions</td>\n",
       "      <td>Episode 16</td>\n",
       "      <td>73.9</td>\n",
       "      <td>Education</td>\n",
       "      <td>69.97</td>\n",
       "      <td>Tuesday</td>\n",
       "      <td>Evening</td>\n",
       "      <td>8.97</td>\n",
       "      <td>0.0</td>\n",
       "      <td>Negative</td>\n",
       "      <td>...</td>\n",
       "      <td>33.650126</td>\n",
       "      <td>403.801517</td>\n",
       "      <td>38.418741</td>\n",
       "      <td>614.699850</td>\n",
       "      <td>35.485353</td>\n",
       "      <td>1206.502006</td>\n",
       "      <td>41.100653</td>\n",
       "      <td>3082.548949</td>\n",
       "      <td>43.636872</td>\n",
       "      <td>27098.497744</td>\n",
       "    </tr>\n",
       "  </tbody>\n",
       "</table>\n",
       "<p>3 rows × 163 columns</p>\n",
       "</div>"
      ],
      "text/plain": [
       "      Podcast_Name Episode_Title  Episode_Length_minutes       Genre  \\\n",
       "0  Mystery Matters    Episode 98                     NaN  True Crime   \n",
       "1    Joke Junction    Episode 26                   119.8      Comedy   \n",
       "2   Study Sessions    Episode 16                    73.9   Education   \n",
       "\n",
       "   Host_Popularity_percentage Publication_Day Publication_Time  \\\n",
       "0                       74.81        Thursday            Night   \n",
       "1                       66.95        Saturday        Afternoon   \n",
       "2                       69.97         Tuesday          Evening   \n",
       "\n",
       "   Guest_Popularity_percentage  Number_of_Ads Episode_Sentiment  ...  \\\n",
       "0                          NaN            0.0          Positive  ...   \n",
       "1                        75.95            2.0          Negative  ...   \n",
       "2                         8.97            0.0          Negative  ...   \n",
       "\n",
       "   Episode_Title_Genre_Publication_Day_Publication_Time_te  \\\n",
       "0                                          32.994135         \n",
       "1                                          49.619073         \n",
       "2                                          33.650126         \n",
       "\n",
       "  Episode_Title_Genre_Publication_Day_Publication_Time_ce  \\\n",
       "0                                         791.859230        \n",
       "1                                        1488.572203        \n",
       "2                                         403.801517        \n",
       "\n",
       "  Episode_Title_Genre_Publication_Day_Episode_Sentiment_te  \\\n",
       "0                                          39.582903         \n",
       "1                                          46.428479         \n",
       "2                                          38.418741         \n",
       "\n",
       "  Episode_Title_Genre_Publication_Day_Episode_Sentiment_ce  \\\n",
       "0                                        1227.070002         \n",
       "1                                        1857.139145         \n",
       "2                                         614.699850         \n",
       "\n",
       "  Episode_Title_Genre_Publication_Time_Episode_Sentiment_te  \\\n",
       "0                                          42.059320          \n",
       "1                                          50.608281          \n",
       "2                                          35.485353          \n",
       "\n",
       "  Episode_Title_Genre_Publication_Time_Episode_Sentiment_ce  \\\n",
       "0                                        2649.737137          \n",
       "1                                        4200.487324          \n",
       "2                                        1206.502006          \n",
       "\n",
       "  Episode_Title_Publication_Day_Publication_Time_Episode_Sentiment_te  \\\n",
       "0                                          38.358910                    \n",
       "1                                          46.827953                    \n",
       "2                                          41.100653                    \n",
       "\n",
       "  Episode_Title_Publication_Day_Publication_Time_Episode_Sentiment_ce  \\\n",
       "0                                        2915.277170                    \n",
       "1                                        4682.795306                    \n",
       "2                                        3082.548949                    \n",
       "\n",
       "  Genre_Publication_Day_Publication_Time_Episode_Sentiment_te  \\\n",
       "0                                          48.884186            \n",
       "1                                          43.224754            \n",
       "2                                          43.636872            \n",
       "\n",
       "  Genre_Publication_Day_Publication_Time_Episode_Sentiment_ce  \n",
       "0                                       52257.194795           \n",
       "1                                       43181.529250           \n",
       "2                                       27098.497744           \n",
       "\n",
       "[3 rows x 163 columns]"
      ]
     },
     "execution_count": 12,
     "metadata": {},
     "output_type": "execute_result"
    }
   ],
   "source": [
    "train_comp_enh.head(3)"
   ]
  },
  {
   "cell_type": "code",
   "execution_count": 13,
   "id": "31081871",
   "metadata": {
    "execution": {
     "iopub.execute_input": "2025-07-23T19:03:58.117047Z",
     "iopub.status.busy": "2025-07-23T19:03:58.116661Z",
     "iopub.status.idle": "2025-07-23T19:03:58.122235Z",
     "shell.execute_reply": "2025-07-23T19:03:58.121060Z"
    },
    "papermill": {
     "duration": 0.015164,
     "end_time": "2025-07-23T19:03:58.123895",
     "exception": false,
     "start_time": "2025-07-23T19:03:58.108731",
     "status": "completed"
    },
    "tags": []
   },
   "outputs": [
    {
     "name": "stdout",
     "output_type": "stream",
     "text": [
      "train shape : (794868, 163)\n",
      "test shape : (250000, 163)\n"
     ]
    }
   ],
   "source": [
    "print('train shape :', train_comp_enh.shape)\n",
    "print('test shape :', test.shape)"
   ]
  },
  {
   "cell_type": "code",
   "execution_count": 14,
   "id": "0dc87d12",
   "metadata": {
    "execution": {
     "iopub.execute_input": "2025-07-23T19:03:58.139833Z",
     "iopub.status.busy": "2025-07-23T19:03:58.139446Z",
     "iopub.status.idle": "2025-07-23T19:04:13.174837Z",
     "shell.execute_reply": "2025-07-23T19:04:13.173831Z"
    },
    "papermill": {
     "duration": 15.045517,
     "end_time": "2025-07-23T19:04:13.176736",
     "exception": false,
     "start_time": "2025-07-23T19:03:58.131219",
     "status": "completed"
    },
    "tags": []
   },
   "outputs": [],
   "source": [
    "from sklearn.ensemble import ExtraTreesRegressor\n",
    "from sklearn.base import clone\n",
    "from sklearn.preprocessing import OrdinalEncoder\n",
    "from scipy.stats import boxcox\n",
    "from scipy.special import inv_boxcox\n",
    "import xgboost as xgb\n",
    "import lightgbm as lgb\n",
    "# import catboost as cb\n",
    "model_dict = {\n",
    "    'xgb': xgb.XGBRegressor(\n",
    "        objective='reg:squarederror',\n",
    "        eval_metric='rmse',\n",
    "        tree_method='hist',\n",
    "        enable_categorical=True,\n",
    "        random_state=seed,\n",
    "        n_estimators=10000,\n",
    "    ),\n",
    "#     'cat': cb.CatBoostRegressor(\n",
    "#         iterations=1000,\n",
    "#         eval_metric='RMSE',\n",
    "#         random_state=seed,\n",
    "#         verbose=500,\n",
    "#         devices='0',\n",
    "#         task_type='GPU'\n",
    "#     ),\n",
    "    # 'lgbm': lgb.LGBMRegressor(random_state=seed,\n",
    "    #                          # device='gpu',\n",
    "    #                          # verbose=0\n",
    "    #                          ),\n",
    "     # 'etr': ExtraTreesRegressor(n_jobs=-1, random_state=seed),\n",
    "}\n",
    "\n",
    "X = train_comp_enh.drop(columns=['Listening_Time_minutes'])\n",
    "y = target.copy()\n",
    "# median_episode_length = np.median(train['Episode_Length_minutes'])\n",
    "# mean_episode_length = np.mean(train['Episode_Length_minutes'])\n",
    "# mean_guest_popularity = np.mean(train['Guest_Popularity_percentage'])\n",
    "# median_guest_popularity = np.mean(train['Guest_Popularity_percentage'])\n",
    "# X['Episode_Length_minutes'] = X['Episode_Length_minutes'].fillna(0)\n",
    "# X['Guest_Popularity_percentage'] = X['Guest_Popularity_percentage'].fillna(0)\n",
    "encoder = OrdinalEncoder(handle_unknown='use_encoded_value', unknown_value=-1)\n",
    "cat_dtypes = X.select_dtypes(include=['object', 'category']).columns\n",
    "X[cat_dtypes] = X[cat_dtypes].astype('str').astype('category')\n",
    "# X[cat_dtypes] = encoder.fit_transform(X[cat_dtypes])\n",
    "# y_transformed, Iam = boxcox(y+1)\n",
    "# print(Iam)\n",
    "# cv_score(X, y, model_dict)"
   ]
  },
  {
   "cell_type": "code",
   "execution_count": 15,
   "id": "c2a34a8d",
   "metadata": {
    "execution": {
     "iopub.execute_input": "2025-07-23T19:04:13.193558Z",
     "iopub.status.busy": "2025-07-23T19:04:13.192929Z",
     "iopub.status.idle": "2025-07-23T19:08:02.647158Z",
     "shell.execute_reply": "2025-07-23T19:08:02.645721Z"
    },
    "papermill": {
     "duration": 229.466753,
     "end_time": "2025-07-23T19:08:02.651527",
     "exception": false,
     "start_time": "2025-07-23T19:04:13.184774",
     "status": "completed"
    },
    "tags": []
   },
   "outputs": [],
   "source": [
    "train_comp_enh.to_csv('train_data_pss5e4.csv')\n",
    "test.to_csv('test_data_pss5e4.csv')"
   ]
  },
  {
   "cell_type": "code",
   "execution_count": 16,
   "id": "5fca84dd",
   "metadata": {
    "execution": {
     "iopub.execute_input": "2025-07-23T19:08:02.673025Z",
     "iopub.status.busy": "2025-07-23T19:08:02.672588Z",
     "iopub.status.idle": "2025-07-23T19:08:02.676701Z",
     "shell.execute_reply": "2025-07-23T19:08:02.675711Z"
    },
    "papermill": {
     "duration": 0.015207,
     "end_time": "2025-07-23T19:08:02.678237",
     "exception": false,
     "start_time": "2025-07-23T19:08:02.663030",
     "status": "completed"
    },
    "tags": []
   },
   "outputs": [],
   "source": [
    "# from sklearn.feature_selection import VarianceThreshold\n",
    "\n",
    "# selector = VarianceThreshold(threshold=15)\n",
    "# X_filtered = selector.fit_transform(X_new)\n",
    "\n",
    "# remaining_features = X_new.columns[selector.get_support()]\n",
    "# len(remaining_features)"
   ]
  },
  {
   "cell_type": "code",
   "execution_count": 17,
   "id": "63168806",
   "metadata": {
    "execution": {
     "iopub.execute_input": "2025-07-23T19:08:02.694594Z",
     "iopub.status.busy": "2025-07-23T19:08:02.694170Z",
     "iopub.status.idle": "2025-07-23T19:12:50.455490Z",
     "shell.execute_reply": "2025-07-23T19:12:50.454423Z"
    },
    "papermill": {
     "duration": 287.780305,
     "end_time": "2025-07-23T19:12:50.466177",
     "exception": false,
     "start_time": "2025-07-23T19:08:02.685872",
     "status": "completed"
    },
    "tags": []
   },
   "outputs": [
    {
     "name": "stderr",
     "output_type": "stream",
     "text": [
      "/usr/local/lib/python3.10/dist-packages/xgboost/core.py:160: UserWarning: [19:08:28] WARNING: /workspace/src/learner.cc:742: \n",
      "Parameters: { \"verbose\" } are not used.\n",
      "\n",
      "  warnings.warn(smsg, UserWarning)\n"
     ]
    },
    {
     "data": {
      "text/html": [
       "<style>#sk-container-id-1 {color: black;background-color: white;}#sk-container-id-1 pre{padding: 0;}#sk-container-id-1 div.sk-toggleable {background-color: white;}#sk-container-id-1 label.sk-toggleable__label {cursor: pointer;display: block;width: 100%;margin-bottom: 0;padding: 0.3em;box-sizing: border-box;text-align: center;}#sk-container-id-1 label.sk-toggleable__label-arrow:before {content: \"▸\";float: left;margin-right: 0.25em;color: #696969;}#sk-container-id-1 label.sk-toggleable__label-arrow:hover:before {color: black;}#sk-container-id-1 div.sk-estimator:hover label.sk-toggleable__label-arrow:before {color: black;}#sk-container-id-1 div.sk-toggleable__content {max-height: 0;max-width: 0;overflow: hidden;text-align: left;background-color: #f0f8ff;}#sk-container-id-1 div.sk-toggleable__content pre {margin: 0.2em;color: black;border-radius: 0.25em;background-color: #f0f8ff;}#sk-container-id-1 input.sk-toggleable__control:checked~div.sk-toggleable__content {max-height: 200px;max-width: 100%;overflow: auto;}#sk-container-id-1 input.sk-toggleable__control:checked~label.sk-toggleable__label-arrow:before {content: \"▾\";}#sk-container-id-1 div.sk-estimator input.sk-toggleable__control:checked~label.sk-toggleable__label {background-color: #d4ebff;}#sk-container-id-1 div.sk-label input.sk-toggleable__control:checked~label.sk-toggleable__label {background-color: #d4ebff;}#sk-container-id-1 input.sk-hidden--visually {border: 0;clip: rect(1px 1px 1px 1px);clip: rect(1px, 1px, 1px, 1px);height: 1px;margin: -1px;overflow: hidden;padding: 0;position: absolute;width: 1px;}#sk-container-id-1 div.sk-estimator {font-family: monospace;background-color: #f0f8ff;border: 1px dotted black;border-radius: 0.25em;box-sizing: border-box;margin-bottom: 0.5em;}#sk-container-id-1 div.sk-estimator:hover {background-color: #d4ebff;}#sk-container-id-1 div.sk-parallel-item::after {content: \"\";width: 100%;border-bottom: 1px solid gray;flex-grow: 1;}#sk-container-id-1 div.sk-label:hover label.sk-toggleable__label {background-color: #d4ebff;}#sk-container-id-1 div.sk-serial::before {content: \"\";position: absolute;border-left: 1px solid gray;box-sizing: border-box;top: 0;bottom: 0;left: 50%;z-index: 0;}#sk-container-id-1 div.sk-serial {display: flex;flex-direction: column;align-items: center;background-color: white;padding-right: 0.2em;padding-left: 0.2em;position: relative;}#sk-container-id-1 div.sk-item {position: relative;z-index: 1;}#sk-container-id-1 div.sk-parallel {display: flex;align-items: stretch;justify-content: center;background-color: white;position: relative;}#sk-container-id-1 div.sk-item::before, #sk-container-id-1 div.sk-parallel-item::before {content: \"\";position: absolute;border-left: 1px solid gray;box-sizing: border-box;top: 0;bottom: 0;left: 50%;z-index: -1;}#sk-container-id-1 div.sk-parallel-item {display: flex;flex-direction: column;z-index: 1;position: relative;background-color: white;}#sk-container-id-1 div.sk-parallel-item:first-child::after {align-self: flex-end;width: 50%;}#sk-container-id-1 div.sk-parallel-item:last-child::after {align-self: flex-start;width: 50%;}#sk-container-id-1 div.sk-parallel-item:only-child::after {width: 0;}#sk-container-id-1 div.sk-dashed-wrapped {border: 1px dashed gray;margin: 0 0.4em 0.5em 0.4em;box-sizing: border-box;padding-bottom: 0.4em;background-color: white;}#sk-container-id-1 div.sk-label label {font-family: monospace;font-weight: bold;display: inline-block;line-height: 1.2em;}#sk-container-id-1 div.sk-label-container {text-align: center;}#sk-container-id-1 div.sk-container {/* jupyter's `normalize.less` sets `[hidden] { display: none; }` but bootstrap.min.css set `[hidden] { display: none !important; }` so we also need the `!important` here to be able to override the default hidden behavior on the sphinx rendered scikit-learn.org. See: https://github.com/scikit-learn/scikit-learn/issues/21755 */display: inline-block !important;position: relative;}#sk-container-id-1 div.sk-text-repr-fallback {display: none;}</style><div id=\"sk-container-id-1\" class=\"sk-top-container\"><div class=\"sk-text-repr-fallback\"><pre>XGBRegressor(base_score=None, booster=None, callbacks=None,\n",
       "             colsample_bylevel=None, colsample_bynode=None,\n",
       "             colsample_bytree=None, device=None, early_stopping_rounds=None,\n",
       "             enable_categorical=True, eval_metric=None, feature_types=None,\n",
       "             gamma=None, grow_policy=None, importance_type=None,\n",
       "             interaction_constraints=None, learning_rate=None, max_bin=None,\n",
       "             max_cat_threshold=None, max_cat_to_onehot=None,\n",
       "             max_delta_step=None, max_depth=None, max_leaves=None,\n",
       "             min_child_weight=None, missing=nan, monotone_constraints=None,\n",
       "             multi_strategy=None, n_estimators=None, n_jobs=None,\n",
       "             num_parallel_tree=None, random_state=1, ...)</pre><b>In a Jupyter environment, please rerun this cell to show the HTML representation or trust the notebook. <br />On GitHub, the HTML representation is unable to render, please try loading this page with nbviewer.org.</b></div><div class=\"sk-container\" hidden><div class=\"sk-item\"><div class=\"sk-estimator sk-toggleable\"><input class=\"sk-toggleable__control sk-hidden--visually\" id=\"sk-estimator-id-1\" type=\"checkbox\" checked><label for=\"sk-estimator-id-1\" class=\"sk-toggleable__label sk-toggleable__label-arrow\">XGBRegressor</label><div class=\"sk-toggleable__content\"><pre>XGBRegressor(base_score=None, booster=None, callbacks=None,\n",
       "             colsample_bylevel=None, colsample_bynode=None,\n",
       "             colsample_bytree=None, device=None, early_stopping_rounds=None,\n",
       "             enable_categorical=True, eval_metric=None, feature_types=None,\n",
       "             gamma=None, grow_policy=None, importance_type=None,\n",
       "             interaction_constraints=None, learning_rate=None, max_bin=None,\n",
       "             max_cat_threshold=None, max_cat_to_onehot=None,\n",
       "             max_delta_step=None, max_depth=None, max_leaves=None,\n",
       "             min_child_weight=None, missing=nan, monotone_constraints=None,\n",
       "             multi_strategy=None, n_estimators=None, n_jobs=None,\n",
       "             num_parallel_tree=None, random_state=1, ...)</pre></div></div></div></div></div>"
      ],
      "text/plain": [
       "XGBRegressor(base_score=None, booster=None, callbacks=None,\n",
       "             colsample_bylevel=None, colsample_bynode=None,\n",
       "             colsample_bytree=None, device=None, early_stopping_rounds=None,\n",
       "             enable_categorical=True, eval_metric=None, feature_types=None,\n",
       "             gamma=None, grow_policy=None, importance_type=None,\n",
       "             interaction_constraints=None, learning_rate=None, max_bin=None,\n",
       "             max_cat_threshold=None, max_cat_to_onehot=None,\n",
       "             max_delta_step=None, max_depth=None, max_leaves=None,\n",
       "             min_child_weight=None, missing=nan, monotone_constraints=None,\n",
       "             multi_strategy=None, n_estimators=None, n_jobs=None,\n",
       "             num_parallel_tree=None, random_state=1, ...)"
      ]
     },
     "execution_count": 17,
     "metadata": {},
     "output_type": "execute_result"
    }
   ],
   "source": [
    "import lightgbm as lgb\n",
    "import xgboost as xgb\n",
    "from sklearn.ensemble import HistGradientBoostingRegressor, ExtraTreesRegressor\n",
    "from sklearn.preprocessing import OrdinalEncoder\n",
    "\n",
    "X_new = X.copy()\n",
    "# X_new = X_new.fillna(0)\n",
    "# lgb_reg = lgb.LGBMRegressor(random_state=seed)\n",
    "lgb_reg = xgb.XGBRegressor(random_state=seed, verbose=0, enable_categorical=True)\n",
    "# lgb_reg = HistGradientBoostingRegressor(random_state=seed)\n",
    "# lgb_reg = ExtraTreesRegressor(n_jobs=-1, random_state=seed)\n",
    "\n",
    "lgb_reg.fit(X_new, y)"
   ]
  },
  {
   "cell_type": "code",
   "execution_count": 18,
   "id": "0a60800b",
   "metadata": {
    "execution": {
     "iopub.execute_input": "2025-07-23T19:12:50.482874Z",
     "iopub.status.busy": "2025-07-23T19:12:50.482462Z",
     "iopub.status.idle": "2025-07-23T19:12:50.486435Z",
     "shell.execute_reply": "2025-07-23T19:12:50.485484Z"
    },
    "papermill": {
     "duration": 0.014318,
     "end_time": "2025-07-23T19:12:50.488182",
     "exception": false,
     "start_time": "2025-07-23T19:12:50.473864",
     "status": "completed"
    },
    "tags": []
   },
   "outputs": [],
   "source": [
    "# import xgboost as xgb\n",
    "# importance_scores = lgb_reg.get_booster().get_score(importance_type='weight')\n",
    "# sorted_features = sorted(importance_scores.items(), key=lambda x: x[1], reverse=True)\n",
    "\n",
    "# top_25_features = [feature[0] for feature in sorted_features[:25]]\n",
    "\n",
    "# print(\"Top 25 Features:\")\n",
    "# print(top_25_features)"
   ]
  },
  {
   "cell_type": "code",
   "execution_count": 19,
   "id": "567ed14f",
   "metadata": {
    "execution": {
     "iopub.execute_input": "2025-07-23T19:12:50.504723Z",
     "iopub.status.busy": "2025-07-23T19:12:50.504323Z",
     "iopub.status.idle": "2025-07-23T19:12:50.508103Z",
     "shell.execute_reply": "2025-07-23T19:12:50.507136Z"
    },
    "papermill": {
     "duration": 0.013894,
     "end_time": "2025-07-23T19:12:50.509847",
     "exception": false,
     "start_time": "2025-07-23T19:12:50.495953",
     "status": "completed"
    },
    "tags": []
   },
   "outputs": [],
   "source": [
    "# import matplotlib.pyplot as plt\n",
    "# fig, ax = plt.subplots(figsize=(10, 10))  \n",
    "# xgb.plot_importance(\n",
    "#     lgb_reg,\n",
    "#     ax=ax,\n",
    "#     max_num_features=25,  # Display only the top 25 features\n",
    "#     importance_type=\"weight\",  # Options: 'weight', 'gain', 'cover', 'total_gain', 'total_cover'\n",
    "# )\n",
    "# plt.title(\"XGB Top 25 Feature Importances\")\n",
    "# plt.show()"
   ]
  },
  {
   "cell_type": "code",
   "execution_count": 20,
   "id": "ddacd5bc",
   "metadata": {
    "execution": {
     "iopub.execute_input": "2025-07-23T19:12:50.528006Z",
     "iopub.status.busy": "2025-07-23T19:12:50.527493Z",
     "iopub.status.idle": "2025-07-23T19:12:50.531623Z",
     "shell.execute_reply": "2025-07-23T19:12:50.530607Z"
    },
    "papermill": {
     "duration": 0.015289,
     "end_time": "2025-07-23T19:12:50.533370",
     "exception": false,
     "start_time": "2025-07-23T19:12:50.518081",
     "status": "completed"
    },
    "tags": []
   },
   "outputs": [],
   "source": [
    "# importances = lgb_reg.feature_importances_\n",
    "# feature_names = X_new.columns  \n",
    "\n",
    "# sorted_idx = np.argsort(importances)[::-1]  \n",
    "\n",
    "# print(\"Feature ranking:\")\n",
    "# for i, idx in enumerate(sorted_idx):\n",
    "#     print(f\"{i+1}. {feature_names[idx]} ({importances[idx]:.4f})\")"
   ]
  },
  {
   "cell_type": "code",
   "execution_count": 21,
   "id": "dff9e21f",
   "metadata": {
    "execution": {
     "iopub.execute_input": "2025-07-23T19:12:50.550337Z",
     "iopub.status.busy": "2025-07-23T19:12:50.549952Z",
     "iopub.status.idle": "2025-07-23T19:12:55.497054Z",
     "shell.execute_reply": "2025-07-23T19:12:55.496144Z"
    },
    "papermill": {
     "duration": 4.95787,
     "end_time": "2025-07-23T19:12:55.499142",
     "exception": false,
     "start_time": "2025-07-23T19:12:50.541272",
     "status": "completed"
    },
    "tags": []
   },
   "outputs": [],
   "source": [
    "test[cat_dtypes] = test[cat_dtypes].astype('str').astype('category')\n",
    "# test[cat_dtypes] = encoder.transform(test[cat_dtypes])\n",
    "# test_new = test.fillna(0).copy()\n",
    "preds = lgb_reg.predict(test.drop(columns='id'))"
   ]
  },
  {
   "cell_type": "code",
   "execution_count": 22,
   "id": "8c5e80ef",
   "metadata": {
    "execution": {
     "iopub.execute_input": "2025-07-23T19:12:55.517420Z",
     "iopub.status.busy": "2025-07-23T19:12:55.517056Z",
     "iopub.status.idle": "2025-07-23T19:12:55.873546Z",
     "shell.execute_reply": "2025-07-23T19:12:55.872690Z"
    },
    "papermill": {
     "duration": 0.367333,
     "end_time": "2025-07-23T19:12:55.875425",
     "exception": false,
     "start_time": "2025-07-23T19:12:55.508092",
     "status": "completed"
    },
    "tags": []
   },
   "outputs": [],
   "source": [
    "# preds_inv = inv_boxcox(preds, Iam)\n",
    "sam_sub['Listening_Time_minutes'] = preds\n",
    "sam_sub.to_csv('submission.csv', index=False)"
   ]
  },
  {
   "cell_type": "code",
   "execution_count": 23,
   "id": "3a801c57",
   "metadata": {
    "execution": {
     "iopub.execute_input": "2025-07-23T19:12:55.892043Z",
     "iopub.status.busy": "2025-07-23T19:12:55.891688Z",
     "iopub.status.idle": "2025-07-23T19:12:55.897718Z",
     "shell.execute_reply": "2025-07-23T19:12:55.896830Z"
    },
    "papermill": {
     "duration": 0.016006,
     "end_time": "2025-07-23T19:12:55.899179",
     "exception": false,
     "start_time": "2025-07-23T19:12:55.883173",
     "status": "completed"
    },
    "tags": []
   },
   "outputs": [
    {
     "data": {
      "text/plain": [
       "array([54.464314, 19.26314 , 40.064365, ...,  6.000341, 81.743095,\n",
       "       62.222168], dtype=float32)"
      ]
     },
     "execution_count": 23,
     "metadata": {},
     "output_type": "execute_result"
    }
   ],
   "source": [
    "preds"
   ]
  },
  {
   "cell_type": "code",
   "execution_count": null,
   "id": "b2408539",
   "metadata": {
    "papermill": {
     "duration": 0.007418,
     "end_time": "2025-07-23T19:12:55.914549",
     "exception": false,
     "start_time": "2025-07-23T19:12:55.907131",
     "status": "completed"
    },
    "tags": []
   },
   "outputs": [],
   "source": []
  }
 ],
 "metadata": {
  "kaggle": {
   "accelerator": "none",
   "dataSources": [
    {
     "databundleVersionId": 11351736,
     "sourceId": 91715,
     "sourceType": "competition"
    },
    {
     "datasetId": 5656615,
     "sourceId": 9335009,
     "sourceType": "datasetVersion"
    }
   ],
   "dockerImageVersionId": 30918,
   "isGpuEnabled": false,
   "isInternetEnabled": true,
   "language": "python",
   "sourceType": "notebook"
  },
  "kernelspec": {
   "display_name": "Python 3",
   "language": "python",
   "name": "python3"
  },
  "language_info": {
   "codemirror_mode": {
    "name": "ipython",
    "version": 3
   },
   "file_extension": ".py",
   "mimetype": "text/x-python",
   "name": "python",
   "nbconvert_exporter": "python",
   "pygments_lexer": "ipython3",
   "version": "3.10.12"
  },
  "papermill": {
   "default_parameters": {},
   "duration": 867.616766,
   "end_time": "2025-07-23T19:12:59.399318",
   "environment_variables": {},
   "exception": null,
   "input_path": "__notebook__.ipynb",
   "output_path": "__notebook__.ipynb",
   "parameters": {},
   "start_time": "2025-07-23T18:58:31.782552",
   "version": "2.6.0"
  }
 },
 "nbformat": 4,
 "nbformat_minor": 5
}
