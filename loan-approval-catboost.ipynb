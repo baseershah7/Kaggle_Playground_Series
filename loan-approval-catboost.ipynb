{
 "cells": [
  {
   "cell_type": "code",
   "execution_count": 1,
   "id": "78616610",
   "metadata": {
    "_cell_guid": "b1076dfc-b9ad-4769-8c92-a6c4dae69d19",
    "_uuid": "8f2839f25d086af736a60e9eeb907d3b93b6e0e5",
    "execution": {
     "iopub.execute_input": "2024-10-18T11:28:43.170331Z",
     "iopub.status.busy": "2024-10-18T11:28:43.169937Z",
     "iopub.status.idle": "2024-10-18T11:28:49.062430Z",
     "shell.execute_reply": "2024-10-18T11:28:49.061533Z"
    },
    "papermill": {
     "duration": 5.903846,
     "end_time": "2024-10-18T11:28:49.064933",
     "exception": false,
     "start_time": "2024-10-18T11:28:43.161087",
     "status": "completed"
    },
    "tags": []
   },
   "outputs": [
    {
     "name": "stdout",
     "output_type": "stream",
     "text": [
      "/kaggle/input/playground-series-s4e10/sample_submission.csv\n",
      "/kaggle/input/playground-series-s4e10/train.csv\n",
      "/kaggle/input/playground-series-s4e10/test.csv\n",
      "/kaggle/input/loan-approval-prediction/credit_risk_dataset.csv\n"
     ]
    }
   ],
   "source": [
    "# This Python 3 environment comes with many helpful analytics libraries installed\n",
    "# It is defined by the kaggle/python Docker image: https://github.com/kaggle/docker-python\n",
    "# For example, here's several helpful packages to load\n",
    "\n",
    "import numpy as np # linear algebra\n",
    "import pandas as pd # data processing, CSV file I/O (e.g. pd.read_csv)\n",
    "import seaborn as sns\n",
    "import matplotlib.pyplot as plt\n",
    "import optuna\n",
    "# from sklearn.preprocessing import OrdinalEncoder, OneHotEncoder\n",
    "from sklearn.utils.class_weight import compute_class_weight\n",
    "import catboost as cat\n",
    "from catboost import Pool\n",
    "import lightgbm as lgb\n",
    "from sklearn.model_selection import train_test_split, KFold, StratifiedKFold, cross_val_score\n",
    "from sklearn.metrics import roc_auc_score\n",
    "\n",
    "# Input data files are available in the read-only \"../input/\" directory\n",
    "# For example, running this (by clicking run or pressing Shift+Enter) will list all files under the input directory\n",
    "\n",
    "import os\n",
    "for dirname, _, filenames in os.walk('/kaggle/input'):\n",
    "    for filename in filenames:\n",
    "        print(os.path.join(dirname, filename))\n",
    "\n",
    "# You can write up to 20GB to the current directory (/kaggle/working/) that gets preserved as output when you create a version using \"Save & Run All\" \n",
    "# You can also write temporary files to /kaggle/temp/, but they won't be saved outside of the current session"
   ]
  },
  {
   "cell_type": "code",
   "execution_count": 2,
   "id": "3ae988db",
   "metadata": {
    "execution": {
     "iopub.execute_input": "2024-10-18T11:28:49.079751Z",
     "iopub.status.busy": "2024-10-18T11:28:49.079165Z",
     "iopub.status.idle": "2024-10-18T11:29:01.350495Z",
     "shell.execute_reply": "2024-10-18T11:29:01.349113Z"
    },
    "papermill": {
     "duration": 12.280945,
     "end_time": "2024-10-18T11:29:01.352678",
     "exception": false,
     "start_time": "2024-10-18T11:28:49.071733",
     "status": "completed"
    },
    "tags": []
   },
   "outputs": [
    {
     "name": "stdout",
     "output_type": "stream",
     "text": [
      "Requirement already satisfied: catboost in /opt/conda/lib/python3.10/site-packages (1.2.7)\r\n",
      "Requirement already satisfied: graphviz in /opt/conda/lib/python3.10/site-packages (from catboost) (0.20.3)\r\n",
      "Requirement already satisfied: matplotlib in /opt/conda/lib/python3.10/site-packages (from catboost) (3.7.5)\r\n",
      "Requirement already satisfied: numpy<2.0,>=1.16.0 in /opt/conda/lib/python3.10/site-packages (from catboost) (1.26.4)\r\n",
      "Requirement already satisfied: pandas>=0.24 in /opt/conda/lib/python3.10/site-packages (from catboost) (2.2.2)\r\n",
      "Requirement already satisfied: scipy in /opt/conda/lib/python3.10/site-packages (from catboost) (1.14.1)\r\n",
      "Requirement already satisfied: plotly in /opt/conda/lib/python3.10/site-packages (from catboost) (5.22.0)\r\n",
      "Requirement already satisfied: six in /opt/conda/lib/python3.10/site-packages (from catboost) (1.16.0)\r\n",
      "Requirement already satisfied: python-dateutil>=2.8.2 in /opt/conda/lib/python3.10/site-packages (from pandas>=0.24->catboost) (2.9.0.post0)\r\n",
      "Requirement already satisfied: pytz>=2020.1 in /opt/conda/lib/python3.10/site-packages (from pandas>=0.24->catboost) (2024.1)\r\n",
      "Requirement already satisfied: tzdata>=2022.7 in /opt/conda/lib/python3.10/site-packages (from pandas>=0.24->catboost) (2024.1)\r\n",
      "Requirement already satisfied: contourpy>=1.0.1 in /opt/conda/lib/python3.10/site-packages (from matplotlib->catboost) (1.2.1)\r\n",
      "Requirement already satisfied: cycler>=0.10 in /opt/conda/lib/python3.10/site-packages (from matplotlib->catboost) (0.12.1)\r\n",
      "Requirement already satisfied: fonttools>=4.22.0 in /opt/conda/lib/python3.10/site-packages (from matplotlib->catboost) (4.53.0)\r\n",
      "Requirement already satisfied: kiwisolver>=1.0.1 in /opt/conda/lib/python3.10/site-packages (from matplotlib->catboost) (1.4.5)\r\n",
      "Requirement already satisfied: packaging>=20.0 in /opt/conda/lib/python3.10/site-packages (from matplotlib->catboost) (21.3)\r\n",
      "Requirement already satisfied: pillow>=6.2.0 in /opt/conda/lib/python3.10/site-packages (from matplotlib->catboost) (10.3.0)\r\n",
      "Requirement already satisfied: pyparsing>=2.3.1 in /opt/conda/lib/python3.10/site-packages (from matplotlib->catboost) (3.1.2)\r\n",
      "Requirement already satisfied: tenacity>=6.2.0 in /opt/conda/lib/python3.10/site-packages (from plotly->catboost) (8.3.0)\r\n",
      "Note: you may need to restart the kernel to use updated packages.\n"
     ]
    }
   ],
   "source": [
    "pip install --upgrade catboost"
   ]
  },
  {
   "cell_type": "code",
   "execution_count": 3,
   "id": "d7db85b0",
   "metadata": {
    "execution": {
     "iopub.execute_input": "2024-10-18T11:29:01.368512Z",
     "iopub.status.busy": "2024-10-18T11:29:01.368123Z",
     "iopub.status.idle": "2024-10-18T11:29:01.671204Z",
     "shell.execute_reply": "2024-10-18T11:29:01.670375Z"
    },
    "papermill": {
     "duration": 0.313667,
     "end_time": "2024-10-18T11:29:01.673581",
     "exception": false,
     "start_time": "2024-10-18T11:29:01.359914",
     "status": "completed"
    },
    "tags": []
   },
   "outputs": [],
   "source": [
    "train = pd.read_csv('/kaggle/input/playground-series-s4e10/train.csv')\n",
    "test = pd.read_csv('/kaggle/input/playground-series-s4e10/test.csv')\n",
    "original = pd.read_csv('/kaggle/input/loan-approval-prediction/credit_risk_dataset.csv')\n",
    "original.dropna(subset=['person_emp_length', 'loan_int_rate'], inplace=True)"
   ]
  },
  {
   "cell_type": "code",
   "execution_count": 4,
   "id": "36f2184e",
   "metadata": {
    "execution": {
     "iopub.execute_input": "2024-10-18T11:29:01.690303Z",
     "iopub.status.busy": "2024-10-18T11:29:01.689999Z",
     "iopub.status.idle": "2024-10-18T11:29:01.702218Z",
     "shell.execute_reply": "2024-10-18T11:29:01.701350Z"
    },
    "papermill": {
     "duration": 0.022302,
     "end_time": "2024-10-18T11:29:01.704348",
     "exception": false,
     "start_time": "2024-10-18T11:29:01.682046",
     "status": "completed"
    },
    "tags": []
   },
   "outputs": [],
   "source": [
    "train.drop(columns='id', inplace=True)\n",
    "idx = test['id']\n",
    "test.drop(columns='id', inplace=True)"
   ]
  },
  {
   "cell_type": "code",
   "execution_count": 5,
   "id": "409ca3d0",
   "metadata": {
    "execution": {
     "iopub.execute_input": "2024-10-18T11:29:01.719412Z",
     "iopub.status.busy": "2024-10-18T11:29:01.719110Z",
     "iopub.status.idle": "2024-10-18T11:29:01.730461Z",
     "shell.execute_reply": "2024-10-18T11:29:01.729769Z"
    },
    "papermill": {
     "duration": 0.020898,
     "end_time": "2024-10-18T11:29:01.732291",
     "exception": false,
     "start_time": "2024-10-18T11:29:01.711393",
     "status": "completed"
    },
    "tags": []
   },
   "outputs": [],
   "source": [
    "training_data = pd.concat([train, original], axis=0)"
   ]
  },
  {
   "cell_type": "code",
   "execution_count": 6,
   "id": "a95f0740",
   "metadata": {
    "execution": {
     "iopub.execute_input": "2024-10-18T11:29:01.747568Z",
     "iopub.status.busy": "2024-10-18T11:29:01.747238Z",
     "iopub.status.idle": "2024-10-18T11:29:02.333148Z",
     "shell.execute_reply": "2024-10-18T11:29:02.332125Z"
    },
    "papermill": {
     "duration": 0.596397,
     "end_time": "2024-10-18T11:29:02.335578",
     "exception": false,
     "start_time": "2024-10-18T11:29:01.739181",
     "status": "completed"
    },
    "tags": []
   },
   "outputs": [],
   "source": [
    "### new features combination 1\n",
    "\n",
    "# def new_features(combined_df):\n",
    "#     combined_df['loan_to_income'] = ((combined_df['loan_amnt'] / combined_df['person_income']) - combined_df['loan_percent_income']).astype('string').astype('category')\n",
    "#     combined_df['age_income_interaction'] = (combined_df['person_age'] * combined_df['person_income']).astype('string').astype('category')\n",
    "#     combined_df['loan_to_emp_length_ratio'] = (combined_df['loan_amnt'] / combined_df['person_emp_length'].replace({'None': original['person_emp_length'].mean()}).astype('float')).astype('string').astype('category')\n",
    "#     monthly_income = combined_df['person_income'] / 12\n",
    "#     combined_df['monthly_debt'] = (combined_df['loan_amnt'] * (1 + combined_df['loan_int_rate'].replace({'None': original['loan_int_rate'].mean()})) / 12)\n",
    "#     combined_df['dti_ratio'] = (combined_df['monthly_debt'] / monthly_income).astype('string').astype('category')\n",
    "#     combined_df['monthly_debt'] = combined_df['monthly_debt'].astype('string').astype('category')\n",
    "#     combined_df['risk_flag'] = (np.where((combined_df['cb_person_default_on_file'] == 'Y') & (combined_df['loan_grade'].isin(['C', 'D', 'E'])), 1, 0))\n",
    "#     combined_df['risk_flag'] = combined_df['risk_flag'].astype('category')\n",
    "#     combined_df['person_home_ownership'] = combined_df['person_home_ownership'].astype('category')\n",
    "#     combined_df['loan_intent'] = combined_df['loan_intent'].astype('category')\n",
    "#     combined_df['loan_grade'] = combined_df['loan_grade'].astype('category')\n",
    "#     combined_df['cb_person_default_on_file'] = combined_df['cb_person_default_on_file'].astype('category')\n",
    "#     combined_df['person_emp_length'] = combined_df['person_emp_length'].astype('string').astype('category')\n",
    "#     combined_df['loan_int_rate'] = (combined_df['loan_int_rate'] * 100).astype('string').astype('category')\n",
    "#     combined_df['loan_percent_income'] = (combined_df['loan_percent_income'] * 100).astype('string').astype('category')\n",
    "#     return combined_df\n",
    "\n",
    "### new features combination 2\n",
    "\n",
    "# def new_features(df):\n",
    "#     # Calculate mean values for columns with 'None' values\n",
    "#     emp_length_mean = df['person_emp_length'].replace('None', np.nan).astype(float).mean()\n",
    "#     int_rate_mean = df['loan_int_rate'].replace('None', np.nan).astype(float).mean()\n",
    "\n",
    "#     # Create new features\n",
    "#     df['loan_to_income'] = ((df['loan_amnt'].astype(float) / df['person_income'].astype(float)) - df['loan_percent_income']).astype(float)\n",
    "#     df['age_income_interaction'] = (df['person_age'].astype(float) * df['person_income'].astype(float))\n",
    "#     df['loan_to_emp_length_ratio'] = (df['loan_amnt'].astype(float) / df['person_emp_length'].replace({'None': emp_length_mean}).astype(float))\n",
    "\n",
    "#     monthly_income = df['person_income'].astype(float) / 12\n",
    "#     df['monthly_debt'] = (df['loan_amnt'].astype(float) * (1 + df['loan_int_rate'].replace({'None': int_rate_mean}).astype(float)) / 12)\n",
    "#     df['dti_ratio'] = (df['monthly_debt'] / monthly_income)\n",
    "    \n",
    "#     df['risk_flag'] = np.where((df['cb_person_default_on_file'] == 'Y') & (df['loan_grade'].isin(['C', 'D', 'E'])), 1, 0)\n",
    "#     df['risk_flag'] = df['risk_flag'].astype('category')\n",
    "\n",
    "#     # New features implementation\n",
    "#     df['income_to_age_ratio'] = df['person_income'].astype(float) / df['person_age'].astype(float)\n",
    "    \n",
    "#     df['income_stability_flag'] = np.where((df['person_home_ownership'] != 'RENT') & (df['person_emp_length'].astype(float) > 5), 1, 0)\n",
    "#     df['income_stability_flag'] = df['income_stability_flag'].astype('category')\n",
    "\n",
    "#     df['interest_to_loan_ratio'] = df['loan_int_rate'].astype(float) / df['loan_amnt'].astype(float)\n",
    "\n",
    "#     df['employment_stability'] = np.where(df['person_emp_length'].astype(float) > 5, 'Stable', 'Unstable')\n",
    "#     df['employment_stability'] = df['employment_stability'].astype('category')\n",
    "\n",
    "#     df['loan_grade_risk_flag'] = np.where((df['loan_grade'].isin(['C', 'D', 'E'])) & (df['cb_person_default_on_file'] == 'Y'), 1, 0)\n",
    "#     df['loan_grade_risk_flag'] = df['loan_grade_risk_flag'].astype('category')\n",
    "\n",
    "#     df['debt_burden'] = df['monthly_debt'] / monthly_income\n",
    "\n",
    "#     df['short_term_loan_flag'] = np.where((df['person_emp_length'].astype(float) < 1) & (df['loan_amnt'].astype(float) > 10000), 1, 0)\n",
    "#     df['short_term_loan_flag'] = df['short_term_loan_flag'].astype('category')\n",
    "\n",
    "#     # Convert other columns to categorical\n",
    "#     df['person_home_ownership'] = df['person_home_ownership'].astype('category')\n",
    "#     df['loan_intent'] = df['loan_intent'].astype('category')\n",
    "#     df['loan_grade'] = df['loan_grade'].astype('category')\n",
    "#     df['cb_person_default_on_file'] = df['cb_person_default_on_file'].astype('category')\n",
    "#     df['person_emp_length'] = df['person_emp_length'].astype(str).astype('category')\n",
    "#     df['loan_int_rate'] = (df['loan_int_rate'].astype(float) * 100).astype(str).astype('category')\n",
    "#     df['loan_percent_income'] = (df['loan_percent_income'].astype(float) * 100).astype(str).astype('category')\n",
    "    \n",
    "#     return df\n",
    "\n",
    "### artificial features combination 3\n",
    "\n",
    "def new_features(df):\n",
    "    # Calculate mean values for columns with 'None' values\n",
    "    emp_length_mean = df['person_emp_length'].replace('None', np.nan).astype(float).mean()\n",
    "    int_rate_mean = df['loan_int_rate'].replace('None', np.nan).astype(float).mean()\n",
    "\n",
    "    # Create new categorical features\n",
    "    df['employment_stability'] = np.where(df['person_emp_length'].astype(float) > 5, 'Stable', 'Unstable')\n",
    "    df['employment_stability'] = df['employment_stability'].astype('category')\n",
    "\n",
    "    # Loan amount categories\n",
    "    df['loan_amount_category'] = pd.cut(df['loan_amnt'].astype(float), bins=[0, 5000, 15000, 300000], \n",
    "                                        labels=['Small Loan', 'Medium Loan', 'Large Loan'])\n",
    "    df['loan_amount_category'] = df['loan_amount_category'].astype('category')\n",
    "\n",
    "    # Income level categories\n",
    "    df['income_level'] = pd.cut(df['person_income'].astype(float), bins=[0, 40000, 75000, 60000000], \n",
    "                                labels=['Low Income', 'Middle Income', 'High Income'])\n",
    "    df['income_level'] = df['income_level'].astype('category')\n",
    "\n",
    "    # Debt burden categories\n",
    "    df['debt_burden_level'] = pd.cut(df['loan_percent_income'].astype(float), bins=[-0.1, 0.1, 0.25, 1], \n",
    "                                     labels=['Low Risk', 'Moderate Risk', 'High Risk'])\n",
    "    df['debt_burden_level'] = df['debt_burden_level'].astype('category')\n",
    "\n",
    "    # Age group categories\n",
    "    df['age_group'] = pd.cut(df['person_age'].astype(float), bins=[18, 30, 50, 150], \n",
    "                             labels=['Young', 'Middle-aged', 'Old'])\n",
    "    df['age_group'] = df['age_group'].astype('category')\n",
    "\n",
    "    # Interest rate categories\n",
    "    df['interest_rate_category'] = pd.cut(df['loan_int_rate'].astype(float), bins=[-0.1, 7.0, 15.0, 30], \n",
    "                                          labels=['Low Interest', 'Medium Interest', 'High Interest'])\n",
    "    df['interest_rate_category'] = df['interest_rate_category'].astype('category')\n",
    "\n",
    "    # High-interest risk flag\n",
    "    df['high_interest_risk'] = np.where((df['loan_int_rate'].astype(float) > 15) & \n",
    "                                        (df['cb_person_default_on_file'] == 'Y'), 'High Risk', 'Low Risk')\n",
    "    df['high_interest_risk'] = df['high_interest_risk'].astype('category')\n",
    "\n",
    "    # Income stability flag based on home ownership and loan grade\n",
    "    df['income_stability_loan_grade'] = np.where((df['person_home_ownership'] != 'RENT') & \n",
    "                                                 (df['loan_grade'].isin(['A', 'B'])), 'Safe', 'Unsafe')\n",
    "    df['income_stability_loan_grade'] = df['income_stability_loan_grade'].astype('category')\n",
    "\n",
    "    # Employment length categories\n",
    "    df['employment_length_category'] = pd.cut(df['person_emp_length'].astype(float), bins=[-0.1, 1, 5, 10, 130], \n",
    "                                              labels=['Very Short', 'Short', 'Medium', 'Long'])\n",
    "    df['employment_length_category'] = df['employment_length_category'].astype('category')\n",
    "\n",
    "    # loan_flag\n",
    "    df['short_term_loan_flag'] = np.where((df['person_emp_length'].astype(float) < 1) & (df['loan_amnt'].astype(float) > 10000), 1, 0)\n",
    "    df['short_term_loan_flag'] = df['short_term_loan_flag'].astype('category')\n",
    "\n",
    "    df['loan_grade_risk_flag'] = np.where((df['loan_grade'].isin(['C', 'D', 'E'])) & (df['cb_person_default_on_file'] == 'Y'), 1, 0)\n",
    "    df['loan_grade_risk_flag'] = df['loan_grade_risk_flag'].astype('category')\n",
    "\n",
    "    # \n",
    "    # Convert other columns to categorical\n",
    "    df['person_home_ownership'] = df['person_home_ownership'].astype('category')\n",
    "    df['loan_intent'] = df['loan_intent'].astype('category')\n",
    "    df['loan_grade'] = df['loan_grade'].astype('category')\n",
    "    df['cb_person_default_on_file'] = df['cb_person_default_on_file'].astype('category')\n",
    "    df['person_emp_length'] = df['person_emp_length'].astype(str).astype('category')\n",
    "    df['loan_int_rate'] = (df['loan_int_rate'].astype(float) * 100).astype(str).astype('category')\n",
    "    df['loan_percent_income'] = (df['loan_percent_income'].astype(float) * 100).astype(str).astype('category')\n",
    "    \n",
    "    return df\n",
    "\n",
    "\n",
    "training_data = new_features(training_data)\n",
    "test = new_features(test)"
   ]
  },
  {
   "cell_type": "code",
   "execution_count": 7,
   "id": "b40f45e5",
   "metadata": {
    "execution": {
     "iopub.execute_input": "2024-10-18T11:29:02.350830Z",
     "iopub.status.busy": "2024-10-18T11:29:02.350490Z",
     "iopub.status.idle": "2024-10-18T11:29:02.354819Z",
     "shell.execute_reply": "2024-10-18T11:29:02.353922Z"
    },
    "papermill": {
     "duration": 0.013966,
     "end_time": "2024-10-18T11:29:02.356695",
     "exception": false,
     "start_time": "2024-10-18T11:29:02.342729",
     "status": "completed"
    },
    "tags": []
   },
   "outputs": [],
   "source": [
    "features = test.columns.to_list()\n",
    "target='loan_status'\n",
    "# features.remove(target)"
   ]
  },
  {
   "cell_type": "code",
   "execution_count": 8,
   "id": "384a5304",
   "metadata": {
    "execution": {
     "iopub.execute_input": "2024-10-18T11:29:02.371422Z",
     "iopub.status.busy": "2024-10-18T11:29:02.371153Z",
     "iopub.status.idle": "2024-10-18T11:29:03.177974Z",
     "shell.execute_reply": "2024-10-18T11:29:03.177179Z"
    },
    "papermill": {
     "duration": 0.816749,
     "end_time": "2024-10-18T11:29:03.180299",
     "exception": false,
     "start_time": "2024-10-18T11:29:02.363550",
     "status": "completed"
    },
    "tags": []
   },
   "outputs": [],
   "source": [
    "training_data[features] = training_data[features].astype(str).astype('category')\n",
    "test[features] = test[features].astype(str).astype('category')"
   ]
  },
  {
   "cell_type": "code",
   "execution_count": 9,
   "id": "56ea6b2e",
   "metadata": {
    "execution": {
     "iopub.execute_input": "2024-10-18T11:29:03.195762Z",
     "iopub.status.busy": "2024-10-18T11:29:03.195406Z",
     "iopub.status.idle": "2024-10-18T11:29:03.201076Z",
     "shell.execute_reply": "2024-10-18T11:29:03.200324Z"
    },
    "papermill": {
     "duration": 0.015501,
     "end_time": "2024-10-18T11:29:03.203068",
     "exception": false,
     "start_time": "2024-10-18T11:29:03.187567",
     "status": "completed"
    },
    "tags": []
   },
   "outputs": [],
   "source": [
    "loan_status = training_data.pop(target)\n",
    "training_data['loan_status'] = loan_status"
   ]
  },
  {
   "cell_type": "code",
   "execution_count": 10,
   "id": "0e6f8630",
   "metadata": {
    "execution": {
     "iopub.execute_input": "2024-10-18T11:29:03.218163Z",
     "iopub.status.busy": "2024-10-18T11:29:03.217854Z",
     "iopub.status.idle": "2024-10-18T11:29:03.221573Z",
     "shell.execute_reply": "2024-10-18T11:29:03.220740Z"
    },
    "papermill": {
     "duration": 0.013236,
     "end_time": "2024-10-18T11:29:03.223436",
     "exception": false,
     "start_time": "2024-10-18T11:29:03.210200",
     "status": "completed"
    },
    "tags": []
   },
   "outputs": [],
   "source": [
    "# cat_features_indices = [training_data.columns.get_loc(col) for col in features if training_data[col].dtype.name == 'category']\n",
    "# # cat_features_indices.extend([12,13,14,15,16,17])\n",
    "# cat_features_indices"
   ]
  },
  {
   "cell_type": "code",
   "execution_count": 11,
   "id": "f78ce0b8",
   "metadata": {
    "execution": {
     "iopub.execute_input": "2024-10-18T11:29:03.238128Z",
     "iopub.status.busy": "2024-10-18T11:29:03.237860Z",
     "iopub.status.idle": "2024-10-18T11:29:03.306482Z",
     "shell.execute_reply": "2024-10-18T11:29:03.305704Z"
    },
    "papermill": {
     "duration": 0.078585,
     "end_time": "2024-10-18T11:29:03.308856",
     "exception": false,
     "start_time": "2024-10-18T11:29:03.230271",
     "status": "completed"
    },
    "tags": []
   },
   "outputs": [],
   "source": [
    "train_data = Pool(data=training_data[features], label=training_data[target], cat_features=training_data[features].columns.values)\n",
    "test_data  = Pool(data=test[features], cat_features=test[features].columns.values)"
   ]
  },
  {
   "cell_type": "code",
   "execution_count": 12,
   "id": "da251a4b",
   "metadata": {
    "execution": {
     "iopub.execute_input": "2024-10-18T11:29:03.324257Z",
     "iopub.status.busy": "2024-10-18T11:29:03.323931Z",
     "iopub.status.idle": "2024-10-18T11:29:03.328211Z",
     "shell.execute_reply": "2024-10-18T11:29:03.327363Z"
    },
    "papermill": {
     "duration": 0.01408,
     "end_time": "2024-10-18T11:29:03.330162",
     "exception": false,
     "start_time": "2024-10-18T11:29:03.316082",
     "status": "completed"
    },
    "tags": []
   },
   "outputs": [],
   "source": [
    "# def cv_score(model, seed=42):\n",
    "#     kf = StratifiedKFold(n_splits=5, shuffle=True, random_state=seed)\n",
    "#     for fold, (train_idx, valid_idx) in enumerate(kf.split(training_data[features], training_data[target])):\n",
    "#         print(f' current fold {fold+1}')\n",
    "#         X_train, X_valid = training_data.iloc[train_idx][features], training_data.iloc[valid_idx][features]\n",
    "#         y_train, y_valid = training_data.iloc[train_idx][target], training_data.iloc[valid_idx][target]\n",
    "#         train_pool = Pool(data=X_train, label=y_train, cat_features=X_train.columns.values)\n",
    "#         valid_pool = Pool(data=X_valid, cat_features=X_valid.columns.values)\n",
    "#         model.fit(train_pool, eval_set=valid_pool, use_best_model=True, verbose=100)\n",
    "#         valid_preds = model.predict_proba(valid_pool)[:,1]\n",
    "#         score = roc_auc_score(y_valid, valid_preds)\n",
    "#         print(f'score for fold {fold+1} :', score)"
   ]
  },
  {
   "cell_type": "code",
   "execution_count": 13,
   "id": "c4a2e2fa",
   "metadata": {
    "execution": {
     "iopub.execute_input": "2024-10-18T11:29:03.344825Z",
     "iopub.status.busy": "2024-10-18T11:29:03.344524Z",
     "iopub.status.idle": "2024-10-18T11:29:03.348995Z",
     "shell.execute_reply": "2024-10-18T11:29:03.347987Z"
    },
    "papermill": {
     "duration": 0.013986,
     "end_time": "2024-10-18T11:29:03.350965",
     "exception": false,
     "start_time": "2024-10-18T11:29:03.336979",
     "status": "completed"
    },
    "tags": []
   },
   "outputs": [],
   "source": [
    "# model = cat.CatBoostClassifier(iterations=2000, learning_rate=0.1, random_state=42, eval_metric='AUC')\n",
    "# cv_score(model)\n",
    "\n",
    "# model = cat.CatBoostClassifier(**{'learning_rate': 0.019914086642922255,\n",
    "#                                    'l2_leaf_reg': 0.5965527914059113,\n",
    "#                                    'bagging_temperature': 0.21414550710980085,\n",
    "#                                    'random_strength': 0.528432916293001,\n",
    "#                                    'depth': 5,\n",
    "#                                    'min_data_in_leaf': 132,\n",
    "#                                    'objective': 'Logloss',\n",
    "#                                    'eval_metric': \"AUC\",\n",
    "#                                    'verbose': 0,\n",
    "#                                    'random_state': 42,\n",
    "#                                    'early_stopping_rounds': 200,\n",
    "#                                    'n_estimators': 5000,\n",
    "#                                    'scale_pos_weight': 4.997594997594998,\n",
    "#                                   })"
   ]
  },
  {
   "cell_type": "code",
   "execution_count": 14,
   "id": "bec29241",
   "metadata": {
    "execution": {
     "iopub.execute_input": "2024-10-18T11:29:03.365897Z",
     "iopub.status.busy": "2024-10-18T11:29:03.365623Z",
     "iopub.status.idle": "2024-10-18T11:29:03.373322Z",
     "shell.execute_reply": "2024-10-18T11:29:03.372515Z"
    },
    "papermill": {
     "duration": 0.017499,
     "end_time": "2024-10-18T11:29:03.375207",
     "exception": false,
     "start_time": "2024-10-18T11:29:03.357708",
     "status": "completed"
    },
    "tags": []
   },
   "outputs": [],
   "source": [
    "# import optuna\n",
    "# import catboost as cat\n",
    "# from catboost import Pool\n",
    "\n",
    "# # Define the objective function for Optuna\n",
    "# def objective(trial):\n",
    "#     # Define the parameter search space\n",
    "#     # param = {\n",
    "#     #     'learning_rate': trial.suggest_loguniform('learning_rate', 0.001, 0.1),\n",
    "#     #     'l2_leaf_reg': trial.suggest_loguniform('l2_leaf_reg', 1e-3, 10.0),  # L2 regularization, including 0 for no regularization\n",
    "#     #     'l1_leaf_reg': trial.suggest_loguniform('l1_leaf_reg', 1e-3, 5.0),  # L1 regularization\n",
    "#     #     'bagging_temperature': trial.suggest_uniform('bagging_temperature', 0.0, 1.0),\n",
    "#     #     'random_strength': trial.suggest_uniform('random_strength', 0.0, 2.0),\n",
    "#     #     'rsm': trial.suggest_uniform('rsm', 0.5, 1.0),  # Random subspace method (like feature_fraction)\n",
    "#     #     'depth': trial.suggest_int('depth', 3, 10),\n",
    "#     #     'min_data_in_leaf': trial.suggest_int('min_data_in_leaf', 1, 200),\n",
    "#     #     'border_count': trial.suggest_int('border_count', 32, 255),  # Regularizes by limiting number of splits\n",
    "#     #     'max_bin': trial.suggest_int('max_bin', 100, 254),  # Regularization by binning\n",
    "#     #     'scale_pos_weight': trial.suggest_uniform('scale_pos_weight', 0.0, 10.0),\n",
    "#     #     'leaf_estimation_iterations': trial.suggest_int('leaf_estimation_iterations', 1, 20),\n",
    "#     #     'leaf_estimation_method': trial.suggest_categorical('leaf_estimation_method', ['Newton', 'Gradient']),\n",
    "#     #     'bootstrap_type': trial.suggest_categorical('bootstrap_type', ['Bayesian', 'Bernoulli', 'MVS']),\n",
    "#     #     'subsample': trial.suggest_float('subsample', 0.5, 1.0) if trial.suggest_categorical('bootstrap_type', ['Bernoulli', 'Bayesian']) == 'Bernoulli' else 1.0,\n",
    "#     #     'model_shrink_rate': trial.suggest_uniform('model_shrink_rate', 0.0, 0.1),  # Shrinks model weights\n",
    "#     #     'model_shrink_mode': trial.suggest_categorical('model_shrink_mode', ['Constant', 'Decreasing']),\n",
    "#     #     'iterations': trial.suggest_int('iterations', 1000, 10000),  # Added iterations\n",
    "#     #     'objective': 'Logloss',  # Fixed as per your model\n",
    "#     #     'eval_metric': 'AUC',    # Fixed\n",
    "#     #     'verbose': 0,            # Fixed\n",
    "#     #     'random_state': 42,      # Fixed\n",
    "#     #     'early_stopping_rounds': 2000,  # Fixed\n",
    "#     #     'task_type': 'GPU'       # GPU acceleration\n",
    "#     # }\n",
    "#     param = {\n",
    "#         'learning_rate': trial.suggest_float('learning_rate', 0.001, 0.1, log=True),\n",
    "#         'l2_leaf_reg': trial.suggest_float('l2_leaf_reg', 1e-3, 10.0, log=True),  # L2 regularization\n",
    "#         'bagging_temperature': trial.suggest_float('bagging_temperature', 0.0, 1.0),\n",
    "#         'random_strength': trial.suggest_float('random_strength', 0.0, 2.0),\n",
    "#         'rsm': trial.suggest_float('rsm', 0.5, 1.0),  # Random subspace method (like feature_fraction)\n",
    "# #        'rsm': trial.suggest_uniform('rsm', 0.1, 1) if param['loss_function'] == 'PairLogit' else None,  # conditionally add rsm\n",
    "#         'depth': trial.suggest_int('depth', 3, 10),\n",
    "#         'min_data_in_leaf': trial.suggest_int('min_data_in_leaf', 1, 200),\n",
    "# #        'border_count': trial.suggest_int('border_count', 32, 255),  # Regularizes by limiting number of splits\n",
    "#         'max_bin': trial.suggest_int('max_bin', 100, 254),  # Regularization by binning\n",
    "#         'scale_pos_weight': trial.suggest_float('scale_pos_weight', 0.0, 10.0),\n",
    "#         'leaf_estimation_iterations': trial.suggest_int('leaf_estimation_iterations', 1, 20),\n",
    "#         'leaf_estimation_method': trial.suggest_categorical('leaf_estimation_method', ['Newton', 'Gradient']),\n",
    "#         # 'bootstrap_type': trial.suggest_categorical('bootstrap_type', ['Bayesian', 'Bernoulli', 'MVS']),\n",
    "#  #       'subsample': trial.suggest_float('subsample', 0.5, 1.0) if trial.suggest_categorical('bootstrap_type', ['Bernoulli', 'Bayesian']) == 'Bernoulli' else 1.0,\n",
    "#         'model_shrink_rate': trial.suggest_float('model_shrink_rate', 0.0, 0.1),  # Shrinks model weights\n",
    "#         'model_shrink_mode': trial.suggest_categorical('model_shrink_mode', ['Constant', 'Decreasing']),\n",
    "#         'iterations': 3000,  # Added iterations\n",
    "#         'objective': 'Logloss',  # Fixed as per your model\n",
    "#         'eval_metric': 'AUC',    # Fixed\n",
    "#         'verbose': 0,            # Fixed\n",
    "#         'random_state': 42,      # Fixed\n",
    "#         'early_stopping_rounds': 2000,  # Fixed\n",
    "#   #      'task_type': 'GPU',       # GPU acceleration\n",
    "#         # 'cat_features':features\n",
    "#     }\n",
    "#     # Handle possible None values for 'subsample'\n",
    "#     # if param['subsample'] is None:\n",
    "#     #     del param['subsample']\n",
    "\n",
    "#     # Create a Pool dataset structure\n",
    "#     train_pool = Pool(data=training_data[features], label=training_data[target], cat_features=training_data[features].columns.values)\n",
    "\n",
    "#     auc_scores = []\n",
    "#     skf = StratifiedKFold(n_splits=5, shuffle=True, random_state=42)\n",
    "#     # Stratified K-Fold\n",
    "#     for train_index, valid_index in skf.split(training_data[features], training_data[target]):\n",
    "#         train_pool = Pool(data=training_data.iloc[train_index][features], label=training_data.iloc[train_index][target], cat_features=training_data.iloc[train_index][features].columns.values)\n",
    "#         valid_pool = Pool(data=training_data.iloc[valid_index][features], label=training_data.iloc[valid_index][target], cat_features=training_data.iloc[valid_index][features].columns.values)\n",
    "\n",
    "#         # Train the model\n",
    "#         model = cat.CatBoostClassifier(**param)\n",
    "#         model.fit(train_pool, eval_set=valid_pool, verbose=0)\n",
    "\n",
    "#         # Evaluate the model on the validation set\n",
    "#         auc_score = model.get_best_score()['validation']['AUC']\n",
    "#         auc_scores.append(auc_score)\n",
    "\n",
    "#     # Return the average AUC score from all folds\n",
    "#     return sum(auc_scores) / len(auc_scores)\n",
    "\n",
    "\n",
    "# # Create the Optuna study\n",
    "# study = optuna.create_study(direction='maximize')  # Maximizing AUC\n",
    "# study.optimize(objective, n_trials=150)  # Run 100 trials\n",
    "\n",
    "# # Print the best parameters found by Optuna\n",
    "# print('Best trial:', study.best_trial.params)\n"
   ]
  },
  {
   "cell_type": "code",
   "execution_count": 15,
   "id": "574d2c66",
   "metadata": {
    "execution": {
     "iopub.execute_input": "2024-10-18T11:29:03.389657Z",
     "iopub.status.busy": "2024-10-18T11:29:03.389366Z",
     "iopub.status.idle": "2024-10-18T11:29:03.393201Z",
     "shell.execute_reply": "2024-10-18T11:29:03.392471Z"
    },
    "papermill": {
     "duration": 0.013159,
     "end_time": "2024-10-18T11:29:03.395072",
     "exception": false,
     "start_time": "2024-10-18T11:29:03.381913",
     "status": "completed"
    },
    "tags": []
   },
   "outputs": [],
   "source": [
    "# best_params = study.best_trial.params"
   ]
  },
  {
   "cell_type": "code",
   "execution_count": 16,
   "id": "09721cbb",
   "metadata": {
    "execution": {
     "iopub.execute_input": "2024-10-18T11:29:03.409988Z",
     "iopub.status.busy": "2024-10-18T11:29:03.409321Z",
     "iopub.status.idle": "2024-10-18T11:29:03.413937Z",
     "shell.execute_reply": "2024-10-18T11:29:03.413243Z"
    },
    "papermill": {
     "duration": 0.014029,
     "end_time": "2024-10-18T11:29:03.415820",
     "exception": false,
     "start_time": "2024-10-18T11:29:03.401791",
     "status": "completed"
    },
    "tags": []
   },
   "outputs": [],
   "source": [
    "best_params = {'learning_rate': 0.019914086642922255, 'l2_leaf_reg': 0.5965527914059113, \n",
    "  'bagging_temperature': 0.13210604837088102, 'random_strength': 0.19355007428941914,\n",
    "  'depth': 6, 'min_data_in_leaf': 185, 'max_bin': 125, 'scale_pos_weight': 4.997594997594998,\n",
    "  'leaf_estimation_iterations': 6, 'leaf_estimation_method': 'Gradient'}"
   ]
  },
  {
   "cell_type": "markdown",
   "id": "0197ade5",
   "metadata": {
    "papermill": {
     "duration": 0.006485,
     "end_time": "2024-10-18T11:29:03.429063",
     "exception": false,
     "start_time": "2024-10-18T11:29:03.422578",
     "status": "completed"
    },
    "tags": []
   },
   "source": [
    " Trial 83 finished with value: 0.967779564857483 and parameters: {'learning_rate': 0.07111281846327383, 'l2_leaf_reg': 0.0015993885348837339, 'bagging_temperature': 0.13210604837088102, 'random_strength': 0.19355007428941914, 'depth': 6, 'min_data_in_leaf': 185, 'max_bin': 125, 'scale_pos_weight': 2.019763508589615, 'leaf_estimation_iterations': 6, 'leaf_estimation_method': 'Gradient'}. Best is trial 83 with value: 0.967779564857483."
   ]
  },
  {
   "cell_type": "code",
   "execution_count": 17,
   "id": "b48d9bf0",
   "metadata": {
    "execution": {
     "iopub.execute_input": "2024-10-18T11:29:03.443562Z",
     "iopub.status.busy": "2024-10-18T11:29:03.443256Z",
     "iopub.status.idle": "2024-10-18T11:31:29.378959Z",
     "shell.execute_reply": "2024-10-18T11:31:29.377812Z"
    },
    "papermill": {
     "duration": 145.945357,
     "end_time": "2024-10-18T11:31:29.381094",
     "exception": false,
     "start_time": "2024-10-18T11:29:03.435737",
     "status": "completed"
    },
    "tags": []
   },
   "outputs": [
    {
     "name": "stderr",
     "output_type": "stream",
     "text": [
      "Default metric period is 5 because AUC is/are not implemented for GPU\n"
     ]
    },
    {
     "name": "stdout",
     "output_type": "stream",
     "text": [
      "0:\ttotal: 2.71s\tremaining: 3h 45m 23s\n",
      "100:\ttotal: 5.11s\tremaining: 4m 8s\n",
      "200:\ttotal: 7.5s\tremaining: 2m 59s\n",
      "300:\ttotal: 9.87s\tremaining: 2m 34s\n",
      "400:\ttotal: 12.2s\tremaining: 2m 20s\n",
      "500:\ttotal: 14.7s\tremaining: 2m 11s\n",
      "600:\ttotal: 17.1s\tremaining: 2m 5s\n",
      "700:\ttotal: 19.5s\tremaining: 1m 59s\n",
      "800:\ttotal: 21.9s\tremaining: 1m 55s\n",
      "900:\ttotal: 24.4s\tremaining: 1m 50s\n",
      "1000:\ttotal: 26.8s\tremaining: 1m 47s\n",
      "1100:\ttotal: 29.2s\tremaining: 1m 43s\n",
      "1200:\ttotal: 31.6s\tremaining: 1m 39s\n",
      "1300:\ttotal: 34s\tremaining: 1m 36s\n",
      "1400:\ttotal: 36.5s\tremaining: 1m 33s\n",
      "1500:\ttotal: 38.9s\tremaining: 1m 30s\n",
      "1600:\ttotal: 41.3s\tremaining: 1m 27s\n",
      "1700:\ttotal: 43.7s\tremaining: 1m 24s\n",
      "1800:\ttotal: 46s\tremaining: 1m 21s\n",
      "1900:\ttotal: 48.4s\tremaining: 1m 18s\n",
      "2000:\ttotal: 50.8s\tremaining: 1m 16s\n",
      "2100:\ttotal: 53.2s\tremaining: 1m 13s\n",
      "2200:\ttotal: 55.6s\tremaining: 1m 10s\n",
      "2300:\ttotal: 58s\tremaining: 1m 8s\n",
      "2400:\ttotal: 1m\tremaining: 1m 5s\n",
      "2500:\ttotal: 1m 2s\tremaining: 1m 2s\n",
      "2600:\ttotal: 1m 5s\tremaining: 1m\n",
      "2700:\ttotal: 1m 7s\tremaining: 57.6s\n",
      "2800:\ttotal: 1m 10s\tremaining: 55s\n",
      "2900:\ttotal: 1m 12s\tremaining: 52.4s\n",
      "3000:\ttotal: 1m 14s\tremaining: 49.9s\n",
      "3100:\ttotal: 1m 17s\tremaining: 47.4s\n",
      "3200:\ttotal: 1m 19s\tremaining: 44.8s\n",
      "3300:\ttotal: 1m 22s\tremaining: 42.3s\n",
      "3400:\ttotal: 1m 24s\tremaining: 39.8s\n",
      "3500:\ttotal: 1m 27s\tremaining: 37.3s\n",
      "3600:\ttotal: 1m 29s\tremaining: 34.8s\n",
      "3700:\ttotal: 1m 31s\tremaining: 32.3s\n",
      "3800:\ttotal: 1m 34s\tremaining: 29.8s\n",
      "3900:\ttotal: 1m 36s\tremaining: 27.3s\n",
      "4000:\ttotal: 1m 39s\tremaining: 24.8s\n",
      "4100:\ttotal: 1m 41s\tremaining: 22.3s\n",
      "4200:\ttotal: 1m 44s\tremaining: 19.8s\n",
      "4300:\ttotal: 1m 46s\tremaining: 17.3s\n",
      "4400:\ttotal: 1m 48s\tremaining: 14.8s\n",
      "4500:\ttotal: 1m 51s\tremaining: 12.3s\n",
      "4600:\ttotal: 1m 53s\tremaining: 9.86s\n",
      "4700:\ttotal: 1m 56s\tremaining: 7.39s\n",
      "4800:\ttotal: 1m 58s\tremaining: 4.91s\n",
      "4900:\ttotal: 2m\tremaining: 2.44s\n",
      "4999:\ttotal: 2m 3s\tremaining: 0us\n"
     ]
    },
    {
     "data": {
      "text/plain": [
       "<catboost.core.CatBoostClassifier at 0x7f84ccc773d0>"
      ]
     },
     "execution_count": 17,
     "metadata": {},
     "output_type": "execute_result"
    }
   ],
   "source": [
    "best_model = cat.CatBoostClassifier(**best_params, iterations=5000, verbose=100, objective='Logloss',\n",
    "        eval_metric = 'AUC',       \n",
    "        random_state = 1,    \n",
    "        early_stopping_rounds = 2000,\n",
    "        task_type='GPU')\n",
    "best_model.fit(train_data)"
   ]
  },
  {
   "cell_type": "code",
   "execution_count": 18,
   "id": "29d254fb",
   "metadata": {
    "execution": {
     "iopub.execute_input": "2024-10-18T11:31:29.404920Z",
     "iopub.status.busy": "2024-10-18T11:31:29.404158Z",
     "iopub.status.idle": "2024-10-18T11:31:29.408542Z",
     "shell.execute_reply": "2024-10-18T11:31:29.407731Z"
    },
    "papermill": {
     "duration": 0.018297,
     "end_time": "2024-10-18T11:31:29.410398",
     "exception": false,
     "start_time": "2024-10-18T11:31:29.392101",
     "status": "completed"
    },
    "tags": []
   },
   "outputs": [],
   "source": [
    "# model.fit(train_data, verbose=100)"
   ]
  },
  {
   "cell_type": "code",
   "execution_count": 19,
   "id": "1a24be29",
   "metadata": {
    "execution": {
     "iopub.execute_input": "2024-10-18T11:31:29.433415Z",
     "iopub.status.busy": "2024-10-18T11:31:29.433077Z",
     "iopub.status.idle": "2024-10-18T11:31:30.047806Z",
     "shell.execute_reply": "2024-10-18T11:31:30.046836Z"
    },
    "papermill": {
     "duration": 0.628963,
     "end_time": "2024-10-18T11:31:30.050226",
     "exception": false,
     "start_time": "2024-10-18T11:31:29.421263",
     "status": "completed"
    },
    "tags": []
   },
   "outputs": [],
   "source": [
    "preds = best_model.predict_proba(test_data)[:,1]\n",
    "\n",
    "submission_df = pd.DataFrame({\n",
    "    'id':idx,\n",
    "    'loan_status':preds\n",
    "})\n",
    "\n",
    "submission_df.to_csv('submission.csv', index=False)"
   ]
  },
  {
   "cell_type": "code",
   "execution_count": 20,
   "id": "ea30bfd6",
   "metadata": {
    "execution": {
     "iopub.execute_input": "2024-10-18T11:31:30.073418Z",
     "iopub.status.busy": "2024-10-18T11:31:30.073082Z",
     "iopub.status.idle": "2024-10-18T11:31:30.077200Z",
     "shell.execute_reply": "2024-10-18T11:31:30.076234Z"
    },
    "papermill": {
     "duration": 0.018062,
     "end_time": "2024-10-18T11:31:30.079383",
     "exception": false,
     "start_time": "2024-10-18T11:31:30.061321",
     "status": "completed"
    },
    "tags": []
   },
   "outputs": [],
   "source": [
    "# submission_df"
   ]
  },
  {
   "cell_type": "code",
   "execution_count": null,
   "id": "f70b3f77",
   "metadata": {
    "papermill": {
     "duration": 0.011577,
     "end_time": "2024-10-18T11:31:30.105638",
     "exception": false,
     "start_time": "2024-10-18T11:31:30.094061",
     "status": "completed"
    },
    "tags": []
   },
   "outputs": [],
   "source": []
  }
 ],
 "metadata": {
  "kaggle": {
   "accelerator": "none",
   "dataSources": [
    {
     "databundleVersionId": 9709193,
     "sourceId": 84894,
     "sourceType": "competition"
    },
    {
     "datasetId": 4675026,
     "sourceId": 7949759,
     "sourceType": "datasetVersion"
    }
   ],
   "dockerImageVersionId": 30786,
   "isGpuEnabled": false,
   "isInternetEnabled": true,
   "language": "python",
   "sourceType": "notebook"
  },
  "kernelspec": {
   "display_name": "Python 3",
   "language": "python",
   "name": "python3"
  },
  "language_info": {
   "codemirror_mode": {
    "name": "ipython",
    "version": 3
   },
   "file_extension": ".py",
   "mimetype": "text/x-python",
   "name": "python",
   "nbconvert_exporter": "python",
   "pygments_lexer": "ipython3",
   "version": "3.10.14"
  },
  "papermill": {
   "default_parameters": {},
   "duration": 170.540468,
   "end_time": "2024-10-18T11:31:30.936151",
   "environment_variables": {},
   "exception": null,
   "input_path": "__notebook__.ipynb",
   "output_path": "__notebook__.ipynb",
   "parameters": {},
   "start_time": "2024-10-18T11:28:40.395683",
   "version": "2.6.0"
  }
 },
 "nbformat": 4,
 "nbformat_minor": 5
}
