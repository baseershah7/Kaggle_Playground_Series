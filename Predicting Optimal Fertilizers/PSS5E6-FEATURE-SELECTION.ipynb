{
 "cells": [
  {
   "cell_type": "code",
   "execution_count": 1,
   "id": "2ed9615d",
   "metadata": {
    "_cell_guid": "b1076dfc-b9ad-4769-8c92-a6c4dae69d19",
    "_uuid": "8f2839f25d086af736a60e9eeb907d3b93b6e0e5",
    "execution": {
     "iopub.execute_input": "2025-06-06T21:03:23.512501Z",
     "iopub.status.busy": "2025-06-06T21:03:23.512118Z",
     "iopub.status.idle": "2025-06-06T21:03:25.691991Z",
     "shell.execute_reply": "2025-06-06T21:03:25.690736Z"
    },
    "papermill": {
     "duration": 2.187962,
     "end_time": "2025-06-06T21:03:25.693784",
     "exception": false,
     "start_time": "2025-06-06T21:03:23.505822",
     "status": "completed"
    },
    "tags": []
   },
   "outputs": [
    {
     "name": "stdout",
     "output_type": "stream",
     "text": [
      "/kaggle/input/playground-series-s5e6/sample_submission.csv\n",
      "/kaggle/input/playground-series-s5e6/train.csv\n",
      "/kaggle/input/playground-series-s5e6/test.csv\n",
      "/kaggle/input/optimal-fertilizers-features/training_data.csv\n",
      "/kaggle/input/optimal-fertilizers-features/test_data.csv\n"
     ]
    }
   ],
   "source": [
    "# This Python 3 environment comes with many helpful analytics libraries installed\n",
    "# It is defined by the kaggle/python Docker image: https://github.com/kaggle/docker-python\n",
    "# For example, here's several helpful packages to load\n",
    "\n",
    "import numpy as np # linear algebra\n",
    "import pandas as pd # data processing, CSV file I/O (e.g. pd.read_csv)\n",
    "\n",
    "# Input data files are available in the read-only \"../input/\" directory\n",
    "# For example, running this (by clicking run or pressing Shift+Enter) will list all files under the input directory\n",
    "\n",
    "import os\n",
    "for dirname, _, filenames in os.walk('/kaggle/input'):\n",
    "    for filename in filenames:\n",
    "        print(os.path.join(dirname, filename))\n",
    "\n",
    "# You can write up to 20GB to the current directory (/kaggle/working/) that gets preserved as output when you create a version using \"Save & Run All\" \n",
    "# You can also write temporary files to /kaggle/temp/, but they won't be saved outside of the current session"
   ]
  },
  {
   "cell_type": "code",
   "execution_count": 2,
   "id": "90a060e1",
   "metadata": {
    "execution": {
     "iopub.execute_input": "2025-06-06T21:03:25.703944Z",
     "iopub.status.busy": "2025-06-06T21:03:25.703435Z",
     "iopub.status.idle": "2025-06-06T21:03:25.708480Z",
     "shell.execute_reply": "2025-06-06T21:03:25.707084Z"
    },
    "papermill": {
     "duration": 0.011755,
     "end_time": "2025-06-06T21:03:25.710072",
     "exception": false,
     "start_time": "2025-06-06T21:03:25.698317",
     "status": "completed"
    },
    "tags": []
   },
   "outputs": [],
   "source": [
    "seed=1\n",
    "folds=5"
   ]
  },
  {
   "cell_type": "code",
   "execution_count": 3,
   "id": "5e3cd273",
   "metadata": {
    "execution": {
     "iopub.execute_input": "2025-06-06T21:03:25.720097Z",
     "iopub.status.busy": "2025-06-06T21:03:25.719706Z",
     "iopub.status.idle": "2025-06-06T21:04:10.365574Z",
     "shell.execute_reply": "2025-06-06T21:04:10.364425Z"
    },
    "papermill": {
     "duration": 44.653075,
     "end_time": "2025-06-06T21:04:10.367620",
     "exception": false,
     "start_time": "2025-06-06T21:03:25.714545",
     "status": "completed"
    },
    "tags": []
   },
   "outputs": [],
   "source": [
    "X_new = pd.read_csv('/kaggle/input/optimal-fertilizers-features/training_data.csv')\n",
    "test_new = pd.read_csv('/kaggle/input/optimal-fertilizers-features/test_data.csv')\n",
    "\n",
    "train_org = pd.read_csv('/kaggle/input/playground-series-s5e6/train.csv')\n",
    "y = train_org['Fertilizer Name']"
   ]
  },
  {
   "cell_type": "code",
   "execution_count": 4,
   "id": "492e1c3e",
   "metadata": {
    "execution": {
     "iopub.execute_input": "2025-06-06T21:04:10.378454Z",
     "iopub.status.busy": "2025-06-06T21:04:10.378082Z",
     "iopub.status.idle": "2025-06-06T21:04:10.443078Z",
     "shell.execute_reply": "2025-06-06T21:04:10.441943Z"
    },
    "papermill": {
     "duration": 0.07327,
     "end_time": "2025-06-06T21:04:10.445759",
     "exception": false,
     "start_time": "2025-06-06T21:04:10.372489",
     "status": "completed"
    },
    "tags": []
   },
   "outputs": [],
   "source": [
    "class_mapping = {\n",
    "    '14-35-14':0,\n",
    "    '10-26-26':1,\n",
    "    '17-17-17':2,\n",
    "    '28-28':3,\n",
    "    '20-20':4,\n",
    "    'DAP':5,\n",
    "    'Urea':6\n",
    "}\n",
    "rev_class_mapping = {\n",
    "    0:'14-35-14',\n",
    "    1:'10-26-26',\n",
    "    2:'17-17-17',\n",
    "    3:'28-28',\n",
    "    4:'20-20',\n",
    "    5:'DAP',\n",
    "    6:'Urea'\n",
    "}\n",
    "\n",
    "y = y.map(class_mapping)"
   ]
  },
  {
   "cell_type": "code",
   "execution_count": 5,
   "id": "29947838",
   "metadata": {
    "execution": {
     "iopub.execute_input": "2025-06-06T21:04:10.455977Z",
     "iopub.status.busy": "2025-06-06T21:04:10.455650Z",
     "iopub.status.idle": "2025-06-06T21:04:12.427344Z",
     "shell.execute_reply": "2025-06-06T21:04:12.426203Z"
    },
    "papermill": {
     "duration": 1.978789,
     "end_time": "2025-06-06T21:04:12.429248",
     "exception": false,
     "start_time": "2025-06-06T21:04:10.450459",
     "status": "completed"
    },
    "tags": []
   },
   "outputs": [],
   "source": [
    "from sklearn.model_selection import StratifiedKFold\n",
    "from sklearn.base import clone\n",
    "\n",
    "def mapk_score(y_true, y_score, k=3):\n",
    "    sorted_predictions = np.argsort(y_score, axis=1)[:, -3:][:, ::-1]\n",
    "    map_at_3 = 0\n",
    "    for i in range(3):\n",
    "        map_at_3 += (sorted_predictions[:, i] == y_true).sum() / (i+1)\n",
    "\n",
    "    return map_at_3 / len(y_score)\n",
    "\n",
    "def cv_score_dict(X, y, model_dict, folds=folds, seed=seed, k=3):\n",
    "    skf = StratifiedKFold(random_state=seed, n_splits=folds, shuffle=True)\n",
    "    results = {}\n",
    "    mapk_scorer = make_scorer(\n",
    "        mapk_score, \n",
    "        needs_proba=True,\n",
    "        greater_is_better=True,\n",
    "        k=k\n",
    "    )\n",
    "    for name, model in model_dict.items():\n",
    "        print(f'current model being processed :{name}')\n",
    "        map_scores = []\n",
    "        scores = []\n",
    "        for i, (train_index, valid_index) in enumerate(skf.split(X, y), 1):\n",
    "            X_train, X_valid = X.iloc[train_index], X.iloc[valid_index]\n",
    "            y_train, y_valid = y.iloc[train_index], y.iloc[valid_index]\n",
    "            # clf = clone(model)\n",
    "            model.fit(X_train, y_train)\n",
    "            # probas = model.predict_proba(X_valid)\n",
    "\n",
    "            # score = mapk_score(y_valid, probas, k=k)\n",
    "            score = mapk_scorer(model, X_valid, y_valid)\n",
    "            print(f'Score for {name} on fold {i} is {score}')\n",
    "            scores.append(score)\n",
    "        \n",
    "        results[name] = np.mean(scores)\n",
    "        print(f'Mean score for {name} is {score}')\n",
    "\n",
    "    return results\n",
    "\n",
    "def cv_score(X, y, model, folds=folds, seed=seed, k=3):\n",
    "    skf = StratifiedKFold(random_state=seed, n_splits=folds, shuffle=True)\n",
    "    mapk_scorer = make_scorer(\n",
    "        mapk_score, \n",
    "        needs_proba=True,\n",
    "        greater_is_better=True,\n",
    "        k=k\n",
    "    )\n",
    "    \n",
    "    scores = []\n",
    "    for i, (train_index, valid_index) in enumerate(skf.split(X, y), 1):\n",
    "        X_train, X_valid = X.iloc[train_index], X.iloc[valid_index]\n",
    "        y_train, y_valid = y.iloc[train_index], y.iloc[valid_index]\n",
    "        \n",
    "        clf = clone(model)\n",
    "        clf.fit(X_train, y_train)\n",
    "        \n",
    "        score = mapk_scorer(clf, X_valid, y_valid)\n",
    "        # print(f'Score on fold {i}: {score:.4f}')\n",
    "        scores.append(score)\n",
    "    \n",
    "    mean_score = np.mean(scores)\n",
    "    print(f'Mean CV score: {mean_score:.4f}')\n",
    "    return mean_score"
   ]
  },
  {
   "cell_type": "code",
   "execution_count": 6,
   "id": "3caf0379",
   "metadata": {
    "execution": {
     "iopub.execute_input": "2025-06-06T21:04:12.439505Z",
     "iopub.status.busy": "2025-06-06T21:04:12.439011Z",
     "iopub.status.idle": "2025-06-06T21:04:19.965364Z",
     "shell.execute_reply": "2025-06-06T21:04:19.964322Z"
    },
    "papermill": {
     "duration": 7.53339,
     "end_time": "2025-06-06T21:04:19.967012",
     "exception": false,
     "start_time": "2025-06-06T21:04:12.433622",
     "status": "completed"
    },
    "tags": []
   },
   "outputs": [],
   "source": [
    "from sklearn.base import clone\n",
    "from sklearn.model_selection import StratifiedKFold\n",
    "from sklearn.metrics import make_scorer\n",
    "import numpy as np\n",
    "import xgboost as xgb\n",
    "import lightgbm as lgb\n",
    "import catboost as cb\n",
    "from tqdm.notebook import tqdm, trange  \n",
    "\n",
    "def hill_climbing_forward_selection_continuous(X, y, model, foundational_features,\n",
    "                                             folds=5, seed=1, k=3, iterations=2,\n",
    "                                             verbose=True):\n",
    "    \"\"\"\n",
    "    TRULY CONTINUOUS Hill Climbing - each iteration builds on the previous\n",
    "    \"\"\"\n",
    "    all_features = list(X.columns)\n",
    "    history = {}\n",
    "    \n",
    "    missing = set(foundational_features) - set(all_features)\n",
    "    if missing:\n",
    "        raise ValueError(f\"Foundational features missing in X: {missing}\")\n",
    " \n",
    "    baseline_score = cv_score(X[foundational_features], y, model, folds, seed, k)\n",
    "    \n",
    "    # 🔥 KEY FIX: These persist across ALL iterations\n",
    "    current_features = foundational_features.copy()  # Grows continuously\n",
    "    remaining_features = [f for f in all_features if f not in current_features]\n",
    "    current_score = baseline_score\n",
    "    \n",
    "    if verbose:\n",
    "        print(f\"Starting hill climbing with {len(foundational_features)} foundational features\")\n",
    "        print(f\"   Baseline MAP@{k}: {baseline_score:.5f}\")\n",
    "        print(f\"   Total features available: {len(all_features)}\")\n",
    "        print(f\"   Features to evaluate: {len(remaining_features)}\")\n",
    "        print(\"-\" * 60)\n",
    "\n",
    "    # Outer loop - each iteration continues from where the last left off\n",
    "    for i in trange(iterations, desc=\"Iterations\", total=iterations, position=0):\n",
    "        if verbose:\n",
    "            print(f\"\\nITERATION {i+1}/{iterations}\")\n",
    "            print(f\"   Starting with {len(current_features)} features\")\n",
    "            print(f\"   Current MAP@{k}: {current_score:.5f}\")\n",
    "            print(f\"   Remaining to test: {len(remaining_features)}\")\n",
    "            print(\"-\" * 30)\n",
    "        \n",
    "        added_in_iteration = []\n",
    "        \n",
    "        # Forward selection pass - continues from current state\n",
    "        improved = True\n",
    "        while improved and remaining_features:\n",
    "            improved = False\n",
    "            best_candidate = None\n",
    "            best_candidate_score = current_score\n",
    "            \n",
    "            feature_progress = tqdm(remaining_features, \n",
    "                                  desc=f\"Iter {i+1} Features\",\n",
    "                                  leave=False,\n",
    "                                  disable=not verbose,\n",
    "                                  position=1)\n",
    "            \n",
    "            # Evaluate all remaining candidates\n",
    "            for feature in feature_progress:\n",
    "                candidate_set = current_features + [feature]\n",
    "                candidate_score = cv_score(X[candidate_set], y, model, folds, seed, k)\n",
    "                \n",
    "                if candidate_score > best_candidate_score:\n",
    "                    best_candidate_score = candidate_score\n",
    "                    best_candidate = feature\n",
    "            \n",
    "            # Add feature if it improves score\n",
    "            if best_candidate and (best_candidate_score > current_score):\n",
    "                current_features.append(best_candidate)  \n",
    "                remaining_features.remove(best_candidate) \n",
    "                added_in_iteration.append(best_candidate)\n",
    "                improvement = best_candidate_score - current_score\n",
    "                current_score = best_candidate_score  \n",
    "                improved = True\n",
    "                \n",
    "                if verbose:\n",
    "                    print(f\"➕ Added '{best_candidate}' | Δ+{improvement:.6f} | New MAP@{k}: {current_score:.6f}\")\n",
    "            else:\n",
    "                if verbose:\n",
    "                    print(\"No improving features found in this pass\")\n",
    "        \n",
    "        # Record iteration history\n",
    "        history[f'iter_{i+1}'] = {\n",
    "            'features': current_features.copy(),\n",
    "            'score': current_score,\n",
    "            'added': added_in_iteration,\n",
    "            'n_features': len(current_features),\n",
    "            'improvement': current_score - baseline_score\n",
    "        }\n",
    "        \n",
    "        if verbose:\n",
    "            print(f\"\\nITERATION {i+1} SUMMARY:\")\n",
    "            print(f\"   Features added this iteration: {len(added_in_iteration)}\")\n",
    "            print(f\"   Total features now: {len(current_features)}\")\n",
    "            print(f\"   Current MAP@{k}: {current_score:.5f}\")\n",
    "            print(f\"   Total improvement: {current_score - baseline_score:+.5f}\")\n",
    "            if added_in_iteration:\n",
    "                print(f\"   Added this iteration: {', '.join(added_in_iteration)}\")\n",
    "            print(\"-\" * 60)\n",
    "        \n",
    "        # Early stopping if no features were added\n",
    "        if not added_in_iteration:\n",
    "            if verbose:\n",
    "                print(f\"🛑 EARLY STOPPING: No features added in iteration {i+1}\")\n",
    "                print(\"   Algorithm has converged!\")\n",
    "            break\n",
    "    \n",
    "    if verbose:\n",
    "        print(\"\\n🏆 FINAL RESULTS:\")\n",
    "        print(f\"   Total features: {len(current_features)}\")\n",
    "        print(f\"   Final MAP@{k}: {current_score:.5f}\")\n",
    "        print(f\"   Total improvement: {current_score - baseline_score:+.5f}\")\n",
    "        print(f\"   Final feature set: {current_features}\")\n",
    "    \n",
    "    return current_features, current_score, history\n",
    "\n",
    "\n",
    "foundational = ['Temparature', 'Humidity', 'Moisture', 'Soil Type', 'Crop Type',\n",
    "       'Nitrogen', 'Potassium', 'Phosphorous']\n",
    "\n",
    "model = xgb.XGBClassifier(random_state=seed, tree_method='hist', device='cuda')\n",
    "# model = lgb.LGBMClassifier(random_state=seed, device='gpu', verbose=0)\n",
    "\n",
    "# Run feature selection\n",
    "# best_features, best_score, history = hill_climbing_forward_selection_continuous(\n",
    "#     X_new.iloc[:100], y.iloc[:100], model, foundational_features=foundational,\n",
    "#     folds=folds, seed=seed, k=3, iterations=2, verbose=True\n",
    "# )"
   ]
  },
  {
   "cell_type": "code",
   "execution_count": 7,
   "id": "fc84bc40",
   "metadata": {
    "execution": {
     "iopub.execute_input": "2025-06-06T21:04:19.977009Z",
     "iopub.status.busy": "2025-06-06T21:04:19.976177Z",
     "iopub.status.idle": "2025-06-06T21:04:19.981254Z",
     "shell.execute_reply": "2025-06-06T21:04:19.980209Z"
    },
    "papermill": {
     "duration": 0.012023,
     "end_time": "2025-06-06T21:04:19.983179",
     "exception": false,
     "start_time": "2025-06-06T21:04:19.971156",
     "status": "completed"
    },
    "tags": []
   },
   "outputs": [],
   "source": [
    "# best_features"
   ]
  },
  {
   "cell_type": "code",
   "execution_count": 8,
   "id": "f5e8a1c3",
   "metadata": {
    "execution": {
     "iopub.execute_input": "2025-06-06T21:04:19.992854Z",
     "iopub.status.busy": "2025-06-06T21:04:19.992445Z",
     "iopub.status.idle": "2025-06-06T21:04:19.996923Z",
     "shell.execute_reply": "2025-06-06T21:04:19.995904Z"
    },
    "papermill": {
     "duration": 0.011147,
     "end_time": "2025-06-06T21:04:19.998626",
     "exception": false,
     "start_time": "2025-06-06T21:04:19.987479",
     "status": "completed"
    },
    "tags": []
   },
   "outputs": [],
   "source": [
    "# best_score"
   ]
  },
  {
   "cell_type": "code",
   "execution_count": 9,
   "id": "725db190",
   "metadata": {
    "execution": {
     "iopub.execute_input": "2025-06-06T21:04:20.009428Z",
     "iopub.status.busy": "2025-06-06T21:04:20.009037Z",
     "iopub.status.idle": "2025-06-06T21:04:20.014146Z",
     "shell.execute_reply": "2025-06-06T21:04:20.013082Z"
    },
    "papermill": {
     "duration": 0.012015,
     "end_time": "2025-06-06T21:04:20.015859",
     "exception": false,
     "start_time": "2025-06-06T21:04:20.003844",
     "status": "completed"
    },
    "tags": []
   },
   "outputs": [],
   "source": [
    "# history"
   ]
  },
  {
   "cell_type": "code",
   "execution_count": 10,
   "id": "5fb15957",
   "metadata": {
    "execution": {
     "iopub.execute_input": "2025-06-06T21:04:20.025902Z",
     "iopub.status.busy": "2025-06-06T21:04:20.025545Z",
     "iopub.status.idle": "2025-06-06T21:04:20.031181Z",
     "shell.execute_reply": "2025-06-06T21:04:20.030123Z"
    },
    "papermill": {
     "duration": 0.012899,
     "end_time": "2025-06-06T21:04:20.033029",
     "exception": false,
     "start_time": "2025-06-06T21:04:20.020130",
     "status": "completed"
    },
    "tags": []
   },
   "outputs": [],
   "source": [
    "# from sklearn.feature_selection import RFECV\n",
    "# from sklearn.model_selection import StratifiedKFold\n",
    "# from sklearn.metrics import make_scorer\n",
    "# from xgboost import XGBClassifier\n",
    "# from lightgbm import LGBMClassifier\n",
    "# from catboost import CatBoostClassifier\n",
    "\n",
    "# mapk_scorer = make_scorer(\n",
    "#     mapk_score, \n",
    "#     needs_proba=True,\n",
    "#     greater_is_better=True,\n",
    "#     k=3\n",
    "# )\n",
    "\n",
    "# # model = XGBClassifier(random_state=seed, tree_method='hist', device='cuda')\n",
    "# model = LGBMClassifier(random_state=seed, device='gpu')\n",
    "# # model = CatBoostClassifier(random_state=seed, task_type='GPU')\n",
    "\n",
    "# cv = StratifiedKFold(\n",
    "#     n_splits=folds,\n",
    "#     shuffle=True,\n",
    "#     random_state=seed\n",
    "# )\n",
    "\n",
    "# rfecv = RFECV(\n",
    "#     estimator=model,\n",
    "#     step=1,\n",
    "#     cv=cv,\n",
    "#     scoring=mapk_scorer,\n",
    "#     n_jobs=1,\n",
    "#     verbose=1,\n",
    "# )\n",
    "\n",
    "# rfecv.fit(X_new, y)\n",
    "\n",
    "# print('Optimal number of features :', rfecv.n_features_)\n",
    "# print('Best CV Score :', max(rfecv.cv_results_['mean_test_score']))\n",
    "# print('Selected features :', X_new.columns[rfecv.support_])"
   ]
  },
  {
   "cell_type": "code",
   "execution_count": 11,
   "id": "81853d67",
   "metadata": {
    "execution": {
     "iopub.execute_input": "2025-06-06T21:04:20.042775Z",
     "iopub.status.busy": "2025-06-06T21:04:20.042450Z",
     "iopub.status.idle": "2025-06-06T21:04:20.047420Z",
     "shell.execute_reply": "2025-06-06T21:04:20.046428Z"
    },
    "papermill": {
     "duration": 0.011932,
     "end_time": "2025-06-06T21:04:20.049158",
     "exception": false,
     "start_time": "2025-06-06T21:04:20.037226",
     "status": "completed"
    },
    "tags": []
   },
   "outputs": [],
   "source": [
    "# cols = X_new.columns[rfecv.support_]"
   ]
  },
  {
   "cell_type": "code",
   "execution_count": 12,
   "id": "dacb37af",
   "metadata": {
    "execution": {
     "iopub.execute_input": "2025-06-06T21:04:20.060454Z",
     "iopub.status.busy": "2025-06-06T21:04:20.060088Z",
     "iopub.status.idle": "2025-06-06T21:04:20.065827Z",
     "shell.execute_reply": "2025-06-06T21:04:20.064432Z"
    },
    "papermill": {
     "duration": 0.013405,
     "end_time": "2025-06-06T21:04:20.067880",
     "exception": false,
     "start_time": "2025-06-06T21:04:20.054475",
     "status": "completed"
    },
    "tags": []
   },
   "outputs": [],
   "source": [
    "best_features = ['Temparature',\n",
    "   'Humidity',\n",
    "   'Moisture',\n",
    "   'Soil Type',\n",
    "   'Crop Type',\n",
    "   'Nitrogen',\n",
    "   'Potassium',\n",
    "   'Phosphorous',\n",
    "   'Phosphorous_mean',\n",
    "   'Potassium_std',\n",
    "   'Moisture_mean',\n",
    "   'Potassium_mean',\n",
    "   'Nitrogen_deficient',\n",
    "   'Temparature_std',\n",
    "   'Potassium_deficient',\n",
    "   'Potassium_median',\n",
    "   'Temparature_mean']"
   ]
  },
  {
   "cell_type": "code",
   "execution_count": 13,
   "id": "40beacb8",
   "metadata": {
    "execution": {
     "iopub.execute_input": "2025-06-06T21:04:20.077902Z",
     "iopub.status.busy": "2025-06-06T21:04:20.077585Z",
     "iopub.status.idle": "2025-06-06T21:04:20.567256Z",
     "shell.execute_reply": "2025-06-06T21:04:20.565899Z"
    },
    "papermill": {
     "duration": 0.497098,
     "end_time": "2025-06-06T21:04:20.569566",
     "exception": false,
     "start_time": "2025-06-06T21:04:20.072468",
     "status": "completed"
    },
    "tags": []
   },
   "outputs": [],
   "source": [
    "import xgboost as xgb\n",
    "import catboost as cb \n",
    "import lightgbm as lgb\n",
    "from sklearn.ensemble import HistGradientBoostingClassifier, ExtraTreesClassifier\n",
    "\n",
    "\n",
    "model_dict = {\n",
    "    'xgb_1': xgb.XGBClassifier(random_state=seed, tree_method='hist', device='cuda', verbose=0),\n",
    "    'lgbm_1': lgb.LGBMClassifier(random_state=seed, device='gpu', verbose=0),\n",
    "    'cat_1': cb.CatBoostClassifier(random_state=seed, task_type='GPU', verbose=0)\n",
    "    # 'etr_1': ExtraTreesClassifier(random_state=seed, n_jobs=-1),\n",
    "    # 'lgb_1': lgb.LGBMClassifier(random_state=seed),\n",
    "    # 'hgb_1': HistGradientBoostingClassifier(random_state=seed, verbose=0,)\n",
    "}\n",
    "\n",
    "# results = cv_score(X_new[best_features], y, model)"
   ]
  },
  {
   "cell_type": "code",
   "execution_count": 14,
   "id": "8cda972c",
   "metadata": {
    "execution": {
     "iopub.execute_input": "2025-06-06T21:04:20.588273Z",
     "iopub.status.busy": "2025-06-06T21:04:20.587792Z",
     "iopub.status.idle": "2025-06-06T21:04:55.041931Z",
     "shell.execute_reply": "2025-06-06T21:04:55.040863Z"
    },
    "papermill": {
     "duration": 34.468833,
     "end_time": "2025-06-06T21:04:55.046459",
     "exception": false,
     "start_time": "2025-06-06T21:04:20.577626",
     "status": "completed"
    },
    "tags": []
   },
   "outputs": [
    {
     "name": "stderr",
     "output_type": "stream",
     "text": [
      "/usr/local/lib/python3.11/dist-packages/xgboost/core.py:160: UserWarning: [21:04:21] WARNING: /workspace/src/context.cc:44: No visible GPU is found, setting device to CPU.\n",
      "  warnings.warn(smsg, UserWarning)\n"
     ]
    },
    {
     "data": {
      "text/html": [
       "<style>#sk-container-id-1 {color: black;background-color: white;}#sk-container-id-1 pre{padding: 0;}#sk-container-id-1 div.sk-toggleable {background-color: white;}#sk-container-id-1 label.sk-toggleable__label {cursor: pointer;display: block;width: 100%;margin-bottom: 0;padding: 0.3em;box-sizing: border-box;text-align: center;}#sk-container-id-1 label.sk-toggleable__label-arrow:before {content: \"▸\";float: left;margin-right: 0.25em;color: #696969;}#sk-container-id-1 label.sk-toggleable__label-arrow:hover:before {color: black;}#sk-container-id-1 div.sk-estimator:hover label.sk-toggleable__label-arrow:before {color: black;}#sk-container-id-1 div.sk-toggleable__content {max-height: 0;max-width: 0;overflow: hidden;text-align: left;background-color: #f0f8ff;}#sk-container-id-1 div.sk-toggleable__content pre {margin: 0.2em;color: black;border-radius: 0.25em;background-color: #f0f8ff;}#sk-container-id-1 input.sk-toggleable__control:checked~div.sk-toggleable__content {max-height: 200px;max-width: 100%;overflow: auto;}#sk-container-id-1 input.sk-toggleable__control:checked~label.sk-toggleable__label-arrow:before {content: \"▾\";}#sk-container-id-1 div.sk-estimator input.sk-toggleable__control:checked~label.sk-toggleable__label {background-color: #d4ebff;}#sk-container-id-1 div.sk-label input.sk-toggleable__control:checked~label.sk-toggleable__label {background-color: #d4ebff;}#sk-container-id-1 input.sk-hidden--visually {border: 0;clip: rect(1px 1px 1px 1px);clip: rect(1px, 1px, 1px, 1px);height: 1px;margin: -1px;overflow: hidden;padding: 0;position: absolute;width: 1px;}#sk-container-id-1 div.sk-estimator {font-family: monospace;background-color: #f0f8ff;border: 1px dotted black;border-radius: 0.25em;box-sizing: border-box;margin-bottom: 0.5em;}#sk-container-id-1 div.sk-estimator:hover {background-color: #d4ebff;}#sk-container-id-1 div.sk-parallel-item::after {content: \"\";width: 100%;border-bottom: 1px solid gray;flex-grow: 1;}#sk-container-id-1 div.sk-label:hover label.sk-toggleable__label {background-color: #d4ebff;}#sk-container-id-1 div.sk-serial::before {content: \"\";position: absolute;border-left: 1px solid gray;box-sizing: border-box;top: 0;bottom: 0;left: 50%;z-index: 0;}#sk-container-id-1 div.sk-serial {display: flex;flex-direction: column;align-items: center;background-color: white;padding-right: 0.2em;padding-left: 0.2em;position: relative;}#sk-container-id-1 div.sk-item {position: relative;z-index: 1;}#sk-container-id-1 div.sk-parallel {display: flex;align-items: stretch;justify-content: center;background-color: white;position: relative;}#sk-container-id-1 div.sk-item::before, #sk-container-id-1 div.sk-parallel-item::before {content: \"\";position: absolute;border-left: 1px solid gray;box-sizing: border-box;top: 0;bottom: 0;left: 50%;z-index: -1;}#sk-container-id-1 div.sk-parallel-item {display: flex;flex-direction: column;z-index: 1;position: relative;background-color: white;}#sk-container-id-1 div.sk-parallel-item:first-child::after {align-self: flex-end;width: 50%;}#sk-container-id-1 div.sk-parallel-item:last-child::after {align-self: flex-start;width: 50%;}#sk-container-id-1 div.sk-parallel-item:only-child::after {width: 0;}#sk-container-id-1 div.sk-dashed-wrapped {border: 1px dashed gray;margin: 0 0.4em 0.5em 0.4em;box-sizing: border-box;padding-bottom: 0.4em;background-color: white;}#sk-container-id-1 div.sk-label label {font-family: monospace;font-weight: bold;display: inline-block;line-height: 1.2em;}#sk-container-id-1 div.sk-label-container {text-align: center;}#sk-container-id-1 div.sk-container {/* jupyter's `normalize.less` sets `[hidden] { display: none; }` but bootstrap.min.css set `[hidden] { display: none !important; }` so we also need the `!important` here to be able to override the default hidden behavior on the sphinx rendered scikit-learn.org. See: https://github.com/scikit-learn/scikit-learn/issues/21755 */display: inline-block !important;position: relative;}#sk-container-id-1 div.sk-text-repr-fallback {display: none;}</style><div id=\"sk-container-id-1\" class=\"sk-top-container\"><div class=\"sk-text-repr-fallback\"><pre>XGBClassifier(base_score=None, booster=None, callbacks=None,\n",
       "              colsample_bylevel=None, colsample_bynode=None,\n",
       "              colsample_bytree=None, device=&#x27;cuda&#x27;, early_stopping_rounds=None,\n",
       "              enable_categorical=False, eval_metric=None, feature_types=None,\n",
       "              gamma=None, grow_policy=None, importance_type=None,\n",
       "              interaction_constraints=None, learning_rate=None, max_bin=None,\n",
       "              max_cat_threshold=None, max_cat_to_onehot=None,\n",
       "              max_delta_step=None, max_depth=None, max_leaves=None,\n",
       "              min_child_weight=None, missing=nan, monotone_constraints=None,\n",
       "              multi_strategy=None, n_estimators=None, n_jobs=None,\n",
       "              num_parallel_tree=None, objective=&#x27;multi:softprob&#x27;, ...)</pre><b>In a Jupyter environment, please rerun this cell to show the HTML representation or trust the notebook. <br />On GitHub, the HTML representation is unable to render, please try loading this page with nbviewer.org.</b></div><div class=\"sk-container\" hidden><div class=\"sk-item\"><div class=\"sk-estimator sk-toggleable\"><input class=\"sk-toggleable__control sk-hidden--visually\" id=\"sk-estimator-id-1\" type=\"checkbox\" checked><label for=\"sk-estimator-id-1\" class=\"sk-toggleable__label sk-toggleable__label-arrow\">XGBClassifier</label><div class=\"sk-toggleable__content\"><pre>XGBClassifier(base_score=None, booster=None, callbacks=None,\n",
       "              colsample_bylevel=None, colsample_bynode=None,\n",
       "              colsample_bytree=None, device=&#x27;cuda&#x27;, early_stopping_rounds=None,\n",
       "              enable_categorical=False, eval_metric=None, feature_types=None,\n",
       "              gamma=None, grow_policy=None, importance_type=None,\n",
       "              interaction_constraints=None, learning_rate=None, max_bin=None,\n",
       "              max_cat_threshold=None, max_cat_to_onehot=None,\n",
       "              max_delta_step=None, max_depth=None, max_leaves=None,\n",
       "              min_child_weight=None, missing=nan, monotone_constraints=None,\n",
       "              multi_strategy=None, n_estimators=None, n_jobs=None,\n",
       "              num_parallel_tree=None, objective=&#x27;multi:softprob&#x27;, ...)</pre></div></div></div></div></div>"
      ],
      "text/plain": [
       "XGBClassifier(base_score=None, booster=None, callbacks=None,\n",
       "              colsample_bylevel=None, colsample_bynode=None,\n",
       "              colsample_bytree=None, device='cuda', early_stopping_rounds=None,\n",
       "              enable_categorical=False, eval_metric=None, feature_types=None,\n",
       "              gamma=None, grow_policy=None, importance_type=None,\n",
       "              interaction_constraints=None, learning_rate=None, max_bin=None,\n",
       "              max_cat_threshold=None, max_cat_to_onehot=None,\n",
       "              max_delta_step=None, max_depth=None, max_leaves=None,\n",
       "              min_child_weight=None, missing=nan, monotone_constraints=None,\n",
       "              multi_strategy=None, n_estimators=None, n_jobs=None,\n",
       "              num_parallel_tree=None, objective='multi:softprob', ...)"
      ]
     },
     "execution_count": 14,
     "metadata": {},
     "output_type": "execute_result"
    }
   ],
   "source": [
    "from xgboost import XGBClassifier\n",
    "xgbc = XGBClassifier(random_state=seed, tree_method='hist', device='cuda')\n",
    "xgbc.fit(X_new[best_features], y)"
   ]
  },
  {
   "cell_type": "code",
   "execution_count": 15,
   "id": "3c6ca77d",
   "metadata": {
    "execution": {
     "iopub.execute_input": "2025-06-06T21:04:55.057376Z",
     "iopub.status.busy": "2025-06-06T21:04:55.057008Z",
     "iopub.status.idle": "2025-06-06T21:04:55.214950Z",
     "shell.execute_reply": "2025-06-06T21:04:55.213891Z"
    },
    "papermill": {
     "duration": 0.165732,
     "end_time": "2025-06-06T21:04:55.216658",
     "exception": false,
     "start_time": "2025-06-06T21:04:55.050926",
     "status": "completed"
    },
    "tags": []
   },
   "outputs": [],
   "source": [
    "sample_sub = pd.read_csv('/kaggle/input/playground-series-s5e6/sample_submission.csv')"
   ]
  },
  {
   "cell_type": "code",
   "execution_count": 16,
   "id": "ab8dea50",
   "metadata": {
    "execution": {
     "iopub.execute_input": "2025-06-06T21:04:55.227299Z",
     "iopub.status.busy": "2025-06-06T21:04:55.227009Z",
     "iopub.status.idle": "2025-06-06T21:04:58.510945Z",
     "shell.execute_reply": "2025-06-06T21:04:58.509955Z"
    },
    "papermill": {
     "duration": 3.291747,
     "end_time": "2025-06-06T21:04:58.513005",
     "exception": false,
     "start_time": "2025-06-06T21:04:55.221258",
     "status": "completed"
    },
    "tags": []
   },
   "outputs": [],
   "source": [
    "preds = xgbc.predict_proba(test_new[best_features])\n",
    "top3_indices = np.argsort(-preds, axis=1)[:, :3] \n",
    "top3_labels = [[rev_class_mapping[idx] for idx in row] for row in top3_indices]\n",
    "formatted_predictions = [' '.join(preds) for preds in top3_labels]\n",
    "\n",
    "sample_sub['Fertilizer Name'] = formatted_predictions\n",
    "sample_sub.to_csv('submission.csv', index=False)"
   ]
  },
  {
   "cell_type": "code",
   "execution_count": 17,
   "id": "98e2a8a9",
   "metadata": {
    "execution": {
     "iopub.execute_input": "2025-06-06T21:04:58.523017Z",
     "iopub.status.busy": "2025-06-06T21:04:58.522672Z",
     "iopub.status.idle": "2025-06-06T21:04:58.544797Z",
     "shell.execute_reply": "2025-06-06T21:04:58.543951Z"
    },
    "papermill": {
     "duration": 0.028859,
     "end_time": "2025-06-06T21:04:58.546328",
     "exception": false,
     "start_time": "2025-06-06T21:04:58.517469",
     "status": "completed"
    },
    "tags": []
   },
   "outputs": [
    {
     "data": {
      "text/html": [
       "<div>\n",
       "<style scoped>\n",
       "    .dataframe tbody tr th:only-of-type {\n",
       "        vertical-align: middle;\n",
       "    }\n",
       "\n",
       "    .dataframe tbody tr th {\n",
       "        vertical-align: top;\n",
       "    }\n",
       "\n",
       "    .dataframe thead th {\n",
       "        text-align: right;\n",
       "    }\n",
       "</style>\n",
       "<table border=\"1\" class=\"dataframe\">\n",
       "  <thead>\n",
       "    <tr style=\"text-align: right;\">\n",
       "      <th></th>\n",
       "      <th>id</th>\n",
       "      <th>Fertilizer Name</th>\n",
       "    </tr>\n",
       "  </thead>\n",
       "  <tbody>\n",
       "    <tr>\n",
       "      <th>0</th>\n",
       "      <td>750000</td>\n",
       "      <td>DAP 10-26-26 28-28</td>\n",
       "    </tr>\n",
       "    <tr>\n",
       "      <th>1</th>\n",
       "      <td>750001</td>\n",
       "      <td>17-17-17 20-20 10-26-26</td>\n",
       "    </tr>\n",
       "    <tr>\n",
       "      <th>2</th>\n",
       "      <td>750002</td>\n",
       "      <td>14-35-14 10-26-26 28-28</td>\n",
       "    </tr>\n",
       "    <tr>\n",
       "      <th>3</th>\n",
       "      <td>750003</td>\n",
       "      <td>14-35-14 10-26-26 17-17-17</td>\n",
       "    </tr>\n",
       "    <tr>\n",
       "      <th>4</th>\n",
       "      <td>750004</td>\n",
       "      <td>20-20 28-28 10-26-26</td>\n",
       "    </tr>\n",
       "    <tr>\n",
       "      <th>...</th>\n",
       "      <td>...</td>\n",
       "      <td>...</td>\n",
       "    </tr>\n",
       "    <tr>\n",
       "      <th>249995</th>\n",
       "      <td>999995</td>\n",
       "      <td>14-35-14 17-17-17 28-28</td>\n",
       "    </tr>\n",
       "    <tr>\n",
       "      <th>249996</th>\n",
       "      <td>999996</td>\n",
       "      <td>14-35-14 17-17-17 20-20</td>\n",
       "    </tr>\n",
       "    <tr>\n",
       "      <th>249997</th>\n",
       "      <td>999997</td>\n",
       "      <td>14-35-14 10-26-26 DAP</td>\n",
       "    </tr>\n",
       "    <tr>\n",
       "      <th>249998</th>\n",
       "      <td>999998</td>\n",
       "      <td>28-28 17-17-17 10-26-26</td>\n",
       "    </tr>\n",
       "    <tr>\n",
       "      <th>249999</th>\n",
       "      <td>999999</td>\n",
       "      <td>17-17-17 14-35-14 10-26-26</td>\n",
       "    </tr>\n",
       "  </tbody>\n",
       "</table>\n",
       "<p>250000 rows × 2 columns</p>\n",
       "</div>"
      ],
      "text/plain": [
       "            id             Fertilizer Name\n",
       "0       750000          DAP 10-26-26 28-28\n",
       "1       750001     17-17-17 20-20 10-26-26\n",
       "2       750002     14-35-14 10-26-26 28-28\n",
       "3       750003  14-35-14 10-26-26 17-17-17\n",
       "4       750004        20-20 28-28 10-26-26\n",
       "...        ...                         ...\n",
       "249995  999995     14-35-14 17-17-17 28-28\n",
       "249996  999996     14-35-14 17-17-17 20-20\n",
       "249997  999997       14-35-14 10-26-26 DAP\n",
       "249998  999998     28-28 17-17-17 10-26-26\n",
       "249999  999999  17-17-17 14-35-14 10-26-26\n",
       "\n",
       "[250000 rows x 2 columns]"
      ]
     },
     "execution_count": 17,
     "metadata": {},
     "output_type": "execute_result"
    }
   ],
   "source": [
    "sample_sub"
   ]
  },
  {
   "cell_type": "code",
   "execution_count": 18,
   "id": "2e1244c4",
   "metadata": {
    "execution": {
     "iopub.execute_input": "2025-06-06T21:04:58.557180Z",
     "iopub.status.busy": "2025-06-06T21:04:58.556848Z",
     "iopub.status.idle": "2025-06-06T21:04:58.561582Z",
     "shell.execute_reply": "2025-06-06T21:04:58.560523Z"
    },
    "papermill": {
     "duration": 0.012051,
     "end_time": "2025-06-06T21:04:58.563271",
     "exception": false,
     "start_time": "2025-06-06T21:04:58.551220",
     "status": "completed"
    },
    "tags": []
   },
   "outputs": [],
   "source": [
    "# # Use the SAME model instance that RFECV used\n",
    "# same_model = rfecv.estimator_\n",
    "\n",
    "# def cv_score_same_model(X, y, model, folds=folds, seed=seed, k=3):\n",
    "#     skf = StratifiedKFold(random_state=seed, n_splits=folds, shuffle=True)\n",
    "    \n",
    "#     scores = []\n",
    "#     print('Using the exact same model instance as RFECV')\n",
    "    \n",
    "#     for i, (train_index, valid_index) in enumerate(skf.split(X, y), 1):\n",
    "#         X_train, X_valid = X.iloc[train_index], X.iloc[valid_index]\n",
    "#         y_train, y_valid = y.iloc[train_index], y.iloc[valid_index]\n",
    "        \n",
    "#         model.fit(X_train, y_train)\n",
    "#         probas = model.predict_proba(X_valid)\n",
    "#         score = mapk_score(y_valid, probas, k=k)\n",
    "#         print(f'Score on fold {i} is {score}')\n",
    "#         scores.append(score)\n",
    "    \n",
    "#     mean_score = np.mean(scores)\n",
    "#     print(f'Mean score is {mean_score}')\n",
    "#     return mean_score\n",
    "\n",
    "# # Test with the same model RFECV used\n",
    "# result = cv_score_same_model(X_new[cols], y, same_model)"
   ]
  }
 ],
 "metadata": {
  "kaggle": {
   "accelerator": "none",
   "dataSources": [
    {
     "databundleVersionId": 12184666,
     "sourceId": 91717,
     "sourceType": "competition"
    },
    {
     "datasetId": 7588372,
     "sourceId": 12058451,
     "sourceType": "datasetVersion"
    }
   ],
   "dockerImageVersionId": 31040,
   "isGpuEnabled": false,
   "isInternetEnabled": true,
   "language": "python",
   "sourceType": "notebook"
  },
  "kernelspec": {
   "display_name": "Python 3",
   "language": "python",
   "name": "python3"
  },
  "language_info": {
   "codemirror_mode": {
    "name": "ipython",
    "version": 3
   },
   "file_extension": ".py",
   "mimetype": "text/x-python",
   "name": "python",
   "nbconvert_exporter": "python",
   "pygments_lexer": "ipython3",
   "version": "3.11.11"
  },
  "papermill": {
   "default_parameters": {},
   "duration": 101.55886,
   "end_time": "2025-06-06T21:04:59.790402",
   "environment_variables": {},
   "exception": null,
   "input_path": "__notebook__.ipynb",
   "output_path": "__notebook__.ipynb",
   "parameters": {},
   "start_time": "2025-06-06T21:03:18.231542",
   "version": "2.6.0"
  }
 },
 "nbformat": 4,
 "nbformat_minor": 5
}
