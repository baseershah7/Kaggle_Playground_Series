{
 "cells": [
  {
   "cell_type": "code",
   "execution_count": 1,
   "id": "56a7fcf3",
   "metadata": {
    "execution": {
     "iopub.execute_input": "2025-07-23T12:39:27.602301Z",
     "iopub.status.busy": "2025-07-23T12:39:27.601907Z",
     "iopub.status.idle": "2025-07-23T12:39:44.734906Z",
     "shell.execute_reply": "2025-07-23T12:39:44.733770Z"
    },
    "papermill": {
     "duration": 17.15064,
     "end_time": "2025-07-23T12:39:44.737446",
     "exception": false,
     "start_time": "2025-07-23T12:39:27.586806",
     "status": "completed"
    },
    "tags": []
   },
   "outputs": [
    {
     "name": "stdout",
     "output_type": "stream",
     "text": [
      "Requirement already satisfied: scikit-learn in /opt/conda/lib/python3.10/site-packages (1.2.2)\r\n",
      "Collecting scikit-learn\r\n",
      "  Downloading scikit_learn-1.7.1-cp310-cp310-manylinux2014_x86_64.manylinux_2_17_x86_64.whl.metadata (11 kB)\r\n",
      "Requirement already satisfied: numpy>=1.22.0 in /opt/conda/lib/python3.10/site-packages (from scikit-learn) (1.26.4)\r\n",
      "Requirement already satisfied: scipy>=1.8.0 in /opt/conda/lib/python3.10/site-packages (from scikit-learn) (1.14.1)\r\n",
      "Requirement already satisfied: joblib>=1.2.0 in /opt/conda/lib/python3.10/site-packages (from scikit-learn) (1.4.2)\r\n",
      "Requirement already satisfied: threadpoolctl>=3.1.0 in /opt/conda/lib/python3.10/site-packages (from scikit-learn) (3.5.0)\r\n",
      "Downloading scikit_learn-1.7.1-cp310-cp310-manylinux2014_x86_64.manylinux_2_17_x86_64.whl (9.7 MB)\r\n",
      "\u001b[2K   \u001b[90m━━━━━━━━━━━━━━━━━━━━━━━━━━━━━━━━━━━━━━━━\u001b[0m \u001b[32m9.7/9.7 MB\u001b[0m \u001b[31m51.0 MB/s\u001b[0m eta \u001b[36m0:00:00\u001b[0m\r\n",
      "\u001b[?25hInstalling collected packages: scikit-learn\r\n",
      "  Attempting uninstall: scikit-learn\r\n",
      "    Found existing installation: scikit-learn 1.2.2\r\n",
      "    Uninstalling scikit-learn-1.2.2:\r\n",
      "      Successfully uninstalled scikit-learn-1.2.2\r\n",
      "\u001b[31mERROR: pip's dependency resolver does not currently take into account all the packages that are installed. This behaviour is the source of the following dependency conflicts.\r\n",
      "bigframes 0.22.0 requires google-cloud-bigquery[bqstorage,pandas]>=3.10.0, but you have google-cloud-bigquery 2.34.4 which is incompatible.\r\n",
      "bigframes 0.22.0 requires google-cloud-storage>=2.0.0, but you have google-cloud-storage 1.44.0 which is incompatible.\r\n",
      "bigframes 0.22.0 requires pandas<2.1.4,>=1.5.0, but you have pandas 2.2.2 which is incompatible.\r\n",
      "cesium 0.12.3 requires numpy<3.0,>=2.0, but you have numpy 1.26.4 which is incompatible.\r\n",
      "dataproc-jupyter-plugin 0.1.79 requires pydantic~=1.10.0, but you have pydantic 2.9.2 which is incompatible.\u001b[0m\u001b[31m\r\n",
      "\u001b[0mSuccessfully installed scikit-learn-1.7.1\r\n"
     ]
    }
   ],
   "source": [
    "!pip install -U scikit-learn"
   ]
  },
  {
   "cell_type": "code",
   "execution_count": 2,
   "id": "05619365",
   "metadata": {
    "_cell_guid": "b1076dfc-b9ad-4769-8c92-a6c4dae69d19",
    "_uuid": "8f2839f25d086af736a60e9eeb907d3b93b6e0e5",
    "execution": {
     "iopub.execute_input": "2025-07-23T12:39:44.766409Z",
     "iopub.status.busy": "2025-07-23T12:39:44.765633Z",
     "iopub.status.idle": "2025-07-23T12:39:49.431253Z",
     "shell.execute_reply": "2025-07-23T12:39:49.429978Z"
    },
    "papermill": {
     "duration": 4.682772,
     "end_time": "2025-07-23T12:39:49.434356",
     "exception": false,
     "start_time": "2025-07-23T12:39:44.751584",
     "status": "completed"
    },
    "tags": []
   },
   "outputs": [
    {
     "name": "stdout",
     "output_type": "stream",
     "text": [
      "/kaggle/input/playground-series-s4e9/sample_submission.csv\n",
      "/kaggle/input/playground-series-s4e9/train.csv\n",
      "/kaggle/input/playground-series-s4e9/test.csv\n"
     ]
    }
   ],
   "source": [
    "# This Python 3 environment comes with many helpful analytics libraries installed\n",
    "# It is defined by the kaggle/python Docker image: https://github.com/kaggle/docker-python\n",
    "# For example, here's several helpful packages to load\n",
    "\n",
    "import numpy as np # linear algebra\n",
    "import pandas as pd # data processing, CSV file I/O (e.g. pd.read_csv)\n",
    "import matplotlib.pyplot as plt\n",
    "import seaborn as sns\n",
    "import scipy.stats as stats\n",
    "from sklearn.preprocessing import RobustScaler, StandardScaler, LabelEncoder, OrdinalEncoder\n",
    "from sklearn.experimental import enable_iterative_imputer\n",
    "from sklearn.impute import KNNImputer, IterativeImputer\n",
    "from sklearn.svm import SVR\n",
    "from sklearn.ensemble import (RandomForestRegressor, VotingRegressor, StackingRegressor, \n",
    "                                ExtraTreesRegressor, AdaBoostRegressor, GradientBoostingRegressor, HistGradientBoostingRegressor)\n",
    "from sklearn.model_selection import train_test_split, KFold, cross_val_score\n",
    "from sklearn.feature_selection import mutual_info_regression\n",
    "from sklearn.metrics import mean_absolute_error, root_mean_squared_error, make_scorer\n",
    "import xgboost as xgb\n",
    "import catboost as cat\n",
    "import lightgbm as lgbm\n",
    "# Input data files are available in the read-only \"../input/\" directory\n",
    "# For example, running this (by clicking run or pressing Shift+Enter) will list all files under the input directory\n",
    "\n",
    "import os\n",
    "for dirname, _, filenames in os.walk('/kaggle/input'):\n",
    "    for filename in filenames:\n",
    "        print(os.path.join(dirname, filename))\n",
    "\n",
    "# You can write up to 20GB to the current directory (/kaggle/working/) that gets preserved as output when you create a version using \"Save & Run All\" \n",
    "# You can also write temporary files to /kaggle/temp/, but they won't be saved outside of the current session"
   ]
  },
  {
   "cell_type": "code",
   "execution_count": 3,
   "id": "6559c074",
   "metadata": {
    "execution": {
     "iopub.execute_input": "2025-07-23T12:39:49.463046Z",
     "iopub.status.busy": "2025-07-23T12:39:49.462471Z",
     "iopub.status.idle": "2025-07-23T12:39:49.467399Z",
     "shell.execute_reply": "2025-07-23T12:39:49.466328Z"
    },
    "papermill": {
     "duration": 0.021733,
     "end_time": "2025-07-23T12:39:49.469745",
     "exception": false,
     "start_time": "2025-07-23T12:39:49.448012",
     "status": "completed"
    },
    "tags": []
   },
   "outputs": [],
   "source": [
    "seed=42"
   ]
  },
  {
   "cell_type": "code",
   "execution_count": 4,
   "id": "e0a40ce6",
   "metadata": {
    "execution": {
     "iopub.execute_input": "2025-07-23T12:39:49.497198Z",
     "iopub.status.busy": "2025-07-23T12:39:49.496802Z",
     "iopub.status.idle": "2025-07-23T12:39:50.881202Z",
     "shell.execute_reply": "2025-07-23T12:39:50.880039Z"
    },
    "papermill": {
     "duration": 1.400892,
     "end_time": "2025-07-23T12:39:50.883846",
     "exception": false,
     "start_time": "2025-07-23T12:39:49.482954",
     "status": "completed"
    },
    "tags": []
   },
   "outputs": [],
   "source": [
    "train = pd.read_csv('/kaggle/input/playground-series-s4e9/train.csv', index_col=[0])\n",
    "test = pd.read_csv('/kaggle/input/playground-series-s4e9/test.csv')"
   ]
  },
  {
   "cell_type": "code",
   "execution_count": 5,
   "id": "63ca7639",
   "metadata": {
    "execution": {
     "iopub.execute_input": "2025-07-23T12:39:50.912426Z",
     "iopub.status.busy": "2025-07-23T12:39:50.912018Z",
     "iopub.status.idle": "2025-07-23T12:39:50.978330Z",
     "shell.execute_reply": "2025-07-23T12:39:50.977059Z"
    },
    "papermill": {
     "duration": 0.083908,
     "end_time": "2025-07-23T12:39:50.981007",
     "exception": false,
     "start_time": "2025-07-23T12:39:50.897099",
     "status": "completed"
    },
    "tags": []
   },
   "outputs": [
    {
     "name": "stdout",
     "output_type": "stream",
     "text": [
      "Train missing values :\n",
      "\n",
      "id __ 0 __ Missing Percentage : 0 %\n",
      "brand __ 0 __ Missing Percentage : 0 %\n",
      "model __ 0 __ Missing Percentage : 0 %\n",
      "model_year __ 0 __ Missing Percentage : 0 %\n",
      "milage __ 0 __ Missing Percentage : 0 %\n",
      "fuel_type __ 3383 __ Missing Percentage : 2 %\n",
      "engine __ 0 __ Missing Percentage : 0 %\n",
      "transmission __ 0 __ Missing Percentage : 0 %\n",
      "ext_col __ 0 __ Missing Percentage : 0 %\n",
      "int_col __ 0 __ Missing Percentage : 0 %\n",
      "accident __ 1632 __ Missing Percentage : 1 %\n",
      "clean_title __ 14239 __ Missing Percentage : 8 %\n"
     ]
    }
   ],
   "source": [
    "print('Train missing values :\\n')\n",
    "for col in test.columns:\n",
    "    if col!='price':\n",
    "        null_values=test[col].isnull().sum()\n",
    "        print(col, '__', null_values, '__ Missing Percentage :', (null_values/train.shape[0]*100).__ceil__(),'%')"
   ]
  },
  {
   "cell_type": "code",
   "execution_count": 6,
   "id": "8a18c532",
   "metadata": {
    "execution": {
     "iopub.execute_input": "2025-07-23T12:39:51.009195Z",
     "iopub.status.busy": "2025-07-23T12:39:51.008783Z",
     "iopub.status.idle": "2025-07-23T12:39:51.097685Z",
     "shell.execute_reply": "2025-07-23T12:39:51.096193Z"
    },
    "papermill": {
     "duration": 0.105722,
     "end_time": "2025-07-23T12:39:51.100103",
     "exception": false,
     "start_time": "2025-07-23T12:39:50.994381",
     "status": "completed"
    },
    "tags": []
   },
   "outputs": [
    {
     "name": "stdout",
     "output_type": "stream",
     "text": [
      "train missing values :\n",
      "\n",
      "brand __ 0 __ Missing Percentage : 0 %\n",
      "model __ 0 __ Missing Percentage : 0 %\n",
      "model_year __ 0 __ Missing Percentage : 0 %\n",
      "milage __ 0 __ Missing Percentage : 0 %\n",
      "fuel_type __ 5083 __ Missing Percentage : 3 %\n",
      "engine __ 0 __ Missing Percentage : 0 %\n",
      "transmission __ 0 __ Missing Percentage : 0 %\n",
      "ext_col __ 0 __ Missing Percentage : 0 %\n",
      "int_col __ 0 __ Missing Percentage : 0 %\n",
      "accident __ 2452 __ Missing Percentage : 2 %\n",
      "clean_title __ 21419 __ Missing Percentage : 12 %\n"
     ]
    }
   ],
   "source": [
    "print('train missing values :\\n')\n",
    "for col in train.columns:\n",
    "    if col!='price':\n",
    "        null_values=train[col].isnull().sum()\n",
    "        print(col, '__', null_values, '__ Missing Percentage :', (null_values/train.shape[0]*100).__ceil__(),'%')"
   ]
  },
  {
   "cell_type": "code",
   "execution_count": 7,
   "id": "edba0a55",
   "metadata": {
    "execution": {
     "iopub.execute_input": "2025-07-23T12:39:51.127826Z",
     "iopub.status.busy": "2025-07-23T12:39:51.127356Z",
     "iopub.status.idle": "2025-07-23T12:39:51.156658Z",
     "shell.execute_reply": "2025-07-23T12:39:51.155625Z"
    },
    "papermill": {
     "duration": 0.046049,
     "end_time": "2025-07-23T12:39:51.159044",
     "exception": false,
     "start_time": "2025-07-23T12:39:51.112995",
     "status": "completed"
    },
    "tags": []
   },
   "outputs": [],
   "source": [
    "# train['accident'] = train['accident'].fillna('None reported')\n",
    "train['clean_title'] = train['clean_title'].fillna('No')\n",
    "# test['accident'] = test['accident'].fillna('None reported')\n",
    "test['clean_title'] = test['clean_title'].fillna('No')"
   ]
  },
  {
   "cell_type": "code",
   "execution_count": 8,
   "id": "a0b22564",
   "metadata": {
    "execution": {
     "iopub.execute_input": "2025-07-23T12:39:51.187150Z",
     "iopub.status.busy": "2025-07-23T12:39:51.185793Z",
     "iopub.status.idle": "2025-07-23T12:39:51.191119Z",
     "shell.execute_reply": "2025-07-23T12:39:51.189968Z"
    },
    "papermill": {
     "duration": 0.021721,
     "end_time": "2025-07-23T12:39:51.193507",
     "exception": false,
     "start_time": "2025-07-23T12:39:51.171786",
     "status": "completed"
    },
    "tags": []
   },
   "outputs": [],
   "source": [
    "# train['fuel_type'] = train['fuel_type'].replace(['–', 'not supported'], np.nan)\n",
    "# test['fuel_type'] = test['fuel_type'].replace(['–', 'not supported'], np.nan)"
   ]
  },
  {
   "cell_type": "code",
   "execution_count": 9,
   "id": "4202d289",
   "metadata": {
    "execution": {
     "iopub.execute_input": "2025-07-23T12:39:51.220711Z",
     "iopub.status.busy": "2025-07-23T12:39:51.220293Z",
     "iopub.status.idle": "2025-07-23T12:39:51.247005Z",
     "shell.execute_reply": "2025-07-23T12:39:51.245696Z"
    },
    "papermill": {
     "duration": 0.04306,
     "end_time": "2025-07-23T12:39:51.249458",
     "exception": false,
     "start_time": "2025-07-23T12:39:51.206398",
     "status": "completed"
    },
    "tags": []
   },
   "outputs": [
    {
     "data": {
      "text/plain": [
       "clean_title\n",
       "Yes    167114\n",
       "No      21419\n",
       "Name: count, dtype: int64"
      ]
     },
     "execution_count": 9,
     "metadata": {},
     "output_type": "execute_result"
    }
   ],
   "source": [
    "train['clean_title'].value_counts()"
   ]
  },
  {
   "cell_type": "code",
   "execution_count": 10,
   "id": "e8c7fcbf",
   "metadata": {
    "execution": {
     "iopub.execute_input": "2025-07-23T12:39:51.278216Z",
     "iopub.status.busy": "2025-07-23T12:39:51.277780Z",
     "iopub.status.idle": "2025-07-23T12:39:51.300233Z",
     "shell.execute_reply": "2025-07-23T12:39:51.299047Z"
    },
    "papermill": {
     "duration": 0.03893,
     "end_time": "2025-07-23T12:39:51.302500",
     "exception": false,
     "start_time": "2025-07-23T12:39:51.263570",
     "status": "completed"
    },
    "tags": []
   },
   "outputs": [
    {
     "data": {
      "text/plain": [
       "accident\n",
       "None reported                             144514\n",
       "At least 1 accident or damage reported     41567\n",
       "Name: count, dtype: int64"
      ]
     },
     "execution_count": 10,
     "metadata": {},
     "output_type": "execute_result"
    }
   ],
   "source": [
    "train['accident'].value_counts()"
   ]
  },
  {
   "cell_type": "code",
   "execution_count": 11,
   "id": "40a0e631",
   "metadata": {
    "execution": {
     "iopub.execute_input": "2025-07-23T12:39:51.330845Z",
     "iopub.status.busy": "2025-07-23T12:39:51.330435Z",
     "iopub.status.idle": "2025-07-23T12:39:51.353932Z",
     "shell.execute_reply": "2025-07-23T12:39:51.352860Z"
    },
    "papermill": {
     "duration": 0.040408,
     "end_time": "2025-07-23T12:39:51.356079",
     "exception": false,
     "start_time": "2025-07-23T12:39:51.315671",
     "status": "completed"
    },
    "tags": []
   },
   "outputs": [
    {
     "data": {
      "text/plain": [
       "engine\n",
       "355.0HP 5.3L 8 Cylinder Engine Gasoline Fuel             3462\n",
       "240.0HP 2.0L 4 Cylinder Engine Gasoline Fuel             2902\n",
       "420.0HP 6.2L 8 Cylinder Engine Gasoline Fuel             2841\n",
       "2.0L I4 16V GDI DOHC Turbo                               2680\n",
       "375.0HP 3.5L V6 Cylinder Engine Gasoline Fuel            2451\n",
       "340.0HP 3.0L V6 Cylinder Engine Gasoline Fuel            2436\n",
       "490.0HP 6.2L 8 Cylinder Engine Gasoline Fuel             2187\n",
       "455.0HP 6.2L 8 Cylinder Engine Gasoline Fuel             2138\n",
       "425.0HP 3.0L Straight 6 Cylinder Engine Gasoline Fuel    2134\n",
       "300.0HP 3.0L Straight 6 Cylinder Engine Gasoline Fuel    2084\n",
       "295.0HP 3.5L V6 Cylinder Engine Gasoline Fuel            1917\n",
       "285.0HP 3.6L V6 Cylinder Engine Gasoline Fuel            1910\n",
       "302.0HP 3.5L V6 Cylinder Engine Gasoline Fuel            1895\n",
       "3.5L V6 24V PDI DOHC Twin Turbo                          1842\n",
       "301.0HP 4.6L 8 Cylinder Engine Gasoline Fuel             1578\n",
       "5.7L V8 16V MPFI OHV                                     1540\n",
       "4.0L V8 32V GDI DOHC Twin Turbo                          1516\n",
       "3.6L V6 24V MPFI DOHC                                    1480\n",
       "268.0HP 3.5L V6 Cylinder Engine Gasoline Fuel            1470\n",
       "333.0HP 3.0L V6 Cylinder Engine Gasoline Fuel            1319\n",
       "Name: count, dtype: int64"
      ]
     },
     "execution_count": 11,
     "metadata": {},
     "output_type": "execute_result"
    }
   ],
   "source": [
    "train['engine'].value_counts().head(20)"
   ]
  },
  {
   "cell_type": "code",
   "execution_count": 12,
   "id": "dfce276f",
   "metadata": {
    "execution": {
     "iopub.execute_input": "2025-07-23T12:39:51.385093Z",
     "iopub.status.busy": "2025-07-23T12:39:51.384688Z",
     "iopub.status.idle": "2025-07-23T12:39:51.406594Z",
     "shell.execute_reply": "2025-07-23T12:39:51.405567Z"
    },
    "papermill": {
     "duration": 0.038593,
     "end_time": "2025-07-23T12:39:51.408718",
     "exception": false,
     "start_time": "2025-07-23T12:39:51.370125",
     "status": "completed"
    },
    "tags": []
   },
   "outputs": [
    {
     "data": {
      "text/plain": [
       "fuel_type\n",
       "Gasoline          165940\n",
       "Hybrid              6832\n",
       "E85 Flex Fuel       5406\n",
       "Diesel              3955\n",
       "–                    781\n",
       "Plug-In Hybrid       521\n",
       "not supported         15\n",
       "Name: count, dtype: int64"
      ]
     },
     "execution_count": 12,
     "metadata": {},
     "output_type": "execute_result"
    }
   ],
   "source": [
    "train['fuel_type'].value_counts()"
   ]
  },
  {
   "cell_type": "code",
   "execution_count": 13,
   "id": "31466f2e",
   "metadata": {
    "execution": {
     "iopub.execute_input": "2025-07-23T12:39:51.437628Z",
     "iopub.status.busy": "2025-07-23T12:39:51.437212Z",
     "iopub.status.idle": "2025-07-23T12:39:51.450577Z",
     "shell.execute_reply": "2025-07-23T12:39:51.449202Z"
    },
    "papermill": {
     "duration": 0.03055,
     "end_time": "2025-07-23T12:39:51.453000",
     "exception": false,
     "start_time": "2025-07-23T12:39:51.422450",
     "status": "completed"
    },
    "tags": []
   },
   "outputs": [
    {
     "name": "stdout",
     "output_type": "stream",
     "text": [
      "3383\n"
     ]
    }
   ],
   "source": [
    "print(test['fuel_type'].isnull().sum())"
   ]
  },
  {
   "cell_type": "code",
   "execution_count": 14,
   "id": "4378a24b",
   "metadata": {
    "execution": {
     "iopub.execute_input": "2025-07-23T12:39:51.481685Z",
     "iopub.status.busy": "2025-07-23T12:39:51.481207Z",
     "iopub.status.idle": "2025-07-23T12:39:51.539903Z",
     "shell.execute_reply": "2025-07-23T12:39:51.525223Z"
    },
    "papermill": {
     "duration": 0.076025,
     "end_time": "2025-07-23T12:39:51.542467",
     "exception": false,
     "start_time": "2025-07-23T12:39:51.466442",
     "status": "completed"
    },
    "tags": []
   },
   "outputs": [],
   "source": [
    "def get_mode(series):\n",
    "    mode = series.mode()[:5]\n",
    "    return mode.to_list() if not mode.empty else [None]\n",
    "\n",
    "group = train.groupby('fuel_type')['engine'].apply(lambda x: get_mode(x)).to_dict()"
   ]
  },
  {
   "cell_type": "code",
   "execution_count": 15,
   "id": "770125a3",
   "metadata": {
    "execution": {
     "iopub.execute_input": "2025-07-23T12:39:51.570757Z",
     "iopub.status.busy": "2025-07-23T12:39:51.570207Z",
     "iopub.status.idle": "2025-07-23T12:39:51.610186Z",
     "shell.execute_reply": "2025-07-23T12:39:51.609031Z"
    },
    "papermill": {
     "duration": 0.05681,
     "end_time": "2025-07-23T12:39:51.612616",
     "exception": false,
     "start_time": "2025-07-23T12:39:51.555806",
     "status": "completed"
    },
    "tags": []
   },
   "outputs": [],
   "source": [
    "fuel_noisy_rows = train[(train['fuel_type']=='–') | (train['fuel_type']=='not supported')].index"
   ]
  },
  {
   "cell_type": "code",
   "execution_count": 16,
   "id": "42952be7",
   "metadata": {
    "execution": {
     "iopub.execute_input": "2025-07-23T12:39:51.641276Z",
     "iopub.status.busy": "2025-07-23T12:39:51.640887Z",
     "iopub.status.idle": "2025-07-23T12:39:51.645835Z",
     "shell.execute_reply": "2025-07-23T12:39:51.644654Z"
    },
    "papermill": {
     "duration": 0.022031,
     "end_time": "2025-07-23T12:39:51.648197",
     "exception": false,
     "start_time": "2025-07-23T12:39:51.626166",
     "status": "completed"
    },
    "tags": []
   },
   "outputs": [],
   "source": [
    "# train['engine'].replace('–', np.nan, inplace=True)\n",
    "# test['engine'].replace('–', np.nan, inplace=True)\n",
    "# train.loc[train['engine']=='–', 'engine'] = np.nan\n",
    "# test.loc[train['engine']=='–', 'engine'] = np.nan\n",
    "\n",
    "# train.loc[train['fuel_type']=='–', 'fuel_type'] = np.nan\n",
    "# test.loc[train['engine']=='–', 'fuel_type'] = np.nan"
   ]
  },
  {
   "cell_type": "code",
   "execution_count": 17,
   "id": "4300195d",
   "metadata": {
    "execution": {
     "iopub.execute_input": "2025-07-23T12:39:51.677801Z",
     "iopub.status.busy": "2025-07-23T12:39:51.677353Z",
     "iopub.status.idle": "2025-07-23T12:40:11.321505Z",
     "shell.execute_reply": "2025-07-23T12:40:11.320475Z"
    },
    "papermill": {
     "duration": 19.662097,
     "end_time": "2025-07-23T12:40:11.324163",
     "exception": false,
     "start_time": "2025-07-23T12:39:51.662066",
     "status": "completed"
    },
    "tags": []
   },
   "outputs": [
    {
     "name": "stdout",
     "output_type": "stream",
     "text": [
      "train 12\n",
      "test 4\n"
     ]
    }
   ],
   "source": [
    "import pandas as pd\n",
    "\n",
    "def get_modes(series):\n",
    "    modes = series.mode() \n",
    "    return modes.tolist() if not modes.empty else [None] \n",
    "\n",
    "brand_model_fuel_mappings_train = train.groupby(['brand','model', 'model_year'])['fuel_type'].agg(lambda x: x.mode()[0] if not x.mode().empty else np.nan).to_dict()\n",
    "brand_model_fuel_mappings_test = test.groupby(['brand','model', 'model_year'])['fuel_type'].agg(lambda x: x.mode()[0] if not x.mode().empty else np.nan).to_dict()\n",
    "engine_fuel_map_train = train.groupby('engine')['fuel_type'].agg(get_modes).to_dict()\n",
    "engine_fuel_map_test = test.groupby('engine')['fuel_type'].agg(get_modes).to_dict()\n",
    "\n",
    "def impute_fuel_type_by_engine(row, engine_fuel_map):\n",
    "    if pd.isnull(row['fuel_type']):\n",
    "        possible_modes = engine_fuel_map.get(row['engine'], [])\n",
    "        for mode in possible_modes:\n",
    "            if mode is not None:\n",
    "                return mode\n",
    "    return row['fuel_type']\n",
    "\n",
    "def impute_fuel_type_by_model(row, brand_model_fuel_map):\n",
    "    if pd.isnull(row['fuel_type']):\n",
    "        mode = brand_model_fuel_map.get((row['brand'], row['model'], row['model_year']), row['fuel_type'])\n",
    "        if mode is not row['fuel_type']:\n",
    "            return mode\n",
    "    return row['fuel_type']\n",
    "\n",
    "    \n",
    "train['fuel_type'] = train.apply(lambda row: impute_fuel_type_by_model(row, brand_model_fuel_mappings_train), axis=1)\n",
    "train['fuel_type'] = train.apply(lambda row: impute_fuel_type_by_model(row, brand_model_fuel_mappings_test), axis=1)\n",
    "\n",
    "test['fuel_type'] = test.apply(lambda row: impute_fuel_type_by_model(row, brand_model_fuel_mappings_train), axis=1)\n",
    "test['fuel_type'] = test.apply(lambda row: impute_fuel_type_by_model(row, brand_model_fuel_mappings_test), axis=1)\n",
    "\n",
    "train['fuel_type'] = train.apply(lambda row: impute_fuel_type_by_engine(row, engine_fuel_map_train), axis=1)\n",
    "train['fuel_type'] = train.apply(lambda row: impute_fuel_type_by_engine(row, engine_fuel_map_test), axis=1)\n",
    "\n",
    "test['fuel_type'] = test.apply(lambda row: impute_fuel_type_by_engine(row, engine_fuel_map_test), axis=1)\n",
    "test['fuel_type'] = test.apply(lambda row: impute_fuel_type_by_engine(row, engine_fuel_map_train), axis=1)\n",
    "\n",
    "print('train', train['fuel_type'].isnull().sum())\n",
    "print('test', test['fuel_type'].isnull().sum())\n"
   ]
  },
  {
   "cell_type": "code",
   "execution_count": 18,
   "id": "d37bfa8e",
   "metadata": {
    "execution": {
     "iopub.execute_input": "2025-07-23T12:40:11.356622Z",
     "iopub.status.busy": "2025-07-23T12:40:11.356195Z",
     "iopub.status.idle": "2025-07-23T12:40:11.390710Z",
     "shell.execute_reply": "2025-07-23T12:40:11.389530Z"
    },
    "papermill": {
     "duration": 0.054363,
     "end_time": "2025-07-23T12:40:11.392936",
     "exception": false,
     "start_time": "2025-07-23T12:40:11.338573",
     "status": "completed"
    },
    "tags": []
   },
   "outputs": [
    {
     "data": {
      "text/html": [
       "<div>\n",
       "<style scoped>\n",
       "    .dataframe tbody tr th:only-of-type {\n",
       "        vertical-align: middle;\n",
       "    }\n",
       "\n",
       "    .dataframe tbody tr th {\n",
       "        vertical-align: top;\n",
       "    }\n",
       "\n",
       "    .dataframe thead th {\n",
       "        text-align: right;\n",
       "    }\n",
       "</style>\n",
       "<table border=\"1\" class=\"dataframe\">\n",
       "  <thead>\n",
       "    <tr style=\"text-align: right;\">\n",
       "      <th></th>\n",
       "      <th>brand</th>\n",
       "      <th>model</th>\n",
       "      <th>model_year</th>\n",
       "      <th>milage</th>\n",
       "      <th>fuel_type</th>\n",
       "      <th>engine</th>\n",
       "      <th>transmission</th>\n",
       "      <th>ext_col</th>\n",
       "      <th>int_col</th>\n",
       "      <th>accident</th>\n",
       "      <th>clean_title</th>\n",
       "      <th>price</th>\n",
       "    </tr>\n",
       "    <tr>\n",
       "      <th>id</th>\n",
       "      <th></th>\n",
       "      <th></th>\n",
       "      <th></th>\n",
       "      <th></th>\n",
       "      <th></th>\n",
       "      <th></th>\n",
       "      <th></th>\n",
       "      <th></th>\n",
       "      <th></th>\n",
       "      <th></th>\n",
       "      <th></th>\n",
       "      <th></th>\n",
       "    </tr>\n",
       "  </thead>\n",
       "  <tbody>\n",
       "    <tr>\n",
       "      <th>9522</th>\n",
       "      <td>Kia</td>\n",
       "      <td>EV6 Wind</td>\n",
       "      <td>2022</td>\n",
       "      <td>4514</td>\n",
       "      <td>Gasoline</td>\n",
       "      <td>1.6L I4 16V GDI DOHC Turbo</td>\n",
       "      <td>Automatic</td>\n",
       "      <td>Pacific Blue Metallic</td>\n",
       "      <td>Satin Black</td>\n",
       "      <td>NaN</td>\n",
       "      <td>No</td>\n",
       "      <td>47598</td>\n",
       "    </tr>\n",
       "    <tr>\n",
       "      <th>30172</th>\n",
       "      <td>Kia</td>\n",
       "      <td>EV6 Wind</td>\n",
       "      <td>2022</td>\n",
       "      <td>87001</td>\n",
       "      <td>NaN</td>\n",
       "      <td>111.2Ah / FR 70kW / RR 160kW (697V)</td>\n",
       "      <td>Automatic</td>\n",
       "      <td>Glacier</td>\n",
       "      <td>Black</td>\n",
       "      <td>None reported</td>\n",
       "      <td>No</td>\n",
       "      <td>29995</td>\n",
       "    </tr>\n",
       "    <tr>\n",
       "      <th>45204</th>\n",
       "      <td>Kia</td>\n",
       "      <td>EV6 Wind</td>\n",
       "      <td>2019</td>\n",
       "      <td>35938</td>\n",
       "      <td>Gasoline</td>\n",
       "      <td>Electric</td>\n",
       "      <td>1-Speed Automatic</td>\n",
       "      <td>Apex Blue</td>\n",
       "      <td>Orchid</td>\n",
       "      <td>None reported</td>\n",
       "      <td>No</td>\n",
       "      <td>27998</td>\n",
       "    </tr>\n",
       "    <tr>\n",
       "      <th>85526</th>\n",
       "      <td>Kia</td>\n",
       "      <td>EV6 Wind</td>\n",
       "      <td>2011</td>\n",
       "      <td>64549</td>\n",
       "      <td>NaN</td>\n",
       "      <td>111.2Ah / FR 70kW / RR 160kW (697V)</td>\n",
       "      <td>A/T</td>\n",
       "      <td>Black</td>\n",
       "      <td>Black</td>\n",
       "      <td>None reported</td>\n",
       "      <td>Yes</td>\n",
       "      <td>20900</td>\n",
       "    </tr>\n",
       "    <tr>\n",
       "      <th>101611</th>\n",
       "      <td>Kia</td>\n",
       "      <td>EV6 Wind</td>\n",
       "      <td>2022</td>\n",
       "      <td>11945</td>\n",
       "      <td>NaN</td>\n",
       "      <td>111.2Ah / FR 70kW / RR 160kW (697V)</td>\n",
       "      <td>Automatic</td>\n",
       "      <td>Glacier</td>\n",
       "      <td>Black</td>\n",
       "      <td>None reported</td>\n",
       "      <td>No</td>\n",
       "      <td>68998</td>\n",
       "    </tr>\n",
       "    <tr>\n",
       "      <th>176787</th>\n",
       "      <td>Kia</td>\n",
       "      <td>EV6 Wind</td>\n",
       "      <td>2014</td>\n",
       "      <td>40000</td>\n",
       "      <td>NaN</td>\n",
       "      <td>111.2Ah / FR 70kW / RR 160kW (697V)</td>\n",
       "      <td>1-Speed A/T</td>\n",
       "      <td>Blue</td>\n",
       "      <td>Black</td>\n",
       "      <td>NaN</td>\n",
       "      <td>No</td>\n",
       "      <td>24900</td>\n",
       "    </tr>\n",
       "    <tr>\n",
       "      <th>180965</th>\n",
       "      <td>Mercedes-Benz</td>\n",
       "      <td>EV6 Wind</td>\n",
       "      <td>2022</td>\n",
       "      <td>20394</td>\n",
       "      <td>Gasoline</td>\n",
       "      <td>Electric</td>\n",
       "      <td>Automatic</td>\n",
       "      <td>Gray</td>\n",
       "      <td>Parchment.</td>\n",
       "      <td>None reported</td>\n",
       "      <td>No</td>\n",
       "      <td>47998</td>\n",
       "    </tr>\n",
       "  </tbody>\n",
       "</table>\n",
       "</div>"
      ],
      "text/plain": [
       "                brand     model  model_year  milage fuel_type  \\\n",
       "id                                                              \n",
       "9522              Kia  EV6 Wind        2022    4514  Gasoline   \n",
       "30172             Kia  EV6 Wind        2022   87001       NaN   \n",
       "45204             Kia  EV6 Wind        2019   35938  Gasoline   \n",
       "85526             Kia  EV6 Wind        2011   64549       NaN   \n",
       "101611            Kia  EV6 Wind        2022   11945       NaN   \n",
       "176787            Kia  EV6 Wind        2014   40000       NaN   \n",
       "180965  Mercedes-Benz  EV6 Wind        2022   20394  Gasoline   \n",
       "\n",
       "                                     engine       transmission  \\\n",
       "id                                                               \n",
       "9522             1.6L I4 16V GDI DOHC Turbo          Automatic   \n",
       "30172   111.2Ah / FR 70kW / RR 160kW (697V)          Automatic   \n",
       "45204                              Electric  1-Speed Automatic   \n",
       "85526   111.2Ah / FR 70kW / RR 160kW (697V)                A/T   \n",
       "101611  111.2Ah / FR 70kW / RR 160kW (697V)          Automatic   \n",
       "176787  111.2Ah / FR 70kW / RR 160kW (697V)        1-Speed A/T   \n",
       "180965                             Electric          Automatic   \n",
       "\n",
       "                      ext_col      int_col       accident clean_title  price  \n",
       "id                                                                            \n",
       "9522    Pacific Blue Metallic  Satin Black            NaN          No  47598  \n",
       "30172                 Glacier        Black  None reported          No  29995  \n",
       "45204               Apex Blue       Orchid  None reported          No  27998  \n",
       "85526                   Black        Black  None reported         Yes  20900  \n",
       "101611                Glacier        Black  None reported          No  68998  \n",
       "176787                   Blue        Black            NaN          No  24900  \n",
       "180965                   Gray   Parchment.  None reported          No  47998  "
      ]
     },
     "execution_count": 18,
     "metadata": {},
     "output_type": "execute_result"
    }
   ],
   "source": [
    "train.loc[train['model']=='EV6 Wind'].head(12)"
   ]
  },
  {
   "cell_type": "code",
   "execution_count": 19,
   "id": "551a5077",
   "metadata": {
    "execution": {
     "iopub.execute_input": "2025-07-23T12:40:11.422515Z",
     "iopub.status.busy": "2025-07-23T12:40:11.422094Z",
     "iopub.status.idle": "2025-07-23T12:40:11.448588Z",
     "shell.execute_reply": "2025-07-23T12:40:11.447438Z"
    },
    "papermill": {
     "duration": 0.044489,
     "end_time": "2025-07-23T12:40:11.451473",
     "exception": false,
     "start_time": "2025-07-23T12:40:11.406984",
     "status": "completed"
    },
    "tags": []
   },
   "outputs": [
    {
     "data": {
      "text/html": [
       "<div>\n",
       "<style scoped>\n",
       "    .dataframe tbody tr th:only-of-type {\n",
       "        vertical-align: middle;\n",
       "    }\n",
       "\n",
       "    .dataframe tbody tr th {\n",
       "        vertical-align: top;\n",
       "    }\n",
       "\n",
       "    .dataframe thead th {\n",
       "        text-align: right;\n",
       "    }\n",
       "</style>\n",
       "<table border=\"1\" class=\"dataframe\">\n",
       "  <thead>\n",
       "    <tr style=\"text-align: right;\">\n",
       "      <th></th>\n",
       "      <th>brand</th>\n",
       "      <th>model</th>\n",
       "      <th>model_year</th>\n",
       "      <th>milage</th>\n",
       "      <th>fuel_type</th>\n",
       "      <th>engine</th>\n",
       "      <th>transmission</th>\n",
       "      <th>ext_col</th>\n",
       "      <th>int_col</th>\n",
       "      <th>accident</th>\n",
       "      <th>clean_title</th>\n",
       "      <th>price</th>\n",
       "    </tr>\n",
       "    <tr>\n",
       "      <th>id</th>\n",
       "      <th></th>\n",
       "      <th></th>\n",
       "      <th></th>\n",
       "      <th></th>\n",
       "      <th></th>\n",
       "      <th></th>\n",
       "      <th></th>\n",
       "      <th></th>\n",
       "      <th></th>\n",
       "      <th></th>\n",
       "      <th></th>\n",
       "      <th></th>\n",
       "    </tr>\n",
       "  </thead>\n",
       "  <tbody>\n",
       "    <tr>\n",
       "      <th>30172</th>\n",
       "      <td>Kia</td>\n",
       "      <td>EV6 Wind</td>\n",
       "      <td>2022</td>\n",
       "      <td>87001</td>\n",
       "      <td>NaN</td>\n",
       "      <td>111.2Ah / FR 70kW / RR 160kW (697V)</td>\n",
       "      <td>Automatic</td>\n",
       "      <td>Glacier</td>\n",
       "      <td>Black</td>\n",
       "      <td>None reported</td>\n",
       "      <td>No</td>\n",
       "      <td>29995</td>\n",
       "    </tr>\n",
       "    <tr>\n",
       "      <th>42322</th>\n",
       "      <td>BMW</td>\n",
       "      <td>500e Battery Electric</td>\n",
       "      <td>2018</td>\n",
       "      <td>25083</td>\n",
       "      <td>NaN</td>\n",
       "      <td>111.2Ah / FR 70kW / RR 160kW (697V)</td>\n",
       "      <td>Automatic</td>\n",
       "      <td>Silver</td>\n",
       "      <td>Black</td>\n",
       "      <td>At least 1 accident or damage reported</td>\n",
       "      <td>No</td>\n",
       "      <td>38598</td>\n",
       "    </tr>\n",
       "    <tr>\n",
       "      <th>60407</th>\n",
       "      <td>Ford</td>\n",
       "      <td>Mustang Mach-E California Route 1</td>\n",
       "      <td>2017</td>\n",
       "      <td>32000</td>\n",
       "      <td>NaN</td>\n",
       "      <td>290.0HP Electric Motor Electric Fuel System</td>\n",
       "      <td>1-Speed A/T</td>\n",
       "      <td>White</td>\n",
       "      <td>Black</td>\n",
       "      <td>None reported</td>\n",
       "      <td>Yes</td>\n",
       "      <td>49000</td>\n",
       "    </tr>\n",
       "    <tr>\n",
       "      <th>85526</th>\n",
       "      <td>Kia</td>\n",
       "      <td>EV6 Wind</td>\n",
       "      <td>2011</td>\n",
       "      <td>64549</td>\n",
       "      <td>NaN</td>\n",
       "      <td>111.2Ah / FR 70kW / RR 160kW (697V)</td>\n",
       "      <td>A/T</td>\n",
       "      <td>Black</td>\n",
       "      <td>Black</td>\n",
       "      <td>None reported</td>\n",
       "      <td>Yes</td>\n",
       "      <td>20900</td>\n",
       "    </tr>\n",
       "    <tr>\n",
       "      <th>101611</th>\n",
       "      <td>Kia</td>\n",
       "      <td>EV6 Wind</td>\n",
       "      <td>2022</td>\n",
       "      <td>11945</td>\n",
       "      <td>NaN</td>\n",
       "      <td>111.2Ah / FR 70kW / RR 160kW (697V)</td>\n",
       "      <td>Automatic</td>\n",
       "      <td>Glacier</td>\n",
       "      <td>Black</td>\n",
       "      <td>None reported</td>\n",
       "      <td>No</td>\n",
       "      <td>68998</td>\n",
       "    </tr>\n",
       "    <tr>\n",
       "      <th>110370</th>\n",
       "      <td>Audi</td>\n",
       "      <td>e-tron Prestige</td>\n",
       "      <td>1996</td>\n",
       "      <td>20760</td>\n",
       "      <td>NaN</td>\n",
       "      <td>115.0HP Electric Motor Electric Fuel System</td>\n",
       "      <td>1-Speed A/T</td>\n",
       "      <td>Black</td>\n",
       "      <td>Brown</td>\n",
       "      <td>At least 1 accident or damage reported</td>\n",
       "      <td>Yes</td>\n",
       "      <td>12900</td>\n",
       "    </tr>\n",
       "    <tr>\n",
       "      <th>115048</th>\n",
       "      <td>Volkswagen</td>\n",
       "      <td>e-Golf SE</td>\n",
       "      <td>2011</td>\n",
       "      <td>113000</td>\n",
       "      <td>NaN</td>\n",
       "      <td>115.0HP Electric Motor Electric Fuel System</td>\n",
       "      <td>2-Speed A/T</td>\n",
       "      <td>Gray</td>\n",
       "      <td>Black</td>\n",
       "      <td>At least 1 accident or damage reported</td>\n",
       "      <td>Yes</td>\n",
       "      <td>10000</td>\n",
       "    </tr>\n",
       "    <tr>\n",
       "      <th>124698</th>\n",
       "      <td>Volkswagen</td>\n",
       "      <td>e-tron Prestige</td>\n",
       "      <td>2022</td>\n",
       "      <td>10400</td>\n",
       "      <td>NaN</td>\n",
       "      <td>111.2Ah / FR 70kW / RR 160kW (697V)</td>\n",
       "      <td>1-Speed A/T</td>\n",
       "      <td>Silver</td>\n",
       "      <td>Black</td>\n",
       "      <td>None reported</td>\n",
       "      <td>Yes</td>\n",
       "      <td>33490</td>\n",
       "    </tr>\n",
       "    <tr>\n",
       "      <th>138213</th>\n",
       "      <td>Ford</td>\n",
       "      <td>Mustang Mach-E California Route 1</td>\n",
       "      <td>2020</td>\n",
       "      <td>50000</td>\n",
       "      <td>NaN</td>\n",
       "      <td>290.0HP Electric Motor Electric Fuel System</td>\n",
       "      <td>1-Speed A/T</td>\n",
       "      <td>Yellow</td>\n",
       "      <td>Black</td>\n",
       "      <td>None reported</td>\n",
       "      <td>Yes</td>\n",
       "      <td>56000</td>\n",
       "    </tr>\n",
       "    <tr>\n",
       "      <th>151162</th>\n",
       "      <td>Hyundai</td>\n",
       "      <td>IONIQ 5 SE</td>\n",
       "      <td>2017</td>\n",
       "      <td>17500</td>\n",
       "      <td>NaN</td>\n",
       "      <td>290.0HP Electric Motor Electric Fuel System</td>\n",
       "      <td>1-Speed A/T</td>\n",
       "      <td>Black</td>\n",
       "      <td>Black</td>\n",
       "      <td>None reported</td>\n",
       "      <td>Yes</td>\n",
       "      <td>42000</td>\n",
       "    </tr>\n",
       "    <tr>\n",
       "      <th>171862</th>\n",
       "      <td>Ford</td>\n",
       "      <td>Mustang Mach-E Premium</td>\n",
       "      <td>2020</td>\n",
       "      <td>55000</td>\n",
       "      <td>NaN</td>\n",
       "      <td>290.0HP Electric Motor Electric Fuel System</td>\n",
       "      <td>1-Speed A/T</td>\n",
       "      <td>Gray</td>\n",
       "      <td>Black</td>\n",
       "      <td>At least 1 accident or damage reported</td>\n",
       "      <td>Yes</td>\n",
       "      <td>38000</td>\n",
       "    </tr>\n",
       "    <tr>\n",
       "      <th>176787</th>\n",
       "      <td>Kia</td>\n",
       "      <td>EV6 Wind</td>\n",
       "      <td>2014</td>\n",
       "      <td>40000</td>\n",
       "      <td>NaN</td>\n",
       "      <td>111.2Ah / FR 70kW / RR 160kW (697V)</td>\n",
       "      <td>1-Speed A/T</td>\n",
       "      <td>Blue</td>\n",
       "      <td>Black</td>\n",
       "      <td>NaN</td>\n",
       "      <td>No</td>\n",
       "      <td>24900</td>\n",
       "    </tr>\n",
       "  </tbody>\n",
       "</table>\n",
       "</div>"
      ],
      "text/plain": [
       "             brand                              model  model_year  milage  \\\n",
       "id                                                                          \n",
       "30172          Kia                           EV6 Wind        2022   87001   \n",
       "42322          BMW              500e Battery Electric        2018   25083   \n",
       "60407         Ford  Mustang Mach-E California Route 1        2017   32000   \n",
       "85526          Kia                           EV6 Wind        2011   64549   \n",
       "101611         Kia                           EV6 Wind        2022   11945   \n",
       "110370        Audi                    e-tron Prestige        1996   20760   \n",
       "115048  Volkswagen                          e-Golf SE        2011  113000   \n",
       "124698  Volkswagen                    e-tron Prestige        2022   10400   \n",
       "138213        Ford  Mustang Mach-E California Route 1        2020   50000   \n",
       "151162     Hyundai                         IONIQ 5 SE        2017   17500   \n",
       "171862        Ford             Mustang Mach-E Premium        2020   55000   \n",
       "176787         Kia                           EV6 Wind        2014   40000   \n",
       "\n",
       "       fuel_type                                       engine transmission  \\\n",
       "id                                                                           \n",
       "30172        NaN          111.2Ah / FR 70kW / RR 160kW (697V)    Automatic   \n",
       "42322        NaN          111.2Ah / FR 70kW / RR 160kW (697V)    Automatic   \n",
       "60407        NaN  290.0HP Electric Motor Electric Fuel System  1-Speed A/T   \n",
       "85526        NaN          111.2Ah / FR 70kW / RR 160kW (697V)          A/T   \n",
       "101611       NaN          111.2Ah / FR 70kW / RR 160kW (697V)    Automatic   \n",
       "110370       NaN  115.0HP Electric Motor Electric Fuel System  1-Speed A/T   \n",
       "115048       NaN  115.0HP Electric Motor Electric Fuel System  2-Speed A/T   \n",
       "124698       NaN          111.2Ah / FR 70kW / RR 160kW (697V)  1-Speed A/T   \n",
       "138213       NaN  290.0HP Electric Motor Electric Fuel System  1-Speed A/T   \n",
       "151162       NaN  290.0HP Electric Motor Electric Fuel System  1-Speed A/T   \n",
       "171862       NaN  290.0HP Electric Motor Electric Fuel System  1-Speed A/T   \n",
       "176787       NaN          111.2Ah / FR 70kW / RR 160kW (697V)  1-Speed A/T   \n",
       "\n",
       "        ext_col int_col                                accident clean_title  \\\n",
       "id                                                                            \n",
       "30172   Glacier   Black                           None reported          No   \n",
       "42322    Silver   Black  At least 1 accident or damage reported          No   \n",
       "60407     White   Black                           None reported         Yes   \n",
       "85526     Black   Black                           None reported         Yes   \n",
       "101611  Glacier   Black                           None reported          No   \n",
       "110370    Black   Brown  At least 1 accident or damage reported         Yes   \n",
       "115048     Gray   Black  At least 1 accident or damage reported         Yes   \n",
       "124698   Silver   Black                           None reported         Yes   \n",
       "138213   Yellow   Black                           None reported         Yes   \n",
       "151162    Black   Black                           None reported         Yes   \n",
       "171862     Gray   Black  At least 1 accident or damage reported         Yes   \n",
       "176787     Blue   Black                                     NaN          No   \n",
       "\n",
       "        price  \n",
       "id             \n",
       "30172   29995  \n",
       "42322   38598  \n",
       "60407   49000  \n",
       "85526   20900  \n",
       "101611  68998  \n",
       "110370  12900  \n",
       "115048  10000  \n",
       "124698  33490  \n",
       "138213  56000  \n",
       "151162  42000  \n",
       "171862  38000  \n",
       "176787  24900  "
      ]
     },
     "execution_count": 19,
     "metadata": {},
     "output_type": "execute_result"
    }
   ],
   "source": [
    "train.loc[train['fuel_type'].isnull()].head(12)"
   ]
  },
  {
   "cell_type": "code",
   "execution_count": 20,
   "id": "30ca0646",
   "metadata": {
    "execution": {
     "iopub.execute_input": "2025-07-23T12:40:11.482401Z",
     "iopub.status.busy": "2025-07-23T12:40:11.481992Z",
     "iopub.status.idle": "2025-07-23T12:40:11.498561Z",
     "shell.execute_reply": "2025-07-23T12:40:11.497565Z"
    },
    "papermill": {
     "duration": 0.034706,
     "end_time": "2025-07-23T12:40:11.500566",
     "exception": false,
     "start_time": "2025-07-23T12:40:11.465860",
     "status": "completed"
    },
    "tags": []
   },
   "outputs": [
    {
     "data": {
      "text/plain": [
       "['111.2Ah / FR 70kW / RR 160kW (697V)',\n",
       " '111.2Ah / FR 70kW / RR 160kW (697V)',\n",
       " '290.0HP Electric Motor Electric Fuel System',\n",
       " '111.2Ah / FR 70kW / RR 160kW (697V)',\n",
       " '111.2Ah / FR 70kW / RR 160kW (697V)',\n",
       " '115.0HP Electric Motor Electric Fuel System',\n",
       " '115.0HP Electric Motor Electric Fuel System',\n",
       " '111.2Ah / FR 70kW / RR 160kW (697V)',\n",
       " '290.0HP Electric Motor Electric Fuel System',\n",
       " '290.0HP Electric Motor Electric Fuel System',\n",
       " '290.0HP Electric Motor Electric Fuel System',\n",
       " '111.2Ah / FR 70kW / RR 160kW (697V)']"
      ]
     },
     "execution_count": 20,
     "metadata": {},
     "output_type": "execute_result"
    }
   ],
   "source": [
    "train.loc[train['fuel_type'].isnull(), 'engine'].to_list()"
   ]
  },
  {
   "cell_type": "code",
   "execution_count": 21,
   "id": "14760379",
   "metadata": {
    "execution": {
     "iopub.execute_input": "2025-07-23T12:40:11.530844Z",
     "iopub.status.busy": "2025-07-23T12:40:11.530438Z",
     "iopub.status.idle": "2025-07-23T12:40:11.538919Z",
     "shell.execute_reply": "2025-07-23T12:40:11.537838Z"
    },
    "papermill": {
     "duration": 0.026095,
     "end_time": "2025-07-23T12:40:11.540951",
     "exception": false,
     "start_time": "2025-07-23T12:40:11.514856",
     "status": "completed"
    },
    "tags": []
   },
   "outputs": [
    {
     "data": {
      "text/plain": [
       "id\n",
       "0              172.0HP 1.6L 4 Cylinder Engine Gasoline Fuel\n",
       "1              252.0HP 3.9L 8 Cylinder Engine Gasoline Fuel\n",
       "2         320.0HP 5.3L 8 Cylinder Engine Flex Fuel Capab...\n",
       "3              420.0HP 5.0L 8 Cylinder Engine Gasoline Fuel\n",
       "4              208.0HP 2.0L 4 Cylinder Engine Gasoline Fuel\n",
       "                                ...                        \n",
       "188528         420.0HP 6.2L 8 Cylinder Engine Gasoline Fuel\n",
       "188529        385.0HP 3.0L V6 Cylinder Engine Gasoline Fuel\n",
       "188530         469.0HP 4.0L 8 Cylinder Engine Gasoline Fuel\n",
       "188531                                                 3.0L\n",
       "188532         252.0HP 2.0L 4 Cylinder Engine Gasoline Fuel\n",
       "Name: engine, Length: 188533, dtype: object"
      ]
     },
     "execution_count": 21,
     "metadata": {},
     "output_type": "execute_result"
    }
   ],
   "source": [
    "train['engine']"
   ]
  },
  {
   "cell_type": "code",
   "execution_count": 22,
   "id": "5606e975",
   "metadata": {
    "execution": {
     "iopub.execute_input": "2025-07-23T12:40:11.571364Z",
     "iopub.status.busy": "2025-07-23T12:40:11.570958Z",
     "iopub.status.idle": "2025-07-23T12:40:11.651977Z",
     "shell.execute_reply": "2025-07-23T12:40:11.650905Z"
    },
    "papermill": {
     "duration": 0.098872,
     "end_time": "2025-07-23T12:40:11.654313",
     "exception": false,
     "start_time": "2025-07-23T12:40:11.555441",
     "status": "completed"
    },
    "tags": []
   },
   "outputs": [
    {
     "data": {
      "text/html": [
       "<div>\n",
       "<style scoped>\n",
       "    .dataframe tbody tr th:only-of-type {\n",
       "        vertical-align: middle;\n",
       "    }\n",
       "\n",
       "    .dataframe tbody tr th {\n",
       "        vertical-align: top;\n",
       "    }\n",
       "\n",
       "    .dataframe thead th {\n",
       "        text-align: right;\n",
       "    }\n",
       "</style>\n",
       "<table border=\"1\" class=\"dataframe\">\n",
       "  <thead>\n",
       "    <tr style=\"text-align: right;\">\n",
       "      <th></th>\n",
       "      <th>brand</th>\n",
       "      <th>model</th>\n",
       "      <th>model_year</th>\n",
       "      <th>milage</th>\n",
       "      <th>fuel_type</th>\n",
       "      <th>engine</th>\n",
       "      <th>transmission</th>\n",
       "      <th>ext_col</th>\n",
       "      <th>int_col</th>\n",
       "      <th>accident</th>\n",
       "      <th>clean_title</th>\n",
       "      <th>price</th>\n",
       "    </tr>\n",
       "    <tr>\n",
       "      <th>id</th>\n",
       "      <th></th>\n",
       "      <th></th>\n",
       "      <th></th>\n",
       "      <th></th>\n",
       "      <th></th>\n",
       "      <th></th>\n",
       "      <th></th>\n",
       "      <th></th>\n",
       "      <th></th>\n",
       "      <th></th>\n",
       "      <th></th>\n",
       "      <th></th>\n",
       "    </tr>\n",
       "  </thead>\n",
       "  <tbody>\n",
       "    <tr>\n",
       "      <th>701</th>\n",
       "      <td>Dodge</td>\n",
       "      <td>Charger Scat Pack</td>\n",
       "      <td>2019</td>\n",
       "      <td>44741</td>\n",
       "      <td>Gasoline</td>\n",
       "      <td>485.0HP 6.4L 8 Cylinder Engine Gasoline Fuel</td>\n",
       "      <td>A/T</td>\n",
       "      <td>Black</td>\n",
       "      <td>Black</td>\n",
       "      <td>None reported</td>\n",
       "      <td>Yes</td>\n",
       "      <td>47500</td>\n",
       "    </tr>\n",
       "    <tr>\n",
       "      <th>881</th>\n",
       "      <td>Dodge</td>\n",
       "      <td>Charger R/T Scat Pack</td>\n",
       "      <td>2019</td>\n",
       "      <td>55000</td>\n",
       "      <td>Gasoline</td>\n",
       "      <td>485.0HP 6.4L 8 Cylinder Engine Gasoline Fuel</td>\n",
       "      <td>8-Speed A/T</td>\n",
       "      <td>White</td>\n",
       "      <td>Black</td>\n",
       "      <td>At least 1 accident or damage reported</td>\n",
       "      <td>Yes</td>\n",
       "      <td>26000</td>\n",
       "    </tr>\n",
       "    <tr>\n",
       "      <th>972</th>\n",
       "      <td>Nissan</td>\n",
       "      <td>GT-R Premium</td>\n",
       "      <td>2009</td>\n",
       "      <td>14684</td>\n",
       "      <td>Gasoline</td>\n",
       "      <td>485.0HP 3.8L V6 Cylinder Engine Gasoline Fuel</td>\n",
       "      <td>Transmission w/Dual Shift Mode</td>\n",
       "      <td>Red</td>\n",
       "      <td>Black</td>\n",
       "      <td>None reported</td>\n",
       "      <td>Yes</td>\n",
       "      <td>185500</td>\n",
       "    </tr>\n",
       "    <tr>\n",
       "      <th>1154</th>\n",
       "      <td>Dodge</td>\n",
       "      <td>Charger R/T 392</td>\n",
       "      <td>2021</td>\n",
       "      <td>7751</td>\n",
       "      <td>Gasoline</td>\n",
       "      <td>485.0HP 6.4L 8 Cylinder Engine Gasoline Fuel</td>\n",
       "      <td>8-Speed A/T</td>\n",
       "      <td>Gray</td>\n",
       "      <td>Red</td>\n",
       "      <td>None reported</td>\n",
       "      <td>Yes</td>\n",
       "      <td>68750</td>\n",
       "    </tr>\n",
       "    <tr>\n",
       "      <th>1170</th>\n",
       "      <td>Dodge</td>\n",
       "      <td>Charger Scat Pack</td>\n",
       "      <td>2017</td>\n",
       "      <td>76500</td>\n",
       "      <td>Gasoline</td>\n",
       "      <td>485.0HP 6.4L 8 Cylinder Engine Gasoline Fuel</td>\n",
       "      <td>A/T</td>\n",
       "      <td>Red</td>\n",
       "      <td>Black</td>\n",
       "      <td>None reported</td>\n",
       "      <td>Yes</td>\n",
       "      <td>16750</td>\n",
       "    </tr>\n",
       "    <tr>\n",
       "      <th>1791</th>\n",
       "      <td>Dodge</td>\n",
       "      <td>Charger R/T 392</td>\n",
       "      <td>2017</td>\n",
       "      <td>61308</td>\n",
       "      <td>Gasoline</td>\n",
       "      <td>485.0HP 6.4L 8 Cylinder Engine Gasoline Fuel</td>\n",
       "      <td>A/T</td>\n",
       "      <td>Gray</td>\n",
       "      <td>Black</td>\n",
       "      <td>At least 1 accident or damage reported</td>\n",
       "      <td>Yes</td>\n",
       "      <td>42000</td>\n",
       "    </tr>\n",
       "    <tr>\n",
       "      <th>2703</th>\n",
       "      <td>Dodge</td>\n",
       "      <td>Charger Scat Pack</td>\n",
       "      <td>2020</td>\n",
       "      <td>27000</td>\n",
       "      <td>Gasoline</td>\n",
       "      <td>485.0HP 6.4L 8 Cylinder Engine Gasoline Fuel</td>\n",
       "      <td>8-Speed A/T</td>\n",
       "      <td>Red</td>\n",
       "      <td>Black</td>\n",
       "      <td>None reported</td>\n",
       "      <td>Yes</td>\n",
       "      <td>188500</td>\n",
       "    </tr>\n",
       "    <tr>\n",
       "      <th>4866</th>\n",
       "      <td>Dodge</td>\n",
       "      <td>Charger Scat Pack</td>\n",
       "      <td>2016</td>\n",
       "      <td>76313</td>\n",
       "      <td>Gasoline</td>\n",
       "      <td>485.0HP 6.4L 8 Cylinder Engine Gasoline Fuel</td>\n",
       "      <td>8-Speed Automatic</td>\n",
       "      <td>White Knuckle Clearcoat</td>\n",
       "      <td>Black</td>\n",
       "      <td>None reported</td>\n",
       "      <td>Yes</td>\n",
       "      <td>15999</td>\n",
       "    </tr>\n",
       "    <tr>\n",
       "      <th>5190</th>\n",
       "      <td>Dodge</td>\n",
       "      <td>Charger R/T 392</td>\n",
       "      <td>2021</td>\n",
       "      <td>32000</td>\n",
       "      <td>Gasoline</td>\n",
       "      <td>485.0HP 6.4L 8 Cylinder Engine Gasoline Fuel</td>\n",
       "      <td>8-Speed A/T</td>\n",
       "      <td>Blue</td>\n",
       "      <td>Brown</td>\n",
       "      <td>None reported</td>\n",
       "      <td>Yes</td>\n",
       "      <td>43550</td>\n",
       "    </tr>\n",
       "    <tr>\n",
       "      <th>7938</th>\n",
       "      <td>Nissan</td>\n",
       "      <td>GT-R Premium</td>\n",
       "      <td>2007</td>\n",
       "      <td>80300</td>\n",
       "      <td>Gasoline</td>\n",
       "      <td>485.0HP 3.8L V6 Cylinder Engine Gasoline Fuel</td>\n",
       "      <td>Transmission w/Dual Shift Mode</td>\n",
       "      <td>Black</td>\n",
       "      <td>Black</td>\n",
       "      <td>None reported</td>\n",
       "      <td>Yes</td>\n",
       "      <td>75499</td>\n",
       "    </tr>\n",
       "    <tr>\n",
       "      <th>8381</th>\n",
       "      <td>Dodge</td>\n",
       "      <td>Charger R/T Scat Pack</td>\n",
       "      <td>2019</td>\n",
       "      <td>82000</td>\n",
       "      <td>Gasoline</td>\n",
       "      <td>485.0HP 6.4L 8 Cylinder Engine Gasoline Fuel</td>\n",
       "      <td>8-Speed A/T</td>\n",
       "      <td>Gray</td>\n",
       "      <td>Red</td>\n",
       "      <td>At least 1 accident or damage reported</td>\n",
       "      <td>Yes</td>\n",
       "      <td>38490</td>\n",
       "    </tr>\n",
       "    <tr>\n",
       "      <th>10074</th>\n",
       "      <td>Dodge</td>\n",
       "      <td>Charger R/T Scat Pack</td>\n",
       "      <td>2022</td>\n",
       "      <td>19000</td>\n",
       "      <td>Gasoline</td>\n",
       "      <td>485.0HP 6.4L 8 Cylinder Engine Gasoline Fuel</td>\n",
       "      <td>8-Speed A/T</td>\n",
       "      <td>Gray</td>\n",
       "      <td>Black</td>\n",
       "      <td>None reported</td>\n",
       "      <td>Yes</td>\n",
       "      <td>68362</td>\n",
       "    </tr>\n",
       "    <tr>\n",
       "      <th>10784</th>\n",
       "      <td>Dodge</td>\n",
       "      <td>Charger R/T 392</td>\n",
       "      <td>2018</td>\n",
       "      <td>72500</td>\n",
       "      <td>Gasoline</td>\n",
       "      <td>485.0HP 6.4L 8 Cylinder Engine Gasoline Fuel</td>\n",
       "      <td>8-Speed A/T</td>\n",
       "      <td>White</td>\n",
       "      <td>Black</td>\n",
       "      <td>None reported</td>\n",
       "      <td>Yes</td>\n",
       "      <td>35750</td>\n",
       "    </tr>\n",
       "    <tr>\n",
       "      <th>11193</th>\n",
       "      <td>Dodge</td>\n",
       "      <td>Charger R/T Scat Pack</td>\n",
       "      <td>2004</td>\n",
       "      <td>19000</td>\n",
       "      <td>Gasoline</td>\n",
       "      <td>485.0HP 6.4L 8 Cylinder Engine Gasoline Fuel</td>\n",
       "      <td>5-Speed A/T</td>\n",
       "      <td>Purple</td>\n",
       "      <td>Black</td>\n",
       "      <td>None reported</td>\n",
       "      <td>Yes</td>\n",
       "      <td>46850</td>\n",
       "    </tr>\n",
       "  </tbody>\n",
       "</table>\n",
       "</div>"
      ],
      "text/plain": [
       "        brand                  model  model_year  milage fuel_type  \\\n",
       "id                                                                   \n",
       "701     Dodge      Charger Scat Pack        2019   44741  Gasoline   \n",
       "881     Dodge  Charger R/T Scat Pack        2019   55000  Gasoline   \n",
       "972    Nissan           GT-R Premium        2009   14684  Gasoline   \n",
       "1154    Dodge        Charger R/T 392        2021    7751  Gasoline   \n",
       "1170    Dodge      Charger Scat Pack        2017   76500  Gasoline   \n",
       "1791    Dodge        Charger R/T 392        2017   61308  Gasoline   \n",
       "2703    Dodge      Charger Scat Pack        2020   27000  Gasoline   \n",
       "4866    Dodge      Charger Scat Pack        2016   76313  Gasoline   \n",
       "5190    Dodge        Charger R/T 392        2021   32000  Gasoline   \n",
       "7938   Nissan           GT-R Premium        2007   80300  Gasoline   \n",
       "8381    Dodge  Charger R/T Scat Pack        2019   82000  Gasoline   \n",
       "10074   Dodge  Charger R/T Scat Pack        2022   19000  Gasoline   \n",
       "10784   Dodge        Charger R/T 392        2018   72500  Gasoline   \n",
       "11193   Dodge  Charger R/T Scat Pack        2004   19000  Gasoline   \n",
       "\n",
       "                                              engine  \\\n",
       "id                                                     \n",
       "701     485.0HP 6.4L 8 Cylinder Engine Gasoline Fuel   \n",
       "881     485.0HP 6.4L 8 Cylinder Engine Gasoline Fuel   \n",
       "972    485.0HP 3.8L V6 Cylinder Engine Gasoline Fuel   \n",
       "1154    485.0HP 6.4L 8 Cylinder Engine Gasoline Fuel   \n",
       "1170    485.0HP 6.4L 8 Cylinder Engine Gasoline Fuel   \n",
       "1791    485.0HP 6.4L 8 Cylinder Engine Gasoline Fuel   \n",
       "2703    485.0HP 6.4L 8 Cylinder Engine Gasoline Fuel   \n",
       "4866    485.0HP 6.4L 8 Cylinder Engine Gasoline Fuel   \n",
       "5190    485.0HP 6.4L 8 Cylinder Engine Gasoline Fuel   \n",
       "7938   485.0HP 3.8L V6 Cylinder Engine Gasoline Fuel   \n",
       "8381    485.0HP 6.4L 8 Cylinder Engine Gasoline Fuel   \n",
       "10074   485.0HP 6.4L 8 Cylinder Engine Gasoline Fuel   \n",
       "10784   485.0HP 6.4L 8 Cylinder Engine Gasoline Fuel   \n",
       "11193   485.0HP 6.4L 8 Cylinder Engine Gasoline Fuel   \n",
       "\n",
       "                         transmission                  ext_col int_col  \\\n",
       "id                                                                       \n",
       "701                               A/T                    Black   Black   \n",
       "881                       8-Speed A/T                    White   Black   \n",
       "972    Transmission w/Dual Shift Mode                      Red   Black   \n",
       "1154                      8-Speed A/T                     Gray     Red   \n",
       "1170                              A/T                      Red   Black   \n",
       "1791                              A/T                     Gray   Black   \n",
       "2703                      8-Speed A/T                      Red   Black   \n",
       "4866                8-Speed Automatic  White Knuckle Clearcoat   Black   \n",
       "5190                      8-Speed A/T                     Blue   Brown   \n",
       "7938   Transmission w/Dual Shift Mode                    Black   Black   \n",
       "8381                      8-Speed A/T                     Gray     Red   \n",
       "10074                     8-Speed A/T                     Gray   Black   \n",
       "10784                     8-Speed A/T                    White   Black   \n",
       "11193                     5-Speed A/T                   Purple   Black   \n",
       "\n",
       "                                     accident clean_title   price  \n",
       "id                                                                 \n",
       "701                             None reported         Yes   47500  \n",
       "881    At least 1 accident or damage reported         Yes   26000  \n",
       "972                             None reported         Yes  185500  \n",
       "1154                            None reported         Yes   68750  \n",
       "1170                            None reported         Yes   16750  \n",
       "1791   At least 1 accident or damage reported         Yes   42000  \n",
       "2703                            None reported         Yes  188500  \n",
       "4866                            None reported         Yes   15999  \n",
       "5190                            None reported         Yes   43550  \n",
       "7938                            None reported         Yes   75499  \n",
       "8381   At least 1 accident or damage reported         Yes   38490  \n",
       "10074                           None reported         Yes   68362  \n",
       "10784                           None reported         Yes   35750  \n",
       "11193                           None reported         Yes   46850  "
      ]
     },
     "execution_count": 22,
     "metadata": {},
     "output_type": "execute_result"
    }
   ],
   "source": [
    "train[train['engine'].str.contains('485')].head(14)"
   ]
  },
  {
   "cell_type": "code",
   "execution_count": 23,
   "id": "baaea365",
   "metadata": {
    "execution": {
     "iopub.execute_input": "2025-07-23T12:40:11.685630Z",
     "iopub.status.busy": "2025-07-23T12:40:11.685258Z",
     "iopub.status.idle": "2025-07-23T12:40:11.849870Z",
     "shell.execute_reply": "2025-07-23T12:40:11.848854Z"
    },
    "papermill": {
     "duration": 0.182795,
     "end_time": "2025-07-23T12:40:11.852199",
     "exception": false,
     "start_time": "2025-07-23T12:40:11.669404",
     "status": "completed"
    },
    "tags": []
   },
   "outputs": [
    {
     "data": {
      "text/plain": [
       "engine\n",
       "1.2L I3 12V GDI DOHC Turbo                          [Gasoline]\n",
       "1.3L I3 12V GDI DOHC Turbo                          [Gasoline]\n",
       "1.3L I3 12V MPFI DOHC Turbo                         [Gasoline]\n",
       "1.4L I4 16V GDI DOHC Turbo                          [Gasoline]\n",
       "1.5 Liter Turbo                                     [Gasoline]\n",
       "                                                       ...    \n",
       "Intercooled Turbo Premium Unleaded I-4 2.0 L/122    [Gasoline]\n",
       "Standard Range Battery                              [Gasoline]\n",
       "V6                                                  [Gasoline]\n",
       "V8                                                  [Gasoline]\n",
       "–                                                          [–]\n",
       "Name: fuel_type, Length: 1117, dtype: object"
      ]
     },
     "execution_count": 23,
     "metadata": {},
     "output_type": "execute_result"
    }
   ],
   "source": [
    "train.groupby('engine')['fuel_type'].agg(get_modes)"
   ]
  },
  {
   "cell_type": "code",
   "execution_count": 24,
   "id": "05f88fcc",
   "metadata": {
    "execution": {
     "iopub.execute_input": "2025-07-23T12:40:11.884521Z",
     "iopub.status.busy": "2025-07-23T12:40:11.884128Z",
     "iopub.status.idle": "2025-07-23T12:40:11.912417Z",
     "shell.execute_reply": "2025-07-23T12:40:11.911307Z"
    },
    "papermill": {
     "duration": 0.046977,
     "end_time": "2025-07-23T12:40:11.915031",
     "exception": false,
     "start_time": "2025-07-23T12:40:11.868054",
     "status": "completed"
    },
    "tags": []
   },
   "outputs": [],
   "source": [
    "train['fuel_type'] = train['fuel_type'].fillna('Gasoline')\n",
    "test['fuel_type'] = test['fuel_type'].fillna('Gasoline')"
   ]
  },
  {
   "cell_type": "code",
   "execution_count": 25,
   "id": "4b317e8b",
   "metadata": {
    "execution": {
     "iopub.execute_input": "2025-07-23T12:40:11.947715Z",
     "iopub.status.busy": "2025-07-23T12:40:11.947316Z",
     "iopub.status.idle": "2025-07-23T12:40:12.090982Z",
     "shell.execute_reply": "2025-07-23T12:40:12.089853Z"
    },
    "papermill": {
     "duration": 0.163386,
     "end_time": "2025-07-23T12:40:12.093596",
     "exception": false,
     "start_time": "2025-07-23T12:40:11.930210",
     "status": "completed"
    },
    "tags": []
   },
   "outputs": [],
   "source": [
    "engine_fuel_map = test.groupby('engine')['fuel_type'].agg(get_modes).to_dict()"
   ]
  },
  {
   "cell_type": "code",
   "execution_count": 26,
   "id": "8b20cb2f",
   "metadata": {
    "execution": {
     "iopub.execute_input": "2025-07-23T12:40:12.125759Z",
     "iopub.status.busy": "2025-07-23T12:40:12.124796Z",
     "iopub.status.idle": "2025-07-23T12:40:12.129685Z",
     "shell.execute_reply": "2025-07-23T12:40:12.128606Z"
    },
    "papermill": {
     "duration": 0.023601,
     "end_time": "2025-07-23T12:40:12.132118",
     "exception": false,
     "start_time": "2025-07-23T12:40:12.108517",
     "status": "completed"
    },
    "tags": []
   },
   "outputs": [],
   "source": [
    "# engine_fuel_map"
   ]
  },
  {
   "cell_type": "code",
   "execution_count": 27,
   "id": "c2d8c661",
   "metadata": {
    "execution": {
     "iopub.execute_input": "2025-07-23T12:40:12.165871Z",
     "iopub.status.busy": "2025-07-23T12:40:12.165458Z",
     "iopub.status.idle": "2025-07-23T12:40:12.186192Z",
     "shell.execute_reply": "2025-07-23T12:40:12.185078Z"
    },
    "papermill": {
     "duration": 0.039678,
     "end_time": "2025-07-23T12:40:12.188438",
     "exception": false,
     "start_time": "2025-07-23T12:40:12.148760",
     "status": "completed"
    },
    "tags": []
   },
   "outputs": [
    {
     "data": {
      "text/html": [
       "<div>\n",
       "<style scoped>\n",
       "    .dataframe tbody tr th:only-of-type {\n",
       "        vertical-align: middle;\n",
       "    }\n",
       "\n",
       "    .dataframe tbody tr th {\n",
       "        vertical-align: top;\n",
       "    }\n",
       "\n",
       "    .dataframe thead th {\n",
       "        text-align: right;\n",
       "    }\n",
       "</style>\n",
       "<table border=\"1\" class=\"dataframe\">\n",
       "  <thead>\n",
       "    <tr style=\"text-align: right;\">\n",
       "      <th></th>\n",
       "      <th>brand</th>\n",
       "      <th>model</th>\n",
       "      <th>model_year</th>\n",
       "      <th>milage</th>\n",
       "      <th>fuel_type</th>\n",
       "      <th>engine</th>\n",
       "      <th>transmission</th>\n",
       "      <th>ext_col</th>\n",
       "      <th>int_col</th>\n",
       "      <th>accident</th>\n",
       "      <th>clean_title</th>\n",
       "      <th>price</th>\n",
       "    </tr>\n",
       "    <tr>\n",
       "      <th>id</th>\n",
       "      <th></th>\n",
       "      <th></th>\n",
       "      <th></th>\n",
       "      <th></th>\n",
       "      <th></th>\n",
       "      <th></th>\n",
       "      <th></th>\n",
       "      <th></th>\n",
       "      <th></th>\n",
       "      <th></th>\n",
       "      <th></th>\n",
       "      <th></th>\n",
       "    </tr>\n",
       "  </thead>\n",
       "  <tbody>\n",
       "  </tbody>\n",
       "</table>\n",
       "</div>"
      ],
      "text/plain": [
       "Empty DataFrame\n",
       "Columns: [brand, model, model_year, milage, fuel_type, engine, transmission, ext_col, int_col, accident, clean_title, price]\n",
       "Index: []"
      ]
     },
     "execution_count": 27,
     "metadata": {},
     "output_type": "execute_result"
    }
   ],
   "source": [
    "train[train['fuel_type'].isnull()].head(70)"
   ]
  },
  {
   "cell_type": "code",
   "execution_count": 28,
   "id": "89317589",
   "metadata": {
    "execution": {
     "iopub.execute_input": "2025-07-23T12:40:12.222264Z",
     "iopub.status.busy": "2025-07-23T12:40:12.221880Z",
     "iopub.status.idle": "2025-07-23T12:40:12.285613Z",
     "shell.execute_reply": "2025-07-23T12:40:12.284416Z"
    },
    "papermill": {
     "duration": 0.08382,
     "end_time": "2025-07-23T12:40:12.288199",
     "exception": false,
     "start_time": "2025-07-23T12:40:12.204379",
     "status": "completed"
    },
    "tags": []
   },
   "outputs": [
    {
     "name": "stdout",
     "output_type": "stream",
     "text": [
      "Fuel Type: Diesel\n",
      "   fuel_type                                             engine  count\n",
      "65    Diesel         450.0HP 6.7L 8 Cylinder Engine Diesel Fuel    549\n",
      "63    Diesel         440.0HP 6.7L 8 Cylinder Engine Diesel Fuel    515\n",
      "66    Diesel         475.0HP 6.7L 8 Cylinder Engine Diesel Fuel    399\n",
      "5     Diesel        188.0HP 3.0L V6 Cylinder Engine Diesel Fuel    333\n",
      "13    Diesel        240.0HP 3.0L V6 Cylinder Engine Diesel Fuel    254\n",
      "42    Diesel         325.0HP 6.0L 8 Cylinder Engine Diesel Fuel    246\n",
      "48    Diesel  350.0HP 6.7L Straight 6 Cylinder Engine Diesel...    242\n",
      "64    Diesel         445.0HP 6.6L 8 Cylinder Engine Diesel Fuel    238\n",
      "82    Diesel                   6.7L V8 32V DDI OHV Turbo Diesel    136\n",
      "47    Diesel         350.0HP 6.4L 8 Cylinder Engine Diesel Fuel    134\n",
      "--------------------------------------------------\n",
      "Fuel Type: E85 Flex Fuel\n",
      "         fuel_type                                             engine  count\n",
      "129  E85 Flex Fuel  320.0HP 5.3L 8 Cylinder Engine Flex Fuel Capab...    781\n",
      "139  E85 Flex Fuel  385.0HP 6.2L 8 Cylinder Engine Flex Fuel Capab...    732\n",
      "99   E85 Flex Fuel  220.0HP 2.0L 4 Cylinder Engine Flex Fuel Capab...    364\n",
      "141  E85 Flex Fuel  403.0HP 6.2L 8 Cylinder Engine Flex Fuel Capab...    311\n",
      "135  E85 Flex Fuel  355.0HP 5.3L 8 Cylinder Engine Flex Fuel Capab...    287\n",
      "137  E85 Flex Fuel  381.0HP 5.7L 8 Cylinder Engine Flex Fuel Capab...    237\n",
      "112  E85 Flex Fuel  295.0HP 5.3L 8 Cylinder Engine Flex Fuel Capab...    234\n",
      "125  E85 Flex Fuel  310.0HP 5.4L 8 Cylinder Engine Flex Fuel Capab...    197\n",
      "138  E85 Flex Fuel  385.0HP 5.0L 8 Cylinder Engine Flex Fuel Capab...    188\n",
      "109  E85 Flex Fuel  290.0HP 3.5L V6 Cylinder Engine Flex Fuel Capa...    163\n",
      "--------------------------------------------------\n",
      "Fuel Type: Gasoline\n",
      "     fuel_type                                             engine  count\n",
      "799   Gasoline       355.0HP 5.3L 8 Cylinder Engine Gasoline Fuel   3460\n",
      "452   Gasoline       240.0HP 2.0L 4 Cylinder Engine Gasoline Fuel   2899\n",
      "937   Gasoline       420.0HP 6.2L 8 Cylinder Engine Gasoline Fuel   2841\n",
      "336   Gasoline                         2.0L I4 16V GDI DOHC Turbo   2674\n",
      "828   Gasoline      375.0HP 3.5L V6 Cylinder Engine Gasoline Fuel   2450\n",
      "770   Gasoline      340.0HP 3.0L V6 Cylinder Engine Gasoline Fuel   2435\n",
      "1009  Gasoline       490.0HP 6.2L 8 Cylinder Engine Gasoline Fuel   2186\n",
      "983   Gasoline       455.0HP 6.2L 8 Cylinder Engine Gasoline Fuel   2138\n",
      "940   Gasoline  425.0HP 3.0L Straight 6 Cylinder Engine Gasoli...   2133\n",
      "666   Gasoline  300.0HP 3.0L Straight 6 Cylinder Engine Gasoli...   2084\n",
      "--------------------------------------------------\n",
      "Fuel Type: Hybrid\n",
      "     fuel_type                                             engine  count\n",
      "1297    Hybrid  335.0HP 3.0L V6 Cylinder Engine Gasoline/Mild ...    963\n",
      "1318    Hybrid  395.0HP 3.0L Straight 6 Cylinder Engine Gasoli...    828\n",
      "1209    Hybrid                                     2.0 Liter TFSI    478\n",
      "1337    Hybrid  429.0HP 3.0L Straight 6 Cylinder Engine Gasoli...    284\n",
      "1319    Hybrid  395.0HP 5.7L 8 Cylinder Engine Gasoline/Mild E...    259\n",
      "1316    Hybrid  382.0HP 3.0L Straight 6 Cylinder Engine Gasoli...    253\n",
      "1261    Hybrid                                    3.0 Liter Turbo    248\n",
      "1255    Hybrid                                          3.0 Liter    237\n",
      "1339    Hybrid  437.0HP 3.4L V6 Cylinder Engine Gas/Electric H...    198\n",
      "1285    Hybrid  306.0HP 3.5L V6 Cylinder Engine Gas/Electric H...    168\n",
      "--------------------------------------------------\n",
      "Fuel Type: Plug-In Hybrid\n",
      "           fuel_type                                             engine  count\n",
      "1404  Plug-In Hybrid  389.0HP 3.0L Straight 6 Cylinder Engine Plug-I...     94\n",
      "1389  Plug-In Hybrid  247.0HP 2.0L 4 Cylinder Engine Plug-In Electri...     71\n",
      "1409  Plug-In Hybrid  416.0HP 3.0L V6 Cylinder Engine Plug-In Electr...     69\n",
      "1406  Plug-In Hybrid  400.0HP 2.0L 4 Cylinder Engine Plug-In Electri...     37\n",
      "1402  Plug-In Hybrid  369.0HP 1.5L 3 Cylinder Engine Plug-In Electri...     36\n",
      "1381  Plug-In Hybrid  188.0HP 2.0L 4 Cylinder Engine Plug-In Electri...     34\n",
      "1410  Plug-In Hybrid  455.0HP 2.0L 4 Cylinder Engine Plug-In Electri...     32\n",
      "1390  Plug-In Hybrid  261.0HP 1.6L 4 Cylinder Engine Plug-In Electri...     24\n",
      "1396  Plug-In Hybrid  302.0HP 2.5L 4 Cylinder Engine Plug-In Electri...     16\n",
      "1403  Plug-In Hybrid  375.0HP 2.0L 4 Cylinder Engine Plug-In Electri...     16\n",
      "--------------------------------------------------\n",
      "Fuel Type: not supported\n",
      "          fuel_type                                             engine  count\n",
      "1416  not supported               182.0HP Electric Motor Hydrogen Fuel      6\n",
      "1413  not supported       140.0HP 1.8L 4 Cylinder Engine Gasoline Fuel      1\n",
      "1414  not supported               151.0HP Electric Motor Hydrogen Fuel      1\n",
      "1415  not supported       175.0HP 2.5L 4 Cylinder Engine Gasoline Fuel      1\n",
      "1417  not supported      230.0HP 3.3L V6 Cylinder Engine Gasoline Fuel      1\n",
      "1418  not supported       240.0HP 2.0L 4 Cylinder Engine Gasoline Fuel      1\n",
      "1419  not supported      311.0HP 3.5L V6 Cylinder Engine Gasoline Fuel      1\n",
      "1420  not supported       316.0HP 6.0L 8 Cylinder Engine Gasoline Fuel      1\n",
      "1421  not supported  320.0HP 5.3L 8 Cylinder Engine Flex Fuel Capab...      1\n",
      "1422  not supported       355.0HP 5.3L 8 Cylinder Engine Gasoline Fuel      1\n",
      "--------------------------------------------------\n",
      "Fuel Type: –\n",
      "     fuel_type                                             engine  count\n",
      "1433         –                                                  –    772\n",
      "1424         –       140.0HP 1.8L 4 Cylinder Engine Gasoline Fuel      1\n",
      "1425         –       188.0HP 1.6L 4 Cylinder Engine Gasoline Fuel      1\n",
      "1426         –      284.0HP 3.5L V6 Cylinder Engine Gasoline Fuel      1\n",
      "1427         –                                          3.5 Liter      1\n",
      "1428         –                              3.6L V6 24V MPFI DOHC      1\n",
      "1429         –      310.0HP 6.8L 10 Cylinder Engine Gasoline Fuel      1\n",
      "1430         –  333.0HP 3.2L Straight 6 Cylinder Engine Gasoli...      1\n",
      "1431         –  395.0HP 5.7L 8 Cylinder Engine Gasoline/Mild E...      1\n",
      "1432         –      582.0HP 6.0L 12 Cylinder Engine Gasoline Fuel      1\n",
      "--------------------------------------------------\n"
     ]
    }
   ],
   "source": [
    "grouped = train.groupby(['fuel_type', 'engine']).size().reset_index(name='count')\n",
    "\n",
    "grouped = grouped.sort_values(['fuel_type', 'count'], ascending=[True, False])\n",
    "\n",
    "# For each 'fuel_type', print the 10 most frequent 'engine' values\n",
    "for fuel, group in grouped.groupby('fuel_type'):\n",
    "    print(f\"Fuel Type: {fuel}\")\n",
    "    print(group.head(10))  # Print the top 10 most frequent engine values for each fuel_type\n",
    "    print(\"-\" * 50)"
   ]
  },
  {
   "cell_type": "code",
   "execution_count": 29,
   "id": "b97b61d9",
   "metadata": {
    "execution": {
     "iopub.execute_input": "2025-07-23T12:40:12.321629Z",
     "iopub.status.busy": "2025-07-23T12:40:12.321274Z",
     "iopub.status.idle": "2025-07-23T12:40:12.385093Z",
     "shell.execute_reply": "2025-07-23T12:40:12.383769Z"
    },
    "papermill": {
     "duration": 0.083511,
     "end_time": "2025-07-23T12:40:12.387755",
     "exception": false,
     "start_time": "2025-07-23T12:40:12.304244",
     "status": "completed"
    },
    "tags": []
   },
   "outputs": [
    {
     "name": "stdout",
     "output_type": "stream",
     "text": [
      "brand __ 0 __ Missing Percentage : 0 %\n",
      "model __ 0 __ Missing Percentage : 0 %\n",
      "model_year __ 0 __ Missing Percentage : 0 %\n",
      "milage __ 0 __ Missing Percentage : 0 %\n",
      "fuel_type __ 0 __ Missing Percentage : 0 %\n",
      "engine __ 0 __ Missing Percentage : 0 %\n",
      "transmission __ 0 __ Missing Percentage : 0 %\n",
      "ext_col __ 0 __ Missing Percentage : 0 %\n",
      "int_col __ 0 __ Missing Percentage : 0 %\n",
      "accident __ 1632 __ Missing Percentage : 1 %\n",
      "clean_title __ 0 __ Missing Percentage : 0 %\n"
     ]
    }
   ],
   "source": [
    "for col in train.columns:\n",
    "    if col!='price':\n",
    "        null_values=test[col].isnull().sum()\n",
    "        print(col, '__', null_values, '__ Missing Percentage :', (null_values/train.shape[0]*100).__ceil__(),'%')"
   ]
  },
  {
   "cell_type": "code",
   "execution_count": 30,
   "id": "4739202c",
   "metadata": {
    "execution": {
     "iopub.execute_input": "2025-07-23T12:40:12.421491Z",
     "iopub.status.busy": "2025-07-23T12:40:12.420680Z",
     "iopub.status.idle": "2025-07-23T12:40:12.539065Z",
     "shell.execute_reply": "2025-07-23T12:40:12.537524Z"
    },
    "papermill": {
     "duration": 0.137973,
     "end_time": "2025-07-23T12:40:12.541424",
     "exception": false,
     "start_time": "2025-07-23T12:40:12.403451",
     "status": "completed"
    },
    "tags": []
   },
   "outputs": [
    {
     "name": "stdout",
     "output_type": "stream",
     "text": [
      "brand 57\n",
      "model 1897\n",
      "model_year 34\n",
      "milage 6651\n",
      "fuel_type 7\n",
      "engine 1117\n",
      "transmission 52\n",
      "ext_col 319\n",
      "int_col 156\n",
      "accident 2\n",
      "clean_title 2\n",
      "price 1569\n"
     ]
    }
   ],
   "source": [
    "for col in train.columns:\n",
    "    print(col, train[col].nunique())"
   ]
  },
  {
   "cell_type": "code",
   "execution_count": 31,
   "id": "6815c0a6",
   "metadata": {
    "execution": {
     "iopub.execute_input": "2025-07-23T12:40:12.575829Z",
     "iopub.status.busy": "2025-07-23T12:40:12.575417Z",
     "iopub.status.idle": "2025-07-23T12:40:12.580397Z",
     "shell.execute_reply": "2025-07-23T12:40:12.579236Z"
    },
    "papermill": {
     "duration": 0.025263,
     "end_time": "2025-07-23T12:40:12.582704",
     "exception": false,
     "start_time": "2025-07-23T12:40:12.557441",
     "status": "completed"
    },
    "tags": []
   },
   "outputs": [],
   "source": [
    "cat_cols = ['brand', 'model', 'fuel_type', 'engine', 'transmission', 'ext_col', 'int_col', 'accident']"
   ]
  },
  {
   "cell_type": "code",
   "execution_count": 32,
   "id": "375ae610",
   "metadata": {
    "execution": {
     "iopub.execute_input": "2025-07-23T12:40:12.617566Z",
     "iopub.status.busy": "2025-07-23T12:40:12.617158Z",
     "iopub.status.idle": "2025-07-23T12:40:12.634466Z",
     "shell.execute_reply": "2025-07-23T12:40:12.633240Z"
    },
    "papermill": {
     "duration": 0.037956,
     "end_time": "2025-07-23T12:40:12.637054",
     "exception": false,
     "start_time": "2025-07-23T12:40:12.599098",
     "status": "completed"
    },
    "tags": []
   },
   "outputs": [],
   "source": [
    "X = train.drop(columns=['price'])\n",
    "y = train['price']"
   ]
  },
  {
   "cell_type": "code",
   "execution_count": 33,
   "id": "1a810811",
   "metadata": {
    "execution": {
     "iopub.execute_input": "2025-07-23T12:40:12.671764Z",
     "iopub.status.busy": "2025-07-23T12:40:12.671346Z",
     "iopub.status.idle": "2025-07-23T12:40:12.699687Z",
     "shell.execute_reply": "2025-07-23T12:40:12.698565Z"
    },
    "papermill": {
     "duration": 0.048223,
     "end_time": "2025-07-23T12:40:12.702186",
     "exception": false,
     "start_time": "2025-07-23T12:40:12.653963",
     "status": "completed"
    },
    "tags": []
   },
   "outputs": [],
   "source": [
    "X.drop(columns='clean_title', inplace=True)\n",
    "test.drop(columns='clean_title', inplace=True)"
   ]
  },
  {
   "cell_type": "code",
   "execution_count": 34,
   "id": "a0544a07",
   "metadata": {
    "execution": {
     "iopub.execute_input": "2025-07-23T12:40:12.735964Z",
     "iopub.status.busy": "2025-07-23T12:40:12.735213Z",
     "iopub.status.idle": "2025-07-23T12:40:12.756012Z",
     "shell.execute_reply": "2025-07-23T12:40:12.754597Z"
    },
    "papermill": {
     "duration": 0.039919,
     "end_time": "2025-07-23T12:40:12.758404",
     "exception": false,
     "start_time": "2025-07-23T12:40:12.718485",
     "status": "completed"
    },
    "tags": []
   },
   "outputs": [
    {
     "data": {
      "text/plain": [
       "brand           object\n",
       "model           object\n",
       "fuel_type       object\n",
       "engine          object\n",
       "transmission    object\n",
       "ext_col         object\n",
       "int_col         object\n",
       "accident        object\n",
       "dtype: object"
      ]
     },
     "execution_count": 34,
     "metadata": {},
     "output_type": "execute_result"
    }
   ],
   "source": [
    "X[cat_cols].dtypes"
   ]
  },
  {
   "cell_type": "code",
   "execution_count": 35,
   "id": "b6cb9b65",
   "metadata": {
    "execution": {
     "iopub.execute_input": "2025-07-23T12:40:12.792371Z",
     "iopub.status.busy": "2025-07-23T12:40:12.791590Z",
     "iopub.status.idle": "2025-07-23T12:40:12.933923Z",
     "shell.execute_reply": "2025-07-23T12:40:12.932860Z"
    },
    "papermill": {
     "duration": 0.161662,
     "end_time": "2025-07-23T12:40:12.936528",
     "exception": false,
     "start_time": "2025-07-23T12:40:12.774866",
     "status": "completed"
    },
    "tags": []
   },
   "outputs": [],
   "source": [
    "X[cat_cols] = X[cat_cols].astype('category')"
   ]
  },
  {
   "cell_type": "code",
   "execution_count": 36,
   "id": "65c0ea62",
   "metadata": {
    "execution": {
     "iopub.execute_input": "2025-07-23T12:40:12.971489Z",
     "iopub.status.busy": "2025-07-23T12:40:12.970234Z",
     "iopub.status.idle": "2025-07-23T12:40:13.322780Z",
     "shell.execute_reply": "2025-07-23T12:40:13.321683Z"
    },
    "papermill": {
     "duration": 0.37281,
     "end_time": "2025-07-23T12:40:13.325209",
     "exception": false,
     "start_time": "2025-07-23T12:40:12.952399",
     "status": "completed"
    },
    "tags": []
   },
   "outputs": [],
   "source": [
    "encoder = OrdinalEncoder(handle_unknown='use_encoded_value', unknown_value=-1)\n",
    "X[cat_cols] = encoder.fit_transform(X[cat_cols])"
   ]
  },
  {
   "cell_type": "code",
   "execution_count": 37,
   "id": "7ef9171d",
   "metadata": {
    "execution": {
     "iopub.execute_input": "2025-07-23T12:40:13.359160Z",
     "iopub.status.busy": "2025-07-23T12:40:13.358763Z",
     "iopub.status.idle": "2025-07-23T12:40:13.363477Z",
     "shell.execute_reply": "2025-07-23T12:40:13.362376Z"
    },
    "papermill": {
     "duration": 0.024074,
     "end_time": "2025-07-23T12:40:13.365561",
     "exception": false,
     "start_time": "2025-07-23T12:40:13.341487",
     "status": "completed"
    },
    "tags": []
   },
   "outputs": [],
   "source": [
    "# imputer = KNNImputer(n_neighbors=10,weights='distance')\n",
    "# # imputer = IterativeImputer(max_iter=20)\n",
    "# cols = X.columns\n",
    "# X = imputer.fit_transform(X)"
   ]
  },
  {
   "cell_type": "code",
   "execution_count": 38,
   "id": "450b39bd",
   "metadata": {
    "execution": {
     "iopub.execute_input": "2025-07-23T12:40:13.398390Z",
     "iopub.status.busy": "2025-07-23T12:40:13.397936Z",
     "iopub.status.idle": "2025-07-23T12:40:13.402434Z",
     "shell.execute_reply": "2025-07-23T12:40:13.401420Z"
    },
    "papermill": {
     "duration": 0.023388,
     "end_time": "2025-07-23T12:40:13.404692",
     "exception": false,
     "start_time": "2025-07-23T12:40:13.381304",
     "status": "completed"
    },
    "tags": []
   },
   "outputs": [],
   "source": [
    "# # cols = ['brand', 'model', 'model_year', 'milage', 'fuel_type', 'engine', 'transmission', 'ext_col', 'int_col',\t'accident']\n",
    "# X = pd.DataFrame(X, columns=cols)"
   ]
  },
  {
   "cell_type": "code",
   "execution_count": 39,
   "id": "608c4786",
   "metadata": {
    "execution": {
     "iopub.execute_input": "2025-07-23T12:40:13.437507Z",
     "iopub.status.busy": "2025-07-23T12:40:13.437092Z",
     "iopub.status.idle": "2025-07-23T12:40:13.441789Z",
     "shell.execute_reply": "2025-07-23T12:40:13.440834Z"
    },
    "papermill": {
     "duration": 0.023501,
     "end_time": "2025-07-23T12:40:13.443891",
     "exception": false,
     "start_time": "2025-07-23T12:40:13.420390",
     "status": "completed"
    },
    "tags": []
   },
   "outputs": [],
   "source": [
    "# X"
   ]
  },
  {
   "cell_type": "code",
   "execution_count": 40,
   "id": "5936b9c6",
   "metadata": {
    "execution": {
     "iopub.execute_input": "2025-07-23T12:40:13.476425Z",
     "iopub.status.busy": "2025-07-23T12:40:13.476043Z",
     "iopub.status.idle": "2025-07-23T12:40:13.516101Z",
     "shell.execute_reply": "2025-07-23T12:40:13.515011Z"
    },
    "papermill": {
     "duration": 0.059131,
     "end_time": "2025-07-23T12:40:13.518606",
     "exception": false,
     "start_time": "2025-07-23T12:40:13.459475",
     "status": "completed"
    },
    "tags": []
   },
   "outputs": [],
   "source": [
    "X_train, X_valid, y_train, y_valid = train_test_split(X, y, test_size=0.25, random_state=seed)"
   ]
  },
  {
   "cell_type": "code",
   "execution_count": 41,
   "id": "10932ffa",
   "metadata": {
    "execution": {
     "iopub.execute_input": "2025-07-23T12:40:13.553129Z",
     "iopub.status.busy": "2025-07-23T12:40:13.552738Z",
     "iopub.status.idle": "2025-07-23T12:40:14.910449Z",
     "shell.execute_reply": "2025-07-23T12:40:14.909253Z"
    },
    "papermill": {
     "duration": 1.378167,
     "end_time": "2025-07-23T12:40:14.913115",
     "exception": false,
     "start_time": "2025-07-23T12:40:13.534948",
     "status": "completed"
    },
    "tags": []
   },
   "outputs": [
    {
     "name": "stderr",
     "output_type": "stream",
     "text": [
      "/tmp/ipykernel_17/20219925.py:1: FutureWarning: DataFrame.applymap has been deprecated. Use DataFrame.map instead.\n",
      "  X[cat_cols] = X[cat_cols].applymap(lambda x: int(x) if pd.notnull(x) else x)\n"
     ]
    }
   ],
   "source": [
    "X[cat_cols] = X[cat_cols].applymap(lambda x: int(x) if pd.notnull(x) else x)"
   ]
  },
  {
   "cell_type": "code",
   "execution_count": 42,
   "id": "aab08d9a",
   "metadata": {
    "execution": {
     "iopub.execute_input": "2025-07-23T12:40:14.948447Z",
     "iopub.status.busy": "2025-07-23T12:40:14.947458Z",
     "iopub.status.idle": "2025-07-23T12:40:14.976048Z",
     "shell.execute_reply": "2025-07-23T12:40:14.974751Z"
    },
    "papermill": {
     "duration": 0.049011,
     "end_time": "2025-07-23T12:40:14.978386",
     "exception": false,
     "start_time": "2025-07-23T12:40:14.929375",
     "status": "completed"
    },
    "tags": []
   },
   "outputs": [
    {
     "data": {
      "text/html": [
       "<div>\n",
       "<style scoped>\n",
       "    .dataframe tbody tr th:only-of-type {\n",
       "        vertical-align: middle;\n",
       "    }\n",
       "\n",
       "    .dataframe tbody tr th {\n",
       "        vertical-align: top;\n",
       "    }\n",
       "\n",
       "    .dataframe thead th {\n",
       "        text-align: right;\n",
       "    }\n",
       "</style>\n",
       "<table border=\"1\" class=\"dataframe\">\n",
       "  <thead>\n",
       "    <tr style=\"text-align: right;\">\n",
       "      <th></th>\n",
       "      <th>brand</th>\n",
       "      <th>model</th>\n",
       "      <th>fuel_type</th>\n",
       "      <th>engine</th>\n",
       "      <th>transmission</th>\n",
       "      <th>ext_col</th>\n",
       "      <th>int_col</th>\n",
       "      <th>accident</th>\n",
       "    </tr>\n",
       "    <tr>\n",
       "      <th>id</th>\n",
       "      <th></th>\n",
       "      <th></th>\n",
       "      <th></th>\n",
       "      <th></th>\n",
       "      <th></th>\n",
       "      <th></th>\n",
       "      <th></th>\n",
       "      <th></th>\n",
       "    </tr>\n",
       "  </thead>\n",
       "  <tbody>\n",
       "    <tr>\n",
       "      <th>0</th>\n",
       "      <td>31</td>\n",
       "      <td>495</td>\n",
       "      <td>2</td>\n",
       "      <td>116</td>\n",
       "      <td>38</td>\n",
       "      <td>312</td>\n",
       "      <td>71</td>\n",
       "      <td>1.0</td>\n",
       "    </tr>\n",
       "    <tr>\n",
       "      <th>1</th>\n",
       "      <td>28</td>\n",
       "      <td>930</td>\n",
       "      <td>2</td>\n",
       "      <td>366</td>\n",
       "      <td>38</td>\n",
       "      <td>263</td>\n",
       "      <td>10</td>\n",
       "      <td>0.0</td>\n",
       "    </tr>\n",
       "    <tr>\n",
       "      <th>2</th>\n",
       "      <td>9</td>\n",
       "      <td>1575</td>\n",
       "      <td>1</td>\n",
       "      <td>640</td>\n",
       "      <td>38</td>\n",
       "      <td>38</td>\n",
       "      <td>71</td>\n",
       "      <td>1.0</td>\n",
       "    </tr>\n",
       "    <tr>\n",
       "      <th>3</th>\n",
       "      <td>16</td>\n",
       "      <td>758</td>\n",
       "      <td>2</td>\n",
       "      <td>863</td>\n",
       "      <td>49</td>\n",
       "      <td>29</td>\n",
       "      <td>14</td>\n",
       "      <td>1.0</td>\n",
       "    </tr>\n",
       "    <tr>\n",
       "      <th>4</th>\n",
       "      <td>36</td>\n",
       "      <td>1077</td>\n",
       "      <td>2</td>\n",
       "      <td>259</td>\n",
       "      <td>23</td>\n",
       "      <td>29</td>\n",
       "      <td>10</td>\n",
       "      <td>1.0</td>\n",
       "    </tr>\n",
       "    <tr>\n",
       "      <th>...</th>\n",
       "      <td>...</td>\n",
       "      <td>...</td>\n",
       "      <td>...</td>\n",
       "      <td>...</td>\n",
       "      <td>...</td>\n",
       "      <td>...</td>\n",
       "      <td>...</td>\n",
       "      <td>...</td>\n",
       "    </tr>\n",
       "    <tr>\n",
       "      <th>188528</th>\n",
       "      <td>8</td>\n",
       "      <td>604</td>\n",
       "      <td>2</td>\n",
       "      <td>866</td>\n",
       "      <td>49</td>\n",
       "      <td>304</td>\n",
       "      <td>10</td>\n",
       "      <td>1.0</td>\n",
       "    </tr>\n",
       "    <tr>\n",
       "      <th>188529</th>\n",
       "      <td>36</td>\n",
       "      <td>206</td>\n",
       "      <td>2</td>\n",
       "      <td>770</td>\n",
       "      <td>31</td>\n",
       "      <td>304</td>\n",
       "      <td>14</td>\n",
       "      <td>0.0</td>\n",
       "    </tr>\n",
       "    <tr>\n",
       "      <th>188530</th>\n",
       "      <td>36</td>\n",
       "      <td>223</td>\n",
       "      <td>2</td>\n",
       "      <td>921</td>\n",
       "      <td>23</td>\n",
       "      <td>304</td>\n",
       "      <td>14</td>\n",
       "      <td>1.0</td>\n",
       "    </tr>\n",
       "    <tr>\n",
       "      <th>188531</th>\n",
       "      <td>3</td>\n",
       "      <td>1471</td>\n",
       "      <td>2</td>\n",
       "      <td>512</td>\n",
       "      <td>1</td>\n",
       "      <td>82</td>\n",
       "      <td>14</td>\n",
       "      <td>1.0</td>\n",
       "    </tr>\n",
       "    <tr>\n",
       "      <th>188532</th>\n",
       "      <td>43</td>\n",
       "      <td>1028</td>\n",
       "      <td>2</td>\n",
       "      <td>364</td>\n",
       "      <td>49</td>\n",
       "      <td>304</td>\n",
       "      <td>14</td>\n",
       "      <td>1.0</td>\n",
       "    </tr>\n",
       "  </tbody>\n",
       "</table>\n",
       "<p>188533 rows × 8 columns</p>\n",
       "</div>"
      ],
      "text/plain": [
       "        brand  model  fuel_type  engine  transmission  ext_col  int_col  \\\n",
       "id                                                                        \n",
       "0          31    495          2     116            38      312       71   \n",
       "1          28    930          2     366            38      263       10   \n",
       "2           9   1575          1     640            38       38       71   \n",
       "3          16    758          2     863            49       29       14   \n",
       "4          36   1077          2     259            23       29       10   \n",
       "...       ...    ...        ...     ...           ...      ...      ...   \n",
       "188528      8    604          2     866            49      304       10   \n",
       "188529     36    206          2     770            31      304       14   \n",
       "188530     36    223          2     921            23      304       14   \n",
       "188531      3   1471          2     512             1       82       14   \n",
       "188532     43   1028          2     364            49      304       14   \n",
       "\n",
       "        accident  \n",
       "id                \n",
       "0            1.0  \n",
       "1            0.0  \n",
       "2            1.0  \n",
       "3            1.0  \n",
       "4            1.0  \n",
       "...          ...  \n",
       "188528       1.0  \n",
       "188529       0.0  \n",
       "188530       1.0  \n",
       "188531       1.0  \n",
       "188532       1.0  \n",
       "\n",
       "[188533 rows x 8 columns]"
      ]
     },
     "execution_count": 42,
     "metadata": {},
     "output_type": "execute_result"
    }
   ],
   "source": [
    "X[cat_cols]"
   ]
  },
  {
   "cell_type": "code",
   "execution_count": 43,
   "id": "41882924",
   "metadata": {
    "execution": {
     "iopub.execute_input": "2025-07-23T12:40:15.015223Z",
     "iopub.status.busy": "2025-07-23T12:40:15.014822Z",
     "iopub.status.idle": "2025-07-23T12:40:15.020228Z",
     "shell.execute_reply": "2025-07-23T12:40:15.018995Z"
    },
    "papermill": {
     "duration": 0.027055,
     "end_time": "2025-07-23T12:40:15.022579",
     "exception": false,
     "start_time": "2025-07-23T12:40:14.995524",
     "status": "completed"
    },
    "tags": []
   },
   "outputs": [],
   "source": [
    "rmse_scorer = make_scorer(root_mean_squared_error, greater_is_better=False)"
   ]
  },
  {
   "cell_type": "code",
   "execution_count": 44,
   "id": "fd8e0f6b",
   "metadata": {
    "execution": {
     "iopub.execute_input": "2025-07-23T12:40:15.056853Z",
     "iopub.status.busy": "2025-07-23T12:40:15.056441Z",
     "iopub.status.idle": "2025-07-23T12:40:15.061097Z",
     "shell.execute_reply": "2025-07-23T12:40:15.060036Z"
    },
    "papermill": {
     "duration": 0.024292,
     "end_time": "2025-07-23T12:40:15.063350",
     "exception": false,
     "start_time": "2025-07-23T12:40:15.039058",
     "status": "completed"
    },
    "tags": []
   },
   "outputs": [],
   "source": [
    "# d_X = xgb.DMatrix(data=X, label=y, enable_categorical=True)"
   ]
  },
  {
   "cell_type": "code",
   "execution_count": 45,
   "id": "19501b66",
   "metadata": {
    "execution": {
     "iopub.execute_input": "2025-07-23T12:40:15.097272Z",
     "iopub.status.busy": "2025-07-23T12:40:15.096877Z",
     "iopub.status.idle": "2025-07-23T12:40:15.185136Z",
     "shell.execute_reply": "2025-07-23T12:40:15.184038Z"
    },
    "papermill": {
     "duration": 0.108055,
     "end_time": "2025-07-23T12:40:15.187498",
     "exception": false,
     "start_time": "2025-07-23T12:40:15.079443",
     "status": "completed"
    },
    "tags": []
   },
   "outputs": [],
   "source": [
    "X_cat = X.copy()\n",
    "y_cat = y.copy()\n",
    "X_cat[cat_cols] = X_cat[cat_cols].apply(lambda x: pd.to_numeric(x, errors='coerce').astype('Int64'))"
   ]
  },
  {
   "cell_type": "code",
   "execution_count": 46,
   "id": "b539afea",
   "metadata": {
    "execution": {
     "iopub.execute_input": "2025-07-23T12:40:15.221952Z",
     "iopub.status.busy": "2025-07-23T12:40:15.221166Z",
     "iopub.status.idle": "2025-07-23T12:40:15.233744Z",
     "shell.execute_reply": "2025-07-23T12:40:15.232719Z"
    },
    "papermill": {
     "duration": 0.031966,
     "end_time": "2025-07-23T12:40:15.235871",
     "exception": false,
     "start_time": "2025-07-23T12:40:15.203905",
     "status": "completed"
    },
    "tags": []
   },
   "outputs": [
    {
     "data": {
      "text/plain": [
       "brand           Int64\n",
       "model           Int64\n",
       "fuel_type       Int64\n",
       "engine          Int64\n",
       "transmission    Int64\n",
       "ext_col         Int64\n",
       "int_col         Int64\n",
       "accident        Int64\n",
       "dtype: object"
      ]
     },
     "execution_count": 46,
     "metadata": {},
     "output_type": "execute_result"
    }
   ],
   "source": [
    "X_cat[cat_cols].dtypes"
   ]
  },
  {
   "cell_type": "code",
   "execution_count": 47,
   "id": "44ef67d0",
   "metadata": {
    "execution": {
     "iopub.execute_input": "2025-07-23T12:40:15.269918Z",
     "iopub.status.busy": "2025-07-23T12:40:15.269257Z",
     "iopub.status.idle": "2025-07-23T12:40:15.274028Z",
     "shell.execute_reply": "2025-07-23T12:40:15.272964Z"
    },
    "papermill": {
     "duration": 0.024167,
     "end_time": "2025-07-23T12:40:15.276212",
     "exception": false,
     "start_time": "2025-07-23T12:40:15.252045",
     "status": "completed"
    },
    "tags": []
   },
   "outputs": [],
   "source": [
    "# missing_cols = ['fuel_type', 'accident']\n",
    "# missing_list = []\n",
    "# for col in missing_cols:\n",
    "#     missing_mask = X[col].isnull()\n",
    "#     missing_list.extend(X[missing_mask].index.tolist())"
   ]
  },
  {
   "cell_type": "code",
   "execution_count": 48,
   "id": "8ac712db",
   "metadata": {
    "execution": {
     "iopub.execute_input": "2025-07-23T12:40:15.312103Z",
     "iopub.status.busy": "2025-07-23T12:40:15.311711Z",
     "iopub.status.idle": "2025-07-23T12:40:15.315904Z",
     "shell.execute_reply": "2025-07-23T12:40:15.314948Z"
    },
    "papermill": {
     "duration": 0.025553,
     "end_time": "2025-07-23T12:40:15.317997",
     "exception": false,
     "start_time": "2025-07-23T12:40:15.292444",
     "status": "completed"
    },
    "tags": []
   },
   "outputs": [],
   "source": [
    "# missing_list = list(set(missing_list))"
   ]
  },
  {
   "cell_type": "code",
   "execution_count": 49,
   "id": "57b66ab8",
   "metadata": {
    "execution": {
     "iopub.execute_input": "2025-07-23T12:40:15.353667Z",
     "iopub.status.busy": "2025-07-23T12:40:15.353215Z",
     "iopub.status.idle": "2025-07-23T12:40:15.357715Z",
     "shell.execute_reply": "2025-07-23T12:40:15.356725Z"
    },
    "papermill": {
     "duration": 0.02511,
     "end_time": "2025-07-23T12:40:15.360008",
     "exception": false,
     "start_time": "2025-07-23T12:40:15.334898",
     "status": "completed"
    },
    "tags": []
   },
   "outputs": [],
   "source": [
    "# X_clean = X.drop(index=missing_list)\n",
    "# y_clean = y.drop(index=missing_list)"
   ]
  },
  {
   "cell_type": "code",
   "execution_count": 50,
   "id": "41bd927d",
   "metadata": {
    "execution": {
     "iopub.execute_input": "2025-07-23T12:40:15.399341Z",
     "iopub.status.busy": "2025-07-23T12:40:15.398847Z",
     "iopub.status.idle": "2025-07-23T12:40:15.403958Z",
     "shell.execute_reply": "2025-07-23T12:40:15.402831Z"
    },
    "papermill": {
     "duration": 0.030729,
     "end_time": "2025-07-23T12:40:15.407100",
     "exception": false,
     "start_time": "2025-07-23T12:40:15.376371",
     "status": "completed"
    },
    "tags": []
   },
   "outputs": [],
   "source": [
    "# cb = cat.CatBoostRegressor(random_state=seed, task_type='CPU', verbose=0, cat_features=cat_cols, thread_count=-1)\n",
    "# cb.fit(X_cat, y_cat)"
   ]
  },
  {
   "cell_type": "code",
   "execution_count": 51,
   "id": "1cdaad27",
   "metadata": {
    "execution": {
     "iopub.execute_input": "2025-07-23T12:40:15.456671Z",
     "iopub.status.busy": "2025-07-23T12:40:15.456091Z",
     "iopub.status.idle": "2025-07-23T12:40:15.467793Z",
     "shell.execute_reply": "2025-07-23T12:40:15.466295Z"
    },
    "papermill": {
     "duration": 0.039487,
     "end_time": "2025-07-23T12:40:15.470474",
     "exception": false,
     "start_time": "2025-07-23T12:40:15.430987",
     "status": "completed"
    },
    "tags": []
   },
   "outputs": [],
   "source": [
    "def evaluate_model(model_dict, n_splits=10):\n",
    "    kfold = KFold(n_splits=n_splits, shuffle=True, random_state=seed)\n",
    "    \n",
    "    results={}\n",
    "    for name, model in model_dict.items():\n",
    "        if name=='cat':\n",
    "            X_cat = X.copy()\n",
    "            y_cat = y.copy()\n",
    "            X_cat[cat_cols] = X_cat[cat_cols].apply(lambda x: pd.to_numeric(x, errors='coerce').astype('Int64'))\n",
    "            cv_results = cross_val_score(model, X, y, cv=kfold, scoring=rmse_scorer, n_jobs=-1)\n",
    "            cv_results = -cv_results\n",
    "            results[name] = cv_results  \n",
    "        else:\n",
    "            cv_results = cross_val_score(model, X, y, cv=kfold, scoring=rmse_scorer, n_jobs=-1)\n",
    "#         print(f'cv results for {name}: {cv_results}')\n",
    "            cv_results = -(cv_results)\n",
    "            results[name] = cv_results\n",
    "            print(f'score for {name} is : {cv_results.mean()}', f'std for {name} is +/-: {cv_results.std()}')\n",
    "            results_df = pd.DataFrame(results).T\n",
    "            results_df.columns = [f'Fold{i+1}' for i in range(results_df.shape[1])]\n",
    "            results_df['std'] = results_df.std(axis=1)       \n",
    "        \n",
    "    print('summary_of_results: ')\n",
    "    print(results_df)\n",
    "        "
   ]
  },
  {
   "cell_type": "code",
   "execution_count": 52,
   "id": "1de4350b",
   "metadata": {
    "execution": {
     "iopub.execute_input": "2025-07-23T12:40:15.515595Z",
     "iopub.status.busy": "2025-07-23T12:40:15.515209Z",
     "iopub.status.idle": "2025-07-23T12:40:15.520128Z",
     "shell.execute_reply": "2025-07-23T12:40:15.518871Z"
    },
    "papermill": {
     "duration": 0.026948,
     "end_time": "2025-07-23T12:40:15.522427",
     "exception": false,
     "start_time": "2025-07-23T12:40:15.495479",
     "status": "completed"
    },
    "tags": []
   },
   "outputs": [],
   "source": [
    "# X[cat_cols] = X[cat_cols].astype('category')"
   ]
  },
  {
   "cell_type": "code",
   "execution_count": 53,
   "id": "1cdb47f8",
   "metadata": {
    "execution": {
     "iopub.execute_input": "2025-07-23T12:40:15.558658Z",
     "iopub.status.busy": "2025-07-23T12:40:15.557611Z",
     "iopub.status.idle": "2025-07-23T12:40:15.562838Z",
     "shell.execute_reply": "2025-07-23T12:40:15.561711Z"
    },
    "papermill": {
     "duration": 0.025773,
     "end_time": "2025-07-23T12:40:15.565010",
     "exception": false,
     "start_time": "2025-07-23T12:40:15.539237",
     "status": "completed"
    },
    "tags": []
   },
   "outputs": [],
   "source": [
    "# X[cat_cols].nunique()"
   ]
  },
  {
   "cell_type": "code",
   "execution_count": 54,
   "id": "00633013",
   "metadata": {
    "execution": {
     "iopub.execute_input": "2025-07-23T12:40:15.601988Z",
     "iopub.status.busy": "2025-07-23T12:40:15.601527Z",
     "iopub.status.idle": "2025-07-23T12:40:15.606613Z",
     "shell.execute_reply": "2025-07-23T12:40:15.605384Z"
    },
    "papermill": {
     "duration": 0.026116,
     "end_time": "2025-07-23T12:40:15.609021",
     "exception": false,
     "start_time": "2025-07-23T12:40:15.582905",
     "status": "completed"
    },
    "tags": []
   },
   "outputs": [],
   "source": [
    "# categorical_features = ['brand', 'fuel_type', 'int_col', 'accident']"
   ]
  },
  {
   "cell_type": "code",
   "execution_count": 55,
   "id": "617bfc39",
   "metadata": {
    "execution": {
     "iopub.execute_input": "2025-07-23T12:40:15.644291Z",
     "iopub.status.busy": "2025-07-23T12:40:15.643427Z",
     "iopub.status.idle": "2025-07-23T12:40:15.648129Z",
     "shell.execute_reply": "2025-07-23T12:40:15.647065Z"
    },
    "papermill": {
     "duration": 0.024193,
     "end_time": "2025-07-23T12:40:15.650247",
     "exception": false,
     "start_time": "2025-07-23T12:40:15.626054",
     "status": "completed"
    },
    "tags": []
   },
   "outputs": [],
   "source": [
    "# X = X.astype(int)"
   ]
  },
  {
   "cell_type": "code",
   "execution_count": 56,
   "id": "a430f25d",
   "metadata": {
    "execution": {
     "iopub.execute_input": "2025-07-23T12:40:15.685988Z",
     "iopub.status.busy": "2025-07-23T12:40:15.685568Z",
     "iopub.status.idle": "2025-07-23T12:40:15.690594Z",
     "shell.execute_reply": "2025-07-23T12:40:15.689364Z"
    },
    "papermill": {
     "duration": 0.02532,
     "end_time": "2025-07-23T12:40:15.693081",
     "exception": false,
     "start_time": "2025-07-23T12:40:15.667761",
     "status": "completed"
    },
    "tags": []
   },
   "outputs": [],
   "source": [
    "# models = {\n",
    "#    'xgb': xgb.XGBRegressor(random_state=seed, tree_method='hist', n_jobs=-1, enable_categorical=True),\n",
    "#      'hist': HistGradientBoostingRegressor(random_state=seed,),\n",
    "#     'cat': cat.CatBoostRegressor(random_state=seed, task_type='CPU', verbose=0, thread_count=-1),\n",
    "#      'lgbm': lgbm.LGBMRegressor(random_state=seed, n_jobs=-1, verbose=0,),\n",
    "# #     'rf': RandomForestRegressor(random_state=seed, n_jobs=-1),\n",
    "# #    'svc': SVR(),\n",
    "# }\n",
    "# evaluate_model(models)"
   ]
  },
  {
   "cell_type": "code",
   "execution_count": 57,
   "id": "38fddf67",
   "metadata": {
    "execution": {
     "iopub.execute_input": "2025-07-23T12:40:15.728549Z",
     "iopub.status.busy": "2025-07-23T12:40:15.728149Z",
     "iopub.status.idle": "2025-07-23T12:40:15.734073Z",
     "shell.execute_reply": "2025-07-23T12:40:15.732993Z"
    },
    "papermill": {
     "duration": 0.02642,
     "end_time": "2025-07-23T12:40:15.736141",
     "exception": false,
     "start_time": "2025-07-23T12:40:15.709721",
     "status": "completed"
    },
    "tags": []
   },
   "outputs": [],
   "source": [
    "lgbm_params =  {'n_estimators': 1324, 'num_leaves': 78, 'max_depth': 21,\n",
    "                  'cat_smooth': 120, 'learning_rate': 0.014598459802462166,\n",
    "                  'subsample': 0.5703989972315233, 'colsample_bytree': 0.5785435205012305,\n",
    "                  'min_split_gain': 0.3274224980803449, 'min_child_weight': 68, \n",
    "                  'lambda_l2': 2.2060422296908514e-06, 'lambda_l1': 6.39421553012287e-05, 'max_bin': 473}"
   ]
  },
  {
   "cell_type": "code",
   "execution_count": 58,
   "id": "c724d0ab",
   "metadata": {
    "execution": {
     "iopub.execute_input": "2025-07-23T12:40:15.770385Z",
     "iopub.status.busy": "2025-07-23T12:40:15.769966Z",
     "iopub.status.idle": "2025-07-23T12:40:47.876630Z",
     "shell.execute_reply": "2025-07-23T12:40:47.875701Z"
    },
    "papermill": {
     "duration": 32.144738,
     "end_time": "2025-07-23T12:40:47.897243",
     "exception": false,
     "start_time": "2025-07-23T12:40:15.752505",
     "status": "completed"
    },
    "tags": []
   },
   "outputs": [
    {
     "name": "stdout",
     "output_type": "stream",
     "text": [
      "[LightGBM] [Warning] Unknown parameter: cat_features\n",
      "[LightGBM] [Warning] lambda_l2 is set=2.2060422296908514e-06, reg_lambda=0.0 will be ignored. Current value: lambda_l2=2.2060422296908514e-06\n",
      "[LightGBM] [Warning] lambda_l1 is set=6.39421553012287e-05, reg_alpha=0.0 will be ignored. Current value: lambda_l1=6.39421553012287e-05\n",
      "[LightGBM] [Warning] Unknown parameter: cat_features\n",
      "[LightGBM] [Warning] lambda_l2 is set=2.2060422296908514e-06, reg_lambda=0.0 will be ignored. Current value: lambda_l2=2.2060422296908514e-06\n",
      "[LightGBM] [Warning] lambda_l1 is set=6.39421553012287e-05, reg_alpha=0.0 will be ignored. Current value: lambda_l1=6.39421553012287e-05\n"
     ]
    },
    {
     "data": {
      "text/html": [
       "<style>#sk-container-id-1 {\n",
       "  /* Definition of color scheme common for light and dark mode */\n",
       "  --sklearn-color-text: #000;\n",
       "  --sklearn-color-text-muted: #666;\n",
       "  --sklearn-color-line: gray;\n",
       "  /* Definition of color scheme for unfitted estimators */\n",
       "  --sklearn-color-unfitted-level-0: #fff5e6;\n",
       "  --sklearn-color-unfitted-level-1: #f6e4d2;\n",
       "  --sklearn-color-unfitted-level-2: #ffe0b3;\n",
       "  --sklearn-color-unfitted-level-3: chocolate;\n",
       "  /* Definition of color scheme for fitted estimators */\n",
       "  --sklearn-color-fitted-level-0: #f0f8ff;\n",
       "  --sklearn-color-fitted-level-1: #d4ebff;\n",
       "  --sklearn-color-fitted-level-2: #b3dbfd;\n",
       "  --sklearn-color-fitted-level-3: cornflowerblue;\n",
       "\n",
       "  /* Specific color for light theme */\n",
       "  --sklearn-color-text-on-default-background: var(--sg-text-color, var(--theme-code-foreground, var(--jp-content-font-color1, black)));\n",
       "  --sklearn-color-background: var(--sg-background-color, var(--theme-background, var(--jp-layout-color0, white)));\n",
       "  --sklearn-color-border-box: var(--sg-text-color, var(--theme-code-foreground, var(--jp-content-font-color1, black)));\n",
       "  --sklearn-color-icon: #696969;\n",
       "\n",
       "  @media (prefers-color-scheme: dark) {\n",
       "    /* Redefinition of color scheme for dark theme */\n",
       "    --sklearn-color-text-on-default-background: var(--sg-text-color, var(--theme-code-foreground, var(--jp-content-font-color1, white)));\n",
       "    --sklearn-color-background: var(--sg-background-color, var(--theme-background, var(--jp-layout-color0, #111)));\n",
       "    --sklearn-color-border-box: var(--sg-text-color, var(--theme-code-foreground, var(--jp-content-font-color1, white)));\n",
       "    --sklearn-color-icon: #878787;\n",
       "  }\n",
       "}\n",
       "\n",
       "#sk-container-id-1 {\n",
       "  color: var(--sklearn-color-text);\n",
       "}\n",
       "\n",
       "#sk-container-id-1 pre {\n",
       "  padding: 0;\n",
       "}\n",
       "\n",
       "#sk-container-id-1 input.sk-hidden--visually {\n",
       "  border: 0;\n",
       "  clip: rect(1px 1px 1px 1px);\n",
       "  clip: rect(1px, 1px, 1px, 1px);\n",
       "  height: 1px;\n",
       "  margin: -1px;\n",
       "  overflow: hidden;\n",
       "  padding: 0;\n",
       "  position: absolute;\n",
       "  width: 1px;\n",
       "}\n",
       "\n",
       "#sk-container-id-1 div.sk-dashed-wrapped {\n",
       "  border: 1px dashed var(--sklearn-color-line);\n",
       "  margin: 0 0.4em 0.5em 0.4em;\n",
       "  box-sizing: border-box;\n",
       "  padding-bottom: 0.4em;\n",
       "  background-color: var(--sklearn-color-background);\n",
       "}\n",
       "\n",
       "#sk-container-id-1 div.sk-container {\n",
       "  /* jupyter's `normalize.less` sets `[hidden] { display: none; }`\n",
       "     but bootstrap.min.css set `[hidden] { display: none !important; }`\n",
       "     so we also need the `!important` here to be able to override the\n",
       "     default hidden behavior on the sphinx rendered scikit-learn.org.\n",
       "     See: https://github.com/scikit-learn/scikit-learn/issues/21755 */\n",
       "  display: inline-block !important;\n",
       "  position: relative;\n",
       "}\n",
       "\n",
       "#sk-container-id-1 div.sk-text-repr-fallback {\n",
       "  display: none;\n",
       "}\n",
       "\n",
       "div.sk-parallel-item,\n",
       "div.sk-serial,\n",
       "div.sk-item {\n",
       "  /* draw centered vertical line to link estimators */\n",
       "  background-image: linear-gradient(var(--sklearn-color-text-on-default-background), var(--sklearn-color-text-on-default-background));\n",
       "  background-size: 2px 100%;\n",
       "  background-repeat: no-repeat;\n",
       "  background-position: center center;\n",
       "}\n",
       "\n",
       "/* Parallel-specific style estimator block */\n",
       "\n",
       "#sk-container-id-1 div.sk-parallel-item::after {\n",
       "  content: \"\";\n",
       "  width: 100%;\n",
       "  border-bottom: 2px solid var(--sklearn-color-text-on-default-background);\n",
       "  flex-grow: 1;\n",
       "}\n",
       "\n",
       "#sk-container-id-1 div.sk-parallel {\n",
       "  display: flex;\n",
       "  align-items: stretch;\n",
       "  justify-content: center;\n",
       "  background-color: var(--sklearn-color-background);\n",
       "  position: relative;\n",
       "}\n",
       "\n",
       "#sk-container-id-1 div.sk-parallel-item {\n",
       "  display: flex;\n",
       "  flex-direction: column;\n",
       "}\n",
       "\n",
       "#sk-container-id-1 div.sk-parallel-item:first-child::after {\n",
       "  align-self: flex-end;\n",
       "  width: 50%;\n",
       "}\n",
       "\n",
       "#sk-container-id-1 div.sk-parallel-item:last-child::after {\n",
       "  align-self: flex-start;\n",
       "  width: 50%;\n",
       "}\n",
       "\n",
       "#sk-container-id-1 div.sk-parallel-item:only-child::after {\n",
       "  width: 0;\n",
       "}\n",
       "\n",
       "/* Serial-specific style estimator block */\n",
       "\n",
       "#sk-container-id-1 div.sk-serial {\n",
       "  display: flex;\n",
       "  flex-direction: column;\n",
       "  align-items: center;\n",
       "  background-color: var(--sklearn-color-background);\n",
       "  padding-right: 1em;\n",
       "  padding-left: 1em;\n",
       "}\n",
       "\n",
       "\n",
       "/* Toggleable style: style used for estimator/Pipeline/ColumnTransformer box that is\n",
       "clickable and can be expanded/collapsed.\n",
       "- Pipeline and ColumnTransformer use this feature and define the default style\n",
       "- Estimators will overwrite some part of the style using the `sk-estimator` class\n",
       "*/\n",
       "\n",
       "/* Pipeline and ColumnTransformer style (default) */\n",
       "\n",
       "#sk-container-id-1 div.sk-toggleable {\n",
       "  /* Default theme specific background. It is overwritten whether we have a\n",
       "  specific estimator or a Pipeline/ColumnTransformer */\n",
       "  background-color: var(--sklearn-color-background);\n",
       "}\n",
       "\n",
       "/* Toggleable label */\n",
       "#sk-container-id-1 label.sk-toggleable__label {\n",
       "  cursor: pointer;\n",
       "  display: flex;\n",
       "  width: 100%;\n",
       "  margin-bottom: 0;\n",
       "  padding: 0.5em;\n",
       "  box-sizing: border-box;\n",
       "  text-align: center;\n",
       "  align-items: start;\n",
       "  justify-content: space-between;\n",
       "  gap: 0.5em;\n",
       "}\n",
       "\n",
       "#sk-container-id-1 label.sk-toggleable__label .caption {\n",
       "  font-size: 0.6rem;\n",
       "  font-weight: lighter;\n",
       "  color: var(--sklearn-color-text-muted);\n",
       "}\n",
       "\n",
       "#sk-container-id-1 label.sk-toggleable__label-arrow:before {\n",
       "  /* Arrow on the left of the label */\n",
       "  content: \"▸\";\n",
       "  float: left;\n",
       "  margin-right: 0.25em;\n",
       "  color: var(--sklearn-color-icon);\n",
       "}\n",
       "\n",
       "#sk-container-id-1 label.sk-toggleable__label-arrow:hover:before {\n",
       "  color: var(--sklearn-color-text);\n",
       "}\n",
       "\n",
       "/* Toggleable content - dropdown */\n",
       "\n",
       "#sk-container-id-1 div.sk-toggleable__content {\n",
       "  display: none;\n",
       "  text-align: left;\n",
       "  /* unfitted */\n",
       "  background-color: var(--sklearn-color-unfitted-level-0);\n",
       "}\n",
       "\n",
       "#sk-container-id-1 div.sk-toggleable__content.fitted {\n",
       "  /* fitted */\n",
       "  background-color: var(--sklearn-color-fitted-level-0);\n",
       "}\n",
       "\n",
       "#sk-container-id-1 div.sk-toggleable__content pre {\n",
       "  margin: 0.2em;\n",
       "  border-radius: 0.25em;\n",
       "  color: var(--sklearn-color-text);\n",
       "  /* unfitted */\n",
       "  background-color: var(--sklearn-color-unfitted-level-0);\n",
       "}\n",
       "\n",
       "#sk-container-id-1 div.sk-toggleable__content.fitted pre {\n",
       "  /* unfitted */\n",
       "  background-color: var(--sklearn-color-fitted-level-0);\n",
       "}\n",
       "\n",
       "#sk-container-id-1 input.sk-toggleable__control:checked~div.sk-toggleable__content {\n",
       "  /* Expand drop-down */\n",
       "  display: block;\n",
       "  width: 100%;\n",
       "  overflow: visible;\n",
       "}\n",
       "\n",
       "#sk-container-id-1 input.sk-toggleable__control:checked~label.sk-toggleable__label-arrow:before {\n",
       "  content: \"▾\";\n",
       "}\n",
       "\n",
       "/* Pipeline/ColumnTransformer-specific style */\n",
       "\n",
       "#sk-container-id-1 div.sk-label input.sk-toggleable__control:checked~label.sk-toggleable__label {\n",
       "  color: var(--sklearn-color-text);\n",
       "  background-color: var(--sklearn-color-unfitted-level-2);\n",
       "}\n",
       "\n",
       "#sk-container-id-1 div.sk-label.fitted input.sk-toggleable__control:checked~label.sk-toggleable__label {\n",
       "  background-color: var(--sklearn-color-fitted-level-2);\n",
       "}\n",
       "\n",
       "/* Estimator-specific style */\n",
       "\n",
       "/* Colorize estimator box */\n",
       "#sk-container-id-1 div.sk-estimator input.sk-toggleable__control:checked~label.sk-toggleable__label {\n",
       "  /* unfitted */\n",
       "  background-color: var(--sklearn-color-unfitted-level-2);\n",
       "}\n",
       "\n",
       "#sk-container-id-1 div.sk-estimator.fitted input.sk-toggleable__control:checked~label.sk-toggleable__label {\n",
       "  /* fitted */\n",
       "  background-color: var(--sklearn-color-fitted-level-2);\n",
       "}\n",
       "\n",
       "#sk-container-id-1 div.sk-label label.sk-toggleable__label,\n",
       "#sk-container-id-1 div.sk-label label {\n",
       "  /* The background is the default theme color */\n",
       "  color: var(--sklearn-color-text-on-default-background);\n",
       "}\n",
       "\n",
       "/* On hover, darken the color of the background */\n",
       "#sk-container-id-1 div.sk-label:hover label.sk-toggleable__label {\n",
       "  color: var(--sklearn-color-text);\n",
       "  background-color: var(--sklearn-color-unfitted-level-2);\n",
       "}\n",
       "\n",
       "/* Label box, darken color on hover, fitted */\n",
       "#sk-container-id-1 div.sk-label.fitted:hover label.sk-toggleable__label.fitted {\n",
       "  color: var(--sklearn-color-text);\n",
       "  background-color: var(--sklearn-color-fitted-level-2);\n",
       "}\n",
       "\n",
       "/* Estimator label */\n",
       "\n",
       "#sk-container-id-1 div.sk-label label {\n",
       "  font-family: monospace;\n",
       "  font-weight: bold;\n",
       "  display: inline-block;\n",
       "  line-height: 1.2em;\n",
       "}\n",
       "\n",
       "#sk-container-id-1 div.sk-label-container {\n",
       "  text-align: center;\n",
       "}\n",
       "\n",
       "/* Estimator-specific */\n",
       "#sk-container-id-1 div.sk-estimator {\n",
       "  font-family: monospace;\n",
       "  border: 1px dotted var(--sklearn-color-border-box);\n",
       "  border-radius: 0.25em;\n",
       "  box-sizing: border-box;\n",
       "  margin-bottom: 0.5em;\n",
       "  /* unfitted */\n",
       "  background-color: var(--sklearn-color-unfitted-level-0);\n",
       "}\n",
       "\n",
       "#sk-container-id-1 div.sk-estimator.fitted {\n",
       "  /* fitted */\n",
       "  background-color: var(--sklearn-color-fitted-level-0);\n",
       "}\n",
       "\n",
       "/* on hover */\n",
       "#sk-container-id-1 div.sk-estimator:hover {\n",
       "  /* unfitted */\n",
       "  background-color: var(--sklearn-color-unfitted-level-2);\n",
       "}\n",
       "\n",
       "#sk-container-id-1 div.sk-estimator.fitted:hover {\n",
       "  /* fitted */\n",
       "  background-color: var(--sklearn-color-fitted-level-2);\n",
       "}\n",
       "\n",
       "/* Specification for estimator info (e.g. \"i\" and \"?\") */\n",
       "\n",
       "/* Common style for \"i\" and \"?\" */\n",
       "\n",
       ".sk-estimator-doc-link,\n",
       "a:link.sk-estimator-doc-link,\n",
       "a:visited.sk-estimator-doc-link {\n",
       "  float: right;\n",
       "  font-size: smaller;\n",
       "  line-height: 1em;\n",
       "  font-family: monospace;\n",
       "  background-color: var(--sklearn-color-background);\n",
       "  border-radius: 1em;\n",
       "  height: 1em;\n",
       "  width: 1em;\n",
       "  text-decoration: none !important;\n",
       "  margin-left: 0.5em;\n",
       "  text-align: center;\n",
       "  /* unfitted */\n",
       "  border: var(--sklearn-color-unfitted-level-1) 1pt solid;\n",
       "  color: var(--sklearn-color-unfitted-level-1);\n",
       "}\n",
       "\n",
       ".sk-estimator-doc-link.fitted,\n",
       "a:link.sk-estimator-doc-link.fitted,\n",
       "a:visited.sk-estimator-doc-link.fitted {\n",
       "  /* fitted */\n",
       "  border: var(--sklearn-color-fitted-level-1) 1pt solid;\n",
       "  color: var(--sklearn-color-fitted-level-1);\n",
       "}\n",
       "\n",
       "/* On hover */\n",
       "div.sk-estimator:hover .sk-estimator-doc-link:hover,\n",
       ".sk-estimator-doc-link:hover,\n",
       "div.sk-label-container:hover .sk-estimator-doc-link:hover,\n",
       ".sk-estimator-doc-link:hover {\n",
       "  /* unfitted */\n",
       "  background-color: var(--sklearn-color-unfitted-level-3);\n",
       "  color: var(--sklearn-color-background);\n",
       "  text-decoration: none;\n",
       "}\n",
       "\n",
       "div.sk-estimator.fitted:hover .sk-estimator-doc-link.fitted:hover,\n",
       ".sk-estimator-doc-link.fitted:hover,\n",
       "div.sk-label-container:hover .sk-estimator-doc-link.fitted:hover,\n",
       ".sk-estimator-doc-link.fitted:hover {\n",
       "  /* fitted */\n",
       "  background-color: var(--sklearn-color-fitted-level-3);\n",
       "  color: var(--sklearn-color-background);\n",
       "  text-decoration: none;\n",
       "}\n",
       "\n",
       "/* Span, style for the box shown on hovering the info icon */\n",
       ".sk-estimator-doc-link span {\n",
       "  display: none;\n",
       "  z-index: 9999;\n",
       "  position: relative;\n",
       "  font-weight: normal;\n",
       "  right: .2ex;\n",
       "  padding: .5ex;\n",
       "  margin: .5ex;\n",
       "  width: min-content;\n",
       "  min-width: 20ex;\n",
       "  max-width: 50ex;\n",
       "  color: var(--sklearn-color-text);\n",
       "  box-shadow: 2pt 2pt 4pt #999;\n",
       "  /* unfitted */\n",
       "  background: var(--sklearn-color-unfitted-level-0);\n",
       "  border: .5pt solid var(--sklearn-color-unfitted-level-3);\n",
       "}\n",
       "\n",
       ".sk-estimator-doc-link.fitted span {\n",
       "  /* fitted */\n",
       "  background: var(--sklearn-color-fitted-level-0);\n",
       "  border: var(--sklearn-color-fitted-level-3);\n",
       "}\n",
       "\n",
       ".sk-estimator-doc-link:hover span {\n",
       "  display: block;\n",
       "}\n",
       "\n",
       "/* \"?\"-specific style due to the `<a>` HTML tag */\n",
       "\n",
       "#sk-container-id-1 a.estimator_doc_link {\n",
       "  float: right;\n",
       "  font-size: 1rem;\n",
       "  line-height: 1em;\n",
       "  font-family: monospace;\n",
       "  background-color: var(--sklearn-color-background);\n",
       "  border-radius: 1rem;\n",
       "  height: 1rem;\n",
       "  width: 1rem;\n",
       "  text-decoration: none;\n",
       "  /* unfitted */\n",
       "  color: var(--sklearn-color-unfitted-level-1);\n",
       "  border: var(--sklearn-color-unfitted-level-1) 1pt solid;\n",
       "}\n",
       "\n",
       "#sk-container-id-1 a.estimator_doc_link.fitted {\n",
       "  /* fitted */\n",
       "  border: var(--sklearn-color-fitted-level-1) 1pt solid;\n",
       "  color: var(--sklearn-color-fitted-level-1);\n",
       "}\n",
       "\n",
       "/* On hover */\n",
       "#sk-container-id-1 a.estimator_doc_link:hover {\n",
       "  /* unfitted */\n",
       "  background-color: var(--sklearn-color-unfitted-level-3);\n",
       "  color: var(--sklearn-color-background);\n",
       "  text-decoration: none;\n",
       "}\n",
       "\n",
       "#sk-container-id-1 a.estimator_doc_link.fitted:hover {\n",
       "  /* fitted */\n",
       "  background-color: var(--sklearn-color-fitted-level-3);\n",
       "}\n",
       "\n",
       ".estimator-table summary {\n",
       "    padding: .5rem;\n",
       "    font-family: monospace;\n",
       "    cursor: pointer;\n",
       "}\n",
       "\n",
       ".estimator-table details[open] {\n",
       "    padding-left: 0.1rem;\n",
       "    padding-right: 0.1rem;\n",
       "    padding-bottom: 0.3rem;\n",
       "}\n",
       "\n",
       ".estimator-table .parameters-table {\n",
       "    margin-left: auto !important;\n",
       "    margin-right: auto !important;\n",
       "}\n",
       "\n",
       ".estimator-table .parameters-table tr:nth-child(odd) {\n",
       "    background-color: #fff;\n",
       "}\n",
       "\n",
       ".estimator-table .parameters-table tr:nth-child(even) {\n",
       "    background-color: #f6f6f6;\n",
       "}\n",
       "\n",
       ".estimator-table .parameters-table tr:hover {\n",
       "    background-color: #e0e0e0;\n",
       "}\n",
       "\n",
       ".estimator-table table td {\n",
       "    border: 1px solid rgba(106, 105, 104, 0.232);\n",
       "}\n",
       "\n",
       ".user-set td {\n",
       "    color:rgb(255, 94, 0);\n",
       "    text-align: left;\n",
       "}\n",
       "\n",
       ".user-set td.value pre {\n",
       "    color:rgb(255, 94, 0) !important;\n",
       "    background-color: transparent !important;\n",
       "}\n",
       "\n",
       ".default td {\n",
       "    color: black;\n",
       "    text-align: left;\n",
       "}\n",
       "\n",
       ".user-set td i,\n",
       ".default td i {\n",
       "    color: black;\n",
       "}\n",
       "\n",
       ".copy-paste-icon {\n",
       "    background-image: url(data:image/svg+xml;base64,PHN2ZyB4bWxucz0iaHR0cDovL3d3dy53My5vcmcvMjAwMC9zdmciIHZpZXdCb3g9IjAgMCA0NDggNTEyIj48IS0tIUZvbnQgQXdlc29tZSBGcmVlIDYuNy4yIGJ5IEBmb250YXdlc29tZSAtIGh0dHBzOi8vZm9udGF3ZXNvbWUuY29tIExpY2Vuc2UgLSBodHRwczovL2ZvbnRhd2Vzb21lLmNvbS9saWNlbnNlL2ZyZWUgQ29weXJpZ2h0IDIwMjUgRm9udGljb25zLCBJbmMuLS0+PHBhdGggZD0iTTIwOCAwTDMzMi4xIDBjMTIuNyAwIDI0LjkgNS4xIDMzLjkgMTQuMWw2Ny45IDY3LjljOSA5IDE0LjEgMjEuMiAxNC4xIDMzLjlMNDQ4IDMzNmMwIDI2LjUtMjEuNSA0OC00OCA0OGwtMTkyIDBjLTI2LjUgMC00OC0yMS41LTQ4LTQ4bDAtMjg4YzAtMjYuNSAyMS41LTQ4IDQ4LTQ4ek00OCAxMjhsODAgMCAwIDY0LTY0IDAgMCAyNTYgMTkyIDAgMC0zMiA2NCAwIDAgNDhjMCAyNi41LTIxLjUgNDgtNDggNDhMNDggNTEyYy0yNi41IDAtNDgtMjEuNS00OC00OEwwIDE3NmMwLTI2LjUgMjEuNS00OCA0OC00OHoiLz48L3N2Zz4=);\n",
       "    background-repeat: no-repeat;\n",
       "    background-size: 14px 14px;\n",
       "    background-position: 0;\n",
       "    display: inline-block;\n",
       "    width: 14px;\n",
       "    height: 14px;\n",
       "    cursor: pointer;\n",
       "}\n",
       "</style><body><div id=\"sk-container-id-1\" class=\"sk-top-container\"><div class=\"sk-text-repr-fallback\"><pre>LGBMRegressor(cat_features=[&#x27;brand&#x27;, &#x27;model&#x27;, &#x27;fuel_type&#x27;, &#x27;engine&#x27;,\n",
       "                            &#x27;transmission&#x27;, &#x27;ext_col&#x27;, &#x27;int_col&#x27;, &#x27;accident&#x27;],\n",
       "              cat_smooth=120, colsample_bytree=0.5785435205012305,\n",
       "              lambda_l1=6.39421553012287e-05, lambda_l2=2.2060422296908514e-06,\n",
       "              learning_rate=0.014598459802462166, max_bin=473, max_depth=21,\n",
       "              min_child_weight=68, min_split_gain=0.3274224980803449,\n",
       "              n_estimators=1324, n_jobs=-1, num_leaves=78, random_state=42,\n",
       "              subsample=0.5703989972315233, verbose=0)</pre><b>In a Jupyter environment, please rerun this cell to show the HTML representation or trust the notebook. <br />On GitHub, the HTML representation is unable to render, please try loading this page with nbviewer.org.</b></div><div class=\"sk-container\" hidden><div class=\"sk-item\"><div class=\"sk-estimator fitted sk-toggleable\"><input class=\"sk-toggleable__control sk-hidden--visually\" id=\"sk-estimator-id-1\" type=\"checkbox\" checked><label for=\"sk-estimator-id-1\" class=\"sk-toggleable__label fitted sk-toggleable__label-arrow\"><div><div>LGBMRegressor</div></div><div><span class=\"sk-estimator-doc-link fitted\">i<span>Fitted</span></span></div></label><div class=\"sk-toggleable__content fitted\" data-param-prefix=\"\">\n",
       "        <div class=\"estimator-table\">\n",
       "            <details>\n",
       "                <summary>Parameters</summary>\n",
       "                <table class=\"parameters-table\">\n",
       "                  <tbody>\n",
       "                    \n",
       "        <tr class=\"default\">\n",
       "            <td><i class=\"copy-paste-icon\"\n",
       "                 onclick=\"copyToClipboard('boosting_type',\n",
       "                          this.parentElement.nextElementSibling)\"\n",
       "            ></i></td>\n",
       "            <td class=\"param\">boosting_type&nbsp;</td>\n",
       "            <td class=\"value\">&#x27;gbdt&#x27;</td>\n",
       "        </tr>\n",
       "    \n",
       "\n",
       "        <tr class=\"user-set\">\n",
       "            <td><i class=\"copy-paste-icon\"\n",
       "                 onclick=\"copyToClipboard('num_leaves',\n",
       "                          this.parentElement.nextElementSibling)\"\n",
       "            ></i></td>\n",
       "            <td class=\"param\">num_leaves&nbsp;</td>\n",
       "            <td class=\"value\">78</td>\n",
       "        </tr>\n",
       "    \n",
       "\n",
       "        <tr class=\"user-set\">\n",
       "            <td><i class=\"copy-paste-icon\"\n",
       "                 onclick=\"copyToClipboard('max_depth',\n",
       "                          this.parentElement.nextElementSibling)\"\n",
       "            ></i></td>\n",
       "            <td class=\"param\">max_depth&nbsp;</td>\n",
       "            <td class=\"value\">21</td>\n",
       "        </tr>\n",
       "    \n",
       "\n",
       "        <tr class=\"user-set\">\n",
       "            <td><i class=\"copy-paste-icon\"\n",
       "                 onclick=\"copyToClipboard('learning_rate',\n",
       "                          this.parentElement.nextElementSibling)\"\n",
       "            ></i></td>\n",
       "            <td class=\"param\">learning_rate&nbsp;</td>\n",
       "            <td class=\"value\">0.014598459802462166</td>\n",
       "        </tr>\n",
       "    \n",
       "\n",
       "        <tr class=\"user-set\">\n",
       "            <td><i class=\"copy-paste-icon\"\n",
       "                 onclick=\"copyToClipboard('n_estimators',\n",
       "                          this.parentElement.nextElementSibling)\"\n",
       "            ></i></td>\n",
       "            <td class=\"param\">n_estimators&nbsp;</td>\n",
       "            <td class=\"value\">1324</td>\n",
       "        </tr>\n",
       "    \n",
       "\n",
       "        <tr class=\"default\">\n",
       "            <td><i class=\"copy-paste-icon\"\n",
       "                 onclick=\"copyToClipboard('subsample_for_bin',\n",
       "                          this.parentElement.nextElementSibling)\"\n",
       "            ></i></td>\n",
       "            <td class=\"param\">subsample_for_bin&nbsp;</td>\n",
       "            <td class=\"value\">200000</td>\n",
       "        </tr>\n",
       "    \n",
       "\n",
       "        <tr class=\"default\">\n",
       "            <td><i class=\"copy-paste-icon\"\n",
       "                 onclick=\"copyToClipboard('objective',\n",
       "                          this.parentElement.nextElementSibling)\"\n",
       "            ></i></td>\n",
       "            <td class=\"param\">objective&nbsp;</td>\n",
       "            <td class=\"value\">None</td>\n",
       "        </tr>\n",
       "    \n",
       "\n",
       "        <tr class=\"default\">\n",
       "            <td><i class=\"copy-paste-icon\"\n",
       "                 onclick=\"copyToClipboard('class_weight',\n",
       "                          this.parentElement.nextElementSibling)\"\n",
       "            ></i></td>\n",
       "            <td class=\"param\">class_weight&nbsp;</td>\n",
       "            <td class=\"value\">None</td>\n",
       "        </tr>\n",
       "    \n",
       "\n",
       "        <tr class=\"user-set\">\n",
       "            <td><i class=\"copy-paste-icon\"\n",
       "                 onclick=\"copyToClipboard('min_split_gain',\n",
       "                          this.parentElement.nextElementSibling)\"\n",
       "            ></i></td>\n",
       "            <td class=\"param\">min_split_gain&nbsp;</td>\n",
       "            <td class=\"value\">0.3274224980803449</td>\n",
       "        </tr>\n",
       "    \n",
       "\n",
       "        <tr class=\"user-set\">\n",
       "            <td><i class=\"copy-paste-icon\"\n",
       "                 onclick=\"copyToClipboard('min_child_weight',\n",
       "                          this.parentElement.nextElementSibling)\"\n",
       "            ></i></td>\n",
       "            <td class=\"param\">min_child_weight&nbsp;</td>\n",
       "            <td class=\"value\">68</td>\n",
       "        </tr>\n",
       "    \n",
       "\n",
       "        <tr class=\"default\">\n",
       "            <td><i class=\"copy-paste-icon\"\n",
       "                 onclick=\"copyToClipboard('min_child_samples',\n",
       "                          this.parentElement.nextElementSibling)\"\n",
       "            ></i></td>\n",
       "            <td class=\"param\">min_child_samples&nbsp;</td>\n",
       "            <td class=\"value\">20</td>\n",
       "        </tr>\n",
       "    \n",
       "\n",
       "        <tr class=\"user-set\">\n",
       "            <td><i class=\"copy-paste-icon\"\n",
       "                 onclick=\"copyToClipboard('subsample',\n",
       "                          this.parentElement.nextElementSibling)\"\n",
       "            ></i></td>\n",
       "            <td class=\"param\">subsample&nbsp;</td>\n",
       "            <td class=\"value\">0.5703989972315233</td>\n",
       "        </tr>\n",
       "    \n",
       "\n",
       "        <tr class=\"default\">\n",
       "            <td><i class=\"copy-paste-icon\"\n",
       "                 onclick=\"copyToClipboard('subsample_freq',\n",
       "                          this.parentElement.nextElementSibling)\"\n",
       "            ></i></td>\n",
       "            <td class=\"param\">subsample_freq&nbsp;</td>\n",
       "            <td class=\"value\">0</td>\n",
       "        </tr>\n",
       "    \n",
       "\n",
       "        <tr class=\"user-set\">\n",
       "            <td><i class=\"copy-paste-icon\"\n",
       "                 onclick=\"copyToClipboard('colsample_bytree',\n",
       "                          this.parentElement.nextElementSibling)\"\n",
       "            ></i></td>\n",
       "            <td class=\"param\">colsample_bytree&nbsp;</td>\n",
       "            <td class=\"value\">0.5785435205012305</td>\n",
       "        </tr>\n",
       "    \n",
       "\n",
       "        <tr class=\"default\">\n",
       "            <td><i class=\"copy-paste-icon\"\n",
       "                 onclick=\"copyToClipboard('reg_alpha',\n",
       "                          this.parentElement.nextElementSibling)\"\n",
       "            ></i></td>\n",
       "            <td class=\"param\">reg_alpha&nbsp;</td>\n",
       "            <td class=\"value\">0.0</td>\n",
       "        </tr>\n",
       "    \n",
       "\n",
       "        <tr class=\"default\">\n",
       "            <td><i class=\"copy-paste-icon\"\n",
       "                 onclick=\"copyToClipboard('reg_lambda',\n",
       "                          this.parentElement.nextElementSibling)\"\n",
       "            ></i></td>\n",
       "            <td class=\"param\">reg_lambda&nbsp;</td>\n",
       "            <td class=\"value\">0.0</td>\n",
       "        </tr>\n",
       "    \n",
       "\n",
       "        <tr class=\"user-set\">\n",
       "            <td><i class=\"copy-paste-icon\"\n",
       "                 onclick=\"copyToClipboard('random_state',\n",
       "                          this.parentElement.nextElementSibling)\"\n",
       "            ></i></td>\n",
       "            <td class=\"param\">random_state&nbsp;</td>\n",
       "            <td class=\"value\">42</td>\n",
       "        </tr>\n",
       "    \n",
       "\n",
       "        <tr class=\"user-set\">\n",
       "            <td><i class=\"copy-paste-icon\"\n",
       "                 onclick=\"copyToClipboard('n_jobs',\n",
       "                          this.parentElement.nextElementSibling)\"\n",
       "            ></i></td>\n",
       "            <td class=\"param\">n_jobs&nbsp;</td>\n",
       "            <td class=\"value\">-1</td>\n",
       "        </tr>\n",
       "    \n",
       "\n",
       "        <tr class=\"default\">\n",
       "            <td><i class=\"copy-paste-icon\"\n",
       "                 onclick=\"copyToClipboard('importance_type',\n",
       "                          this.parentElement.nextElementSibling)\"\n",
       "            ></i></td>\n",
       "            <td class=\"param\">importance_type&nbsp;</td>\n",
       "            <td class=\"value\">&#x27;split&#x27;</td>\n",
       "        </tr>\n",
       "    \n",
       "\n",
       "        <tr class=\"user-set\">\n",
       "            <td><i class=\"copy-paste-icon\"\n",
       "                 onclick=\"copyToClipboard('cat_smooth',\n",
       "                          this.parentElement.nextElementSibling)\"\n",
       "            ></i></td>\n",
       "            <td class=\"param\">cat_smooth&nbsp;</td>\n",
       "            <td class=\"value\">120</td>\n",
       "        </tr>\n",
       "    \n",
       "\n",
       "        <tr class=\"user-set\">\n",
       "            <td><i class=\"copy-paste-icon\"\n",
       "                 onclick=\"copyToClipboard('lambda_l2',\n",
       "                          this.parentElement.nextElementSibling)\"\n",
       "            ></i></td>\n",
       "            <td class=\"param\">lambda_l2&nbsp;</td>\n",
       "            <td class=\"value\">2.2060422296908514e-06</td>\n",
       "        </tr>\n",
       "    \n",
       "\n",
       "        <tr class=\"user-set\">\n",
       "            <td><i class=\"copy-paste-icon\"\n",
       "                 onclick=\"copyToClipboard('lambda_l1',\n",
       "                          this.parentElement.nextElementSibling)\"\n",
       "            ></i></td>\n",
       "            <td class=\"param\">lambda_l1&nbsp;</td>\n",
       "            <td class=\"value\">6.39421553012287e-05</td>\n",
       "        </tr>\n",
       "    \n",
       "\n",
       "        <tr class=\"user-set\">\n",
       "            <td><i class=\"copy-paste-icon\"\n",
       "                 onclick=\"copyToClipboard('max_bin',\n",
       "                          this.parentElement.nextElementSibling)\"\n",
       "            ></i></td>\n",
       "            <td class=\"param\">max_bin&nbsp;</td>\n",
       "            <td class=\"value\">473</td>\n",
       "        </tr>\n",
       "    \n",
       "\n",
       "        <tr class=\"user-set\">\n",
       "            <td><i class=\"copy-paste-icon\"\n",
       "                 onclick=\"copyToClipboard('verbose',\n",
       "                          this.parentElement.nextElementSibling)\"\n",
       "            ></i></td>\n",
       "            <td class=\"param\">verbose&nbsp;</td>\n",
       "            <td class=\"value\">0</td>\n",
       "        </tr>\n",
       "    \n",
       "\n",
       "        <tr class=\"user-set\">\n",
       "            <td><i class=\"copy-paste-icon\"\n",
       "                 onclick=\"copyToClipboard('cat_features',\n",
       "                          this.parentElement.nextElementSibling)\"\n",
       "            ></i></td>\n",
       "            <td class=\"param\">cat_features&nbsp;</td>\n",
       "            <td class=\"value\">[&#x27;brand&#x27;, &#x27;model&#x27;, ...]</td>\n",
       "        </tr>\n",
       "    \n",
       "                  </tbody>\n",
       "                </table>\n",
       "            </details>\n",
       "        </div>\n",
       "    </div></div></div></div></div><script>function copyToClipboard(text, element) {\n",
       "    // Get the parameter prefix from the closest toggleable content\n",
       "    const toggleableContent = element.closest('.sk-toggleable__content');\n",
       "    const paramPrefix = toggleableContent ? toggleableContent.dataset.paramPrefix : '';\n",
       "    const fullParamName = paramPrefix ? `${paramPrefix}${text}` : text;\n",
       "\n",
       "    const originalStyle = element.style;\n",
       "    const computedStyle = window.getComputedStyle(element);\n",
       "    const originalWidth = computedStyle.width;\n",
       "    const originalHTML = element.innerHTML.replace('Copied!', '');\n",
       "\n",
       "    navigator.clipboard.writeText(fullParamName)\n",
       "        .then(() => {\n",
       "            element.style.width = originalWidth;\n",
       "            element.style.color = 'green';\n",
       "            element.innerHTML = \"Copied!\";\n",
       "\n",
       "            setTimeout(() => {\n",
       "                element.innerHTML = originalHTML;\n",
       "                element.style = originalStyle;\n",
       "            }, 2000);\n",
       "        })\n",
       "        .catch(err => {\n",
       "            console.error('Failed to copy:', err);\n",
       "            element.style.color = 'red';\n",
       "            element.innerHTML = \"Failed!\";\n",
       "            setTimeout(() => {\n",
       "                element.innerHTML = originalHTML;\n",
       "                element.style = originalStyle;\n",
       "            }, 2000);\n",
       "        });\n",
       "    return false;\n",
       "}\n",
       "\n",
       "document.querySelectorAll('.fa-regular.fa-copy').forEach(function(element) {\n",
       "    const toggleableContent = element.closest('.sk-toggleable__content');\n",
       "    const paramPrefix = toggleableContent ? toggleableContent.dataset.paramPrefix : '';\n",
       "    const paramName = element.parentElement.nextElementSibling.textContent.trim();\n",
       "    const fullParamName = paramPrefix ? `${paramPrefix}${paramName}` : paramName;\n",
       "\n",
       "    element.setAttribute('title', fullParamName);\n",
       "});\n",
       "</script></body>"
      ],
      "text/plain": [
       "LGBMRegressor(cat_features=['brand', 'model', 'fuel_type', 'engine',\n",
       "                            'transmission', 'ext_col', 'int_col', 'accident'],\n",
       "              cat_smooth=120, colsample_bytree=0.5785435205012305,\n",
       "              lambda_l1=6.39421553012287e-05, lambda_l2=2.2060422296908514e-06,\n",
       "              learning_rate=0.014598459802462166, max_bin=473, max_depth=21,\n",
       "              min_child_weight=68, min_split_gain=0.3274224980803449,\n",
       "              n_estimators=1324, n_jobs=-1, num_leaves=78, random_state=42,\n",
       "              subsample=0.5703989972315233, verbose=0)"
      ]
     },
     "execution_count": 58,
     "metadata": {},
     "output_type": "execute_result"
    }
   ],
   "source": [
    "# hist =  HistGradientBoostingRegressor(random_state=seed)\n",
    "hist = lgbm.LGBMRegressor(**lgbm_params, random_state=seed, n_jobs=-1, verbose=0, cat_features=cat_cols)\n",
    "hist.fit(X, y)"
   ]
  },
  {
   "cell_type": "code",
   "execution_count": 59,
   "id": "b418dca3",
   "metadata": {
    "execution": {
     "iopub.execute_input": "2025-07-23T12:40:47.934238Z",
     "iopub.status.busy": "2025-07-23T12:40:47.933217Z",
     "iopub.status.idle": "2025-07-23T12:40:48.353516Z",
     "shell.execute_reply": "2025-07-23T12:40:48.352333Z"
    },
    "papermill": {
     "duration": 0.441804,
     "end_time": "2025-07-23T12:40:48.356193",
     "exception": false,
     "start_time": "2025-07-23T12:40:47.914389",
     "status": "completed"
    },
    "tags": []
   },
   "outputs": [
    {
     "data": {
      "text/plain": [
       "<Axes: title={'center': 'Feature importance'}, xlabel='Feature importance', ylabel='Features'>"
      ]
     },
     "execution_count": 59,
     "metadata": {},
     "output_type": "execute_result"
    },
    {
     "data": {
      "image/png": "[encoded data removed]",
      "text/plain": [
       "<Figure size 640x480 with 1 Axes>"
      ]
     },
     "metadata": {},
     "output_type": "display_data"
    }
   ],
   "source": [
    "lgbm.plot_importance(hist)"
   ]
  },
  {
   "cell_type": "markdown",
   "id": "2cca9b29",
   "metadata": {
    "papermill": {
     "duration": 0.017514,
     "end_time": "2025-07-23T12:40:48.391819",
     "exception": false,
     "start_time": "2025-07-23T12:40:48.374305",
     "status": "completed"
    },
    "tags": []
   },
   "source": [
    "### Test Preprocessing"
   ]
  },
  {
   "cell_type": "code",
   "execution_count": 60,
   "id": "c245c7d9",
   "metadata": {
    "execution": {
     "iopub.execute_input": "2025-07-23T12:40:48.429866Z",
     "iopub.status.busy": "2025-07-23T12:40:48.429322Z",
     "iopub.status.idle": "2025-07-23T12:40:48.527786Z",
     "shell.execute_reply": "2025-07-23T12:40:48.526702Z"
    },
    "papermill": {
     "duration": 0.120752,
     "end_time": "2025-07-23T12:40:48.530300",
     "exception": false,
     "start_time": "2025-07-23T12:40:48.409548",
     "status": "completed"
    },
    "tags": []
   },
   "outputs": [],
   "source": [
    "test[cat_cols] = test[cat_cols].astype('category')"
   ]
  },
  {
   "cell_type": "code",
   "execution_count": 61,
   "id": "ba8c44d0",
   "metadata": {
    "execution": {
     "iopub.execute_input": "2025-07-23T12:40:48.569616Z",
     "iopub.status.busy": "2025-07-23T12:40:48.569227Z",
     "iopub.status.idle": "2025-07-23T12:40:48.854797Z",
     "shell.execute_reply": "2025-07-23T12:40:48.853437Z"
    },
    "papermill": {
     "duration": 0.308612,
     "end_time": "2025-07-23T12:40:48.857339",
     "exception": false,
     "start_time": "2025-07-23T12:40:48.548727",
     "status": "completed"
    },
    "tags": []
   },
   "outputs": [],
   "source": [
    "test[cat_cols] = encoder.transform(test[cat_cols])"
   ]
  },
  {
   "cell_type": "code",
   "execution_count": 62,
   "id": "52af9221",
   "metadata": {
    "execution": {
     "iopub.execute_input": "2025-07-23T12:40:48.894902Z",
     "iopub.status.busy": "2025-07-23T12:40:48.894503Z",
     "iopub.status.idle": "2025-07-23T12:40:48.903722Z",
     "shell.execute_reply": "2025-07-23T12:40:48.902756Z"
    },
    "papermill": {
     "duration": 0.030583,
     "end_time": "2025-07-23T12:40:48.905965",
     "exception": false,
     "start_time": "2025-07-23T12:40:48.875382",
     "status": "completed"
    },
    "tags": []
   },
   "outputs": [],
   "source": [
    "idx = test['id']\n",
    "test.drop(columns='id', inplace=True)"
   ]
  },
  {
   "cell_type": "code",
   "execution_count": 63,
   "id": "9c12bb99",
   "metadata": {
    "execution": {
     "iopub.execute_input": "2025-07-23T12:40:48.945552Z",
     "iopub.status.busy": "2025-07-23T12:40:48.945152Z",
     "iopub.status.idle": "2025-07-23T12:40:48.950092Z",
     "shell.execute_reply": "2025-07-23T12:40:48.949160Z"
    },
    "papermill": {
     "duration": 0.027811,
     "end_time": "2025-07-23T12:40:48.952232",
     "exception": false,
     "start_time": "2025-07-23T12:40:48.924421",
     "status": "completed"
    },
    "tags": []
   },
   "outputs": [],
   "source": [
    "cols = test.columns"
   ]
  },
  {
   "cell_type": "code",
   "execution_count": 64,
   "id": "c882ef5e",
   "metadata": {
    "execution": {
     "iopub.execute_input": "2025-07-23T12:40:48.991048Z",
     "iopub.status.busy": "2025-07-23T12:40:48.990545Z",
     "iopub.status.idle": "2025-07-23T12:40:48.995195Z",
     "shell.execute_reply": "2025-07-23T12:40:48.994195Z"
    },
    "papermill": {
     "duration": 0.027608,
     "end_time": "2025-07-23T12:40:48.997986",
     "exception": false,
     "start_time": "2025-07-23T12:40:48.970378",
     "status": "completed"
    },
    "tags": []
   },
   "outputs": [],
   "source": [
    "# test = imputer.transform(test)\n",
    "# test = pd.DataFrame(test, columns=cols)"
   ]
  },
  {
   "cell_type": "code",
   "execution_count": 65,
   "id": "ffb29299",
   "metadata": {
    "execution": {
     "iopub.execute_input": "2025-07-23T12:40:49.040054Z",
     "iopub.status.busy": "2025-07-23T12:40:49.039612Z",
     "iopub.status.idle": "2025-07-23T12:40:49.044536Z",
     "shell.execute_reply": "2025-07-23T12:40:49.043312Z"
    },
    "papermill": {
     "duration": 0.026442,
     "end_time": "2025-07-23T12:40:49.046890",
     "exception": false,
     "start_time": "2025-07-23T12:40:49.020448",
     "status": "completed"
    },
    "tags": []
   },
   "outputs": [],
   "source": [
    "# test"
   ]
  },
  {
   "cell_type": "code",
   "execution_count": 66,
   "id": "d4c2e050",
   "metadata": {
    "execution": {
     "iopub.execute_input": "2025-07-23T12:40:49.084783Z",
     "iopub.status.busy": "2025-07-23T12:40:49.083869Z",
     "iopub.status.idle": "2025-07-23T12:40:49.088344Z",
     "shell.execute_reply": "2025-07-23T12:40:49.087399Z"
    },
    "papermill": {
     "duration": 0.025215,
     "end_time": "2025-07-23T12:40:49.090216",
     "exception": false,
     "start_time": "2025-07-23T12:40:49.065001",
     "status": "completed"
    },
    "tags": []
   },
   "outputs": [],
   "source": [
    "# test = test.astype(int)"
   ]
  },
  {
   "cell_type": "code",
   "execution_count": 67,
   "id": "6e4ceefb",
   "metadata": {
    "execution": {
     "iopub.execute_input": "2025-07-23T12:40:49.127835Z",
     "iopub.status.busy": "2025-07-23T12:40:49.126922Z",
     "iopub.status.idle": "2025-07-23T12:41:16.393920Z",
     "shell.execute_reply": "2025-07-23T12:41:16.392755Z"
    },
    "papermill": {
     "duration": 27.288331,
     "end_time": "2025-07-23T12:41:16.396313",
     "exception": false,
     "start_time": "2025-07-23T12:40:49.107982",
     "status": "completed"
    },
    "tags": []
   },
   "outputs": [
    {
     "name": "stdout",
     "output_type": "stream",
     "text": [
      "[LightGBM] [Warning] Unknown parameter: cat_features\n",
      "[LightGBM] [Warning] lambda_l2 is set=2.2060422296908514e-06, reg_lambda=0.0 will be ignored. Current value: lambda_l2=2.2060422296908514e-06\n",
      "[LightGBM] [Warning] lambda_l1 is set=6.39421553012287e-05, reg_alpha=0.0 will be ignored. Current value: lambda_l1=6.39421553012287e-05\n"
     ]
    }
   ],
   "source": [
    "preds = hist.predict(test)"
   ]
  },
  {
   "cell_type": "code",
   "execution_count": 68,
   "id": "a28b597d",
   "metadata": {
    "execution": {
     "iopub.execute_input": "2025-07-23T12:41:16.434065Z",
     "iopub.status.busy": "2025-07-23T12:41:16.433620Z",
     "iopub.status.idle": "2025-07-23T12:41:16.439590Z",
     "shell.execute_reply": "2025-07-23T12:41:16.438564Z"
    },
    "papermill": {
     "duration": 0.027532,
     "end_time": "2025-07-23T12:41:16.441845",
     "exception": false,
     "start_time": "2025-07-23T12:41:16.414313",
     "status": "completed"
    },
    "tags": []
   },
   "outputs": [],
   "source": [
    "submission_df = pd.DataFrame({\n",
    "    'id':idx,\n",
    "    'price':preds.flatten()\n",
    "})"
   ]
  },
  {
   "cell_type": "code",
   "execution_count": 69,
   "id": "e6c44f04",
   "metadata": {
    "execution": {
     "iopub.execute_input": "2025-07-23T12:41:16.481505Z",
     "iopub.status.busy": "2025-07-23T12:41:16.480441Z",
     "iopub.status.idle": "2025-07-23T12:41:16.748529Z",
     "shell.execute_reply": "2025-07-23T12:41:16.747512Z"
    },
    "papermill": {
     "duration": 0.290547,
     "end_time": "2025-07-23T12:41:16.750980",
     "exception": false,
     "start_time": "2025-07-23T12:41:16.460433",
     "status": "completed"
    },
    "tags": []
   },
   "outputs": [],
   "source": [
    "submission_df.to_csv('submission_df.csv', index=False)"
   ]
  },
  {
   "cell_type": "code",
   "execution_count": null,
   "id": "79c7246b",
   "metadata": {
    "papermill": {
     "duration": 0.017903,
     "end_time": "2025-07-23T12:41:16.786931",
     "exception": false,
     "start_time": "2025-07-23T12:41:16.769028",
     "status": "completed"
    },
    "tags": []
   },
   "outputs": [],
   "source": []
  }
 ],
 "metadata": {
  "kaggle": {
   "accelerator": "none",
   "dataSources": [
    {
     "databundleVersionId": 9057646,
     "sourceId": 76728,
     "sourceType": "competition"
    }
   ],
   "dockerImageVersionId": 30775,
   "isGpuEnabled": false,
   "isInternetEnabled": true,
   "language": "python",
   "sourceType": "notebook"
  },
  "kernelspec": {
   "display_name": "Python 3",
   "language": "python",
   "name": "python3"
  },
  "language_info": {
   "codemirror_mode": {
    "name": "ipython",
    "version": 3
   },
   "file_extension": ".py",
   "mimetype": "text/x-python",
   "name": "python",
   "nbconvert_exporter": "python",
   "pygments_lexer": "ipython3",
   "version": "3.10.14"
  },
  "papermill": {
   "default_parameters": {},
   "duration": 113.412789,
   "end_time": "2025-07-23T12:41:17.626445",
   "environment_variables": {},
   "exception": null,
   "input_path": "__notebook__.ipynb",
   "output_path": "__notebook__.ipynb",
   "parameters": {},
   "start_time": "2025-07-23T12:39:24.213656",
   "version": "2.6.0"
  }
 },
 "nbformat": 4,
 "nbformat_minor": 5
}
