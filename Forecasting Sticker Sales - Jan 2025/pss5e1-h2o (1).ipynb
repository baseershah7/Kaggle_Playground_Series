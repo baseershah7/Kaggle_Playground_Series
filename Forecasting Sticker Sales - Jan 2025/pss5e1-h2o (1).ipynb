{
 "cells": [
  {
   "cell_type": "code",
   "execution_count": 1,
   "id": "ed253df5",
   "metadata": {
    "_cell_guid": "b1076dfc-b9ad-4769-8c92-a6c4dae69d19",
    "_uuid": "8f2839f25d086af736a60e9eeb907d3b93b6e0e5",
    "execution": {
     "iopub.execute_input": "2025-01-25T20:01:48.114301Z",
     "iopub.status.busy": "2025-01-25T20:01:48.113966Z",
     "iopub.status.idle": "2025-01-25T20:01:49.020343Z",
     "shell.execute_reply": "2025-01-25T20:01:49.019243Z"
    },
    "papermill": {
     "duration": 0.912767,
     "end_time": "2025-01-25T20:01:49.022109",
     "exception": false,
     "start_time": "2025-01-25T20:01:48.109342",
     "status": "completed"
    },
    "tags": []
   },
   "outputs": [
    {
     "name": "stdout",
     "output_type": "stream",
     "text": [
      "/kaggle/input/test-pss5e1/test_pss5e1.csv\n",
      "/kaggle/input/train-pss5e1/train_pss5e1.csv\n"
     ]
    }
   ],
   "source": [
    "# This Python 3 environment comes with many helpful analytics libraries installed\n",
    "# It is defined by the kaggle/python Docker image: https://github.com/kaggle/docker-python\n",
    "# For example, here's several helpful packages to load\n",
    "\n",
    "import numpy as np # linear algebra\n",
    "import pandas as pd # data processing, CSV file I/O (e.g. pd.read_csv)\n",
    "\n",
    "# Input data files are available in the read-only \"../input/\" directory\n",
    "# For example, running this (by clicking run or pressing Shift+Enter) will list all files under the input directory\n",
    "\n",
    "import os\n",
    "for dirname, _, filenames in os.walk('/kaggle/input'):\n",
    "    for filename in filenames:\n",
    "        print(os.path.join(dirname, filename))\n",
    "\n",
    "# You can write up to 20GB to the current directory (/kaggle/working/) that gets preserved as output when you create a version using \"Save & Run All\" \n",
    "# You can also write temporary files to /kaggle/temp/, but they won't be saved outside of the current session"
   ]
  },
  {
   "cell_type": "code",
   "execution_count": 2,
   "id": "b085b1c4",
   "metadata": {
    "execution": {
     "iopub.execute_input": "2025-01-25T20:01:49.028388Z",
     "iopub.status.busy": "2025-01-25T20:01:49.027914Z",
     "iopub.status.idle": "2025-01-25T20:01:52.320651Z",
     "shell.execute_reply": "2025-01-25T20:01:52.319549Z"
    },
    "papermill": {
     "duration": 3.297642,
     "end_time": "2025-01-25T20:01:52.322492",
     "exception": false,
     "start_time": "2025-01-25T20:01:49.024850",
     "status": "completed"
    },
    "tags": []
   },
   "outputs": [],
   "source": [
    "train = pd.read_csv('/kaggle/input/train-pss5e1/train_pss5e1.csv')\n",
    "test = pd.read_csv('/kaggle/input/test-pss5e1/test_pss5e1.csv')\n",
    "\n",
    "train = train.dropna(subset='num_sold')\n",
    "\n",
    "train['time_id'] = train['country'] + '_' + train['product'] + '_' + train['store']\n",
    "test['time_id'] = test['country'] + '_' + test['product'] + '_' + test['store']\n",
    "\n",
    "target = 'num_sold'\n",
    "features = [col for col in train.columns if (col!='num_sold' and col!='date' and col!='id')]\n",
    "cols_to_drop = ['date', 'id']\n",
    "train.drop(columns=cols_to_drop, inplace=True)\n",
    "test.drop(columns=cols_to_drop, inplace=True)"
   ]
  },
  {
   "cell_type": "code",
   "execution_count": 3,
   "id": "c5997ab2",
   "metadata": {
    "execution": {
     "iopub.execute_input": "2025-01-25T20:01:52.328319Z",
     "iopub.status.busy": "2025-01-25T20:01:52.327966Z",
     "iopub.status.idle": "2025-01-25T20:01:54.651421Z",
     "shell.execute_reply": "2025-01-25T20:01:54.650581Z"
    },
    "papermill": {
     "duration": 2.328243,
     "end_time": "2025-01-25T20:01:54.653261",
     "exception": false,
     "start_time": "2025-01-25T20:01:52.325018",
     "status": "completed"
    },
    "tags": []
   },
   "outputs": [],
   "source": [
    "from scipy.stats import boxcox\n",
    "train['num_sold'], lmbda = boxcox(train['num_sold'])"
   ]
  },
  {
   "cell_type": "code",
   "execution_count": 4,
   "id": "08ce24c1",
   "metadata": {
    "execution": {
     "iopub.execute_input": "2025-01-25T20:01:54.660250Z",
     "iopub.status.busy": "2025-01-25T20:01:54.659758Z",
     "iopub.status.idle": "2025-01-26T03:01:14.669847Z",
     "shell.execute_reply": "2025-01-26T03:01:14.668392Z"
    },
    "papermill": {
     "duration": 25160.01655,
     "end_time": "2025-01-26T03:01:14.672180",
     "exception": false,
     "start_time": "2025-01-25T20:01:54.655630",
     "status": "completed"
    },
    "tags": []
   },
   "outputs": [
    {
     "name": "stdout",
     "output_type": "stream",
     "text": [
      "Checking whether there is an H2O instance running at http://localhost:54321..... not found.\n",
      "Attempting to start a local H2O server...\n",
      "  Java Version: openjdk version \"11.0.25\" 2024-10-15; OpenJDK Runtime Environment (build 11.0.25+9-post-Ubuntu-1ubuntu122.04); OpenJDK 64-Bit Server VM (build 11.0.25+9-post-Ubuntu-1ubuntu122.04, mixed mode, sharing)\n",
      "  Starting server from /usr/local/lib/python3.10/dist-packages/h2o/backend/bin/h2o.jar\n",
      "  Ice root: /tmp/tmpb6cvo9_q\n",
      "  JVM stdout: /tmp/tmpb6cvo9_q/h2o_unknownUser_started_from_python.out\n",
      "  JVM stderr: /tmp/tmpb6cvo9_q/h2o_unknownUser_started_from_python.err\n",
      "  Server is running at http://127.0.0.1:54321\n",
      "Connecting to H2O server at http://127.0.0.1:54321 ... successful.\n"
     ]
    },
    {
     "data": {
      "text/html": [
       "\n",
       "<style>\n",
       "\n",
       "#h2o-table-1.h2o-container {\n",
       "  overflow-x: auto;\n",
       "}\n",
       "#h2o-table-1 .h2o-table {\n",
       "  /* width: 100%; */\n",
       "  margin-top: 1em;\n",
       "  margin-bottom: 1em;\n",
       "}\n",
       "#h2o-table-1 .h2o-table caption {\n",
       "  white-space: nowrap;\n",
       "  caption-side: top;\n",
       "  text-align: left;\n",
       "  /* margin-left: 1em; */\n",
       "  margin: 0;\n",
       "  font-size: larger;\n",
       "}\n",
       "#h2o-table-1 .h2o-table thead {\n",
       "  white-space: nowrap; \n",
       "  position: sticky;\n",
       "  top: 0;\n",
       "  box-shadow: 0 -1px inset;\n",
       "}\n",
       "#h2o-table-1 .h2o-table tbody {\n",
       "  overflow: auto;\n",
       "}\n",
       "#h2o-table-1 .h2o-table th,\n",
       "#h2o-table-1 .h2o-table td {\n",
       "  text-align: right;\n",
       "  /* border: 1px solid; */\n",
       "}\n",
       "#h2o-table-1 .h2o-table tr:nth-child(even) {\n",
       "  /* background: #F5F5F5 */\n",
       "}\n",
       "\n",
       "</style>      \n",
       "<div id=\"h2o-table-1\" class=\"h2o-container\">\n",
       "  <table class=\"h2o-table\">\n",
       "    <caption></caption>\n",
       "    <thead></thead>\n",
       "    <tbody><tr><td>H2O_cluster_uptime:</td>\n",
       "<td>03 secs</td></tr>\n",
       "<tr><td>H2O_cluster_timezone:</td>\n",
       "<td>Etc/UTC</td></tr>\n",
       "<tr><td>H2O_data_parsing_timezone:</td>\n",
       "<td>UTC</td></tr>\n",
       "<tr><td>H2O_cluster_version:</td>\n",
       "<td>3.46.0.6</td></tr>\n",
       "<tr><td>H2O_cluster_version_age:</td>\n",
       "<td>2 months and 23 days</td></tr>\n",
       "<tr><td>H2O_cluster_name:</td>\n",
       "<td>H2O_from_python_unknownUser_06ijwo</td></tr>\n",
       "<tr><td>H2O_cluster_total_nodes:</td>\n",
       "<td>1</td></tr>\n",
       "<tr><td>H2O_cluster_free_memory:</td>\n",
       "<td>7.500 Gb</td></tr>\n",
       "<tr><td>H2O_cluster_total_cores:</td>\n",
       "<td>4</td></tr>\n",
       "<tr><td>H2O_cluster_allowed_cores:</td>\n",
       "<td>4</td></tr>\n",
       "<tr><td>H2O_cluster_status:</td>\n",
       "<td>locked, healthy</td></tr>\n",
       "<tr><td>H2O_connection_url:</td>\n",
       "<td>http://127.0.0.1:54321</td></tr>\n",
       "<tr><td>H2O_connection_proxy:</td>\n",
       "<td>{\"http\": null, \"https\": null, \"colab_language_server\": \"/usr/colab/bin/language_service\"}</td></tr>\n",
       "<tr><td>H2O_internal_security:</td>\n",
       "<td>False</td></tr>\n",
       "<tr><td>Python_version:</td>\n",
       "<td>3.10.12 final</td></tr></tbody>\n",
       "  </table>\n",
       "</div>\n"
      ],
      "text/plain": [
       "--------------------------  -----------------------------------------------------------------------------------------\n",
       "H2O_cluster_uptime:         03 secs\n",
       "H2O_cluster_timezone:       Etc/UTC\n",
       "H2O_data_parsing_timezone:  UTC\n",
       "H2O_cluster_version:        3.46.0.6\n",
       "H2O_cluster_version_age:    2 months and 23 days\n",
       "H2O_cluster_name:           H2O_from_python_unknownUser_06ijwo\n",
       "H2O_cluster_total_nodes:    1\n",
       "H2O_cluster_free_memory:    7.500 Gb\n",
       "H2O_cluster_total_cores:    4\n",
       "H2O_cluster_allowed_cores:  4\n",
       "H2O_cluster_status:         locked, healthy\n",
       "H2O_connection_url:         http://127.0.0.1:54321\n",
       "H2O_connection_proxy:       {\"http\": null, \"https\": null, \"colab_language_server\": \"/usr/colab/bin/language_service\"}\n",
       "H2O_internal_security:      False\n",
       "Python_version:             3.10.12 final\n",
       "--------------------------  -----------------------------------------------------------------------------------------"
      ]
     },
     "metadata": {},
     "output_type": "display_data"
    },
    {
     "name": "stdout",
     "output_type": "stream",
     "text": [
      "Parse progress: |████████████████████████████████████████████████████████████████| (done) 100%\n",
      "AutoML progress: |███████████████████████████████████████████████████████████████| (done) 100%\n",
      "model_id                                                     rmse       mse       mae      rmsle    mean_residual_deviance\n",
      "StackedEnsemble_AllModels_1_AutoML_1_20250125_200219     0.568375  0.32305   0.416888  0.0219791                  0.32305\n",
      "StackedEnsemble_BestOfFamily_1_AutoML_1_20250125_200219  0.578761  0.334964  0.424546  0.0224811                  0.334964\n",
      "XGBoost_grid_1_AutoML_1_20250125_200219_model_6          0.585237  0.342502  0.432063  0.0232928                  0.342502\n",
      "XGBoost_grid_1_AutoML_1_20250125_200219_model_14         0.587085  0.344669  0.431867  0.0229747                  0.344669\n",
      "XGBoost_grid_1_AutoML_1_20250125_200219_model_5          0.591857  0.350295  0.434496  0.0230983                  0.350295\n",
      "XGBoost_grid_1_AutoML_1_20250125_200219_model_13         0.591902  0.350348  0.436773  0.0238818                  0.350348\n",
      "GBM_4_AutoML_1_20250125_200219                           0.594285  0.353175  0.434117  0.0228568                  0.353175\n",
      "XGBoost_3_AutoML_1_20250125_200219                       0.596298  0.355571  0.440483  0.0245828                  0.355571\n",
      "XGBoost_grid_1_AutoML_1_20250125_200219_model_11         0.596743  0.356103  0.436895  0.0230754                  0.356103\n",
      "GBM_1_AutoML_1_20250125_200219                           0.596859  0.35624   0.435321  0.0229577                  0.35624\n",
      "[52 rows x 6 columns]\n",
      "\n"
     ]
    }
   ],
   "source": [
    "import h2o\n",
    "from h2o.automl import H2OAutoML\n",
    "\n",
    "h2o.init()\n",
    "h2o_df = h2o.H2OFrame(train)\n",
    "\n",
    "y = 'num_sold'\n",
    "X = [col for col in features if col != 'num_sold']\n",
    "\n",
    "aml = H2OAutoML(\n",
    "    max_models=50,                  # Maximum number of models to train\n",
    "    max_runtime_secs=39600,          # Max runtime in seconds\n",
    "    seed=42,                        # Seed for reproducibility\n",
    "    sort_metric='RMSE',             # Evaluation metric\n",
    "    nfolds=5,                       # Number of folds for cross-validation\n",
    "    include_algos=[\"XGBoost\", \"DeepLearning\", \"StackedEnsemble\", \"GBM\", \"DRF\"],  # Models to include   # Exclude CPU-heavy algorithms\n",
    ")\n",
    "\n",
    "aml.train(x=X, y=y, training_frame=h2o_df)\n",
    "lb = aml.leaderboard\n",
    "print(lb)"
   ]
  },
  {
   "cell_type": "code",
   "execution_count": 5,
   "id": "b9281b20",
   "metadata": {
    "execution": {
     "iopub.execute_input": "2025-01-26T03:01:14.709449Z",
     "iopub.status.busy": "2025-01-26T03:01:14.708900Z",
     "iopub.status.idle": "2025-01-26T03:01:18.203497Z",
     "shell.execute_reply": "2025-01-26T03:01:18.202532Z"
    },
    "papermill": {
     "duration": 3.518423,
     "end_time": "2025-01-26T03:01:18.208445",
     "exception": false,
     "start_time": "2025-01-26T03:01:14.690022",
     "status": "completed"
    },
    "tags": []
   },
   "outputs": [
    {
     "name": "stderr",
     "output_type": "stream",
     "text": [
      "/usr/local/lib/python3.10/dist-packages/h2o/frame.py:1983: H2ODependencyWarning: Converting H2O frame to pandas dataframe using single-thread.  For faster conversion using multi-thread, install polars and pyarrow and use it as pandas_df = h2o_df.as_data_frame(use_multi_thread=True)\n",
      "\n",
      "  warnings.warn(\"Converting H2O frame to pandas dataframe using single-thread.  For faster conversion using\"\n"
     ]
    },
    {
     "name": "stdout",
     "output_type": "stream",
     "text": [
      "Model StackedEnsemble_AllModels_1_AutoML_1_20250125_200219 saved to /kaggle/working/raw_data_models_final/StackedEnsemble_AllModels_1_AutoML_1_20250125_200219\n",
      "Model StackedEnsemble_BestOfFamily_1_AutoML_1_20250125_200219 saved to /kaggle/working/raw_data_models_final/StackedEnsemble_BestOfFamily_1_AutoML_1_20250125_200219\n",
      "Model XGBoost_grid_1_AutoML_1_20250125_200219_model_6 saved to /kaggle/working/raw_data_models_final/XGBoost_grid_1_AutoML_1_20250125_200219_model_6\n",
      "Model XGBoost_grid_1_AutoML_1_20250125_200219_model_14 saved to /kaggle/working/raw_data_models_final/XGBoost_grid_1_AutoML_1_20250125_200219_model_14\n",
      "Model XGBoost_grid_1_AutoML_1_20250125_200219_model_5 saved to /kaggle/working/raw_data_models_final/XGBoost_grid_1_AutoML_1_20250125_200219_model_5\n",
      "Model XGBoost_grid_1_AutoML_1_20250125_200219_model_13 saved to /kaggle/working/raw_data_models_final/XGBoost_grid_1_AutoML_1_20250125_200219_model_13\n",
      "Model GBM_4_AutoML_1_20250125_200219 saved to /kaggle/working/raw_data_models_final/GBM_4_AutoML_1_20250125_200219\n",
      "Model XGBoost_3_AutoML_1_20250125_200219 saved to /kaggle/working/raw_data_models_final/XGBoost_3_AutoML_1_20250125_200219\n",
      "Model XGBoost_grid_1_AutoML_1_20250125_200219_model_11 saved to /kaggle/working/raw_data_models_final/XGBoost_grid_1_AutoML_1_20250125_200219_model_11\n",
      "Model GBM_1_AutoML_1_20250125_200219 saved to /kaggle/working/raw_data_models_final/GBM_1_AutoML_1_20250125_200219\n",
      "Model XGBoost_grid_1_AutoML_1_20250125_200219_model_15 saved to /kaggle/working/raw_data_models_final/XGBoost_grid_1_AutoML_1_20250125_200219_model_15\n",
      "Model XGBoost_grid_1_AutoML_1_20250125_200219_model_12 saved to /kaggle/working/raw_data_models_final/XGBoost_grid_1_AutoML_1_20250125_200219_model_12\n",
      "Model GBM_grid_1_AutoML_1_20250125_200219_model_5 saved to /kaggle/working/raw_data_models_final/GBM_grid_1_AutoML_1_20250125_200219_model_5\n",
      "Model XGBoost_grid_1_AutoML_1_20250125_200219_model_2 saved to /kaggle/working/raw_data_models_final/XGBoost_grid_1_AutoML_1_20250125_200219_model_2\n",
      "Model XGBoost_grid_1_AutoML_1_20250125_200219_model_9 saved to /kaggle/working/raw_data_models_final/XGBoost_grid_1_AutoML_1_20250125_200219_model_9\n",
      "Model XGBoost_grid_1_AutoML_1_20250125_200219_model_8 saved to /kaggle/working/raw_data_models_final/XGBoost_grid_1_AutoML_1_20250125_200219_model_8\n",
      "Model GBM_3_AutoML_1_20250125_200219 saved to /kaggle/working/raw_data_models_final/GBM_3_AutoML_1_20250125_200219\n",
      "Model XGBoost_2_AutoML_1_20250125_200219 saved to /kaggle/working/raw_data_models_final/XGBoost_2_AutoML_1_20250125_200219\n",
      "Model XGBoost_grid_1_AutoML_1_20250125_200219_model_7 saved to /kaggle/working/raw_data_models_final/XGBoost_grid_1_AutoML_1_20250125_200219_model_7\n",
      "Model XGBoost_grid_1_AutoML_1_20250125_200219_model_3 saved to /kaggle/working/raw_data_models_final/XGBoost_grid_1_AutoML_1_20250125_200219_model_3\n",
      "Model XGBoost_grid_1_AutoML_1_20250125_200219_model_10 saved to /kaggle/working/raw_data_models_final/XGBoost_grid_1_AutoML_1_20250125_200219_model_10\n",
      "Model GBM_grid_1_AutoML_1_20250125_200219_model_10 saved to /kaggle/working/raw_data_models_final/GBM_grid_1_AutoML_1_20250125_200219_model_10\n",
      "Model GBM_2_AutoML_1_20250125_200219 saved to /kaggle/working/raw_data_models_final/GBM_2_AutoML_1_20250125_200219\n",
      "Model XGBoost_grid_1_AutoML_1_20250125_200219_model_1 saved to /kaggle/working/raw_data_models_final/XGBoost_grid_1_AutoML_1_20250125_200219_model_1\n",
      "Model GBM_grid_1_AutoML_1_20250125_200219_model_2 saved to /kaggle/working/raw_data_models_final/GBM_grid_1_AutoML_1_20250125_200219_model_2\n",
      "Model GBM_5_AutoML_1_20250125_200219 saved to /kaggle/working/raw_data_models_final/GBM_5_AutoML_1_20250125_200219\n",
      "Model XGBoost_1_AutoML_1_20250125_200219 saved to /kaggle/working/raw_data_models_final/XGBoost_1_AutoML_1_20250125_200219\n",
      "Model GBM_grid_1_AutoML_1_20250125_200219_model_8 saved to /kaggle/working/raw_data_models_final/GBM_grid_1_AutoML_1_20250125_200219_model_8\n",
      "Model GBM_grid_1_AutoML_1_20250125_200219_model_9 saved to /kaggle/working/raw_data_models_final/GBM_grid_1_AutoML_1_20250125_200219_model_9\n",
      "Model GBM_grid_1_AutoML_1_20250125_200219_model_4 saved to /kaggle/working/raw_data_models_final/GBM_grid_1_AutoML_1_20250125_200219_model_4\n",
      "Model GBM_grid_1_AutoML_1_20250125_200219_model_7 saved to /kaggle/working/raw_data_models_final/GBM_grid_1_AutoML_1_20250125_200219_model_7\n",
      "Model GBM_grid_1_AutoML_1_20250125_200219_model_6 saved to /kaggle/working/raw_data_models_final/GBM_grid_1_AutoML_1_20250125_200219_model_6\n",
      "Model XGBoost_grid_1_AutoML_1_20250125_200219_model_4 saved to /kaggle/working/raw_data_models_final/XGBoost_grid_1_AutoML_1_20250125_200219_model_4\n",
      "Model GBM_grid_1_AutoML_1_20250125_200219_model_1 saved to /kaggle/working/raw_data_models_final/GBM_grid_1_AutoML_1_20250125_200219_model_1\n",
      "Model DRF_1_AutoML_1_20250125_200219 saved to /kaggle/working/raw_data_models_final/DRF_1_AutoML_1_20250125_200219\n",
      "Model GBM_grid_1_AutoML_1_20250125_200219_model_3 saved to /kaggle/working/raw_data_models_final/GBM_grid_1_AutoML_1_20250125_200219_model_3\n",
      "Model DeepLearning_grid_2_AutoML_1_20250125_200219_model_4 saved to /kaggle/working/raw_data_models_final/DeepLearning_grid_2_AutoML_1_20250125_200219_model_4\n",
      "Model DeepLearning_grid_3_AutoML_1_20250125_200219_model_4 saved to /kaggle/working/raw_data_models_final/DeepLearning_grid_3_AutoML_1_20250125_200219_model_4\n",
      "Model DeepLearning_grid_1_AutoML_1_20250125_200219_model_2 saved to /kaggle/working/raw_data_models_final/DeepLearning_grid_1_AutoML_1_20250125_200219_model_2\n",
      "Model XRT_1_AutoML_1_20250125_200219 saved to /kaggle/working/raw_data_models_final/XRT_1_AutoML_1_20250125_200219\n",
      "Model DeepLearning_grid_1_AutoML_1_20250125_200219_model_4 saved to /kaggle/working/raw_data_models_final/DeepLearning_grid_1_AutoML_1_20250125_200219_model_4\n",
      "Model DeepLearning_1_AutoML_1_20250125_200219 saved to /kaggle/working/raw_data_models_final/DeepLearning_1_AutoML_1_20250125_200219\n",
      "Model DeepLearning_grid_2_AutoML_1_20250125_200219_model_1 saved to /kaggle/working/raw_data_models_final/DeepLearning_grid_2_AutoML_1_20250125_200219_model_1\n",
      "Model DeepLearning_grid_3_AutoML_1_20250125_200219_model_1 saved to /kaggle/working/raw_data_models_final/DeepLearning_grid_3_AutoML_1_20250125_200219_model_1\n",
      "Model DeepLearning_grid_1_AutoML_1_20250125_200219_model_1 saved to /kaggle/working/raw_data_models_final/DeepLearning_grid_1_AutoML_1_20250125_200219_model_1\n",
      "Model DeepLearning_grid_2_AutoML_1_20250125_200219_model_2 saved to /kaggle/working/raw_data_models_final/DeepLearning_grid_2_AutoML_1_20250125_200219_model_2\n",
      "Model DeepLearning_grid_3_AutoML_1_20250125_200219_model_3 saved to /kaggle/working/raw_data_models_final/DeepLearning_grid_3_AutoML_1_20250125_200219_model_3\n",
      "Model DeepLearning_grid_1_AutoML_1_20250125_200219_model_3 saved to /kaggle/working/raw_data_models_final/DeepLearning_grid_1_AutoML_1_20250125_200219_model_3\n",
      "Model DeepLearning_grid_1_AutoML_1_20250125_200219_model_5 saved to /kaggle/working/raw_data_models_final/DeepLearning_grid_1_AutoML_1_20250125_200219_model_5\n",
      "Model DeepLearning_grid_2_AutoML_1_20250125_200219_model_5 saved to /kaggle/working/raw_data_models_final/DeepLearning_grid_2_AutoML_1_20250125_200219_model_5\n",
      "Model DeepLearning_grid_2_AutoML_1_20250125_200219_model_3 saved to /kaggle/working/raw_data_models_final/DeepLearning_grid_2_AutoML_1_20250125_200219_model_3\n",
      "Model DeepLearning_grid_3_AutoML_1_20250125_200219_model_2 saved to /kaggle/working/raw_data_models_final/DeepLearning_grid_3_AutoML_1_20250125_200219_model_2\n",
      "Leaderboard saved to /kaggle/working/raw_data_models_final/leaderboard.csv\n",
      "H2O session _sid_ae3c closed.\n"
     ]
    },
    {
     "name": "stderr",
     "output_type": "stream",
     "text": [
      "/usr/local/lib/python3.10/dist-packages/h2o/frame.py:1983: H2ODependencyWarning: Converting H2O frame to pandas dataframe using single-thread.  For faster conversion using multi-thread, install polars and pyarrow and use it as pandas_df = h2o_df.as_data_frame(use_multi_thread=True)\n",
      "\n",
      "  warnings.warn(\"Converting H2O frame to pandas dataframe using single-thread.  For faster conversion using\"\n",
      "<ipython-input-5-84012a467d30>:13: H2ODeprecationWarning: Deprecated, use ``h2o.cluster().shutdown()``.\n",
      "  h2o.shutdown()\n"
     ]
    }
   ],
   "source": [
    "leaderboard = aml.leaderboard\n",
    "model_save_dir = '/kaggle/working/raw_data_models_final/'  \n",
    "\n",
    "for model_id in leaderboard['model_id'].as_data_frame()['model_id']:\n",
    "    model = h2o.get_model(model_id)\n",
    "    model_path = h2o.save_model(model=model, path=model_save_dir, force=True)\n",
    "    print(f\"Model {model_id} saved to {model_path}\")\n",
    "\n",
    "leaderboard_df = leaderboard.as_data_frame()\n",
    "leaderboard_csv_path = os.path.join(model_save_dir, 'leaderboard.csv')\n",
    "leaderboard_df.to_csv(leaderboard_csv_path, index=False)\n",
    "print(f\"Leaderboard saved to {leaderboard_csv_path}\")\n",
    "h2o.shutdown()"
   ]
  },
  {
   "cell_type": "code",
   "execution_count": null,
   "id": "2801030f",
   "metadata": {
    "papermill": {
     "duration": 0.016378,
     "end_time": "2025-01-26T03:01:18.242282",
     "exception": false,
     "start_time": "2025-01-26T03:01:18.225904",
     "status": "completed"
    },
    "tags": []
   },
   "outputs": [],
   "source": []
  }
 ],
 "metadata": {
  "kaggle": {
   "accelerator": "none",
   "dataSources": [
    {
     "datasetId": 6534356,
     "sourceId": 10561254,
     "sourceType": "datasetVersion"
    },
    {
     "datasetId": 6534615,
     "sourceId": 10561580,
     "sourceType": "datasetVersion"
    }
   ],
   "dockerImageVersionId": 30840,
   "isGpuEnabled": false,
   "isInternetEnabled": true,
   "language": "python",
   "sourceType": "notebook"
  },
  "kernelspec": {
   "display_name": "Python 3",
   "language": "python",
   "name": "python3"
  },
  "language_info": {
   "codemirror_mode": {
    "name": "ipython",
    "version": 3
   },
   "file_extension": ".py",
   "mimetype": "text/x-python",
   "name": "python",
   "nbconvert_exporter": "python",
   "pygments_lexer": "ipython3",
   "version": "3.10.12"
  },
  "papermill": {
   "default_parameters": {},
   "duration": 25175.479673,
   "end_time": "2025-01-26T03:01:20.913532",
   "environment_variables": {},
   "exception": null,
   "input_path": "__notebook__.ipynb",
   "output_path": "__notebook__.ipynb",
   "parameters": {},
   "start_time": "2025-01-25T20:01:45.433859",
   "version": "2.6.0"
  }
 },
 "nbformat": 4,
 "nbformat_minor": 5
}
