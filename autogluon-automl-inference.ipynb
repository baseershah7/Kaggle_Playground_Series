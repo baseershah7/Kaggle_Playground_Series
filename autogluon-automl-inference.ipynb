{
 "cells": [
  {
   "cell_type": "code",
   "execution_count": 1,
   "id": "9b363792",
   "metadata": {
    "_cell_guid": "b1076dfc-b9ad-4769-8c92-a6c4dae69d19",
    "_uuid": "8f2839f25d086af736a60e9eeb907d3b93b6e0e5",
    "execution": {
     "iopub.execute_input": "2024-10-14T18:43:47.984032Z",
     "iopub.status.busy": "2024-10-14T18:43:47.983648Z",
     "iopub.status.idle": "2024-10-14T18:43:49.005660Z",
     "shell.execute_reply": "2024-10-14T18:43:49.004588Z"
    },
    "papermill": {
     "duration": 1.030376,
     "end_time": "2024-10-14T18:43:49.008608",
     "exception": false,
     "start_time": "2024-10-14T18:43:47.978232",
     "status": "completed"
    },
    "tags": []
   },
   "outputs": [
    {
     "name": "stdout",
     "output_type": "stream",
     "text": [
      "/kaggle/input/playground-series-s4e10/sample_submission.csv\n",
      "/kaggle/input/playground-series-s4e10/train.csv\n",
      "/kaggle/input/playground-series-s4e10/test.csv\n",
      "/kaggle/input/autogluon-baseline/leaderboard.csv\n",
      "/kaggle/input/autogluon-baseline/AutogluonModels/ag-20241014_173131/version.txt\n",
      "/kaggle/input/autogluon-baseline/AutogluonModels/ag-20241014_173131/metadata.json\n",
      "/kaggle/input/autogluon-baseline/AutogluonModels/ag-20241014_173131/learner.pkl\n",
      "/kaggle/input/autogluon-baseline/AutogluonModels/ag-20241014_173131/predictor.pkl\n",
      "/kaggle/input/autogluon-baseline/AutogluonModels/ag-20241014_173131/utils/data/X.pkl\n",
      "/kaggle/input/autogluon-baseline/AutogluonModels/ag-20241014_173131/utils/data/y.pkl\n",
      "/kaggle/input/autogluon-baseline/AutogluonModels/ag-20241014_173131/models/trainer.pkl\n",
      "/kaggle/input/autogluon-baseline/AutogluonModels/ag-20241014_173131/models/LightGBM_BAG_L1/model.pkl\n",
      "/kaggle/input/autogluon-baseline/AutogluonModels/ag-20241014_173131/models/LightGBM_BAG_L1/S1F8/model.pkl\n",
      "/kaggle/input/autogluon-baseline/AutogluonModels/ag-20241014_173131/models/LightGBM_BAG_L1/S1F2/model.pkl\n",
      "/kaggle/input/autogluon-baseline/AutogluonModels/ag-20241014_173131/models/LightGBM_BAG_L1/utils/model_template.pkl\n",
      "/kaggle/input/autogluon-baseline/AutogluonModels/ag-20241014_173131/models/LightGBM_BAG_L1/utils/oof.pkl\n",
      "/kaggle/input/autogluon-baseline/AutogluonModels/ag-20241014_173131/models/LightGBM_BAG_L1/S1F3/model.pkl\n",
      "/kaggle/input/autogluon-baseline/AutogluonModels/ag-20241014_173131/models/LightGBM_BAG_L1/S1F6/model.pkl\n",
      "/kaggle/input/autogluon-baseline/AutogluonModels/ag-20241014_173131/models/LightGBM_BAG_L1/S1F4/model.pkl\n",
      "/kaggle/input/autogluon-baseline/AutogluonModels/ag-20241014_173131/models/LightGBM_BAG_L1/S1F7/model.pkl\n",
      "/kaggle/input/autogluon-baseline/AutogluonModels/ag-20241014_173131/models/LightGBM_BAG_L1/S1F1/model.pkl\n",
      "/kaggle/input/autogluon-baseline/AutogluonModels/ag-20241014_173131/models/LightGBM_BAG_L1/S1F5/model.pkl\n",
      "/kaggle/input/autogluon-baseline/AutogluonModels/ag-20241014_173131/models/CatBoost_BAG_L1/model.pkl\n",
      "/kaggle/input/autogluon-baseline/AutogluonModels/ag-20241014_173131/models/CatBoost_BAG_L1/S1F8/model.pkl\n",
      "/kaggle/input/autogluon-baseline/AutogluonModels/ag-20241014_173131/models/CatBoost_BAG_L1/S1F2/model.pkl\n",
      "/kaggle/input/autogluon-baseline/AutogluonModels/ag-20241014_173131/models/CatBoost_BAG_L1/utils/model_template.pkl\n",
      "/kaggle/input/autogluon-baseline/AutogluonModels/ag-20241014_173131/models/CatBoost_BAG_L1/utils/oof.pkl\n",
      "/kaggle/input/autogluon-baseline/AutogluonModels/ag-20241014_173131/models/CatBoost_BAG_L1/S1F3/model.pkl\n",
      "/kaggle/input/autogluon-baseline/AutogluonModels/ag-20241014_173131/models/CatBoost_BAG_L1/S1F6/model.pkl\n",
      "/kaggle/input/autogluon-baseline/AutogluonModels/ag-20241014_173131/models/CatBoost_BAG_L1/S1F4/model.pkl\n",
      "/kaggle/input/autogluon-baseline/AutogluonModels/ag-20241014_173131/models/CatBoost_BAG_L1/S1F7/model.pkl\n",
      "/kaggle/input/autogluon-baseline/AutogluonModels/ag-20241014_173131/models/CatBoost_BAG_L1/S1F1/model.pkl\n",
      "/kaggle/input/autogluon-baseline/AutogluonModels/ag-20241014_173131/models/CatBoost_BAG_L1/S1F5/model.pkl\n",
      "/kaggle/input/autogluon-baseline/AutogluonModels/ag-20241014_173131/models/XGBoost_BAG_L1/model.pkl\n",
      "/kaggle/input/autogluon-baseline/AutogluonModels/ag-20241014_173131/models/XGBoost_BAG_L1/S1F8/model.pkl\n",
      "/kaggle/input/autogluon-baseline/AutogluonModels/ag-20241014_173131/models/XGBoost_BAG_L1/S1F8/xgb.ubj\n",
      "/kaggle/input/autogluon-baseline/AutogluonModels/ag-20241014_173131/models/XGBoost_BAG_L1/S1F2/model.pkl\n",
      "/kaggle/input/autogluon-baseline/AutogluonModels/ag-20241014_173131/models/XGBoost_BAG_L1/S1F2/xgb.ubj\n",
      "/kaggle/input/autogluon-baseline/AutogluonModels/ag-20241014_173131/models/XGBoost_BAG_L1/utils/model_template.pkl\n",
      "/kaggle/input/autogluon-baseline/AutogluonModels/ag-20241014_173131/models/XGBoost_BAG_L1/utils/oof.pkl\n",
      "/kaggle/input/autogluon-baseline/AutogluonModels/ag-20241014_173131/models/XGBoost_BAG_L1/S1F3/model.pkl\n",
      "/kaggle/input/autogluon-baseline/AutogluonModels/ag-20241014_173131/models/XGBoost_BAG_L1/S1F3/xgb.ubj\n",
      "/kaggle/input/autogluon-baseline/AutogluonModels/ag-20241014_173131/models/XGBoost_BAG_L1/S1F6/model.pkl\n",
      "/kaggle/input/autogluon-baseline/AutogluonModels/ag-20241014_173131/models/XGBoost_BAG_L1/S1F6/xgb.ubj\n",
      "/kaggle/input/autogluon-baseline/AutogluonModels/ag-20241014_173131/models/XGBoost_BAG_L1/S1F4/model.pkl\n",
      "/kaggle/input/autogluon-baseline/AutogluonModels/ag-20241014_173131/models/XGBoost_BAG_L1/S1F4/xgb.ubj\n",
      "/kaggle/input/autogluon-baseline/AutogluonModels/ag-20241014_173131/models/XGBoost_BAG_L1/S1F7/model.pkl\n",
      "/kaggle/input/autogluon-baseline/AutogluonModels/ag-20241014_173131/models/XGBoost_BAG_L1/S1F7/xgb.ubj\n",
      "/kaggle/input/autogluon-baseline/AutogluonModels/ag-20241014_173131/models/XGBoost_BAG_L1/S1F1/model.pkl\n",
      "/kaggle/input/autogluon-baseline/AutogluonModels/ag-20241014_173131/models/XGBoost_BAG_L1/S1F1/xgb.ubj\n",
      "/kaggle/input/autogluon-baseline/AutogluonModels/ag-20241014_173131/models/XGBoost_BAG_L1/S1F5/model.pkl\n",
      "/kaggle/input/autogluon-baseline/AutogluonModels/ag-20241014_173131/models/XGBoost_BAG_L1/S1F5/xgb.ubj\n",
      "/kaggle/input/autogluon-baseline/AutogluonModels/ag-20241014_173131/models/WeightedEnsemble_L2/model.pkl\n",
      "/kaggle/input/autogluon-baseline/AutogluonModels/ag-20241014_173131/models/WeightedEnsemble_L2/utils/model_template.pkl\n",
      "/kaggle/input/autogluon-baseline/AutogluonModels/ag-20241014_173131/models/WeightedEnsemble_L2/utils/oof.pkl\n"
     ]
    }
   ],
   "source": [
    "# This Python 3 environment comes with many helpful analytics libraries installed\n",
    "# It is defined by the kaggle/python Docker image: https://github.com/kaggle/docker-python\n",
    "# For example, here's several helpful packages to load\n",
    "\n",
    "import numpy as np # linear algebra\n",
    "import pandas as pd # data processing, CSV file I/O (e.g. pd.read_csv)\n",
    "\n",
    "# Input data files are available in the read-only \"../input/\" directory\n",
    "# For example, running this (by clicking run or pressing Shift+Enter) will list all files under the input directory\n",
    "\n",
    "import os\n",
    "for dirname, _, filenames in os.walk('/kaggle/input'):\n",
    "    for filename in filenames:\n",
    "        print(os.path.join(dirname, filename))\n",
    "\n",
    "# You can write up to 20GB to the current directory (/kaggle/working/) that gets preserved as output when you create a version using \"Save & Run All\" \n",
    "# You can also write temporary files to /kaggle/temp/, but they won't be saved outside of the current session"
   ]
  },
  {
   "cell_type": "code",
   "execution_count": 2,
   "id": "3dfa630b",
   "metadata": {
    "execution": {
     "iopub.execute_input": "2024-10-14T18:43:49.017898Z",
     "iopub.status.busy": "2024-10-14T18:43:49.016916Z",
     "iopub.status.idle": "2024-10-14T18:44:24.704866Z",
     "shell.execute_reply": "2024-10-14T18:44:24.703640Z"
    },
    "papermill": {
     "duration": 35.695525,
     "end_time": "2024-10-14T18:44:24.707841",
     "exception": false,
     "start_time": "2024-10-14T18:43:49.012316",
     "status": "completed"
    },
    "tags": []
   },
   "outputs": [
    {
     "name": "stdout",
     "output_type": "stream",
     "text": [
      "Collecting autogluon.tabular[0]\r\n",
      "  Downloading autogluon.tabular-1.1.1-py3-none-any.whl.metadata (13 kB)\r\n",
      "\u001b[33mWARNING: autogluon-tabular 1.1.1 does not provide the extra '0'\u001b[0m\u001b[33m\r\n",
      "\u001b[0mRequirement already satisfied: numpy<1.29,>=1.21 in /opt/conda/lib/python3.10/site-packages (from autogluon.tabular[0]) (1.26.4)\r\n",
      "Collecting scipy<1.13,>=1.5.4 (from autogluon.tabular[0])\r\n",
      "  Downloading scipy-1.12.0-cp310-cp310-manylinux_2_17_x86_64.manylinux2014_x86_64.whl.metadata (60 kB)\r\n",
      "\u001b[2K     \u001b[90m━━━━━━━━━━━━━━━━━━━━━━━━━━━━━━━━━━━━━━━━\u001b[0m \u001b[32m60.4/60.4 kB\u001b[0m \u001b[31m1.2 MB/s\u001b[0m eta \u001b[36m0:00:00\u001b[0m\r\n",
      "\u001b[?25hRequirement already satisfied: pandas<2.3.0,>=2.0.0 in /opt/conda/lib/python3.10/site-packages (from autogluon.tabular[0]) (2.2.3)\r\n",
      "Collecting scikit-learn<1.4.1,>=1.3.0 (from autogluon.tabular[0])\r\n",
      "  Downloading scikit_learn-1.4.0-1-cp310-cp310-manylinux_2_17_x86_64.manylinux2014_x86_64.whl.metadata (11 kB)\r\n",
      "Requirement already satisfied: networkx<4,>=3.0 in /opt/conda/lib/python3.10/site-packages (from autogluon.tabular[0]) (3.3)\r\n",
      "Collecting autogluon.core==1.1.1 (from autogluon.tabular[0])\r\n",
      "  Downloading autogluon.core-1.1.1-py3-none-any.whl.metadata (11 kB)\r\n",
      "Collecting autogluon.features==1.1.1 (from autogluon.tabular[0])\r\n",
      "  Downloading autogluon.features-1.1.1-py3-none-any.whl.metadata (11 kB)\r\n",
      "Requirement already satisfied: tqdm<5,>=4.38 in /opt/conda/lib/python3.10/site-packages (from autogluon.core==1.1.1->autogluon.tabular[0]) (4.66.4)\r\n",
      "Requirement already satisfied: requests in /opt/conda/lib/python3.10/site-packages (from autogluon.core==1.1.1->autogluon.tabular[0]) (2.32.3)\r\n",
      "Requirement already satisfied: matplotlib in /opt/conda/lib/python3.10/site-packages (from autogluon.core==1.1.1->autogluon.tabular[0]) (3.7.5)\r\n",
      "Requirement already satisfied: boto3<2,>=1.10 in /opt/conda/lib/python3.10/site-packages (from autogluon.core==1.1.1->autogluon.tabular[0]) (1.26.100)\r\n",
      "Collecting autogluon.common==1.1.1 (from autogluon.core==1.1.1->autogluon.tabular[0])\r\n",
      "  Downloading autogluon.common-1.1.1-py3-none-any.whl.metadata (11 kB)\r\n",
      "Requirement already satisfied: psutil<6,>=5.7.3 in /opt/conda/lib/python3.10/site-packages (from autogluon.common==1.1.1->autogluon.core==1.1.1->autogluon.tabular[0]) (5.9.3)\r\n",
      "Requirement already satisfied: setuptools in /opt/conda/lib/python3.10/site-packages (from autogluon.common==1.1.1->autogluon.core==1.1.1->autogluon.tabular[0]) (70.0.0)\r\n",
      "Requirement already satisfied: python-dateutil>=2.8.2 in /opt/conda/lib/python3.10/site-packages (from pandas<2.3.0,>=2.0.0->autogluon.tabular[0]) (2.9.0.post0)\r\n",
      "Requirement already satisfied: pytz>=2020.1 in /opt/conda/lib/python3.10/site-packages (from pandas<2.3.0,>=2.0.0->autogluon.tabular[0]) (2024.1)\r\n",
      "Requirement already satisfied: tzdata>=2022.7 in /opt/conda/lib/python3.10/site-packages (from pandas<2.3.0,>=2.0.0->autogluon.tabular[0]) (2024.1)\r\n",
      "Requirement already satisfied: joblib>=1.2.0 in /opt/conda/lib/python3.10/site-packages (from scikit-learn<1.4.1,>=1.3.0->autogluon.tabular[0]) (1.4.2)\r\n",
      "Requirement already satisfied: threadpoolctl>=2.0.0 in /opt/conda/lib/python3.10/site-packages (from scikit-learn<1.4.1,>=1.3.0->autogluon.tabular[0]) (3.5.0)\r\n",
      "Collecting botocore<1.30.0,>=1.29.100 (from boto3<2,>=1.10->autogluon.core==1.1.1->autogluon.tabular[0])\r\n",
      "  Downloading botocore-1.29.165-py3-none-any.whl.metadata (5.9 kB)\r\n",
      "Requirement already satisfied: jmespath<2.0.0,>=0.7.1 in /opt/conda/lib/python3.10/site-packages (from boto3<2,>=1.10->autogluon.core==1.1.1->autogluon.tabular[0]) (1.0.1)\r\n",
      "Requirement already satisfied: s3transfer<0.7.0,>=0.6.0 in /opt/conda/lib/python3.10/site-packages (from boto3<2,>=1.10->autogluon.core==1.1.1->autogluon.tabular[0]) (0.6.2)\r\n",
      "Requirement already satisfied: six>=1.5 in /opt/conda/lib/python3.10/site-packages (from python-dateutil>=2.8.2->pandas<2.3.0,>=2.0.0->autogluon.tabular[0]) (1.16.0)\r\n",
      "Requirement already satisfied: contourpy>=1.0.1 in /opt/conda/lib/python3.10/site-packages (from matplotlib->autogluon.core==1.1.1->autogluon.tabular[0]) (1.2.1)\r\n",
      "Requirement already satisfied: cycler>=0.10 in /opt/conda/lib/python3.10/site-packages (from matplotlib->autogluon.core==1.1.1->autogluon.tabular[0]) (0.12.1)\r\n",
      "Requirement already satisfied: fonttools>=4.22.0 in /opt/conda/lib/python3.10/site-packages (from matplotlib->autogluon.core==1.1.1->autogluon.tabular[0]) (4.53.0)\r\n",
      "Requirement already satisfied: kiwisolver>=1.0.1 in /opt/conda/lib/python3.10/site-packages (from matplotlib->autogluon.core==1.1.1->autogluon.tabular[0]) (1.4.5)\r\n",
      "Requirement already satisfied: packaging>=20.0 in /opt/conda/lib/python3.10/site-packages (from matplotlib->autogluon.core==1.1.1->autogluon.tabular[0]) (21.3)\r\n",
      "Requirement already satisfied: pillow>=6.2.0 in /opt/conda/lib/python3.10/site-packages (from matplotlib->autogluon.core==1.1.1->autogluon.tabular[0]) (10.3.0)\r\n",
      "Requirement already satisfied: pyparsing>=2.3.1 in /opt/conda/lib/python3.10/site-packages (from matplotlib->autogluon.core==1.1.1->autogluon.tabular[0]) (3.1.2)\r\n",
      "Requirement already satisfied: charset-normalizer<4,>=2 in /opt/conda/lib/python3.10/site-packages (from requests->autogluon.core==1.1.1->autogluon.tabular[0]) (3.3.2)\r\n",
      "Requirement already satisfied: idna<4,>=2.5 in /opt/conda/lib/python3.10/site-packages (from requests->autogluon.core==1.1.1->autogluon.tabular[0]) (3.7)\r\n",
      "Requirement already satisfied: urllib3<3,>=1.21.1 in /opt/conda/lib/python3.10/site-packages (from requests->autogluon.core==1.1.1->autogluon.tabular[0]) (1.26.18)\r\n",
      "Requirement already satisfied: certifi>=2017.4.17 in /opt/conda/lib/python3.10/site-packages (from requests->autogluon.core==1.1.1->autogluon.tabular[0]) (2024.8.30)\r\n",
      "Downloading autogluon.core-1.1.1-py3-none-any.whl (234 kB)\r\n",
      "\u001b[2K   \u001b[90m━━━━━━━━━━━━━━━━━━━━━━━━━━━━━━━━━━━━━━━━\u001b[0m \u001b[32m234.8/234.8 kB\u001b[0m \u001b[31m3.6 MB/s\u001b[0m eta \u001b[36m0:00:00\u001b[0m\r\n",
      "\u001b[?25hDownloading autogluon.features-1.1.1-py3-none-any.whl (63 kB)\r\n",
      "\u001b[2K   \u001b[90m━━━━━━━━━━━━━━━━━━━━━━━━━━━━━━━━━━━━━━━━\u001b[0m \u001b[32m63.4/63.4 kB\u001b[0m \u001b[31m3.8 MB/s\u001b[0m eta \u001b[36m0:00:00\u001b[0m\r\n",
      "\u001b[?25hDownloading autogluon.common-1.1.1-py3-none-any.whl (64 kB)\r\n",
      "\u001b[2K   \u001b[90m━━━━━━━━━━━━━━━━━━━━━━━━━━━━━━━━━━━━━━━━\u001b[0m \u001b[32m64.6/64.6 kB\u001b[0m \u001b[31m2.9 MB/s\u001b[0m eta \u001b[36m0:00:00\u001b[0m\r\n",
      "\u001b[?25hDownloading scikit_learn-1.4.0-1-cp310-cp310-manylinux_2_17_x86_64.manylinux2014_x86_64.whl (12.1 MB)\r\n",
      "\u001b[2K   \u001b[90m━━━━━━━━━━━━━━━━━━━━━━━━━━━━━━━━━━━━━━━━\u001b[0m \u001b[32m12.1/12.1 MB\u001b[0m \u001b[31m71.2 MB/s\u001b[0m eta \u001b[36m0:00:00\u001b[0m\r\n",
      "\u001b[?25hDownloading scipy-1.12.0-cp310-cp310-manylinux_2_17_x86_64.manylinux2014_x86_64.whl (38.4 MB)\r\n",
      "\u001b[2K   \u001b[90m━━━━━━━━━━━━━━━━━━━━━━━━━━━━━━━━━━━━━━━━\u001b[0m \u001b[32m38.4/38.4 MB\u001b[0m \u001b[31m42.5 MB/s\u001b[0m eta \u001b[36m0:00:00\u001b[0m\r\n",
      "\u001b[?25hDownloading autogluon.tabular-1.1.1-py3-none-any.whl (312 kB)\r\n",
      "\u001b[2K   \u001b[90m━━━━━━━━━━━━━━━━━━━━━━━━━━━━━━━━━━━━━━━━\u001b[0m \u001b[32m312.1/312.1 kB\u001b[0m \u001b[31m15.8 MB/s\u001b[0m eta \u001b[36m0:00:00\u001b[0m\r\n",
      "\u001b[?25hDownloading botocore-1.29.165-py3-none-any.whl (11.0 MB)\r\n",
      "\u001b[2K   \u001b[90m━━━━━━━━━━━━━━━━━━━━━━━━━━━━━━━━━━━━━━━━\u001b[0m \u001b[32m11.0/11.0 MB\u001b[0m \u001b[31m82.0 MB/s\u001b[0m eta \u001b[36m0:00:00\u001b[0m\r\n",
      "\u001b[?25hInstalling collected packages: scipy, scikit-learn, botocore, autogluon.common, autogluon.features, autogluon.core, autogluon.tabular\r\n",
      "  Attempting uninstall: scipy\r\n",
      "    Found existing installation: scipy 1.14.1\r\n",
      "    Uninstalling scipy-1.14.1:\r\n",
      "      Successfully uninstalled scipy-1.14.1\r\n",
      "  Attempting uninstall: scikit-learn\r\n",
      "    Found existing installation: scikit-learn 1.2.2\r\n",
      "    Uninstalling scikit-learn-1.2.2:\r\n",
      "      Successfully uninstalled scikit-learn-1.2.2\r\n",
      "  Attempting uninstall: botocore\r\n",
      "    Found existing installation: botocore 1.35.23\r\n",
      "    Uninstalling botocore-1.35.23:\r\n",
      "      Successfully uninstalled botocore-1.35.23\r\n",
      "\u001b[31mERROR: pip's dependency resolver does not currently take into account all the packages that are installed. This behaviour is the source of the following dependency conflicts.\r\n",
      "aiobotocore 2.15.1 requires botocore<1.35.24,>=1.35.16, but you have botocore 1.29.165 which is incompatible.\r\n",
      "bigframes 0.22.0 requires google-cloud-bigquery[bqstorage,pandas]>=3.10.0, but you have google-cloud-bigquery 2.34.4 which is incompatible.\r\n",
      "bigframes 0.22.0 requires google-cloud-storage>=2.0.0, but you have google-cloud-storage 1.44.0 which is incompatible.\r\n",
      "bigframes 0.22.0 requires pandas<2.1.4,>=1.5.0, but you have pandas 2.2.3 which is incompatible.\r\n",
      "cesium 0.12.3 requires numpy<3.0,>=2.0, but you have numpy 1.26.4 which is incompatible.\r\n",
      "dataproc-jupyter-plugin 0.1.79 requires pydantic~=1.10.0, but you have pydantic 2.9.2 which is incompatible.\r\n",
      "libpysal 4.9.2 requires packaging>=22, but you have packaging 21.3 which is incompatible.\r\n",
      "libpysal 4.9.2 requires shapely>=2.0.1, but you have shapely 1.8.5.post1 which is incompatible.\r\n",
      "tsfresh 0.20.3 requires scipy>=1.14.0; python_version >= \"3.10\", but you have scipy 1.12.0 which is incompatible.\u001b[0m\u001b[31m\r\n",
      "\u001b[0mSuccessfully installed autogluon.common-1.1.1 autogluon.core-1.1.1 autogluon.features-1.1.1 autogluon.tabular-1.1.1 botocore-1.29.165 scikit-learn-1.4.0 scipy-1.12.0\r\n"
     ]
    }
   ],
   "source": [
    "!pip install autogluon.tabular[0]"
   ]
  },
  {
   "cell_type": "code",
   "execution_count": 3,
   "id": "b24425e9",
   "metadata": {
    "execution": {
     "iopub.execute_input": "2024-10-14T18:44:24.724720Z",
     "iopub.status.busy": "2024-10-14T18:44:24.724246Z",
     "iopub.status.idle": "2024-10-14T18:44:27.212727Z",
     "shell.execute_reply": "2024-10-14T18:44:27.211584Z"
    },
    "papermill": {
     "duration": 2.501046,
     "end_time": "2024-10-14T18:44:27.215999",
     "exception": false,
     "start_time": "2024-10-14T18:44:24.714953",
     "status": "completed"
    },
    "tags": []
   },
   "outputs": [
    {
     "name": "stderr",
     "output_type": "stream",
     "text": [
      "Loaded data from: /kaggle/input/playground-series-s4e10/test.csv | Columns = 12 / 12 | Rows = 39098 -> 39098\n"
     ]
    }
   ],
   "source": [
    "from autogluon.tabular import TabularDataset, TabularPredictor\n",
    "\n",
    "tabular_df = TabularDataset('/kaggle/input/playground-series-s4e10/test.csv')\n",
    "model = TabularPredictor.load('/kaggle/input/autogluon-baseline/AutogluonModels/ag-20241014_173131/')"
   ]
  },
  {
   "cell_type": "code",
   "execution_count": 4,
   "id": "540dec1d",
   "metadata": {
    "execution": {
     "iopub.execute_input": "2024-10-14T18:44:27.236127Z",
     "iopub.status.busy": "2024-10-14T18:44:27.235592Z",
     "iopub.status.idle": "2024-10-14T18:44:54.411283Z",
     "shell.execute_reply": "2024-10-14T18:44:54.410167Z"
    },
    "papermill": {
     "duration": 27.187013,
     "end_time": "2024-10-14T18:44:54.413925",
     "exception": false,
     "start_time": "2024-10-14T18:44:27.226912",
     "status": "completed"
    },
    "tags": []
   },
   "outputs": [],
   "source": [
    "preds = model.predict_proba(tabular_df)"
   ]
  },
  {
   "cell_type": "code",
   "execution_count": 5,
   "id": "5748bb3e",
   "metadata": {
    "execution": {
     "iopub.execute_input": "2024-10-14T18:44:54.430947Z",
     "iopub.status.busy": "2024-10-14T18:44:54.429687Z",
     "iopub.status.idle": "2024-10-14T18:44:54.453612Z",
     "shell.execute_reply": "2024-10-14T18:44:54.452528Z"
    },
    "papermill": {
     "duration": 0.035346,
     "end_time": "2024-10-14T18:44:54.456548",
     "exception": false,
     "start_time": "2024-10-14T18:44:54.421202",
     "status": "completed"
    },
    "tags": []
   },
   "outputs": [
    {
     "data": {
      "text/html": [
       "<div>\n",
       "<style scoped>\n",
       "    .dataframe tbody tr th:only-of-type {\n",
       "        vertical-align: middle;\n",
       "    }\n",
       "\n",
       "    .dataframe tbody tr th {\n",
       "        vertical-align: top;\n",
       "    }\n",
       "\n",
       "    .dataframe thead th {\n",
       "        text-align: right;\n",
       "    }\n",
       "</style>\n",
       "<table border=\"1\" class=\"dataframe\">\n",
       "  <thead>\n",
       "    <tr style=\"text-align: right;\">\n",
       "      <th></th>\n",
       "      <th>0</th>\n",
       "      <th>1</th>\n",
       "    </tr>\n",
       "  </thead>\n",
       "  <tbody>\n",
       "    <tr>\n",
       "      <th>0</th>\n",
       "      <td>0.002443</td>\n",
       "      <td>0.997557</td>\n",
       "    </tr>\n",
       "    <tr>\n",
       "      <th>1</th>\n",
       "      <td>0.973234</td>\n",
       "      <td>0.026766</td>\n",
       "    </tr>\n",
       "    <tr>\n",
       "      <th>2</th>\n",
       "      <td>0.379413</td>\n",
       "      <td>0.620587</td>\n",
       "    </tr>\n",
       "    <tr>\n",
       "      <th>3</th>\n",
       "      <td>0.984807</td>\n",
       "      <td>0.015193</td>\n",
       "    </tr>\n",
       "    <tr>\n",
       "      <th>4</th>\n",
       "      <td>0.922288</td>\n",
       "      <td>0.077712</td>\n",
       "    </tr>\n",
       "    <tr>\n",
       "      <th>...</th>\n",
       "      <td>...</td>\n",
       "      <td>...</td>\n",
       "    </tr>\n",
       "    <tr>\n",
       "      <th>39093</th>\n",
       "      <td>0.929427</td>\n",
       "      <td>0.070573</td>\n",
       "    </tr>\n",
       "    <tr>\n",
       "      <th>39094</th>\n",
       "      <td>0.996012</td>\n",
       "      <td>0.003988</td>\n",
       "    </tr>\n",
       "    <tr>\n",
       "      <th>39095</th>\n",
       "      <td>0.989448</td>\n",
       "      <td>0.010552</td>\n",
       "    </tr>\n",
       "    <tr>\n",
       "      <th>39096</th>\n",
       "      <td>0.675586</td>\n",
       "      <td>0.324414</td>\n",
       "    </tr>\n",
       "    <tr>\n",
       "      <th>39097</th>\n",
       "      <td>0.028147</td>\n",
       "      <td>0.971853</td>\n",
       "    </tr>\n",
       "  </tbody>\n",
       "</table>\n",
       "<p>39098 rows × 2 columns</p>\n",
       "</div>"
      ],
      "text/plain": [
       "              0         1\n",
       "0      0.002443  0.997557\n",
       "1      0.973234  0.026766\n",
       "2      0.379413  0.620587\n",
       "3      0.984807  0.015193\n",
       "4      0.922288  0.077712\n",
       "...         ...       ...\n",
       "39093  0.929427  0.070573\n",
       "39094  0.996012  0.003988\n",
       "39095  0.989448  0.010552\n",
       "39096  0.675586  0.324414\n",
       "39097  0.028147  0.971853\n",
       "\n",
       "[39098 rows x 2 columns]"
      ]
     },
     "execution_count": 5,
     "metadata": {},
     "output_type": "execute_result"
    }
   ],
   "source": [
    "preds"
   ]
  },
  {
   "cell_type": "code",
   "execution_count": 6,
   "id": "da1b37be",
   "metadata": {
    "execution": {
     "iopub.execute_input": "2024-10-14T18:44:54.472970Z",
     "iopub.status.busy": "2024-10-14T18:44:54.472582Z",
     "iopub.status.idle": "2024-10-14T18:44:54.534949Z",
     "shell.execute_reply": "2024-10-14T18:44:54.533890Z"
    },
    "papermill": {
     "duration": 0.073691,
     "end_time": "2024-10-14T18:44:54.537702",
     "exception": false,
     "start_time": "2024-10-14T18:44:54.464011",
     "status": "completed"
    },
    "tags": []
   },
   "outputs": [],
   "source": [
    "test = pd.read_csv('/kaggle/input/playground-series-s4e10/test.csv')"
   ]
  },
  {
   "cell_type": "code",
   "execution_count": 7,
   "id": "8c6ecb6a",
   "metadata": {
    "execution": {
     "iopub.execute_input": "2024-10-14T18:44:54.554984Z",
     "iopub.status.busy": "2024-10-14T18:44:54.554584Z",
     "iopub.status.idle": "2024-10-14T18:44:54.560906Z",
     "shell.execute_reply": "2024-10-14T18:44:54.559921Z"
    },
    "papermill": {
     "duration": 0.018615,
     "end_time": "2024-10-14T18:44:54.563589",
     "exception": false,
     "start_time": "2024-10-14T18:44:54.544974",
     "status": "completed"
    },
    "tags": []
   },
   "outputs": [],
   "source": [
    "submission_df = pd.DataFrame({\n",
    "    'id':test['id'],\n",
    "    'loan_status':preds[1].values.flatten()\n",
    "})"
   ]
  },
  {
   "cell_type": "code",
   "execution_count": 8,
   "id": "d5eb419c",
   "metadata": {
    "execution": {
     "iopub.execute_input": "2024-10-14T18:44:54.580256Z",
     "iopub.status.busy": "2024-10-14T18:44:54.579819Z",
     "iopub.status.idle": "2024-10-14T18:44:54.675754Z",
     "shell.execute_reply": "2024-10-14T18:44:54.674688Z"
    },
    "papermill": {
     "duration": 0.107109,
     "end_time": "2024-10-14T18:44:54.678434",
     "exception": false,
     "start_time": "2024-10-14T18:44:54.571325",
     "status": "completed"
    },
    "tags": []
   },
   "outputs": [],
   "source": [
    "submission_df.to_csv('submission.csv', index=False)"
   ]
  },
  {
   "cell_type": "code",
   "execution_count": null,
   "id": "d4446631",
   "metadata": {
    "papermill": {
     "duration": 0.007705,
     "end_time": "2024-10-14T18:44:54.693553",
     "exception": false,
     "start_time": "2024-10-14T18:44:54.685848",
     "status": "completed"
    },
    "tags": []
   },
   "outputs": [],
   "source": []
  }
 ],
 "metadata": {
  "kaggle": {
   "accelerator": "none",
   "dataSources": [
    {
     "databundleVersionId": 9709193,
     "sourceId": 84894,
     "sourceType": "competition"
    },
    {
     "datasetId": 5875486,
     "sourceId": 9625436,
     "sourceType": "datasetVersion"
    }
   ],
   "dockerImageVersionId": 30786,
   "isGpuEnabled": false,
   "isInternetEnabled": true,
   "language": "python",
   "sourceType": "notebook"
  },
  "kernelspec": {
   "display_name": "Python 3",
   "language": "python",
   "name": "python3"
  },
  "language_info": {
   "codemirror_mode": {
    "name": "ipython",
    "version": 3
   },
   "file_extension": ".py",
   "mimetype": "text/x-python",
   "name": "python",
   "nbconvert_exporter": "python",
   "pygments_lexer": "ipython3",
   "version": "3.10.14"
  },
  "papermill": {
   "default_parameters": {},
   "duration": 70.369918,
   "end_time": "2024-10-14T18:44:55.624041",
   "environment_variables": {},
   "exception": null,
   "input_path": "__notebook__.ipynb",
   "output_path": "__notebook__.ipynb",
   "parameters": {},
   "start_time": "2024-10-14T18:43:45.254123",
   "version": "2.6.0"
  }
 },
 "nbformat": 4,
 "nbformat_minor": 5
}
