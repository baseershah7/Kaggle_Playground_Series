{
 "cells": [
  {
   "cell_type": "code",
   "execution_count": 1,
   "id": "65952e48",
   "metadata": {
    "_cell_guid": "b1076dfc-b9ad-4769-8c92-a6c4dae69d19",
    "_uuid": "8f2839f25d086af736a60e9eeb907d3b93b6e0e5",
    "execution": {
     "iopub.execute_input": "2024-10-14T09:06:01.964688Z",
     "iopub.status.busy": "2024-10-14T09:06:01.964246Z",
     "iopub.status.idle": "2024-10-14T09:06:02.833658Z",
     "shell.execute_reply": "2024-10-14T09:06:02.832535Z"
    },
    "papermill": {
     "duration": 0.877558,
     "end_time": "2024-10-14T09:06:02.836246",
     "exception": false,
     "start_time": "2024-10-14T09:06:01.958688",
     "status": "completed"
    },
    "tags": []
   },
   "outputs": [
    {
     "name": "stdout",
     "output_type": "stream",
     "text": [
      "/kaggle/input/2nd-leader-model-from-automl/StackedEnsemble_BestOfFamily_1_AutoML_1_20241013_192134\n",
      "/kaggle/input/stacked-ensemble-leader-model-from-h2o-automl/StackedEnsemble_AllModels_1_AutoML_1_20241013_192134\n",
      "/kaggle/input/playground-series-s4e10/sample_submission.csv\n",
      "/kaggle/input/playground-series-s4e10/train.csv\n",
      "/kaggle/input/playground-series-s4e10/test.csv\n"
     ]
    }
   ],
   "source": [
    "# This Python 3 environment comes with many helpful analytics libraries installed\n",
    "# It is defined by the kaggle/python Docker image: https://github.com/kaggle/docker-python\n",
    "# For example, here's several helpful packages to load\n",
    "\n",
    "import numpy as np # linear algebra\n",
    "import pandas as pd # data processing, CSV file I/O (e.g. pd.read_csv)\n",
    "\n",
    "# Input data files are available in the read-only \"../input/\" directory\n",
    "# For example, running this (by clicking run or pressing Shift+Enter) will list all files under the input directory\n",
    "\n",
    "import os\n",
    "for dirname, _, filenames in os.walk('/kaggle/input'):\n",
    "    for filename in filenames:\n",
    "        print(os.path.join(dirname, filename))\n",
    "\n",
    "# You can write up to 20GB to the current directory (/kaggle/working/) that gets preserved as output when you create a version using \"Save & Run All\" \n",
    "# You can also write temporary files to /kaggle/temp/, but they won't be saved outside of the current session"
   ]
  },
  {
   "cell_type": "code",
   "execution_count": 2,
   "id": "3226fde8",
   "metadata": {
    "execution": {
     "iopub.execute_input": "2024-10-14T09:06:02.845544Z",
     "iopub.status.busy": "2024-10-14T09:06:02.844741Z",
     "iopub.status.idle": "2024-10-14T09:06:02.966554Z",
     "shell.execute_reply": "2024-10-14T09:06:02.965498Z"
    },
    "papermill": {
     "duration": 0.129267,
     "end_time": "2024-10-14T09:06:02.969270",
     "exception": false,
     "start_time": "2024-10-14T09:06:02.840003",
     "status": "completed"
    },
    "tags": []
   },
   "outputs": [],
   "source": [
    "test = pd.read_csv('/kaggle/input/playground-series-s4e10/test.csv')\n",
    "idx = test['id']\n",
    "test.drop(columns='id', inplace=True)"
   ]
  },
  {
   "cell_type": "code",
   "execution_count": 3,
   "id": "e5323e21",
   "metadata": {
    "execution": {
     "iopub.execute_input": "2024-10-14T09:06:02.978323Z",
     "iopub.status.busy": "2024-10-14T09:06:02.977881Z",
     "iopub.status.idle": "2024-10-14T09:06:15.541921Z",
     "shell.execute_reply": "2024-10-14T09:06:15.539063Z"
    },
    "papermill": {
     "duration": 12.572256,
     "end_time": "2024-10-14T09:06:15.545133",
     "exception": false,
     "start_time": "2024-10-14T09:06:02.972877",
     "status": "completed"
    },
    "tags": []
   },
   "outputs": [
    {
     "name": "stdout",
     "output_type": "stream",
     "text": [
      "Checking whether there is an H2O instance running at http://localhost:54321..... not found.\n",
      "Attempting to start a local H2O server...\n",
      "  Java Version: openjdk version \"11.0.24\" 2024-07-16; OpenJDK Runtime Environment (build 11.0.24+8-post-Ubuntu-1ubuntu320.04); OpenJDK 64-Bit Server VM (build 11.0.24+8-post-Ubuntu-1ubuntu320.04, mixed mode, sharing)\n",
      "  Starting server from /opt/conda/lib/python3.10/site-packages/h2o/backend/bin/h2o.jar\n",
      "  Ice root: /tmp/tmpj5wj4e02\n",
      "  JVM stdout: /tmp/tmpj5wj4e02/h2o_unknownUser_started_from_python.out\n",
      "  JVM stderr: /tmp/tmpj5wj4e02/h2o_unknownUser_started_from_python.err\n",
      "  Server is running at http://127.0.0.1:54321\n",
      "Connecting to H2O server at http://127.0.0.1:54321 ... successful.\n"
     ]
    },
    {
     "data": {
      "text/html": [
       "\n",
       "<style>\n",
       "\n",
       "#h2o-table-1.h2o-container {\n",
       "  overflow-x: auto;\n",
       "}\n",
       "#h2o-table-1 .h2o-table {\n",
       "  /* width: 100%; */\n",
       "  margin-top: 1em;\n",
       "  margin-bottom: 1em;\n",
       "}\n",
       "#h2o-table-1 .h2o-table caption {\n",
       "  white-space: nowrap;\n",
       "  caption-side: top;\n",
       "  text-align: left;\n",
       "  /* margin-left: 1em; */\n",
       "  margin: 0;\n",
       "  font-size: larger;\n",
       "}\n",
       "#h2o-table-1 .h2o-table thead {\n",
       "  white-space: nowrap; \n",
       "  position: sticky;\n",
       "  top: 0;\n",
       "  box-shadow: 0 -1px inset;\n",
       "}\n",
       "#h2o-table-1 .h2o-table tbody {\n",
       "  overflow: auto;\n",
       "}\n",
       "#h2o-table-1 .h2o-table th,\n",
       "#h2o-table-1 .h2o-table td {\n",
       "  text-align: right;\n",
       "  /* border: 1px solid; */\n",
       "}\n",
       "#h2o-table-1 .h2o-table tr:nth-child(even) {\n",
       "  /* background: #F5F5F5 */\n",
       "}\n",
       "\n",
       "</style>      \n",
       "<div id=\"h2o-table-1\" class=\"h2o-container\">\n",
       "  <table class=\"h2o-table\">\n",
       "    <caption></caption>\n",
       "    <thead></thead>\n",
       "    <tbody><tr><td>H2O_cluster_uptime:</td>\n",
       "<td>03 secs</td></tr>\n",
       "<tr><td>H2O_cluster_timezone:</td>\n",
       "<td>Etc/UTC</td></tr>\n",
       "<tr><td>H2O_data_parsing_timezone:</td>\n",
       "<td>UTC</td></tr>\n",
       "<tr><td>H2O_cluster_version:</td>\n",
       "<td>3.46.0.5</td></tr>\n",
       "<tr><td>H2O_cluster_version_age:</td>\n",
       "<td>1 month and 14 days</td></tr>\n",
       "<tr><td>H2O_cluster_name:</td>\n",
       "<td>H2O_from_python_unknownUser_782mji</td></tr>\n",
       "<tr><td>H2O_cluster_total_nodes:</td>\n",
       "<td>1</td></tr>\n",
       "<tr><td>H2O_cluster_free_memory:</td>\n",
       "<td>7.500 Gb</td></tr>\n",
       "<tr><td>H2O_cluster_total_cores:</td>\n",
       "<td>4</td></tr>\n",
       "<tr><td>H2O_cluster_allowed_cores:</td>\n",
       "<td>4</td></tr>\n",
       "<tr><td>H2O_cluster_status:</td>\n",
       "<td>locked, healthy</td></tr>\n",
       "<tr><td>H2O_connection_url:</td>\n",
       "<td>http://127.0.0.1:54321</td></tr>\n",
       "<tr><td>H2O_connection_proxy:</td>\n",
       "<td>{\"http\": null, \"https\": null}</td></tr>\n",
       "<tr><td>H2O_internal_security:</td>\n",
       "<td>False</td></tr>\n",
       "<tr><td>Python_version:</td>\n",
       "<td>3.10.14 final</td></tr></tbody>\n",
       "  </table>\n",
       "</div>\n"
      ],
      "text/plain": [
       "--------------------------  ----------------------------------\n",
       "H2O_cluster_uptime:         03 secs\n",
       "H2O_cluster_timezone:       Etc/UTC\n",
       "H2O_data_parsing_timezone:  UTC\n",
       "H2O_cluster_version:        3.46.0.5\n",
       "H2O_cluster_version_age:    1 month and 14 days\n",
       "H2O_cluster_name:           H2O_from_python_unknownUser_782mji\n",
       "H2O_cluster_total_nodes:    1\n",
       "H2O_cluster_free_memory:    7.500 Gb\n",
       "H2O_cluster_total_cores:    4\n",
       "H2O_cluster_allowed_cores:  4\n",
       "H2O_cluster_status:         locked, healthy\n",
       "H2O_connection_url:         http://127.0.0.1:54321\n",
       "H2O_connection_proxy:       {\"http\": null, \"https\": null}\n",
       "H2O_internal_security:      False\n",
       "Python_version:             3.10.14 final\n",
       "--------------------------  ----------------------------------"
      ]
     },
     "metadata": {},
     "output_type": "display_data"
    },
    {
     "name": "stdout",
     "output_type": "stream",
     "text": [
      "Parse progress: |████████████████████████████████████████████████████████████████| (done) 100%\n"
     ]
    }
   ],
   "source": [
    "import h2o\n",
    "from h2o.automl import H2OAutoML\n",
    "\n",
    "h2o.init()\n",
    "h2o_df = h2o.H2OFrame(test)"
   ]
  },
  {
   "cell_type": "code",
   "execution_count": 4,
   "id": "9003385e",
   "metadata": {
    "execution": {
     "iopub.execute_input": "2024-10-14T09:06:15.562893Z",
     "iopub.status.busy": "2024-10-14T09:06:15.561268Z",
     "iopub.status.idle": "2024-10-14T09:06:16.649780Z",
     "shell.execute_reply": "2024-10-14T09:06:16.648588Z"
    },
    "papermill": {
     "duration": 1.099896,
     "end_time": "2024-10-14T09:06:16.652396",
     "exception": false,
     "start_time": "2024-10-14T09:06:15.552500",
     "status": "completed"
    },
    "tags": []
   },
   "outputs": [],
   "source": [
    "leader_model = h2o.load_model('/kaggle/input/2nd-leader-model-from-automl/StackedEnsemble_BestOfFamily_1_AutoML_1_20241013_192134')"
   ]
  },
  {
   "cell_type": "code",
   "execution_count": 5,
   "id": "9080691e",
   "metadata": {
    "execution": {
     "iopub.execute_input": "2024-10-14T09:06:16.664355Z",
     "iopub.status.busy": "2024-10-14T09:06:16.663317Z",
     "iopub.status.idle": "2024-10-14T09:06:19.991316Z",
     "shell.execute_reply": "2024-10-14T09:06:19.989929Z"
    },
    "papermill": {
     "duration": 3.337062,
     "end_time": "2024-10-14T09:06:19.994284",
     "exception": false,
     "start_time": "2024-10-14T09:06:16.657222",
     "status": "completed"
    },
    "tags": []
   },
   "outputs": [
    {
     "name": "stdout",
     "output_type": "stream",
     "text": [
      "stackedensemble prediction progress: |███████████████████████████████████████████| (done) 100%\n"
     ]
    }
   ],
   "source": [
    "preds = leader_model.predict(h2o_df)[:,2]"
   ]
  },
  {
   "cell_type": "code",
   "execution_count": 6,
   "id": "1009d554",
   "metadata": {
    "execution": {
     "iopub.execute_input": "2024-10-14T09:06:20.006060Z",
     "iopub.status.busy": "2024-10-14T09:06:20.005636Z",
     "iopub.status.idle": "2024-10-14T09:06:20.179909Z",
     "shell.execute_reply": "2024-10-14T09:06:20.178796Z"
    },
    "papermill": {
     "duration": 0.183163,
     "end_time": "2024-10-14T09:06:20.182536",
     "exception": false,
     "start_time": "2024-10-14T09:06:19.999373",
     "status": "completed"
    },
    "tags": []
   },
   "outputs": [
    {
     "name": "stderr",
     "output_type": "stream",
     "text": [
      "/opt/conda/lib/python3.10/site-packages/h2o/frame.py:1981: H2ODependencyWarning: Converting H2O frame to pandas dataframe using single-thread.  For faster conversion using multi-thread, install polars and pyarrow and use it as pandas_df = h2o_df.as_data_frame(use_multi_thread=True)\n",
      "\n",
      "  warnings.warn(\"Converting H2O frame to pandas dataframe using single-thread.  For faster conversion using\"\n"
     ]
    }
   ],
   "source": [
    "preds = preds.as_data_frame()"
   ]
  },
  {
   "cell_type": "code",
   "execution_count": 7,
   "id": "b5f8fb64",
   "metadata": {
    "execution": {
     "iopub.execute_input": "2024-10-14T09:06:20.194795Z",
     "iopub.status.busy": "2024-10-14T09:06:20.193647Z",
     "iopub.status.idle": "2024-10-14T09:06:20.211874Z",
     "shell.execute_reply": "2024-10-14T09:06:20.210868Z"
    },
    "papermill": {
     "duration": 0.026867,
     "end_time": "2024-10-14T09:06:20.214330",
     "exception": false,
     "start_time": "2024-10-14T09:06:20.187463",
     "status": "completed"
    },
    "tags": []
   },
   "outputs": [
    {
     "data": {
      "text/html": [
       "<div>\n",
       "<style scoped>\n",
       "    .dataframe tbody tr th:only-of-type {\n",
       "        vertical-align: middle;\n",
       "    }\n",
       "\n",
       "    .dataframe tbody tr th {\n",
       "        vertical-align: top;\n",
       "    }\n",
       "\n",
       "    .dataframe thead th {\n",
       "        text-align: right;\n",
       "    }\n",
       "</style>\n",
       "<table border=\"1\" class=\"dataframe\">\n",
       "  <thead>\n",
       "    <tr style=\"text-align: right;\">\n",
       "      <th></th>\n",
       "      <th>p1</th>\n",
       "    </tr>\n",
       "  </thead>\n",
       "  <tbody>\n",
       "    <tr>\n",
       "      <th>0</th>\n",
       "      <td>0.996272</td>\n",
       "    </tr>\n",
       "    <tr>\n",
       "      <th>1</th>\n",
       "      <td>0.015739</td>\n",
       "    </tr>\n",
       "    <tr>\n",
       "      <th>2</th>\n",
       "      <td>0.548539</td>\n",
       "    </tr>\n",
       "    <tr>\n",
       "      <th>3</th>\n",
       "      <td>0.007830</td>\n",
       "    </tr>\n",
       "    <tr>\n",
       "      <th>4</th>\n",
       "      <td>0.073981</td>\n",
       "    </tr>\n",
       "    <tr>\n",
       "      <th>...</th>\n",
       "      <td>...</td>\n",
       "    </tr>\n",
       "    <tr>\n",
       "      <th>39093</th>\n",
       "      <td>0.052943</td>\n",
       "    </tr>\n",
       "    <tr>\n",
       "      <th>39094</th>\n",
       "      <td>0.003409</td>\n",
       "    </tr>\n",
       "    <tr>\n",
       "      <th>39095</th>\n",
       "      <td>0.016417</td>\n",
       "    </tr>\n",
       "    <tr>\n",
       "      <th>39096</th>\n",
       "      <td>0.439397</td>\n",
       "    </tr>\n",
       "    <tr>\n",
       "      <th>39097</th>\n",
       "      <td>0.967081</td>\n",
       "    </tr>\n",
       "  </tbody>\n",
       "</table>\n",
       "<p>39098 rows × 1 columns</p>\n",
       "</div>"
      ],
      "text/plain": [
       "             p1\n",
       "0      0.996272\n",
       "1      0.015739\n",
       "2      0.548539\n",
       "3      0.007830\n",
       "4      0.073981\n",
       "...         ...\n",
       "39093  0.052943\n",
       "39094  0.003409\n",
       "39095  0.016417\n",
       "39096  0.439397\n",
       "39097  0.967081\n",
       "\n",
       "[39098 rows x 1 columns]"
      ]
     },
     "execution_count": 7,
     "metadata": {},
     "output_type": "execute_result"
    }
   ],
   "source": [
    "preds"
   ]
  },
  {
   "cell_type": "code",
   "execution_count": 8,
   "id": "bb04b577",
   "metadata": {
    "execution": {
     "iopub.execute_input": "2024-10-14T09:06:20.226134Z",
     "iopub.status.busy": "2024-10-14T09:06:20.225710Z",
     "iopub.status.idle": "2024-10-14T09:06:20.231791Z",
     "shell.execute_reply": "2024-10-14T09:06:20.230731Z"
    },
    "papermill": {
     "duration": 0.014577,
     "end_time": "2024-10-14T09:06:20.234126",
     "exception": false,
     "start_time": "2024-10-14T09:06:20.219549",
     "status": "completed"
    },
    "tags": []
   },
   "outputs": [],
   "source": [
    "submission_df = pd.DataFrame({\n",
    "    'id':idx,\n",
    "    'loan_status':preds['p1'].values\n",
    "})"
   ]
  },
  {
   "cell_type": "code",
   "execution_count": 9,
   "id": "442db46b",
   "metadata": {
    "execution": {
     "iopub.execute_input": "2024-10-14T09:06:20.246250Z",
     "iopub.status.busy": "2024-10-14T09:06:20.245448Z",
     "iopub.status.idle": "2024-10-14T09:06:20.344025Z",
     "shell.execute_reply": "2024-10-14T09:06:20.342578Z"
    },
    "papermill": {
     "duration": 0.107858,
     "end_time": "2024-10-14T09:06:20.347020",
     "exception": false,
     "start_time": "2024-10-14T09:06:20.239162",
     "status": "completed"
    },
    "tags": []
   },
   "outputs": [],
   "source": [
    "submission_df.to_csv('submission.csv', index=False)"
   ]
  },
  {
   "cell_type": "code",
   "execution_count": 10,
   "id": "98b2ba07",
   "metadata": {
    "execution": {
     "iopub.execute_input": "2024-10-14T09:06:20.360672Z",
     "iopub.status.busy": "2024-10-14T09:06:20.359860Z",
     "iopub.status.idle": "2024-10-14T09:06:20.393787Z",
     "shell.execute_reply": "2024-10-14T09:06:20.392675Z"
    },
    "papermill": {
     "duration": 0.042626,
     "end_time": "2024-10-14T09:06:20.396086",
     "exception": false,
     "start_time": "2024-10-14T09:06:20.353460",
     "status": "completed"
    },
    "tags": []
   },
   "outputs": [
    {
     "name": "stdout",
     "output_type": "stream",
     "text": [
      "H2O session _sid_815d closed.\n"
     ]
    },
    {
     "name": "stderr",
     "output_type": "stream",
     "text": [
      "/tmp/ipykernel_17/2900054706.py:1: H2ODeprecationWarning: Deprecated, use ``h2o.cluster().shutdown()``.\n",
      "  h2o.shutdown()\n"
     ]
    }
   ],
   "source": [
    "h2o.shutdown()"
   ]
  },
  {
   "cell_type": "code",
   "execution_count": null,
   "id": "2f2b181f",
   "metadata": {
    "papermill": {
     "duration": 0.004938,
     "end_time": "2024-10-14T09:06:20.406397",
     "exception": false,
     "start_time": "2024-10-14T09:06:20.401459",
     "status": "completed"
    },
    "tags": []
   },
   "outputs": [],
   "source": []
  }
 ],
 "metadata": {
  "kaggle": {
   "accelerator": "none",
   "dataSources": [
    {
     "databundleVersionId": 9709193,
     "sourceId": 84894,
     "sourceType": "competition"
    },
    {
     "datasetId": 5871903,
     "sourceId": 9620807,
     "sourceType": "datasetVersion"
    },
    {
     "datasetId": 5871991,
     "sourceId": 9620914,
     "sourceType": "datasetVersion"
    }
   ],
   "dockerImageVersionId": 30786,
   "isGpuEnabled": false,
   "isInternetEnabled": true,
   "language": "python",
   "sourceType": "notebook"
  },
  "kernelspec": {
   "display_name": "Python 3",
   "language": "python",
   "name": "python3"
  },
  "language_info": {
   "codemirror_mode": {
    "name": "ipython",
    "version": 3
   },
   "file_extension": ".py",
   "mimetype": "text/x-python",
   "name": "python",
   "nbconvert_exporter": "python",
   "pygments_lexer": "ipython3",
   "version": "3.10.14"
  },
  "papermill": {
   "default_parameters": {},
   "duration": 22.215671,
   "end_time": "2024-10-14T09:06:21.434927",
   "environment_variables": {},
   "exception": null,
   "input_path": "__notebook__.ipynb",
   "output_path": "__notebook__.ipynb",
   "parameters": {},
   "start_time": "2024-10-14T09:05:59.219256",
   "version": "2.6.0"
  }
 },
 "nbformat": 4,
 "nbformat_minor": 5
}
