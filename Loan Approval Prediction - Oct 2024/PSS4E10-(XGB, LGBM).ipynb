{
 "cells": [
  {
   "cell_type": "code",
   "execution_count": 1,
   "id": "9293ab91",
   "metadata": {
    "_cell_guid": "b1076dfc-b9ad-4769-8c92-a6c4dae69d19",
    "_uuid": "8f2839f25d086af736a60e9eeb907d3b93b6e0e5",
    "execution": {
     "iopub.execute_input": "2025-07-24T19:27:40.824145Z",
     "iopub.status.busy": "2025-07-24T19:27:40.823709Z",
     "iopub.status.idle": "2025-07-24T19:27:45.658008Z",
     "shell.execute_reply": "2025-07-24T19:27:45.656680Z"
    },
    "papermill": {
     "duration": 4.850585,
     "end_time": "2025-07-24T19:27:45.661120",
     "exception": false,
     "start_time": "2025-07-24T19:27:40.810535",
     "status": "completed"
    },
    "tags": []
   },
   "outputs": [
    {
     "name": "stdout",
     "output_type": "stream",
     "text": [
      "/kaggle/input/playground-series-s4e10/sample_submission.csv\n",
      "/kaggle/input/playground-series-s4e10/train.csv\n",
      "/kaggle/input/playground-series-s4e10/test.csv\n",
      "/kaggle/input/loan-approval-prediction/credit_risk_dataset.csv\n"
     ]
    }
   ],
   "source": [
    "\n",
    "# This Python 3 environment comes with many helpful analytics libraries installed\n",
    "# It is defined by the kaggle/python Docker image: https://github.com/kaggle/docker-python\n",
    "# For example, here's several helpful packages to load\n",
    "import numpy as np # linear algebra\n",
    "import pandas as pd # data processing, CSV file I/O (e.g. pd.read_csv)\n",
    "import seaborn as sns\n",
    "import matplotlib.pyplot as plt\n",
    "from sklearn.preprocessing import OrdinalEncoder, OneHotEncoder\n",
    "from sklearn.utils.class_weight import compute_class_weight\n",
    "import catboost as cat\n",
    "from catboost import Pool\n",
    "import lightgbm as lgb\n",
    "from lightgbm import plot_tree as lgb_plot_tree\n",
    "import xgboost as xgb\n",
    "from xgboost import plot_tree as xgb_plot_tree\n",
    "from sklearn.model_selection import train_test_split, KFold, StratifiedKFold, cross_val_score\n",
    "from sklearn.metrics import roc_auc_score\n",
    "# Input data files are available in the read-only \"../input/\" directory\n",
    "# For example, running this (by clicking run or pressing Shift+Enter) will list all files under the input directory\n",
    "\n",
    "import os\n",
    "for dirname, _, filenames in os.walk('/kaggle/input'):\n",
    "    for filename in filenames:\n",
    "        print(os.path.join(dirname, filename))\n",
    "\n",
    "# You can write up to 20GB to the current directory (/kaggle/working/) that gets preserved as output when you create a version using \"Save & Run All\" \n",
    "# You can also write temporary files to /kaggle/temp/, but they won't be saved outside of the current session"
   ]
  },
  {
   "cell_type": "code",
   "execution_count": 2,
   "id": "e4a6dd3a",
   "metadata": {
    "execution": {
     "iopub.execute_input": "2025-07-24T19:27:45.693281Z",
     "iopub.status.busy": "2025-07-24T19:27:45.692075Z",
     "iopub.status.idle": "2025-07-24T19:27:45.698030Z",
     "shell.execute_reply": "2025-07-24T19:27:45.696811Z"
    },
    "papermill": {
     "duration": 0.022209,
     "end_time": "2025-07-24T19:27:45.700416",
     "exception": false,
     "start_time": "2025-07-24T19:27:45.678207",
     "status": "completed"
    },
    "tags": []
   },
   "outputs": [],
   "source": [
    "seed = 42"
   ]
  },
  {
   "cell_type": "code",
   "execution_count": 3,
   "id": "f88c9d54",
   "metadata": {
    "execution": {
     "iopub.execute_input": "2025-07-24T19:27:45.723998Z",
     "iopub.status.busy": "2025-07-24T19:27:45.723438Z",
     "iopub.status.idle": "2025-07-24T19:27:45.835594Z",
     "shell.execute_reply": "2025-07-24T19:27:45.834459Z"
    },
    "papermill": {
     "duration": 0.127569,
     "end_time": "2025-07-24T19:27:45.838755",
     "exception": false,
     "start_time": "2025-07-24T19:27:45.711186",
     "status": "completed"
    },
    "tags": []
   },
   "outputs": [],
   "source": [
    "original = pd.read_csv('/kaggle/input/loan-approval-prediction/credit_risk_dataset.csv')\n",
    "original.dropna(subset=['person_emp_length', 'loan_int_rate'], inplace=True)"
   ]
  },
  {
   "cell_type": "code",
   "execution_count": 4,
   "id": "08871b58",
   "metadata": {
    "execution": {
     "iopub.execute_input": "2025-07-24T19:27:45.866907Z",
     "iopub.status.busy": "2025-07-24T19:27:45.866361Z",
     "iopub.status.idle": "2025-07-24T19:27:46.098700Z",
     "shell.execute_reply": "2025-07-24T19:27:46.097490Z"
    },
    "papermill": {
     "duration": 0.247066,
     "end_time": "2025-07-24T19:27:46.101537",
     "exception": false,
     "start_time": "2025-07-24T19:27:45.854471",
     "status": "completed"
    },
    "tags": []
   },
   "outputs": [],
   "source": [
    "train = pd.read_csv('/kaggle/input/playground-series-s4e10/train.csv')\n",
    "test = pd.read_csv('/kaggle/input/playground-series-s4e10/test.csv')\n",
    "\n",
    "train.drop(columns='id', inplace=True)"
   ]
  },
  {
   "cell_type": "code",
   "execution_count": 5,
   "id": "ca769b8e",
   "metadata": {
    "execution": {
     "iopub.execute_input": "2025-07-24T19:27:46.125463Z",
     "iopub.status.busy": "2025-07-24T19:27:46.125091Z",
     "iopub.status.idle": "2025-07-24T19:27:46.130728Z",
     "shell.execute_reply": "2025-07-24T19:27:46.129356Z"
    },
    "papermill": {
     "duration": 0.020353,
     "end_time": "2025-07-24T19:27:46.132874",
     "exception": false,
     "start_time": "2025-07-24T19:27:46.112521",
     "status": "completed"
    },
    "tags": []
   },
   "outputs": [],
   "source": [
    "# train['loan_to_income'] = ((train['loan_amnt'] / train['person_income']) - train['loan_percent_income']).astype('string').astype('category')\n",
    "# train['age_income_interaction'] = (train['person_age'] * train['person_income']).astype('string').astype('category')\n",
    "# train['loan_to_emp_length_ratio'] = (train['loan_amnt'] / train['person_emp_length'].replace({'None': original['person_emp_length'].mean()}).astype('float')).astype('string').astype('category')\n",
    "# monthly_income = train['person_income'] / 12\n",
    "# train['monthly_debt'] = (train['loan_amnt'] * (1 + train['loan_int_rate'].replace({'None': original['loan_int_rate'].mean()})) / 12)\n",
    "# train['dti_ratio'] = (train['monthly_debt'] / monthly_income).astype('string').astype('category')\n",
    "# train['monthly_debt'] = train['monthly_debt'].astype('string').astype('category')\n",
    "# train['risk_flag'] = (np.where((train['cb_person_default_on_file'] == 'Y') & (train['loan_grade'].isin(['C', 'D', 'E'])), 1, 0))\n",
    "# train['risk_flag'] = train['risk_flag'].astype('category')\n",
    "# train['person_home_ownership'] = train['person_home_ownership'].astype('category')\n",
    "# train['loan_intent'] = train['loan_intent'].astype('category')\n",
    "# train['loan_grade'] = train['loan_grade'].astype('category')\n",
    "# train['cb_person_default_on_file'] = train['cb_person_default_on_file'].astype('category')\n",
    "# train['person_emp_length'] = train['person_emp_length'].astype('string').astype('category')\n",
    "# train['loan_int_rate'] = (train['loan_int_rate'] * 100).astype('string').astype('category')\n",
    "# train['loan_percent_income'] = (train['loan_percent_income'] * 100).astype('string').astype('category')"
   ]
  },
  {
   "cell_type": "code",
   "execution_count": 6,
   "id": "89a41f9e",
   "metadata": {
    "execution": {
     "iopub.execute_input": "2025-07-24T19:27:46.155516Z",
     "iopub.status.busy": "2025-07-24T19:27:46.155166Z",
     "iopub.status.idle": "2025-07-24T19:27:46.167149Z",
     "shell.execute_reply": "2025-07-24T19:27:46.166224Z"
    },
    "papermill": {
     "duration": 0.026014,
     "end_time": "2025-07-24T19:27:46.169515",
     "exception": false,
     "start_time": "2025-07-24T19:27:46.143501",
     "status": "completed"
    },
    "tags": []
   },
   "outputs": [],
   "source": [
    "combined_df = pd.concat([train, original], axis=0)"
   ]
  },
  {
   "cell_type": "code",
   "execution_count": 7,
   "id": "3e3972b7",
   "metadata": {
    "execution": {
     "iopub.execute_input": "2025-07-24T19:27:46.191915Z",
     "iopub.status.busy": "2025-07-24T19:27:46.191484Z",
     "iopub.status.idle": "2025-07-24T19:27:46.230809Z",
     "shell.execute_reply": "2025-07-24T19:27:46.229891Z"
    },
    "papermill": {
     "duration": 0.053311,
     "end_time": "2025-07-24T19:27:46.233167",
     "exception": false,
     "start_time": "2025-07-24T19:27:46.179856",
     "status": "completed"
    },
    "tags": []
   },
   "outputs": [],
   "source": [
    "combined_df = combined_df.reset_index(drop=True)\n",
    "# combined_df['id'] = np.arange(0, combined_df.shape[0])"
   ]
  },
  {
   "cell_type": "code",
   "execution_count": 8,
   "id": "55abe39f",
   "metadata": {
    "execution": {
     "iopub.execute_input": "2025-07-24T19:27:46.255942Z",
     "iopub.status.busy": "2025-07-24T19:27:46.255481Z",
     "iopub.status.idle": "2025-07-24T19:27:46.262063Z",
     "shell.execute_reply": "2025-07-24T19:27:46.260966Z"
    },
    "papermill": {
     "duration": 0.020851,
     "end_time": "2025-07-24T19:27:46.264494",
     "exception": false,
     "start_time": "2025-07-24T19:27:46.243643",
     "status": "completed"
    },
    "tags": []
   },
   "outputs": [],
   "source": [
    "# def new_features(comined_df):\n",
    "#     combined_df['loan_to_income'] = ((combined_df['loan_amnt'] / combined_df['person_income']) - combined_df['loan_percent_income']).astype('string').astype('category')\n",
    "#     combined_df['age_income_interaction'] = (combined_df['person_age'] * combined_df['person_income']).astype('string').astype('category')\n",
    "#     combined_df['loan_to_emp_length_ratio'] = (combined_df['loan_amnt'] / combined_df['person_emp_length'].replace({'None': original['person_emp_length'].mean()}).astype('float')).astype('string').astype('category')\n",
    "#     monthly_income = combined_df['person_income'] / 12\n",
    "#     combined_df['monthly_debt'] = (combined_df['loan_amnt'] * (1 + combined_df['loan_int_rate'].replace({'None': original['loan_int_rate'].mean()})) / 12)\n",
    "#     combined_df['dti_ratio'] = (combined_df['monthly_debt'] / monthly_income).astype('string').astype('category')\n",
    "#     combined_df['monthly_debt'] = combined_df['monthly_debt'].astype('string').astype('category')\n",
    "#     combined_df['risk_flag'] = (np.where((combined_df['cb_person_default_on_file'] == 'Y') & (combined_df['loan_grade'].isin(['C', 'D', 'E'])), 1, 0))\n",
    "#     combined_df['risk_flag'] = combined_df['risk_flag'].astype('category')\n",
    "#     combined_df['person_home_ownership'] = combined_df['person_home_ownership'].astype('category')\n",
    "#     combined_df['loan_intent'] = combined_df['loan_intent'].astype('category')\n",
    "#     combined_df['loan_grade'] = combined_df['loan_grade'].astype('category')\n",
    "#     combined_df['cb_person_default_on_file'] = combined_df['cb_person_default_on_file'].astype('category')\n",
    "#     combined_df['person_emp_length'] = combined_df['person_emp_length'].astype('string').astype('category')\n",
    "#     combined_df['loan_int_rate'] = (combined_df['loan_int_rate'] * 100).astype('string').astype('category')\n",
    "#     combined_df['loan_percent_income'] = (combined_df['loan_percent_income'] * 100).astype('string').astype('category')\n",
    "#     return combined_df\n",
    "\n",
    "# def new_features(df):\n",
    "#     # Calculate mean values for columns with 'None' values\n",
    "#     emp_length_mean = df['person_emp_length'].replace('None', np.nan).astype(float).mean()\n",
    "#     int_rate_mean = df['loan_int_rate'].replace('None', np.nan).astype(float).mean()\n",
    "\n",
    "#     # Create new features\n",
    "#     df['loan_to_income'] = ((df['loan_amnt'].astype(float) / df['person_income'].astype(float)) - df['loan_percent_income'].astype(float)).astype(str).astype('category')\n",
    "#     df['age_income_interaction'] = (df['person_age'].astype(float) * df['person_income'].astype(float)).astype(str).astype('category')\n",
    "#     df['loan_to_emp_length_ratio'] = (df['loan_amnt'].astype(float) / df['person_emp_length'].replace({'None': emp_length_mean}).astype(float)).astype(str).astype('category')\n",
    "\n",
    "#     monthly_income = df['person_income'].astype(float) / 12\n",
    "#     df['monthly_debt'] = (df['loan_amnt'].astype(float) * (1 + df['loan_int_rate'].replace({'None': int_rate_mean}).astype(float)) / 12)\n",
    "#     df['dti_ratio'] = (df['monthly_debt'] / monthly_income).astype(str).astype('category')\n",
    "#     df['monthly_debt'] = df['monthly_debt'].astype(str).astype('category')\n",
    "\n",
    "#     df['risk_flag'] = (np.where((df['cb_person_default_on_file'] == 'Y') & (df['loan_grade'].isin(['C', 'D', 'E'])), 1, 0))\n",
    "#     df['risk_flag'] = df['risk_flag'].astype('category')\n",
    "\n",
    "#     df['person_home_ownership'] = df['person_home_ownership'].astype('category')\n",
    "#     df['loan_intent'] = df['loan_intent'].astype('category')\n",
    "#     df['loan_grade'] = df['loan_grade'].astype('category')\n",
    "#     df['cb_person_default_on_file'] = df['cb_person_default_on_file'].astype('category')\n",
    "#     df['person_emp_length'] = df['person_emp_length'].astype(str).astype('category')\n",
    "#     df['loan_int_rate'] = (df['loan_int_rate'].astype(float) * 100).astype(str).astype('category')\n",
    "#     df['loan_percent_income'] = (df['loan_percent_income'].astype(float) * 100).astype(str).astype('category')\n",
    "\n",
    "#     return df"
   ]
  },
  {
   "cell_type": "code",
   "execution_count": 9,
   "id": "895e54ef",
   "metadata": {
    "execution": {
     "iopub.execute_input": "2025-07-24T19:27:46.287408Z",
     "iopub.status.busy": "2025-07-24T19:27:46.286669Z",
     "iopub.status.idle": "2025-07-24T19:27:46.301286Z",
     "shell.execute_reply": "2025-07-24T19:27:46.300392Z"
    },
    "papermill": {
     "duration": 0.028801,
     "end_time": "2025-07-24T19:27:46.303470",
     "exception": false,
     "start_time": "2025-07-24T19:27:46.274669",
     "status": "completed"
    },
    "tags": []
   },
   "outputs": [],
   "source": [
    "def new_features(df):\n",
    "    # Calculate mean values for columns with 'None' values\n",
    "    emp_length_mean = df['person_emp_length'].replace('None', np.nan).astype(float).mean()\n",
    "    int_rate_mean = df['loan_int_rate'].replace('None', np.nan).astype(float).mean()\n",
    "\n",
    "    # Create new features\n",
    "    df['loan_to_income'] = ((df['loan_amnt'].astype(float) / df['person_income'].astype(float)) - df['loan_percent_income']).astype(float)\n",
    "    df['age_income_interaction'] = (df['person_age'].astype(float) * df['person_income'].astype(float))\n",
    "    df['loan_to_emp_length_ratio'] = (df['loan_amnt'].astype(float) / df['person_emp_length'].replace({'None': emp_length_mean}).astype(float))\n",
    "\n",
    "    monthly_income = df['person_income'].astype(float) / 12\n",
    "    df['monthly_debt'] = (df['loan_amnt'].astype(float) * (1 + df['loan_int_rate'].replace({'None': int_rate_mean}).astype(float)) / 12)\n",
    "    df['dti_ratio'] = (df['monthly_debt'] / monthly_income)\n",
    "    \n",
    "    df['risk_flag'] = np.where((df['cb_person_default_on_file'] == 'Y') & (df['loan_grade'].isin(['C', 'D', 'E'])), 1, 0)\n",
    "    df['risk_flag'] = df['risk_flag'].astype('category')\n",
    "\n",
    "    # New features implementation\n",
    "    df['income_to_age_ratio'] = df['person_income'].astype(float) / df['person_age'].astype(float)\n",
    "    \n",
    "    df['income_stability_flag'] = np.where((df['person_home_ownership'] != 'RENT') & (df['person_emp_length'].astype(float) > 5), 1, 0)\n",
    "    df['income_stability_flag'] = df['income_stability_flag'].astype('category')\n",
    "\n",
    "    df['interest_to_loan_ratio'] = df['loan_int_rate'].astype(float) / df['loan_amnt'].astype(float)\n",
    "\n",
    "    df['employment_stability'] = np.where(df['person_emp_length'].astype(float) > 5, 'Stable', 'Unstable')\n",
    "    df['employment_stability'] = df['employment_stability'].astype('category')\n",
    "\n",
    "    df['loan_grade_risk_flag'] = np.where((df['loan_grade'].isin(['C', 'D', 'E'])) & (df['cb_person_default_on_file'] == 'Y'), 1, 0)\n",
    "    df['loan_grade_risk_flag'] = df['loan_grade_risk_flag'].astype('category')\n",
    "\n",
    "    df['debt_burden'] = df['monthly_debt'] / monthly_income\n",
    "\n",
    "    df['short_term_loan_flag'] = np.where((df['person_emp_length'].astype(float) < 1) & (df['loan_amnt'].astype(float) > 10000), 1, 0)\n",
    "    df['short_term_loan_flag'] = df['short_term_loan_flag'].astype('category')\n",
    "\n",
    "    # Convert other columns to categorical\n",
    "    df['person_home_ownership'] = df['person_home_ownership'].astype('category')\n",
    "    df['loan_intent'] = df['loan_intent'].astype('category')\n",
    "    df['loan_grade'] = df['loan_grade'].astype('category')\n",
    "    df['cb_person_default_on_file'] = df['cb_person_default_on_file'].astype('category')\n",
    "    df['person_emp_length'] = df['person_emp_length'].astype(str).astype('category')\n",
    "    df['loan_int_rate'] = (df['loan_int_rate'].astype(float) * 100).astype(str).astype('category')\n",
    "    df['loan_percent_income'] = (df['loan_percent_income'].astype(float) * 100).astype(str).astype('category')\n",
    "\n",
    "    return df\n",
    "new_features_list = [\n",
    "    'loan_to_income',\n",
    "    'age_income_interaction',\n",
    "    'loan_to_emp_length_ratio',\n",
    "    'monthly_debt',\n",
    "    'dti_ratio',\n",
    "    'risk_flag'\n",
    "]\n",
    "converted_to_categorical = [\n",
    "    'person_home_ownership',\n",
    "    'loan_intent',\n",
    "    'loan_grade',\n",
    "    'cb_person_default_on_file',\n",
    "    'person_emp_length',\n",
    "    'loan_int_rate',\n",
    "    'loan_percent_income'\n",
    "]"
   ]
  },
  {
   "cell_type": "code",
   "execution_count": 10,
   "id": "9c95118f",
   "metadata": {
    "execution": {
     "iopub.execute_input": "2025-07-24T19:27:46.325558Z",
     "iopub.status.busy": "2025-07-24T19:27:46.325148Z",
     "iopub.status.idle": "2025-07-24T19:27:46.716555Z",
     "shell.execute_reply": "2025-07-24T19:27:46.715275Z"
    },
    "papermill": {
     "duration": 0.40549,
     "end_time": "2025-07-24T19:27:46.719294",
     "exception": false,
     "start_time": "2025-07-24T19:27:46.313804",
     "status": "completed"
    },
    "tags": []
   },
   "outputs": [],
   "source": [
    "combined_df = new_features(combined_df)\n",
    "test = new_features(test)"
   ]
  },
  {
   "cell_type": "code",
   "execution_count": 11,
   "id": "f5bcc758",
   "metadata": {
    "execution": {
     "iopub.execute_input": "2025-07-24T19:27:46.742320Z",
     "iopub.status.busy": "2025-07-24T19:27:46.741911Z",
     "iopub.status.idle": "2025-07-24T19:27:46.747727Z",
     "shell.execute_reply": "2025-07-24T19:27:46.746172Z"
    },
    "papermill": {
     "duration": 0.020507,
     "end_time": "2025-07-24T19:27:46.750302",
     "exception": false,
     "start_time": "2025-07-24T19:27:46.729795",
     "status": "completed"
    },
    "tags": []
   },
   "outputs": [],
   "source": [
    "cols_to_categorical = ['person_age', 'person_home_ownership', 'person_emp_length', 'loan_intent', 'loan_amnt', 'loan_int_rate',\n",
    "'loan_percent_income', 'loan_grade', 'cb_person_default_on_file', 'cb_person_cred_hist_length', 'risk_flag']"
   ]
  },
  {
   "cell_type": "code",
   "execution_count": 12,
   "id": "fecb2c01",
   "metadata": {
    "execution": {
     "iopub.execute_input": "2025-07-24T19:27:46.773084Z",
     "iopub.status.busy": "2025-07-24T19:27:46.772206Z",
     "iopub.status.idle": "2025-07-24T19:27:47.140688Z",
     "shell.execute_reply": "2025-07-24T19:27:47.139653Z"
    },
    "papermill": {
     "duration": 0.382582,
     "end_time": "2025-07-24T19:27:47.143295",
     "exception": false,
     "start_time": "2025-07-24T19:27:46.760713",
     "status": "completed"
    },
    "tags": []
   },
   "outputs": [],
   "source": [
    "test[cols_to_categorical] = test[cols_to_categorical].astype(str).astype('category')\n",
    "combined_df[cols_to_categorical] = combined_df[cols_to_categorical].astype(str).astype('category')"
   ]
  },
  {
   "cell_type": "code",
   "execution_count": 13,
   "id": "0d6e7b1a",
   "metadata": {
    "execution": {
     "iopub.execute_input": "2025-07-24T19:27:47.166111Z",
     "iopub.status.busy": "2025-07-24T19:27:47.165671Z",
     "iopub.status.idle": "2025-07-24T19:27:47.175335Z",
     "shell.execute_reply": "2025-07-24T19:27:47.174169Z"
    },
    "papermill": {
     "duration": 0.023668,
     "end_time": "2025-07-24T19:27:47.177632",
     "exception": false,
     "start_time": "2025-07-24T19:27:47.153964",
     "status": "completed"
    },
    "tags": []
   },
   "outputs": [
    {
     "data": {
      "text/plain": [
       "person_age                    category\n",
       "person_income                    int64\n",
       "person_home_ownership         category\n",
       "person_emp_length             category\n",
       "loan_intent                   category\n",
       "loan_grade                    category\n",
       "loan_amnt                     category\n",
       "loan_int_rate                 category\n",
       "loan_percent_income           category\n",
       "cb_person_default_on_file     category\n",
       "cb_person_cred_hist_length    category\n",
       "loan_status                      int64\n",
       "loan_to_income                 float64\n",
       "age_income_interaction         float64\n",
       "loan_to_emp_length_ratio       float64\n",
       "monthly_debt                   float64\n",
       "dti_ratio                      float64\n",
       "risk_flag                     category\n",
       "income_to_age_ratio            float64\n",
       "income_stability_flag         category\n",
       "interest_to_loan_ratio         float64\n",
       "employment_stability          category\n",
       "loan_grade_risk_flag          category\n",
       "debt_burden                    float64\n",
       "short_term_loan_flag          category\n",
       "dtype: object"
      ]
     },
     "execution_count": 13,
     "metadata": {},
     "output_type": "execute_result"
    }
   ],
   "source": [
    "combined_df.dtypes"
   ]
  },
  {
   "cell_type": "code",
   "execution_count": 14,
   "id": "6ba2e6b7",
   "metadata": {
    "execution": {
     "iopub.execute_input": "2025-07-24T19:27:47.200263Z",
     "iopub.status.busy": "2025-07-24T19:27:47.199886Z",
     "iopub.status.idle": "2025-07-24T19:27:47.208571Z",
     "shell.execute_reply": "2025-07-24T19:27:47.207224Z"
    },
    "papermill": {
     "duration": 0.022826,
     "end_time": "2025-07-24T19:27:47.210910",
     "exception": false,
     "start_time": "2025-07-24T19:27:47.188084",
     "status": "completed"
    },
    "tags": []
   },
   "outputs": [
    {
     "data": {
      "text/plain": [
       "id                               int64\n",
       "person_age                    category\n",
       "person_income                    int64\n",
       "person_home_ownership         category\n",
       "person_emp_length             category\n",
       "loan_intent                   category\n",
       "loan_grade                    category\n",
       "loan_amnt                     category\n",
       "loan_int_rate                 category\n",
       "loan_percent_income           category\n",
       "cb_person_default_on_file     category\n",
       "cb_person_cred_hist_length    category\n",
       "loan_to_income                 float64\n",
       "age_income_interaction         float64\n",
       "loan_to_emp_length_ratio       float64\n",
       "monthly_debt                   float64\n",
       "dti_ratio                      float64\n",
       "risk_flag                     category\n",
       "income_to_age_ratio            float64\n",
       "income_stability_flag         category\n",
       "interest_to_loan_ratio         float64\n",
       "employment_stability          category\n",
       "loan_grade_risk_flag          category\n",
       "debt_burden                    float64\n",
       "short_term_loan_flag          category\n",
       "dtype: object"
      ]
     },
     "execution_count": 14,
     "metadata": {},
     "output_type": "execute_result"
    }
   ],
   "source": [
    "test.dtypes"
   ]
  },
  {
   "cell_type": "code",
   "execution_count": 15,
   "id": "de493b18",
   "metadata": {
    "execution": {
     "iopub.execute_input": "2025-07-24T19:27:47.234194Z",
     "iopub.status.busy": "2025-07-24T19:27:47.233293Z",
     "iopub.status.idle": "2025-07-24T19:27:47.237880Z",
     "shell.execute_reply": "2025-07-24T19:27:47.236789Z"
    },
    "papermill": {
     "duration": 0.018406,
     "end_time": "2025-07-24T19:27:47.240049",
     "exception": false,
     "start_time": "2025-07-24T19:27:47.221643",
     "status": "completed"
    },
    "tags": []
   },
   "outputs": [],
   "source": [
    "# continuous_cols = [col for col in combined_df.columns if combined_df[col].nunique() > 50]\n",
    "# categorical_cols = [col for col in combined_df.columns if col not in continuous_cols]"
   ]
  },
  {
   "cell_type": "code",
   "execution_count": 16,
   "id": "e9073edb",
   "metadata": {
    "execution": {
     "iopub.execute_input": "2025-07-24T19:27:47.263581Z",
     "iopub.status.busy": "2025-07-24T19:27:47.263213Z",
     "iopub.status.idle": "2025-07-24T19:27:47.268070Z",
     "shell.execute_reply": "2025-07-24T19:27:47.266851Z"
    },
    "papermill": {
     "duration": 0.019893,
     "end_time": "2025-07-24T19:27:47.270358",
     "exception": false,
     "start_time": "2025-07-24T19:27:47.250465",
     "status": "completed"
    },
    "tags": []
   },
   "outputs": [],
   "source": [
    "# for col in categorical_cols:\n",
    "#         print('value_counts :', train[col].value_counts(), '\\n')"
   ]
  },
  {
   "cell_type": "code",
   "execution_count": 17,
   "id": "e92659c7",
   "metadata": {
    "execution": {
     "iopub.execute_input": "2025-07-24T19:27:47.293611Z",
     "iopub.status.busy": "2025-07-24T19:27:47.293258Z",
     "iopub.status.idle": "2025-07-24T19:27:47.301294Z",
     "shell.execute_reply": "2025-07-24T19:27:47.300113Z"
    },
    "papermill": {
     "duration": 0.022224,
     "end_time": "2025-07-24T19:27:47.303369",
     "exception": false,
     "start_time": "2025-07-24T19:27:47.281145",
     "status": "completed"
    },
    "tags": []
   },
   "outputs": [],
   "source": [
    "status = train['loan_status'].value_counts()"
   ]
  },
  {
   "cell_type": "code",
   "execution_count": 18,
   "id": "fdf955e2",
   "metadata": {
    "execution": {
     "iopub.execute_input": "2025-07-24T19:27:47.325961Z",
     "iopub.status.busy": "2025-07-24T19:27:47.325540Z",
     "iopub.status.idle": "2025-07-24T19:27:47.330465Z",
     "shell.execute_reply": "2025-07-24T19:27:47.329218Z"
    },
    "papermill": {
     "duration": 0.018846,
     "end_time": "2025-07-24T19:27:47.332633",
     "exception": false,
     "start_time": "2025-07-24T19:27:47.313787",
     "status": "completed"
    },
    "tags": []
   },
   "outputs": [],
   "source": [
    "# plt.pie(status, labels = status.index, autopct='%1.1f%%')\n",
    "# plt.show()"
   ]
  },
  {
   "cell_type": "code",
   "execution_count": 19,
   "id": "8331fd36",
   "metadata": {
    "execution": {
     "iopub.execute_input": "2025-07-24T19:27:47.355141Z",
     "iopub.status.busy": "2025-07-24T19:27:47.354727Z",
     "iopub.status.idle": "2025-07-24T19:27:47.365611Z",
     "shell.execute_reply": "2025-07-24T19:27:47.364594Z"
    },
    "papermill": {
     "duration": 0.024986,
     "end_time": "2025-07-24T19:27:47.368145",
     "exception": false,
     "start_time": "2025-07-24T19:27:47.343159",
     "status": "completed"
    },
    "tags": []
   },
   "outputs": [],
   "source": [
    "X = combined_df.drop(columns='loan_status')\n",
    "y = combined_df['loan_status']\n",
    "\n",
    "cat_cols = X.select_dtypes(include='category').columns"
   ]
  },
  {
   "cell_type": "code",
   "execution_count": 20,
   "id": "aad270e3",
   "metadata": {
    "execution": {
     "iopub.execute_input": "2025-07-24T19:27:47.390637Z",
     "iopub.status.busy": "2025-07-24T19:27:47.390261Z",
     "iopub.status.idle": "2025-07-24T19:27:47.395388Z",
     "shell.execute_reply": "2025-07-24T19:27:47.394272Z"
    },
    "papermill": {
     "duration": 0.019113,
     "end_time": "2025-07-24T19:27:47.397788",
     "exception": false,
     "start_time": "2025-07-24T19:27:47.378675",
     "status": "completed"
    },
    "tags": []
   },
   "outputs": [],
   "source": [
    "# X.drop(columns='id', inplace=True)"
   ]
  },
  {
   "cell_type": "code",
   "execution_count": 21,
   "id": "78979e0c",
   "metadata": {
    "execution": {
     "iopub.execute_input": "2025-07-24T19:27:47.421205Z",
     "iopub.status.busy": "2025-07-24T19:27:47.420809Z",
     "iopub.status.idle": "2025-07-24T19:27:47.425938Z",
     "shell.execute_reply": "2025-07-24T19:27:47.424631Z"
    },
    "papermill": {
     "duration": 0.019626,
     "end_time": "2025-07-24T19:27:47.428658",
     "exception": false,
     "start_time": "2025-07-24T19:27:47.409032",
     "status": "completed"
    },
    "tags": []
   },
   "outputs": [],
   "source": [
    "#encoder = OrdinalEncoder(handle_unknown='use_encoded_value', unknown_value=-1)\n",
    "# onehot = OneHotEncoder(sparse=False)\n",
    "# onehot_cols = onehot.fit_transform(X[cat_cols])\n",
    "#X[cat_cols] = encoder.fit_transform(X[cat_cols])"
   ]
  },
  {
   "cell_type": "code",
   "execution_count": 22,
   "id": "e9d3ed74",
   "metadata": {
    "execution": {
     "iopub.execute_input": "2025-07-24T19:27:47.453977Z",
     "iopub.status.busy": "2025-07-24T19:27:47.453558Z",
     "iopub.status.idle": "2025-07-24T19:27:47.458929Z",
     "shell.execute_reply": "2025-07-24T19:27:47.457662Z"
    },
    "papermill": {
     "duration": 0.020104,
     "end_time": "2025-07-24T19:27:47.461125",
     "exception": false,
     "start_time": "2025-07-24T19:27:47.441021",
     "status": "completed"
    },
    "tags": []
   },
   "outputs": [],
   "source": [
    "# test_onehot = onehot.transform(test[cat_cols])"
   ]
  },
  {
   "cell_type": "code",
   "execution_count": 23,
   "id": "dae4459e",
   "metadata": {
    "execution": {
     "iopub.execute_input": "2025-07-24T19:27:47.483953Z",
     "iopub.status.busy": "2025-07-24T19:27:47.483184Z",
     "iopub.status.idle": "2025-07-24T19:27:47.487856Z",
     "shell.execute_reply": "2025-07-24T19:27:47.486804Z"
    },
    "papermill": {
     "duration": 0.018579,
     "end_time": "2025-07-24T19:27:47.490144",
     "exception": false,
     "start_time": "2025-07-24T19:27:47.471565",
     "status": "completed"
    },
    "tags": []
   },
   "outputs": [],
   "source": [
    "# feature_names = onehot.get_feature_names_out(cat_cols)\n",
    "# onehot_cols_df = pd.DataFrame(onehot_cols, columns=feature_names)\n",
    "# onehot_test = pd.DataFrame(test_onehot, columns=feature_names)"
   ]
  },
  {
   "cell_type": "code",
   "execution_count": 24,
   "id": "52ddae48",
   "metadata": {
    "execution": {
     "iopub.execute_input": "2025-07-24T19:27:47.513311Z",
     "iopub.status.busy": "2025-07-24T19:27:47.512948Z",
     "iopub.status.idle": "2025-07-24T19:27:47.517998Z",
     "shell.execute_reply": "2025-07-24T19:27:47.516764Z"
    },
    "papermill": {
     "duration": 0.019956,
     "end_time": "2025-07-24T19:27:47.520571",
     "exception": false,
     "start_time": "2025-07-24T19:27:47.500615",
     "status": "completed"
    },
    "tags": []
   },
   "outputs": [],
   "source": [
    "# X.drop(columns=cat_cols, inplace=True)\n",
    "# X = pd.concat([X, onehot_cols_df], axis=1)"
   ]
  },
  {
   "cell_type": "code",
   "execution_count": 25,
   "id": "b9817f13",
   "metadata": {
    "execution": {
     "iopub.execute_input": "2025-07-24T19:27:47.544063Z",
     "iopub.status.busy": "2025-07-24T19:27:47.543657Z",
     "iopub.status.idle": "2025-07-24T19:27:47.548361Z",
     "shell.execute_reply": "2025-07-24T19:27:47.547154Z"
    },
    "papermill": {
     "duration": 0.019156,
     "end_time": "2025-07-24T19:27:47.550527",
     "exception": false,
     "start_time": "2025-07-24T19:27:47.531371",
     "status": "completed"
    },
    "tags": []
   },
   "outputs": [],
   "source": [
    "# test.drop(columns=cat_cols, inplace=True)\n",
    "# test = pd.concat([test, onehot_test], axis=1)"
   ]
  },
  {
   "cell_type": "code",
   "execution_count": 26,
   "id": "9a3fcadd",
   "metadata": {
    "execution": {
     "iopub.execute_input": "2025-07-24T19:27:47.573429Z",
     "iopub.status.busy": "2025-07-24T19:27:47.572538Z",
     "iopub.status.idle": "2025-07-24T19:27:47.580902Z",
     "shell.execute_reply": "2025-07-24T19:27:47.579716Z"
    },
    "papermill": {
     "duration": 0.022408,
     "end_time": "2025-07-24T19:27:47.583431",
     "exception": false,
     "start_time": "2025-07-24T19:27:47.561023",
     "status": "completed"
    },
    "tags": []
   },
   "outputs": [],
   "source": [
    "test.drop(columns='id', inplace=True)"
   ]
  },
  {
   "cell_type": "code",
   "execution_count": 27,
   "id": "45c49585",
   "metadata": {
    "execution": {
     "iopub.execute_input": "2025-07-24T19:27:47.606292Z",
     "iopub.status.busy": "2025-07-24T19:27:47.605902Z",
     "iopub.status.idle": "2025-07-24T19:27:47.646014Z",
     "shell.execute_reply": "2025-07-24T19:27:47.644791Z"
    },
    "papermill": {
     "duration": 0.05413,
     "end_time": "2025-07-24T19:27:47.648228",
     "exception": false,
     "start_time": "2025-07-24T19:27:47.594098",
     "status": "completed"
    },
    "tags": []
   },
   "outputs": [
    {
     "data": {
      "text/html": [
       "<div>\n",
       "<style scoped>\n",
       "    .dataframe tbody tr th:only-of-type {\n",
       "        vertical-align: middle;\n",
       "    }\n",
       "\n",
       "    .dataframe tbody tr th {\n",
       "        vertical-align: top;\n",
       "    }\n",
       "\n",
       "    .dataframe thead th {\n",
       "        text-align: right;\n",
       "    }\n",
       "</style>\n",
       "<table border=\"1\" class=\"dataframe\">\n",
       "  <thead>\n",
       "    <tr style=\"text-align: right;\">\n",
       "      <th></th>\n",
       "      <th>person_age</th>\n",
       "      <th>person_income</th>\n",
       "      <th>person_home_ownership</th>\n",
       "      <th>person_emp_length</th>\n",
       "      <th>loan_intent</th>\n",
       "      <th>loan_grade</th>\n",
       "      <th>loan_amnt</th>\n",
       "      <th>loan_int_rate</th>\n",
       "      <th>loan_percent_income</th>\n",
       "      <th>cb_person_default_on_file</th>\n",
       "      <th>...</th>\n",
       "      <th>monthly_debt</th>\n",
       "      <th>dti_ratio</th>\n",
       "      <th>risk_flag</th>\n",
       "      <th>income_to_age_ratio</th>\n",
       "      <th>income_stability_flag</th>\n",
       "      <th>interest_to_loan_ratio</th>\n",
       "      <th>employment_stability</th>\n",
       "      <th>loan_grade_risk_flag</th>\n",
       "      <th>debt_burden</th>\n",
       "      <th>short_term_loan_flag</th>\n",
       "    </tr>\n",
       "  </thead>\n",
       "  <tbody>\n",
       "    <tr>\n",
       "      <th>0</th>\n",
       "      <td>23</td>\n",
       "      <td>69000</td>\n",
       "      <td>RENT</td>\n",
       "      <td>3.0</td>\n",
       "      <td>HOMEIMPROVEMENT</td>\n",
       "      <td>F</td>\n",
       "      <td>25000</td>\n",
       "      <td>1576.0</td>\n",
       "      <td>36.0</td>\n",
       "      <td>N</td>\n",
       "      <td>...</td>\n",
       "      <td>34916.666667</td>\n",
       "      <td>6.072464</td>\n",
       "      <td>0</td>\n",
       "      <td>3000.000000</td>\n",
       "      <td>0</td>\n",
       "      <td>0.000630</td>\n",
       "      <td>Unstable</td>\n",
       "      <td>0</td>\n",
       "      <td>6.072464</td>\n",
       "      <td>0</td>\n",
       "    </tr>\n",
       "    <tr>\n",
       "      <th>1</th>\n",
       "      <td>26</td>\n",
       "      <td>96000</td>\n",
       "      <td>MORTGAGE</td>\n",
       "      <td>6.0</td>\n",
       "      <td>PERSONAL</td>\n",
       "      <td>C</td>\n",
       "      <td>10000</td>\n",
       "      <td>1268.0</td>\n",
       "      <td>10.0</td>\n",
       "      <td>Y</td>\n",
       "      <td>...</td>\n",
       "      <td>11400.000000</td>\n",
       "      <td>1.425000</td>\n",
       "      <td>1</td>\n",
       "      <td>3692.307692</td>\n",
       "      <td>1</td>\n",
       "      <td>0.001268</td>\n",
       "      <td>Stable</td>\n",
       "      <td>1</td>\n",
       "      <td>1.425000</td>\n",
       "      <td>0</td>\n",
       "    </tr>\n",
       "    <tr>\n",
       "      <th>2</th>\n",
       "      <td>26</td>\n",
       "      <td>30000</td>\n",
       "      <td>RENT</td>\n",
       "      <td>5.0</td>\n",
       "      <td>VENTURE</td>\n",
       "      <td>E</td>\n",
       "      <td>4000</td>\n",
       "      <td>1719.0000000000002</td>\n",
       "      <td>13.0</td>\n",
       "      <td>Y</td>\n",
       "      <td>...</td>\n",
       "      <td>6063.333333</td>\n",
       "      <td>2.425333</td>\n",
       "      <td>1</td>\n",
       "      <td>1153.846154</td>\n",
       "      <td>0</td>\n",
       "      <td>0.004298</td>\n",
       "      <td>Unstable</td>\n",
       "      <td>1</td>\n",
       "      <td>2.425333</td>\n",
       "      <td>0</td>\n",
       "    </tr>\n",
       "    <tr>\n",
       "      <th>3</th>\n",
       "      <td>33</td>\n",
       "      <td>50000</td>\n",
       "      <td>RENT</td>\n",
       "      <td>4.0</td>\n",
       "      <td>DEBTCONSOLIDATION</td>\n",
       "      <td>A</td>\n",
       "      <td>7000</td>\n",
       "      <td>890.0</td>\n",
       "      <td>14.000000000000002</td>\n",
       "      <td>N</td>\n",
       "      <td>...</td>\n",
       "      <td>5775.000000</td>\n",
       "      <td>1.386000</td>\n",
       "      <td>0</td>\n",
       "      <td>1515.151515</td>\n",
       "      <td>0</td>\n",
       "      <td>0.001271</td>\n",
       "      <td>Unstable</td>\n",
       "      <td>0</td>\n",
       "      <td>1.386000</td>\n",
       "      <td>0</td>\n",
       "    </tr>\n",
       "    <tr>\n",
       "      <th>4</th>\n",
       "      <td>26</td>\n",
       "      <td>102000</td>\n",
       "      <td>MORTGAGE</td>\n",
       "      <td>8.0</td>\n",
       "      <td>HOMEIMPROVEMENT</td>\n",
       "      <td>D</td>\n",
       "      <td>15000</td>\n",
       "      <td>1632.0</td>\n",
       "      <td>15.0</td>\n",
       "      <td>Y</td>\n",
       "      <td>...</td>\n",
       "      <td>21650.000000</td>\n",
       "      <td>2.547059</td>\n",
       "      <td>1</td>\n",
       "      <td>3923.076923</td>\n",
       "      <td>1</td>\n",
       "      <td>0.001088</td>\n",
       "      <td>Stable</td>\n",
       "      <td>1</td>\n",
       "      <td>2.547059</td>\n",
       "      <td>0</td>\n",
       "    </tr>\n",
       "    <tr>\n",
       "      <th>...</th>\n",
       "      <td>...</td>\n",
       "      <td>...</td>\n",
       "      <td>...</td>\n",
       "      <td>...</td>\n",
       "      <td>...</td>\n",
       "      <td>...</td>\n",
       "      <td>...</td>\n",
       "      <td>...</td>\n",
       "      <td>...</td>\n",
       "      <td>...</td>\n",
       "      <td>...</td>\n",
       "      <td>...</td>\n",
       "      <td>...</td>\n",
       "      <td>...</td>\n",
       "      <td>...</td>\n",
       "      <td>...</td>\n",
       "      <td>...</td>\n",
       "      <td>...</td>\n",
       "      <td>...</td>\n",
       "      <td>...</td>\n",
       "      <td>...</td>\n",
       "    </tr>\n",
       "    <tr>\n",
       "      <th>39093</th>\n",
       "      <td>22</td>\n",
       "      <td>31200</td>\n",
       "      <td>MORTGAGE</td>\n",
       "      <td>2.0</td>\n",
       "      <td>DEBTCONSOLIDATION</td>\n",
       "      <td>B</td>\n",
       "      <td>3000</td>\n",
       "      <td>1037.0</td>\n",
       "      <td>10.0</td>\n",
       "      <td>N</td>\n",
       "      <td>...</td>\n",
       "      <td>2842.500000</td>\n",
       "      <td>1.093269</td>\n",
       "      <td>0</td>\n",
       "      <td>1418.181818</td>\n",
       "      <td>0</td>\n",
       "      <td>0.003457</td>\n",
       "      <td>Unstable</td>\n",
       "      <td>0</td>\n",
       "      <td>1.093269</td>\n",
       "      <td>0</td>\n",
       "    </tr>\n",
       "    <tr>\n",
       "      <th>39094</th>\n",
       "      <td>22</td>\n",
       "      <td>48000</td>\n",
       "      <td>MORTGAGE</td>\n",
       "      <td>6.0</td>\n",
       "      <td>EDUCATION</td>\n",
       "      <td>A</td>\n",
       "      <td>7000</td>\n",
       "      <td>603.0</td>\n",
       "      <td>15.0</td>\n",
       "      <td>N</td>\n",
       "      <td>...</td>\n",
       "      <td>4100.833333</td>\n",
       "      <td>1.025208</td>\n",
       "      <td>0</td>\n",
       "      <td>2181.818182</td>\n",
       "      <td>1</td>\n",
       "      <td>0.000861</td>\n",
       "      <td>Stable</td>\n",
       "      <td>0</td>\n",
       "      <td>1.025208</td>\n",
       "      <td>0</td>\n",
       "    </tr>\n",
       "    <tr>\n",
       "      <th>39095</th>\n",
       "      <td>51</td>\n",
       "      <td>60000</td>\n",
       "      <td>MORTGAGE</td>\n",
       "      <td>0.0</td>\n",
       "      <td>PERSONAL</td>\n",
       "      <td>A</td>\n",
       "      <td>15000</td>\n",
       "      <td>751.0</td>\n",
       "      <td>25.0</td>\n",
       "      <td>N</td>\n",
       "      <td>...</td>\n",
       "      <td>10637.500000</td>\n",
       "      <td>2.127500</td>\n",
       "      <td>0</td>\n",
       "      <td>1176.470588</td>\n",
       "      <td>0</td>\n",
       "      <td>0.000501</td>\n",
       "      <td>Unstable</td>\n",
       "      <td>0</td>\n",
       "      <td>2.127500</td>\n",
       "      <td>1</td>\n",
       "    </tr>\n",
       "    <tr>\n",
       "      <th>39096</th>\n",
       "      <td>22</td>\n",
       "      <td>36000</td>\n",
       "      <td>MORTGAGE</td>\n",
       "      <td>4.0</td>\n",
       "      <td>PERSONAL</td>\n",
       "      <td>D</td>\n",
       "      <td>14000</td>\n",
       "      <td>1562.0</td>\n",
       "      <td>39.0</td>\n",
       "      <td>Y</td>\n",
       "      <td>...</td>\n",
       "      <td>19390.000000</td>\n",
       "      <td>6.463333</td>\n",
       "      <td>1</td>\n",
       "      <td>1636.363636</td>\n",
       "      <td>0</td>\n",
       "      <td>0.001116</td>\n",
       "      <td>Unstable</td>\n",
       "      <td>1</td>\n",
       "      <td>6.463333</td>\n",
       "      <td>0</td>\n",
       "    </tr>\n",
       "    <tr>\n",
       "      <th>39097</th>\n",
       "      <td>31</td>\n",
       "      <td>45000</td>\n",
       "      <td>RENT</td>\n",
       "      <td>6.0</td>\n",
       "      <td>DEBTCONSOLIDATION</td>\n",
       "      <td>B</td>\n",
       "      <td>19450</td>\n",
       "      <td>991.0</td>\n",
       "      <td>44.0</td>\n",
       "      <td>N</td>\n",
       "      <td>...</td>\n",
       "      <td>17683.291667</td>\n",
       "      <td>4.715544</td>\n",
       "      <td>0</td>\n",
       "      <td>1451.612903</td>\n",
       "      <td>0</td>\n",
       "      <td>0.000510</td>\n",
       "      <td>Stable</td>\n",
       "      <td>0</td>\n",
       "      <td>4.715544</td>\n",
       "      <td>0</td>\n",
       "    </tr>\n",
       "  </tbody>\n",
       "</table>\n",
       "<p>39098 rows × 24 columns</p>\n",
       "</div>"
      ],
      "text/plain": [
       "      person_age  person_income person_home_ownership person_emp_length  \\\n",
       "0             23          69000                  RENT               3.0   \n",
       "1             26          96000              MORTGAGE               6.0   \n",
       "2             26          30000                  RENT               5.0   \n",
       "3             33          50000                  RENT               4.0   \n",
       "4             26         102000              MORTGAGE               8.0   \n",
       "...          ...            ...                   ...               ...   \n",
       "39093         22          31200              MORTGAGE               2.0   \n",
       "39094         22          48000              MORTGAGE               6.0   \n",
       "39095         51          60000              MORTGAGE               0.0   \n",
       "39096         22          36000              MORTGAGE               4.0   \n",
       "39097         31          45000                  RENT               6.0   \n",
       "\n",
       "             loan_intent loan_grade loan_amnt       loan_int_rate  \\\n",
       "0        HOMEIMPROVEMENT          F     25000              1576.0   \n",
       "1               PERSONAL          C     10000              1268.0   \n",
       "2                VENTURE          E      4000  1719.0000000000002   \n",
       "3      DEBTCONSOLIDATION          A      7000               890.0   \n",
       "4        HOMEIMPROVEMENT          D     15000              1632.0   \n",
       "...                  ...        ...       ...                 ...   \n",
       "39093  DEBTCONSOLIDATION          B      3000              1037.0   \n",
       "39094          EDUCATION          A      7000               603.0   \n",
       "39095           PERSONAL          A     15000               751.0   \n",
       "39096           PERSONAL          D     14000              1562.0   \n",
       "39097  DEBTCONSOLIDATION          B     19450               991.0   \n",
       "\n",
       "      loan_percent_income cb_person_default_on_file  ...  monthly_debt  \\\n",
       "0                    36.0                         N  ...  34916.666667   \n",
       "1                    10.0                         Y  ...  11400.000000   \n",
       "2                    13.0                         Y  ...   6063.333333   \n",
       "3      14.000000000000002                         N  ...   5775.000000   \n",
       "4                    15.0                         Y  ...  21650.000000   \n",
       "...                   ...                       ...  ...           ...   \n",
       "39093                10.0                         N  ...   2842.500000   \n",
       "39094                15.0                         N  ...   4100.833333   \n",
       "39095                25.0                         N  ...  10637.500000   \n",
       "39096                39.0                         Y  ...  19390.000000   \n",
       "39097                44.0                         N  ...  17683.291667   \n",
       "\n",
       "       dti_ratio  risk_flag  income_to_age_ratio  income_stability_flag  \\\n",
       "0       6.072464          0          3000.000000                      0   \n",
       "1       1.425000          1          3692.307692                      1   \n",
       "2       2.425333          1          1153.846154                      0   \n",
       "3       1.386000          0          1515.151515                      0   \n",
       "4       2.547059          1          3923.076923                      1   \n",
       "...          ...        ...                  ...                    ...   \n",
       "39093   1.093269          0          1418.181818                      0   \n",
       "39094   1.025208          0          2181.818182                      1   \n",
       "39095   2.127500          0          1176.470588                      0   \n",
       "39096   6.463333          1          1636.363636                      0   \n",
       "39097   4.715544          0          1451.612903                      0   \n",
       "\n",
       "       interest_to_loan_ratio employment_stability  loan_grade_risk_flag  \\\n",
       "0                    0.000630             Unstable                     0   \n",
       "1                    0.001268               Stable                     1   \n",
       "2                    0.004298             Unstable                     1   \n",
       "3                    0.001271             Unstable                     0   \n",
       "4                    0.001088               Stable                     1   \n",
       "...                       ...                  ...                   ...   \n",
       "39093                0.003457             Unstable                     0   \n",
       "39094                0.000861               Stable                     0   \n",
       "39095                0.000501             Unstable                     0   \n",
       "39096                0.001116             Unstable                     1   \n",
       "39097                0.000510               Stable                     0   \n",
       "\n",
       "      debt_burden  short_term_loan_flag  \n",
       "0        6.072464                     0  \n",
       "1        1.425000                     0  \n",
       "2        2.425333                     0  \n",
       "3        1.386000                     0  \n",
       "4        2.547059                     0  \n",
       "...           ...                   ...  \n",
       "39093    1.093269                     0  \n",
       "39094    1.025208                     0  \n",
       "39095    2.127500                     1  \n",
       "39096    6.463333                     0  \n",
       "39097    4.715544                     0  \n",
       "\n",
       "[39098 rows x 24 columns]"
      ]
     },
     "execution_count": 27,
     "metadata": {},
     "output_type": "execute_result"
    }
   ],
   "source": [
    "test"
   ]
  },
  {
   "cell_type": "code",
   "execution_count": 28,
   "id": "82f48137",
   "metadata": {
    "execution": {
     "iopub.execute_input": "2025-07-24T19:27:47.673113Z",
     "iopub.status.busy": "2025-07-24T19:27:47.672676Z",
     "iopub.status.idle": "2025-07-24T19:27:47.691779Z",
     "shell.execute_reply": "2025-07-24T19:27:47.690658Z"
    },
    "papermill": {
     "duration": 0.033986,
     "end_time": "2025-07-24T19:27:47.694043",
     "exception": false,
     "start_time": "2025-07-24T19:27:47.660057",
     "status": "completed"
    },
    "tags": []
   },
   "outputs": [
    {
     "data": {
      "text/html": [
       "<div>\n",
       "<style scoped>\n",
       "    .dataframe tbody tr th:only-of-type {\n",
       "        vertical-align: middle;\n",
       "    }\n",
       "\n",
       "    .dataframe tbody tr th {\n",
       "        vertical-align: top;\n",
       "    }\n",
       "\n",
       "    .dataframe thead th {\n",
       "        text-align: right;\n",
       "    }\n",
       "</style>\n",
       "<table border=\"1\" class=\"dataframe\">\n",
       "  <thead>\n",
       "    <tr style=\"text-align: right;\">\n",
       "      <th></th>\n",
       "      <th>person_age</th>\n",
       "      <th>person_income</th>\n",
       "      <th>person_home_ownership</th>\n",
       "      <th>person_emp_length</th>\n",
       "      <th>loan_intent</th>\n",
       "      <th>loan_grade</th>\n",
       "      <th>loan_amnt</th>\n",
       "      <th>loan_int_rate</th>\n",
       "      <th>loan_percent_income</th>\n",
       "      <th>cb_person_default_on_file</th>\n",
       "      <th>cb_person_cred_hist_length</th>\n",
       "      <th>loan_status</th>\n",
       "    </tr>\n",
       "  </thead>\n",
       "  <tbody>\n",
       "    <tr>\n",
       "      <th>0</th>\n",
       "      <td>37</td>\n",
       "      <td>35000</td>\n",
       "      <td>RENT</td>\n",
       "      <td>0.0</td>\n",
       "      <td>EDUCATION</td>\n",
       "      <td>B</td>\n",
       "      <td>6000</td>\n",
       "      <td>11.49</td>\n",
       "      <td>0.17</td>\n",
       "      <td>N</td>\n",
       "      <td>14</td>\n",
       "      <td>0</td>\n",
       "    </tr>\n",
       "    <tr>\n",
       "      <th>1</th>\n",
       "      <td>22</td>\n",
       "      <td>56000</td>\n",
       "      <td>OWN</td>\n",
       "      <td>6.0</td>\n",
       "      <td>MEDICAL</td>\n",
       "      <td>C</td>\n",
       "      <td>4000</td>\n",
       "      <td>13.35</td>\n",
       "      <td>0.07</td>\n",
       "      <td>N</td>\n",
       "      <td>2</td>\n",
       "      <td>0</td>\n",
       "    </tr>\n",
       "    <tr>\n",
       "      <th>2</th>\n",
       "      <td>29</td>\n",
       "      <td>28800</td>\n",
       "      <td>OWN</td>\n",
       "      <td>8.0</td>\n",
       "      <td>PERSONAL</td>\n",
       "      <td>A</td>\n",
       "      <td>6000</td>\n",
       "      <td>8.90</td>\n",
       "      <td>0.21</td>\n",
       "      <td>N</td>\n",
       "      <td>10</td>\n",
       "      <td>0</td>\n",
       "    </tr>\n",
       "    <tr>\n",
       "      <th>3</th>\n",
       "      <td>30</td>\n",
       "      <td>70000</td>\n",
       "      <td>RENT</td>\n",
       "      <td>14.0</td>\n",
       "      <td>VENTURE</td>\n",
       "      <td>B</td>\n",
       "      <td>12000</td>\n",
       "      <td>11.11</td>\n",
       "      <td>0.17</td>\n",
       "      <td>N</td>\n",
       "      <td>5</td>\n",
       "      <td>0</td>\n",
       "    </tr>\n",
       "    <tr>\n",
       "      <th>4</th>\n",
       "      <td>22</td>\n",
       "      <td>60000</td>\n",
       "      <td>RENT</td>\n",
       "      <td>2.0</td>\n",
       "      <td>MEDICAL</td>\n",
       "      <td>A</td>\n",
       "      <td>6000</td>\n",
       "      <td>6.92</td>\n",
       "      <td>0.10</td>\n",
       "      <td>N</td>\n",
       "      <td>3</td>\n",
       "      <td>0</td>\n",
       "    </tr>\n",
       "    <tr>\n",
       "      <th>...</th>\n",
       "      <td>...</td>\n",
       "      <td>...</td>\n",
       "      <td>...</td>\n",
       "      <td>...</td>\n",
       "      <td>...</td>\n",
       "      <td>...</td>\n",
       "      <td>...</td>\n",
       "      <td>...</td>\n",
       "      <td>...</td>\n",
       "      <td>...</td>\n",
       "      <td>...</td>\n",
       "      <td>...</td>\n",
       "    </tr>\n",
       "    <tr>\n",
       "      <th>58640</th>\n",
       "      <td>34</td>\n",
       "      <td>120000</td>\n",
       "      <td>MORTGAGE</td>\n",
       "      <td>5.0</td>\n",
       "      <td>EDUCATION</td>\n",
       "      <td>D</td>\n",
       "      <td>25000</td>\n",
       "      <td>15.95</td>\n",
       "      <td>0.21</td>\n",
       "      <td>Y</td>\n",
       "      <td>10</td>\n",
       "      <td>0</td>\n",
       "    </tr>\n",
       "    <tr>\n",
       "      <th>58641</th>\n",
       "      <td>28</td>\n",
       "      <td>28800</td>\n",
       "      <td>RENT</td>\n",
       "      <td>0.0</td>\n",
       "      <td>MEDICAL</td>\n",
       "      <td>C</td>\n",
       "      <td>10000</td>\n",
       "      <td>12.73</td>\n",
       "      <td>0.35</td>\n",
       "      <td>N</td>\n",
       "      <td>8</td>\n",
       "      <td>1</td>\n",
       "    </tr>\n",
       "    <tr>\n",
       "      <th>58642</th>\n",
       "      <td>23</td>\n",
       "      <td>44000</td>\n",
       "      <td>RENT</td>\n",
       "      <td>7.0</td>\n",
       "      <td>EDUCATION</td>\n",
       "      <td>D</td>\n",
       "      <td>6800</td>\n",
       "      <td>16.00</td>\n",
       "      <td>0.15</td>\n",
       "      <td>N</td>\n",
       "      <td>2</td>\n",
       "      <td>1</td>\n",
       "    </tr>\n",
       "    <tr>\n",
       "      <th>58643</th>\n",
       "      <td>22</td>\n",
       "      <td>30000</td>\n",
       "      <td>RENT</td>\n",
       "      <td>2.0</td>\n",
       "      <td>EDUCATION</td>\n",
       "      <td>A</td>\n",
       "      <td>5000</td>\n",
       "      <td>8.90</td>\n",
       "      <td>0.17</td>\n",
       "      <td>N</td>\n",
       "      <td>3</td>\n",
       "      <td>0</td>\n",
       "    </tr>\n",
       "    <tr>\n",
       "      <th>58644</th>\n",
       "      <td>31</td>\n",
       "      <td>75000</td>\n",
       "      <td>MORTGAGE</td>\n",
       "      <td>2.0</td>\n",
       "      <td>VENTURE</td>\n",
       "      <td>B</td>\n",
       "      <td>15000</td>\n",
       "      <td>11.11</td>\n",
       "      <td>0.20</td>\n",
       "      <td>N</td>\n",
       "      <td>5</td>\n",
       "      <td>0</td>\n",
       "    </tr>\n",
       "  </tbody>\n",
       "</table>\n",
       "<p>58645 rows × 12 columns</p>\n",
       "</div>"
      ],
      "text/plain": [
       "       person_age  person_income person_home_ownership  person_emp_length  \\\n",
       "0              37          35000                  RENT                0.0   \n",
       "1              22          56000                   OWN                6.0   \n",
       "2              29          28800                   OWN                8.0   \n",
       "3              30          70000                  RENT               14.0   \n",
       "4              22          60000                  RENT                2.0   \n",
       "...           ...            ...                   ...                ...   \n",
       "58640          34         120000              MORTGAGE                5.0   \n",
       "58641          28          28800                  RENT                0.0   \n",
       "58642          23          44000                  RENT                7.0   \n",
       "58643          22          30000                  RENT                2.0   \n",
       "58644          31          75000              MORTGAGE                2.0   \n",
       "\n",
       "      loan_intent loan_grade  loan_amnt  loan_int_rate  loan_percent_income  \\\n",
       "0       EDUCATION          B       6000          11.49                 0.17   \n",
       "1         MEDICAL          C       4000          13.35                 0.07   \n",
       "2        PERSONAL          A       6000           8.90                 0.21   \n",
       "3         VENTURE          B      12000          11.11                 0.17   \n",
       "4         MEDICAL          A       6000           6.92                 0.10   \n",
       "...           ...        ...        ...            ...                  ...   \n",
       "58640   EDUCATION          D      25000          15.95                 0.21   \n",
       "58641     MEDICAL          C      10000          12.73                 0.35   \n",
       "58642   EDUCATION          D       6800          16.00                 0.15   \n",
       "58643   EDUCATION          A       5000           8.90                 0.17   \n",
       "58644     VENTURE          B      15000          11.11                 0.20   \n",
       "\n",
       "      cb_person_default_on_file  cb_person_cred_hist_length  loan_status  \n",
       "0                             N                          14            0  \n",
       "1                             N                           2            0  \n",
       "2                             N                          10            0  \n",
       "3                             N                           5            0  \n",
       "4                             N                           3            0  \n",
       "...                         ...                         ...          ...  \n",
       "58640                         Y                          10            0  \n",
       "58641                         N                           8            1  \n",
       "58642                         N                           2            1  \n",
       "58643                         N                           3            0  \n",
       "58644                         N                           5            0  \n",
       "\n",
       "[58645 rows x 12 columns]"
      ]
     },
     "execution_count": 28,
     "metadata": {},
     "output_type": "execute_result"
    }
   ],
   "source": [
    "train"
   ]
  },
  {
   "cell_type": "code",
   "execution_count": 29,
   "id": "cf219206",
   "metadata": {
    "execution": {
     "iopub.execute_input": "2025-07-24T19:27:47.718674Z",
     "iopub.status.busy": "2025-07-24T19:27:47.718190Z",
     "iopub.status.idle": "2025-07-24T19:27:47.723320Z",
     "shell.execute_reply": "2025-07-24T19:27:47.721831Z"
    },
    "papermill": {
     "duration": 0.020512,
     "end_time": "2025-07-24T19:27:47.725878",
     "exception": false,
     "start_time": "2025-07-24T19:27:47.705366",
     "status": "completed"
    },
    "tags": []
   },
   "outputs": [],
   "source": [
    "# obj_cols= X.select_dtypes(include='object').columns\n",
    "# X[obj_cols]= X[obj_cols].astype('category')"
   ]
  },
  {
   "cell_type": "code",
   "execution_count": 30,
   "id": "8d57baa3",
   "metadata": {
    "execution": {
     "iopub.execute_input": "2025-07-24T19:27:47.751461Z",
     "iopub.status.busy": "2025-07-24T19:27:47.749864Z",
     "iopub.status.idle": "2025-07-24T19:27:47.776706Z",
     "shell.execute_reply": "2025-07-24T19:27:47.775493Z"
    },
    "papermill": {
     "duration": 0.041562,
     "end_time": "2025-07-24T19:27:47.779026",
     "exception": false,
     "start_time": "2025-07-24T19:27:47.737464",
     "status": "completed"
    },
    "tags": []
   },
   "outputs": [
    {
     "data": {
      "text/plain": [
       "array([0.60004812, 2.9987975 ])"
      ]
     },
     "execution_count": 30,
     "metadata": {},
     "output_type": "execute_result"
    }
   ],
   "source": [
    "class_weights = compute_class_weight(class_weight='balanced', classes = np.unique(y), y=y)\n",
    "class_weights"
   ]
  },
  {
   "cell_type": "code",
   "execution_count": 31,
   "id": "5ce434a8",
   "metadata": {
    "execution": {
     "iopub.execute_input": "2025-07-24T19:27:47.803944Z",
     "iopub.status.busy": "2025-07-24T19:27:47.803522Z",
     "iopub.status.idle": "2025-07-24T19:27:47.811817Z",
     "shell.execute_reply": "2025-07-24T19:27:47.810802Z"
    },
    "papermill": {
     "duration": 0.023418,
     "end_time": "2025-07-24T19:27:47.813927",
     "exception": false,
     "start_time": "2025-07-24T19:27:47.790509",
     "status": "completed"
    },
    "tags": []
   },
   "outputs": [
    {
     "data": {
      "text/plain": [
       "4.997594997594998"
      ]
     },
     "execution_count": 31,
     "metadata": {},
     "output_type": "execute_result"
    }
   ],
   "source": [
    "y_counts = y.value_counts()\n",
    "scale_pos_weight = y_counts[0]/y_counts[1]\n",
    "scale_pos_weight"
   ]
  },
  {
   "cell_type": "code",
   "execution_count": 32,
   "id": "27b397d2",
   "metadata": {
    "execution": {
     "iopub.execute_input": "2025-07-24T19:27:47.839997Z",
     "iopub.status.busy": "2025-07-24T19:27:47.839347Z",
     "iopub.status.idle": "2025-07-24T19:27:47.844599Z",
     "shell.execute_reply": "2025-07-24T19:27:47.843286Z"
    },
    "papermill": {
     "duration": 0.020691,
     "end_time": "2025-07-24T19:27:47.846912",
     "exception": false,
     "start_time": "2025-07-24T19:27:47.826221",
     "status": "completed"
    },
    "tags": []
   },
   "outputs": [],
   "source": [
    "cols = X.columns"
   ]
  },
  {
   "cell_type": "code",
   "execution_count": 33,
   "id": "3cd9e2d6",
   "metadata": {
    "execution": {
     "iopub.execute_input": "2025-07-24T19:27:47.871922Z",
     "iopub.status.busy": "2025-07-24T19:27:47.871484Z",
     "iopub.status.idle": "2025-07-24T19:27:47.886899Z",
     "shell.execute_reply": "2025-07-24T19:27:47.885785Z"
    },
    "papermill": {
     "duration": 0.030769,
     "end_time": "2025-07-24T19:27:47.889383",
     "exception": false,
     "start_time": "2025-07-24T19:27:47.858614",
     "status": "completed"
    },
    "tags": []
   },
   "outputs": [],
   "source": [
    "training_data = pd.concat([X, y], axis=1)"
   ]
  },
  {
   "cell_type": "code",
   "execution_count": 34,
   "id": "d568dd85",
   "metadata": {
    "execution": {
     "iopub.execute_input": "2025-07-24T19:27:47.913928Z",
     "iopub.status.busy": "2025-07-24T19:27:47.913519Z",
     "iopub.status.idle": "2025-07-24T19:27:47.918235Z",
     "shell.execute_reply": "2025-07-24T19:27:47.916992Z"
    },
    "papermill": {
     "duration": 0.019629,
     "end_time": "2025-07-24T19:27:47.920501",
     "exception": false,
     "start_time": "2025-07-24T19:27:47.900872",
     "status": "completed"
    },
    "tags": []
   },
   "outputs": [],
   "source": [
    "# test[cols] = test[cols].astype(str).astype('category')\n",
    "# training_data[cols] = training_data[cols].astype(str).astype('category')"
   ]
  },
  {
   "cell_type": "code",
   "execution_count": 35,
   "id": "39f5b6c0",
   "metadata": {
    "execution": {
     "iopub.execute_input": "2025-07-24T19:27:47.945191Z",
     "iopub.status.busy": "2025-07-24T19:27:47.944788Z",
     "iopub.status.idle": "2025-07-24T19:27:47.953698Z",
     "shell.execute_reply": "2025-07-24T19:27:47.952586Z"
    },
    "papermill": {
     "duration": 0.024281,
     "end_time": "2025-07-24T19:27:47.956276",
     "exception": false,
     "start_time": "2025-07-24T19:27:47.931995",
     "status": "completed"
    },
    "tags": []
   },
   "outputs": [
    {
     "data": {
      "text/plain": [
       "person_age                    category\n",
       "person_income                    int64\n",
       "person_home_ownership         category\n",
       "person_emp_length             category\n",
       "loan_intent                   category\n",
       "loan_grade                    category\n",
       "loan_amnt                     category\n",
       "loan_int_rate                 category\n",
       "loan_percent_income           category\n",
       "cb_person_default_on_file     category\n",
       "cb_person_cred_hist_length    category\n",
       "loan_to_income                 float64\n",
       "age_income_interaction         float64\n",
       "loan_to_emp_length_ratio       float64\n",
       "monthly_debt                   float64\n",
       "dti_ratio                      float64\n",
       "risk_flag                     category\n",
       "income_to_age_ratio            float64\n",
       "income_stability_flag         category\n",
       "interest_to_loan_ratio         float64\n",
       "employment_stability          category\n",
       "loan_grade_risk_flag          category\n",
       "debt_burden                    float64\n",
       "short_term_loan_flag          category\n",
       "loan_status                      int64\n",
       "dtype: object"
      ]
     },
     "execution_count": 35,
     "metadata": {},
     "output_type": "execute_result"
    }
   ],
   "source": [
    "training_data.dtypes"
   ]
  },
  {
   "cell_type": "code",
   "execution_count": 36,
   "id": "d4ea40c9",
   "metadata": {
    "execution": {
     "iopub.execute_input": "2025-07-24T19:27:47.981523Z",
     "iopub.status.busy": "2025-07-24T19:27:47.980756Z",
     "iopub.status.idle": "2025-07-24T19:27:47.989041Z",
     "shell.execute_reply": "2025-07-24T19:27:47.987945Z"
    },
    "papermill": {
     "duration": 0.023121,
     "end_time": "2025-07-24T19:27:47.991140",
     "exception": false,
     "start_time": "2025-07-24T19:27:47.968019",
     "status": "completed"
    },
    "tags": []
   },
   "outputs": [
    {
     "data": {
      "text/plain": [
       "person_age                    category\n",
       "person_income                    int64\n",
       "person_home_ownership         category\n",
       "person_emp_length             category\n",
       "loan_intent                   category\n",
       "loan_grade                    category\n",
       "loan_amnt                     category\n",
       "loan_int_rate                 category\n",
       "loan_percent_income           category\n",
       "cb_person_default_on_file     category\n",
       "cb_person_cred_hist_length    category\n",
       "loan_to_income                 float64\n",
       "age_income_interaction         float64\n",
       "loan_to_emp_length_ratio       float64\n",
       "monthly_debt                   float64\n",
       "dti_ratio                      float64\n",
       "risk_flag                     category\n",
       "income_to_age_ratio            float64\n",
       "income_stability_flag         category\n",
       "interest_to_loan_ratio         float64\n",
       "employment_stability          category\n",
       "loan_grade_risk_flag          category\n",
       "debt_burden                    float64\n",
       "short_term_loan_flag          category\n",
       "dtype: object"
      ]
     },
     "execution_count": 36,
     "metadata": {},
     "output_type": "execute_result"
    }
   ],
   "source": [
    "test.dtypes"
   ]
  },
  {
   "cell_type": "code",
   "execution_count": 37,
   "id": "e5f6dbdf",
   "metadata": {
    "execution": {
     "iopub.execute_input": "2025-07-24T19:27:48.016966Z",
     "iopub.status.busy": "2025-07-24T19:27:48.016530Z",
     "iopub.status.idle": "2025-07-24T19:27:49.966989Z",
     "shell.execute_reply": "2025-07-24T19:27:49.965567Z"
    },
    "papermill": {
     "duration": 1.966708,
     "end_time": "2025-07-24T19:27:49.970007",
     "exception": false,
     "start_time": "2025-07-24T19:27:48.003299",
     "status": "completed"
    },
    "tags": []
   },
   "outputs": [],
   "source": [
    "training_data.to_csv('training_prepped(encoding_final_boss).csv', index=False)\n",
    "test.to_csv('test_prepped(encoding_final_boss).csv', index=False)"
   ]
  },
  {
   "cell_type": "code",
   "execution_count": 38,
   "id": "6bd73a39",
   "metadata": {
    "execution": {
     "iopub.execute_input": "2025-07-24T19:27:49.996895Z",
     "iopub.status.busy": "2025-07-24T19:27:49.996437Z",
     "iopub.status.idle": "2025-07-24T19:27:50.002969Z",
     "shell.execute_reply": "2025-07-24T19:27:50.001334Z"
    },
    "papermill": {
     "duration": 0.023478,
     "end_time": "2025-07-24T19:27:50.005919",
     "exception": false,
     "start_time": "2025-07-24T19:27:49.982441",
     "status": "completed"
    },
    "tags": []
   },
   "outputs": [],
   "source": [
    "# models = {\n",
    "# #     'cat': cat.CatBoostClassifier(cat_features=cat_cols, verbose=0),\n",
    "# #     'xgb': xgb.XGBClassifier(enable_categorical=True, tree_method='hist', random_state=seed, scale_pos_weight=scale_pos_weight),\n",
    "#      'lgbm': lgb.LGBMClassifier(verbose=0, random_state=seed, class_weight='balanced')\n",
    "#  }"
   ]
  },
  {
   "cell_type": "code",
   "execution_count": 39,
   "id": "3e62055b",
   "metadata": {
    "execution": {
     "iopub.execute_input": "2025-07-24T19:27:50.034142Z",
     "iopub.status.busy": "2025-07-24T19:27:50.033555Z",
     "iopub.status.idle": "2025-07-24T19:27:50.038849Z",
     "shell.execute_reply": "2025-07-24T19:27:50.037647Z"
    },
    "papermill": {
     "duration": 0.0228,
     "end_time": "2025-07-24T19:27:50.041561",
     "exception": false,
     "start_time": "2025-07-24T19:27:50.018761",
     "status": "completed"
    },
    "tags": []
   },
   "outputs": [],
   "source": [
    "# X.columns"
   ]
  },
  {
   "cell_type": "code",
   "execution_count": 40,
   "id": "1c338e0a",
   "metadata": {
    "execution": {
     "iopub.execute_input": "2025-07-24T19:27:50.068828Z",
     "iopub.status.busy": "2025-07-24T19:27:50.068403Z",
     "iopub.status.idle": "2025-07-24T19:27:50.073567Z",
     "shell.execute_reply": "2025-07-24T19:27:50.072342Z"
    },
    "papermill": {
     "duration": 0.021889,
     "end_time": "2025-07-24T19:27:50.075892",
     "exception": false,
     "start_time": "2025-07-24T19:27:50.054003",
     "status": "completed"
    },
    "tags": []
   },
   "outputs": [],
   "source": [
    "# X[feature_names] = X[feature_names].astype('category')"
   ]
  },
  {
   "cell_type": "code",
   "execution_count": 41,
   "id": "7721d607",
   "metadata": {
    "execution": {
     "iopub.execute_input": "2025-07-24T19:27:50.102148Z",
     "iopub.status.busy": "2025-07-24T19:27:50.101760Z",
     "iopub.status.idle": "2025-07-24T19:27:50.107142Z",
     "shell.execute_reply": "2025-07-24T19:27:50.105833Z"
    },
    "papermill": {
     "duration": 0.021684,
     "end_time": "2025-07-24T19:27:50.109642",
     "exception": false,
     "start_time": "2025-07-24T19:27:50.087958",
     "status": "completed"
    },
    "tags": []
   },
   "outputs": [],
   "source": [
    "# def cv_score(models):\n",
    "#     cv_scores = {}\n",
    "#     for name, model in models.items():\n",
    "#             cv_score = cross_val_score(model, X, y, scoring='roc_auc', n_jobs=-1)\n",
    "#             print(f'{name} cv_scores :', cv_score, 'Mean :', cv_score.mean(), 'std :', cv_score.std())\n",
    "            \n",
    "#             model.fit(X, y)\n",
    "            \n",
    "#             if name =='xgb':\n",
    "#                 plt.figure(figsize=(15,15))\n",
    "#                 xgb_plot_tree(model, num_trees=1)\n",
    "#                 plt.title('xgboost trees')\n",
    "#                 plt.show()\n",
    "                \n",
    "#             if name == 'lgbm':\n",
    "#                 plt.figure(figsize=(15,15))\n",
    "#                 lgb_plot_tree(model, tree_index=1, figsize=(15,15))\n",
    "#                 plt.title('lgbm trees')\n",
    "#                 plt.show()\n",
    "            \n",
    "# cv_score(models)"
   ]
  },
  {
   "cell_type": "code",
   "execution_count": 42,
   "id": "4e311d93",
   "metadata": {
    "execution": {
     "iopub.execute_input": "2025-07-24T19:27:50.135826Z",
     "iopub.status.busy": "2025-07-24T19:27:50.135419Z",
     "iopub.status.idle": "2025-07-24T19:27:50.141205Z",
     "shell.execute_reply": "2025-07-24T19:27:50.139883Z"
    },
    "papermill": {
     "duration": 0.021786,
     "end_time": "2025-07-24T19:27:50.143417",
     "exception": false,
     "start_time": "2025-07-24T19:27:50.121631",
     "status": "completed"
    },
    "tags": []
   },
   "outputs": [],
   "source": [
    "# cat_cols = X.select_dtypes(include='category').columns\n",
    "# print(cat_cols)\n",
    "# models = {\n",
    "#      'cat': cat.CatBoostClassifier(cat_features=cat_cols.to_list(), verbose=0, class_weights=class_weights),\n",
    "#      'xgb': xgb.XGBClassifier(enable_categorical=True, scale_pos_weight=scale_pos_weight),\n",
    "#      'lgbm': lgb.LGBMClassifier(verbose=0, categorical_feature=[f'name:{col}' for col in cat_cols.to_list()], class_weight='balanced')\n",
    "#  }\n",
    "# oof_results={}\n",
    "# # test_idx = []\n",
    "# def oof_preds(model_dict=models, n_splits=5):\n",
    "#     test_ids = []\n",
    "#     for name, model in models.items():\n",
    "#         # new_df = pd.DataFrame()\n",
    "#         preds_df = pd.DataFrame(columns=['index', 'loan_status'])\n",
    "#         skf = StratifiedKFold(n_splits=n_splits, random_state=seed, shuffle=True)\n",
    "#         for i, (train_index, test_index) in enumerate(skf.split(X, y)): \n",
    "#             # print('train_index :', len(train_index), 'test_index :', len(test_index))\n",
    "#             # new_df = pd.concat([new_df,X.iloc[test_index]])\n",
    "#             model.fit(X.iloc[train_index], y.iloc[train_index])\n",
    "#             preds = model.predict_proba(X.iloc[test_index])[:,1]\n",
    "#             if name=='lgbm':\n",
    "#                 test_ids.extend(test_index)\n",
    "#             fold_preds = pd.DataFrame({\n",
    "#                 'loan_status': preds\n",
    "#             })\n",
    "#             preds_df = pd.concat([preds_df, fold_preds])\n",
    "#             auc_score = roc_auc_score(y[test_index], preds)\n",
    "#             # print(f'score for fold{i} :', auc_score)\n",
    "#         oof_results[f'oof_{name}'] = preds_df['loan_status'].values\n",
    "#     return test_ids, oof_results\n",
    "# test_ids, oof_results = oof_preds()"
   ]
  },
  {
   "cell_type": "code",
   "execution_count": 43,
   "id": "cb41c258",
   "metadata": {
    "execution": {
     "iopub.execute_input": "2025-07-24T19:27:50.168841Z",
     "iopub.status.busy": "2025-07-24T19:27:50.168444Z",
     "iopub.status.idle": "2025-07-24T19:27:50.173548Z",
     "shell.execute_reply": "2025-07-24T19:27:50.172582Z"
    },
    "papermill": {
     "duration": 0.020612,
     "end_time": "2025-07-24T19:27:50.175860",
     "exception": false,
     "start_time": "2025-07-24T19:27:50.155248",
     "status": "completed"
    },
    "tags": []
   },
   "outputs": [],
   "source": [
    "# def oof_dict_to_df(oof_results):\n",
    "#     df = pd.DataFrame()\n",
    "#     for name, preds in oof_results.items():\n",
    "#         df[name] = preds\n",
    "#     return df\n",
    "# combined_oof_df = oof_dict_to_df(oof_results)"
   ]
  },
  {
   "cell_type": "code",
   "execution_count": 44,
   "id": "e9bda2ee",
   "metadata": {
    "execution": {
     "iopub.execute_input": "2025-07-24T19:27:50.201530Z",
     "iopub.status.busy": "2025-07-24T19:27:50.201133Z",
     "iopub.status.idle": "2025-07-24T19:27:50.206246Z",
     "shell.execute_reply": "2025-07-24T19:27:50.205258Z"
    },
    "papermill": {
     "duration": 0.02048,
     "end_time": "2025-07-24T19:27:50.208523",
     "exception": false,
     "start_time": "2025-07-24T19:27:50.188043",
     "status": "completed"
    },
    "tags": []
   },
   "outputs": [],
   "source": [
    "# combined_oof_df.set_index(pd.Index(test_ids), inplace=True)"
   ]
  },
  {
   "cell_type": "code",
   "execution_count": 45,
   "id": "6e1a9e5a",
   "metadata": {
    "execution": {
     "iopub.execute_input": "2025-07-24T19:27:50.234436Z",
     "iopub.status.busy": "2025-07-24T19:27:50.234015Z",
     "iopub.status.idle": "2025-07-24T19:27:50.239127Z",
     "shell.execute_reply": "2025-07-24T19:27:50.237948Z"
    },
    "papermill": {
     "duration": 0.021337,
     "end_time": "2025-07-24T19:27:50.241657",
     "exception": false,
     "start_time": "2025-07-24T19:27:50.220320",
     "status": "completed"
    },
    "tags": []
   },
   "outputs": [],
   "source": [
    "# combined_oof_df.sort_index(inplace=True)\n",
    "# for cols in combined_oof_df.columns:\n",
    "#     auc_score = roc_auc_score(y, combined_oof_df[cols].values)\n",
    "#     print(f'Score of {cols} :', auc_score)"
   ]
  },
  {
   "cell_type": "code",
   "execution_count": 46,
   "id": "8c2c8239",
   "metadata": {
    "execution": {
     "iopub.execute_input": "2025-07-24T19:27:50.268668Z",
     "iopub.status.busy": "2025-07-24T19:27:50.268266Z",
     "iopub.status.idle": "2025-07-24T19:27:50.273187Z",
     "shell.execute_reply": "2025-07-24T19:27:50.272032Z"
    },
    "papermill": {
     "duration": 0.021108,
     "end_time": "2025-07-24T19:27:50.275642",
     "exception": false,
     "start_time": "2025-07-24T19:27:50.254534",
     "status": "completed"
    },
    "tags": []
   },
   "outputs": [],
   "source": [
    "# trained_models = {}\n",
    "# for name, model in models.items():\n",
    "#     model.fit(X, y) \n",
    "#     trained_models[name] = model "
   ]
  },
  {
   "cell_type": "code",
   "execution_count": 47,
   "id": "6f1bbf75",
   "metadata": {
    "execution": {
     "iopub.execute_input": "2025-07-24T19:27:50.302343Z",
     "iopub.status.busy": "2025-07-24T19:27:50.301953Z",
     "iopub.status.idle": "2025-07-24T19:27:50.306807Z",
     "shell.execute_reply": "2025-07-24T19:27:50.305856Z"
    },
    "papermill": {
     "duration": 0.020684,
     "end_time": "2025-07-24T19:27:50.309249",
     "exception": false,
     "start_time": "2025-07-24T19:27:50.288565",
     "status": "completed"
    },
    "tags": []
   },
   "outputs": [],
   "source": [
    "# lgbm_model = lgb.LGBMClassifier()\n",
    "# lgbm_model.fit(combined_oof_df, y)"
   ]
  },
  {
   "cell_type": "code",
   "execution_count": 48,
   "id": "de7caa85",
   "metadata": {
    "execution": {
     "iopub.execute_input": "2025-07-24T19:27:50.334538Z",
     "iopub.status.busy": "2025-07-24T19:27:50.334159Z",
     "iopub.status.idle": "2025-07-24T19:27:50.338911Z",
     "shell.execute_reply": "2025-07-24T19:27:50.337956Z"
    },
    "papermill": {
     "duration": 0.019975,
     "end_time": "2025-07-24T19:27:50.341121",
     "exception": false,
     "start_time": "2025-07-24T19:27:50.321146",
     "status": "completed"
    },
    "tags": []
   },
   "outputs": [],
   "source": [
    "# def oof_preds_test(test, model_dict=trained_models):\n",
    "#     df = pd.DataFrame()\n",
    "#     for name, model in models.items():\n",
    "#         preds = model.predict_proba(test)[:,1]\n",
    "#         df[f'oof_{name}'] = preds\n",
    "#     return df"
   ]
  },
  {
   "cell_type": "code",
   "execution_count": 49,
   "id": "117dda31",
   "metadata": {
    "execution": {
     "iopub.execute_input": "2025-07-24T19:27:50.366722Z",
     "iopub.status.busy": "2025-07-24T19:27:50.366072Z",
     "iopub.status.idle": "2025-07-24T19:27:50.370928Z",
     "shell.execute_reply": "2025-07-24T19:27:50.369853Z"
    },
    "papermill": {
     "duration": 0.020311,
     "end_time": "2025-07-24T19:27:50.373183",
     "exception": false,
     "start_time": "2025-07-24T19:27:50.352872",
     "status": "completed"
    },
    "tags": []
   },
   "outputs": [],
   "source": [
    "# test_oof_df = oof_preds_test(test)\n",
    "# test_oof_df.to_csv('tets_oof_df.csv', index=False)"
   ]
  },
  {
   "cell_type": "code",
   "execution_count": 50,
   "id": "022a6642",
   "metadata": {
    "execution": {
     "iopub.execute_input": "2025-07-24T19:27:50.398594Z",
     "iopub.status.busy": "2025-07-24T19:27:50.398224Z",
     "iopub.status.idle": "2025-07-24T19:27:50.403289Z",
     "shell.execute_reply": "2025-07-24T19:27:50.402227Z"
    },
    "papermill": {
     "duration": 0.020819,
     "end_time": "2025-07-24T19:27:50.405936",
     "exception": false,
     "start_time": "2025-07-24T19:27:50.385117",
     "status": "completed"
    },
    "tags": []
   },
   "outputs": [],
   "source": [
    "# test_preds = lgbm_model.predict_proba(test_oof_df)[:,1]"
   ]
  },
  {
   "cell_type": "code",
   "execution_count": 51,
   "id": "94ec5ab3",
   "metadata": {
    "execution": {
     "iopub.execute_input": "2025-07-24T19:27:50.430945Z",
     "iopub.status.busy": "2025-07-24T19:27:50.430528Z",
     "iopub.status.idle": "2025-07-24T19:27:50.435389Z",
     "shell.execute_reply": "2025-07-24T19:27:50.434245Z"
    },
    "papermill": {
     "duration": 0.020421,
     "end_time": "2025-07-24T19:27:50.438113",
     "exception": false,
     "start_time": "2025-07-24T19:27:50.417692",
     "status": "completed"
    },
    "tags": []
   },
   "outputs": [],
   "source": [
    "# idx_df = pd.read_csv('/kaggle/input/playground-series-s4e10/test.csv')"
   ]
  },
  {
   "cell_type": "code",
   "execution_count": 52,
   "id": "8b232d1c",
   "metadata": {
    "execution": {
     "iopub.execute_input": "2025-07-24T19:27:50.465754Z",
     "iopub.status.busy": "2025-07-24T19:27:50.465347Z",
     "iopub.status.idle": "2025-07-24T19:27:50.470793Z",
     "shell.execute_reply": "2025-07-24T19:27:50.469415Z"
    },
    "papermill": {
     "duration": 0.021757,
     "end_time": "2025-07-24T19:27:50.473252",
     "exception": false,
     "start_time": "2025-07-24T19:27:50.451495",
     "status": "completed"
    },
    "tags": []
   },
   "outputs": [],
   "source": [
    "# idx = idx_df['id']"
   ]
  },
  {
   "cell_type": "code",
   "execution_count": 53,
   "id": "daaa2bf3",
   "metadata": {
    "execution": {
     "iopub.execute_input": "2025-07-24T19:27:50.499265Z",
     "iopub.status.busy": "2025-07-24T19:27:50.498898Z",
     "iopub.status.idle": "2025-07-24T19:27:50.503560Z",
     "shell.execute_reply": "2025-07-24T19:27:50.502470Z"
    },
    "papermill": {
     "duration": 0.020008,
     "end_time": "2025-07-24T19:27:50.505777",
     "exception": false,
     "start_time": "2025-07-24T19:27:50.485769",
     "status": "completed"
    },
    "tags": []
   },
   "outputs": [],
   "source": [
    "# submission_df = pd.DataFrame({\n",
    "#     'id':idx,\n",
    "#     'loan_status':test_preds\n",
    "# })\n",
    "# submission_df.to_csv('submission.csv', index=False)"
   ]
  },
  {
   "cell_type": "code",
   "execution_count": 54,
   "id": "e44f15ba",
   "metadata": {
    "execution": {
     "iopub.execute_input": "2025-07-24T19:27:50.531111Z",
     "iopub.status.busy": "2025-07-24T19:27:50.530704Z",
     "iopub.status.idle": "2025-07-24T19:27:50.535885Z",
     "shell.execute_reply": "2025-07-24T19:27:50.534534Z"
    },
    "papermill": {
     "duration": 0.020662,
     "end_time": "2025-07-24T19:27:50.538208",
     "exception": false,
     "start_time": "2025-07-24T19:27:50.517546",
     "status": "completed"
    },
    "tags": []
   },
   "outputs": [],
   "source": [
    "# submission_df"
   ]
  },
  {
   "cell_type": "code",
   "execution_count": 55,
   "id": "27a27f33",
   "metadata": {
    "execution": {
     "iopub.execute_input": "2025-07-24T19:27:50.563783Z",
     "iopub.status.busy": "2025-07-24T19:27:50.563355Z",
     "iopub.status.idle": "2025-07-24T19:27:50.568638Z",
     "shell.execute_reply": "2025-07-24T19:27:50.567458Z"
    },
    "papermill": {
     "duration": 0.021122,
     "end_time": "2025-07-24T19:27:50.571107",
     "exception": false,
     "start_time": "2025-07-24T19:27:50.549985",
     "status": "completed"
    },
    "tags": []
   },
   "outputs": [],
   "source": [
    "# combined_oof_df = pd.concat([combined_oof_df, y], axis=1)"
   ]
  },
  {
   "cell_type": "code",
   "execution_count": 56,
   "id": "e504b0a8",
   "metadata": {
    "execution": {
     "iopub.execute_input": "2025-07-24T19:27:50.598625Z",
     "iopub.status.busy": "2025-07-24T19:27:50.598207Z",
     "iopub.status.idle": "2025-07-24T19:27:50.603529Z",
     "shell.execute_reply": "2025-07-24T19:27:50.602333Z"
    },
    "papermill": {
     "duration": 0.021899,
     "end_time": "2025-07-24T19:27:50.605885",
     "exception": false,
     "start_time": "2025-07-24T19:27:50.583986",
     "status": "completed"
    },
    "tags": []
   },
   "outputs": [],
   "source": [
    "# combined_oof_df.to_csv('combined_oof')"
   ]
  },
  {
   "cell_type": "code",
   "execution_count": null,
   "id": "5414b396",
   "metadata": {
    "papermill": {
     "duration": 0.012446,
     "end_time": "2025-07-24T19:27:50.630298",
     "exception": false,
     "start_time": "2025-07-24T19:27:50.617852",
     "status": "completed"
    },
    "tags": []
   },
   "outputs": [],
   "source": []
  }
 ],
 "metadata": {
  "kaggle": {
   "accelerator": "none",
   "dataSources": [
    {
     "databundleVersionId": 9709193,
     "sourceId": 84894,
     "sourceType": "competition"
    },
    {
     "datasetId": 4675026,
     "sourceId": 7949759,
     "sourceType": "datasetVersion"
    }
   ],
   "dockerImageVersionId": 30775,
   "isGpuEnabled": false,
   "isInternetEnabled": true,
   "language": "python",
   "sourceType": "notebook"
  },
  "kernelspec": {
   "display_name": "Python 3",
   "language": "python",
   "name": "python3"
  },
  "language_info": {
   "codemirror_mode": {
    "name": "ipython",
    "version": 3
   },
   "file_extension": ".py",
   "mimetype": "text/x-python",
   "name": "python",
   "nbconvert_exporter": "python",
   "pygments_lexer": "ipython3",
   "version": "3.10.14"
  },
  "papermill": {
   "default_parameters": {},
   "duration": 14.10497,
   "end_time": "2025-07-24T19:27:51.465046",
   "environment_variables": {},
   "exception": null,
   "input_path": "__notebook__.ipynb",
   "output_path": "__notebook__.ipynb",
   "parameters": {},
   "start_time": "2025-07-24T19:27:37.360076",
   "version": "2.6.0"
  }
 },
 "nbformat": 4,
 "nbformat_minor": 5
}
