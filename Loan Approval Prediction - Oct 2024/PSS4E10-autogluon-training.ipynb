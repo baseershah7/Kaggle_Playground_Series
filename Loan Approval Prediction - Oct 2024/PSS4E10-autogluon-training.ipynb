{
 "cells": [
  {
   "cell_type": "code",
   "execution_count": 1,
   "id": "af9245a6",
   "metadata": {
    "_cell_guid": "b1076dfc-b9ad-4769-8c92-a6c4dae69d19",
    "_uuid": "8f2839f25d086af736a60e9eeb907d3b93b6e0e5",
    "execution": {
     "iopub.execute_input": "2024-10-22T14:11:34.370269Z",
     "iopub.status.busy": "2024-10-22T14:11:34.369843Z",
     "iopub.status.idle": "2024-10-22T14:11:35.450476Z",
     "shell.execute_reply": "2024-10-22T14:11:35.449346Z"
    },
    "papermill": {
     "duration": 1.090865,
     "end_time": "2024-10-22T14:11:35.453324",
     "exception": false,
     "start_time": "2024-10-22T14:11:34.362459",
     "status": "completed"
    },
    "tags": []
   },
   "outputs": [
    {
     "name": "stdout",
     "output_type": "stream",
     "text": [
      "/kaggle/input/all-category-dtypemore-new-features/training_data.csv\n",
      "/kaggle/input/playground-series-s4e10/sample_submission.csv\n",
      "/kaggle/input/playground-series-s4e10/train.csv\n",
      "/kaggle/input/playground-series-s4e10/test.csv\n"
     ]
    }
   ],
   "source": [
    "# This Python 3 environment comes with many helpful analytics libraries installed\n",
    "# It is defined by the kaggle/python Docker image: https://github.com/kaggle/docker-python\n",
    "# For example, here's several helpful packages to load\n",
    "\n",
    "import numpy as np # linear algebra\n",
    "import pandas as pd # data processing, CSV file I/O (e.g. pd.read_csv)\n",
    "\n",
    "# Input data files are available in the read-only \"../input/\" directory\n",
    "# For example, running this (by clicking run or pressing Shift+Enter) will list all files under the input directory\n",
    "\n",
    "import os\n",
    "for dirname, _, filenames in os.walk('/kaggle/input'):\n",
    "    for filename in filenames:\n",
    "        print(os.path.join(dirname, filename))\n",
    "\n",
    "# You can write up to 20GB to the current directory (/kaggle/working/) that gets preserved as output when you create a version using \"Save & Run All\" \n",
    "# You can also write temporary files to /kaggle/temp/, but they won't be saved outside of the current session"
   ]
  },
  {
   "cell_type": "code",
   "execution_count": 2,
   "id": "9a33500d",
   "metadata": {
    "execution": {
     "iopub.execute_input": "2024-10-22T14:11:35.464678Z",
     "iopub.status.busy": "2024-10-22T14:11:35.463989Z",
     "iopub.status.idle": "2024-10-22T14:12:18.272344Z",
     "shell.execute_reply": "2024-10-22T14:12:18.270827Z"
    },
    "papermill": {
     "duration": 42.817527,
     "end_time": "2024-10-22T14:12:18.275544",
     "exception": false,
     "start_time": "2024-10-22T14:11:35.458017",
     "status": "completed"
    },
    "tags": []
   },
   "outputs": [
    {
     "name": "stdout",
     "output_type": "stream",
     "text": [
      "Collecting autogluon.tabular[0]\r\n",
      "  Downloading autogluon.tabular-1.1.1-py3-none-any.whl.metadata (13 kB)\r\n",
      "\u001b[33mWARNING: autogluon-tabular 1.1.1 does not provide the extra '0'\u001b[0m\u001b[33m\r\n",
      "\u001b[0mRequirement already satisfied: numpy<1.29,>=1.21 in /opt/conda/lib/python3.10/site-packages (from autogluon.tabular[0]) (1.26.4)\r\n",
      "Collecting scipy<1.13,>=1.5.4 (from autogluon.tabular[0])\r\n",
      "  Downloading scipy-1.12.0-cp310-cp310-manylinux_2_17_x86_64.manylinux2014_x86_64.whl.metadata (60 kB)\r\n",
      "\u001b[2K     \u001b[90m━━━━━━━━━━━━━━━━━━━━━━━━━━━━━━━━━━━━━━━━\u001b[0m \u001b[32m60.4/60.4 kB\u001b[0m \u001b[31m1.6 MB/s\u001b[0m eta \u001b[36m0:00:00\u001b[0m\r\n",
      "\u001b[?25hRequirement already satisfied: pandas<2.3.0,>=2.0.0 in /opt/conda/lib/python3.10/site-packages (from autogluon.tabular[0]) (2.2.3)\r\n",
      "Collecting scikit-learn<1.4.1,>=1.3.0 (from autogluon.tabular[0])\r\n",
      "  Downloading scikit_learn-1.4.0-1-cp310-cp310-manylinux_2_17_x86_64.manylinux2014_x86_64.whl.metadata (11 kB)\r\n",
      "Requirement already satisfied: networkx<4,>=3.0 in /opt/conda/lib/python3.10/site-packages (from autogluon.tabular[0]) (3.3)\r\n",
      "Collecting autogluon.core==1.1.1 (from autogluon.tabular[0])\r\n",
      "  Downloading autogluon.core-1.1.1-py3-none-any.whl.metadata (11 kB)\r\n",
      "Collecting autogluon.features==1.1.1 (from autogluon.tabular[0])\r\n",
      "  Downloading autogluon.features-1.1.1-py3-none-any.whl.metadata (11 kB)\r\n",
      "Requirement already satisfied: tqdm<5,>=4.38 in /opt/conda/lib/python3.10/site-packages (from autogluon.core==1.1.1->autogluon.tabular[0]) (4.66.4)\r\n",
      "Requirement already satisfied: requests in /opt/conda/lib/python3.10/site-packages (from autogluon.core==1.1.1->autogluon.tabular[0]) (2.32.3)\r\n",
      "Requirement already satisfied: matplotlib in /opt/conda/lib/python3.10/site-packages (from autogluon.core==1.1.1->autogluon.tabular[0]) (3.7.5)\r\n",
      "Requirement already satisfied: boto3<2,>=1.10 in /opt/conda/lib/python3.10/site-packages (from autogluon.core==1.1.1->autogluon.tabular[0]) (1.26.100)\r\n",
      "Collecting autogluon.common==1.1.1 (from autogluon.core==1.1.1->autogluon.tabular[0])\r\n",
      "  Downloading autogluon.common-1.1.1-py3-none-any.whl.metadata (11 kB)\r\n",
      "Requirement already satisfied: psutil<6,>=5.7.3 in /opt/conda/lib/python3.10/site-packages (from autogluon.common==1.1.1->autogluon.core==1.1.1->autogluon.tabular[0]) (5.9.3)\r\n",
      "Requirement already satisfied: setuptools in /opt/conda/lib/python3.10/site-packages (from autogluon.common==1.1.1->autogluon.core==1.1.1->autogluon.tabular[0]) (70.0.0)\r\n",
      "Requirement already satisfied: python-dateutil>=2.8.2 in /opt/conda/lib/python3.10/site-packages (from pandas<2.3.0,>=2.0.0->autogluon.tabular[0]) (2.9.0.post0)\r\n",
      "Requirement already satisfied: pytz>=2020.1 in /opt/conda/lib/python3.10/site-packages (from pandas<2.3.0,>=2.0.0->autogluon.tabular[0]) (2024.1)\r\n",
      "Requirement already satisfied: tzdata>=2022.7 in /opt/conda/lib/python3.10/site-packages (from pandas<2.3.0,>=2.0.0->autogluon.tabular[0]) (2024.1)\r\n",
      "Requirement already satisfied: joblib>=1.2.0 in /opt/conda/lib/python3.10/site-packages (from scikit-learn<1.4.1,>=1.3.0->autogluon.tabular[0]) (1.4.2)\r\n",
      "Requirement already satisfied: threadpoolctl>=2.0.0 in /opt/conda/lib/python3.10/site-packages (from scikit-learn<1.4.1,>=1.3.0->autogluon.tabular[0]) (3.5.0)\r\n",
      "Collecting botocore<1.30.0,>=1.29.100 (from boto3<2,>=1.10->autogluon.core==1.1.1->autogluon.tabular[0])\r\n",
      "  Downloading botocore-1.29.165-py3-none-any.whl.metadata (5.9 kB)\r\n",
      "Requirement already satisfied: jmespath<2.0.0,>=0.7.1 in /opt/conda/lib/python3.10/site-packages (from boto3<2,>=1.10->autogluon.core==1.1.1->autogluon.tabular[0]) (1.0.1)\r\n",
      "Requirement already satisfied: s3transfer<0.7.0,>=0.6.0 in /opt/conda/lib/python3.10/site-packages (from boto3<2,>=1.10->autogluon.core==1.1.1->autogluon.tabular[0]) (0.6.2)\r\n",
      "Requirement already satisfied: six>=1.5 in /opt/conda/lib/python3.10/site-packages (from python-dateutil>=2.8.2->pandas<2.3.0,>=2.0.0->autogluon.tabular[0]) (1.16.0)\r\n",
      "Requirement already satisfied: contourpy>=1.0.1 in /opt/conda/lib/python3.10/site-packages (from matplotlib->autogluon.core==1.1.1->autogluon.tabular[0]) (1.2.1)\r\n",
      "Requirement already satisfied: cycler>=0.10 in /opt/conda/lib/python3.10/site-packages (from matplotlib->autogluon.core==1.1.1->autogluon.tabular[0]) (0.12.1)\r\n",
      "Requirement already satisfied: fonttools>=4.22.0 in /opt/conda/lib/python3.10/site-packages (from matplotlib->autogluon.core==1.1.1->autogluon.tabular[0]) (4.53.0)\r\n",
      "Requirement already satisfied: kiwisolver>=1.0.1 in /opt/conda/lib/python3.10/site-packages (from matplotlib->autogluon.core==1.1.1->autogluon.tabular[0]) (1.4.5)\r\n",
      "Requirement already satisfied: packaging>=20.0 in /opt/conda/lib/python3.10/site-packages (from matplotlib->autogluon.core==1.1.1->autogluon.tabular[0]) (21.3)\r\n",
      "Requirement already satisfied: pillow>=6.2.0 in /opt/conda/lib/python3.10/site-packages (from matplotlib->autogluon.core==1.1.1->autogluon.tabular[0]) (10.3.0)\r\n",
      "Requirement already satisfied: pyparsing>=2.3.1 in /opt/conda/lib/python3.10/site-packages (from matplotlib->autogluon.core==1.1.1->autogluon.tabular[0]) (3.1.2)\r\n",
      "Requirement already satisfied: charset-normalizer<4,>=2 in /opt/conda/lib/python3.10/site-packages (from requests->autogluon.core==1.1.1->autogluon.tabular[0]) (3.3.2)\r\n",
      "Requirement already satisfied: idna<4,>=2.5 in /opt/conda/lib/python3.10/site-packages (from requests->autogluon.core==1.1.1->autogluon.tabular[0]) (3.7)\r\n",
      "Requirement already satisfied: urllib3<3,>=1.21.1 in /opt/conda/lib/python3.10/site-packages (from requests->autogluon.core==1.1.1->autogluon.tabular[0]) (1.26.18)\r\n",
      "Requirement already satisfied: certifi>=2017.4.17 in /opt/conda/lib/python3.10/site-packages (from requests->autogluon.core==1.1.1->autogluon.tabular[0]) (2024.8.30)\r\n",
      "Downloading autogluon.core-1.1.1-py3-none-any.whl (234 kB)\r\n",
      "\u001b[2K   \u001b[90m━━━━━━━━━━━━━━━━━━━━━━━━━━━━━━━━━━━━━━━━\u001b[0m \u001b[32m234.8/234.8 kB\u001b[0m \u001b[31m5.6 MB/s\u001b[0m eta \u001b[36m0:00:00\u001b[0m\r\n",
      "\u001b[?25hDownloading autogluon.features-1.1.1-py3-none-any.whl (63 kB)\r\n",
      "\u001b[2K   \u001b[90m━━━━━━━━━━━━━━━━━━━━━━━━━━━━━━━━━━━━━━━━\u001b[0m \u001b[32m63.4/63.4 kB\u001b[0m \u001b[31m3.2 MB/s\u001b[0m eta \u001b[36m0:00:00\u001b[0m\r\n",
      "\u001b[?25hDownloading autogluon.common-1.1.1-py3-none-any.whl (64 kB)\r\n",
      "\u001b[2K   \u001b[90m━━━━━━━━━━━━━━━━━━━━━━━━━━━━━━━━━━━━━━━━\u001b[0m \u001b[32m64.6/64.6 kB\u001b[0m \u001b[31m3.2 MB/s\u001b[0m eta \u001b[36m0:00:00\u001b[0m\r\n",
      "\u001b[?25hDownloading scikit_learn-1.4.0-1-cp310-cp310-manylinux_2_17_x86_64.manylinux2014_x86_64.whl (12.1 MB)\r\n",
      "\u001b[2K   \u001b[90m━━━━━━━━━━━━━━━━━━━━━━━━━━━━━━━━━━━━━━━━\u001b[0m \u001b[32m12.1/12.1 MB\u001b[0m \u001b[31m68.7 MB/s\u001b[0m eta \u001b[36m0:00:00\u001b[0m\r\n",
      "\u001b[?25hDownloading scipy-1.12.0-cp310-cp310-manylinux_2_17_x86_64.manylinux2014_x86_64.whl (38.4 MB)\r\n",
      "\u001b[2K   \u001b[90m━━━━━━━━━━━━━━━━━━━━━━━━━━━━━━━━━━━━━━━━\u001b[0m \u001b[32m38.4/38.4 MB\u001b[0m \u001b[31m36.5 MB/s\u001b[0m eta \u001b[36m0:00:00\u001b[0m\r\n",
      "\u001b[?25hDownloading autogluon.tabular-1.1.1-py3-none-any.whl (312 kB)\r\n",
      "\u001b[2K   \u001b[90m━━━━━━━━━━━━━━━━━━━━━━━━━━━━━━━━━━━━━━━━\u001b[0m \u001b[32m312.1/312.1 kB\u001b[0m \u001b[31m14.2 MB/s\u001b[0m eta \u001b[36m0:00:00\u001b[0m\r\n",
      "\u001b[?25hDownloading botocore-1.29.165-py3-none-any.whl (11.0 MB)\r\n",
      "\u001b[2K   \u001b[90m━━━━━━━━━━━━━━━━━━━━━━━━━━━━━━━━━━━━━━━━\u001b[0m \u001b[32m11.0/11.0 MB\u001b[0m \u001b[31m73.1 MB/s\u001b[0m eta \u001b[36m0:00:00\u001b[0m\r\n",
      "\u001b[?25hInstalling collected packages: scipy, scikit-learn, botocore, autogluon.common, autogluon.features, autogluon.core, autogluon.tabular\r\n",
      "  Attempting uninstall: scipy\r\n",
      "    Found existing installation: scipy 1.14.1\r\n",
      "    Uninstalling scipy-1.14.1:\r\n",
      "      Successfully uninstalled scipy-1.14.1\r\n",
      "  Attempting uninstall: scikit-learn\r\n",
      "    Found existing installation: scikit-learn 1.2.2\r\n",
      "    Uninstalling scikit-learn-1.2.2:\r\n",
      "      Successfully uninstalled scikit-learn-1.2.2\r\n",
      "  Attempting uninstall: botocore\r\n",
      "    Found existing installation: botocore 1.35.23\r\n",
      "    Uninstalling botocore-1.35.23:\r\n",
      "      Successfully uninstalled botocore-1.35.23\r\n",
      "\u001b[31mERROR: pip's dependency resolver does not currently take into account all the packages that are installed. This behaviour is the source of the following dependency conflicts.\r\n",
      "aiobotocore 2.15.1 requires botocore<1.35.24,>=1.35.16, but you have botocore 1.29.165 which is incompatible.\r\n",
      "bigframes 0.22.0 requires google-cloud-bigquery[bqstorage,pandas]>=3.10.0, but you have google-cloud-bigquery 2.34.4 which is incompatible.\r\n",
      "bigframes 0.22.0 requires google-cloud-storage>=2.0.0, but you have google-cloud-storage 1.44.0 which is incompatible.\r\n",
      "bigframes 0.22.0 requires pandas<2.1.4,>=1.5.0, but you have pandas 2.2.3 which is incompatible.\r\n",
      "cesium 0.12.3 requires numpy<3.0,>=2.0, but you have numpy 1.26.4 which is incompatible.\r\n",
      "dataproc-jupyter-plugin 0.1.79 requires pydantic~=1.10.0, but you have pydantic 2.9.2 which is incompatible.\r\n",
      "libpysal 4.9.2 requires packaging>=22, but you have packaging 21.3 which is incompatible.\r\n",
      "libpysal 4.9.2 requires shapely>=2.0.1, but you have shapely 1.8.5.post1 which is incompatible.\r\n",
      "tsfresh 0.20.3 requires scipy>=1.14.0; python_version >= \"3.10\", but you have scipy 1.12.0 which is incompatible.\u001b[0m\u001b[31m\r\n",
      "\u001b[0mSuccessfully installed autogluon.common-1.1.1 autogluon.core-1.1.1 autogluon.features-1.1.1 autogluon.tabular-1.1.1 botocore-1.29.165 scikit-learn-1.4.0 scipy-1.12.0\r\n"
     ]
    }
   ],
   "source": [
    "!pip install autogluon.tabular[0]"
   ]
  },
  {
   "cell_type": "code",
   "execution_count": 3,
   "id": "0c829854",
   "metadata": {
    "execution": {
     "iopub.execute_input": "2024-10-22T14:12:18.297861Z",
     "iopub.status.busy": "2024-10-22T14:12:18.296811Z",
     "iopub.status.idle": "2024-10-22T14:12:19.522635Z",
     "shell.execute_reply": "2024-10-22T14:12:19.521259Z"
    },
    "papermill": {
     "duration": 1.240609,
     "end_time": "2024-10-22T14:12:19.525863",
     "exception": false,
     "start_time": "2024-10-22T14:12:18.285254",
     "status": "completed"
    },
    "tags": []
   },
   "outputs": [
    {
     "name": "stdout",
     "output_type": "stream",
     "text": [
      "scale_pos_weight: 4.997594997594998\n"
     ]
    }
   ],
   "source": [
    "from sklearn.utils.class_weight import compute_class_weight\n",
    "\n",
    "train = pd.read_csv('/kaggle/input/all-category-dtypemore-new-features/training_data.csv')\n",
    "y = train['loan_status']\n",
    "\n",
    "class_weights = compute_class_weight(class_weight='balanced', classes=np.unique(y), y=y)\n",
    "negative_class_count = np.sum(y == 0)\n",
    "positive_class_count = np.sum(y == 1)\n",
    "\n",
    "scale_pos_weight = negative_class_count / positive_class_count\n",
    "print(\"scale_pos_weight:\", scale_pos_weight)"
   ]
  },
  {
   "cell_type": "code",
   "execution_count": 4,
   "id": "7a04c9da",
   "metadata": {
    "execution": {
     "iopub.execute_input": "2024-10-22T14:12:19.548721Z",
     "iopub.status.busy": "2024-10-22T14:12:19.546875Z",
     "iopub.status.idle": "2024-10-22T14:12:21.229004Z",
     "shell.execute_reply": "2024-10-22T14:12:21.227288Z"
    },
    "papermill": {
     "duration": 1.69624,
     "end_time": "2024-10-22T14:12:21.231751",
     "exception": false,
     "start_time": "2024-10-22T14:12:19.535511",
     "status": "completed"
    },
    "tags": []
   },
   "outputs": [
    {
     "name": "stderr",
     "output_type": "stream",
     "text": [
      "Loaded data from: /kaggle/input/playground-series-s4e10/train.csv | Columns = 13 / 13 | Rows = 58645 -> 58645\n",
      "No path specified. Models will be saved in: \"AutogluonModels/ag-20241022_141221\"\n"
     ]
    }
   ],
   "source": [
    "from autogluon.tabular import TabularDataset, TabularPredictor\n",
    "\n",
    "tabular_df = TabularDataset('/kaggle/input/playground-series-s4e10/train.csv')\n",
    "label = 'loan_status'\n",
    "features = ['person_age', 'person_income', 'person_home_ownership',\n",
    "            'person_emp_length', 'loan_intent', 'loan_grade', 'loan_amnt',\n",
    "            'loan_int_rate', 'loan_percent_income', 'cb_person_default_on_file',\n",
    "            'cb_person_cred_hist_length']\n",
    "aml = TabularPredictor(label=label, eval_metric='roc_auc', problem_type='binary')"
   ]
  },
  {
   "cell_type": "code",
   "execution_count": 5,
   "id": "dbe1d947",
   "metadata": {
    "execution": {
     "iopub.execute_input": "2024-10-22T14:12:21.254075Z",
     "iopub.status.busy": "2024-10-22T14:12:21.253553Z",
     "iopub.status.idle": "2024-10-22T14:41:45.168887Z",
     "shell.execute_reply": "2024-10-22T14:41:45.167661Z"
    },
    "papermill": {
     "duration": 1763.930024,
     "end_time": "2024-10-22T14:41:45.171876",
     "exception": false,
     "start_time": "2024-10-22T14:12:21.241852",
     "status": "completed"
    },
    "tags": []
   },
   "outputs": [
    {
     "name": "stderr",
     "output_type": "stream",
     "text": [
      "Verbosity: 2 (Standard Logging)\n",
      "=================== System Info ===================\n",
      "AutoGluon Version:  1.1.1\n",
      "Python Version:     3.10.14\n",
      "Operating System:   Linux\n",
      "Platform Machine:   x86_64\n",
      "Platform Version:   #1 SMP Thu Jun 27 20:43:36 UTC 2024\n",
      "CPU Count:          4\n",
      "Memory Avail:       30.28 GB / 31.36 GB (96.6%)\n",
      "Disk Space Avail:   19.50 GB / 19.52 GB (99.9%)\n",
      "===================================================\n",
      "Presets specified: ['best_quality']\n",
      "Setting dynamic_stacking from 'auto' to True. Reason: Enable dynamic_stacking when use_bag_holdout is disabled. (use_bag_holdout=False)\n",
      "Stack configuration (auto_stack=True): num_stack_levels=1, num_bag_folds=8, num_bag_sets=1\n",
      "DyStack is enabled (dynamic_stacking=True). AutoGluon will try to determine whether the input data is affected by stacked overfitting and enable or disable stacking as a consequence.\n",
      "\tThis is used to identify the optimal `num_stack_levels` value. Copies of AutoGluon will be fit on subsets of the data. Then holdout validation data is used to detect stacked overfitting.\n",
      "\tRunning DyStack for up to 9900s of the 39600s of remaining time (25%).\n",
      "2024-10-22 14:12:22,383\tINFO util.py:124 -- Outdated packages:\n",
      "  ipywidgets==7.7.1 found, needs ipywidgets>=8\n",
      "Run `pip install -U ipywidgets`, then restart the notebook server for rich notebook output.\n",
      "/opt/conda/lib/python3.10/site-packages/autogluon/tabular/predictor/predictor.py:1242: UserWarning: Failed to use ray for memory safe fits. Falling back to normal fit. Error: ValueError('ray==2.24.0 detected. 2.10.0 <= ray < 2.11.0 is required. You can use pip to install certain version of ray `pip install ray==2.10.0` ')\n",
      "  stacked_overfitting = self._sub_fit_memory_save_wrapper(\n",
      "\t\tContext path: \"AutogluonModels/ag-20241022_141221/ds_sub_fit/sub_fit_ho\"\n",
      "Running DyStack sub-fit ...\n",
      "Beginning AutoGluon training ... Time limit = 9899s\n",
      "AutoGluon will save models to \"AutogluonModels/ag-20241022_141221/ds_sub_fit/sub_fit_ho\"\n",
      "Train Data Rows:    52128\n",
      "Train Data Columns: 12\n",
      "Label Column:       loan_status\n",
      "Problem Type:       binary\n",
      "Preprocessing data ...\n",
      "Selected class <--> label mapping:  class 1 = 1, class 0 = 0\n",
      "Using Feature Generators to preprocess the data ...\n",
      "Fitting AutoMLPipelineFeatureGenerator...\n",
      "\tAvailable Memory:                    31011.07 MB\n",
      "\tTrain Data (Original)  Memory Usage: 15.39 MB (0.0% of available memory)\n",
      "\tInferring data type of each feature based on column values. Set feature_metadata_in to manually specify special dtypes of the features.\n",
      "\tStage 1 Generators:\n",
      "\t\tFitting AsTypeFeatureGenerator...\n",
      "\t\t\tNote: Converting 1 features to boolean dtype as they only contain 2 unique values.\n",
      "\tStage 2 Generators:\n",
      "\t\tFitting FillNaFeatureGenerator...\n",
      "\tStage 3 Generators:\n",
      "\t\tFitting IdentityFeatureGenerator...\n",
      "\t\tFitting CategoryFeatureGenerator...\n",
      "\t\t\tFitting CategoryMemoryMinimizeFeatureGenerator...\n",
      "\tStage 4 Generators:\n",
      "\t\tFitting DropUniqueFeatureGenerator...\n",
      "\tStage 5 Generators:\n",
      "\t\tFitting DropDuplicatesFeatureGenerator...\n",
      "\tTypes of features in original data (raw dtype, special dtypes):\n",
      "\t\t('float', [])  : 3 | ['person_emp_length', 'loan_int_rate', 'loan_percent_income']\n",
      "\t\t('int', [])    : 5 | ['id', 'person_age', 'person_income', 'loan_amnt', 'cb_person_cred_hist_length']\n",
      "\t\t('object', []) : 4 | ['person_home_ownership', 'loan_intent', 'loan_grade', 'cb_person_default_on_file']\n",
      "\tTypes of features in processed data (raw dtype, special dtypes):\n",
      "\t\t('category', [])  : 3 | ['person_home_ownership', 'loan_intent', 'loan_grade']\n",
      "\t\t('float', [])     : 3 | ['person_emp_length', 'loan_int_rate', 'loan_percent_income']\n",
      "\t\t('int', [])       : 5 | ['id', 'person_age', 'person_income', 'loan_amnt', 'cb_person_cred_hist_length']\n",
      "\t\t('int', ['bool']) : 1 | ['cb_person_default_on_file']\n",
      "\t0.4s = Fit runtime\n",
      "\t12 features in original data used to generate 12 features in processed data.\n",
      "\tTrain Data (Processed) Memory Usage: 3.38 MB (0.0% of available memory)\n",
      "Data preprocessing and feature engineering runtime = 0.43s ...\n",
      "AutoGluon will gauge predictive performance using evaluation metric: 'roc_auc'\n",
      "\tThis metric expects predicted probabilities rather than predicted class labels, so you'll need to use predict_proba() instead of predict()\n",
      "\tTo change this, specify the eval_metric parameter of Predictor()\n",
      "User-specified model hyperparameters to be fit:\n",
      "{\n",
      "\t'GBM': {'class_weight': array([0.60004812, 2.9987975 ])},\n",
      "\t'CAT': {'scale_pos_weight': 4.997594997594998},\n",
      "\t'XGB': {'scale_pos_weight': 4.997594997594998},\n",
      "}\n",
      "AutoGluon will fit 2 stack levels (L1 to L2) ...\n",
      "Fitting 3 L1 models ...\n",
      "Fitting model: LightGBM_BAG_L1 ... Training model for up to 6597.3s of the 9898.43s of remaining time.\n",
      "Will use sequential fold fitting strategy because import of ray failed. Reason: ray==2.24.0 detected. 2.10.0 <= ray < 2.11.0 is required. You can use pip to install certain version of ray `pip install ray==2.10.0` \n",
      "\tFitting 8 child models (S1F1 - S1F8) | Fitting with SequentialLocalFoldFittingStrategy\n",
      "\t0.9567\t = Validation score   (roc_auc)\n",
      "\t26.14s\t = Training   runtime\n",
      "\t0.7s\t = Validation runtime\n",
      "Fitting model: CatBoost_BAG_L1 ... Training model for up to 6565.87s of the 9866.99s of remaining time.\n",
      "\tFitting 8 child models (S1F1 - S1F8) | Fitting with SequentialLocalFoldFittingStrategy\n",
      "\t0.9554\t = Validation score   (roc_auc)\n",
      "\t544.35s\t = Training   runtime\n",
      "\t0.1s\t = Validation runtime\n",
      "Fitting model: XGBoost_BAG_L1 ... Training model for up to 6021.28s of the 9322.41s of remaining time.\n",
      "\tFitting 8 child models (S1F1 - S1F8) | Fitting with SequentialLocalFoldFittingStrategy\n",
      "\t0.9484\t = Validation score   (roc_auc)\n",
      "\t150.94s\t = Training   runtime\n",
      "\t1.59s\t = Validation runtime\n",
      "Fitting model: WeightedEnsemble_L2 ... Training model for up to 659.73s of the 9169.57s of remaining time.\n",
      "\tEnsemble Weights: {'LightGBM_BAG_L1': 0.75, 'CatBoost_BAG_L1': 0.167, 'XGBoost_BAG_L1': 0.083}\n",
      "\t0.958\t = Validation score   (roc_auc)\n",
      "\t0.72s\t = Training   runtime\n",
      "\t0.01s\t = Validation runtime\n",
      "Fitting 3 L2 models ...\n",
      "Fitting model: LightGBM_BAG_L2 ... Training model for up to 9168.82s of the 9168.81s of remaining time.\n",
      "\tFitting 8 child models (S1F1 - S1F8) | Fitting with SequentialLocalFoldFittingStrategy\n",
      "\t0.9573\t = Validation score   (roc_auc)\n",
      "\t12.52s\t = Training   runtime\n",
      "\t0.2s\t = Validation runtime\n",
      "Fitting model: CatBoost_BAG_L2 ... Training model for up to 9155.93s of the 9155.92s of remaining time.\n",
      "\tFitting 8 child models (S1F1 - S1F8) | Fitting with SequentialLocalFoldFittingStrategy\n",
      "\t0.9581\t = Validation score   (roc_auc)\n",
      "\t80.97s\t = Training   runtime\n",
      "\t0.05s\t = Validation runtime\n",
      "Fitting model: XGBoost_BAG_L2 ... Training model for up to 9074.78s of the 9074.77s of remaining time.\n",
      "\tFitting 8 child models (S1F1 - S1F8) | Fitting with SequentialLocalFoldFittingStrategy\n",
      "\t0.9485\t = Validation score   (roc_auc)\n",
      "\t144.96s\t = Training   runtime\n",
      "\t1.56s\t = Validation runtime\n",
      "Fitting model: WeightedEnsemble_L3 ... Training model for up to 916.88s of the 8927.93s of remaining time.\n",
      "\tEnsemble Weights: {'LightGBM_BAG_L1': 0.333, 'CatBoost_BAG_L2': 0.292, 'LightGBM_BAG_L2': 0.25, 'CatBoost_BAG_L1': 0.083, 'XGBoost_BAG_L1': 0.042}\n",
      "\t0.9582\t = Validation score   (roc_auc)\n",
      "\t1.52s\t = Training   runtime\n",
      "\t0.01s\t = Validation runtime\n",
      "AutoGluon training complete, total runtime = 972.51s ... Best model: WeightedEnsemble_L3 | Estimated inference throughput: 2469.8 rows/s (6516 batch size)\n",
      "TabularPredictor saved. To load, use: predictor = TabularPredictor.load(\"AutogluonModels/ag-20241022_141221/ds_sub_fit/sub_fit_ho\")\n",
      "Deleting DyStack predictor artifacts (clean_up_fits=True) ...\n",
      "Leaderboard on holdout data (DyStack):\n",
      "                 model  score_holdout  score_val eval_metric  pred_time_test  pred_time_val    fit_time  pred_time_test_marginal  pred_time_val_marginal  fit_time_marginal  stack_level  can_infer  fit_order\n",
      "0  WeightedEnsemble_L2       0.960102   0.957954     roc_auc        3.381032       2.393390  722.155381                 0.004958                0.010021           0.724553            2       True          4\n",
      "1  WeightedEnsemble_L3       0.959701   0.958211     roc_auc        3.699619       2.647189  816.435251                 0.005859                0.010252           1.515352            3       True          8\n",
      "2      CatBoost_BAG_L1       0.959573   0.955448     roc_auc        0.124528       0.096180  544.349563                 0.124528                0.096180         544.349563            1       True          2\n",
      "3      CatBoost_BAG_L2       0.959462   0.958057     roc_auc        3.435016       2.437113  802.399497                 0.058942                0.053744          80.968669            2       True          6\n",
      "4      LightGBM_BAG_L1       0.959443   0.956672     roc_auc        0.885010       0.700728   26.144408                 0.885010                0.700728          26.144408            1       True          1\n",
      "5      LightGBM_BAG_L2       0.958827   0.957251     roc_auc        3.634818       2.583193  733.951230                 0.258744                0.199824          12.520402            2       True          5\n",
      "6       XGBoost_BAG_L2       0.956222   0.948496     roc_auc        5.084355       3.944631  866.391143                 1.708281                1.561262         144.960315            2       True          7\n",
      "7       XGBoost_BAG_L1       0.953444   0.948361     roc_auc        2.366536       1.586460  150.936857                 2.366536                1.586460         150.936857            1       True          3\n",
      "\t0\t = Optimal   num_stack_levels (Stacked Overfitting Occurred: True)\n",
      "\t980s\t = DyStack   runtime |\t38620s\t = Remaining runtime\n",
      "Starting main fit with num_stack_levels=0.\n",
      "\tFor future fit calls on this dataset, you can skip DyStack to save time: `predictor.fit(..., dynamic_stacking=False, num_stack_levels=0)`\n",
      "Beginning AutoGluon training ... Time limit = 38620s\n",
      "AutoGluon will save models to \"AutogluonModels/ag-20241022_141221\"\n",
      "Train Data Rows:    58645\n",
      "Train Data Columns: 12\n",
      "Label Column:       loan_status\n",
      "Problem Type:       binary\n",
      "Preprocessing data ...\n",
      "Selected class <--> label mapping:  class 1 = 1, class 0 = 0\n",
      "Using Feature Generators to preprocess the data ...\n",
      "Fitting AutoMLPipelineFeatureGenerator...\n",
      "\tAvailable Memory:                    30778.41 MB\n",
      "\tTrain Data (Original)  Memory Usage: 17.32 MB (0.1% of available memory)\n",
      "\tInferring data type of each feature based on column values. Set feature_metadata_in to manually specify special dtypes of the features.\n",
      "\tStage 1 Generators:\n",
      "\t\tFitting AsTypeFeatureGenerator...\n",
      "\t\t\tNote: Converting 1 features to boolean dtype as they only contain 2 unique values.\n",
      "\tStage 2 Generators:\n",
      "\t\tFitting FillNaFeatureGenerator...\n",
      "\tStage 3 Generators:\n",
      "\t\tFitting IdentityFeatureGenerator...\n",
      "\t\tFitting CategoryFeatureGenerator...\n",
      "\t\t\tFitting CategoryMemoryMinimizeFeatureGenerator...\n",
      "\tStage 4 Generators:\n",
      "\t\tFitting DropUniqueFeatureGenerator...\n",
      "\tStage 5 Generators:\n",
      "\t\tFitting DropDuplicatesFeatureGenerator...\n",
      "\tTypes of features in original data (raw dtype, special dtypes):\n",
      "\t\t('float', [])  : 3 | ['person_emp_length', 'loan_int_rate', 'loan_percent_income']\n",
      "\t\t('int', [])    : 5 | ['id', 'person_age', 'person_income', 'loan_amnt', 'cb_person_cred_hist_length']\n",
      "\t\t('object', []) : 4 | ['person_home_ownership', 'loan_intent', 'loan_grade', 'cb_person_default_on_file']\n",
      "\tTypes of features in processed data (raw dtype, special dtypes):\n",
      "\t\t('category', [])  : 3 | ['person_home_ownership', 'loan_intent', 'loan_grade']\n",
      "\t\t('float', [])     : 3 | ['person_emp_length', 'loan_int_rate', 'loan_percent_income']\n",
      "\t\t('int', [])       : 5 | ['id', 'person_age', 'person_income', 'loan_amnt', 'cb_person_cred_hist_length']\n",
      "\t\t('int', ['bool']) : 1 | ['cb_person_default_on_file']\n",
      "\t0.4s = Fit runtime\n",
      "\t12 features in original data used to generate 12 features in processed data.\n",
      "\tTrain Data (Processed) Memory Usage: 3.80 MB (0.0% of available memory)\n",
      "Data preprocessing and feature engineering runtime = 0.49s ...\n",
      "AutoGluon will gauge predictive performance using evaluation metric: 'roc_auc'\n",
      "\tThis metric expects predicted probabilities rather than predicted class labels, so you'll need to use predict_proba() instead of predict()\n",
      "\tTo change this, specify the eval_metric parameter of Predictor()\n",
      "User-specified model hyperparameters to be fit:\n",
      "{\n",
      "\t'GBM': {'class_weight': array([0.60004812, 2.9987975 ])},\n",
      "\t'CAT': {'scale_pos_weight': 4.997594997594998},\n",
      "\t'XGB': {'scale_pos_weight': 4.997594997594998},\n",
      "}\n",
      "Fitting 3 L1 models ...\n",
      "Fitting model: LightGBM_BAG_L1 ... Training model for up to 38619.88s of the 38619.88s of remaining time.\n",
      "\tFitting 8 child models (S1F1 - S1F8) | Fitting with SequentialLocalFoldFittingStrategy\n",
      "\t0.9569\t = Validation score   (roc_auc)\n",
      "\t30.7s\t = Training   runtime\n",
      "\t0.98s\t = Validation runtime\n",
      "Fitting model: CatBoost_BAG_L1 ... Training model for up to 38587.79s of the 38587.79s of remaining time.\n",
      "\tFitting 8 child models (S1F1 - S1F8) | Fitting with SequentialLocalFoldFittingStrategy\n",
      "\t0.9563\t = Validation score   (roc_auc)\n",
      "\t560.18s\t = Training   runtime\n",
      "\t0.1s\t = Validation runtime\n",
      "Fitting model: XGBoost_BAG_L1 ... Training model for up to 38027.36s of the 38027.36s of remaining time.\n",
      "\tFitting 8 child models (S1F1 - S1F8) | Fitting with SequentialLocalFoldFittingStrategy\n",
      "\t0.9489\t = Validation score   (roc_auc)\n",
      "\t188.21s\t = Training   runtime\n",
      "\t1.84s\t = Validation runtime\n",
      "Fitting model: WeightedEnsemble_L2 ... Training model for up to 3861.99s of the 37836.98s of remaining time.\n",
      "\tEnsemble Weights: {'LightGBM_BAG_L1': 0.739, 'CatBoost_BAG_L1': 0.174, 'XGBoost_BAG_L1': 0.087}\n",
      "\t0.9582\t = Validation score   (roc_auc)\n",
      "\t0.8s\t = Training   runtime\n",
      "\t0.01s\t = Validation runtime\n",
      "AutoGluon training complete, total runtime = 784.24s ... Best model: WeightedEnsemble_L2 | Estimated inference throughput: 2513.4 rows/s (7331 batch size)\n",
      "TabularPredictor saved. To load, use: predictor = TabularPredictor.load(\"AutogluonModels/ag-20241022_141221\")\n"
     ]
    },
    {
     "data": {
      "text/plain": [
       "<autogluon.tabular.predictor.predictor.TabularPredictor at 0x7d102a500d00>"
      ]
     },
     "execution_count": 5,
     "metadata": {},
     "output_type": "execute_result"
    }
   ],
   "source": [
    "hyperparameters = {\n",
    "    'GBM': {'class_weight': class_weights},\n",
    "    'CAT': {'scale_pos_weight': scale_pos_weight},\n",
    "    'XGB': {'scale_pos_weight': scale_pos_weight},\n",
    "}\n",
    "\n",
    "aml.fit(train_data=tabular_df, time_limit=39600, presets='best_quality', hyperparameters=hyperparameters)"
   ]
  },
  {
   "cell_type": "code",
   "execution_count": 6,
   "id": "a1a54878",
   "metadata": {
    "execution": {
     "iopub.execute_input": "2024-10-22T14:41:45.225736Z",
     "iopub.status.busy": "2024-10-22T14:41:45.225199Z",
     "iopub.status.idle": "2024-10-22T14:41:45.244976Z",
     "shell.execute_reply": "2024-10-22T14:41:45.243616Z"
    },
    "papermill": {
     "duration": 0.050234,
     "end_time": "2024-10-22T14:41:45.248043",
     "exception": false,
     "start_time": "2024-10-22T14:41:45.197809",
     "status": "completed"
    },
    "tags": []
   },
   "outputs": [],
   "source": [
    "leaderboard = aml.leaderboard()\n",
    "leaderboard.to_csv('leaderboard.csv', index=False)"
   ]
  },
  {
   "cell_type": "code",
   "execution_count": 7,
   "id": "77476a8e",
   "metadata": {
    "execution": {
     "iopub.execute_input": "2024-10-22T14:41:45.301593Z",
     "iopub.status.busy": "2024-10-22T14:41:45.301100Z",
     "iopub.status.idle": "2024-10-22T14:41:45.323385Z",
     "shell.execute_reply": "2024-10-22T14:41:45.322124Z"
    },
    "papermill": {
     "duration": 0.052382,
     "end_time": "2024-10-22T14:41:45.326102",
     "exception": false,
     "start_time": "2024-10-22T14:41:45.273720",
     "status": "completed"
    },
    "tags": []
   },
   "outputs": [
    {
     "data": {
      "text/html": [
       "<div>\n",
       "<style scoped>\n",
       "    .dataframe tbody tr th:only-of-type {\n",
       "        vertical-align: middle;\n",
       "    }\n",
       "\n",
       "    .dataframe tbody tr th {\n",
       "        vertical-align: top;\n",
       "    }\n",
       "\n",
       "    .dataframe thead th {\n",
       "        text-align: right;\n",
       "    }\n",
       "</style>\n",
       "<table border=\"1\" class=\"dataframe\">\n",
       "  <thead>\n",
       "    <tr style=\"text-align: right;\">\n",
       "      <th></th>\n",
       "      <th>model</th>\n",
       "      <th>score_val</th>\n",
       "      <th>eval_metric</th>\n",
       "      <th>pred_time_val</th>\n",
       "      <th>fit_time</th>\n",
       "      <th>pred_time_val_marginal</th>\n",
       "      <th>fit_time_marginal</th>\n",
       "      <th>stack_level</th>\n",
       "      <th>can_infer</th>\n",
       "      <th>fit_order</th>\n",
       "    </tr>\n",
       "  </thead>\n",
       "  <tbody>\n",
       "    <tr>\n",
       "      <th>0</th>\n",
       "      <td>WeightedEnsemble_L2</td>\n",
       "      <td>0.958225</td>\n",
       "      <td>roc_auc</td>\n",
       "      <td>2.926131</td>\n",
       "      <td>779.902831</td>\n",
       "      <td>0.010723</td>\n",
       "      <td>0.802600</td>\n",
       "      <td>2</td>\n",
       "      <td>True</td>\n",
       "      <td>4</td>\n",
       "    </tr>\n",
       "    <tr>\n",
       "      <th>1</th>\n",
       "      <td>LightGBM_BAG_L1</td>\n",
       "      <td>0.956925</td>\n",
       "      <td>roc_auc</td>\n",
       "      <td>0.975490</td>\n",
       "      <td>30.701847</td>\n",
       "      <td>0.975490</td>\n",
       "      <td>30.701847</td>\n",
       "      <td>1</td>\n",
       "      <td>True</td>\n",
       "      <td>1</td>\n",
       "    </tr>\n",
       "    <tr>\n",
       "      <th>2</th>\n",
       "      <td>CatBoost_BAG_L1</td>\n",
       "      <td>0.956319</td>\n",
       "      <td>roc_auc</td>\n",
       "      <td>0.097553</td>\n",
       "      <td>560.184674</td>\n",
       "      <td>0.097553</td>\n",
       "      <td>560.184674</td>\n",
       "      <td>1</td>\n",
       "      <td>True</td>\n",
       "      <td>2</td>\n",
       "    </tr>\n",
       "    <tr>\n",
       "      <th>3</th>\n",
       "      <td>XGBoost_BAG_L1</td>\n",
       "      <td>0.948889</td>\n",
       "      <td>roc_auc</td>\n",
       "      <td>1.842366</td>\n",
       "      <td>188.213710</td>\n",
       "      <td>1.842366</td>\n",
       "      <td>188.213710</td>\n",
       "      <td>1</td>\n",
       "      <td>True</td>\n",
       "      <td>3</td>\n",
       "    </tr>\n",
       "  </tbody>\n",
       "</table>\n",
       "</div>"
      ],
      "text/plain": [
       "                 model  score_val eval_metric  pred_time_val    fit_time  \\\n",
       "0  WeightedEnsemble_L2   0.958225     roc_auc       2.926131  779.902831   \n",
       "1      LightGBM_BAG_L1   0.956925     roc_auc       0.975490   30.701847   \n",
       "2      CatBoost_BAG_L1   0.956319     roc_auc       0.097553  560.184674   \n",
       "3       XGBoost_BAG_L1   0.948889     roc_auc       1.842366  188.213710   \n",
       "\n",
       "   pred_time_val_marginal  fit_time_marginal  stack_level  can_infer  \\\n",
       "0                0.010723           0.802600            2       True   \n",
       "1                0.975490          30.701847            1       True   \n",
       "2                0.097553         560.184674            1       True   \n",
       "3                1.842366         188.213710            1       True   \n",
       "\n",
       "   fit_order  \n",
       "0          4  \n",
       "1          1  \n",
       "2          2  \n",
       "3          3  "
      ]
     },
     "execution_count": 7,
     "metadata": {},
     "output_type": "execute_result"
    }
   ],
   "source": [
    "leaderboard"
   ]
  },
  {
   "cell_type": "code",
   "execution_count": 8,
   "id": "a34638c6",
   "metadata": {
    "execution": {
     "iopub.execute_input": "2024-10-22T14:41:45.381978Z",
     "iopub.status.busy": "2024-10-22T14:41:45.381534Z",
     "iopub.status.idle": "2024-10-22T14:41:45.387632Z",
     "shell.execute_reply": "2024-10-22T14:41:45.386290Z"
    },
    "papermill": {
     "duration": 0.037272,
     "end_time": "2024-10-22T14:41:45.390380",
     "exception": false,
     "start_time": "2024-10-22T14:41:45.353108",
     "status": "completed"
    },
    "tags": []
   },
   "outputs": [],
   "source": [
    "# aml.save('/kaggle/working/best_model')"
   ]
  },
  {
   "cell_type": "code",
   "execution_count": 9,
   "id": "50fa3863",
   "metadata": {
    "execution": {
     "iopub.execute_input": "2024-10-22T14:41:45.444889Z",
     "iopub.status.busy": "2024-10-22T14:41:45.444327Z",
     "iopub.status.idle": "2024-10-22T14:41:45.450619Z",
     "shell.execute_reply": "2024-10-22T14:41:45.449062Z"
    },
    "papermill": {
     "duration": 0.037338,
     "end_time": "2024-10-22T14:41:45.453531",
     "exception": false,
     "start_time": "2024-10-22T14:41:45.416193",
     "status": "completed"
    },
    "tags": []
   },
   "outputs": [],
   "source": [
    "# import shutil\n",
    "\n",
    "# shutil.rmtree('/kaggle/working/AutogluonModels')\n",
    "# os.remove('/kaggle/working/leaderboard.csv')"
   ]
  },
  {
   "cell_type": "code",
   "execution_count": null,
   "id": "3786d9c2",
   "metadata": {
    "papermill": {
     "duration": 0.026208,
     "end_time": "2024-10-22T14:41:45.506036",
     "exception": false,
     "start_time": "2024-10-22T14:41:45.479828",
     "status": "completed"
    },
    "tags": []
   },
   "outputs": [],
   "source": []
  }
 ],
 "metadata": {
  "kaggle": {
   "accelerator": "none",
   "dataSources": [
    {
     "databundleVersionId": 9709193,
     "sourceId": 84894,
     "sourceType": "competition"
    },
    {
     "datasetId": 5926520,
     "sourceId": 9693457,
     "sourceType": "datasetVersion"
    }
   ],
   "dockerImageVersionId": 30786,
   "isGpuEnabled": false,
   "isInternetEnabled": true,
   "language": "python",
   "sourceType": "notebook"
  },
  "kernelspec": {
   "display_name": "Python 3",
   "language": "python",
   "name": "python3"
  },
  "language_info": {
   "codemirror_mode": {
    "name": "ipython",
    "version": 3
   },
   "file_extension": ".py",
   "mimetype": "text/x-python",
   "name": "python",
   "nbconvert_exporter": "python",
   "pygments_lexer": "ipython3",
   "version": "3.10.14"
  },
  "papermill": {
   "default_parameters": {},
   "duration": 1817.535208,
   "end_time": "2024-10-22T14:41:48.594333",
   "environment_variables": {},
   "exception": null,
   "input_path": "__notebook__.ipynb",
   "output_path": "__notebook__.ipynb",
   "parameters": {},
   "start_time": "2024-10-22T14:11:31.059125",
   "version": "2.6.0"
  }
 },
 "nbformat": 4,
 "nbformat_minor": 5
}
