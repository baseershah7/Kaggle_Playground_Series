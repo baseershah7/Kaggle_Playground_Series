{
 "cells": [
  {
   "cell_type": "code",
   "execution_count": 1,
   "id": "8675e94f",
   "metadata": {
    "_cell_guid": "b1076dfc-b9ad-4769-8c92-a6c4dae69d19",
    "_uuid": "8f2839f25d086af736a60e9eeb907d3b93b6e0e5",
    "execution": {
     "iopub.execute_input": "2025-05-30T21:31:31.369481Z",
     "iopub.status.busy": "2025-05-30T21:31:31.369252Z",
     "iopub.status.idle": "2025-05-30T21:31:32.833411Z",
     "shell.execute_reply": "2025-05-30T21:31:32.832684Z"
    },
    "papermill": {
     "duration": 1.470653,
     "end_time": "2025-05-30T21:31:32.834950",
     "exception": false,
     "start_time": "2025-05-30T21:31:31.364297",
     "status": "completed"
    },
    "tags": []
   },
   "outputs": [],
   "source": [
    "# This Python 3 environment comes with many helpful analytics libraries installed\n",
    "# It is defined by the kaggle/python Docker image: https://github.com/kaggle/docker-python\n",
    "# For example, here's several helpful packages to load\n",
    "\n",
    "import numpy as np # linear algebra\n",
    "import pandas as pd # data processing, CSV file I/O (e.g. pd.read_csv)\n",
    "\n",
    "# Input data files are available in the read-only \"../input/\" directory\n",
    "# For example, running this (by clicking run or pressing Shift+Enter) will list all files under the input directory\n",
    "\n",
    "import os\n",
    "# for dirname, _, filenames in os.walk('/kaggle/input'):\n",
    "#     for filename in filenames:\n",
    "#         print(os.path.join(dirname, filename))\n",
    "\n",
    "# You can write up to 20GB to the current directory (/kaggle/working/) that gets preserved as output when you create a version using \"Save & Run All\" \n",
    "# You can also write temporary files to /kaggle/temp/, but they won't be saved outside of the current session"
   ]
  },
  {
   "cell_type": "code",
   "execution_count": 2,
   "id": "74a1f72b",
   "metadata": {
    "execution": {
     "iopub.execute_input": "2025-05-30T21:31:32.842069Z",
     "iopub.status.busy": "2025-05-30T21:31:32.841738Z",
     "iopub.status.idle": "2025-05-30T21:31:32.845349Z",
     "shell.execute_reply": "2025-05-30T21:31:32.844727Z"
    },
    "papermill": {
     "duration": 0.008256,
     "end_time": "2025-05-30T21:31:32.846614",
     "exception": false,
     "start_time": "2025-05-30T21:31:32.838358",
     "status": "completed"
    },
    "tags": []
   },
   "outputs": [],
   "source": [
    "seed=1\n",
    "folds=10"
   ]
  },
  {
   "cell_type": "code",
   "execution_count": 3,
   "id": "53934d70",
   "metadata": {
    "execution": {
     "iopub.execute_input": "2025-05-30T21:31:32.854164Z",
     "iopub.status.busy": "2025-05-30T21:31:32.853455Z",
     "iopub.status.idle": "2025-05-30T21:31:44.745171Z",
     "shell.execute_reply": "2025-05-30T21:31:44.744423Z"
    },
    "papermill": {
     "duration": 11.896475,
     "end_time": "2025-05-30T21:31:44.746440",
     "exception": false,
     "start_time": "2025-05-30T21:31:32.849965",
     "status": "completed"
    },
    "tags": []
   },
   "outputs": [],
   "source": [
    "cat_oofs = pd.read_csv('/kaggle/input/calorie-expenditure-cat-oofs/cat_oof_preds.csv')\n",
    "cat_test = pd.read_csv('/kaggle/input/calorie-expenditure-cat-oofs/cat_test_preds.csv')\n",
    "\n",
    "xgb_oofs = pd.read_csv('/kaggle/input/calories-expenditure-oofs/xgb_oof_preds.csv')\n",
    "xgb_test = pd.read_csv('/kaggle/input/calories-expenditure-oofs/xgb_test_preds.csv')\n",
    "\n",
    "train_oofs = pd.concat([cat_oofs, xgb_oofs], axis=1)\n",
    "test_oofs = pd.concat([cat_test, xgb_test], axis=1)\n",
    "\n",
    "train = pd.read_csv('/kaggle/input/playground-series-s5e5/train.csv')\n",
    "test = pd.read_csv('/kaggle/input/playground-series-s5e5/test.csv')\n",
    "y = train['Calories']"
   ]
  },
  {
   "cell_type": "code",
   "execution_count": 4,
   "id": "5dcc878e",
   "metadata": {
    "execution": {
     "iopub.execute_input": "2025-05-30T21:31:44.752984Z",
     "iopub.status.busy": "2025-05-30T21:31:44.752785Z",
     "iopub.status.idle": "2025-05-30T21:31:44.775444Z",
     "shell.execute_reply": "2025-05-30T21:31:44.774835Z"
    },
    "papermill": {
     "duration": 0.027011,
     "end_time": "2025-05-30T21:31:44.776426",
     "exception": false,
     "start_time": "2025-05-30T21:31:44.749415",
     "status": "completed"
    },
    "tags": []
   },
   "outputs": [
    {
     "data": {
      "text/html": [
       "<div>\n",
       "<style scoped>\n",
       "    .dataframe tbody tr th:only-of-type {\n",
       "        vertical-align: middle;\n",
       "    }\n",
       "\n",
       "    .dataframe tbody tr th {\n",
       "        vertical-align: top;\n",
       "    }\n",
       "\n",
       "    .dataframe thead th {\n",
       "        text-align: right;\n",
       "    }\n",
       "</style>\n",
       "<table border=\"1\" class=\"dataframe\">\n",
       "  <thead>\n",
       "    <tr style=\"text-align: right;\">\n",
       "      <th></th>\n",
       "      <th>cat1</th>\n",
       "      <th>cat2</th>\n",
       "      <th>cat3</th>\n",
       "      <th>cat4</th>\n",
       "      <th>cat5</th>\n",
       "      <th>cat6</th>\n",
       "      <th>cat7</th>\n",
       "      <th>cat8</th>\n",
       "      <th>cat9</th>\n",
       "      <th>cat10</th>\n",
       "      <th>...</th>\n",
       "      <th>xgb11</th>\n",
       "      <th>xgb12</th>\n",
       "      <th>xgb13</th>\n",
       "      <th>xgb14</th>\n",
       "      <th>xgb15</th>\n",
       "      <th>xgb16</th>\n",
       "      <th>xgb17</th>\n",
       "      <th>xgb18</th>\n",
       "      <th>xgb19</th>\n",
       "      <th>xgb20</th>\n",
       "    </tr>\n",
       "  </thead>\n",
       "  <tbody>\n",
       "    <tr>\n",
       "      <th>0</th>\n",
       "      <td>147.012195</td>\n",
       "      <td>146.911069</td>\n",
       "      <td>147.404710</td>\n",
       "      <td>146.891409</td>\n",
       "      <td>146.959144</td>\n",
       "      <td>146.930984</td>\n",
       "      <td>147.239500</td>\n",
       "      <td>147.138788</td>\n",
       "      <td>146.223977</td>\n",
       "      <td>146.964071</td>\n",
       "      <td>...</td>\n",
       "      <td>147.643066</td>\n",
       "      <td>147.079208</td>\n",
       "      <td>148.276871</td>\n",
       "      <td>147.455124</td>\n",
       "      <td>147.282455</td>\n",
       "      <td>148.382095</td>\n",
       "      <td>147.290924</td>\n",
       "      <td>148.038513</td>\n",
       "      <td>147.411743</td>\n",
       "      <td>147.162781</td>\n",
       "    </tr>\n",
       "    <tr>\n",
       "      <th>1</th>\n",
       "      <td>35.883772</td>\n",
       "      <td>35.845699</td>\n",
       "      <td>35.956604</td>\n",
       "      <td>35.953322</td>\n",
       "      <td>35.812578</td>\n",
       "      <td>35.852966</td>\n",
       "      <td>35.954570</td>\n",
       "      <td>35.957779</td>\n",
       "      <td>35.860825</td>\n",
       "      <td>35.802650</td>\n",
       "      <td>...</td>\n",
       "      <td>35.772839</td>\n",
       "      <td>35.984234</td>\n",
       "      <td>36.054356</td>\n",
       "      <td>35.986412</td>\n",
       "      <td>35.957092</td>\n",
       "      <td>35.712452</td>\n",
       "      <td>35.962296</td>\n",
       "      <td>35.863033</td>\n",
       "      <td>36.020584</td>\n",
       "      <td>36.089554</td>\n",
       "    </tr>\n",
       "    <tr>\n",
       "      <th>2</th>\n",
       "      <td>28.776980</td>\n",
       "      <td>28.900967</td>\n",
       "      <td>28.915038</td>\n",
       "      <td>28.892984</td>\n",
       "      <td>28.911844</td>\n",
       "      <td>28.897322</td>\n",
       "      <td>28.931222</td>\n",
       "      <td>28.919195</td>\n",
       "      <td>28.924670</td>\n",
       "      <td>28.838206</td>\n",
       "      <td>...</td>\n",
       "      <td>29.110937</td>\n",
       "      <td>29.201189</td>\n",
       "      <td>29.308392</td>\n",
       "      <td>28.982582</td>\n",
       "      <td>29.148750</td>\n",
       "      <td>28.822273</td>\n",
       "      <td>29.102989</td>\n",
       "      <td>29.137186</td>\n",
       "      <td>28.992249</td>\n",
       "      <td>28.701107</td>\n",
       "    </tr>\n",
       "  </tbody>\n",
       "</table>\n",
       "<p>3 rows × 40 columns</p>\n",
       "</div>"
      ],
      "text/plain": [
       "         cat1        cat2        cat3        cat4        cat5        cat6  \\\n",
       "0  147.012195  146.911069  147.404710  146.891409  146.959144  146.930984   \n",
       "1   35.883772   35.845699   35.956604   35.953322   35.812578   35.852966   \n",
       "2   28.776980   28.900967   28.915038   28.892984   28.911844   28.897322   \n",
       "\n",
       "         cat7        cat8        cat9       cat10  ...       xgb11  \\\n",
       "0  147.239500  147.138788  146.223977  146.964071  ...  147.643066   \n",
       "1   35.954570   35.957779   35.860825   35.802650  ...   35.772839   \n",
       "2   28.931222   28.919195   28.924670   28.838206  ...   29.110937   \n",
       "\n",
       "        xgb12       xgb13       xgb14       xgb15       xgb16       xgb17  \\\n",
       "0  147.079208  148.276871  147.455124  147.282455  148.382095  147.290924   \n",
       "1   35.984234   36.054356   35.986412   35.957092   35.712452   35.962296   \n",
       "2   29.201189   29.308392   28.982582   29.148750   28.822273   29.102989   \n",
       "\n",
       "        xgb18       xgb19       xgb20  \n",
       "0  148.038513  147.411743  147.162781  \n",
       "1   35.863033   36.020584   36.089554  \n",
       "2   29.137186   28.992249   28.701107  \n",
       "\n",
       "[3 rows x 40 columns]"
      ]
     },
     "execution_count": 4,
     "metadata": {},
     "output_type": "execute_result"
    }
   ],
   "source": [
    "train_oofs.head(3)"
   ]
  },
  {
   "cell_type": "code",
   "execution_count": 5,
   "id": "821695f6",
   "metadata": {
    "execution": {
     "iopub.execute_input": "2025-05-30T21:31:44.783435Z",
     "iopub.status.busy": "2025-05-30T21:31:44.783222Z",
     "iopub.status.idle": "2025-05-30T21:31:44.809696Z",
     "shell.execute_reply": "2025-05-30T21:31:44.809142Z"
    },
    "papermill": {
     "duration": 0.031302,
     "end_time": "2025-05-30T21:31:44.810883",
     "exception": false,
     "start_time": "2025-05-30T21:31:44.779581",
     "status": "completed"
    },
    "tags": []
   },
   "outputs": [],
   "source": [
    "y_log = np.log1p(y)"
   ]
  },
  {
   "cell_type": "code",
   "execution_count": 6,
   "id": "a72ef98b",
   "metadata": {
    "execution": {
     "iopub.execute_input": "2025-05-30T21:31:44.817833Z",
     "iopub.status.busy": "2025-05-30T21:31:44.817623Z",
     "iopub.status.idle": "2025-05-30T21:31:44.828388Z",
     "shell.execute_reply": "2025-05-30T21:31:44.827861Z"
    },
    "papermill": {
     "duration": 0.015353,
     "end_time": "2025-05-30T21:31:44.829493",
     "exception": false,
     "start_time": "2025-05-30T21:31:44.814140",
     "status": "completed"
    },
    "tags": []
   },
   "outputs": [],
   "source": [
    "residuals = train_oofs['cat4'] - y"
   ]
  },
  {
   "cell_type": "code",
   "execution_count": 7,
   "id": "352383f9",
   "metadata": {
    "execution": {
     "iopub.execute_input": "2025-05-30T21:31:44.836346Z",
     "iopub.status.busy": "2025-05-30T21:31:44.836123Z",
     "iopub.status.idle": "2025-05-30T21:31:51.086299Z",
     "shell.execute_reply": "2025-05-30T21:31:51.085616Z"
    },
    "papermill": {
     "duration": 6.254893,
     "end_time": "2025-05-30T21:31:51.087552",
     "exception": false,
     "start_time": "2025-05-30T21:31:44.832659",
     "status": "completed"
    },
    "tags": []
   },
   "outputs": [
    {
     "name": "stderr",
     "output_type": "stream",
     "text": [
      "/usr/local/lib/python3.11/dist-packages/seaborn/_oldcore.py:1119: FutureWarning: use_inf_as_na option is deprecated and will be removed in a future version. Convert inf values to NaN before operating instead.\n",
      "  with pd.option_context('mode.use_inf_as_na', True):\n",
      "/usr/local/lib/python3.11/dist-packages/seaborn/_oldcore.py:1119: FutureWarning: use_inf_as_na option is deprecated and will be removed in a future version. Convert inf values to NaN before operating instead.\n",
      "  with pd.option_context('mode.use_inf_as_na', True):\n"
     ]
    },
    {
     "data": {
      "text/plain": [
       "<Axes: xlabel='Calories', ylabel='Density'>"
      ]
     },
     "execution_count": 7,
     "metadata": {},
     "output_type": "execute_result"
    },
    {
     "data": {
      "image/png": "[encoded data removed]",
      "text/plain": [
       "<Figure size 640x480 with 1 Axes>"
      ]
     },
     "metadata": {},
     "output_type": "display_data"
    }
   ],
   "source": [
    "import seaborn as sns\n",
    "import matplotlib.pyplot as plt\n",
    "\n",
    "sns.kdeplot(y, color='r')\n",
    "sns.kdeplot(train_oofs['cat4'], color='g')\n",
    "# sns.kdeplot(residuals, color='b')"
   ]
  },
  {
   "cell_type": "code",
   "execution_count": 8,
   "id": "4ae4b946",
   "metadata": {
    "execution": {
     "iopub.execute_input": "2025-05-30T21:31:51.099944Z",
     "iopub.status.busy": "2025-05-30T21:31:51.099587Z",
     "iopub.status.idle": "2025-05-30T21:31:51.152925Z",
     "shell.execute_reply": "2025-05-30T21:31:51.151959Z"
    },
    "papermill": {
     "duration": 0.060735,
     "end_time": "2025-05-30T21:31:51.154126",
     "exception": false,
     "start_time": "2025-05-30T21:31:51.093391",
     "status": "completed"
    },
    "tags": []
   },
   "outputs": [],
   "source": [
    "sex_mapping = {\n",
    "    'male':0,\n",
    "    'female':1\n",
    "}\n",
    "train['Sex'] = train['Sex'].map(sex_mapping)\n",
    "test['Sex'] = test['Sex'].map(sex_mapping)\n",
    "# X = train.drop(columns=['Calories', 'id'])\n",
    "# y = train['Calories']"
   ]
  },
  {
   "cell_type": "code",
   "execution_count": 9,
   "id": "d036ab09",
   "metadata": {
    "execution": {
     "iopub.execute_input": "2025-05-30T21:31:51.163416Z",
     "iopub.status.busy": "2025-05-30T21:31:51.163117Z",
     "iopub.status.idle": "2025-05-30T21:31:51.166817Z",
     "shell.execute_reply": "2025-05-30T21:31:51.166031Z"
    },
    "papermill": {
     "duration": 0.010055,
     "end_time": "2025-05-30T21:31:51.168031",
     "exception": false,
     "start_time": "2025-05-30T21:31:51.157976",
     "status": "completed"
    },
    "tags": []
   },
   "outputs": [],
   "source": [
    "# from sklearn.linear_model import LinearRegression\n",
    "\n",
    "# model = LinearRegression()\n",
    "# model.fit(train.drop(columns=['Calories', 'id']), residuals)\n",
    "# preds = model.predict(test.drop(columns=['id']))"
   ]
  },
  {
   "cell_type": "code",
   "execution_count": 10,
   "id": "bbf1ecb6",
   "metadata": {
    "execution": {
     "iopub.execute_input": "2025-05-30T21:31:51.177807Z",
     "iopub.status.busy": "2025-05-30T21:31:51.177544Z",
     "iopub.status.idle": "2025-05-30T21:31:51.436614Z",
     "shell.execute_reply": "2025-05-30T21:31:51.435958Z"
    },
    "papermill": {
     "duration": 0.265331,
     "end_time": "2025-05-30T21:31:51.437967",
     "exception": false,
     "start_time": "2025-05-30T21:31:51.172636",
     "status": "completed"
    },
    "tags": []
   },
   "outputs": [],
   "source": [
    "from sklearn.metrics import mean_squared_log_error\n",
    "from tqdm import tqdm\n",
    "\n",
    "def rmsle(y_true, y_preds):\n",
    "    return np.sqrt(mean_squared_log_error(y_true, y_preds))\n",
    "    \n",
    "def evaluate_combination(weights, preds, y_true):\n",
    "    ensemble_preds = np.average(preds, axis=1, weights=weights)\n",
    "    return rmsle(y_true, ensemble_preds)\n",
    "\n",
    "def hill_climbing(preds, y_true, max_iter=10000, patience=9000):\n",
    "    n_models = preds.shape[1]\n",
    "    best_weights = np.ones(n_models) / n_models\n",
    "    best_score = evaluate_combination(best_weights, preds, y_true)\n",
    "    n_iter = 0\n",
    "    local_iter = 0\n",
    "    for i in tqdm(range(max_iter)):\n",
    "        # print(f'iter being processed :{i}')\n",
    "        n_iter = i\n",
    "        candidate_weights = best_weights + np.random.normal(0, 0.0001, best_weights.shape)\n",
    "        candidate_weights = np.clip(candidate_weights, 0, 1)\n",
    "        candidate_weights = candidate_weights / candidate_weights.sum()\n",
    "        candidate_score = evaluate_combination(candidate_weights, preds, y_true)\n",
    "\n",
    "        if candidate_score < best_score:\n",
    "            best_score = candidate_score\n",
    "            best_weights = candidate_weights\n",
    "            local_iter = 0\n",
    "\n",
    "        else:\n",
    "            local_iter+=1\n",
    "\n",
    "        if local_iter>=patience:\n",
    "            break\n",
    "    return best_score, best_weights, n_iter"
   ]
  },
  {
   "cell_type": "code",
   "execution_count": 11,
   "id": "3927f5cb",
   "metadata": {
    "execution": {
     "iopub.execute_input": "2025-05-30T21:31:51.449677Z",
     "iopub.status.busy": "2025-05-30T21:31:51.449435Z",
     "iopub.status.idle": "2025-05-30T21:31:51.455527Z",
     "shell.execute_reply": "2025-05-30T21:31:51.454932Z"
    },
    "papermill": {
     "duration": 0.012915,
     "end_time": "2025-05-30T21:31:51.456459",
     "exception": false,
     "start_time": "2025-05-30T21:31:51.443544",
     "status": "completed"
    },
    "tags": []
   },
   "outputs": [],
   "source": [
    "# from sklearn.metrics import mean_squared_log_error\n",
    "# from tqdm import tqdm\n",
    "# from concurrent.futures import ThreadPoolExecutor, ProcessPoolExecutor\n",
    "# import multiprocessing as mp\n",
    "# from numba import jit, prange\n",
    "# import warnings\n",
    "# warnings.filterwarnings('ignore')\n",
    "\n",
    "# # Numba-optimized functions for speed\n",
    "# @jit(nopython=True, fastmath=True)\n",
    "# def fast_rmsle(y_true, y_preds):\n",
    "#     \"\"\"Numba-optimized RMSLE calculation\"\"\"\n",
    "#     n = len(y_true)\n",
    "#     sum_log_error = 0.0\n",
    "#     for i in range(n):\n",
    "#         if y_true[i] > 0 and y_preds[i] > 0:\n",
    "#             log_error = np.log(y_preds[i] + 1) - np.log(y_true[i] + 1)\n",
    "#             sum_log_error += log_error * log_error\n",
    "#     return np.sqrt(sum_log_error / n)\n",
    "\n",
    "# @jit(nopython=True, fastmath=True)\n",
    "# def fast_weighted_average(preds, weights):\n",
    "#     \"\"\"Numba-optimized weighted average\"\"\"\n",
    "#     n_samples, n_models = preds.shape\n",
    "#     result = np.zeros(n_samples)\n",
    "#     for i in range(n_samples):\n",
    "#         weighted_sum = 0.0\n",
    "#         for j in range(n_models):\n",
    "#             weighted_sum += preds[i, j] * weights[j]\n",
    "#         result[i] = weighted_sum\n",
    "#     return result\n",
    "\n",
    "# @jit(nopython=True, fastmath=True)\n",
    "# def evaluate_combination_fast(weights, preds, y_true):\n",
    "#     \"\"\"Fast evaluation using numba\"\"\"\n",
    "#     ensemble_preds = fast_weighted_average(preds, weights)\n",
    "#     return fast_rmsle(y_true, ensemble_preds)\n",
    "\n",
    "# @jit(nopython=True, fastmath=True)\n",
    "# def generate_candidates_batch(best_weights, batch_size, noise_std=0.0001):\n",
    "#     \"\"\"Generate multiple candidate weight vectors at once\"\"\"\n",
    "#     n_models = len(best_weights)\n",
    "#     candidates = np.zeros((batch_size, n_models))\n",
    "    \n",
    "#     for i in range(batch_size):\n",
    "#         # Generate candidate with noise\n",
    "#         candidate = best_weights.copy()\n",
    "#         for j in range(n_models):\n",
    "#             candidate[j] += np.random.normal(0, noise_std)\n",
    "        \n",
    "#         # Normalize to sum to 1\n",
    "#         candidate_sum = np.sum(candidate)\n",
    "#         if candidate_sum > 0:\n",
    "#             for j in range(n_models):\n",
    "#                 candidate[j] /= candidate_sum\n",
    "#         else:\n",
    "#             # Fallback to uniform weights\n",
    "#             for j in range(n_models):\n",
    "#                 candidate[j] = 1.0 / n_models\n",
    "        \n",
    "#         candidates[i] = candidate\n",
    "    \n",
    "#     return candidates\n",
    "\n",
    "# def evaluate_candidates_parallel(candidates, preds, y_true, n_jobs=-1):\n",
    "#     \"\"\"Evaluate multiple candidates in parallel\"\"\"\n",
    "#     if n_jobs == -1:\n",
    "#         n_jobs = min(mp.cpu_count(), len(candidates))\n",
    "    \n",
    "#     def eval_single(candidate):\n",
    "#         return evaluate_combination_fast(candidate, preds, y_true)\n",
    "    \n",
    "#     with ThreadPoolExecutor(max_workers=n_jobs) as executor:\n",
    "#         scores = list(executor.map(eval_single, candidates))\n",
    "    \n",
    "#     return np.array(scores)\n",
    "\n",
    "# def adaptive_hill_climbing(preds, y_true, max_iter=10000, patience=9000, \n",
    "#                           batch_size=50, n_jobs=-1, adaptive_noise=True,\n",
    "#                           sample_fraction=0.1):\n",
    "#     \"\"\"\n",
    "#     Optimized hill climbing with multiple improvements:\n",
    "#     - Batch candidate generation and evaluation\n",
    "#     - Parallel processing\n",
    "#     - Adaptive noise scaling\n",
    "#     - Data sampling for large datasets\n",
    "#     - Numba acceleration\n",
    "#     \"\"\"\n",
    "    \n",
    "#     # Convert to numpy arrays if pandas objects\n",
    "#     import pandas as pd\n",
    "#     if isinstance(preds, pd.DataFrame):\n",
    "#         preds = preds.values\n",
    "#     if isinstance(y_true, (pd.Series, pd.DataFrame)):\n",
    "#         y_true = y_true.values\n",
    "    \n",
    "#     # Ensure y_true is 1D\n",
    "#     if y_true.ndim > 1:\n",
    "#         y_true = y_true.ravel()\n",
    "    \n",
    "#     # Sample data for large datasets to speed up evaluation\n",
    "#     n_samples = len(y_true)\n",
    "#     if n_samples > 10000 and sample_fraction < 1.0:\n",
    "#         sample_size = max(1000, int(n_samples * sample_fraction))\n",
    "#         sample_idx = np.random.choice(n_samples, sample_size, replace=False)\n",
    "#         preds_sample = preds[sample_idx]\n",
    "#         y_true_sample = y_true[sample_idx]\n",
    "#         print(f\"Using {sample_size} samples ({sample_fraction*100:.1f}%) for optimization\")\n",
    "#     else:\n",
    "#         preds_sample = preds\n",
    "#         y_true_sample = y_true\n",
    "    \n",
    "#     n_models = preds.shape[1]\n",
    "#     best_weights = np.ones(n_models, dtype=np.float64) / n_models\n",
    "#     best_score = evaluate_combination_fast(best_weights, preds_sample, y_true_sample)\n",
    "    \n",
    "#     print(f\"Initial score: {best_score:.6f}\")\n",
    "    \n",
    "#     local_iter = 0\n",
    "#     noise_std = 0.0001\n",
    "#     improvements = 0\n",
    "    \n",
    "#     # Pre-calculate batch evaluation setup\n",
    "#     if n_jobs == -1:\n",
    "#         n_jobs = min(mp.cpu_count(), batch_size)\n",
    "    \n",
    "#     progress_bar = tqdm(range(0, max_iter, batch_size), desc=\"Hill Climbing\")\n",
    "    \n",
    "#     for batch_start in progress_bar:\n",
    "#         current_batch_size = min(batch_size, max_iter - batch_start)\n",
    "        \n",
    "#         # Generate batch of candidates\n",
    "#         candidates = generate_candidates_batch(best_weights, current_batch_size, noise_std)\n",
    "        \n",
    "#         # Evaluate all candidates in parallel\n",
    "#         scores = evaluate_candidates_parallel(candidates, preds_sample, y_true_sample, n_jobs)\n",
    "        \n",
    "#         # Find best candidate in batch\n",
    "#         best_idx = np.argmin(scores)\n",
    "#         best_batch_score = scores[best_idx]\n",
    "        \n",
    "#         if best_batch_score < best_score:\n",
    "#             best_score = best_batch_score\n",
    "#             best_weights = candidates[best_idx].copy()\n",
    "#             local_iter = 0\n",
    "#             improvements += 1\n",
    "            \n",
    "#             # Adaptive noise: increase exploration when finding improvements\n",
    "#             if adaptive_noise:\n",
    "#                 noise_std = min(0.001, noise_std * 1.1)\n",
    "#         else:\n",
    "#             local_iter += current_batch_size\n",
    "            \n",
    "#             # Adaptive noise: decrease noise when not finding improvements\n",
    "#             if adaptive_noise:\n",
    "#                 noise_std = max(0.00001, noise_std * 0.95)\n",
    "        \n",
    "#         # Update progress bar\n",
    "#         progress_bar.set_postfix({\n",
    "#             'Best Score': f'{best_score:.6f}',\n",
    "#             'Improvements': improvements,\n",
    "#             'Noise Std': f'{noise_std:.6f}'\n",
    "#         })\n",
    "        \n",
    "#         if local_iter >= patience:\n",
    "#             print(f\"\\nEarly stopping at iteration {batch_start + current_batch_size}\")\n",
    "#             break\n",
    "    \n",
    "#     # Final evaluation on full dataset if we used sampling\n",
    "#     if sample_fraction < 1.0 and n_samples > 10000:\n",
    "#         final_score = evaluate_combination_fast(best_weights, preds, y_true)\n",
    "#         print(f\"Final score on full dataset: {final_score:.6f}\")\n",
    "#     else:\n",
    "#         final_score = best_score\n",
    "    \n",
    "#     return final_score, best_weights, batch_start + current_batch_size\n",
    "\n",
    "# def multi_start_hill_climbing(preds, y_true, n_starts=5, **kwargs):\n",
    "#     \"\"\"\n",
    "#     Run hill climbing from multiple random starting points\n",
    "#     \"\"\"\n",
    "#     # Convert to numpy arrays if pandas objects\n",
    "#     import pandas as pd\n",
    "#     if isinstance(preds, pd.DataFrame):\n",
    "#         preds = preds.values\n",
    "#     if isinstance(y_true, (pd.Series, pd.DataFrame)):\n",
    "#         y_true = y_true.values\n",
    "    \n",
    "#     # Ensure y_true is 1D\n",
    "#     if y_true.ndim > 1:\n",
    "#         y_true = y_true.ravel()\n",
    "    \n",
    "#     print(f\"Running {n_starts} independent hill climbing runs...\")\n",
    "    \n",
    "#     best_overall_score = float('inf')\n",
    "#     best_overall_weights = None\n",
    "    \n",
    "#     for start in range(n_starts):\n",
    "#         print(f\"\\n--- Start {start + 1}/{n_starts} ---\")\n",
    "        \n",
    "#         # Random initialization\n",
    "#         n_models = preds.shape[1]\n",
    "#         init_weights = np.random.dirichlet(np.ones(n_models))\n",
    "        \n",
    "#         # Modify kwargs to use this initialization\n",
    "#         kwargs_copy = kwargs.copy()\n",
    "        \n",
    "#         # Run hill climbing\n",
    "#         score, weights, iterations = adaptive_hill_climbing(preds, y_true, **kwargs_copy)\n",
    "        \n",
    "#         if score < best_overall_score:\n",
    "#             best_overall_score = score\n",
    "#             best_overall_weights = weights\n",
    "#             print(f\"New best score: {score:.6f}\")\n",
    "    \n",
    "#     return best_overall_score, best_overall_weights\n",
    "\n",
    "# # Example usage and comparison\n",
    "# if __name__ == \"__main__\":\n",
    "#     # Generate sample data for testing\n",
    "#     np.random.seed(42)\n",
    "#     n_samples, n_models = 50000, 5\n",
    "    \n",
    "#     # Create synthetic predictions and true values\n",
    "#     preds = np.random.exponential(2, (n_samples, n_models))\n",
    "#     y_true = np.random.exponential(2, n_samples)\n",
    "    \n",
    "#     print(\"Testing optimized hill climbing...\")\n",
    "    \n",
    "#     # Run optimized version\n",
    "#     import time\n",
    "#     # start_time = time.time()\n",
    "    \n",
    "#     # best_score, best_weights, n_iter = adaptive_hill_climbing(\n",
    "#     #     train_oofs, y, \n",
    "#     #     max_iter=10000, \n",
    "#     #     patience=1000,\n",
    "#     #     batch_size=100,\n",
    "#     #     n_jobs=-1,\n",
    "#     #     sample_fraction=1.0  # Use 20% of data for optimization\n",
    "#     # )\n",
    "    \n",
    "#     # end_time = time.time()\n",
    "    \n",
    "#     # print(f\"\\nOptimized Results:\")\n",
    "#     # print(f\"Best Score: {best_score:.6f}\")\n",
    "#     # print(f\"Best Weights: {best_weights}\")\n",
    "#     # print(f\"Iterations: {n_iter}\")\n",
    "#     # print(f\"Time taken: {end_time - start_time:.2f} seconds\")\n",
    "    \n",
    "#     # # Optional: Run multi-start version for even better results\n",
    "#     # print(\"\\n\" + \"=\"*50)\n",
    "#     print(\"Testing multi-start approach...\")\n",
    "    \n",
    "#     start_time = time.time()\n",
    "#     multi_score, multi_weights = multi_start_hill_climbing(\n",
    "#         train_oofs, y,\n",
    "#         n_starts=3,\n",
    "#         max_iter=100000,\n",
    "#         patience=100000,\n",
    "#         batch_size=1,\n",
    "#         sample_fraction=1.0\n",
    "#     )\n",
    "#     end_time = time.time()\n",
    "    \n",
    "#     print(f\"\\nMulti-start Results:\")\n",
    "#     print(f\"Best Score: {multi_score:.6f}\")\n",
    "#     print(f\"Best Weights: {multi_weights}\")\n",
    "#     print(f\"Time taken: {end_time - start_time:.2f} seconds\")"
   ]
  },
  {
   "cell_type": "code",
   "execution_count": 12,
   "id": "e67b2e1b",
   "metadata": {
    "execution": {
     "iopub.execute_input": "2025-05-30T21:31:51.464590Z",
     "iopub.status.busy": "2025-05-30T21:31:51.464352Z",
     "iopub.status.idle": "2025-05-31T00:08:57.631928Z",
     "shell.execute_reply": "2025-05-31T00:08:57.631025Z"
    },
    "papermill": {
     "duration": 9426.172934,
     "end_time": "2025-05-31T00:08:57.633121",
     "exception": false,
     "start_time": "2025-05-30T21:31:51.460187",
     "status": "completed"
    },
    "tags": []
   },
   "outputs": [
    {
     "name": "stderr",
     "output_type": "stream",
     "text": [
      "100%|██████████| 100000/100000 [2:37:06<00:00, 10.61it/s]\n"
     ]
    }
   ],
   "source": [
    "best_score, best_weights, n_iter = hill_climbing(train_oofs, y, max_iter=100000, patience=50000)"
   ]
  },
  {
   "cell_type": "code",
   "execution_count": 13,
   "id": "76414cba",
   "metadata": {
    "execution": {
     "iopub.execute_input": "2025-05-31T00:09:01.327798Z",
     "iopub.status.busy": "2025-05-31T00:09:01.327555Z",
     "iopub.status.idle": "2025-05-31T00:09:01.331046Z",
     "shell.execute_reply": "2025-05-31T00:09:01.330255Z"
    },
    "papermill": {
     "duration": 1.850218,
     "end_time": "2025-05-31T00:09:01.332149",
     "exception": false,
     "start_time": "2025-05-31T00:08:59.481931",
     "status": "completed"
    },
    "tags": []
   },
   "outputs": [],
   "source": [
    "# print(f'finalized at iter :{n_iter}')\n",
    "# print('---------------')\n",
    "# print(f'best score with hill climbing :{best_score}')\n",
    "# print('---------------')\n",
    "# print(f'best weights with hill climbing :{best_weights}')"
   ]
  },
  {
   "cell_type": "code",
   "execution_count": 14,
   "id": "cdd6ef46",
   "metadata": {
    "execution": {
     "iopub.execute_input": "2025-05-31T00:09:05.093928Z",
     "iopub.status.busy": "2025-05-31T00:09:05.093673Z",
     "iopub.status.idle": "2025-05-31T00:09:05.096609Z",
     "shell.execute_reply": "2025-05-31T00:09:05.096151Z"
    },
    "papermill": {
     "duration": 1.815315,
     "end_time": "2025-05-31T00:09:05.097566",
     "exception": false,
     "start_time": "2025-05-31T00:09:03.282251",
     "status": "completed"
    },
    "tags": []
   },
   "outputs": [],
   "source": [
    "# def cv_score(X, y, model, seed=seed)"
   ]
  },
  {
   "cell_type": "code",
   "execution_count": 15,
   "id": "44299148",
   "metadata": {
    "execution": {
     "iopub.execute_input": "2025-05-31T00:09:08.889723Z",
     "iopub.status.busy": "2025-05-31T00:09:08.888918Z",
     "iopub.status.idle": "2025-05-31T00:09:08.892963Z",
     "shell.execute_reply": "2025-05-31T00:09:08.892029Z"
    },
    "papermill": {
     "duration": 1.977465,
     "end_time": "2025-05-31T00:09:08.894058",
     "exception": false,
     "start_time": "2025-05-31T00:09:06.916593",
     "status": "completed"
    },
    "tags": []
   },
   "outputs": [],
   "source": [
    "# import lightgbm as lgb\n",
    "# lgb_meta = lgb.LGBMRegressor(\n",
    "#     # Core regularization\n",
    "#     num_leaves=31,           # Reduced from default (31)\n",
    "#     max_depth=6,             # Shallower trees\n",
    "#     min_child_samples=100,   # Increased from default (20)\n",
    "#     reg_alpha=0.0001,           # L1 regularization\n",
    "#     reg_lambda=0.01,          # L2 regularization\n",
    "    \n",
    "#     # Speed + generalization\n",
    "#     learning_rate=0.05,      # Lower for better convergence\n",
    "#     n_estimators=2000,       # Use early_stopping to find optimal\n",
    "#     subsample=0.8,           # Stochastic bagging\n",
    "#     colsample_bytree=0.8,    # Feature subsampling\n",
    "    \n",
    "#     # GPU (if available)\n",
    "#     # device='gpu',            # Enable GPU acceleration\n",
    "#     random_state=seed,\n",
    "#     verbosity=0\n",
    "# )\n",
    "# lgb_meta.fit(train_oofs, y_log)"
   ]
  },
  {
   "cell_type": "code",
   "execution_count": 16,
   "id": "58ef31f3",
   "metadata": {
    "execution": {
     "iopub.execute_input": "2025-05-31T00:09:12.541249Z",
     "iopub.status.busy": "2025-05-31T00:09:12.540811Z",
     "iopub.status.idle": "2025-05-31T00:09:12.544389Z",
     "shell.execute_reply": "2025-05-31T00:09:12.543750Z"
    },
    "papermill": {
     "duration": 1.821227,
     "end_time": "2025-05-31T00:09:12.545442",
     "exception": false,
     "start_time": "2025-05-31T00:09:10.724215",
     "status": "completed"
    },
    "tags": []
   },
   "outputs": [],
   "source": [
    "# preds_log = lgb_meta.predict(test_oofs)\n",
    "# preds = np.expm1(preds_log)"
   ]
  },
  {
   "cell_type": "code",
   "execution_count": 17,
   "id": "761b4ed5",
   "metadata": {
    "execution": {
     "iopub.execute_input": "2025-05-31T00:09:16.188747Z",
     "iopub.status.busy": "2025-05-31T00:09:16.188496Z",
     "iopub.status.idle": "2025-05-31T00:09:16.252239Z",
     "shell.execute_reply": "2025-05-31T00:09:16.251655Z"
    },
    "papermill": {
     "duration": 1.909107,
     "end_time": "2025-05-31T00:09:16.253729",
     "exception": false,
     "start_time": "2025-05-31T00:09:14.344622",
     "status": "completed"
    },
    "tags": []
   },
   "outputs": [],
   "source": [
    "preds = np.dot(test_oofs, best_weights)"
   ]
  },
  {
   "cell_type": "code",
   "execution_count": 18,
   "id": "be67db75",
   "metadata": {
    "execution": {
     "iopub.execute_input": "2025-05-31T00:09:20.019569Z",
     "iopub.status.busy": "2025-05-31T00:09:20.019318Z",
     "iopub.status.idle": "2025-05-31T00:09:20.423799Z",
     "shell.execute_reply": "2025-05-31T00:09:20.423241Z"
    },
    "papermill": {
     "duration": 2.236259,
     "end_time": "2025-05-31T00:09:20.424962",
     "exception": false,
     "start_time": "2025-05-31T00:09:18.188703",
     "status": "completed"
    },
    "tags": []
   },
   "outputs": [],
   "source": [
    "sample_sub = pd.read_csv('/kaggle/input/playground-series-s5e5/sample_submission.csv')\n",
    "sample_sub['Calories'] = preds\n",
    "sample_sub.to_csv('submission.csv', index=False)"
   ]
  },
  {
   "cell_type": "code",
   "execution_count": null,
   "id": "14bdf68f",
   "metadata": {
    "papermill": {
     "duration": 1.911488,
     "end_time": "2025-05-31T00:09:24.156580",
     "exception": false,
     "start_time": "2025-05-31T00:09:22.245092",
     "status": "completed"
    },
    "tags": []
   },
   "outputs": [],
   "source": []
  }
 ],
 "metadata": {
  "kaggle": {
   "accelerator": "none",
   "dataSources": [
    {
     "databundleVersionId": 11893428,
     "sourceId": 91716,
     "sourceType": "competition"
    },
    {
     "databundleVersionId": 12529005,
     "datasetId": 7556233,
     "sourceId": 12010764,
     "sourceType": "datasetVersion"
    },
    {
     "databundleVersionId": 12528903,
     "datasetId": 7551774,
     "sourceId": 12010681,
     "sourceType": "datasetVersion"
    },
    {
     "sourceId": 242716268,
     "sourceType": "kernelVersion"
    }
   ],
   "dockerImageVersionId": 31040,
   "isGpuEnabled": false,
   "isInternetEnabled": true,
   "language": "python",
   "sourceType": "notebook"
  },
  "kernelspec": {
   "display_name": "Python 3",
   "language": "python",
   "name": "python3"
  },
  "language_info": {
   "codemirror_mode": {
    "name": "ipython",
    "version": 3
   },
   "file_extension": ".py",
   "mimetype": "text/x-python",
   "name": "python",
   "nbconvert_exporter": "python",
   "pygments_lexer": "ipython3",
   "version": "3.11.11"
  },
  "papermill": {
   "default_parameters": {},
   "duration": 9478.936846,
   "end_time": "2025-05-31T00:09:26.590880",
   "environment_variables": {},
   "exception": null,
   "input_path": "__notebook__.ipynb",
   "output_path": "__notebook__.ipynb",
   "parameters": {},
   "start_time": "2025-05-30T21:31:27.654034",
   "version": "2.6.0"
  }
 },
 "nbformat": 4,
 "nbformat_minor": 5
}
