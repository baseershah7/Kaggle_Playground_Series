{
 "cells": [
  {
   "cell_type": "code",
   "execution_count": 1,
   "id": "ad461791",
   "metadata": {
    "execution": {
     "iopub.execute_input": "2025-05-28T08:29:27.779827Z",
     "iopub.status.busy": "2025-05-28T08:29:27.779616Z",
     "iopub.status.idle": "2025-05-28T08:29:31.297057Z",
     "shell.execute_reply": "2025-05-28T08:29:31.296261Z"
    },
    "papermill": {
     "duration": 3.52273,
     "end_time": "2025-05-28T08:29:31.298474",
     "exception": false,
     "start_time": "2025-05-28T08:29:27.775744",
     "status": "completed"
    },
    "tags": []
   },
   "outputs": [],
   "source": [
    "import pandas as pd\n",
    "import numpy as np\n",
    "import optuna \n",
    "from optuna.samplers import TPESampler\n",
    "from optuna.pruners import MedianPruner\n",
    "from sklearn.model_selection import KFold\n",
    "from catboost import Pool\n",
    "import catboost as cb\n",
    "from sklearn.metrics import mean_squared_log_error"
   ]
  },
  {
   "cell_type": "code",
   "execution_count": 2,
   "id": "a36c1ad6",
   "metadata": {
    "execution": {
     "iopub.execute_input": "2025-05-28T08:29:31.305085Z",
     "iopub.status.busy": "2025-05-28T08:29:31.304603Z",
     "iopub.status.idle": "2025-05-28T08:29:32.556225Z",
     "shell.execute_reply": "2025-05-28T08:29:32.555652Z"
    },
    "papermill": {
     "duration": 1.256023,
     "end_time": "2025-05-28T08:29:32.557610",
     "exception": false,
     "start_time": "2025-05-28T08:29:31.301587",
     "status": "completed"
    },
    "tags": []
   },
   "outputs": [],
   "source": [
    "train = pd.read_csv('/kaggle/input/playground-series-s5e5/train.csv')\n",
    "test = pd.read_csv('/kaggle/input/playground-series-s5e5/test.csv')"
   ]
  },
  {
   "cell_type": "code",
   "execution_count": 3,
   "id": "b3bd0e2d",
   "metadata": {
    "execution": {
     "iopub.execute_input": "2025-05-28T08:29:32.564277Z",
     "iopub.status.busy": "2025-05-28T08:29:32.564050Z",
     "iopub.status.idle": "2025-05-28T08:29:32.640037Z",
     "shell.execute_reply": "2025-05-28T08:29:32.639471Z"
    },
    "papermill": {
     "duration": 0.080661,
     "end_time": "2025-05-28T08:29:32.641282",
     "exception": false,
     "start_time": "2025-05-28T08:29:32.560621",
     "status": "completed"
    },
    "tags": []
   },
   "outputs": [],
   "source": [
    "sex_mapping = {\n",
    "    'male':0,\n",
    "    'female':1\n",
    "}\n",
    "train['Sex'] = train['Sex'].map(sex_mapping)\n",
    "test['Sex'] = test['Sex'].map(sex_mapping)\n",
    "X = train.drop(columns=['Calories', 'id'])\n",
    "y = train['Calories']"
   ]
  },
  {
   "cell_type": "code",
   "execution_count": 4,
   "id": "2dd7123e",
   "metadata": {
    "execution": {
     "iopub.execute_input": "2025-05-28T08:29:32.647796Z",
     "iopub.status.busy": "2025-05-28T08:29:32.647197Z",
     "iopub.status.idle": "2025-05-28T08:29:32.650365Z",
     "shell.execute_reply": "2025-05-28T08:29:32.649883Z"
    },
    "papermill": {
     "duration": 0.007318,
     "end_time": "2025-05-28T08:29:32.651492",
     "exception": false,
     "start_time": "2025-05-28T08:29:32.644174",
     "status": "completed"
    },
    "tags": []
   },
   "outputs": [],
   "source": [
    "seed = 1"
   ]
  },
  {
   "cell_type": "markdown",
   "id": "198a5df3",
   "metadata": {
    "papermill": {
     "duration": 0.002214,
     "end_time": "2025-05-28T08:29:32.656178",
     "exception": false,
     "start_time": "2025-05-28T08:29:32.653964",
     "status": "completed"
    },
    "tags": []
   },
   "source": [
    "# catboost"
   ]
  },
  {
   "cell_type": "code",
   "execution_count": 5,
   "id": "afb019c8",
   "metadata": {
    "execution": {
     "iopub.execute_input": "2025-05-28T08:29:32.661861Z",
     "iopub.status.busy": "2025-05-28T08:29:32.661657Z",
     "iopub.status.idle": "2025-05-28T08:29:32.667641Z",
     "shell.execute_reply": "2025-05-28T08:29:32.667134Z"
    },
    "papermill": {
     "duration": 0.010218,
     "end_time": "2025-05-28T08:29:32.668713",
     "exception": false,
     "start_time": "2025-05-28T08:29:32.658495",
     "status": "completed"
    },
    "tags": []
   },
   "outputs": [],
   "source": [
    "# def cat_objective(trial):\n",
    "#     # Parameter definitions\n",
    "#     params = {\n",
    "#         'learning_rate': trial.suggest_float('learning_rate', 0.005, 0.2, log=True),\n",
    "#         'depth': trial.suggest_int('depth', 4, 13),  # Shallower trees for GPU\n",
    "#         'l2_leaf_reg': trial.suggest_float('l2_leaf_reg', 1e-4, 10.0, log=True),\n",
    "#         'random_strength': trial.suggest_float('random_strength', 1e-4, 3.0),\n",
    "#         'grow_policy': trial.suggest_categorical('grow_policy', ['SymmetricTree', 'Depthwise']),\n",
    "#         'bootstrap_type': trial.suggest_categorical('bootstrap_type', ['Bayesian', 'Bernoulli']),\n",
    "#         'iterations': trial.suggest_int('iterations', 1000, 3000),\n",
    "#         'task_type': 'GPU',\n",
    "#         'devices': [0],\n",
    "#         'verbose': False,\n",
    "#         'random_seed': 42,\n",
    "#         'early_stopping_rounds': 50,\n",
    "#     }\n",
    "    \n",
    "#     # GPU-specific adjustments\n",
    "#     params.update({\n",
    "#         'border_count': trial.suggest_int('border_count', 64, 128),\n",
    "#         'has_time': trial.suggest_categorical('has_time', [True, False])\n",
    "#     })\n",
    "    \n",
    "#     # Handle bootstrap types\n",
    "#     if params['bootstrap_type'] == 'Bernoulli':\n",
    "#         params['subsample'] = trial.suggest_float('subsample', 0.8, 1.0)\n",
    "    \n",
    "#     # Grow policy constraints\n",
    "#     params['min_data_in_leaf'] = trial.suggest_int('min_data_in_leaf', 20, 100)\n",
    "    \n",
    "#     kf = KFold(n_splits=5, shuffle=True, random_state=42)  # Fixed seed reference\n",
    "#     scores = []\n",
    "    \n",
    "#     for fold, (train_idx, valid_idx) in enumerate(kf.split(X, y)):\n",
    "#         X_train, X_valid = X.iloc[train_idx], X.iloc[valid_idx]\n",
    "#         y_train, y_valid = y.iloc[train_idx], y.iloc[valid_idx]\n",
    "        \n",
    "#         y_train_log = np.log1p(y_train)\n",
    "        \n",
    "#         train_pool = Pool(X_train, y_train_log)\n",
    "#         valid_pool = Pool(X_valid)\n",
    "        \n",
    "#         model = cb.CatBoostRegressor(**params)\n",
    "#         model.fit(train_pool,\n",
    "#                  early_stopping_rounds=params['early_stopping_rounds'])\n",
    "        \n",
    "#         preds_log = model.predict(X_valid)\n",
    "#         preds = np.expm1(preds_log)\n",
    "#         preds = np.clip(preds, 1e-6, None)\n",
    "        \n",
    "#         rmsle = np.sqrt(mean_squared_log_error(y_valid, preds))\n",
    "#         scores.append(rmsle)\n",
    "        \n",
    "#         # Report intermediate score\n",
    "#         trial.report(rmsle, step=fold)\n",
    "        \n",
    "#         # DELAYED PRUNING: Only check for pruning after 3rd fold (index 2)\n",
    "#         if fold >= 2 and trial.should_prune():\n",
    "#             print(f\"Trial {trial.number} pruned after fold {fold + 1}\")\n",
    "#             raise optuna.TrialPruned()\n",
    "    \n",
    "#     final_score = np.mean(scores)\n",
    "#     print(f\"Trial {trial.number} completed with score: {final_score:.6f}\")\n",
    "#     return final_score\n",
    "\n",
    "# # Create study with custom pruner settings\n",
    "# study = optuna.create_study(\n",
    "#     direction='minimize',\n",
    "#     sampler=TPESampler(seed=42, multivariate=True),\n",
    "#     # Use MedianPruner with delayed start\n",
    "#     pruner=MedianPruner(\n",
    "#         n_startup_trials=10,     # Don't prune first 10 trials\n",
    "#         n_warmup_steps=2,        # Wait for 3 folds (0,1,2) before pruning\n",
    "#         interval_steps=1         # Check pruning after each fold\n",
    "#     )\n",
    "# )\n",
    "\n",
    "# # Alternative: More conservative pruning\n",
    "# # study = optuna.create_study(\n",
    "# #     direction='minimize',\n",
    "# #     sampler=TPESampler(seed=42, multivariate=True),\n",
    "# #     pruner=MedianPruner(\n",
    "# #         n_startup_trials=15,     # Don't prune first 15 trials  \n",
    "# #         n_warmup_steps=3,        # Wait for 4 folds before pruning\n",
    "# #         interval_steps=1\n",
    "# #     )\n",
    "# # )\n",
    "\n",
    "# # Even more conservative: Custom percentile pruner\n",
    "# # from optuna.pruners import PercentilePruner\n",
    "# # study = optuna.create_study(\n",
    "# #     direction='minimize',\n",
    "# #     sampler=TPESampler(seed=42, multivariate=True),\n",
    "# #     pruner=PercentilePruner(\n",
    "# #         percentile=25.0,         # Only prune bottom 25% of trials\n",
    "# #         n_startup_trials=20,     # More startup trials\n",
    "# #         n_warmup_steps=3         # Wait for 4 folds\n",
    "# #     )\n",
    "# # )\n",
    "\n",
    "# print(\"Starting optimization with delayed pruning...\")\n",
    "# print(\"Pruning will only occur after fold 3 (index 2)\")\n",
    "\n",
    "# # Run optimization\n",
    "# study.optimize(cat_objective, n_trials=150)\n",
    "\n",
    "# # Print results\n",
    "# print(f\"\\nBest trial: {study.best_trial.number}\")\n",
    "# print(f\"Best score: {study.best_value:.6f}\")\n",
    "# print(\"Best parameters:\")\n",
    "# for key, value in study.best_params.items():\n",
    "#     print(f\"  {key}: {value}\")\n",
    "\n",
    "# # Analyze pruning statistics\n",
    "# pruned_trials = [t for t in study.trials if t.state == optuna.trial.TrialState.PRUNED]\n",
    "# completed_trials = [t for t in study.trials if t.state == optuna.trial.TrialState.COMPLETE]\n",
    "\n",
    "# print(f\"\\nPruning Statistics:\")\n",
    "# print(f\"Total trials: {len(study.trials)}\")\n",
    "# print(f\"Completed trials: {len(completed_trials)}\")\n",
    "# print(f\"Pruned trials: {len(pruned_trials)}\")\n",
    "# print(f\"Pruning rate: {len(pruned_trials)/len(study.trials)*100:.1f}%\")\n",
    "\n",
    "# # Show when trials were pruned\n",
    "# if pruned_trials:\n",
    "#     pruning_folds = [len(t.intermediate_values) for t in pruned_trials]\n",
    "#     print(f\"Pruned after folds: {pruning_folds}\")\n",
    "#     print(f\"Average fold when pruned: {np.mean(pruning_folds):.1f}\")\n",
    "\n",
    "# # # Alternative implementation with manual pruning control\n",
    "# # def cat_objective_manual_pruning(trial):\n",
    "# #     \"\"\"Version with complete manual control over pruning\"\"\"\n",
    "# #     # ... [same parameter setup as above] ...\n",
    "    \n",
    "# #     # Your parameter setup code here (same as above)\n",
    "# #     params = {\n",
    "# #         'learning_rate': trial.suggest_float('learning_rate', 0.005, 0.2, log=True),\n",
    "# #         'depth': trial.suggest_int('depth', 4, 13),\n",
    "# #         'l2_leaf_reg': trial.suggest_float('l2_leaf_reg', 1e-4, 10.0, log=True),\n",
    "# #         'random_strength': trial.suggest_float('random_strength', 1e-4, 3.0),\n",
    "# #         'grow_policy': trial.suggest_categorical('grow_policy', ['SymmetricTree', 'Depthwise']),\n",
    "# #         'bootstrap_type': trial.suggest_categorical('bootstrap_type', ['Bayesian', 'Bernoulli']),\n",
    "# #         'iterations': trial.suggest_int('iterations', 1000, 3000),\n",
    "# #         'task_type': 'GPU',\n",
    "# #         'devices': [0],\n",
    "# #         'verbose': False,\n",
    "# #         'random_seed': 42,\n",
    "# #         'early_stopping_rounds': 50,\n",
    "# #     }\n",
    "    \n",
    "# #     if params['bootstrap_type'] == 'Bernoulli':\n",
    "# #         params['subsample'] = trial.suggest_float('subsample', 0.8, 1.0)\n",
    "    \n",
    "# #     params.update({\n",
    "# #         'border_count': trial.suggest_int('border_count', 64, 128),\n",
    "# #         'has_time': trial.suggest_categorical('has_time', [True, False]),\n",
    "# #         'min_data_in_leaf': trial.suggest_int('min_data_in_leaf', 20, 100)\n",
    "# #     })\n",
    "    \n",
    "# #     kf = KFold(n_splits=5, shuffle=True, random_state=42)\n",
    "# #     scores = []\n",
    "    \n",
    "# #     # Define your pruning policy\n",
    "# #     MIN_FOLDS_BEFORE_PRUNING = 3  # Change this to 4 if you want to wait longer\n",
    "    \n",
    "# #     for fold, (train_idx, valid_idx) in enumerate(kf.split(X, y)):\n",
    "# #         # ... [same training code] ...\n",
    "# #         X_train, X_valid = X.iloc[train_idx], X.iloc[valid_idx]\n",
    "# #         y_train, y_valid = y.iloc[train_idx], y.iloc[valid_idx]\n",
    "        \n",
    "# #         y_train_log = np.log1p(y_train)\n",
    "# #         train_pool = Pool(X_train, y_train_log)\n",
    "        \n",
    "# #         model = cb.CatBoostRegressor(**params)\n",
    "# #         model.fit(train_pool, early_stopping_rounds=params['early_stopping_rounds'])\n",
    "        \n",
    "# #         preds_log = model.predict(X_valid)\n",
    "# #         preds = np.expm1(preds_log)\n",
    "# #         preds = np.clip(preds, 1e-6, None)\n",
    "        \n",
    "# #         rmsle = np.sqrt(mean_squared_log_error(y_valid, preds))\n",
    "# #         scores.append(rmsle)\n",
    "# #         trial.report(rmsle, step=fold)\n",
    "        \n",
    "# #         # Custom pruning logic: only prune after minimum folds AND if performance is bad\n",
    "# #         if fold >= MIN_FOLDS_BEFORE_PRUNING:\n",
    "# #             current_avg = np.mean(scores)\n",
    "# #             # Additional condition: only prune if significantly worse than median\n",
    "# #             if trial.should_prune():\n",
    "# #                 print(f\"Trial {trial.number} pruned after fold {fold + 1} with avg score {current_avg:.6f}\")\n",
    "# #                 raise optuna.TrialPruned()\n",
    "    \n",
    "# #     return np.mean(scores)\n",
    "\n",
    "# # Uncomment to use the manual version:\n",
    "# # study_manual = optuna.create_study(\n",
    "# #     direction='minimize',\n",
    "# #     sampler=TPESampler(seed=42, multivariate=True),\n",
    "# #     pruner=MedianPruner(n_startup_trials=15, n_warmup_steps=3)\n",
    "# # )\n",
    "# # study_manual.optimize(cat_objective_manual_pruning, n_trials=150)"
   ]
  },
  {
   "cell_type": "code",
   "execution_count": 6,
   "id": "65627c4e",
   "metadata": {
    "execution": {
     "iopub.execute_input": "2025-05-28T08:29:32.674062Z",
     "iopub.status.busy": "2025-05-28T08:29:32.673869Z",
     "iopub.status.idle": "2025-05-28T08:29:32.676622Z",
     "shell.execute_reply": "2025-05-28T08:29:32.676143Z"
    },
    "papermill": {
     "duration": 0.006662,
     "end_time": "2025-05-28T08:29:32.677718",
     "exception": false,
     "start_time": "2025-05-28T08:29:32.671056",
     "status": "completed"
    },
    "tags": []
   },
   "outputs": [],
   "source": [
    "# print(\"Best trial:\")\n",
    "# trial = study.best_trial\n",
    "# print(f\"  RMSLE: {trial.value:.5f}\")\n",
    "# print(\"  Params: \")\n",
    "# for key, value in trial.params.items():\n",
    "#     print(f\"    {key}: {value}\")\n",
    "\n",
    "# # Train final model\n",
    "# best_params = study.best_params.copy()\n",
    "# best_params.update({'early_stopping_rounds': None}) "
   ]
  },
  {
   "cell_type": "markdown",
   "id": "2bb58c35",
   "metadata": {
    "papermill": {
     "duration": 0.00218,
     "end_time": "2025-05-28T08:29:32.682250",
     "exception": false,
     "start_time": "2025-05-28T08:29:32.680070",
     "status": "completed"
    },
    "tags": []
   },
   "source": [
    "# Lightgbm"
   ]
  },
  {
   "cell_type": "code",
   "execution_count": 7,
   "id": "a69b400a",
   "metadata": {
    "execution": {
     "iopub.execute_input": "2025-05-28T08:29:32.687956Z",
     "iopub.status.busy": "2025-05-28T08:29:32.687755Z",
     "iopub.status.idle": "2025-05-28T08:29:32.691827Z",
     "shell.execute_reply": "2025-05-28T08:29:32.691316Z"
    },
    "papermill": {
     "duration": 0.008239,
     "end_time": "2025-05-28T08:29:32.692901",
     "exception": false,
     "start_time": "2025-05-28T08:29:32.684662",
     "status": "completed"
    },
    "tags": []
   },
   "outputs": [],
   "source": [
    "# import lightgbm as lgb\n",
    "# import warnings\n",
    "\n",
    "# warnings.filterwarnings('ignore')\n",
    "# def lgbm_objective(trial):\n",
    "#     # Parameter definitions with very diverse ranges\n",
    "#     params = {\n",
    "#         'learning_rate': trial.suggest_float('learning_rate', 0.005, 0.3, log=True),\n",
    "#         'num_leaves': trial.suggest_int('num_leaves', 10, 300),\n",
    "#         'max_depth': trial.suggest_int('max_depth', 3, 15),\n",
    "#         'min_data_in_leaf': trial.suggest_int('min_data_in_leaf', 5, 200),\n",
    "#         'min_sum_hessian_in_leaf': trial.suggest_float('min_sum_hessian_in_leaf', 1e-4, 10.0, log=True),\n",
    "#         'feature_fraction': trial.suggest_float('feature_fraction', 0.4, 1.0),\n",
    "#         'bagging_fraction': trial.suggest_float('bagging_fraction', 0.4, 1.0),\n",
    "#         'bagging_freq': trial.suggest_int('bagging_freq', 0, 7),\n",
    "#         'lambda_l1': trial.suggest_float('lambda_l1', 1e-8, 10.0, log=True),\n",
    "#         'lambda_l2': trial.suggest_float('lambda_l2', 1e-8, 10.0, log=True),\n",
    "#         'min_gain_to_split': trial.suggest_float('min_gain_to_split', 0.0, 0.5),\n",
    "#         'max_bin': trial.suggest_int('max_bin', 63, 255),\n",
    "#         'num_iterations': trial.suggest_int('num_iterations', 500, 3000),\n",
    "#         'boosting_type': trial.suggest_categorical('boosting_type', ['gbdt']),\n",
    "#         'objective': 'regression',\n",
    "#         'metric': 'rmse',\n",
    "#         'verbose': -1,\n",
    "#         'random_seed': 42,\n",
    "#         'early_stopping_rounds': 50,\n",
    "#         'device_type': 'gpu',\n",
    "#         # 'tree_method': 'gpu_hist',\n",
    "#         # 'device': 'cuda',\n",
    "#         # 'gpu_platform_id': 0,\n",
    "#         # 'gpu_device_id': 0,\n",
    "#     }\n",
    "    \n",
    "    \n",
    "#     # Additional diverse parameters\n",
    "#     params['path_smooth'] = trial.suggest_float('path_smooth', 0.0, 100.0)\n",
    "#     params['extra_trees'] = trial.suggest_categorical('extra_trees', [True, False])\n",
    "#     if params['extra_trees']:\n",
    "#         params['extra_seed'] = trial.suggest_int('extra_seed', 1, 1000)\n",
    "    \n",
    "#     kf = KFold(n_splits=5, shuffle=True, random_state=42)\n",
    "#     scores = []\n",
    "    \n",
    "#     for fold, (train_idx, valid_idx) in enumerate(kf.split(X, y)):\n",
    "#         X_train, X_valid = X.iloc[train_idx], X.iloc[valid_idx]\n",
    "#         y_train, y_valid = y.iloc[train_idx], y.iloc[valid_idx]\n",
    "        \n",
    "#         y_train_log = np.log1p(y_train)\n",
    "        \n",
    "#         train_data = lgb.Dataset(X_train, label=y_train_log)\n",
    "#         valid_data = lgb.Dataset(X_valid, label=np.log1p(y_valid), reference=train_data)\n",
    "        \n",
    "#         model = lgb.train(\n",
    "#             params,\n",
    "#             train_data,\n",
    "#             valid_sets=[valid_data],\n",
    "#             callbacks=[lgb.early_stopping(params['early_stopping_rounds']), lgb.log_evaluation(0)]\n",
    "#         )\n",
    "        \n",
    "#         preds_log = model.predict(X_valid, num_iteration=model.best_iteration)\n",
    "#         preds = np.expm1(preds_log)\n",
    "#         preds = np.clip(preds, 1e-6, None)\n",
    "        \n",
    "#         rmsle = np.sqrt(mean_squared_log_error(y_valid, preds))\n",
    "#         scores.append(rmsle)\n",
    "        \n",
    "#         # Report intermediate score\n",
    "#         trial.report(rmsle, step=fold)\n",
    "        \n",
    "#         # DELAYED PRUNING: Only check for pruning after 3rd fold (index 2)\n",
    "#         if fold >= 2 and trial.should_prune():\n",
    "#             print(f\"Trial {trial.number} pruned after fold {fold + 1}\")\n",
    "#             raise optuna.TrialPruned()\n",
    "    \n",
    "#     final_score = np.mean(scores)\n",
    "#     print(f\"Trial {trial.number} completed with score: {final_score:.6f}\")\n",
    "#     return final_score\n",
    "\n",
    "# # Create study for LightGBM\n",
    "# study_lgbm = optuna.create_study(\n",
    "#     direction='minimize',\n",
    "#     sampler=TPESampler(seed=42, multivariate=True),\n",
    "#     pruner=MedianPruner(\n",
    "#         n_startup_trials=10,\n",
    "#         n_warmup_steps=2,\n",
    "#         interval_steps=1\n",
    "#     )\n",
    "# )\n",
    "\n",
    "# print(\"Starting LightGBM optimization with delayed pruning...\")\n",
    "# print(\"Pruning will only occur after fold 3 (index 2)\")\n",
    "# study_lgbm.optimize(lgbm_objective, n_trials=150)"
   ]
  },
  {
   "cell_type": "code",
   "execution_count": 8,
   "id": "5740a072",
   "metadata": {
    "execution": {
     "iopub.execute_input": "2025-05-28T08:29:32.698445Z",
     "iopub.status.busy": "2025-05-28T08:29:32.698234Z",
     "iopub.status.idle": "2025-05-28T08:29:32.700987Z",
     "shell.execute_reply": "2025-05-28T08:29:32.700497Z"
    },
    "papermill": {
     "duration": 0.006769,
     "end_time": "2025-05-28T08:29:32.701998",
     "exception": false,
     "start_time": "2025-05-28T08:29:32.695229",
     "status": "completed"
    },
    "tags": []
   },
   "outputs": [],
   "source": [
    "# print(\"Best trial:\")\n",
    "# trial = study_lgbm.best_trial\n",
    "# print(f\"  RMSLE: {trial.value:.5f}\")\n",
    "# print(\"  Params: \")\n",
    "# for key, value in trial.params.items():\n",
    "#     print(f\"    {key}: {value}\")\n",
    "\n",
    "# # Train final model\n",
    "# best_params = study_lgbm.best_params.copy()\n",
    "# best_params.update({'early_stopping_rounds': None}) "
   ]
  },
  {
   "cell_type": "markdown",
   "id": "112a4fa5",
   "metadata": {
    "papermill": {
     "duration": 0.002268,
     "end_time": "2025-05-28T08:29:32.706590",
     "exception": false,
     "start_time": "2025-05-28T08:29:32.704322",
     "status": "completed"
    },
    "tags": []
   },
   "source": [
    "# xgboost"
   ]
  },
  {
   "cell_type": "code",
   "execution_count": 9,
   "id": "d4171fb3",
   "metadata": {
    "execution": {
     "iopub.execute_input": "2025-05-28T08:29:32.712363Z",
     "iopub.status.busy": "2025-05-28T08:29:32.712169Z",
     "iopub.status.idle": "2025-05-28T13:27:32.687355Z",
     "shell.execute_reply": "2025-05-28T13:27:32.686675Z"
    },
    "papermill": {
     "duration": 17879.997054,
     "end_time": "2025-05-28T13:27:32.706012",
     "exception": false,
     "start_time": "2025-05-28T08:29:32.708958",
     "status": "completed"
    },
    "tags": []
   },
   "outputs": [
    {
     "name": "stderr",
     "output_type": "stream",
     "text": [
      "/usr/local/lib/python3.11/dist-packages/optuna/_experimental.py:31: ExperimentalWarning: Argument ``multivariate`` is an experimental feature. The interface can change in the future.\n",
      "  warnings.warn(\n",
      "[I 2025-05-28 08:29:32,723] A new study created in memory with name: no-name-3011e00d-6175-43f3-ab62-36ff7fe4c698\n"
     ]
    },
    {
     "name": "stdout",
     "output_type": "stream",
     "text": [
      "Starting XGBoost optimization with delayed pruning...\n",
      "Pruning will only occur after fold 3 (index 2)\n"
     ]
    },
    {
     "name": "stderr",
     "output_type": "stream",
     "text": [
      "[I 2025-05-28 08:33:13,214] Trial 0 finished with value: 0.060847950453070246 and parameters: {'learning_rate': 0.023171758042400847, 'max_depth': 15, 'min_child_weight': 4.83437145318464, 'subsample': 0.759195090518222, 'colsample_bytree': 0.4936111842654619, 'colsample_bylevel': 0.49359671220172163, 'colsample_bynode': 0.4348501673009197, 'reg_alpha': 0.6245760287469893, 'reg_lambda': 0.002570603566117598, 'gamma': 0.004619347374377372, 'max_delta_step': 0.20584494295802447, 'n_estimators': 4865, 'booster': 'gbtree', 'grow_policy': 'depthwise', 'max_bin': 145, 'scale_pos_weight': 1.915704647548995, 'max_cat_to_onehot': 4}. Best is trial 0 with value: 0.060847950453070246.\n"
     ]
    },
    {
     "name": "stdout",
     "output_type": "stream",
     "text": [
      "Trial 0 completed with score: 0.060848\n"
     ]
    },
    {
     "name": "stderr",
     "output_type": "stream",
     "text": [
      "[I 2025-05-28 08:35:03,185] Trial 1 finished with value: 0.0605602881329176 and parameters: {'learning_rate': 0.042861395747190736, 'max_depth': 8, 'min_child_weight': 0.4678719265016201, 'subsample': 0.7671117368334277, 'colsample_bytree': 0.4836963163912251, 'colsample_bylevel': 0.5752867891211308, 'colsample_bynode': 0.619817105976215, 'reg_alpha': 0.00012724181576752517, 'reg_lambda': 0.1165691561324743, 'gamma': 3.9572205641009174e-07, 'max_delta_step': 5.142344384136116, 'n_estimators': 3166, 'booster': 'gbtree', 'grow_policy': 'lossguide', 'max_leaves': 43, 'max_bin': 93, 'scale_pos_weight': 9.493966818808, 'max_cat_to_onehot': 10}. Best is trial 1 with value: 0.0605602881329176.\n"
     ]
    },
    {
     "name": "stdout",
     "output_type": "stream",
     "text": [
      "Trial 1 completed with score: 0.060560\n"
     ]
    },
    {
     "name": "stderr",
     "output_type": "stream",
     "text": [
      "[I 2025-05-28 08:35:43,840] Trial 2 finished with value: 0.060885609418753414 and parameters: {'learning_rate': 0.1369060876012629, 'max_depth': 6, 'min_child_weight': 0.1677824238407793, 'subsample': 0.8105398159072941, 'colsample_bytree': 0.6640914962437607, 'colsample_bylevel': 0.47322294090686734, 'colsample_bynode': 0.6971061460667621, 'reg_alpha': 2.039373116525212e-08, 'reg_lambda': 1.527156759251193, 'gamma': 1.1755466083160747e-06, 'max_delta_step': 6.62522284353982, 'n_estimators': 1903, 'booster': 'gbtree', 'grow_policy': 'lossguide', 'max_leaves': 47, 'max_bin': 499, 'scale_pos_weight': 7.773814951275034, 'max_cat_to_onehot': 10}. Best is trial 1 with value: 0.0605602881329176.\n"
     ]
    },
    {
     "name": "stdout",
     "output_type": "stream",
     "text": [
      "Trial 2 completed with score: 0.060886\n"
     ]
    },
    {
     "name": "stderr",
     "output_type": "stream",
     "text": [
      "[I 2025-05-28 08:36:06,448] Trial 3 finished with value: 0.06859821612307279 and parameters: {'learning_rate': 0.19503312360612082, 'max_depth': 10, 'min_child_weight': 13.220877067405619, 'subsample': 0.4530955012311517, 'colsample_bytree': 0.5175897174514872, 'colsample_bylevel': 0.4271363733463229, 'colsample_bynode': 0.5951981984579586, 'reg_alpha': 3.148441347423712e-05, 'reg_lambda': 2.7678419414850017e-06, 'gamma': 0.04264813784432918, 'max_delta_step': 3.567533266935893, 'n_estimators': 1764, 'booster': 'gbtree', 'grow_policy': 'depthwise', 'max_bin': 424, 'scale_pos_weight': 0.8380513724297312, 'max_cat_to_onehot': 10}. Best is trial 1 with value: 0.0605602881329176.\n"
     ]
    },
    {
     "name": "stdout",
     "output_type": "stream",
     "text": [
      "Trial 3 completed with score: 0.068598\n"
     ]
    },
    {
     "name": "stderr",
     "output_type": "stream",
     "text": [
      "[I 2025-05-28 08:36:29,900] Trial 4 finished with value: 0.060743694162798255 and parameters: {'learning_rate': 0.11806957676577463, 'max_depth': 5, 'min_child_weight': 0.10296901472345191, 'subsample': 0.8892768570729005, 'colsample_bytree': 0.8241144063085704, 'colsample_bylevel': 0.8374043008245924, 'colsample_bynode': 0.8627622080115674, 'reg_alpha': 4.638759594322625e-08, 'reg_lambda': 1.683416412018213e-05, 'gamma': 8.451863533931625e-08, 'max_delta_step': 8.631034258755935, 'n_estimators': 3305, 'booster': 'gbtree', 'grow_policy': 'depthwise', 'max_bin': 203, 'scale_pos_weight': 3.319314888064796, 'max_cat_to_onehot': 8}. Best is trial 1 with value: 0.0605602881329176.\n"
     ]
    },
    {
     "name": "stdout",
     "output_type": "stream",
     "text": [
      "Trial 4 completed with score: 0.060744\n"
     ]
    },
    {
     "name": "stderr",
     "output_type": "stream",
     "text": [
      "[I 2025-05-28 08:37:59,102] Trial 5 finished with value: 0.061300718248801 and parameters: {'learning_rate': 0.06802109504934968, 'max_depth': 14, 'min_child_weight': 1.2206206339370174, 'subsample': 0.471756547562981, 'colsample_bytree': 0.827946872333797, 'colsample_bylevel': 0.8564710291701385, 'colsample_bynode': 0.7367663185416977, 'reg_alpha': 0.08683696167603723, 'reg_lambda': 0.0002780739892288472, 'gamma': 0.00015200666650051572, 'max_delta_step': 4.275410183585496, 'n_estimators': 614, 'booster': 'gbtree', 'grow_policy': 'depthwise', 'max_bin': 349, 'scale_pos_weight': 3.212124212655634, 'max_cat_to_onehot': 6}. Best is trial 1 with value: 0.0605602881329176.\n"
     ]
    },
    {
     "name": "stdout",
     "output_type": "stream",
     "text": [
      "Trial 5 completed with score: 0.061301\n"
     ]
    },
    {
     "name": "stderr",
     "output_type": "stream",
     "text": [
      "[I 2025-05-28 08:38:15,123] Trial 6 finished with value: 0.06441804967003573 and parameters: {'learning_rate': 0.20547569815878264, 'max_depth': 6, 'min_child_weight': 0.8796368519322921, 'subsample': 0.8533306831258292, 'colsample_bytree': 0.5372788992949735, 'colsample_bylevel': 0.44618794589727584, 'colsample_bynode': 0.5738508717482609, 'reg_alpha': 2.824825241715838e-07, 'reg_lambda': 2.3295866619309256, 'gamma': 0.02917178717777813, 'max_delta_step': 6.334037565104235, 'n_estimators': 4422, 'booster': 'gbtree', 'grow_policy': 'depthwise', 'max_bin': 464, 'scale_pos_weight': 5.439488194964942, 'max_cat_to_onehot': 9}. Best is trial 1 with value: 0.0605602881329176.\n"
     ]
    },
    {
     "name": "stdout",
     "output_type": "stream",
     "text": [
      "Trial 6 completed with score: 0.064418\n"
     ]
    },
    {
     "name": "stderr",
     "output_type": "stream",
     "text": [
      "[I 2025-05-28 08:38:36,260] Trial 7 finished with value: 0.06267355019563806 and parameters: {'learning_rate': 0.19604504485810242, 'max_depth': 7, 'min_child_weight': 0.17915658660381903, 'subsample': 0.536761097525165, 'colsample_bytree': 0.6562646731757538, 'colsample_bylevel': 0.8908088595534959, 'colsample_bynode': 0.916438349953806, 'reg_alpha': 1.1549659339590204e-08, 'reg_lambda': 0.00039511700681839584, 'gamma': 2.1841779839273957e-05, 'max_delta_step': 2.2210781047073027, 'n_estimators': 1039, 'booster': 'gbtree', 'grow_policy': 'lossguide', 'max_leaves': 83, 'max_bin': 296, 'scale_pos_weight': 7.059887693062261, 'max_cat_to_onehot': 4}. Best is trial 1 with value: 0.0605602881329176.\n"
     ]
    },
    {
     "name": "stdout",
     "output_type": "stream",
     "text": [
      "Trial 7 completed with score: 0.062674\n"
     ]
    },
    {
     "name": "stderr",
     "output_type": "stream",
     "text": [
      "[I 2025-05-28 08:40:16,196] Trial 8 finished with value: 0.07204481298762926 and parameters: {'learning_rate': 0.26726711753181176, 'max_depth': 15, 'min_child_weight': 0.37962833053422157, 'subsample': 0.6983491035354312, 'colsample_bytree': 0.5805269858900618, 'colsample_bylevel': 0.5709042966264806, 'colsample_bynode': 0.4221321684127197, 'reg_alpha': 0.003062520509464317, 'reg_lambda': 0.0003342806277473177, 'gamma': 2.5812496493273626e-08, 'max_delta_step': 2.7864646423661146, 'n_estimators': 4588, 'booster': 'gbtree', 'grow_policy': 'depthwise', 'max_bin': 283, 'scale_pos_weight': 9.857939495694946, 'max_cat_to_onehot': 3}. Best is trial 1 with value: 0.0605602881329176.\n"
     ]
    },
    {
     "name": "stdout",
     "output_type": "stream",
     "text": [
      "Trial 8 completed with score: 0.072045\n"
     ]
    },
    {
     "name": "stderr",
     "output_type": "stream",
     "text": [
      "[I 2025-05-28 08:40:45,199] Trial 9 finished with value: 0.06143942989686366 and parameters: {'learning_rate': 0.07836617837752659, 'max_depth': 12, 'min_child_weight': 0.3522176513696156, 'subsample': 0.8369298091671158, 'colsample_bytree': 0.620669879631552, 'colsample_bylevel': 0.7793834983561476, 'colsample_bynode': 0.7801178264565368, 'reg_alpha': 0.000663700518115767, 'reg_lambda': 6.495430353937541e-08, 'gamma': 0.04813045471469242, 'max_delta_step': 3.2078006497173583, 'n_estimators': 1339, 'booster': 'gbtree', 'grow_policy': 'lossguide', 'max_leaves': 174, 'max_bin': 71, 'scale_pos_weight': 5.169721277162881, 'max_cat_to_onehot': 3}. Best is trial 1 with value: 0.0605602881329176.\n",
      "[W 2025-05-28 08:40:45,305] The parameter 'max_leaves' in trial#10 is sampled independently instead of being sampled by multivariate TPE sampler. (optimization performance may be degraded). You can suppress this warning by setting `warn_independent_sampling` to `False` in the constructor of `TPESampler`, if this independent sampling is intended behavior.\n"
     ]
    },
    {
     "name": "stdout",
     "output_type": "stream",
     "text": [
      "Trial 9 completed with score: 0.061439\n"
     ]
    },
    {
     "name": "stderr",
     "output_type": "stream",
     "text": [
      "[I 2025-05-28 08:41:27,051] Trial 10 pruned. \n",
      "[W 2025-05-28 08:41:27,099] The parameter 'max_leaves' in trial#11 is sampled independently instead of being sampled by multivariate TPE sampler. (optimization performance may be degraded). You can suppress this warning by setting `warn_independent_sampling` to `False` in the constructor of `TPESampler`, if this independent sampling is intended behavior.\n"
     ]
    },
    {
     "name": "stdout",
     "output_type": "stream",
     "text": [
      "Trial 10 pruned after fold 3\n"
     ]
    },
    {
     "name": "stderr",
     "output_type": "stream",
     "text": [
      "[I 2025-05-28 08:42:09,803] Trial 11 finished with value: 0.060692800346143216 and parameters: {'learning_rate': 0.08586819862864455, 'max_depth': 3, 'min_child_weight': 0.659206269041938, 'subsample': 0.8189111243583245, 'colsample_bytree': 0.8201863569935756, 'colsample_bylevel': 0.9511682776773722, 'colsample_bynode': 0.8989360489720802, 'reg_alpha': 2.5329415898695205e-07, 'reg_lambda': 5.865011661239906e-05, 'gamma': 1.281353842661618e-08, 'max_delta_step': 7.187676217239755, 'n_estimators': 3548, 'booster': 'gbtree', 'grow_policy': 'lossguide', 'max_leaves': 227, 'max_bin': 154, 'scale_pos_weight': 0.1593270820335131, 'max_cat_to_onehot': 9}. Best is trial 1 with value: 0.0605602881329176.\n",
      "[W 2025-05-28 08:42:09,849] The parameter 'max_leaves' in trial#12 is sampled independently instead of being sampled by multivariate TPE sampler. (optimization performance may be degraded). You can suppress this warning by setting `warn_independent_sampling` to `False` in the constructor of `TPESampler`, if this independent sampling is intended behavior.\n"
     ]
    },
    {
     "name": "stdout",
     "output_type": "stream",
     "text": [
      "Trial 11 completed with score: 0.060693\n"
     ]
    },
    {
     "name": "stderr",
     "output_type": "stream",
     "text": [
      "[I 2025-05-28 08:46:41,481] Trial 12 finished with value: 0.060630484567802644 and parameters: {'learning_rate': 0.02445481729440752, 'max_depth': 11, 'min_child_weight': 1.1067672595730227, 'subsample': 0.8764892926961202, 'colsample_bytree': 0.4401331440289918, 'colsample_bylevel': 0.6310077095352852, 'colsample_bynode': 0.5277967782532448, 'reg_alpha': 0.00010356759401562085, 'reg_lambda': 0.7690765531563629, 'gamma': 2.1243074513215769e-07, 'max_delta_step': 4.190561909623922, 'n_estimators': 3945, 'booster': 'gbtree', 'grow_policy': 'lossguide', 'max_leaves': 253, 'max_bin': 154, 'scale_pos_weight': 8.201959455616588, 'max_cat_to_onehot': 10}. Best is trial 1 with value: 0.0605602881329176.\n",
      "[W 2025-05-28 08:46:41,526] The parameter 'max_leaves' in trial#13 is sampled independently instead of being sampled by multivariate TPE sampler. (optimization performance may be degraded). You can suppress this warning by setting `warn_independent_sampling` to `False` in the constructor of `TPESampler`, if this independent sampling is intended behavior.\n"
     ]
    },
    {
     "name": "stdout",
     "output_type": "stream",
     "text": [
      "Trial 12 completed with score: 0.060630\n"
     ]
    },
    {
     "name": "stderr",
     "output_type": "stream",
     "text": [
      "[I 2025-05-28 08:48:14,151] Trial 13 finished with value: 0.06066578347783498 and parameters: {'learning_rate': 0.05552468766538997, 'max_depth': 8, 'min_child_weight': 0.32036929531952163, 'subsample': 0.8632704465199843, 'colsample_bytree': 0.5882388933129675, 'colsample_bylevel': 0.4591397363997235, 'colsample_bynode': 0.42678178914139925, 'reg_alpha': 0.00026653026752344324, 'reg_lambda': 8.63980200055605e-05, 'gamma': 1.0741558518765523e-08, 'max_delta_step': 4.236606106913111, 'n_estimators': 2560, 'booster': 'gbtree', 'grow_policy': 'lossguide', 'max_leaves': 248, 'max_bin': 100, 'scale_pos_weight': 6.939455015311338, 'max_cat_to_onehot': 9}. Best is trial 1 with value: 0.0605602881329176.\n",
      "[W 2025-05-28 08:48:14,197] The parameter 'max_leaves' in trial#14 is sampled independently instead of being sampled by multivariate TPE sampler. (optimization performance may be degraded). You can suppress this warning by setting `warn_independent_sampling` to `False` in the constructor of `TPESampler`, if this independent sampling is intended behavior.\n"
     ]
    },
    {
     "name": "stdout",
     "output_type": "stream",
     "text": [
      "Trial 13 completed with score: 0.060666\n"
     ]
    },
    {
     "name": "stderr",
     "output_type": "stream",
     "text": [
      "[I 2025-05-28 08:52:47,051] Trial 14 finished with value: 0.06014822094741053 and parameters: {'learning_rate': 0.01439127182781346, 'max_depth': 8, 'min_child_weight': 1.4655394231919494, 'subsample': 0.9381052965182817, 'colsample_bytree': 0.5930324256475483, 'colsample_bylevel': 0.7393444414841693, 'colsample_bynode': 0.6288021965409721, 'reg_alpha': 8.470960881866466e-05, 'reg_lambda': 0.4972815359753085, 'gamma': 3.7093196158038113e-06, 'max_delta_step': 4.56449514404421, 'n_estimators': 4421, 'booster': 'gbtree', 'grow_policy': 'lossguide', 'max_leaves': 130, 'max_bin': 130, 'scale_pos_weight': 8.289507175434837, 'max_cat_to_onehot': 8}. Best is trial 14 with value: 0.06014822094741053.\n",
      "[W 2025-05-28 08:52:47,097] The parameter 'max_leaves' in trial#15 is sampled independently instead of being sampled by multivariate TPE sampler. (optimization performance may be degraded). You can suppress this warning by setting `warn_independent_sampling` to `False` in the constructor of `TPESampler`, if this independent sampling is intended behavior.\n"
     ]
    },
    {
     "name": "stdout",
     "output_type": "stream",
     "text": [
      "Trial 14 completed with score: 0.060148\n"
     ]
    },
    {
     "name": "stderr",
     "output_type": "stream",
     "text": [
      "[I 2025-05-28 08:53:28,850] Trial 15 pruned. \n",
      "[W 2025-05-28 08:53:28,895] The parameter 'max_leaves' in trial#16 is sampled independently instead of being sampled by multivariate TPE sampler. (optimization performance may be degraded). You can suppress this warning by setting `warn_independent_sampling` to `False` in the constructor of `TPESampler`, if this independent sampling is intended behavior.\n"
     ]
    },
    {
     "name": "stdout",
     "output_type": "stream",
     "text": [
      "Trial 15 pruned after fold 3\n"
     ]
    },
    {
     "name": "stderr",
     "output_type": "stream",
     "text": [
      "[I 2025-05-28 08:57:39,287] Trial 16 finished with value: 0.060111328436615895 and parameters: {'learning_rate': 0.01082076900201413, 'max_depth': 7, 'min_child_weight': 1.074700840042942, 'subsample': 0.9332596685614301, 'colsample_bytree': 0.7552623650160837, 'colsample_bylevel': 0.5955123155070401, 'colsample_bynode': 0.827811713889476, 'reg_alpha': 5.100682033999442e-06, 'reg_lambda': 0.00452387752431874, 'gamma': 1.484474887578742e-06, 'max_delta_step': 4.602026727395694, 'n_estimators': 4936, 'booster': 'gbtree', 'grow_policy': 'lossguide', 'max_leaves': 116, 'max_bin': 221, 'scale_pos_weight': 4.626737861561696, 'max_cat_to_onehot': 5}. Best is trial 16 with value: 0.060111328436615895.\n",
      "[W 2025-05-28 08:57:39,333] The parameter 'max_leaves' in trial#17 is sampled independently instead of being sampled by multivariate TPE sampler. (optimization performance may be degraded). You can suppress this warning by setting `warn_independent_sampling` to `False` in the constructor of `TPESampler`, if this independent sampling is intended behavior.\n"
     ]
    },
    {
     "name": "stdout",
     "output_type": "stream",
     "text": [
      "Trial 16 completed with score: 0.060111\n"
     ]
    },
    {
     "name": "stderr",
     "output_type": "stream",
     "text": [
      "[I 2025-05-28 08:59:15,752] Trial 17 finished with value: 0.059864894890026096 and parameters: {'learning_rate': 0.02036829538998453, 'max_depth': 6, 'min_child_weight': 1.8072185633144242, 'subsample': 0.8676916298962055, 'colsample_bytree': 0.7687383475284811, 'colsample_bylevel': 0.6993370339112298, 'colsample_bynode': 0.8695871590367974, 'reg_alpha': 7.060298202099289e-06, 'reg_lambda': 0.13681944611547403, 'gamma': 0.0004516244283788257, 'max_delta_step': 2.081013006883005, 'n_estimators': 4884, 'booster': 'gbtree', 'grow_policy': 'lossguide', 'max_leaves': 128, 'max_bin': 169, 'scale_pos_weight': 5.430605818785444, 'max_cat_to_onehot': 5}. Best is trial 17 with value: 0.059864894890026096.\n",
      "[W 2025-05-28 08:59:15,798] The parameter 'max_leaves' in trial#18 is sampled independently instead of being sampled by multivariate TPE sampler. (optimization performance may be degraded). You can suppress this warning by setting `warn_independent_sampling` to `False` in the constructor of `TPESampler`, if this independent sampling is intended behavior.\n"
     ]
    },
    {
     "name": "stdout",
     "output_type": "stream",
     "text": [
      "Trial 17 completed with score: 0.059865\n"
     ]
    },
    {
     "name": "stderr",
     "output_type": "stream",
     "text": [
      "[I 2025-05-28 09:06:37,941] Trial 18 finished with value: 0.06018057102063958 and parameters: {'learning_rate': 0.006456971629163886, 'max_depth': 10, 'min_child_weight': 3.220272644669406, 'subsample': 0.942094592129955, 'colsample_bytree': 0.8159495980769068, 'colsample_bylevel': 0.494604029865036, 'colsample_bynode': 0.8963048801875594, 'reg_alpha': 3.136883038278248e-06, 'reg_lambda': 0.07696394223917417, 'gamma': 2.160843004888791e-06, 'max_delta_step': 2.732804583227942, 'n_estimators': 4962, 'booster': 'gbtree', 'grow_policy': 'lossguide', 'max_leaves': 156, 'max_bin': 287, 'scale_pos_weight': 6.427000853410512, 'max_cat_to_onehot': 4}. Best is trial 17 with value: 0.059864894890026096.\n",
      "[W 2025-05-28 09:06:37,986] The parameter 'max_leaves' in trial#19 is sampled independently instead of being sampled by multivariate TPE sampler. (optimization performance may be degraded). You can suppress this warning by setting `warn_independent_sampling` to `False` in the constructor of `TPESampler`, if this independent sampling is intended behavior.\n"
     ]
    },
    {
     "name": "stdout",
     "output_type": "stream",
     "text": [
      "Trial 18 completed with score: 0.060181\n"
     ]
    },
    {
     "name": "stderr",
     "output_type": "stream",
     "text": [
      "[I 2025-05-28 09:08:22,450] Trial 19 finished with value: 0.05974578622157417 and parameters: {'learning_rate': 0.017906443544349487, 'max_depth': 7, 'min_child_weight': 1.7789422024628117, 'subsample': 0.8060152230048162, 'colsample_bytree': 0.7860038401568461, 'colsample_bylevel': 0.7197951905523552, 'colsample_bynode': 0.7941219629872377, 'reg_alpha': 7.39332313934971e-08, 'reg_lambda': 0.0822236460726539, 'gamma': 0.0009273943681147801, 'max_delta_step': 0.8264121249139151, 'n_estimators': 3912, 'booster': 'gbtree', 'grow_policy': 'lossguide', 'max_leaves': 103, 'max_bin': 83, 'scale_pos_weight': 5.282742467345818, 'max_cat_to_onehot': 6}. Best is trial 19 with value: 0.05974578622157417.\n",
      "[W 2025-05-28 09:08:22,499] The parameter 'max_leaves' in trial#20 is sampled independently instead of being sampled by multivariate TPE sampler. (optimization performance may be degraded). You can suppress this warning by setting `warn_independent_sampling` to `False` in the constructor of `TPESampler`, if this independent sampling is intended behavior.\n"
     ]
    },
    {
     "name": "stdout",
     "output_type": "stream",
     "text": [
      "Trial 19 completed with score: 0.059746\n"
     ]
    },
    {
     "name": "stderr",
     "output_type": "stream",
     "text": [
      "[I 2025-05-28 09:09:02,782] Trial 20 pruned. \n",
      "[W 2025-05-28 09:09:02,835] The parameter 'max_leaves' in trial#21 is sampled independently instead of being sampled by multivariate TPE sampler. (optimization performance may be degraded). You can suppress this warning by setting `warn_independent_sampling` to `False` in the constructor of `TPESampler`, if this independent sampling is intended behavior.\n"
     ]
    },
    {
     "name": "stdout",
     "output_type": "stream",
     "text": [
      "Trial 20 pruned after fold 3\n"
     ]
    },
    {
     "name": "stderr",
     "output_type": "stream",
     "text": [
      "[I 2025-05-28 09:10:06,468] Trial 21 pruned. \n"
     ]
    },
    {
     "name": "stdout",
     "output_type": "stream",
     "text": [
      "Trial 21 pruned after fold 3\n"
     ]
    },
    {
     "name": "stderr",
     "output_type": "stream",
     "text": [
      "[I 2025-05-28 09:10:52,753] Trial 22 pruned. \n",
      "[W 2025-05-28 09:10:52,811] The parameter 'max_leaves' in trial#23 is sampled independently instead of being sampled by multivariate TPE sampler. (optimization performance may be degraded). You can suppress this warning by setting `warn_independent_sampling` to `False` in the constructor of `TPESampler`, if this independent sampling is intended behavior.\n"
     ]
    },
    {
     "name": "stdout",
     "output_type": "stream",
     "text": [
      "Trial 22 pruned after fold 3\n"
     ]
    },
    {
     "name": "stderr",
     "output_type": "stream",
     "text": [
      "[I 2025-05-28 09:11:36,299] Trial 23 pruned. \n",
      "[W 2025-05-28 09:11:36,350] The parameter 'max_leaves' in trial#24 is sampled independently instead of being sampled by multivariate TPE sampler. (optimization performance may be degraded). You can suppress this warning by setting `warn_independent_sampling` to `False` in the constructor of `TPESampler`, if this independent sampling is intended behavior.\n"
     ]
    },
    {
     "name": "stdout",
     "output_type": "stream",
     "text": [
      "Trial 23 pruned after fold 3\n"
     ]
    },
    {
     "name": "stderr",
     "output_type": "stream",
     "text": [
      "[I 2025-05-28 09:12:51,665] Trial 24 finished with value: 0.06003629194560288 and parameters: {'learning_rate': 0.026190061171700713, 'max_depth': 6, 'min_child_weight': 5.673083000675047, 'subsample': 0.8365313042259712, 'colsample_bytree': 0.8465441255469358, 'colsample_bylevel': 0.7495119655627254, 'colsample_bynode': 0.9957075023354507, 'reg_alpha': 1.6926793324186798e-07, 'reg_lambda': 1.8369971554394464, 'gamma': 0.0034738304565070464, 'max_delta_step': 1.0634949496431712, 'n_estimators': 4543, 'booster': 'gbtree', 'grow_policy': 'lossguide', 'max_leaves': 162, 'max_bin': 184, 'scale_pos_weight': 8.217996463468577, 'max_cat_to_onehot': 5}. Best is trial 19 with value: 0.05974578622157417.\n",
      "[W 2025-05-28 09:12:51,718] The parameter 'max_leaves' in trial#25 is sampled independently instead of being sampled by multivariate TPE sampler. (optimization performance may be degraded). You can suppress this warning by setting `warn_independent_sampling` to `False` in the constructor of `TPESampler`, if this independent sampling is intended behavior.\n"
     ]
    },
    {
     "name": "stdout",
     "output_type": "stream",
     "text": [
      "Trial 24 completed with score: 0.060036\n"
     ]
    },
    {
     "name": "stderr",
     "output_type": "stream",
     "text": [
      "[I 2025-05-28 09:15:10,024] Trial 25 finished with value: 0.06064649741074616 and parameters: {'learning_rate': 0.007699714228476276, 'max_depth': 7, 'min_child_weight': 9.51643031042001, 'subsample': 0.9010171456331882, 'colsample_bytree': 0.6735234608984482, 'colsample_bylevel': 0.9446447681052357, 'colsample_bynode': 0.9073734967205322, 'reg_alpha': 0.00010108589743000212, 'reg_lambda': 1.5957668671198628, 'gamma': 0.13666673670808183, 'max_delta_step': 3.691835767034085, 'n_estimators': 4383, 'booster': 'gbtree', 'grow_policy': 'lossguide', 'max_leaves': 168, 'max_bin': 166, 'scale_pos_weight': 8.089084427121719, 'max_cat_to_onehot': 4}. Best is trial 19 with value: 0.05974578622157417.\n",
      "[W 2025-05-28 09:15:10,072] The parameter 'max_leaves' in trial#26 is sampled independently instead of being sampled by multivariate TPE sampler. (optimization performance may be degraded). You can suppress this warning by setting `warn_independent_sampling` to `False` in the constructor of `TPESampler`, if this independent sampling is intended behavior.\n"
     ]
    },
    {
     "name": "stdout",
     "output_type": "stream",
     "text": [
      "Trial 25 completed with score: 0.060646\n"
     ]
    },
    {
     "name": "stderr",
     "output_type": "stream",
     "text": [
      "[I 2025-05-28 09:16:47,183] Trial 26 finished with value: 0.06047572861827488 and parameters: {'learning_rate': 0.03804231922954004, 'max_depth': 4, 'min_child_weight': 5.931939135921728, 'subsample': 0.8275278685916558, 'colsample_bytree': 0.7894020675027297, 'colsample_bylevel': 0.7602518541013616, 'colsample_bynode': 0.9948735373559754, 'reg_alpha': 1.0853501703537558e-08, 'reg_lambda': 9.810285592753193, 'gamma': 0.00012790160618662196, 'max_delta_step': 3.741995298634133, 'n_estimators': 4906, 'booster': 'gbtree', 'grow_policy': 'lossguide', 'max_leaves': 183, 'max_bin': 149, 'scale_pos_weight': 5.971874391476945, 'max_cat_to_onehot': 7}. Best is trial 19 with value: 0.05974578622157417.\n"
     ]
    },
    {
     "name": "stdout",
     "output_type": "stream",
     "text": [
      "Trial 26 completed with score: 0.060476\n"
     ]
    },
    {
     "name": "stderr",
     "output_type": "stream",
     "text": [
      "[I 2025-05-28 09:17:52,568] Trial 27 pruned. \n",
      "[W 2025-05-28 09:17:52,620] The parameter 'max_leaves' in trial#28 is sampled independently instead of being sampled by multivariate TPE sampler. (optimization performance may be degraded). You can suppress this warning by setting `warn_independent_sampling` to `False` in the constructor of `TPESampler`, if this independent sampling is intended behavior.\n"
     ]
    },
    {
     "name": "stdout",
     "output_type": "stream",
     "text": [
      "Trial 27 pruned after fold 3\n"
     ]
    },
    {
     "name": "stderr",
     "output_type": "stream",
     "text": [
      "[I 2025-05-28 09:18:42,261] Trial 28 finished with value: 0.05996871052040779 and parameters: {'learning_rate': 0.03880858163378883, 'max_depth': 9, 'min_child_weight': 0.892342777586882, 'subsample': 0.6793252158120312, 'colsample_bytree': 0.7308694713588443, 'colsample_bylevel': 0.9082431231959088, 'colsample_bynode': 0.769187029438011, 'reg_alpha': 1.6467664025960545e-08, 'reg_lambda': 0.1595757650466283, 'gamma': 0.0014317304337642847, 'max_delta_step': 4.351688514783993, 'n_estimators': 3803, 'booster': 'gbtree', 'grow_policy': 'lossguide', 'max_leaves': 165, 'max_bin': 73, 'scale_pos_weight': 0.45795582340334917, 'max_cat_to_onehot': 2}. Best is trial 19 with value: 0.05974578622157417.\n"
     ]
    },
    {
     "name": "stdout",
     "output_type": "stream",
     "text": [
      "Trial 28 completed with score: 0.059969\n"
     ]
    },
    {
     "name": "stderr",
     "output_type": "stream",
     "text": [
      "[I 2025-05-28 09:19:53,519] Trial 29 finished with value: 0.05987174928072334 and parameters: {'learning_rate': 0.022632998645841385, 'max_depth': 8, 'min_child_weight': 0.15264463328836003, 'subsample': 0.609799948446939, 'colsample_bytree': 0.7096958724247521, 'colsample_bylevel': 0.9978720409726249, 'colsample_bynode': 0.8613619931084421, 'reg_alpha': 8.328657476347373e-08, 'reg_lambda': 0.0015717830643945014, 'gamma': 0.00026803619840047935, 'max_delta_step': 5.341435380488308, 'n_estimators': 2575, 'booster': 'gbtree', 'grow_policy': 'depthwise', 'max_bin': 92, 'scale_pos_weight': 0.8009832742707015, 'max_cat_to_onehot': 1}. Best is trial 19 with value: 0.05974578622157417.\n"
     ]
    },
    {
     "name": "stdout",
     "output_type": "stream",
     "text": [
      "Trial 29 completed with score: 0.059872\n"
     ]
    },
    {
     "name": "stderr",
     "output_type": "stream",
     "text": [
      "[I 2025-05-28 09:20:45,543] Trial 30 finished with value: 0.06004379989665239 and parameters: {'learning_rate': 0.02965722772708212, 'max_depth': 7, 'min_child_weight': 0.12657857323427585, 'subsample': 0.5556924494582856, 'colsample_bytree': 0.7107606417979394, 'colsample_bylevel': 0.9464485276321514, 'colsample_bynode': 0.7707259345366791, 'reg_alpha': 3.3406484651111034e-06, 'reg_lambda': 0.026760565055417768, 'gamma': 1.2562709729295158e-06, 'max_delta_step': 8.336375194141786, 'n_estimators': 1408, 'booster': 'gbtree', 'grow_policy': 'depthwise', 'max_bin': 116, 'scale_pos_weight': 2.9827320491471125, 'max_cat_to_onehot': 1}. Best is trial 19 with value: 0.05974578622157417.\n",
      "[W 2025-05-28 09:20:45,597] The parameter 'max_leaves' in trial#31 is sampled independently instead of being sampled by multivariate TPE sampler. (optimization performance may be degraded). You can suppress this warning by setting `warn_independent_sampling` to `False` in the constructor of `TPESampler`, if this independent sampling is intended behavior.\n"
     ]
    },
    {
     "name": "stdout",
     "output_type": "stream",
     "text": [
      "Trial 30 completed with score: 0.060044\n"
     ]
    },
    {
     "name": "stderr",
     "output_type": "stream",
     "text": [
      "[I 2025-05-28 09:21:47,722] Trial 31 finished with value: 0.059855482377744386 and parameters: {'learning_rate': 0.0288556458056989, 'max_depth': 9, 'min_child_weight': 0.49010696228833583, 'subsample': 0.7367882755103381, 'colsample_bytree': 0.7202160734157639, 'colsample_bylevel': 0.8977762622665583, 'colsample_bynode': 0.955041092604749, 'reg_alpha': 2.73945696640308e-08, 'reg_lambda': 0.6386295440807096, 'gamma': 0.004431444581447275, 'max_delta_step': 8.249836118600694, 'n_estimators': 3272, 'booster': 'gbtree', 'grow_policy': 'lossguide', 'max_leaves': 99, 'max_bin': 142, 'scale_pos_weight': 0.6297611244447491, 'max_cat_to_onehot': 3}. Best is trial 19 with value: 0.05974578622157417.\n"
     ]
    },
    {
     "name": "stdout",
     "output_type": "stream",
     "text": [
      "Trial 31 completed with score: 0.059855\n"
     ]
    },
    {
     "name": "stderr",
     "output_type": "stream",
     "text": [
      "[I 2025-05-28 09:22:30,835] Trial 32 finished with value: 0.060458881603765724 and parameters: {'learning_rate': 0.04554304359035249, 'max_depth': 9, 'min_child_weight': 0.13346105903781783, 'subsample': 0.545930896266705, 'colsample_bytree': 0.6206643388867042, 'colsample_bylevel': 0.8467958407990954, 'colsample_bynode': 0.9019169418468437, 'reg_alpha': 5.429591044177711e-08, 'reg_lambda': 0.00112441489488512, 'gamma': 1.098060478599477e-06, 'max_delta_step': 2.0643876936775225, 'n_estimators': 2497, 'booster': 'gbtree', 'grow_policy': 'depthwise', 'max_bin': 108, 'scale_pos_weight': 0.7319750820307935, 'max_cat_to_onehot': 1}. Best is trial 19 with value: 0.05974578622157417.\n",
      "[W 2025-05-28 09:22:30,885] The parameter 'max_leaves' in trial#33 is sampled independently instead of being sampled by multivariate TPE sampler. (optimization performance may be degraded). You can suppress this warning by setting `warn_independent_sampling` to `False` in the constructor of `TPESampler`, if this independent sampling is intended behavior.\n"
     ]
    },
    {
     "name": "stdout",
     "output_type": "stream",
     "text": [
      "Trial 32 completed with score: 0.060459\n"
     ]
    },
    {
     "name": "stderr",
     "output_type": "stream",
     "text": [
      "[I 2025-05-28 09:24:36,498] Trial 33 finished with value: 0.05992816475519245 and parameters: {'learning_rate': 0.018357124933036685, 'max_depth': 11, 'min_child_weight': 0.6377819570732189, 'subsample': 0.8701800908053297, 'colsample_bytree': 0.612113149157908, 'colsample_bylevel': 0.8548126472049741, 'colsample_bynode': 0.99533090191038, 'reg_alpha': 1.2488817389384246e-05, 'reg_lambda': 0.002082710236288756, 'gamma': 4.865524519995149e-05, 'max_delta_step': 7.788643790713935, 'n_estimators': 3118, 'booster': 'gbtree', 'grow_policy': 'lossguide', 'max_leaves': 70, 'max_bin': 98, 'scale_pos_weight': 1.957937799473152, 'max_cat_to_onehot': 5}. Best is trial 19 with value: 0.05974578622157417.\n"
     ]
    },
    {
     "name": "stdout",
     "output_type": "stream",
     "text": [
      "Trial 33 completed with score: 0.059928\n"
     ]
    },
    {
     "name": "stderr",
     "output_type": "stream",
     "text": [
      "[I 2025-05-28 09:27:02,199] Trial 34 finished with value: 0.059507505792674366 and parameters: {'learning_rate': 0.007590885015863115, 'max_depth': 9, 'min_child_weight': 0.1395793756609114, 'subsample': 0.6551517688044026, 'colsample_bytree': 0.7838339039390583, 'colsample_bylevel': 0.9460717900069175, 'colsample_bynode': 0.8842875600622316, 'reg_alpha': 5.067596023656512e-05, 'reg_lambda': 0.010435082128133894, 'gamma': 0.007169162946862657, 'max_delta_step': 5.775829918776177, 'n_estimators': 2539, 'booster': 'gbtree', 'grow_policy': 'depthwise', 'max_bin': 101, 'scale_pos_weight': 0.3862501478382216, 'max_cat_to_onehot': 1}. Best is trial 34 with value: 0.059507505792674366.\n",
      "[W 2025-05-28 09:27:02,250] The parameter 'max_leaves' in trial#35 is sampled independently instead of being sampled by multivariate TPE sampler. (optimization performance may be degraded). You can suppress this warning by setting `warn_independent_sampling` to `False` in the constructor of `TPESampler`, if this independent sampling is intended behavior.\n"
     ]
    },
    {
     "name": "stdout",
     "output_type": "stream",
     "text": [
      "Trial 34 completed with score: 0.059508\n"
     ]
    },
    {
     "name": "stderr",
     "output_type": "stream",
     "text": [
      "[I 2025-05-28 09:29:01,475] Trial 35 finished with value: 0.05980393348893439 and parameters: {'learning_rate': 0.011847820762200376, 'max_depth': 9, 'min_child_weight': 0.32396843378793777, 'subsample': 0.5394211476303664, 'colsample_bytree': 0.9217577382859125, 'colsample_bylevel': 0.8162050058998981, 'colsample_bynode': 0.9666525096554821, 'reg_alpha': 0.00213375304257564, 'reg_lambda': 0.38785221233275763, 'gamma': 0.003192521145151441, 'max_delta_step': 7.731073879650496, 'n_estimators': 2012, 'booster': 'gbtree', 'grow_policy': 'lossguide', 'max_leaves': 82, 'max_bin': 93, 'scale_pos_weight': 2.5602697926126754, 'max_cat_to_onehot': 1}. Best is trial 34 with value: 0.059507505792674366.\n",
      "[W 2025-05-28 09:29:01,526] The parameter 'max_leaves' in trial#36 is sampled independently instead of being sampled by multivariate TPE sampler. (optimization performance may be degraded). You can suppress this warning by setting `warn_independent_sampling` to `False` in the constructor of `TPESampler`, if this independent sampling is intended behavior.\n"
     ]
    },
    {
     "name": "stdout",
     "output_type": "stream",
     "text": [
      "Trial 35 completed with score: 0.059804\n"
     ]
    },
    {
     "name": "stderr",
     "output_type": "stream",
     "text": [
      "[I 2025-05-28 09:30:22,114] Trial 36 finished with value: 0.06006306687216052 and parameters: {'learning_rate': 0.02126908665278938, 'max_depth': 11, 'min_child_weight': 0.8516374725335641, 'subsample': 0.4435388258177814, 'colsample_bytree': 0.9108463806506527, 'colsample_bylevel': 0.7042950236411132, 'colsample_bynode': 0.9841275260827214, 'reg_alpha': 0.0002570055473777143, 'reg_lambda': 2.2067329786767202, 'gamma': 0.00019502177415980506, 'max_delta_step': 7.0162335384748955, 'n_estimators': 1841, 'booster': 'gbtree', 'grow_policy': 'lossguide', 'max_leaves': 66, 'max_bin': 205, 'scale_pos_weight': 4.661847414507101, 'max_cat_to_onehot': 1}. Best is trial 34 with value: 0.059507505792674366.\n"
     ]
    },
    {
     "name": "stdout",
     "output_type": "stream",
     "text": [
      "Trial 36 completed with score: 0.060063\n"
     ]
    },
    {
     "name": "stderr",
     "output_type": "stream",
     "text": [
      "[I 2025-05-28 09:31:29,759] Trial 37 finished with value: 0.060283747777191074 and parameters: {'learning_rate': 0.01070559786828596, 'max_depth': 5, 'min_child_weight': 0.31963651361647233, 'subsample': 0.5954701476823134, 'colsample_bytree': 0.9394398610167811, 'colsample_bylevel': 0.7454987313448928, 'colsample_bynode': 0.890956440684745, 'reg_alpha': 0.043360652061591065, 'reg_lambda': 0.41212169294663387, 'gamma': 0.005696568824395867, 'max_delta_step': 9.047675061793592, 'n_estimators': 2441, 'booster': 'gbtree', 'grow_policy': 'depthwise', 'max_bin': 106, 'scale_pos_weight': 3.9745907093214994, 'max_cat_to_onehot': 1}. Best is trial 34 with value: 0.059507505792674366.\n",
      "[W 2025-05-28 09:31:29,812] The parameter 'max_leaves' in trial#38 is sampled independently instead of being sampled by multivariate TPE sampler. (optimization performance may be degraded). You can suppress this warning by setting `warn_independent_sampling` to `False` in the constructor of `TPESampler`, if this independent sampling is intended behavior.\n"
     ]
    },
    {
     "name": "stdout",
     "output_type": "stream",
     "text": [
      "Trial 37 completed with score: 0.060284\n"
     ]
    },
    {
     "name": "stderr",
     "output_type": "stream",
     "text": [
      "[I 2025-05-28 09:34:25,075] Trial 38 finished with value: 0.05986480440791684 and parameters: {'learning_rate': 0.005486230700513199, 'max_depth': 11, 'min_child_weight': 0.14933360376911, 'subsample': 0.5959522026913349, 'colsample_bytree': 0.8650035277725658, 'colsample_bylevel': 0.7675439729775848, 'colsample_bynode': 0.9718187445689337, 'reg_alpha': 0.00595987809816478, 'reg_lambda': 8.41053691929146, 'gamma': 0.011759201203506433, 'max_delta_step': 8.570021154879004, 'n_estimators': 2597, 'booster': 'gbtree', 'grow_policy': 'lossguide', 'max_leaves': 76, 'max_bin': 153, 'scale_pos_weight': 3.1720941379192436, 'max_cat_to_onehot': 6}. Best is trial 34 with value: 0.059507505792674366.\n"
     ]
    },
    {
     "name": "stdout",
     "output_type": "stream",
     "text": [
      "Trial 38 completed with score: 0.059865\n"
     ]
    },
    {
     "name": "stderr",
     "output_type": "stream",
     "text": [
      "[I 2025-05-28 09:35:06,831] Trial 39 pruned. \n",
      "[W 2025-05-28 09:35:06,890] The parameter 'max_leaves' in trial#40 is sampled independently instead of being sampled by multivariate TPE sampler. (optimization performance may be degraded). You can suppress this warning by setting `warn_independent_sampling` to `False` in the constructor of `TPESampler`, if this independent sampling is intended behavior.\n"
     ]
    },
    {
     "name": "stdout",
     "output_type": "stream",
     "text": [
      "Trial 39 pruned after fold 3\n"
     ]
    },
    {
     "name": "stderr",
     "output_type": "stream",
     "text": [
      "[I 2025-05-28 09:35:35,174] Trial 40 pruned. \n",
      "[W 2025-05-28 09:35:35,225] The parameter 'max_leaves' in trial#41 is sampled independently instead of being sampled by multivariate TPE sampler. (optimization performance may be degraded). You can suppress this warning by setting `warn_independent_sampling` to `False` in the constructor of `TPESampler`, if this independent sampling is intended behavior.\n"
     ]
    },
    {
     "name": "stdout",
     "output_type": "stream",
     "text": [
      "Trial 40 pruned after fold 3\n"
     ]
    },
    {
     "name": "stderr",
     "output_type": "stream",
     "text": [
      "[I 2025-05-28 09:36:59,296] Trial 41 pruned. \n",
      "[W 2025-05-28 09:36:59,353] The parameter 'max_leaves' in trial#42 is sampled independently instead of being sampled by multivariate TPE sampler. (optimization performance may be degraded). You can suppress this warning by setting `warn_independent_sampling` to `False` in the constructor of `TPESampler`, if this independent sampling is intended behavior.\n"
     ]
    },
    {
     "name": "stdout",
     "output_type": "stream",
     "text": [
      "Trial 41 pruned after fold 3\n"
     ]
    },
    {
     "name": "stderr",
     "output_type": "stream",
     "text": [
      "[I 2025-05-28 09:39:20,908] Trial 42 finished with value: 0.05975106845575282 and parameters: {'learning_rate': 0.014700165169008725, 'max_depth': 15, 'min_child_weight': 0.19052688634750847, 'subsample': 0.7314719689766687, 'colsample_bytree': 0.7554136564600256, 'colsample_bylevel': 0.9092155667343373, 'colsample_bynode': 0.9266454221413006, 'reg_alpha': 0.0006245369013368091, 'reg_lambda': 5.7667639984571, 'gamma': 0.0027901114323518367, 'max_delta_step': 8.043821450172265, 'n_estimators': 2464, 'booster': 'gbtree', 'grow_policy': 'lossguide', 'max_leaves': 88, 'max_bin': 79, 'scale_pos_weight': 7.865901744661959, 'max_cat_to_onehot': 4}. Best is trial 34 with value: 0.059507505792674366.\n",
      "[W 2025-05-28 09:39:20,959] The parameter 'max_leaves' in trial#43 is sampled independently instead of being sampled by multivariate TPE sampler. (optimization performance may be degraded). You can suppress this warning by setting `warn_independent_sampling` to `False` in the constructor of `TPESampler`, if this independent sampling is intended behavior.\n"
     ]
    },
    {
     "name": "stdout",
     "output_type": "stream",
     "text": [
      "Trial 42 completed with score: 0.059751\n"
     ]
    },
    {
     "name": "stderr",
     "output_type": "stream",
     "text": [
      "[I 2025-05-28 09:41:45,762] Trial 43 finished with value: 0.05970256552829051 and parameters: {'learning_rate': 0.012417459355830943, 'max_depth': 14, 'min_child_weight': 0.6008397390820841, 'subsample': 0.778972978465697, 'colsample_bytree': 0.7353804286761843, 'colsample_bylevel': 0.8524320543637278, 'colsample_bynode': 0.764388969527509, 'reg_alpha': 0.0003908087462635871, 'reg_lambda': 0.0564825090812462, 'gamma': 1.5220056252467626e-05, 'max_delta_step': 9.515770806354237, 'n_estimators': 3078, 'booster': 'gbtree', 'grow_policy': 'lossguide', 'max_leaves': 95, 'max_bin': 107, 'scale_pos_weight': 9.451834092274236, 'max_cat_to_onehot': 1}. Best is trial 34 with value: 0.059507505792674366.\n",
      "[W 2025-05-28 09:41:45,815] The parameter 'max_leaves' in trial#44 is sampled independently instead of being sampled by multivariate TPE sampler. (optimization performance may be degraded). You can suppress this warning by setting `warn_independent_sampling` to `False` in the constructor of `TPESampler`, if this independent sampling is intended behavior.\n"
     ]
    },
    {
     "name": "stdout",
     "output_type": "stream",
     "text": [
      "Trial 43 completed with score: 0.059703\n"
     ]
    },
    {
     "name": "stderr",
     "output_type": "stream",
     "text": [
      "[I 2025-05-28 09:42:55,924] Trial 44 pruned. \n"
     ]
    },
    {
     "name": "stdout",
     "output_type": "stream",
     "text": [
      "Trial 44 pruned after fold 3\n"
     ]
    },
    {
     "name": "stderr",
     "output_type": "stream",
     "text": [
      "[I 2025-05-28 09:55:08,167] Trial 45 pruned. \n",
      "[W 2025-05-28 09:55:08,227] The parameter 'max_leaves' in trial#46 is sampled independently instead of being sampled by multivariate TPE sampler. (optimization performance may be degraded). You can suppress this warning by setting `warn_independent_sampling` to `False` in the constructor of `TPESampler`, if this independent sampling is intended behavior.\n"
     ]
    },
    {
     "name": "stdout",
     "output_type": "stream",
     "text": [
      "Trial 45 pruned after fold 5\n"
     ]
    },
    {
     "name": "stderr",
     "output_type": "stream",
     "text": [
      "[I 2025-05-28 09:55:36,822] Trial 46 pruned. \n",
      "[W 2025-05-28 09:55:36,879] The parameter 'max_leaves' in trial#47 is sampled independently instead of being sampled by multivariate TPE sampler. (optimization performance may be degraded). You can suppress this warning by setting `warn_independent_sampling` to `False` in the constructor of `TPESampler`, if this independent sampling is intended behavior.\n"
     ]
    },
    {
     "name": "stdout",
     "output_type": "stream",
     "text": [
      "Trial 46 pruned after fold 3\n"
     ]
    },
    {
     "name": "stderr",
     "output_type": "stream",
     "text": [
      "[I 2025-05-28 09:57:24,555] Trial 47 pruned. \n",
      "[W 2025-05-28 09:57:24,613] The parameter 'max_leaves' in trial#48 is sampled independently instead of being sampled by multivariate TPE sampler. (optimization performance may be degraded). You can suppress this warning by setting `warn_independent_sampling` to `False` in the constructor of `TPESampler`, if this independent sampling is intended behavior.\n"
     ]
    },
    {
     "name": "stdout",
     "output_type": "stream",
     "text": [
      "Trial 47 pruned after fold 3\n"
     ]
    },
    {
     "name": "stderr",
     "output_type": "stream",
     "text": [
      "[I 2025-05-28 09:58:00,174] Trial 48 pruned. \n"
     ]
    },
    {
     "name": "stdout",
     "output_type": "stream",
     "text": [
      "Trial 48 pruned after fold 3\n"
     ]
    },
    {
     "name": "stderr",
     "output_type": "stream",
     "text": [
      "[I 2025-05-28 09:59:53,664] Trial 49 finished with value: 0.059607748852760836 and parameters: {'learning_rate': 0.007049538091610535, 'max_depth': 7, 'min_child_weight': 0.10551476727815422, 'subsample': 0.631881351268609, 'colsample_bytree': 0.9840705557398461, 'colsample_bylevel': 0.9448017694476433, 'colsample_bynode': 0.9299773926891158, 'reg_alpha': 6.15777150829e-05, 'reg_lambda': 0.820446922907108, 'gamma': 0.007246716585227695, 'max_delta_step': 6.125918573735074, 'n_estimators': 3966, 'booster': 'gbtree', 'grow_policy': 'depthwise', 'max_bin': 91, 'scale_pos_weight': 0.9951150659409973, 'max_cat_to_onehot': 4}. Best is trial 34 with value: 0.059507505792674366.\n"
     ]
    },
    {
     "name": "stdout",
     "output_type": "stream",
     "text": [
      "Trial 49 completed with score: 0.059608\n"
     ]
    },
    {
     "name": "stderr",
     "output_type": "stream",
     "text": [
      "[I 2025-05-28 10:02:08,065] Trial 50 finished with value: 0.05957238704495997 and parameters: {'learning_rate': 0.005781727223551774, 'max_depth': 8, 'min_child_weight': 0.370676827168531, 'subsample': 0.5835168920124687, 'colsample_bytree': 0.9947687994836736, 'colsample_bylevel': 0.9811035927760019, 'colsample_bynode': 0.9652714581499033, 'reg_alpha': 0.0003874566693487499, 'reg_lambda': 0.004121633112595917, 'gamma': 5.518240950162231e-05, 'max_delta_step': 5.874756690308599, 'n_estimators': 3689, 'booster': 'gbtree', 'grow_policy': 'depthwise', 'max_bin': 257, 'scale_pos_weight': 1.7122182371284511, 'max_cat_to_onehot': 4}. Best is trial 34 with value: 0.059507505792674366.\n"
     ]
    },
    {
     "name": "stdout",
     "output_type": "stream",
     "text": [
      "Trial 50 completed with score: 0.059572\n"
     ]
    },
    {
     "name": "stderr",
     "output_type": "stream",
     "text": [
      "[I 2025-05-28 10:03:43,892] Trial 51 finished with value: 0.05965087383487246 and parameters: {'learning_rate': 0.008789591648092928, 'max_depth': 7, 'min_child_weight': 0.4712751892383153, 'subsample': 0.5445713830984403, 'colsample_bytree': 0.88506903170172, 'colsample_bylevel': 0.8432823898830191, 'colsample_bynode': 0.9507612154504842, 'reg_alpha': 5.6377821242183875e-06, 'reg_lambda': 1.3393151302215354, 'gamma': 4.562036312040989e-05, 'max_delta_step': 6.256197205960211, 'n_estimators': 3780, 'booster': 'gbtree', 'grow_policy': 'depthwise', 'max_bin': 284, 'scale_pos_weight': 1.9057829106809514, 'max_cat_to_onehot': 5}. Best is trial 34 with value: 0.059507505792674366.\n"
     ]
    },
    {
     "name": "stdout",
     "output_type": "stream",
     "text": [
      "Trial 51 completed with score: 0.059651\n"
     ]
    },
    {
     "name": "stderr",
     "output_type": "stream",
     "text": [
      "[I 2025-05-28 10:05:30,955] Trial 52 finished with value: 0.05949287338327697 and parameters: {'learning_rate': 0.007201492225744449, 'max_depth': 8, 'min_child_weight': 3.6907746620704285, 'subsample': 0.5666816116102086, 'colsample_bytree': 0.9475409783256258, 'colsample_bylevel': 0.9616040882872297, 'colsample_bynode': 0.9506040280450991, 'reg_alpha': 2.7423440964986888e-05, 'reg_lambda': 0.2299143531575955, 'gamma': 2.1235840584865817e-06, 'max_delta_step': 6.264581008071923, 'n_estimators': 4099, 'booster': 'gbtree', 'grow_policy': 'depthwise', 'max_bin': 240, 'scale_pos_weight': 2.022794804486065, 'max_cat_to_onehot': 4}. Best is trial 52 with value: 0.05949287338327697.\n"
     ]
    },
    {
     "name": "stdout",
     "output_type": "stream",
     "text": [
      "Trial 52 completed with score: 0.059493\n"
     ]
    },
    {
     "name": "stderr",
     "output_type": "stream",
     "text": [
      "[I 2025-05-28 10:08:35,934] Trial 53 finished with value: 0.05950762908344407 and parameters: {'learning_rate': 0.0052873671477991924, 'max_depth': 8, 'min_child_weight': 0.1203184375205853, 'subsample': 0.6115321526901255, 'colsample_bytree': 0.8527235486566517, 'colsample_bylevel': 0.8579162338235524, 'colsample_bynode': 0.8753352625834618, 'reg_alpha': 0.0006271857115367981, 'reg_lambda': 0.0004575623298293666, 'gamma': 0.0005399585449986814, 'max_delta_step': 8.702238414593145, 'n_estimators': 4802, 'booster': 'gbtree', 'grow_policy': 'depthwise', 'max_bin': 249, 'scale_pos_weight': 1.7603914984001985, 'max_cat_to_onehot': 5}. Best is trial 52 with value: 0.05949287338327697.\n"
     ]
    },
    {
     "name": "stdout",
     "output_type": "stream",
     "text": [
      "Trial 53 completed with score: 0.059508\n"
     ]
    },
    {
     "name": "stderr",
     "output_type": "stream",
     "text": [
      "[I 2025-05-28 10:09:48,304] Trial 54 finished with value: 0.05959662738602374 and parameters: {'learning_rate': 0.014673016833647887, 'max_depth': 8, 'min_child_weight': 9.233044844767463, 'subsample': 0.580325852070159, 'colsample_bytree': 0.8523702756922692, 'colsample_bylevel': 0.982563083352342, 'colsample_bynode': 0.9203882522715079, 'reg_alpha': 1.5065739708819761e-05, 'reg_lambda': 0.4056834578164857, 'gamma': 3.0445041991745864e-07, 'max_delta_step': 6.662297159362131, 'n_estimators': 3477, 'booster': 'gbtree', 'grow_policy': 'depthwise', 'max_bin': 148, 'scale_pos_weight': 2.6705904087463117, 'max_cat_to_onehot': 5}. Best is trial 52 with value: 0.05949287338327697.\n"
     ]
    },
    {
     "name": "stdout",
     "output_type": "stream",
     "text": [
      "Trial 54 completed with score: 0.059597\n"
     ]
    },
    {
     "name": "stderr",
     "output_type": "stream",
     "text": [
      "[I 2025-05-28 10:10:45,993] Trial 55 finished with value: 0.060027229737969166 and parameters: {'learning_rate': 0.01636732416173951, 'max_depth': 6, 'min_child_weight': 10.39075607665708, 'subsample': 0.4440801863488587, 'colsample_bytree': 0.8590844489444974, 'colsample_bylevel': 0.9985466094749218, 'colsample_bynode': 0.9460476835177378, 'reg_alpha': 2.1512142365965905e-06, 'reg_lambda': 0.013949097501665555, 'gamma': 3.1085983381923013e-06, 'max_delta_step': 7.619412945017059, 'n_estimators': 3699, 'booster': 'gbtree', 'grow_policy': 'depthwise', 'max_bin': 136, 'scale_pos_weight': 4.804103026207599, 'max_cat_to_onehot': 6}. Best is trial 52 with value: 0.05949287338327697.\n"
     ]
    },
    {
     "name": "stdout",
     "output_type": "stream",
     "text": [
      "Trial 55 completed with score: 0.060027\n"
     ]
    },
    {
     "name": "stderr",
     "output_type": "stream",
     "text": [
      "[I 2025-05-28 10:13:52,762] Trial 56 finished with value: 0.059560423508992086 and parameters: {'learning_rate': 0.0065638859377967936, 'max_depth': 8, 'min_child_weight': 0.13247254001659056, 'subsample': 0.6126730421429674, 'colsample_bytree': 0.7640694830215151, 'colsample_bylevel': 0.9306887798912573, 'colsample_bynode': 0.7059400444412988, 'reg_alpha': 7.695841766113759e-05, 'reg_lambda': 0.0010674221019200433, 'gamma': 0.001290418058029657, 'max_delta_step': 9.688751865351763, 'n_estimators': 4223, 'booster': 'gbtree', 'grow_policy': 'depthwise', 'max_bin': 267, 'scale_pos_weight': 1.6536834976310462, 'max_cat_to_onehot': 6}. Best is trial 52 with value: 0.05949287338327697.\n"
     ]
    },
    {
     "name": "stdout",
     "output_type": "stream",
     "text": [
      "Trial 56 completed with score: 0.059560\n"
     ]
    },
    {
     "name": "stderr",
     "output_type": "stream",
     "text": [
      "[I 2025-05-28 10:14:55,063] Trial 57 pruned. \n"
     ]
    },
    {
     "name": "stdout",
     "output_type": "stream",
     "text": [
      "Trial 57 pruned after fold 3\n"
     ]
    },
    {
     "name": "stderr",
     "output_type": "stream",
     "text": [
      "[I 2025-05-28 10:17:39,997] Trial 58 finished with value: 0.059480581367659366 and parameters: {'learning_rate': 0.005829495449347146, 'max_depth': 8, 'min_child_weight': 0.20820332860039878, 'subsample': 0.7023288767279727, 'colsample_bytree': 0.737740958907955, 'colsample_bylevel': 0.8287898679022281, 'colsample_bynode': 0.8138103270168175, 'reg_alpha': 0.024869291768383806, 'reg_lambda': 1.7084735559093e-06, 'gamma': 0.00031136945306901837, 'max_delta_step': 6.324921167163411, 'n_estimators': 4626, 'booster': 'gbtree', 'grow_policy': 'depthwise', 'max_bin': 186, 'scale_pos_weight': 2.692880402884505, 'max_cat_to_onehot': 3}. Best is trial 58 with value: 0.059480581367659366.\n"
     ]
    },
    {
     "name": "stdout",
     "output_type": "stream",
     "text": [
      "Trial 58 completed with score: 0.059481\n"
     ]
    },
    {
     "name": "stderr",
     "output_type": "stream",
     "text": [
      "[I 2025-05-28 10:19:39,047] Trial 59 finished with value: 0.059843117061312234 and parameters: {'learning_rate': 0.010456238765491451, 'max_depth': 8, 'min_child_weight': 1.7552936753718629, 'subsample': 0.7920794054410463, 'colsample_bytree': 0.6992628523011419, 'colsample_bylevel': 0.8624245186855158, 'colsample_bynode': 0.9512057417708824, 'reg_alpha': 0.0018370597272963478, 'reg_lambda': 1.6623218400941382e-06, 'gamma': 0.02924596852945093, 'max_delta_step': 4.876387849719239, 'n_estimators': 4290, 'booster': 'gbtree', 'grow_policy': 'depthwise', 'max_bin': 271, 'scale_pos_weight': 5.398741433059543, 'max_cat_to_onehot': 6}. Best is trial 58 with value: 0.059480581367659366.\n"
     ]
    },
    {
     "name": "stdout",
     "output_type": "stream",
     "text": [
      "Trial 59 completed with score: 0.059843\n"
     ]
    },
    {
     "name": "stderr",
     "output_type": "stream",
     "text": [
      "[I 2025-05-28 10:22:15,048] Trial 60 finished with value: 0.05963614959626008 and parameters: {'learning_rate': 0.008982935091434708, 'max_depth': 10, 'min_child_weight': 0.11329489462069146, 'subsample': 0.4775566031973836, 'colsample_bytree': 0.8145113638325027, 'colsample_bylevel': 0.8797574562220359, 'colsample_bynode': 0.796051889884428, 'reg_alpha': 2.2872016841938375e-07, 'reg_lambda': 0.00035244786404372983, 'gamma': 0.005434516761132421, 'max_delta_step': 8.474459521340556, 'n_estimators': 3965, 'booster': 'gbtree', 'grow_policy': 'depthwise', 'max_bin': 418, 'scale_pos_weight': 3.129654264844526, 'max_cat_to_onehot': 8}. Best is trial 58 with value: 0.059480581367659366.\n"
     ]
    },
    {
     "name": "stdout",
     "output_type": "stream",
     "text": [
      "Trial 60 completed with score: 0.059636\n"
     ]
    },
    {
     "name": "stderr",
     "output_type": "stream",
     "text": [
      "[I 2025-05-28 10:23:33,814] Trial 61 pruned. \n"
     ]
    },
    {
     "name": "stdout",
     "output_type": "stream",
     "text": [
      "Trial 61 pruned after fold 3\n"
     ]
    },
    {
     "name": "stderr",
     "output_type": "stream",
     "text": [
      "[I 2025-05-28 10:25:46,447] Trial 62 finished with value: 0.05957646705218235 and parameters: {'learning_rate': 0.010843604729553303, 'max_depth': 9, 'min_child_weight': 0.15266455639671297, 'subsample': 0.7224755628950236, 'colsample_bytree': 0.7361819918327183, 'colsample_bylevel': 0.777605176420942, 'colsample_bynode': 0.8245162989979807, 'reg_alpha': 0.02623713775966684, 'reg_lambda': 2.6432023085135517e-06, 'gamma': 0.0028008141260675652, 'max_delta_step': 8.688049591453451, 'n_estimators': 3876, 'booster': 'gbtree', 'grow_policy': 'depthwise', 'max_bin': 333, 'scale_pos_weight': 2.770868640840299, 'max_cat_to_onehot': 2}. Best is trial 58 with value: 0.059480581367659366.\n"
     ]
    },
    {
     "name": "stdout",
     "output_type": "stream",
     "text": [
      "Trial 62 completed with score: 0.059576\n"
     ]
    },
    {
     "name": "stderr",
     "output_type": "stream",
     "text": [
      "[I 2025-05-28 10:27:49,484] Trial 63 finished with value: 0.05983850070294133 and parameters: {'learning_rate': 0.010136962135298754, 'max_depth': 5, 'min_child_weight': 0.17953133635513444, 'subsample': 0.6703729889995363, 'colsample_bytree': 0.941373246046502, 'colsample_bylevel': 0.8280255148505281, 'colsample_bynode': 0.9241087773782053, 'reg_alpha': 0.11193058685029046, 'reg_lambda': 7.847709619057424e-05, 'gamma': 2.11247085316279e-05, 'max_delta_step': 9.7788205365803, 'n_estimators': 4665, 'booster': 'gbtree', 'grow_policy': 'depthwise', 'max_bin': 284, 'scale_pos_weight': 3.2815848902308824, 'max_cat_to_onehot': 6}. Best is trial 58 with value: 0.059480581367659366.\n"
     ]
    },
    {
     "name": "stdout",
     "output_type": "stream",
     "text": [
      "Trial 63 completed with score: 0.059839\n"
     ]
    },
    {
     "name": "stderr",
     "output_type": "stream",
     "text": [
      "[I 2025-05-28 10:30:41,966] Trial 64 pruned. \n"
     ]
    },
    {
     "name": "stdout",
     "output_type": "stream",
     "text": [
      "Trial 64 pruned after fold 5\n"
     ]
    },
    {
     "name": "stderr",
     "output_type": "stream",
     "text": [
      "[I 2025-05-28 10:31:49,502] Trial 65 pruned. \n",
      "[W 2025-05-28 10:31:49,582] The parameter 'max_leaves' in trial#66 is sampled independently instead of being sampled by multivariate TPE sampler. (optimization performance may be degraded). You can suppress this warning by setting `warn_independent_sampling` to `False` in the constructor of `TPESampler`, if this independent sampling is intended behavior.\n"
     ]
    },
    {
     "name": "stdout",
     "output_type": "stream",
     "text": [
      "Trial 65 pruned after fold 3\n"
     ]
    },
    {
     "name": "stderr",
     "output_type": "stream",
     "text": [
      "[I 2025-05-28 10:32:52,596] Trial 66 pruned. \n"
     ]
    },
    {
     "name": "stdout",
     "output_type": "stream",
     "text": [
      "Trial 66 pruned after fold 3\n"
     ]
    },
    {
     "name": "stderr",
     "output_type": "stream",
     "text": [
      "[I 2025-05-28 10:36:29,802] Trial 67 finished with value: 0.05969350703638571 and parameters: {'learning_rate': 0.01053262450692603, 'max_depth': 10, 'min_child_weight': 0.10691077906708435, 'subsample': 0.48536505553157483, 'colsample_bytree': 0.6970509198237778, 'colsample_bylevel': 0.9952629750743135, 'colsample_bynode': 0.697751999197922, 'reg_alpha': 1.2835803961074803e-05, 'reg_lambda': 1.1857145894471444, 'gamma': 0.0001174398393160171, 'max_delta_step': 9.022061617152643, 'n_estimators': 4857, 'booster': 'gbtree', 'grow_policy': 'depthwise', 'max_bin': 151, 'scale_pos_weight': 4.815539611276533, 'max_cat_to_onehot': 8}. Best is trial 58 with value: 0.059480581367659366.\n"
     ]
    },
    {
     "name": "stdout",
     "output_type": "stream",
     "text": [
      "Trial 67 completed with score: 0.059694\n"
     ]
    },
    {
     "name": "stderr",
     "output_type": "stream",
     "text": [
      "[I 2025-05-28 10:37:54,789] Trial 68 finished with value: 0.05970767869396756 and parameters: {'learning_rate': 0.018560720026117136, 'max_depth': 8, 'min_child_weight': 0.2884204292037335, 'subsample': 0.7363121066177701, 'colsample_bytree': 0.7693665552194515, 'colsample_bylevel': 0.7939580170726033, 'colsample_bynode': 0.8519526997322969, 'reg_alpha': 0.7172711165700539, 'reg_lambda': 1.8253669269438761e-06, 'gamma': 0.0004053259135292031, 'max_delta_step': 9.444438901663991, 'n_estimators': 3893, 'booster': 'gbtree', 'grow_policy': 'depthwise', 'max_bin': 451, 'scale_pos_weight': 0.71107864913203, 'max_cat_to_onehot': 3}. Best is trial 58 with value: 0.059480581367659366.\n"
     ]
    },
    {
     "name": "stdout",
     "output_type": "stream",
     "text": [
      "Trial 68 completed with score: 0.059708\n"
     ]
    },
    {
     "name": "stderr",
     "output_type": "stream",
     "text": [
      "[I 2025-05-28 10:40:31,392] Trial 69 finished with value: 0.05960268449064325 and parameters: {'learning_rate': 0.007523056955512981, 'max_depth': 8, 'min_child_weight': 0.15139954304103156, 'subsample': 0.6044205819705226, 'colsample_bytree': 0.8976594109083527, 'colsample_bylevel': 0.8737741891212422, 'colsample_bynode': 0.48540372600687776, 'reg_alpha': 1.861308125716287e-05, 'reg_lambda': 0.00023470130573755444, 'gamma': 1.825346994774671e-05, 'max_delta_step': 7.764435447016133, 'n_estimators': 4506, 'booster': 'gbtree', 'grow_policy': 'depthwise', 'max_bin': 278, 'scale_pos_weight': 0.5574313604677221, 'max_cat_to_onehot': 7}. Best is trial 58 with value: 0.059480581367659366.\n",
      "[W 2025-05-28 10:40:31,454] The parameter 'max_leaves' in trial#70 is sampled independently instead of being sampled by multivariate TPE sampler. (optimization performance may be degraded). You can suppress this warning by setting `warn_independent_sampling` to `False` in the constructor of `TPESampler`, if this independent sampling is intended behavior.\n"
     ]
    },
    {
     "name": "stdout",
     "output_type": "stream",
     "text": [
      "Trial 69 completed with score: 0.059603\n"
     ]
    },
    {
     "name": "stderr",
     "output_type": "stream",
     "text": [
      "[I 2025-05-28 10:41:31,341] Trial 70 pruned. \n"
     ]
    },
    {
     "name": "stdout",
     "output_type": "stream",
     "text": [
      "Trial 70 pruned after fold 3\n"
     ]
    },
    {
     "name": "stderr",
     "output_type": "stream",
     "text": [
      "[I 2025-05-28 10:42:22,839] Trial 71 finished with value: 0.059664696224934165 and parameters: {'learning_rate': 0.022665141068962724, 'max_depth': 8, 'min_child_weight': 12.880950677695868, 'subsample': 0.6187438869884044, 'colsample_bytree': 0.7235151360366883, 'colsample_bylevel': 0.991685214280752, 'colsample_bynode': 0.9743118203250374, 'reg_alpha': 5.0948307627442916e-05, 'reg_lambda': 0.1082284259376045, 'gamma': 1.8695345028521438e-06, 'max_delta_step': 7.044936395570192, 'n_estimators': 3392, 'booster': 'gbtree', 'grow_policy': 'depthwise', 'max_bin': 208, 'scale_pos_weight': 1.0869686384193487, 'max_cat_to_onehot': 2}. Best is trial 58 with value: 0.059480581367659366.\n",
      "[W 2025-05-28 10:42:22,892] The parameter 'max_leaves' in trial#72 is sampled independently instead of being sampled by multivariate TPE sampler. (optimization performance may be degraded). You can suppress this warning by setting `warn_independent_sampling` to `False` in the constructor of `TPESampler`, if this independent sampling is intended behavior.\n"
     ]
    },
    {
     "name": "stdout",
     "output_type": "stream",
     "text": [
      "Trial 71 completed with score: 0.059665\n"
     ]
    },
    {
     "name": "stderr",
     "output_type": "stream",
     "text": [
      "[I 2025-05-28 10:43:18,422] Trial 72 pruned. \n"
     ]
    },
    {
     "name": "stdout",
     "output_type": "stream",
     "text": [
      "Trial 72 pruned after fold 3\n"
     ]
    },
    {
     "name": "stderr",
     "output_type": "stream",
     "text": [
      "[I 2025-05-28 10:44:52,008] Trial 73 finished with value: 0.0597955584689754 and parameters: {'learning_rate': 0.01331886719795309, 'max_depth': 7, 'min_child_weight': 0.28711649865669875, 'subsample': 0.6790252308818855, 'colsample_bytree': 0.8014963599849511, 'colsample_bylevel': 0.8635868252238109, 'colsample_bynode': 0.7148390697777828, 'reg_alpha': 0.00016045363116284894, 'reg_lambda': 3.5657459608753764e-07, 'gamma': 2.9588964047927014e-05, 'max_delta_step': 7.8582036284207115, 'n_estimators': 4697, 'booster': 'gbtree', 'grow_policy': 'depthwise', 'max_bin': 103, 'scale_pos_weight': 3.7873552207328025, 'max_cat_to_onehot': 3}. Best is trial 58 with value: 0.059480581367659366.\n"
     ]
    },
    {
     "name": "stdout",
     "output_type": "stream",
     "text": [
      "Trial 73 completed with score: 0.059796\n"
     ]
    },
    {
     "name": "stderr",
     "output_type": "stream",
     "text": [
      "[I 2025-05-28 10:46:33,510] Trial 74 finished with value: 0.059547041663628154 and parameters: {'learning_rate': 0.016821420262130994, 'max_depth': 9, 'min_child_weight': 0.40469151058421177, 'subsample': 0.6256048054375829, 'colsample_bytree': 0.8056923642128346, 'colsample_bylevel': 0.9757821570287835, 'colsample_bynode': 0.8304742645229363, 'reg_alpha': 3.062436366915244, 'reg_lambda': 0.07149687769366349, 'gamma': 0.002786042253372173, 'max_delta_step': 4.838915428709086, 'n_estimators': 2348, 'booster': 'gbtree', 'grow_policy': 'depthwise', 'max_bin': 74, 'scale_pos_weight': 0.32180973084063835, 'max_cat_to_onehot': 3}. Best is trial 58 with value: 0.059480581367659366.\n"
     ]
    },
    {
     "name": "stdout",
     "output_type": "stream",
     "text": [
      "Trial 74 completed with score: 0.059547\n"
     ]
    },
    {
     "name": "stderr",
     "output_type": "stream",
     "text": [
      "[I 2025-05-28 10:48:12,012] Trial 75 finished with value: 0.059454751573817556 and parameters: {'learning_rate': 0.010945006384312887, 'max_depth': 9, 'min_child_weight': 0.10299710612530338, 'subsample': 0.598126940092377, 'colsample_bytree': 0.9052574304909854, 'colsample_bylevel': 0.9078145025595219, 'colsample_bynode': 0.8665172472822779, 'reg_alpha': 0.9287871766754503, 'reg_lambda': 2.747309333945202e-06, 'gamma': 0.0004480229988139547, 'max_delta_step': 7.349057451438544, 'n_estimators': 2271, 'booster': 'gbtree', 'grow_policy': 'depthwise', 'max_bin': 91, 'scale_pos_weight': 1.2950846179961508, 'max_cat_to_onehot': 4}. Best is trial 75 with value: 0.059454751573817556.\n"
     ]
    },
    {
     "name": "stdout",
     "output_type": "stream",
     "text": [
      "Trial 75 completed with score: 0.059455\n"
     ]
    },
    {
     "name": "stderr",
     "output_type": "stream",
     "text": [
      "[I 2025-05-28 10:50:42,351] Trial 76 finished with value: 0.05944665143487131 and parameters: {'learning_rate': 0.014913347054457132, 'max_depth': 12, 'min_child_weight': 0.5018115841510918, 'subsample': 0.8225432423071704, 'colsample_bytree': 0.7974833945292373, 'colsample_bylevel': 0.9770257852520438, 'colsample_bynode': 0.7928046658841621, 'reg_alpha': 1.2733967967036053, 'reg_lambda': 0.018904260798499828, 'gamma': 0.001215937299575543, 'max_delta_step': 3.2869560007791065, 'n_estimators': 2822, 'booster': 'gbtree', 'grow_policy': 'depthwise', 'max_bin': 99, 'scale_pos_weight': 2.9849571461398425, 'max_cat_to_onehot': 4}. Best is trial 76 with value: 0.05944665143487131.\n"
     ]
    },
    {
     "name": "stdout",
     "output_type": "stream",
     "text": [
      "Trial 76 completed with score: 0.059447\n"
     ]
    },
    {
     "name": "stderr",
     "output_type": "stream",
     "text": [
      "[I 2025-05-28 10:51:24,166] Trial 77 finished with value: 0.05996950624486221 and parameters: {'learning_rate': 0.02994299960542955, 'max_depth': 9, 'min_child_weight': 0.14414436464577352, 'subsample': 0.5332218843750705, 'colsample_bytree': 0.9090654132308358, 'colsample_bylevel': 0.9071246614192946, 'colsample_bynode': 0.8730180223208422, 'reg_alpha': 6.605739761646198, 'reg_lambda': 1.4162789899939173e-05, 'gamma': 0.0002041364315237053, 'max_delta_step': 4.835124856427626, 'n_estimators': 854, 'booster': 'gbtree', 'grow_policy': 'depthwise', 'max_bin': 109, 'scale_pos_weight': 1.3928415259284226, 'max_cat_to_onehot': 6}. Best is trial 76 with value: 0.05944665143487131.\n"
     ]
    },
    {
     "name": "stdout",
     "output_type": "stream",
     "text": [
      "Trial 77 completed with score: 0.059970\n"
     ]
    },
    {
     "name": "stderr",
     "output_type": "stream",
     "text": [
      "[I 2025-05-28 10:52:16,324] Trial 78 finished with value: 0.05984411147741159 and parameters: {'learning_rate': 0.01702020727355494, 'max_depth': 9, 'min_child_weight': 0.10955493591570249, 'subsample': 0.44671726515397253, 'colsample_bytree': 0.8430891721226212, 'colsample_bylevel': 0.9880474024445143, 'colsample_bynode': 0.9046761944247964, 'reg_alpha': 0.7139375002322697, 'reg_lambda': 9.385966851932384e-07, 'gamma': 0.049687123594538744, 'max_delta_step': 8.645816438150725, 'n_estimators': 2962, 'booster': 'gbtree', 'grow_policy': 'depthwise', 'max_bin': 197, 'scale_pos_weight': 2.313300501889877, 'max_cat_to_onehot': 3}. Best is trial 76 with value: 0.05944665143487131.\n"
     ]
    },
    {
     "name": "stdout",
     "output_type": "stream",
     "text": [
      "Trial 78 completed with score: 0.059844\n"
     ]
    },
    {
     "name": "stderr",
     "output_type": "stream",
     "text": [
      "[I 2025-05-28 10:54:19,005] Trial 79 finished with value: 0.05984614537344916 and parameters: {'learning_rate': 0.011116842106316867, 'max_depth': 11, 'min_child_weight': 0.8604662709007972, 'subsample': 0.9042738822933309, 'colsample_bytree': 0.8626265460637099, 'colsample_bylevel': 0.9463639091192703, 'colsample_bynode': 0.779245464607433, 'reg_alpha': 8.164754806973772, 'reg_lambda': 0.0014938656780697447, 'gamma': 0.00020514128417917384, 'max_delta_step': 5.744840639930655, 'n_estimators': 2068, 'booster': 'gbtree', 'grow_policy': 'depthwise', 'max_bin': 96, 'scale_pos_weight': 1.6682374442372148, 'max_cat_to_onehot': 5}. Best is trial 76 with value: 0.05944665143487131.\n"
     ]
    },
    {
     "name": "stdout",
     "output_type": "stream",
     "text": [
      "Trial 79 completed with score: 0.059846\n"
     ]
    },
    {
     "name": "stderr",
     "output_type": "stream",
     "text": [
      "[I 2025-05-28 10:55:17,262] Trial 80 pruned. \n",
      "[W 2025-05-28 10:55:17,318] The parameter 'max_leaves' in trial#81 is sampled independently instead of being sampled by multivariate TPE sampler. (optimization performance may be degraded). You can suppress this warning by setting `warn_independent_sampling` to `False` in the constructor of `TPESampler`, if this independent sampling is intended behavior.\n"
     ]
    },
    {
     "name": "stdout",
     "output_type": "stream",
     "text": [
      "Trial 80 pruned after fold 3\n"
     ]
    },
    {
     "name": "stderr",
     "output_type": "stream",
     "text": [
      "[I 2025-05-28 10:56:58,091] Trial 81 pruned. \n"
     ]
    },
    {
     "name": "stdout",
     "output_type": "stream",
     "text": [
      "Trial 81 pruned after fold 3\n"
     ]
    },
    {
     "name": "stderr",
     "output_type": "stream",
     "text": [
      "[I 2025-05-28 10:58:36,840] Trial 82 finished with value: 0.05943347345049914 and parameters: {'learning_rate': 0.010724936956228814, 'max_depth': 9, 'min_child_weight': 0.7079765966915971, 'subsample': 0.8153158178265736, 'colsample_bytree': 0.8771079273841896, 'colsample_bylevel': 0.94585568757402, 'colsample_bynode': 0.8879191859398038, 'reg_alpha': 2.460588569051369, 'reg_lambda': 0.7910303796376127, 'gamma': 0.011283856894366912, 'max_delta_step': 0.7271119895327276, 'n_estimators': 2696, 'booster': 'gbtree', 'grow_policy': 'depthwise', 'max_bin': 272, 'scale_pos_weight': 3.962337448208454, 'max_cat_to_onehot': 3}. Best is trial 82 with value: 0.05943347345049914.\n",
      "[W 2025-05-28 10:58:36,900] The parameter 'max_leaves' in trial#83 is sampled independently instead of being sampled by multivariate TPE sampler. (optimization performance may be degraded). You can suppress this warning by setting `warn_independent_sampling` to `False` in the constructor of `TPESampler`, if this independent sampling is intended behavior.\n"
     ]
    },
    {
     "name": "stdout",
     "output_type": "stream",
     "text": [
      "Trial 82 completed with score: 0.059433\n"
     ]
    },
    {
     "name": "stderr",
     "output_type": "stream",
     "text": [
      "[I 2025-05-28 11:00:41,474] Trial 83 finished with value: 0.05958603846909476 and parameters: {'learning_rate': 0.01589504393269916, 'max_depth': 11, 'min_child_weight': 1.1317911228348823, 'subsample': 0.9305858155287142, 'colsample_bytree': 0.9361141569408226, 'colsample_bylevel': 0.9778046114233506, 'colsample_bynode': 0.9081430288556603, 'reg_alpha': 3.474151970834556, 'reg_lambda': 3.5361177604197356, 'gamma': 0.014391141585467676, 'max_delta_step': 0.6199107807275015, 'n_estimators': 3700, 'booster': 'gbtree', 'grow_policy': 'lossguide', 'max_leaves': 248, 'max_bin': 327, 'scale_pos_weight': 2.3985816580275885, 'max_cat_to_onehot': 1}. Best is trial 82 with value: 0.05943347345049914.\n"
     ]
    },
    {
     "name": "stdout",
     "output_type": "stream",
     "text": [
      "Trial 83 completed with score: 0.059586\n"
     ]
    },
    {
     "name": "stderr",
     "output_type": "stream",
     "text": [
      "[I 2025-05-28 11:01:08,907] Trial 84 pruned. \n"
     ]
    },
    {
     "name": "stdout",
     "output_type": "stream",
     "text": [
      "Trial 84 pruned after fold 3\n"
     ]
    },
    {
     "name": "stderr",
     "output_type": "stream",
     "text": [
      "[I 2025-05-28 11:02:11,507] Trial 85 pruned. \n"
     ]
    },
    {
     "name": "stdout",
     "output_type": "stream",
     "text": [
      "Trial 85 pruned after fold 3\n"
     ]
    },
    {
     "name": "stderr",
     "output_type": "stream",
     "text": [
      "[I 2025-05-28 11:06:20,285] Trial 86 finished with value: 0.059421137294997685 and parameters: {'learning_rate': 0.005259384953220211, 'max_depth': 10, 'min_child_weight': 0.10230593448413597, 'subsample': 0.49101690286763244, 'colsample_bytree': 0.9934807429906339, 'colsample_bylevel': 0.7565299575549633, 'colsample_bynode': 0.9632535324582226, 'reg_alpha': 0.06388723332518843, 'reg_lambda': 1.086396993136656e-07, 'gamma': 1.4437051685678297e-07, 'max_delta_step': 7.229720505305216, 'n_estimators': 3234, 'booster': 'gbtree', 'grow_policy': 'depthwise', 'max_bin': 130, 'scale_pos_weight': 3.0014652523374097, 'max_cat_to_onehot': 5}. Best is trial 86 with value: 0.059421137294997685.\n"
     ]
    },
    {
     "name": "stdout",
     "output_type": "stream",
     "text": [
      "Trial 86 completed with score: 0.059421\n"
     ]
    },
    {
     "name": "stderr",
     "output_type": "stream",
     "text": [
      "[I 2025-05-28 11:06:48,045] Trial 87 pruned. \n"
     ]
    },
    {
     "name": "stdout",
     "output_type": "stream",
     "text": [
      "Trial 87 pruned after fold 3\n"
     ]
    },
    {
     "name": "stderr",
     "output_type": "stream",
     "text": [
      "[I 2025-05-28 11:14:39,832] Trial 88 finished with value: 0.05953257722429377 and parameters: {'learning_rate': 0.0070282325021242065, 'max_depth': 15, 'min_child_weight': 0.9618926274126585, 'subsample': 0.41274157054486993, 'colsample_bytree': 0.9284796000166204, 'colsample_bylevel': 0.7899199841391054, 'colsample_bynode': 0.9249277067980518, 'reg_alpha': 0.43213030605353764, 'reg_lambda': 2.3351250168375194e-07, 'gamma': 2.5503875642837074e-07, 'max_delta_step': 7.436877458074044, 'n_estimators': 2754, 'booster': 'gbtree', 'grow_policy': 'depthwise', 'max_bin': 198, 'scale_pos_weight': 5.221983195522041, 'max_cat_to_onehot': 7}. Best is trial 86 with value: 0.059421137294997685.\n"
     ]
    },
    {
     "name": "stdout",
     "output_type": "stream",
     "text": [
      "Trial 88 completed with score: 0.059533\n"
     ]
    },
    {
     "name": "stderr",
     "output_type": "stream",
     "text": [
      "[I 2025-05-28 11:17:47,517] Trial 89 finished with value: 0.05953398400769494 and parameters: {'learning_rate': 0.010691709937677164, 'max_depth': 11, 'min_child_weight': 1.852964533555161, 'subsample': 0.40542553453474567, 'colsample_bytree': 0.8559190245210722, 'colsample_bylevel': 0.7922353937457093, 'colsample_bynode': 0.7955855351915971, 'reg_alpha': 1.0659295319677558, 'reg_lambda': 1.483718610929715e-07, 'gamma': 8.362608900531415e-06, 'max_delta_step': 6.909872590458993, 'n_estimators': 3160, 'booster': 'gbtree', 'grow_policy': 'depthwise', 'max_bin': 257, 'scale_pos_weight': 5.887126463715564, 'max_cat_to_onehot': 7}. Best is trial 86 with value: 0.059421137294997685.\n"
     ]
    },
    {
     "name": "stdout",
     "output_type": "stream",
     "text": [
      "Trial 89 completed with score: 0.059534\n"
     ]
    },
    {
     "name": "stderr",
     "output_type": "stream",
     "text": [
      "[I 2025-05-28 11:19:50,000] Trial 90 finished with value: 0.059434806737387526 and parameters: {'learning_rate': 0.01294688431120615, 'max_depth': 11, 'min_child_weight': 0.14018982297354046, 'subsample': 0.4213174374067544, 'colsample_bytree': 0.9600840577552077, 'colsample_bylevel': 0.811330075035614, 'colsample_bynode': 0.9343517731094374, 'reg_alpha': 0.974981915043585, 'reg_lambda': 6.75430401102872e-07, 'gamma': 1.6564349639964578e-07, 'max_delta_step': 8.467689927531623, 'n_estimators': 2825, 'booster': 'gbtree', 'grow_policy': 'depthwise', 'max_bin': 147, 'scale_pos_weight': 1.4663905598696785, 'max_cat_to_onehot': 8}. Best is trial 86 with value: 0.059421137294997685.\n"
     ]
    },
    {
     "name": "stdout",
     "output_type": "stream",
     "text": [
      "Trial 90 completed with score: 0.059435\n"
     ]
    },
    {
     "name": "stderr",
     "output_type": "stream",
     "text": [
      "[I 2025-05-28 11:21:42,358] Trial 91 pruned. \n"
     ]
    },
    {
     "name": "stdout",
     "output_type": "stream",
     "text": [
      "Trial 91 pruned after fold 3\n"
     ]
    },
    {
     "name": "stderr",
     "output_type": "stream",
     "text": [
      "[I 2025-05-28 11:24:17,769] Trial 92 finished with value: 0.0596667072235733 and parameters: {'learning_rate': 0.019332235444124345, 'max_depth': 13, 'min_child_weight': 0.18401993194614796, 'subsample': 0.5283584658751823, 'colsample_bytree': 0.8354706378286436, 'colsample_bylevel': 0.909789612362151, 'colsample_bynode': 0.9514540682286337, 'reg_alpha': 0.615887921615888, 'reg_lambda': 0.00020030234493171264, 'gamma': 3.846729498696447e-08, 'max_delta_step': 9.740512408886346, 'n_estimators': 2048, 'booster': 'gbtree', 'grow_policy': 'depthwise', 'max_bin': 178, 'scale_pos_weight': 0.43734315205731034, 'max_cat_to_onehot': 9}. Best is trial 86 with value: 0.059421137294997685.\n"
     ]
    },
    {
     "name": "stdout",
     "output_type": "stream",
     "text": [
      "Trial 92 completed with score: 0.059667\n"
     ]
    },
    {
     "name": "stderr",
     "output_type": "stream",
     "text": [
      "[I 2025-05-28 11:26:22,733] Trial 93 pruned. \n"
     ]
    },
    {
     "name": "stdout",
     "output_type": "stream",
     "text": [
      "Trial 93 pruned after fold 3\n"
     ]
    },
    {
     "name": "stderr",
     "output_type": "stream",
     "text": [
      "[I 2025-05-28 11:28:41,034] Trial 94 finished with value: 0.05943318205900604 and parameters: {'learning_rate': 0.00782099913564974, 'max_depth': 8, 'min_child_weight': 0.10433029067116904, 'subsample': 0.5381185165680791, 'colsample_bytree': 0.9362612666755453, 'colsample_bylevel': 0.7118480534806263, 'colsample_bynode': 0.9743630723708262, 'reg_alpha': 1.1314515728418335, 'reg_lambda': 6.837102756356456e-05, 'gamma': 1.9462345620622246e-06, 'max_delta_step': 7.539565161508262, 'n_estimators': 2829, 'booster': 'gbtree', 'grow_policy': 'depthwise', 'max_bin': 82, 'scale_pos_weight': 3.056260484610088, 'max_cat_to_onehot': 3}. Best is trial 86 with value: 0.059421137294997685.\n",
      "[W 2025-05-28 11:28:41,101] The parameter 'max_leaves' in trial#95 is sampled independently instead of being sampled by multivariate TPE sampler. (optimization performance may be degraded). You can suppress this warning by setting `warn_independent_sampling` to `False` in the constructor of `TPESampler`, if this independent sampling is intended behavior.\n"
     ]
    },
    {
     "name": "stdout",
     "output_type": "stream",
     "text": [
      "Trial 94 completed with score: 0.059433\n"
     ]
    },
    {
     "name": "stderr",
     "output_type": "stream",
     "text": [
      "[I 2025-05-28 11:32:00,450] Trial 95 finished with value: 0.05957923825302673 and parameters: {'learning_rate': 0.007600107310523586, 'max_depth': 9, 'min_child_weight': 0.10419274407872677, 'subsample': 0.43634436656518116, 'colsample_bytree': 0.9691791318580829, 'colsample_bylevel': 0.7078289049238592, 'colsample_bynode': 0.9789599081294377, 'reg_alpha': 0.010171232071759765, 'reg_lambda': 3.8332887265150806e-07, 'gamma': 1.6911383643280872e-06, 'max_delta_step': 6.229618839170205, 'n_estimators': 4481, 'booster': 'gbtree', 'grow_policy': 'lossguide', 'max_leaves': 195, 'max_bin': 199, 'scale_pos_weight': 5.308412298020653, 'max_cat_to_onehot': 4}. Best is trial 86 with value: 0.059421137294997685.\n"
     ]
    },
    {
     "name": "stdout",
     "output_type": "stream",
     "text": [
      "Trial 95 completed with score: 0.059579\n"
     ]
    },
    {
     "name": "stderr",
     "output_type": "stream",
     "text": [
      "[I 2025-05-28 11:37:40,838] Trial 96 finished with value: 0.05969833240458298 and parameters: {'learning_rate': 0.008195459195623776, 'max_depth': 12, 'min_child_weight': 0.12552847706811415, 'subsample': 0.429407937227698, 'colsample_bytree': 0.9696607134329361, 'colsample_bylevel': 0.8003528544494184, 'colsample_bynode': 0.951586766549133, 'reg_alpha': 0.07824772656017921, 'reg_lambda': 2.1954125999570023e-07, 'gamma': 2.938936295816941e-06, 'max_delta_step': 9.337807522364724, 'n_estimators': 4636, 'booster': 'gbtree', 'grow_policy': 'depthwise', 'max_bin': 96, 'scale_pos_weight': 2.322926449976466, 'max_cat_to_onehot': 7}. Best is trial 86 with value: 0.059421137294997685.\n"
     ]
    },
    {
     "name": "stdout",
     "output_type": "stream",
     "text": [
      "Trial 96 completed with score: 0.059698\n"
     ]
    },
    {
     "name": "stderr",
     "output_type": "stream",
     "text": [
      "[I 2025-05-28 11:39:27,446] Trial 97 finished with value: 0.05953424204772988 and parameters: {'learning_rate': 0.011445262128599493, 'max_depth': 9, 'min_child_weight': 0.31921641396970213, 'subsample': 0.6597705696123989, 'colsample_bytree': 0.8503909666316615, 'colsample_bylevel': 0.8793886883074681, 'colsample_bynode': 0.8370415314812956, 'reg_alpha': 0.045081892931655786, 'reg_lambda': 2.8514858936810442e-05, 'gamma': 8.788493001764388e-05, 'max_delta_step': 8.024313156766947, 'n_estimators': 2947, 'booster': 'gbtree', 'grow_policy': 'depthwise', 'max_bin': 149, 'scale_pos_weight': 1.1697568819822484, 'max_cat_to_onehot': 3}. Best is trial 86 with value: 0.059421137294997685.\n"
     ]
    },
    {
     "name": "stdout",
     "output_type": "stream",
     "text": [
      "Trial 97 completed with score: 0.059534\n"
     ]
    },
    {
     "name": "stderr",
     "output_type": "stream",
     "text": [
      "[I 2025-05-28 11:39:59,944] Trial 98 pruned. \n"
     ]
    },
    {
     "name": "stdout",
     "output_type": "stream",
     "text": [
      "Trial 98 pruned after fold 3\n"
     ]
    },
    {
     "name": "stderr",
     "output_type": "stream",
     "text": [
      "[I 2025-05-28 11:46:05,104] Trial 99 pruned. \n"
     ]
    },
    {
     "name": "stdout",
     "output_type": "stream",
     "text": [
      "Trial 99 pruned after fold 3\n"
     ]
    },
    {
     "name": "stderr",
     "output_type": "stream",
     "text": [
      "[I 2025-05-28 11:47:32,422] Trial 100 pruned. \n"
     ]
    },
    {
     "name": "stdout",
     "output_type": "stream",
     "text": [
      "Trial 100 pruned after fold 3\n"
     ]
    },
    {
     "name": "stderr",
     "output_type": "stream",
     "text": [
      "[I 2025-05-28 11:52:24,989] Trial 101 finished with value: 0.05966070020869706 and parameters: {'learning_rate': 0.005960243616514114, 'max_depth': 15, 'min_child_weight': 0.6160498529083164, 'subsample': 0.4114145451428472, 'colsample_bytree': 0.8417733587863813, 'colsample_bylevel': 0.6564320525978427, 'colsample_bynode': 0.9158660540168356, 'reg_alpha': 2.120899473479006, 'reg_lambda': 2.034114261366568e-06, 'gamma': 8.39129264890291e-06, 'max_delta_step': 5.710603463578976, 'n_estimators': 2742, 'booster': 'gbtree', 'grow_policy': 'depthwise', 'max_bin': 87, 'scale_pos_weight': 6.667578077610455, 'max_cat_to_onehot': 8}. Best is trial 86 with value: 0.059421137294997685.\n"
     ]
    },
    {
     "name": "stdout",
     "output_type": "stream",
     "text": [
      "Trial 101 completed with score: 0.059661\n"
     ]
    },
    {
     "name": "stderr",
     "output_type": "stream",
     "text": [
      "[I 2025-05-28 11:55:26,902] Trial 102 finished with value: 0.05951995714755508 and parameters: {'learning_rate': 0.006451315570264632, 'max_depth': 10, 'min_child_weight': 0.19998930640677312, 'subsample': 0.8157142431160707, 'colsample_bytree': 0.8855699284993906, 'colsample_bylevel': 0.9825530375683473, 'colsample_bynode': 0.9801837608563617, 'reg_alpha': 0.00018609796610895627, 'reg_lambda': 0.2532840913169524, 'gamma': 0.013416179438802179, 'max_delta_step': 6.953055129400763, 'n_estimators': 1871, 'booster': 'gbtree', 'grow_policy': 'depthwise', 'max_bin': 164, 'scale_pos_weight': 0.16792437239762864, 'max_cat_to_onehot': 2}. Best is trial 86 with value: 0.059421137294997685.\n"
     ]
    },
    {
     "name": "stdout",
     "output_type": "stream",
     "text": [
      "Trial 102 completed with score: 0.059520\n"
     ]
    },
    {
     "name": "stderr",
     "output_type": "stream",
     "text": [
      "[I 2025-05-28 11:55:40,533] Trial 103 pruned. \n"
     ]
    },
    {
     "name": "stdout",
     "output_type": "stream",
     "text": [
      "Trial 103 pruned after fold 3\n"
     ]
    },
    {
     "name": "stderr",
     "output_type": "stream",
     "text": [
      "[I 2025-05-28 11:58:42,186] Trial 104 finished with value: 0.05962338919193412 and parameters: {'learning_rate': 0.011177175258455768, 'max_depth': 11, 'min_child_weight': 0.16644737293413409, 'subsample': 0.8598927429790566, 'colsample_bytree': 0.9580606490982299, 'colsample_bylevel': 0.9852828239567413, 'colsample_bynode': 0.9858077752217373, 'reg_alpha': 2.0100531889339854e-05, 'reg_lambda': 1.035492832556204, 'gamma': 0.00191021280999292, 'max_delta_step': 5.520299494206709, 'n_estimators': 1446, 'booster': 'gbtree', 'grow_policy': 'depthwise', 'max_bin': 131, 'scale_pos_weight': 0.853837703178244, 'max_cat_to_onehot': 4}. Best is trial 86 with value: 0.059421137294997685.\n"
     ]
    },
    {
     "name": "stdout",
     "output_type": "stream",
     "text": [
      "Trial 104 completed with score: 0.059623\n"
     ]
    },
    {
     "name": "stderr",
     "output_type": "stream",
     "text": [
      "[I 2025-05-28 11:59:40,680] Trial 105 pruned. \n"
     ]
    },
    {
     "name": "stdout",
     "output_type": "stream",
     "text": [
      "Trial 105 pruned after fold 3\n"
     ]
    },
    {
     "name": "stderr",
     "output_type": "stream",
     "text": [
      "[I 2025-05-28 12:04:18,070] Trial 106 finished with value: 0.05951938928295557 and parameters: {'learning_rate': 0.005083419171799277, 'max_depth': 10, 'min_child_weight': 0.1394941029153995, 'subsample': 0.8310200374082, 'colsample_bytree': 0.8059650730193902, 'colsample_bylevel': 0.8633857641497504, 'colsample_bynode': 0.9273923068313578, 'reg_alpha': 0.0004618277324434136, 'reg_lambda': 0.04760901193014822, 'gamma': 0.007818394676807191, 'max_delta_step': 6.88119240531349, 'n_estimators': 2870, 'booster': 'gbtree', 'grow_policy': 'depthwise', 'max_bin': 87, 'scale_pos_weight': 2.681543726587241, 'max_cat_to_onehot': 1}. Best is trial 86 with value: 0.059421137294997685.\n"
     ]
    },
    {
     "name": "stdout",
     "output_type": "stream",
     "text": [
      "Trial 106 completed with score: 0.059519\n"
     ]
    },
    {
     "name": "stderr",
     "output_type": "stream",
     "text": [
      "[I 2025-05-28 12:06:32,052] Trial 107 pruned. \n"
     ]
    },
    {
     "name": "stdout",
     "output_type": "stream",
     "text": [
      "Trial 107 pruned after fold 3\n"
     ]
    },
    {
     "name": "stderr",
     "output_type": "stream",
     "text": [
      "[I 2025-05-28 12:07:58,721] Trial 108 finished with value: 0.05959069901909664 and parameters: {'learning_rate': 0.012865063719071701, 'max_depth': 7, 'min_child_weight': 0.10831229143314088, 'subsample': 0.5875377712308852, 'colsample_bytree': 0.9857432240128128, 'colsample_bylevel': 0.8952515481807872, 'colsample_bynode': 0.9457870933178908, 'reg_alpha': 1.24167604185082, 'reg_lambda': 2.510347196851992e-06, 'gamma': 2.447688249051196e-07, 'max_delta_step': 6.830249851644945, 'n_estimators': 2780, 'booster': 'gbtree', 'grow_policy': 'depthwise', 'max_bin': 97, 'scale_pos_weight': 5.631329449230114, 'max_cat_to_onehot': 2}. Best is trial 86 with value: 0.059421137294997685.\n"
     ]
    },
    {
     "name": "stdout",
     "output_type": "stream",
     "text": [
      "Trial 108 completed with score: 0.059591\n"
     ]
    },
    {
     "name": "stderr",
     "output_type": "stream",
     "text": [
      "[I 2025-05-28 12:09:18,117] Trial 109 pruned. \n"
     ]
    },
    {
     "name": "stdout",
     "output_type": "stream",
     "text": [
      "Trial 109 pruned after fold 5\n"
     ]
    },
    {
     "name": "stderr",
     "output_type": "stream",
     "text": [
      "[I 2025-05-28 12:11:12,798] Trial 110 pruned. \n"
     ]
    },
    {
     "name": "stdout",
     "output_type": "stream",
     "text": [
      "Trial 110 pruned after fold 3\n"
     ]
    },
    {
     "name": "stderr",
     "output_type": "stream",
     "text": [
      "[I 2025-05-28 12:12:07,447] Trial 111 finished with value: 0.05959928068280338 and parameters: {'learning_rate': 0.02109034276040879, 'max_depth': 9, 'min_child_weight': 0.26903630796966793, 'subsample': 0.43753731902188003, 'colsample_bytree': 0.9020033025711225, 'colsample_bylevel': 0.6922695139192465, 'colsample_bynode': 0.8644625738439364, 'reg_alpha': 0.5652230822487806, 'reg_lambda': 0.0006648697511031004, 'gamma': 3.9214710128278835e-07, 'max_delta_step': 9.026808870656016, 'n_estimators': 3983, 'booster': 'gbtree', 'grow_policy': 'depthwise', 'max_bin': 106, 'scale_pos_weight': 2.632476295052185, 'max_cat_to_onehot': 2}. Best is trial 86 with value: 0.059421137294997685.\n"
     ]
    },
    {
     "name": "stdout",
     "output_type": "stream",
     "text": [
      "Trial 111 completed with score: 0.059599\n"
     ]
    },
    {
     "name": "stderr",
     "output_type": "stream",
     "text": [
      "[I 2025-05-28 12:13:25,142] Trial 112 pruned. \n"
     ]
    },
    {
     "name": "stdout",
     "output_type": "stream",
     "text": [
      "Trial 112 pruned after fold 3\n"
     ]
    },
    {
     "name": "stderr",
     "output_type": "stream",
     "text": [
      "[I 2025-05-28 12:14:38,413] Trial 113 pruned. \n"
     ]
    },
    {
     "name": "stdout",
     "output_type": "stream",
     "text": [
      "Trial 113 pruned after fold 3\n"
     ]
    },
    {
     "name": "stderr",
     "output_type": "stream",
     "text": [
      "[I 2025-05-28 12:16:44,662] Trial 114 finished with value: 0.05963565255322552 and parameters: {'learning_rate': 0.008894090873962002, 'max_depth': 7, 'min_child_weight': 0.11646019776008298, 'subsample': 0.7396554214036934, 'colsample_bytree': 0.9203345416159139, 'colsample_bylevel': 0.550147251068499, 'colsample_bynode': 0.9910753509949376, 'reg_alpha': 9.257858959140514e-06, 'reg_lambda': 0.001511689144453935, 'gamma': 0.008013776917425653, 'max_delta_step': 6.388350012469804, 'n_estimators': 4156, 'booster': 'gbtree', 'grow_policy': 'depthwise', 'max_bin': 264, 'scale_pos_weight': 2.5502192502781247, 'max_cat_to_onehot': 6}. Best is trial 86 with value: 0.059421137294997685.\n"
     ]
    },
    {
     "name": "stdout",
     "output_type": "stream",
     "text": [
      "Trial 114 completed with score: 0.059636\n"
     ]
    },
    {
     "name": "stderr",
     "output_type": "stream",
     "text": [
      "[I 2025-05-28 12:18:17,754] Trial 115 pruned. \n"
     ]
    },
    {
     "name": "stdout",
     "output_type": "stream",
     "text": [
      "Trial 115 pruned after fold 3\n"
     ]
    },
    {
     "name": "stderr",
     "output_type": "stream",
     "text": [
      "[I 2025-05-28 12:20:11,723] Trial 116 finished with value: 0.059484000526766015 and parameters: {'learning_rate': 0.008295185635941098, 'max_depth': 8, 'min_child_weight': 0.1012946302684705, 'subsample': 0.8661245389578074, 'colsample_bytree': 0.9000677340483534, 'colsample_bylevel': 0.7574484810104608, 'colsample_bynode': 0.8394394213283229, 'reg_alpha': 0.001943927111095414, 'reg_lambda': 0.0010609637954349473, 'gamma': 0.0016749203151347754, 'max_delta_step': 4.5175348757596225, 'n_estimators': 2250, 'booster': 'gbtree', 'grow_policy': 'depthwise', 'max_bin': 86, 'scale_pos_weight': 7.1154665579604455, 'max_cat_to_onehot': 1}. Best is trial 86 with value: 0.059421137294997685.\n"
     ]
    },
    {
     "name": "stdout",
     "output_type": "stream",
     "text": [
      "Trial 116 completed with score: 0.059484\n"
     ]
    },
    {
     "name": "stderr",
     "output_type": "stream",
     "text": [
      "[I 2025-05-28 12:20:37,665] Trial 117 pruned. \n"
     ]
    },
    {
     "name": "stdout",
     "output_type": "stream",
     "text": [
      "Trial 117 pruned after fold 3\n"
     ]
    },
    {
     "name": "stderr",
     "output_type": "stream",
     "text": [
      "[I 2025-05-28 12:21:38,746] Trial 118 pruned. \n"
     ]
    },
    {
     "name": "stdout",
     "output_type": "stream",
     "text": [
      "Trial 118 pruned after fold 3\n"
     ]
    },
    {
     "name": "stderr",
     "output_type": "stream",
     "text": [
      "[I 2025-05-28 12:23:04,097] Trial 119 pruned. \n"
     ]
    },
    {
     "name": "stdout",
     "output_type": "stream",
     "text": [
      "Trial 119 pruned after fold 3\n"
     ]
    },
    {
     "name": "stderr",
     "output_type": "stream",
     "text": [
      "[I 2025-05-28 12:23:31,864] Trial 120 pruned. \n"
     ]
    },
    {
     "name": "stdout",
     "output_type": "stream",
     "text": [
      "Trial 120 pruned after fold 3\n"
     ]
    },
    {
     "name": "stderr",
     "output_type": "stream",
     "text": [
      "[I 2025-05-28 12:25:58,392] Trial 121 finished with value: 0.05959023179156464 and parameters: {'learning_rate': 0.00993443865877747, 'max_depth': 9, 'min_child_weight': 0.11393301865759659, 'subsample': 0.5774349038676039, 'colsample_bytree': 0.7202659489837713, 'colsample_bylevel': 0.7390951784975184, 'colsample_bynode': 0.9826798399436838, 'reg_alpha': 3.370675658440182e-06, 'reg_lambda': 2.9293620155879858e-05, 'gamma': 8.453656798752032e-06, 'max_delta_step': 9.734214532096786, 'n_estimators': 4548, 'booster': 'gbtree', 'grow_policy': 'depthwise', 'max_bin': 212, 'scale_pos_weight': 1.8312426267742026, 'max_cat_to_onehot': 5}. Best is trial 86 with value: 0.059421137294997685.\n",
      "[W 2025-05-28 12:25:58,457] The parameter 'max_leaves' in trial#122 is sampled independently instead of being sampled by multivariate TPE sampler. (optimization performance may be degraded). You can suppress this warning by setting `warn_independent_sampling` to `False` in the constructor of `TPESampler`, if this independent sampling is intended behavior.\n"
     ]
    },
    {
     "name": "stdout",
     "output_type": "stream",
     "text": [
      "Trial 121 completed with score: 0.059590\n"
     ]
    },
    {
     "name": "stderr",
     "output_type": "stream",
     "text": [
      "[I 2025-05-28 12:26:53,079] Trial 122 pruned. \n"
     ]
    },
    {
     "name": "stdout",
     "output_type": "stream",
     "text": [
      "Trial 122 pruned after fold 3\n"
     ]
    },
    {
     "name": "stderr",
     "output_type": "stream",
     "text": [
      "[I 2025-05-28 12:27:58,426] Trial 123 finished with value: 0.0595855130189155 and parameters: {'learning_rate': 0.01273547342108172, 'max_depth': 8, 'min_child_weight': 0.23033809631610408, 'subsample': 0.7542754074569359, 'colsample_bytree': 0.888580331794536, 'colsample_bylevel': 0.9938426253356467, 'colsample_bynode': 0.7658529545574274, 'reg_alpha': 0.00015570422336623282, 'reg_lambda': 0.21299259495206843, 'gamma': 0.018332946729291196, 'max_delta_step': 4.8200657803656455, 'n_estimators': 2625, 'booster': 'gbtree', 'grow_policy': 'depthwise', 'max_bin': 110, 'scale_pos_weight': 0.10811874966975886, 'max_cat_to_onehot': 1}. Best is trial 86 with value: 0.059421137294997685.\n",
      "[W 2025-05-28 12:27:58,494] The parameter 'max_leaves' in trial#124 is sampled independently instead of being sampled by multivariate TPE sampler. (optimization performance may be degraded). You can suppress this warning by setting `warn_independent_sampling` to `False` in the constructor of `TPESampler`, if this independent sampling is intended behavior.\n"
     ]
    },
    {
     "name": "stdout",
     "output_type": "stream",
     "text": [
      "Trial 123 completed with score: 0.059586\n"
     ]
    },
    {
     "name": "stderr",
     "output_type": "stream",
     "text": [
      "[I 2025-05-28 12:28:42,998] Trial 124 pruned. \n"
     ]
    },
    {
     "name": "stdout",
     "output_type": "stream",
     "text": [
      "Trial 124 pruned after fold 3\n"
     ]
    },
    {
     "name": "stderr",
     "output_type": "stream",
     "text": [
      "[I 2025-05-28 12:31:39,500] Trial 125 finished with value: 0.059478532862306956 and parameters: {'learning_rate': 0.00506867586737392, 'max_depth': 8, 'min_child_weight': 0.13473921710886064, 'subsample': 0.849280274279657, 'colsample_bytree': 0.8721519164280802, 'colsample_bylevel': 0.8620249700036331, 'colsample_bynode': 0.8575868914683841, 'reg_alpha': 0.02708656012649766, 'reg_lambda': 0.7383941993644635, 'gamma': 5.772223061737217e-05, 'max_delta_step': 8.195934184380317, 'n_estimators': 3124, 'booster': 'gbtree', 'grow_policy': 'depthwise', 'max_bin': 166, 'scale_pos_weight': 2.9022535821962197, 'max_cat_to_onehot': 1}. Best is trial 86 with value: 0.059421137294997685.\n"
     ]
    },
    {
     "name": "stdout",
     "output_type": "stream",
     "text": [
      "Trial 125 completed with score: 0.059479\n"
     ]
    },
    {
     "name": "stderr",
     "output_type": "stream",
     "text": [
      "[I 2025-05-28 12:35:10,949] Trial 126 finished with value: 0.059436744478878104 and parameters: {'learning_rate': 0.0060627794312536724, 'max_depth': 9, 'min_child_weight': 0.10644914135710941, 'subsample': 0.9063823189130471, 'colsample_bytree': 0.8951956759005311, 'colsample_bylevel': 0.621519152487622, 'colsample_bynode': 0.9124420148373001, 'reg_alpha': 0.3129095038691157, 'reg_lambda': 1.4579453033112406, 'gamma': 3.845467630513249e-05, 'max_delta_step': 7.435491245900794, 'n_estimators': 2766, 'booster': 'gbtree', 'grow_policy': 'depthwise', 'max_bin': 264, 'scale_pos_weight': 2.1736080969956877, 'max_cat_to_onehot': 4}. Best is trial 86 with value: 0.059421137294997685.\n"
     ]
    },
    {
     "name": "stdout",
     "output_type": "stream",
     "text": [
      "Trial 126 completed with score: 0.059437\n"
     ]
    },
    {
     "name": "stderr",
     "output_type": "stream",
     "text": [
      "[I 2025-05-28 12:35:49,077] Trial 127 pruned. \n"
     ]
    },
    {
     "name": "stdout",
     "output_type": "stream",
     "text": [
      "Trial 127 pruned after fold 3\n"
     ]
    },
    {
     "name": "stderr",
     "output_type": "stream",
     "text": [
      "[I 2025-05-28 12:36:24,918] Trial 128 pruned. \n"
     ]
    },
    {
     "name": "stdout",
     "output_type": "stream",
     "text": [
      "Trial 128 pruned after fold 3\n"
     ]
    },
    {
     "name": "stderr",
     "output_type": "stream",
     "text": [
      "[I 2025-05-28 12:37:43,489] Trial 129 pruned. \n",
      "[W 2025-05-28 12:37:43,558] The parameter 'max_leaves' in trial#130 is sampled independently instead of being sampled by multivariate TPE sampler. (optimization performance may be degraded). You can suppress this warning by setting `warn_independent_sampling` to `False` in the constructor of `TPESampler`, if this independent sampling is intended behavior.\n"
     ]
    },
    {
     "name": "stdout",
     "output_type": "stream",
     "text": [
      "Trial 129 pruned after fold 3\n"
     ]
    },
    {
     "name": "stderr",
     "output_type": "stream",
     "text": [
      "[I 2025-05-28 12:40:01,400] Trial 130 finished with value: 0.05954834823538607 and parameters: {'learning_rate': 0.009338282627582252, 'max_depth': 7, 'min_child_weight': 0.30979349089569297, 'subsample': 0.8509281450005102, 'colsample_bytree': 0.9580880342698309, 'colsample_bylevel': 0.790320686967898, 'colsample_bynode': 0.8789853827711889, 'reg_alpha': 0.0008177724090102533, 'reg_lambda': 0.8062097753461778, 'gamma': 2.6879475168737074e-06, 'max_delta_step': 8.272672094458194, 'n_estimators': 2315, 'booster': 'gbtree', 'grow_policy': 'lossguide', 'max_leaves': 191, 'max_bin': 133, 'scale_pos_weight': 3.5309253087790173, 'max_cat_to_onehot': 3}. Best is trial 86 with value: 0.059421137294997685.\n"
     ]
    },
    {
     "name": "stdout",
     "output_type": "stream",
     "text": [
      "Trial 130 completed with score: 0.059548\n"
     ]
    },
    {
     "name": "stderr",
     "output_type": "stream",
     "text": [
      "[I 2025-05-28 12:52:11,251] Trial 131 finished with value: 0.05969587780648074 and parameters: {'learning_rate': 0.005725647969500828, 'max_depth': 13, 'min_child_weight': 0.1570141311160732, 'subsample': 0.7698660555553852, 'colsample_bytree': 0.8714044665699696, 'colsample_bylevel': 0.8592286511586084, 'colsample_bynode': 0.7302005374771205, 'reg_alpha': 0.11727630458415839, 'reg_lambda': 0.33577282135940517, 'gamma': 0.00017635876538271187, 'max_delta_step': 8.917689884805272, 'n_estimators': 2899, 'booster': 'gbtree', 'grow_policy': 'depthwise', 'max_bin': 248, 'scale_pos_weight': 3.3898346712027685, 'max_cat_to_onehot': 1}. Best is trial 86 with value: 0.059421137294997685.\n"
     ]
    },
    {
     "name": "stdout",
     "output_type": "stream",
     "text": [
      "Trial 131 completed with score: 0.059696\n"
     ]
    },
    {
     "name": "stderr",
     "output_type": "stream",
     "text": [
      "[I 2025-05-28 12:55:17,288] Trial 132 pruned. \n"
     ]
    },
    {
     "name": "stdout",
     "output_type": "stream",
     "text": [
      "Trial 132 pruned after fold 3\n"
     ]
    },
    {
     "name": "stderr",
     "output_type": "stream",
     "text": [
      "[I 2025-05-28 12:55:51,513] Trial 133 pruned. \n"
     ]
    },
    {
     "name": "stdout",
     "output_type": "stream",
     "text": [
      "Trial 133 pruned after fold 3\n"
     ]
    },
    {
     "name": "stderr",
     "output_type": "stream",
     "text": [
      "[I 2025-05-28 13:04:39,765] Trial 134 finished with value: 0.05953922631189242 and parameters: {'learning_rate': 0.007008833009090609, 'max_depth': 14, 'min_child_weight': 0.15423256526840304, 'subsample': 0.8969597678033956, 'colsample_bytree': 0.9042568303882738, 'colsample_bylevel': 0.6083272943976467, 'colsample_bynode': 0.7257585581497253, 'reg_alpha': 0.3723022859766991, 'reg_lambda': 1.7508211699365153, 'gamma': 1.729387388971884e-08, 'max_delta_step': 7.154038583000326, 'n_estimators': 3778, 'booster': 'gbtree', 'grow_policy': 'depthwise', 'max_bin': 217, 'scale_pos_weight': 2.8116090513893375, 'max_cat_to_onehot': 6}. Best is trial 86 with value: 0.059421137294997685.\n"
     ]
    },
    {
     "name": "stdout",
     "output_type": "stream",
     "text": [
      "Trial 134 completed with score: 0.059539\n"
     ]
    },
    {
     "name": "stderr",
     "output_type": "stream",
     "text": [
      "[I 2025-05-28 13:06:35,002] Trial 135 finished with value: 0.05949975405246231 and parameters: {'learning_rate': 0.008887145961760264, 'max_depth': 7, 'min_child_weight': 0.12806313478052167, 'subsample': 0.9615567106720733, 'colsample_bytree': 0.9701232010525298, 'colsample_bylevel': 0.6856951990441612, 'colsample_bynode': 0.8209055542958063, 'reg_alpha': 0.00024278103872888118, 'reg_lambda': 6.3302966458279855e-06, 'gamma': 0.00024225407112598706, 'max_delta_step': 5.101690827390828, 'n_estimators': 2779, 'booster': 'gbtree', 'grow_policy': 'depthwise', 'max_bin': 147, 'scale_pos_weight': 7.0786044955327165, 'max_cat_to_onehot': 3}. Best is trial 86 with value: 0.059421137294997685.\n"
     ]
    },
    {
     "name": "stdout",
     "output_type": "stream",
     "text": [
      "Trial 135 completed with score: 0.059500\n"
     ]
    },
    {
     "name": "stderr",
     "output_type": "stream",
     "text": [
      "[I 2025-05-28 13:09:49,577] Trial 136 finished with value: 0.05956786809873739 and parameters: {'learning_rate': 0.005410895596199121, 'max_depth': 9, 'min_child_weight': 0.11031966545396532, 'subsample': 0.8522368584607911, 'colsample_bytree': 0.8251823198303979, 'colsample_bylevel': 0.7472573602441371, 'colsample_bynode': 0.7182972935689442, 'reg_alpha': 0.0021340955817892695, 'reg_lambda': 0.029832464681816495, 'gamma': 0.018291283656736858, 'max_delta_step': 3.735347724896309, 'n_estimators': 3296, 'booster': 'gbtree', 'grow_policy': 'depthwise', 'max_bin': 121, 'scale_pos_weight': 8.316470145705019, 'max_cat_to_onehot': 2}. Best is trial 86 with value: 0.059421137294997685.\n"
     ]
    },
    {
     "name": "stdout",
     "output_type": "stream",
     "text": [
      "Trial 136 completed with score: 0.059568\n"
     ]
    },
    {
     "name": "stderr",
     "output_type": "stream",
     "text": [
      "[I 2025-05-28 13:10:06,555] Trial 137 pruned. \n"
     ]
    },
    {
     "name": "stdout",
     "output_type": "stream",
     "text": [
      "Trial 137 pruned after fold 3\n"
     ]
    },
    {
     "name": "stderr",
     "output_type": "stream",
     "text": [
      "[I 2025-05-28 13:11:37,509] Trial 138 pruned. \n"
     ]
    },
    {
     "name": "stdout",
     "output_type": "stream",
     "text": [
      "Trial 138 pruned after fold 3\n"
     ]
    },
    {
     "name": "stderr",
     "output_type": "stream",
     "text": [
      "[I 2025-05-28 13:12:16,749] Trial 139 pruned. \n"
     ]
    },
    {
     "name": "stdout",
     "output_type": "stream",
     "text": [
      "Trial 139 pruned after fold 3\n"
     ]
    },
    {
     "name": "stderr",
     "output_type": "stream",
     "text": [
      "[I 2025-05-28 13:13:15,678] Trial 140 pruned. \n"
     ]
    },
    {
     "name": "stdout",
     "output_type": "stream",
     "text": [
      "Trial 140 pruned after fold 3\n"
     ]
    },
    {
     "name": "stderr",
     "output_type": "stream",
     "text": [
      "[I 2025-05-28 13:19:29,660] Trial 141 finished with value: 0.059521362361676634 and parameters: {'learning_rate': 0.008421955876122648, 'max_depth': 14, 'min_child_weight': 0.1161841951664372, 'subsample': 0.6927903895327508, 'colsample_bytree': 0.8845393065656771, 'colsample_bylevel': 0.612895993515129, 'colsample_bynode': 0.9713478093464328, 'reg_alpha': 0.5109946492864659, 'reg_lambda': 0.1265776363465992, 'gamma': 0.00017789114345707536, 'max_delta_step': 5.284270078154068, 'n_estimators': 3060, 'booster': 'gbtree', 'grow_policy': 'depthwise', 'max_bin': 92, 'scale_pos_weight': 1.4532819661817413, 'max_cat_to_onehot': 4}. Best is trial 86 with value: 0.059421137294997685.\n"
     ]
    },
    {
     "name": "stdout",
     "output_type": "stream",
     "text": [
      "Trial 141 completed with score: 0.059521\n"
     ]
    },
    {
     "name": "stderr",
     "output_type": "stream",
     "text": [
      "[I 2025-05-28 13:20:29,241] Trial 142 pruned. \n"
     ]
    },
    {
     "name": "stdout",
     "output_type": "stream",
     "text": [
      "Trial 142 pruned after fold 3\n"
     ]
    },
    {
     "name": "stderr",
     "output_type": "stream",
     "text": [
      "[I 2025-05-28 13:21:49,822] Trial 143 finished with value: 0.05955371120050011 and parameters: {'learning_rate': 0.01272768037400024, 'max_depth': 8, 'min_child_weight': 0.10880249090879358, 'subsample': 0.4168570444441305, 'colsample_bytree': 0.8581735259928822, 'colsample_bylevel': 0.702918838742385, 'colsample_bynode': 0.9811913805477016, 'reg_alpha': 0.6948246071109426, 'reg_lambda': 5.039530720446697e-07, 'gamma': 4.9133969091193215e-06, 'max_delta_step': 8.500631905815355, 'n_estimators': 2396, 'booster': 'gbtree', 'grow_policy': 'depthwise', 'max_bin': 154, 'scale_pos_weight': 1.4754309197161657, 'max_cat_to_onehot': 3}. Best is trial 86 with value: 0.059421137294997685.\n"
     ]
    },
    {
     "name": "stdout",
     "output_type": "stream",
     "text": [
      "Trial 143 completed with score: 0.059554\n"
     ]
    },
    {
     "name": "stderr",
     "output_type": "stream",
     "text": [
      "[I 2025-05-28 13:22:33,915] Trial 144 pruned. \n"
     ]
    },
    {
     "name": "stdout",
     "output_type": "stream",
     "text": [
      "Trial 144 pruned after fold 3\n"
     ]
    },
    {
     "name": "stderr",
     "output_type": "stream",
     "text": [
      "[I 2025-05-28 13:22:51,301] Trial 145 pruned. \n"
     ]
    },
    {
     "name": "stdout",
     "output_type": "stream",
     "text": [
      "Trial 145 pruned after fold 3\n"
     ]
    },
    {
     "name": "stderr",
     "output_type": "stream",
     "text": [
      "[I 2025-05-28 13:24:03,432] Trial 146 finished with value: 0.05952825700333886 and parameters: {'learning_rate': 0.013472622562752381, 'max_depth': 8, 'min_child_weight': 3.9562869134878786, 'subsample': 0.7663651685843075, 'colsample_bytree': 0.9698965352181137, 'colsample_bylevel': 0.9185407685929542, 'colsample_bynode': 0.9286716911907911, 'reg_alpha': 0.04367833025472257, 'reg_lambda': 5.212620043107479, 'gamma': 0.002181314230874861, 'max_delta_step': 2.2920056034396667, 'n_estimators': 3154, 'booster': 'gbtree', 'grow_policy': 'depthwise', 'max_bin': 229, 'scale_pos_weight': 4.188195661860713, 'max_cat_to_onehot': 4}. Best is trial 86 with value: 0.059421137294997685.\n"
     ]
    },
    {
     "name": "stdout",
     "output_type": "stream",
     "text": [
      "Trial 146 completed with score: 0.059528\n"
     ]
    },
    {
     "name": "stderr",
     "output_type": "stream",
     "text": [
      "[I 2025-05-28 13:25:57,221] Trial 147 pruned. \n"
     ]
    },
    {
     "name": "stdout",
     "output_type": "stream",
     "text": [
      "Trial 147 pruned after fold 5\n"
     ]
    },
    {
     "name": "stderr",
     "output_type": "stream",
     "text": [
      "[I 2025-05-28 13:26:53,807] Trial 148 pruned. \n"
     ]
    },
    {
     "name": "stdout",
     "output_type": "stream",
     "text": [
      "Trial 148 pruned after fold 3\n"
     ]
    },
    {
     "name": "stderr",
     "output_type": "stream",
     "text": [
      "[I 2025-05-28 13:27:32,683] Trial 149 pruned. \n"
     ]
    },
    {
     "name": "stdout",
     "output_type": "stream",
     "text": [
      "Trial 149 pruned after fold 3\n"
     ]
    }
   ],
   "source": [
    "import xgboost as xgb\n",
    "\n",
    "def xgb_objective(trial):\n",
    "    # Parameter definitions with very diverse ranges\n",
    "    params = {\n",
    "        'learning_rate': trial.suggest_float('learning_rate', 0.005, 0.3, log=True),\n",
    "        'max_depth': trial.suggest_int('max_depth', 3, 15),\n",
    "        'min_child_weight': trial.suggest_float('min_child_weight', 0.1, 20.0, log=True),\n",
    "        'subsample': trial.suggest_float('subsample', 0.4, 1.0),\n",
    "        'colsample_bytree': trial.suggest_float('colsample_bytree', 0.4, 1.0),\n",
    "        'colsample_bylevel': trial.suggest_float('colsample_bylevel', 0.4, 1.0),\n",
    "        'colsample_bynode': trial.suggest_float('colsample_bynode', 0.4, 1.0),\n",
    "        'reg_alpha': trial.suggest_float('reg_alpha', 1e-8, 10.0, log=True),\n",
    "        'reg_lambda': trial.suggest_float('reg_lambda', 1e-8, 10.0, log=True),\n",
    "        'gamma': trial.suggest_float('gamma', 1e-8, 1.0, log=True),\n",
    "        'max_delta_step': trial.suggest_float('max_delta_step', 0.0, 10.0),\n",
    "        'n_estimators': trial.suggest_int('n_estimators', 500, 5000),\n",
    "        'booster': trial.suggest_categorical('booster', ['gbtree']),\n",
    "        'tree_method': 'gpu_hist',\n",
    "        'gpu_id': 0,\n",
    "        'objective': 'reg:squarederror',\n",
    "        'eval_metric': 'rmse',\n",
    "        'verbosity': 0,\n",
    "        'random_state': 42,\n",
    "        'early_stopping_rounds': 50,\n",
    "    }\n",
    "    \n",
    "    # Booster specific parameters\n",
    "    if params['booster'] == 'dart':\n",
    "        params['sample_type'] = trial.suggest_categorical('sample_type', ['uniform', 'weighted'])\n",
    "        params['normalize_type'] = trial.suggest_categorical('normalize_type', ['tree', 'forest'])\n",
    "        params['rate_drop'] = trial.suggest_float('rate_drop', 0.01, 0.5)\n",
    "        params['one_drop'] = trial.suggest_categorical('one_drop', [0, 1])\n",
    "        params['skip_drop'] = trial.suggest_float('skip_drop', 0.0, 0.8)\n",
    "    elif params['booster'] == 'gblinear':\n",
    "        params['feature_selector'] = trial.suggest_categorical('feature_selector', ['cyclic', 'shuffle', 'random'])\n",
    "    else:  # gbtree\n",
    "        params['grow_policy'] = trial.suggest_categorical('grow_policy', ['depthwise', 'lossguide'])\n",
    "        if params['grow_policy'] == 'lossguide':\n",
    "            params['max_leaves'] = trial.suggest_int('max_leaves', 0, 256)\n",
    "        params['max_bin'] = trial.suggest_int('max_bin', 64, 512)\n",
    "    \n",
    "    # Additional diverse parameters\n",
    "    params['scale_pos_weight'] = trial.suggest_float('scale_pos_weight', 0.1, 10.0)\n",
    "    params['max_cat_to_onehot'] = trial.suggest_int('max_cat_to_onehot', 1, 10)\n",
    "    \n",
    "    kf = KFold(n_splits=5, shuffle=True, random_state=42)\n",
    "    scores = []\n",
    "    \n",
    "    for fold, (train_idx, valid_idx) in enumerate(kf.split(X, y)):\n",
    "        X_train, X_valid = X.iloc[train_idx], X.iloc[valid_idx]\n",
    "        y_train, y_valid = y.iloc[train_idx], y.iloc[valid_idx]\n",
    "        \n",
    "        y_train_log = np.log1p(y_train)\n",
    "        y_valid_log = np.log1p(y_valid)\n",
    "        \n",
    "        model = xgb.XGBRegressor(**params)\n",
    "        model.fit(\n",
    "            X_train, y_train_log,\n",
    "            eval_set=[(X_valid, y_valid_log)],\n",
    "            verbose=False\n",
    "        )\n",
    "        \n",
    "        preds_log = model.predict(X_valid)\n",
    "        preds = np.expm1(preds_log)\n",
    "        preds = np.clip(preds, 1e-6, None)\n",
    "        \n",
    "        rmsle = np.sqrt(mean_squared_log_error(y_valid, preds))\n",
    "        scores.append(rmsle)\n",
    "        \n",
    "        # Report intermediate score\n",
    "        trial.report(rmsle, step=fold)\n",
    "        \n",
    "        # DELAYED PRUNING: Only check for pruning after 3rd fold (index 2)\n",
    "        if fold >= 1 and trial.should_prune():\n",
    "            print(f\"Trial {trial.number} pruned after fold {fold + 1}\")\n",
    "            raise optuna.TrialPruned()\n",
    "    \n",
    "    final_score = np.mean(scores)\n",
    "    print(f\"Trial {trial.number} completed with score: {final_score:.6f}\")\n",
    "    return final_score\n",
    "\n",
    "# Create study for XGBoost\n",
    "study_xgb = optuna.create_study(\n",
    "    direction='minimize',\n",
    "    sampler=TPESampler(seed=42, multivariate=True),\n",
    "    pruner=MedianPruner(\n",
    "        n_startup_trials=10,\n",
    "        n_warmup_steps=2,\n",
    "        interval_steps=1\n",
    "    )\n",
    ")\n",
    "\n",
    "print(\"Starting XGBoost optimization with delayed pruning...\")\n",
    "print(\"Pruning will only occur after fold 3 (index 2)\")\n",
    "study_xgb.optimize(xgb_objective, n_trials=150)"
   ]
  },
  {
   "cell_type": "code",
   "execution_count": 10,
   "id": "ead2bca3",
   "metadata": {
    "execution": {
     "iopub.execute_input": "2025-05-28T13:27:32.738033Z",
     "iopub.status.busy": "2025-05-28T13:27:32.737811Z",
     "iopub.status.idle": "2025-05-28T13:27:32.743067Z",
     "shell.execute_reply": "2025-05-28T13:27:32.742420Z"
    },
    "papermill": {
     "duration": 0.022793,
     "end_time": "2025-05-28T13:27:32.743992",
     "exception": false,
     "start_time": "2025-05-28T13:27:32.721199",
     "status": "completed"
    },
    "tags": []
   },
   "outputs": [
    {
     "name": "stdout",
     "output_type": "stream",
     "text": [
      "Best trial:\n",
      "  RMSLE: 0.05942\n",
      "  Params: \n",
      "    learning_rate: 0.005259384953220211\n",
      "    max_depth: 10\n",
      "    min_child_weight: 0.10230593448413597\n",
      "    subsample: 0.49101690286763244\n",
      "    colsample_bytree: 0.9934807429906339\n",
      "    colsample_bylevel: 0.7565299575549633\n",
      "    colsample_bynode: 0.9632535324582226\n",
      "    reg_alpha: 0.06388723332518843\n",
      "    reg_lambda: 1.086396993136656e-07\n",
      "    gamma: 1.4437051685678297e-07\n",
      "    max_delta_step: 7.229720505305216\n",
      "    n_estimators: 3234\n",
      "    booster: gbtree\n",
      "    grow_policy: depthwise\n",
      "    max_bin: 130\n",
      "    scale_pos_weight: 3.0014652523374097\n",
      "    max_cat_to_onehot: 5\n"
     ]
    }
   ],
   "source": [
    "print(\"Best trial:\")\n",
    "trial = study_xgb.best_trial\n",
    "print(f\"  RMSLE: {trial.value:.5f}\")\n",
    "print(\"  Params: \")\n",
    "for key, value in trial.params.items():\n",
    "    print(f\"    {key}: {value}\")\n",
    "\n",
    "# Train final model\n",
    "best_params = study_xgb.best_params.copy()\n",
    "best_params.update({'early_stopping_rounds': None}) "
   ]
  },
  {
   "cell_type": "code",
   "execution_count": null,
   "id": "1fb5fad8",
   "metadata": {
    "papermill": {
     "duration": 0.016507,
     "end_time": "2025-05-28T13:27:32.776078",
     "exception": false,
     "start_time": "2025-05-28T13:27:32.759571",
     "status": "completed"
    },
    "tags": []
   },
   "outputs": [],
   "source": []
  }
 ],
 "metadata": {
  "kaggle": {
   "accelerator": "gpu",
   "dataSources": [
    {
     "databundleVersionId": 11893428,
     "sourceId": 91716,
     "sourceType": "competition"
    }
   ],
   "dockerImageVersionId": 31041,
   "isGpuEnabled": true,
   "isInternetEnabled": true,
   "language": "python",
   "sourceType": "notebook"
  },
  "kernelspec": {
   "display_name": "Python 3",
   "language": "python",
   "name": "python3"
  },
  "language_info": {
   "codemirror_mode": {
    "name": "ipython",
    "version": 3
   },
   "file_extension": ".py",
   "mimetype": "text/x-python",
   "name": "python",
   "nbconvert_exporter": "python",
   "pygments_lexer": "ipython3",
   "version": "3.11.11"
  },
  "papermill": {
   "default_parameters": {},
   "duration": 17889.754122,
   "end_time": "2025-05-28T13:27:33.425871",
   "environment_variables": {},
   "exception": null,
   "input_path": "__notebook__.ipynb",
   "output_path": "__notebook__.ipynb",
   "parameters": {},
   "start_time": "2025-05-28T08:29:23.671749",
   "version": "2.6.0"
  }
 },
 "nbformat": 4,
 "nbformat_minor": 5
}
