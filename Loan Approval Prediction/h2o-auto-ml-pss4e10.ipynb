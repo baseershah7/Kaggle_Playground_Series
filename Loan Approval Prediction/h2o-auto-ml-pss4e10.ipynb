{
 "cells": [
  {
   "cell_type": "markdown",
   "id": "4e1098a4",
   "metadata": {
    "papermill": {
     "duration": 0.008577,
     "end_time": "2024-10-22T14:07:57.244992",
     "exception": false,
     "start_time": "2024-10-22T14:07:57.236415",
     "status": "completed"
    },
    "tags": []
   },
   "source": [
    "# all(old + new) features converted to category dtype, more new features compared to previous versions "
   ]
  },
  {
   "cell_type": "code",
   "execution_count": 1,
   "id": "41302fad",
   "metadata": {
    "_cell_guid": "b1076dfc-b9ad-4769-8c92-a6c4dae69d19",
    "_uuid": "8f2839f25d086af736a60e9eeb907d3b93b6e0e5",
    "execution": {
     "iopub.execute_input": "2024-10-22T14:07:57.262935Z",
     "iopub.status.busy": "2024-10-22T14:07:57.262495Z",
     "iopub.status.idle": "2024-10-22T14:07:58.341966Z",
     "shell.execute_reply": "2024-10-22T14:07:58.340823Z"
    },
    "papermill": {
     "duration": 1.091581,
     "end_time": "2024-10-22T14:07:58.344642",
     "exception": false,
     "start_time": "2024-10-22T14:07:57.253061",
     "status": "completed"
    },
    "tags": []
   },
   "outputs": [
    {
     "name": "stdout",
     "output_type": "stream",
     "text": [
      "/kaggle/input/playground-series-s4e10/sample_submission.csv\n",
      "/kaggle/input/playground-series-s4e10/train.csv\n",
      "/kaggle/input/playground-series-s4e10/test.csv\n",
      "/kaggle/input/loan-approval-lgbm-xgb/training_prepped(encoding_final_boss).csv\n",
      "/kaggle/input/loan-approval-lgbm-xgb/__results__.html\n",
      "/kaggle/input/loan-approval-lgbm-xgb/test_prepped(encoding_final_boss).csv\n",
      "/kaggle/input/loan-approval-lgbm-xgb/__notebook__.ipynb\n",
      "/kaggle/input/loan-approval-lgbm-xgb/__output__.json\n",
      "/kaggle/input/loan-approval-lgbm-xgb/custom.css\n",
      "/kaggle/input/all-category-dtypemore-new-features/training_data.csv\n"
     ]
    }
   ],
   "source": [
    "# This Python 3 environment comes with many helpful analytics libraries installed\n",
    "# It is defined by the kaggle/python Docker image: https://github.com/kaggle/docker-python\n",
    "# For example, here's several helpful packages to load\n",
    "\n",
    "import numpy as np # linear algebra\n",
    "import pandas as pd # data processing, CSV file I/O (e.g. pd.read_csv)\n",
    "\n",
    "# Input data files are available in the read-only \"../input/\" directory\n",
    "# For example, running this (by clicking run or pressing Shift+Enter) will list all files under the input directory\n",
    "\n",
    "import os\n",
    "for dirname, _, filenames in os.walk('/kaggle/input'):\n",
    "    for filename in filenames:\n",
    "        print(os.path.join(dirname, filename))\n",
    "\n",
    "# You can write up to 20GB to the current directory (/kaggle/working/) that gets preserved as output when you create a version using \"Save & Run All\" \n",
    "# You can also write temporary files to /kaggle/temp/, but they won't be saved outside of the current session"
   ]
  },
  {
   "cell_type": "code",
   "execution_count": 2,
   "id": "482f6154",
   "metadata": {
    "execution": {
     "iopub.execute_input": "2024-10-22T14:07:58.362758Z",
     "iopub.status.busy": "2024-10-22T14:07:58.362209Z",
     "iopub.status.idle": "2024-10-22T14:07:58.879573Z",
     "shell.execute_reply": "2024-10-22T14:07:58.878421Z"
    },
    "papermill": {
     "duration": 0.529744,
     "end_time": "2024-10-22T14:07:58.882614",
     "exception": false,
     "start_time": "2024-10-22T14:07:58.352870",
     "status": "completed"
    },
    "tags": []
   },
   "outputs": [],
   "source": [
    "training_data = pd.read_csv('/kaggle/input/all-category-dtypemore-new-features/training_data.csv')\n",
    "# training_data.drop(columns='id', inplace=True)/kaggle/input/pss4e10-no-encoding-new-features-all-cat-dtype/training_prepped(encoding_final_boss).csv"
   ]
  },
  {
   "cell_type": "code",
   "execution_count": 3,
   "id": "bb9deec8",
   "metadata": {
    "execution": {
     "iopub.execute_input": "2024-10-22T14:07:58.900661Z",
     "iopub.status.busy": "2024-10-22T14:07:58.900224Z",
     "iopub.status.idle": "2024-10-22T14:07:58.915522Z",
     "shell.execute_reply": "2024-10-22T14:07:58.914445Z"
    },
    "papermill": {
     "duration": 0.026919,
     "end_time": "2024-10-22T14:07:58.917808",
     "exception": false,
     "start_time": "2024-10-22T14:07:58.890889",
     "status": "completed"
    },
    "tags": []
   },
   "outputs": [
    {
     "data": {
      "text/plain": [
       "person_age                       int64\n",
       "person_income                    int64\n",
       "person_home_ownership           object\n",
       "person_emp_length              float64\n",
       "loan_intent                     object\n",
       "loan_grade                      object\n",
       "loan_amnt                        int64\n",
       "loan_int_rate                  float64\n",
       "loan_percent_income            float64\n",
       "cb_person_default_on_file       object\n",
       "cb_person_cred_hist_length       int64\n",
       "loan_status                      int64\n",
       "employment_stability            object\n",
       "loan_amount_category            object\n",
       "income_level                    object\n",
       "debt_burden_level               object\n",
       "age_group                       object\n",
       "interest_rate_category          object\n",
       "high_interest_risk              object\n",
       "income_stability_loan_grade     object\n",
       "employment_length_category      object\n",
       "short_term_loan_flag             int64\n",
       "loan_grade_risk_flag             int64\n",
       "dtype: object"
      ]
     },
     "execution_count": 3,
     "metadata": {},
     "output_type": "execute_result"
    }
   ],
   "source": [
    "training_data.dtypes"
   ]
  },
  {
   "cell_type": "code",
   "execution_count": 4,
   "id": "3a4d0e8d",
   "metadata": {
    "execution": {
     "iopub.execute_input": "2024-10-22T14:07:58.935508Z",
     "iopub.status.busy": "2024-10-22T14:07:58.935089Z",
     "iopub.status.idle": "2024-10-22T14:07:58.939942Z",
     "shell.execute_reply": "2024-10-22T14:07:58.938928Z"
    },
    "papermill": {
     "duration": 0.016375,
     "end_time": "2024-10-22T14:07:58.942234",
     "exception": false,
     "start_time": "2024-10-22T14:07:58.925859",
     "status": "completed"
    },
    "tags": []
   },
   "outputs": [],
   "source": [
    "cols = training_data.columns"
   ]
  },
  {
   "cell_type": "code",
   "execution_count": 5,
   "id": "58f4f45b",
   "metadata": {
    "execution": {
     "iopub.execute_input": "2024-10-22T14:07:58.961275Z",
     "iopub.status.busy": "2024-10-22T14:07:58.960825Z",
     "iopub.status.idle": "2024-10-22T16:43:15.580359Z",
     "shell.execute_reply": "2024-10-22T16:43:15.579078Z"
    },
    "papermill": {
     "duration": 9316.632356,
     "end_time": "2024-10-22T16:43:15.583637",
     "exception": false,
     "start_time": "2024-10-22T14:07:58.951281",
     "status": "completed"
    },
    "tags": []
   },
   "outputs": [
    {
     "name": "stdout",
     "output_type": "stream",
     "text": [
      "Checking whether there is an H2O instance running at http://localhost:54321..... not found.\n",
      "Attempting to start a local H2O server...\n",
      "  Java Version: openjdk version \"11.0.24\" 2024-07-16; OpenJDK Runtime Environment (build 11.0.24+8-post-Ubuntu-1ubuntu320.04); OpenJDK 64-Bit Server VM (build 11.0.24+8-post-Ubuntu-1ubuntu320.04, mixed mode, sharing)\n",
      "  Starting server from /opt/conda/lib/python3.10/site-packages/h2o/backend/bin/h2o.jar\n",
      "  Ice root: /tmp/tmpv_ahbjld\n",
      "  JVM stdout: /tmp/tmpv_ahbjld/h2o_unknownUser_started_from_python.out\n",
      "  JVM stderr: /tmp/tmpv_ahbjld/h2o_unknownUser_started_from_python.err\n",
      "  Server is running at http://127.0.0.1:54321\n",
      "Connecting to H2O server at http://127.0.0.1:54321 ... successful.\n"
     ]
    },
    {
     "data": {
      "text/html": [
       "\n",
       "<style>\n",
       "\n",
       "#h2o-table-1.h2o-container {\n",
       "  overflow-x: auto;\n",
       "}\n",
       "#h2o-table-1 .h2o-table {\n",
       "  /* width: 100%; */\n",
       "  margin-top: 1em;\n",
       "  margin-bottom: 1em;\n",
       "}\n",
       "#h2o-table-1 .h2o-table caption {\n",
       "  white-space: nowrap;\n",
       "  caption-side: top;\n",
       "  text-align: left;\n",
       "  /* margin-left: 1em; */\n",
       "  margin: 0;\n",
       "  font-size: larger;\n",
       "}\n",
       "#h2o-table-1 .h2o-table thead {\n",
       "  white-space: nowrap; \n",
       "  position: sticky;\n",
       "  top: 0;\n",
       "  box-shadow: 0 -1px inset;\n",
       "}\n",
       "#h2o-table-1 .h2o-table tbody {\n",
       "  overflow: auto;\n",
       "}\n",
       "#h2o-table-1 .h2o-table th,\n",
       "#h2o-table-1 .h2o-table td {\n",
       "  text-align: right;\n",
       "  /* border: 1px solid; */\n",
       "}\n",
       "#h2o-table-1 .h2o-table tr:nth-child(even) {\n",
       "  /* background: #F5F5F5 */\n",
       "}\n",
       "\n",
       "</style>      \n",
       "<div id=\"h2o-table-1\" class=\"h2o-container\">\n",
       "  <table class=\"h2o-table\">\n",
       "    <caption></caption>\n",
       "    <thead></thead>\n",
       "    <tbody><tr><td>H2O_cluster_uptime:</td>\n",
       "<td>03 secs</td></tr>\n",
       "<tr><td>H2O_cluster_timezone:</td>\n",
       "<td>Etc/UTC</td></tr>\n",
       "<tr><td>H2O_data_parsing_timezone:</td>\n",
       "<td>UTC</td></tr>\n",
       "<tr><td>H2O_cluster_version:</td>\n",
       "<td>3.46.0.5</td></tr>\n",
       "<tr><td>H2O_cluster_version_age:</td>\n",
       "<td>1 month and 23 days</td></tr>\n",
       "<tr><td>H2O_cluster_name:</td>\n",
       "<td>H2O_from_python_unknownUser_xtwts5</td></tr>\n",
       "<tr><td>H2O_cluster_total_nodes:</td>\n",
       "<td>1</td></tr>\n",
       "<tr><td>H2O_cluster_free_memory:</td>\n",
       "<td>7.500 Gb</td></tr>\n",
       "<tr><td>H2O_cluster_total_cores:</td>\n",
       "<td>4</td></tr>\n",
       "<tr><td>H2O_cluster_allowed_cores:</td>\n",
       "<td>4</td></tr>\n",
       "<tr><td>H2O_cluster_status:</td>\n",
       "<td>locked, healthy</td></tr>\n",
       "<tr><td>H2O_connection_url:</td>\n",
       "<td>http://127.0.0.1:54321</td></tr>\n",
       "<tr><td>H2O_connection_proxy:</td>\n",
       "<td>{\"http\": null, \"https\": null}</td></tr>\n",
       "<tr><td>H2O_internal_security:</td>\n",
       "<td>False</td></tr>\n",
       "<tr><td>Python_version:</td>\n",
       "<td>3.10.14 final</td></tr></tbody>\n",
       "  </table>\n",
       "</div>\n"
      ],
      "text/plain": [
       "--------------------------  ----------------------------------\n",
       "H2O_cluster_uptime:         03 secs\n",
       "H2O_cluster_timezone:       Etc/UTC\n",
       "H2O_data_parsing_timezone:  UTC\n",
       "H2O_cluster_version:        3.46.0.5\n",
       "H2O_cluster_version_age:    1 month and 23 days\n",
       "H2O_cluster_name:           H2O_from_python_unknownUser_xtwts5\n",
       "H2O_cluster_total_nodes:    1\n",
       "H2O_cluster_free_memory:    7.500 Gb\n",
       "H2O_cluster_total_cores:    4\n",
       "H2O_cluster_allowed_cores:  4\n",
       "H2O_cluster_status:         locked, healthy\n",
       "H2O_connection_url:         http://127.0.0.1:54321\n",
       "H2O_connection_proxy:       {\"http\": null, \"https\": null}\n",
       "H2O_internal_security:      False\n",
       "Python_version:             3.10.14 final\n",
       "--------------------------  ----------------------------------"
      ]
     },
     "metadata": {},
     "output_type": "display_data"
    },
    {
     "name": "stdout",
     "output_type": "stream",
     "text": [
      "Parse progress: |████████████████████████████████████████████████████████████████| (done) 100%\n",
      "AutoML progress: |███████████████████████████████████████████████████████████████| (done) 100%\n",
      "model_id                                                      auc    logloss     aucpr    mean_per_class_error      rmse        mse\n",
      "StackedEnsemble_AllModels_1_AutoML_1_20241022_140816     0.961264   0.153196  0.899445                0.119258  0.20376   0.0415181\n",
      "StackedEnsemble_BestOfFamily_1_AutoML_1_20241022_140816  0.959275   0.156094  0.895456                0.126239  0.205364  0.0421743\n",
      "XGBoost_grid_1_AutoML_1_20241022_140816_model_2          0.958704   0.157376  0.893789                0.129743  0.206091  0.0424735\n",
      "XGBoost_grid_1_AutoML_1_20241022_140816_model_4          0.957993   0.158905  0.893742                0.130018  0.206983  0.0428418\n",
      "XGBoost_grid_1_AutoML_1_20241022_140816_model_7          0.957933   0.158148  0.893666                0.128651  0.20665   0.042704\n",
      "XGBoost_3_AutoML_1_20241022_140816                       0.957759   0.198358  0.892878                0.127819  0.236753  0.0560519\n",
      "XGBoost_grid_1_AutoML_1_20241022_140816_model_6          0.956344   0.162203  0.889268                0.132533  0.2092    0.0437646\n",
      "XGBoost_grid_1_AutoML_1_20241022_140816_model_1          0.956231   0.162832  0.888646                0.135831  0.209759  0.0439989\n",
      "XGBoost_grid_1_AutoML_1_20241022_140816_model_5          0.955417   0.163447  0.887758                0.132141  0.209754  0.0439967\n",
      "GBM_2_AutoML_1_20241022_140816                           0.955269   0.16427   0.889149                0.127566  0.209873  0.0440466\n",
      "[32 rows x 7 columns]\n",
      "\n"
     ]
    }
   ],
   "source": [
    "import h2o\n",
    "from h2o.automl import H2OAutoML\n",
    "\n",
    "# Initialize H2O\n",
    "h2o.init()\n",
    "\n",
    "# Load your training data into H2OFrame\n",
    "h2o_df = h2o.H2OFrame(training_data)\n",
    "\n",
    "# Convert the target column to a factor\n",
    "h2o_df['loan_status'] = h2o_df['loan_status'].asfactor()\n",
    "\n",
    "# Define the response and feature columns\n",
    "y = 'loan_status'\n",
    "X = [col for col in cols if col != 'loan_status']\n",
    "\n",
    "# hyperparameters = {\n",
    "#     'GBM': {\n",
    "#          'balance_classes': [True, False],\n",
    "#          'class_sampling_factors': [[1.0, 1.0], [1.0, 2.0], [1.0, 3.0], [1.0, 4.0]],\n",
    "#          'max_after_balance_size': [1.0, 2.0, 3.0, 4.0, 5.0],\n",
    "#          'seed': [42, 123, 456, 789]\n",
    "# #         'max_depth': list(range(1, 16)),  # [1, 2, ..., 15]\n",
    "# #        'learn_rate': [0.001, 0.005, 0.01, 0.05, 0.1, 0.15, 0.2, 0.3, 0.5],  # Learning rate\n",
    "# #        'min_rows': list(range(1, 21)),  # [1, 2, ..., 20]\n",
    "# #        'sample_rate': [0.3, 0.4, 0.5, 0.6, 0.7, 0.8, 0.9, 1.0],  # Fraction of rows to sample\n",
    "# #        'col_sample_rate': [0.3, 0.4, 0.5, 0.6, 0.7, 0.8, 0.9, 1.0],  # Fraction of columns to sample\n",
    "# #         'nbins': [20, 30, 40, 50, 100, 200],  # Number of bins for discretization\n",
    "# #         'max_bins': [255, 511, 1023],  # Maximum number of bins\n",
    "# #         'stopping_rounds': [0, 5, 10, 20, 30],  # Early stopping rounds\n",
    "# #         'stopping_metric': ['AUTO'],  # Stopping metric\n",
    "# #         'distribution': ['bernoulli', 'gaussian', 'poisson', 'gamma', 'Newton'],  # Distribution type\n",
    "# #         'grow_policy': ['depthwise', 'lossguide'],  # Growth policy\n",
    "# #         'ntrees': [50, 100, 200, 300, 400],  # Number of trees\n",
    "# #         'fold_assignment': ['AUTO', 'Random'],  # Fold assignment strategy\n",
    "# #         'fold_column': None,  # Column for cross-validation folds\n",
    "# #         'interaction_constraints': [[0, 1], [2, 3]]  # Example of constraints on interactions\n",
    "#     },\n",
    "#     'XGBoost': {\n",
    "#         'max_depth': list(range(1, 16)),  # [1, 2, ..., 15]\n",
    "#         'eta': [0.001, 0.01, 0.1, 0.2, 0.3, 0.4, 0.5],  # Learning rate\n",
    "#         'subsample': [0.3, 0.4, 0.5, 0.6, 0.7, 0.8, 0.9, 1.0],  # Subsample ratio of the training instances\n",
    "#         'colsample_bytree': [0.3, 0.4, 0.5, 0.6, 0.7, 0.8, 0.9, 1.0],  # Subsample ratio of columns when constructing each tree\n",
    "#         'colsample_bylevel': [0.3, 0.4, 0.5, 0.6, 0.7, 0.8, 0.9, 1.0],  # Subsample ratio of columns for each split in each level\n",
    "#         'gamma': [0, 0.01, 0.1, 0.2, 0.3, 0.4, 0.5],  # Minimum loss reduction required to make a further partition\n",
    "#         'min_child_weight': [1, 2, 3, 4, 5, 6, 7, 8, 9, 10],  # Minimum sum of instance weight (hessian) needed in a child\n",
    "#         'lambda': [0, 0.001, 0.01, 0.1, 1, 10],  # L2 regularization term on weights\n",
    "#         'alpha': [0, 0.001, 0.01, 0.1, 1, 10],  # L1 regularization term on weights\n",
    "#         'n_estimators': [50, 100, 200, 300, 400, 500],  # Number of trees\n",
    "#         'scale_pos_weight': [1, 2, 3, 5, 10],  # Controls the balance of positive and negative weights\n",
    "#         'tree_method': ['auto', 'exact', 'approx', 'hist'],  # Tree construction algorithm\n",
    "#         'objective': ['binary:logistic'],  # Learning task\n",
    "#         'eval_metric': ['auc'],  # Evaluation metrics\n",
    "#         'booster': ['gbtree', 'gblinear', 'dart'],  # Booster type\n",
    "#         'max_bin': [16, 32, 64, 128],  # Max number of bins\n",
    "#         'clip_range': [0.1, 0.5, 1.0],  # Clip gradients to prevent large updates\n",
    "#         'max_leaves': [0, 2, 4, 8, 16, 32],  # Number of leaves\n",
    "#     },\n",
    "#     'GLM': {\n",
    "#         'alpha': [0.0, 0.1, 0.2, 0.3, 0.4, 0.5, 0.6, 0.7, 0.8, 0.9, 1.0],  # Elastic net mixing parameter\n",
    "#         'lambda': [0.0, 0.001, 0.01, 0.1, 1, 10, 100],  # Regularization parameter\n",
    "#         'family': ['binomial', 'gaussian', 'poisson', 'multinomial'],  # Different family types\n",
    "#         'standardize': [True, False],  # Whether to standardize the features\n",
    "#         'link': ['logit', 'identity', 'log', 'inverse', 'probit', 'cloglog'],  # Link functions\n",
    "#         'tweedie_variance_power': [1.5, 1.7, 1.9, 2.0],  # Tweedie variance power\n",
    "#         'alpha_min': [0, 0.5, 1.0],  # Minimum alpha for elastic net\n",
    "#         'lambda_min': [0, 0.01, 0.1],  # Minimum lambda for elastic net\n",
    "#     },\n",
    "#     'DRF': {\n",
    "#         'max_depth': list(range(1, 21)),  # [1, 2, ..., 20]\n",
    "#         'ntrees': [10, 20, 50, 100, 200, 300, 400],  # Number of trees\n",
    "#         'sample_rate': [0.3, 0.4, 0.5, 0.6, 0.7, 0.8, 0.9, 1.0],  # Sampling rate\n",
    "#         'col_sample_rate': [0.3, 0.4, 0.5, 0.6, 0.7, 0.8, 0.9, 1.0],  # Column sampling\n",
    "#         'min_rows': [1, 2, 5, 10, 20, 50],  # Minimum rows in leaf\n",
    "#         'nbins': [5, 10, 20, 30, 40, 50, 100],  # Number of bins for numerical features\n",
    "#         'histogram_type': ['UniformAdaptive', 'Quantile', 'RoundRobin'],  # Types of histogram\n",
    "#         'max_runtime_secs': [30, 60, 120],  # Max runtime for each tree\n",
    "# #        'categorical_encoding': ['OneHotInternal', 'Enum', 'Auto'],  # Categorical encoding methods\n",
    "#         'score_tree_interval': [0, 5, 10, 20],  # Interval for scoring trees\n",
    "#         'build_tree_one_node': [True, False],  # Build a tree with one node\n",
    "#         'sample_rate_per_class': [0.5, 0.7, 0.9],  # Sample rate per class for imbalanced datasets\n",
    "#     }\n",
    "# }\n",
    "\n",
    "# Create the AutoML object with hyperparameter tuning and other settings\n",
    "aml = H2OAutoML(max_models=30,\n",
    "                max_runtime_secs=39600,\n",
    "                seed=42,\n",
    "                sort_metric='AUC',\n",
    "                nfolds=5,\n",
    "                balance_classes=True,\n",
    "                include_algos=[\"GBM\", \"XGBoost\", \"StackedEnsemble\", \"GLM\", \"DRF\", \"deeplearning\"],\n",
    "#                 algo_parameters=hyperparameters,\n",
    "               )\n",
    "\n",
    "# Train the AutoML model\n",
    "aml.train(x=X, y=y, training_frame=h2o_df)\n",
    "\n",
    "# Display the leaderboard\n",
    "lb = aml.leaderboard\n",
    "print(lb)\n"
   ]
  },
  {
   "cell_type": "code",
   "execution_count": 6,
   "id": "23692640",
   "metadata": {
    "execution": {
     "iopub.execute_input": "2024-10-22T16:43:15.628642Z",
     "iopub.status.busy": "2024-10-22T16:43:15.627317Z",
     "iopub.status.idle": "2024-10-22T16:43:15.633939Z",
     "shell.execute_reply": "2024-10-22T16:43:15.632781Z"
    },
    "papermill": {
     "duration": 0.030266,
     "end_time": "2024-10-22T16:43:15.636445",
     "exception": false,
     "start_time": "2024-10-22T16:43:15.606179",
     "status": "completed"
    },
    "tags": []
   },
   "outputs": [],
   "source": [
    "# import h2o\n",
    "# from h2o.automl import H2OAutoML\n",
    "\n",
    "# h2o.init()\n",
    "# h2o_df = h2o.H2OFrame(training_data)\n",
    "\n",
    "# h2o_df['loan_status'] = h2o_df['loan_status'].asfactor()\n",
    "\n",
    "# y = 'loan_status'\n",
    "# X = [col for col in cols if col!='loan_status']\n",
    "\n",
    "# aml = H2OAutoML(max_models=30, max_runtime_secs=39600, seed=42,\n",
    "#                 sort_metric='AUC', nfolds=5,\n",
    "#                 balance_classes=True, include_algos=[\"GBM\", \"XGBoost\", \"StackedEnsemble\", \"GLM\", \"DRF\"])\n",
    "# aml.train(x=X, y=y, training_frame=h2o_df)\n"
   ]
  },
  {
   "cell_type": "code",
   "execution_count": 7,
   "id": "da5ea033",
   "metadata": {
    "execution": {
     "iopub.execute_input": "2024-10-22T16:43:15.669915Z",
     "iopub.status.busy": "2024-10-22T16:43:15.669213Z",
     "iopub.status.idle": "2024-10-22T16:43:15.720176Z",
     "shell.execute_reply": "2024-10-22T16:43:15.719111Z"
    },
    "papermill": {
     "duration": 0.070079,
     "end_time": "2024-10-22T16:43:15.722540",
     "exception": false,
     "start_time": "2024-10-22T16:43:15.652461",
     "status": "completed"
    },
    "tags": []
   },
   "outputs": [
    {
     "data": {
      "text/html": [
       "<table class='dataframe'>\n",
       "<thead>\n",
       "<tr><th>model_id                                               </th><th style=\"text-align: right;\">     auc</th><th style=\"text-align: right;\">  logloss</th><th style=\"text-align: right;\">   aucpr</th><th style=\"text-align: right;\">  mean_per_class_error</th><th style=\"text-align: right;\">    rmse</th><th style=\"text-align: right;\">      mse</th></tr>\n",
       "</thead>\n",
       "<tbody>\n",
       "<tr><td>StackedEnsemble_AllModels_1_AutoML_1_20241022_140816   </td><td style=\"text-align: right;\">0.961264</td><td style=\"text-align: right;\"> 0.153196</td><td style=\"text-align: right;\">0.899445</td><td style=\"text-align: right;\">              0.119258</td><td style=\"text-align: right;\">0.20376 </td><td style=\"text-align: right;\">0.0415181</td></tr>\n",
       "<tr><td>StackedEnsemble_BestOfFamily_1_AutoML_1_20241022_140816</td><td style=\"text-align: right;\">0.959275</td><td style=\"text-align: right;\"> 0.156094</td><td style=\"text-align: right;\">0.895456</td><td style=\"text-align: right;\">              0.126239</td><td style=\"text-align: right;\">0.205364</td><td style=\"text-align: right;\">0.0421743</td></tr>\n",
       "<tr><td>XGBoost_grid_1_AutoML_1_20241022_140816_model_2        </td><td style=\"text-align: right;\">0.958704</td><td style=\"text-align: right;\"> 0.157376</td><td style=\"text-align: right;\">0.893789</td><td style=\"text-align: right;\">              0.129743</td><td style=\"text-align: right;\">0.206091</td><td style=\"text-align: right;\">0.0424735</td></tr>\n",
       "<tr><td>XGBoost_grid_1_AutoML_1_20241022_140816_model_4        </td><td style=\"text-align: right;\">0.957993</td><td style=\"text-align: right;\"> 0.158905</td><td style=\"text-align: right;\">0.893742</td><td style=\"text-align: right;\">              0.130018</td><td style=\"text-align: right;\">0.206983</td><td style=\"text-align: right;\">0.0428418</td></tr>\n",
       "<tr><td>XGBoost_grid_1_AutoML_1_20241022_140816_model_7        </td><td style=\"text-align: right;\">0.957933</td><td style=\"text-align: right;\"> 0.158148</td><td style=\"text-align: right;\">0.893666</td><td style=\"text-align: right;\">              0.128651</td><td style=\"text-align: right;\">0.20665 </td><td style=\"text-align: right;\">0.042704 </td></tr>\n",
       "<tr><td>XGBoost_3_AutoML_1_20241022_140816                     </td><td style=\"text-align: right;\">0.957759</td><td style=\"text-align: right;\"> 0.198358</td><td style=\"text-align: right;\">0.892878</td><td style=\"text-align: right;\">              0.127819</td><td style=\"text-align: right;\">0.236753</td><td style=\"text-align: right;\">0.0560519</td></tr>\n",
       "<tr><td>XGBoost_grid_1_AutoML_1_20241022_140816_model_6        </td><td style=\"text-align: right;\">0.956344</td><td style=\"text-align: right;\"> 0.162203</td><td style=\"text-align: right;\">0.889268</td><td style=\"text-align: right;\">              0.132533</td><td style=\"text-align: right;\">0.2092  </td><td style=\"text-align: right;\">0.0437646</td></tr>\n",
       "<tr><td>XGBoost_grid_1_AutoML_1_20241022_140816_model_1        </td><td style=\"text-align: right;\">0.956231</td><td style=\"text-align: right;\"> 0.162832</td><td style=\"text-align: right;\">0.888646</td><td style=\"text-align: right;\">              0.135831</td><td style=\"text-align: right;\">0.209759</td><td style=\"text-align: right;\">0.0439989</td></tr>\n",
       "<tr><td>XGBoost_grid_1_AutoML_1_20241022_140816_model_5        </td><td style=\"text-align: right;\">0.955417</td><td style=\"text-align: right;\"> 0.163447</td><td style=\"text-align: right;\">0.887758</td><td style=\"text-align: right;\">              0.132141</td><td style=\"text-align: right;\">0.209754</td><td style=\"text-align: right;\">0.0439967</td></tr>\n",
       "<tr><td>GBM_2_AutoML_1_20241022_140816                         </td><td style=\"text-align: right;\">0.955269</td><td style=\"text-align: right;\"> 0.16427 </td><td style=\"text-align: right;\">0.889149</td><td style=\"text-align: right;\">              0.127566</td><td style=\"text-align: right;\">0.209873</td><td style=\"text-align: right;\">0.0440466</td></tr>\n",
       "<tr><td>GBM_3_AutoML_1_20241022_140816                         </td><td style=\"text-align: right;\">0.954917</td><td style=\"text-align: right;\"> 0.165333</td><td style=\"text-align: right;\">0.888211</td><td style=\"text-align: right;\">              0.134532</td><td style=\"text-align: right;\">0.210422</td><td style=\"text-align: right;\">0.0442774</td></tr>\n",
       "<tr><td>GBM_1_AutoML_1_20241022_140816                         </td><td style=\"text-align: right;\">0.954801</td><td style=\"text-align: right;\"> 0.167381</td><td style=\"text-align: right;\">0.887268</td><td style=\"text-align: right;\">              0.131358</td><td style=\"text-align: right;\">0.211075</td><td style=\"text-align: right;\">0.0445527</td></tr>\n",
       "<tr><td>GBM_5_AutoML_1_20241022_140816                         </td><td style=\"text-align: right;\">0.954447</td><td style=\"text-align: right;\"> 0.165685</td><td style=\"text-align: right;\">0.887322</td><td style=\"text-align: right;\">              0.134223</td><td style=\"text-align: right;\">0.210688</td><td style=\"text-align: right;\">0.0443895</td></tr>\n",
       "<tr><td>GBM_4_AutoML_1_20241022_140816                         </td><td style=\"text-align: right;\">0.952495</td><td style=\"text-align: right;\"> 0.169531</td><td style=\"text-align: right;\">0.886077</td><td style=\"text-align: right;\">              0.132505</td><td style=\"text-align: right;\">0.212189</td><td style=\"text-align: right;\">0.0450244</td></tr>\n",
       "<tr><td>XGBoost_grid_1_AutoML_1_20241022_140816_model_3        </td><td style=\"text-align: right;\">0.952265</td><td style=\"text-align: right;\"> 0.166414</td><td style=\"text-align: right;\">0.883488</td><td style=\"text-align: right;\">              0.136312</td><td style=\"text-align: right;\">0.211496</td><td style=\"text-align: right;\">0.0447307</td></tr>\n",
       "<tr><td>XGBoost_2_AutoML_1_20241022_140816                     </td><td style=\"text-align: right;\">0.94953 </td><td style=\"text-align: right;\"> 0.193365</td><td style=\"text-align: right;\">0.87904 </td><td style=\"text-align: right;\">              0.134773</td><td style=\"text-align: right;\">0.230087</td><td style=\"text-align: right;\">0.0529398</td></tr>\n",
       "<tr><td>GBM_grid_1_AutoML_1_20241022_140816_model_2            </td><td style=\"text-align: right;\">0.948904</td><td style=\"text-align: right;\"> 0.173541</td><td style=\"text-align: right;\">0.878232</td><td style=\"text-align: right;\">              0.133179</td><td style=\"text-align: right;\">0.213579</td><td style=\"text-align: right;\">0.0456161</td></tr>\n",
       "<tr><td>XGBoost_1_AutoML_1_20241022_140816                     </td><td style=\"text-align: right;\">0.948731</td><td style=\"text-align: right;\"> 0.195453</td><td style=\"text-align: right;\">0.876991</td><td style=\"text-align: right;\">              0.137199</td><td style=\"text-align: right;\">0.231986</td><td style=\"text-align: right;\">0.0538173</td></tr>\n",
       "<tr><td>GBM_grid_1_AutoML_1_20241022_140816_model_5            </td><td style=\"text-align: right;\">0.947148</td><td style=\"text-align: right;\"> 0.174367</td><td style=\"text-align: right;\">0.876433</td><td style=\"text-align: right;\">              0.137988</td><td style=\"text-align: right;\">0.214652</td><td style=\"text-align: right;\">0.0460754</td></tr>\n",
       "<tr><td>GBM_grid_1_AutoML_1_20241022_140816_model_1            </td><td style=\"text-align: right;\">0.945387</td><td style=\"text-align: right;\"> 0.177558</td><td style=\"text-align: right;\">0.871611</td><td style=\"text-align: right;\">              0.140895</td><td style=\"text-align: right;\">0.216339</td><td style=\"text-align: right;\">0.0468026</td></tr>\n",
       "</tbody>\n",
       "</table><pre style='font-size: smaller; margin-bottom: 1em;'>[20 rows x 7 columns]</pre>"
      ],
      "text/plain": [
       "model_id                                                      auc    logloss     aucpr    mean_per_class_error      rmse        mse\n",
       "-------------------------------------------------------  --------  ---------  --------  ----------------------  --------  ---------\n",
       "StackedEnsemble_AllModels_1_AutoML_1_20241022_140816     0.961264   0.153196  0.899445                0.119258  0.20376   0.0415181\n",
       "StackedEnsemble_BestOfFamily_1_AutoML_1_20241022_140816  0.959275   0.156094  0.895456                0.126239  0.205364  0.0421743\n",
       "XGBoost_grid_1_AutoML_1_20241022_140816_model_2          0.958704   0.157376  0.893789                0.129743  0.206091  0.0424735\n",
       "XGBoost_grid_1_AutoML_1_20241022_140816_model_4          0.957993   0.158905  0.893742                0.130018  0.206983  0.0428418\n",
       "XGBoost_grid_1_AutoML_1_20241022_140816_model_7          0.957933   0.158148  0.893666                0.128651  0.20665   0.042704\n",
       "XGBoost_3_AutoML_1_20241022_140816                       0.957759   0.198358  0.892878                0.127819  0.236753  0.0560519\n",
       "XGBoost_grid_1_AutoML_1_20241022_140816_model_6          0.956344   0.162203  0.889268                0.132533  0.2092    0.0437646\n",
       "XGBoost_grid_1_AutoML_1_20241022_140816_model_1          0.956231   0.162832  0.888646                0.135831  0.209759  0.0439989\n",
       "XGBoost_grid_1_AutoML_1_20241022_140816_model_5          0.955417   0.163447  0.887758                0.132141  0.209754  0.0439967\n",
       "GBM_2_AutoML_1_20241022_140816                           0.955269   0.16427   0.889149                0.127566  0.209873  0.0440466\n",
       "GBM_3_AutoML_1_20241022_140816                           0.954917   0.165333  0.888211                0.134532  0.210422  0.0442774\n",
       "GBM_1_AutoML_1_20241022_140816                           0.954801   0.167381  0.887268                0.131358  0.211075  0.0445527\n",
       "GBM_5_AutoML_1_20241022_140816                           0.954447   0.165685  0.887322                0.134223  0.210688  0.0443895\n",
       "GBM_4_AutoML_1_20241022_140816                           0.952495   0.169531  0.886077                0.132505  0.212189  0.0450244\n",
       "XGBoost_grid_1_AutoML_1_20241022_140816_model_3          0.952265   0.166414  0.883488                0.136312  0.211496  0.0447307\n",
       "XGBoost_2_AutoML_1_20241022_140816                       0.94953    0.193365  0.87904                 0.134773  0.230087  0.0529398\n",
       "GBM_grid_1_AutoML_1_20241022_140816_model_2              0.948904   0.173541  0.878232                0.133179  0.213579  0.0456161\n",
       "XGBoost_1_AutoML_1_20241022_140816                       0.948731   0.195453  0.876991                0.137199  0.231986  0.0538173\n",
       "GBM_grid_1_AutoML_1_20241022_140816_model_5              0.947148   0.174367  0.876433                0.137988  0.214652  0.0460754\n",
       "GBM_grid_1_AutoML_1_20241022_140816_model_1              0.945387   0.177558  0.871611                0.140895  0.216339  0.0468026\n",
       "[20 rows x 7 columns]\n"
      ]
     },
     "execution_count": 7,
     "metadata": {},
     "output_type": "execute_result"
    }
   ],
   "source": [
    "lb = aml.leaderboard\n",
    "lb.head(20)"
   ]
  },
  {
   "cell_type": "code",
   "execution_count": 8,
   "id": "d858fd00",
   "metadata": {
    "execution": {
     "iopub.execute_input": "2024-10-22T16:43:15.756144Z",
     "iopub.status.busy": "2024-10-22T16:43:15.755723Z",
     "iopub.status.idle": "2024-10-22T16:43:18.280829Z",
     "shell.execute_reply": "2024-10-22T16:43:18.277469Z"
    },
    "papermill": {
     "duration": 2.544818,
     "end_time": "2024-10-22T16:43:18.283432",
     "exception": false,
     "start_time": "2024-10-22T16:43:15.738614",
     "status": "completed"
    },
    "tags": []
   },
   "outputs": [
    {
     "name": "stderr",
     "output_type": "stream",
     "text": [
      "/opt/conda/lib/python3.10/site-packages/h2o/frame.py:1981: H2ODependencyWarning: Converting H2O frame to pandas dataframe using single-thread.  For faster conversion using multi-thread, install polars and pyarrow and use it as pandas_df = h2o_df.as_data_frame(use_multi_thread=True)\n",
      "\n",
      "  warnings.warn(\"Converting H2O frame to pandas dataframe using single-thread.  For faster conversion using\"\n"
     ]
    },
    {
     "name": "stdout",
     "output_type": "stream",
     "text": [
      "Model StackedEnsemble_AllModels_1_AutoML_1_20241022_140816 saved to /kaggle/working/raw_data_models_final/StackedEnsemble_AllModels_1_AutoML_1_20241022_140816\n",
      "Model StackedEnsemble_BestOfFamily_1_AutoML_1_20241022_140816 saved to /kaggle/working/raw_data_models_final/StackedEnsemble_BestOfFamily_1_AutoML_1_20241022_140816\n",
      "Model XGBoost_grid_1_AutoML_1_20241022_140816_model_2 saved to /kaggle/working/raw_data_models_final/XGBoost_grid_1_AutoML_1_20241022_140816_model_2\n",
      "Model XGBoost_grid_1_AutoML_1_20241022_140816_model_4 saved to /kaggle/working/raw_data_models_final/XGBoost_grid_1_AutoML_1_20241022_140816_model_4\n",
      "Model XGBoost_grid_1_AutoML_1_20241022_140816_model_7 saved to /kaggle/working/raw_data_models_final/XGBoost_grid_1_AutoML_1_20241022_140816_model_7\n",
      "Model XGBoost_3_AutoML_1_20241022_140816 saved to /kaggle/working/raw_data_models_final/XGBoost_3_AutoML_1_20241022_140816\n",
      "Model XGBoost_grid_1_AutoML_1_20241022_140816_model_6 saved to /kaggle/working/raw_data_models_final/XGBoost_grid_1_AutoML_1_20241022_140816_model_6\n",
      "Model XGBoost_grid_1_AutoML_1_20241022_140816_model_1 saved to /kaggle/working/raw_data_models_final/XGBoost_grid_1_AutoML_1_20241022_140816_model_1\n",
      "Model XGBoost_grid_1_AutoML_1_20241022_140816_model_5 saved to /kaggle/working/raw_data_models_final/XGBoost_grid_1_AutoML_1_20241022_140816_model_5\n",
      "Model GBM_2_AutoML_1_20241022_140816 saved to /kaggle/working/raw_data_models_final/GBM_2_AutoML_1_20241022_140816\n",
      "Model GBM_3_AutoML_1_20241022_140816 saved to /kaggle/working/raw_data_models_final/GBM_3_AutoML_1_20241022_140816\n",
      "Model GBM_1_AutoML_1_20241022_140816 saved to /kaggle/working/raw_data_models_final/GBM_1_AutoML_1_20241022_140816\n",
      "Model GBM_5_AutoML_1_20241022_140816 saved to /kaggle/working/raw_data_models_final/GBM_5_AutoML_1_20241022_140816\n",
      "Model GBM_4_AutoML_1_20241022_140816 saved to /kaggle/working/raw_data_models_final/GBM_4_AutoML_1_20241022_140816\n",
      "Model XGBoost_grid_1_AutoML_1_20241022_140816_model_3 saved to /kaggle/working/raw_data_models_final/XGBoost_grid_1_AutoML_1_20241022_140816_model_3\n",
      "Model XGBoost_2_AutoML_1_20241022_140816 saved to /kaggle/working/raw_data_models_final/XGBoost_2_AutoML_1_20241022_140816\n",
      "Model GBM_grid_1_AutoML_1_20241022_140816_model_2 saved to /kaggle/working/raw_data_models_final/GBM_grid_1_AutoML_1_20241022_140816_model_2\n",
      "Model XGBoost_1_AutoML_1_20241022_140816 saved to /kaggle/working/raw_data_models_final/XGBoost_1_AutoML_1_20241022_140816\n",
      "Model GBM_grid_1_AutoML_1_20241022_140816_model_5 saved to /kaggle/working/raw_data_models_final/GBM_grid_1_AutoML_1_20241022_140816_model_5\n",
      "Model GBM_grid_1_AutoML_1_20241022_140816_model_1 saved to /kaggle/working/raw_data_models_final/GBM_grid_1_AutoML_1_20241022_140816_model_1\n",
      "Model GBM_grid_1_AutoML_1_20241022_140816_model_4 saved to /kaggle/working/raw_data_models_final/GBM_grid_1_AutoML_1_20241022_140816_model_4\n",
      "Model GBM_grid_1_AutoML_1_20241022_140816_model_3 saved to /kaggle/working/raw_data_models_final/GBM_grid_1_AutoML_1_20241022_140816_model_3\n",
      "Model DRF_1_AutoML_1_20241022_140816 saved to /kaggle/working/raw_data_models_final/DRF_1_AutoML_1_20241022_140816\n",
      "Model XRT_1_AutoML_1_20241022_140816 saved to /kaggle/working/raw_data_models_final/XRT_1_AutoML_1_20241022_140816\n",
      "Model DeepLearning_grid_1_AutoML_1_20241022_140816_model_1 saved to /kaggle/working/raw_data_models_final/DeepLearning_grid_1_AutoML_1_20241022_140816_model_1\n",
      "Model DeepLearning_grid_2_AutoML_1_20241022_140816_model_1 saved to /kaggle/working/raw_data_models_final/DeepLearning_grid_2_AutoML_1_20241022_140816_model_1\n",
      "Model DeepLearning_grid_3_AutoML_1_20241022_140816_model_1 saved to /kaggle/working/raw_data_models_final/DeepLearning_grid_3_AutoML_1_20241022_140816_model_1\n",
      "Model DeepLearning_grid_1_AutoML_1_20241022_140816_model_2 saved to /kaggle/working/raw_data_models_final/DeepLearning_grid_1_AutoML_1_20241022_140816_model_2\n",
      "Model DeepLearning_grid_2_AutoML_1_20241022_140816_model_2 saved to /kaggle/working/raw_data_models_final/DeepLearning_grid_2_AutoML_1_20241022_140816_model_2\n",
      "Model DeepLearning_grid_3_AutoML_1_20241022_140816_model_2 saved to /kaggle/working/raw_data_models_final/DeepLearning_grid_3_AutoML_1_20241022_140816_model_2\n",
      "Model DeepLearning_1_AutoML_1_20241022_140816 saved to /kaggle/working/raw_data_models_final/DeepLearning_1_AutoML_1_20241022_140816\n",
      "Model GLM_1_AutoML_1_20241022_140816 saved to /kaggle/working/raw_data_models_final/GLM_1_AutoML_1_20241022_140816\n",
      "Leaderboard saved to /kaggle/working/raw_data_models_final/leaderboard.csv\n",
      "H2O session _sid_ae26 closed.\n"
     ]
    },
    {
     "name": "stderr",
     "output_type": "stream",
     "text": [
      "/opt/conda/lib/python3.10/site-packages/h2o/frame.py:1981: H2ODependencyWarning: Converting H2O frame to pandas dataframe using single-thread.  For faster conversion using multi-thread, install polars and pyarrow and use it as pandas_df = h2o_df.as_data_frame(use_multi_thread=True)\n",
      "\n",
      "  warnings.warn(\"Converting H2O frame to pandas dataframe using single-thread.  For faster conversion using\"\n",
      "/tmp/ipykernel_17/3942878132.py:15: H2ODeprecationWarning: Deprecated, use ``h2o.cluster().shutdown()``.\n",
      "  h2o.shutdown()\n"
     ]
    }
   ],
   "source": [
    "leaderboard = aml.leaderboard\n",
    "model_save_dir = '/kaggle/working/raw_data_models_final/'  # Change this to your desired directory\n",
    "\n",
    "# Loop through the leaderboard and save each model\n",
    "for model_id in leaderboard['model_id'].as_data_frame()['model_id']:\n",
    "    model = h2o.get_model(model_id)\n",
    "    model_path = h2o.save_model(model=model, path=model_save_dir, force=True)\n",
    "    print(f\"Model {model_id} saved to {model_path}\")\n",
    "\n",
    "leaderboard_df = leaderboard.as_data_frame()\n",
    "leaderboard_csv_path = os.path.join(model_save_dir, 'leaderboard.csv')\n",
    "leaderboard_df.to_csv(leaderboard_csv_path, index=False)\n",
    "print(f\"Leaderboard saved to {leaderboard_csv_path}\")\n",
    "\n",
    "h2o.shutdown()"
   ]
  },
  {
   "cell_type": "code",
   "execution_count": 9,
   "id": "64e91ac0",
   "metadata": {
    "execution": {
     "iopub.execute_input": "2024-10-22T16:43:18.319645Z",
     "iopub.status.busy": "2024-10-22T16:43:18.319198Z",
     "iopub.status.idle": "2024-10-22T16:43:18.323721Z",
     "shell.execute_reply": "2024-10-22T16:43:18.322669Z"
    },
    "papermill": {
     "duration": 0.025252,
     "end_time": "2024-10-22T16:43:18.326032",
     "exception": false,
     "start_time": "2024-10-22T16:43:18.300780",
     "status": "completed"
    },
    "tags": []
   },
   "outputs": [],
   "source": [
    "# lb = pd.read_csv('/kaggle/working/raw_data_models/leaderboard.csv')\n",
    "# lb.head(20)"
   ]
  },
  {
   "cell_type": "code",
   "execution_count": 10,
   "id": "07bb7b83",
   "metadata": {
    "execution": {
     "iopub.execute_input": "2024-10-22T16:43:18.363081Z",
     "iopub.status.busy": "2024-10-22T16:43:18.361820Z",
     "iopub.status.idle": "2024-10-22T16:43:18.367288Z",
     "shell.execute_reply": "2024-10-22T16:43:18.366187Z"
    },
    "papermill": {
     "duration": 0.026296,
     "end_time": "2024-10-22T16:43:18.369734",
     "exception": false,
     "start_time": "2024-10-22T16:43:18.343438",
     "status": "completed"
    },
    "tags": []
   },
   "outputs": [],
   "source": [
    "# model_path = h2o.save_model(model=aml.leader, path=\"./best_model\", force=True)\n",
    "\n",
    "# print(f\"Model saved at: {model_path}\")"
   ]
  },
  {
   "cell_type": "code",
   "execution_count": 11,
   "id": "ff22580c",
   "metadata": {
    "execution": {
     "iopub.execute_input": "2024-10-22T16:43:18.409391Z",
     "iopub.status.busy": "2024-10-22T16:43:18.408187Z",
     "iopub.status.idle": "2024-10-22T16:43:18.413183Z",
     "shell.execute_reply": "2024-10-22T16:43:18.412176Z"
    },
    "papermill": {
     "duration": 0.026367,
     "end_time": "2024-10-22T16:43:18.416136",
     "exception": false,
     "start_time": "2024-10-22T16:43:18.389769",
     "status": "completed"
    },
    "tags": []
   },
   "outputs": [],
   "source": [
    "# model = h2o.load_model('/kaggle/working/best_model/StackedEnsemble_AllModels_1_AutoML_6_20241013_182949')\n",
    "# # model.predict()"
   ]
  },
  {
   "cell_type": "code",
   "execution_count": 12,
   "id": "e952b690",
   "metadata": {
    "execution": {
     "iopub.execute_input": "2024-10-22T16:43:18.458396Z",
     "iopub.status.busy": "2024-10-22T16:43:18.457790Z",
     "iopub.status.idle": "2024-10-22T16:43:18.464133Z",
     "shell.execute_reply": "2024-10-22T16:43:18.462715Z"
    },
    "papermill": {
     "duration": 0.028387,
     "end_time": "2024-10-22T16:43:18.466750",
     "exception": false,
     "start_time": "2024-10-22T16:43:18.438363",
     "status": "completed"
    },
    "tags": []
   },
   "outputs": [],
   "source": [
    "# lb = aml.leaderboard\n",
    "\n",
    "# lb_df = lb.as_data_frame()\n",
    "\n",
    "# for model_id in lb_df['model_id']:\n",
    "#     model = h2o.get_model(model_id) \n",
    "#     model_path = h2o.save_model(model, path=\"./models\", force=True) \n",
    "#     print(f\"Model {model_id} saved to {model_path}\")"
   ]
  },
  {
   "cell_type": "code",
   "execution_count": 13,
   "id": "a933314b",
   "metadata": {
    "execution": {
     "iopub.execute_input": "2024-10-22T16:43:18.504224Z",
     "iopub.status.busy": "2024-10-22T16:43:18.503085Z",
     "iopub.status.idle": "2024-10-22T16:43:18.508724Z",
     "shell.execute_reply": "2024-10-22T16:43:18.507633Z"
    },
    "papermill": {
     "duration": 0.026813,
     "end_time": "2024-10-22T16:43:18.511170",
     "exception": false,
     "start_time": "2024-10-22T16:43:18.484357",
     "status": "completed"
    },
    "tags": []
   },
   "outputs": [],
   "source": [
    "# lb_df"
   ]
  },
  {
   "cell_type": "code",
   "execution_count": 14,
   "id": "9ee83e9e",
   "metadata": {
    "execution": {
     "iopub.execute_input": "2024-10-22T16:43:18.548460Z",
     "iopub.status.busy": "2024-10-22T16:43:18.547410Z",
     "iopub.status.idle": "2024-10-22T16:43:18.552853Z",
     "shell.execute_reply": "2024-10-22T16:43:18.551672Z"
    },
    "papermill": {
     "duration": 0.02664,
     "end_time": "2024-10-22T16:43:18.555322",
     "exception": false,
     "start_time": "2024-10-22T16:43:18.528682",
     "status": "completed"
    },
    "tags": []
   },
   "outputs": [],
   "source": [
    "# test_df = pd.read_csv('/kaggle/input/playground-series-s4e10/test.csv')\n",
    "# idx = test['id']\n",
    "# test.drop(columns='id', inplace=True)"
   ]
  },
  {
   "cell_type": "code",
   "execution_count": 15,
   "id": "2a47f974",
   "metadata": {
    "execution": {
     "iopub.execute_input": "2024-10-22T16:43:18.592635Z",
     "iopub.status.busy": "2024-10-22T16:43:18.591549Z",
     "iopub.status.idle": "2024-10-22T16:43:18.599417Z",
     "shell.execute_reply": "2024-10-22T16:43:18.598308Z"
    },
    "papermill": {
     "duration": 0.0291,
     "end_time": "2024-10-22T16:43:18.601863",
     "exception": false,
     "start_time": "2024-10-22T16:43:18.572763",
     "status": "completed"
    },
    "tags": []
   },
   "outputs": [],
   "source": [
    "# h2o_test = h2o.H2OFrame(test_df)\n",
    "# # predictions_dict = {}\n",
    "# # prediction_df = pd.DataFrame()\n",
    "\n",
    "# # # Loop through the first five models from the leaderboard\n",
    "# # for i in range(5):\n",
    "# #     model_id = lb_df['model_id'][i]  # Get the model ID\n",
    "# #     model = h2o.get_model(model_id)  # Retrieve the model using its ID\n",
    "    \n",
    "# #     # Make predictions on the test data\n",
    "# #     predictions = model.predict(h2o_test)\n",
    "    \n",
    "# #     # Convert predictions to pandas dataframe\n",
    "# #     predictions_df = predictions.as_data_frame()\n",
    "    \n",
    "# #     # Check the number of columns in predictions_df\n",
    "# #     print(f\"Model ID: {model_id}, Predictions shape: {predictions_df.shape}\")\n",
    "\n",
    "# #     # If predictions_df has more than one column, select the first column (typically the probabilities)\n",
    "# #     if predictions_df.shape[1] > 1:\n",
    "# #         predictions_df = predictions_df.iloc[:, 0]  # Select the first column (probabilities)\n",
    "    \n",
    "# #     # Rename the column to the model ID\n",
    "# #     predictions_df = predictions_df.to_frame(name=model_id)  # Convert back to DataFrame with model_id as the column name\n",
    "    \n",
    "# #     # Store in dictionary\n",
    "# #     predictions_dict[model_id] = predictions_df\n",
    "    \n",
    "# #     # Concatenate predictions to prediction_df\n",
    "# #     if prediction_df.empty:\n",
    "# #         prediction_df = predictions_df  # If prediction_df is empty, initialize it\n",
    "# #     else:\n",
    "# #         prediction_df = pd.concat([prediction_df, predictions_df], axis=1)  # Concatenate along the columns\n",
    "    \n",
    "# #     # Optional: Print model and first few rows of predictions\n",
    "# #     print(predictions_df.head())\n",
    "\n",
    "# # # After the loop, you can check the combined predictions DataFrame\n",
    "# # print(\"Combined Predictions DataFrame:\")\n",
    "# # print(prediction_df.head())"
   ]
  },
  {
   "cell_type": "code",
   "execution_count": 16,
   "id": "dd4fd06c",
   "metadata": {
    "execution": {
     "iopub.execute_input": "2024-10-22T16:43:18.639204Z",
     "iopub.status.busy": "2024-10-22T16:43:18.638103Z",
     "iopub.status.idle": "2024-10-22T16:43:18.643451Z",
     "shell.execute_reply": "2024-10-22T16:43:18.642305Z"
    },
    "papermill": {
     "duration": 0.026568,
     "end_time": "2024-10-22T16:43:18.645870",
     "exception": false,
     "start_time": "2024-10-22T16:43:18.619302",
     "status": "completed"
    },
    "tags": []
   },
   "outputs": [],
   "source": [
    "# preds = model.predict(h2o_test)[:,2]"
   ]
  },
  {
   "cell_type": "code",
   "execution_count": 17,
   "id": "a60525ec",
   "metadata": {
    "execution": {
     "iopub.execute_input": "2024-10-22T16:43:18.682891Z",
     "iopub.status.busy": "2024-10-22T16:43:18.682379Z",
     "iopub.status.idle": "2024-10-22T16:43:18.687587Z",
     "shell.execute_reply": "2024-10-22T16:43:18.686523Z"
    },
    "papermill": {
     "duration": 0.027328,
     "end_time": "2024-10-22T16:43:18.690463",
     "exception": false,
     "start_time": "2024-10-22T16:43:18.663135",
     "status": "completed"
    },
    "tags": []
   },
   "outputs": [],
   "source": [
    "# preds_pandas = preds.as_data_frame()"
   ]
  },
  {
   "cell_type": "code",
   "execution_count": 18,
   "id": "4cfdfe5f",
   "metadata": {
    "execution": {
     "iopub.execute_input": "2024-10-22T16:43:18.729326Z",
     "iopub.status.busy": "2024-10-22T16:43:18.728140Z",
     "iopub.status.idle": "2024-10-22T16:43:18.734125Z",
     "shell.execute_reply": "2024-10-22T16:43:18.732982Z"
    },
    "papermill": {
     "duration": 0.027876,
     "end_time": "2024-10-22T16:43:18.736804",
     "exception": false,
     "start_time": "2024-10-22T16:43:18.708928",
     "status": "completed"
    },
    "tags": []
   },
   "outputs": [],
   "source": [
    "# test = pd.read_csv('/kaggle/input/playground-series-s4e10/test.csv')\n",
    "# submission_df = pd.DataFrame({\n",
    "#     'id':test['id'],\n",
    "#     'loan_status':preds_pandas['p1'].values\n",
    "# })"
   ]
  },
  {
   "cell_type": "code",
   "execution_count": 19,
   "id": "e3e27dfd",
   "metadata": {
    "execution": {
     "iopub.execute_input": "2024-10-22T16:43:18.773555Z",
     "iopub.status.busy": "2024-10-22T16:43:18.772894Z",
     "iopub.status.idle": "2024-10-22T16:43:18.779284Z",
     "shell.execute_reply": "2024-10-22T16:43:18.778094Z"
    },
    "papermill": {
     "duration": 0.02829,
     "end_time": "2024-10-22T16:43:18.782292",
     "exception": false,
     "start_time": "2024-10-22T16:43:18.754002",
     "status": "completed"
    },
    "tags": []
   },
   "outputs": [],
   "source": [
    "# submission_df.to_csv('submission.csv', index=False)"
   ]
  },
  {
   "cell_type": "code",
   "execution_count": 20,
   "id": "73828ce8",
   "metadata": {
    "execution": {
     "iopub.execute_input": "2024-10-22T16:43:18.821802Z",
     "iopub.status.busy": "2024-10-22T16:43:18.821373Z",
     "iopub.status.idle": "2024-10-22T16:43:18.826601Z",
     "shell.execute_reply": "2024-10-22T16:43:18.825506Z"
    },
    "papermill": {
     "duration": 0.026974,
     "end_time": "2024-10-22T16:43:18.829067",
     "exception": false,
     "start_time": "2024-10-22T16:43:18.802093",
     "status": "completed"
    },
    "tags": []
   },
   "outputs": [],
   "source": [
    "# leaderboard = aml.leaderboard\n",
    "\n",
    "# # Specify a directory to save the models\n",
    "# model_save_dir = '/path/to/save/raw_data_models/'  # Change this to your desired directory\n",
    "\n",
    "# # Loop through the leaderboard and save each model\n",
    "# for model_id in leaderboard['model_id'].as_data_frame()['model_id']:\n",
    "#     model = h2o.get_model(model_id)\n",
    "#     model_path = h2o.save_model(model=model, path=model_save_dir, force=True)\n",
    "#     print(f\"Model {model_id} saved to {model_path}\")\n",
    "\n",
    "# # # Shutdown H2O (optional, if you're done with the session)\n",
    "# # h2o.shutdown()"
   ]
  },
  {
   "cell_type": "code",
   "execution_count": null,
   "id": "5d3b0c7e",
   "metadata": {
    "papermill": {
     "duration": 0.01699,
     "end_time": "2024-10-22T16:43:18.863449",
     "exception": false,
     "start_time": "2024-10-22T16:43:18.846459",
     "status": "completed"
    },
    "tags": []
   },
   "outputs": [],
   "source": []
  },
  {
   "cell_type": "markdown",
   "id": "2a5ca845",
   "metadata": {
    "papermill": {
     "duration": 0.016759,
     "end_time": "2024-10-22T16:43:18.897408",
     "exception": false,
     "start_time": "2024-10-22T16:43:18.880649",
     "status": "completed"
    },
    "tags": []
   },
   "source": []
  }
 ],
 "metadata": {
  "kaggle": {
   "accelerator": "none",
   "dataSources": [
    {
     "databundleVersionId": 9709193,
     "sourceId": 84894,
     "sourceType": "competition"
    },
    {
     "datasetId": 5926520,
     "sourceId": 9693457,
     "sourceType": "datasetVersion"
    },
    {
     "sourceId": 201554522,
     "sourceType": "kernelVersion"
    }
   ],
   "dockerImageVersionId": 30786,
   "isGpuEnabled": false,
   "isInternetEnabled": true,
   "language": "python",
   "sourceType": "notebook"
  },
  "kernelspec": {
   "display_name": "Python 3",
   "language": "python",
   "name": "python3"
  },
  "language_info": {
   "codemirror_mode": {
    "name": "ipython",
    "version": 3
   },
   "file_extension": ".py",
   "mimetype": "text/x-python",
   "name": "python",
   "nbconvert_exporter": "python",
   "pygments_lexer": "ipython3",
   "version": "3.10.14"
  },
  "papermill": {
   "default_parameters": {},
   "duration": 9326.310136,
   "end_time": "2024-10-22T16:43:20.339426",
   "environment_variables": {},
   "exception": null,
   "input_path": "__notebook__.ipynb",
   "output_path": "__notebook__.ipynb",
   "parameters": {},
   "start_time": "2024-10-22T14:07:54.029290",
   "version": "2.6.0"
  }
 },
 "nbformat": 4,
 "nbformat_minor": 5
}
