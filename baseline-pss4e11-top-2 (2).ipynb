{
 "cells": [
  {
   "cell_type": "code",
   "execution_count": 1,
   "id": "3a9fdf2e",
   "metadata": {
    "_cell_guid": "b1076dfc-b9ad-4769-8c92-a6c4dae69d19",
    "_uuid": "8f2839f25d086af736a60e9eeb907d3b93b6e0e5",
    "execution": {
     "iopub.execute_input": "2024-11-23T18:16:37.002587Z",
     "iopub.status.busy": "2024-11-23T18:16:37.001337Z",
     "iopub.status.idle": "2024-11-23T18:16:40.147235Z",
     "shell.execute_reply": "2024-11-23T18:16:40.145927Z"
    },
    "papermill": {
     "duration": 3.155111,
     "end_time": "2024-11-23T18:16:40.149709",
     "exception": false,
     "start_time": "2024-11-23T18:16:36.994598",
     "status": "completed"
    },
    "tags": []
   },
   "outputs": [
    {
     "name": "stdout",
     "output_type": "stream",
     "text": [
      "/kaggle/input/playground-series-s4e11/sample_submission.csv\n",
      "/kaggle/input/playground-series-s4e11/train.csv\n",
      "/kaggle/input/playground-series-s4e11/test.csv\n"
     ]
    }
   ],
   "source": [
    "# This Python 3 environment comes with many helpful analytics libraries installed\n",
    "# It is defined by the kaggle/python Docker image: https://github.com/kaggle/docker-python\n",
    "# For example, here's several helpful packages to load\n",
    "\n",
    "import numpy as np # linear algebra\n",
    "import pandas as pd # data processing, CSV file I/O (e.g. pd.read_csv)\n",
    "from catboost import Pool\n",
    "import catboost as cat\n",
    "# Input data files are available in the read-only \"../input/\" directory\n",
    "# For example, running this (by clicking run or pressing Shift+Enter) will list all files under the input directory\n",
    "\n",
    "import os\n",
    "for dirname, _, filenames in os.walk('/kaggle/input'):\n",
    "    for filename in filenames:\n",
    "        print(os.path.join(dirname, filename))\n",
    "\n",
    "# You can write up to 20GB to the current directory (/kaggle/working/) that gets preserved as output when you create a version using \"Save & Run All\" \n",
    "# You can also write temporary files to /kaggle/temp/, but they won't be saved outside of the current session"
   ]
  },
  {
   "cell_type": "code",
   "execution_count": 2,
   "id": "3eb21b96",
   "metadata": {
    "execution": {
     "iopub.execute_input": "2024-11-23T18:16:40.160506Z",
     "iopub.status.busy": "2024-11-23T18:16:40.159991Z",
     "iopub.status.idle": "2024-11-23T18:16:41.115130Z",
     "shell.execute_reply": "2024-11-23T18:16:41.113915Z"
    },
    "papermill": {
     "duration": 0.962743,
     "end_time": "2024-11-23T18:16:41.117908",
     "exception": false,
     "start_time": "2024-11-23T18:16:40.155165",
     "status": "completed"
    },
    "tags": []
   },
   "outputs": [],
   "source": [
    "train = pd.read_csv('/kaggle/input/playground-series-s4e11/train.csv')\n",
    "test = pd.read_csv('/kaggle/input/playground-series-s4e11/test.csv')"
   ]
  },
  {
   "cell_type": "code",
   "execution_count": 3,
   "id": "89845e54",
   "metadata": {
    "execution": {
     "iopub.execute_input": "2024-11-23T18:16:41.127019Z",
     "iopub.status.busy": "2024-11-23T18:16:41.126589Z",
     "iopub.status.idle": "2024-11-23T18:16:41.160748Z",
     "shell.execute_reply": "2024-11-23T18:16:41.159639Z"
    },
    "papermill": {
     "duration": 0.041451,
     "end_time": "2024-11-23T18:16:41.163193",
     "exception": false,
     "start_time": "2024-11-23T18:16:41.121742",
     "status": "completed"
    },
    "tags": []
   },
   "outputs": [
    {
     "data": {
      "text/html": [
       "<div>\n",
       "<style scoped>\n",
       "    .dataframe tbody tr th:only-of-type {\n",
       "        vertical-align: middle;\n",
       "    }\n",
       "\n",
       "    .dataframe tbody tr th {\n",
       "        vertical-align: top;\n",
       "    }\n",
       "\n",
       "    .dataframe thead th {\n",
       "        text-align: right;\n",
       "    }\n",
       "</style>\n",
       "<table border=\"1\" class=\"dataframe\">\n",
       "  <thead>\n",
       "    <tr style=\"text-align: right;\">\n",
       "      <th></th>\n",
       "      <th>id</th>\n",
       "      <th>Name</th>\n",
       "      <th>Gender</th>\n",
       "      <th>Age</th>\n",
       "      <th>City</th>\n",
       "      <th>Working Professional or Student</th>\n",
       "      <th>Profession</th>\n",
       "      <th>Academic Pressure</th>\n",
       "      <th>Work Pressure</th>\n",
       "      <th>CGPA</th>\n",
       "      <th>Study Satisfaction</th>\n",
       "      <th>Job Satisfaction</th>\n",
       "      <th>Sleep Duration</th>\n",
       "      <th>Dietary Habits</th>\n",
       "      <th>Degree</th>\n",
       "      <th>Have you ever had suicidal thoughts ?</th>\n",
       "      <th>Work/Study Hours</th>\n",
       "      <th>Financial Stress</th>\n",
       "      <th>Family History of Mental Illness</th>\n",
       "      <th>Depression</th>\n",
       "    </tr>\n",
       "  </thead>\n",
       "  <tbody>\n",
       "    <tr>\n",
       "      <th>0</th>\n",
       "      <td>0</td>\n",
       "      <td>Aaradhya</td>\n",
       "      <td>Female</td>\n",
       "      <td>49.0</td>\n",
       "      <td>Ludhiana</td>\n",
       "      <td>Working Professional</td>\n",
       "      <td>Chef</td>\n",
       "      <td>NaN</td>\n",
       "      <td>5.0</td>\n",
       "      <td>NaN</td>\n",
       "      <td>NaN</td>\n",
       "      <td>2.0</td>\n",
       "      <td>More than 8 hours</td>\n",
       "      <td>Healthy</td>\n",
       "      <td>BHM</td>\n",
       "      <td>No</td>\n",
       "      <td>1.0</td>\n",
       "      <td>2.0</td>\n",
       "      <td>No</td>\n",
       "      <td>0</td>\n",
       "    </tr>\n",
       "    <tr>\n",
       "      <th>1</th>\n",
       "      <td>1</td>\n",
       "      <td>Vivan</td>\n",
       "      <td>Male</td>\n",
       "      <td>26.0</td>\n",
       "      <td>Varanasi</td>\n",
       "      <td>Working Professional</td>\n",
       "      <td>Teacher</td>\n",
       "      <td>NaN</td>\n",
       "      <td>4.0</td>\n",
       "      <td>NaN</td>\n",
       "      <td>NaN</td>\n",
       "      <td>3.0</td>\n",
       "      <td>Less than 5 hours</td>\n",
       "      <td>Unhealthy</td>\n",
       "      <td>LLB</td>\n",
       "      <td>Yes</td>\n",
       "      <td>7.0</td>\n",
       "      <td>3.0</td>\n",
       "      <td>No</td>\n",
       "      <td>1</td>\n",
       "    </tr>\n",
       "    <tr>\n",
       "      <th>2</th>\n",
       "      <td>2</td>\n",
       "      <td>Yuvraj</td>\n",
       "      <td>Male</td>\n",
       "      <td>33.0</td>\n",
       "      <td>Visakhapatnam</td>\n",
       "      <td>Student</td>\n",
       "      <td>NaN</td>\n",
       "      <td>5.0</td>\n",
       "      <td>NaN</td>\n",
       "      <td>8.97</td>\n",
       "      <td>2.0</td>\n",
       "      <td>NaN</td>\n",
       "      <td>5-6 hours</td>\n",
       "      <td>Healthy</td>\n",
       "      <td>B.Pharm</td>\n",
       "      <td>Yes</td>\n",
       "      <td>3.0</td>\n",
       "      <td>1.0</td>\n",
       "      <td>No</td>\n",
       "      <td>1</td>\n",
       "    </tr>\n",
       "    <tr>\n",
       "      <th>3</th>\n",
       "      <td>3</td>\n",
       "      <td>Yuvraj</td>\n",
       "      <td>Male</td>\n",
       "      <td>22.0</td>\n",
       "      <td>Mumbai</td>\n",
       "      <td>Working Professional</td>\n",
       "      <td>Teacher</td>\n",
       "      <td>NaN</td>\n",
       "      <td>5.0</td>\n",
       "      <td>NaN</td>\n",
       "      <td>NaN</td>\n",
       "      <td>1.0</td>\n",
       "      <td>Less than 5 hours</td>\n",
       "      <td>Moderate</td>\n",
       "      <td>BBA</td>\n",
       "      <td>Yes</td>\n",
       "      <td>10.0</td>\n",
       "      <td>1.0</td>\n",
       "      <td>Yes</td>\n",
       "      <td>1</td>\n",
       "    </tr>\n",
       "    <tr>\n",
       "      <th>4</th>\n",
       "      <td>4</td>\n",
       "      <td>Rhea</td>\n",
       "      <td>Female</td>\n",
       "      <td>30.0</td>\n",
       "      <td>Kanpur</td>\n",
       "      <td>Working Professional</td>\n",
       "      <td>Business Analyst</td>\n",
       "      <td>NaN</td>\n",
       "      <td>1.0</td>\n",
       "      <td>NaN</td>\n",
       "      <td>NaN</td>\n",
       "      <td>1.0</td>\n",
       "      <td>5-6 hours</td>\n",
       "      <td>Unhealthy</td>\n",
       "      <td>BBA</td>\n",
       "      <td>Yes</td>\n",
       "      <td>9.0</td>\n",
       "      <td>4.0</td>\n",
       "      <td>Yes</td>\n",
       "      <td>0</td>\n",
       "    </tr>\n",
       "  </tbody>\n",
       "</table>\n",
       "</div>"
      ],
      "text/plain": [
       "   id      Name  Gender   Age           City Working Professional or Student  \\\n",
       "0   0  Aaradhya  Female  49.0       Ludhiana            Working Professional   \n",
       "1   1     Vivan    Male  26.0       Varanasi            Working Professional   \n",
       "2   2    Yuvraj    Male  33.0  Visakhapatnam                         Student   \n",
       "3   3    Yuvraj    Male  22.0         Mumbai            Working Professional   \n",
       "4   4      Rhea  Female  30.0         Kanpur            Working Professional   \n",
       "\n",
       "         Profession  Academic Pressure  Work Pressure  CGPA  \\\n",
       "0              Chef                NaN            5.0   NaN   \n",
       "1           Teacher                NaN            4.0   NaN   \n",
       "2               NaN                5.0            NaN  8.97   \n",
       "3           Teacher                NaN            5.0   NaN   \n",
       "4  Business Analyst                NaN            1.0   NaN   \n",
       "\n",
       "   Study Satisfaction  Job Satisfaction     Sleep Duration Dietary Habits  \\\n",
       "0                 NaN               2.0  More than 8 hours        Healthy   \n",
       "1                 NaN               3.0  Less than 5 hours      Unhealthy   \n",
       "2                 2.0               NaN          5-6 hours        Healthy   \n",
       "3                 NaN               1.0  Less than 5 hours       Moderate   \n",
       "4                 NaN               1.0          5-6 hours      Unhealthy   \n",
       "\n",
       "    Degree Have you ever had suicidal thoughts ?  Work/Study Hours  \\\n",
       "0      BHM                                    No               1.0   \n",
       "1      LLB                                   Yes               7.0   \n",
       "2  B.Pharm                                   Yes               3.0   \n",
       "3      BBA                                   Yes              10.0   \n",
       "4      BBA                                   Yes               9.0   \n",
       "\n",
       "   Financial Stress Family History of Mental Illness  Depression  \n",
       "0               2.0                               No           0  \n",
       "1               3.0                               No           1  \n",
       "2               1.0                               No           1  \n",
       "3               1.0                              Yes           1  \n",
       "4               4.0                              Yes           0  "
      ]
     },
     "execution_count": 3,
     "metadata": {},
     "output_type": "execute_result"
    }
   ],
   "source": [
    "train.head(5)"
   ]
  },
  {
   "cell_type": "code",
   "execution_count": 4,
   "id": "1a466fe8",
   "metadata": {
    "execution": {
     "iopub.execute_input": "2024-11-23T18:16:41.172729Z",
     "iopub.status.busy": "2024-11-23T18:16:41.172296Z",
     "iopub.status.idle": "2024-11-23T18:16:41.285900Z",
     "shell.execute_reply": "2024-11-23T18:16:41.284694Z"
    },
    "papermill": {
     "duration": 0.121117,
     "end_time": "2024-11-23T18:16:41.288341",
     "exception": false,
     "start_time": "2024-11-23T18:16:41.167224",
     "status": "completed"
    },
    "tags": []
   },
   "outputs": [
    {
     "data": {
      "text/html": [
       "<div>\n",
       "<style scoped>\n",
       "    .dataframe tbody tr th:only-of-type {\n",
       "        vertical-align: middle;\n",
       "    }\n",
       "\n",
       "    .dataframe tbody tr th {\n",
       "        vertical-align: top;\n",
       "    }\n",
       "\n",
       "    .dataframe thead th {\n",
       "        text-align: right;\n",
       "    }\n",
       "</style>\n",
       "<table border=\"1\" class=\"dataframe\">\n",
       "  <thead>\n",
       "    <tr style=\"text-align: right;\">\n",
       "      <th></th>\n",
       "      <th>0</th>\n",
       "    </tr>\n",
       "  </thead>\n",
       "  <tbody>\n",
       "    <tr>\n",
       "      <th>id</th>\n",
       "      <td>140700</td>\n",
       "    </tr>\n",
       "    <tr>\n",
       "      <th>Name</th>\n",
       "      <td>422</td>\n",
       "    </tr>\n",
       "    <tr>\n",
       "      <th>Gender</th>\n",
       "      <td>2</td>\n",
       "    </tr>\n",
       "    <tr>\n",
       "      <th>Age</th>\n",
       "      <td>43</td>\n",
       "    </tr>\n",
       "    <tr>\n",
       "      <th>City</th>\n",
       "      <td>98</td>\n",
       "    </tr>\n",
       "    <tr>\n",
       "      <th>Working Professional or Student</th>\n",
       "      <td>2</td>\n",
       "    </tr>\n",
       "    <tr>\n",
       "      <th>Profession</th>\n",
       "      <td>64</td>\n",
       "    </tr>\n",
       "    <tr>\n",
       "      <th>Academic Pressure</th>\n",
       "      <td>5</td>\n",
       "    </tr>\n",
       "    <tr>\n",
       "      <th>Work Pressure</th>\n",
       "      <td>5</td>\n",
       "    </tr>\n",
       "    <tr>\n",
       "      <th>CGPA</th>\n",
       "      <td>331</td>\n",
       "    </tr>\n",
       "    <tr>\n",
       "      <th>Study Satisfaction</th>\n",
       "      <td>5</td>\n",
       "    </tr>\n",
       "    <tr>\n",
       "      <th>Job Satisfaction</th>\n",
       "      <td>5</td>\n",
       "    </tr>\n",
       "    <tr>\n",
       "      <th>Sleep Duration</th>\n",
       "      <td>36</td>\n",
       "    </tr>\n",
       "    <tr>\n",
       "      <th>Dietary Habits</th>\n",
       "      <td>23</td>\n",
       "    </tr>\n",
       "    <tr>\n",
       "      <th>Degree</th>\n",
       "      <td>115</td>\n",
       "    </tr>\n",
       "    <tr>\n",
       "      <th>Have you ever had suicidal thoughts ?</th>\n",
       "      <td>2</td>\n",
       "    </tr>\n",
       "    <tr>\n",
       "      <th>Work/Study Hours</th>\n",
       "      <td>13</td>\n",
       "    </tr>\n",
       "    <tr>\n",
       "      <th>Financial Stress</th>\n",
       "      <td>5</td>\n",
       "    </tr>\n",
       "    <tr>\n",
       "      <th>Family History of Mental Illness</th>\n",
       "      <td>2</td>\n",
       "    </tr>\n",
       "    <tr>\n",
       "      <th>Depression</th>\n",
       "      <td>2</td>\n",
       "    </tr>\n",
       "  </tbody>\n",
       "</table>\n",
       "</div>"
      ],
      "text/plain": [
       "                                            0\n",
       "id                                     140700\n",
       "Name                                      422\n",
       "Gender                                      2\n",
       "Age                                        43\n",
       "City                                       98\n",
       "Working Professional or Student             2\n",
       "Profession                                 64\n",
       "Academic Pressure                           5\n",
       "Work Pressure                               5\n",
       "CGPA                                      331\n",
       "Study Satisfaction                          5\n",
       "Job Satisfaction                            5\n",
       "Sleep Duration                             36\n",
       "Dietary Habits                             23\n",
       "Degree                                    115\n",
       "Have you ever had suicidal thoughts ?       2\n",
       "Work/Study Hours                           13\n",
       "Financial Stress                            5\n",
       "Family History of Mental Illness            2\n",
       "Depression                                  2"
      ]
     },
     "execution_count": 4,
     "metadata": {},
     "output_type": "execute_result"
    }
   ],
   "source": [
    "train.nunique().to_frame()"
   ]
  },
  {
   "cell_type": "code",
   "execution_count": 5,
   "id": "9428aa1c",
   "metadata": {
    "execution": {
     "iopub.execute_input": "2024-11-23T18:16:41.298218Z",
     "iopub.status.busy": "2024-11-23T18:16:41.297781Z",
     "iopub.status.idle": "2024-11-23T18:16:41.303557Z",
     "shell.execute_reply": "2024-11-23T18:16:41.302144Z"
    },
    "papermill": {
     "duration": 0.013368,
     "end_time": "2024-11-23T18:16:41.305864",
     "exception": false,
     "start_time": "2024-11-23T18:16:41.292496",
     "status": "completed"
    },
    "tags": []
   },
   "outputs": [],
   "source": [
    "categorical_cols = [col for col in train.columns if col!='Depression']"
   ]
  },
  {
   "cell_type": "code",
   "execution_count": 6,
   "id": "1fa80156",
   "metadata": {
    "execution": {
     "iopub.execute_input": "2024-11-23T18:16:41.315636Z",
     "iopub.status.busy": "2024-11-23T18:16:41.315223Z",
     "iopub.status.idle": "2024-11-23T18:16:42.386437Z",
     "shell.execute_reply": "2024-11-23T18:16:42.385345Z"
    },
    "papermill": {
     "duration": 1.079025,
     "end_time": "2024-11-23T18:16:42.388982",
     "exception": false,
     "start_time": "2024-11-23T18:16:41.309957",
     "status": "completed"
    },
    "tags": []
   },
   "outputs": [],
   "source": [
    "train[categorical_cols] = train[categorical_cols].astype('str').astype('category')\n",
    "X = train[categorical_cols]\n",
    "y = train['Depression']"
   ]
  },
  {
   "cell_type": "code",
   "execution_count": 7,
   "id": "d1d4cae8",
   "metadata": {
    "execution": {
     "iopub.execute_input": "2024-11-23T18:16:42.400320Z",
     "iopub.status.busy": "2024-11-23T18:16:42.399882Z",
     "iopub.status.idle": "2024-11-23T18:16:42.410251Z",
     "shell.execute_reply": "2024-11-23T18:16:42.409192Z"
    },
    "papermill": {
     "duration": 0.018841,
     "end_time": "2024-11-23T18:16:42.412542",
     "exception": false,
     "start_time": "2024-11-23T18:16:42.393701",
     "status": "completed"
    },
    "tags": []
   },
   "outputs": [
    {
     "data": {
      "text/plain": [
       "id                                       category\n",
       "Name                                     category\n",
       "Gender                                   category\n",
       "Age                                      category\n",
       "City                                     category\n",
       "Working Professional or Student          category\n",
       "Profession                               category\n",
       "Academic Pressure                        category\n",
       "Work Pressure                            category\n",
       "CGPA                                     category\n",
       "Study Satisfaction                       category\n",
       "Job Satisfaction                         category\n",
       "Sleep Duration                           category\n",
       "Dietary Habits                           category\n",
       "Degree                                   category\n",
       "Have you ever had suicidal thoughts ?    category\n",
       "Work/Study Hours                         category\n",
       "Financial Stress                         category\n",
       "Family History of Mental Illness         category\n",
       "dtype: object"
      ]
     },
     "execution_count": 7,
     "metadata": {},
     "output_type": "execute_result"
    }
   ],
   "source": [
    "X.dtypes"
   ]
  },
  {
   "cell_type": "code",
   "execution_count": 8,
   "id": "db69afd1",
   "metadata": {
    "execution": {
     "iopub.execute_input": "2024-11-23T18:16:42.422692Z",
     "iopub.status.busy": "2024-11-23T18:16:42.422246Z",
     "iopub.status.idle": "2024-11-23T18:16:42.670133Z",
     "shell.execute_reply": "2024-11-23T18:16:42.668629Z"
    },
    "papermill": {
     "duration": 0.256306,
     "end_time": "2024-11-23T18:16:42.673104",
     "exception": false,
     "start_time": "2024-11-23T18:16:42.416798",
     "status": "completed"
    },
    "tags": []
   },
   "outputs": [],
   "source": [
    "train_pool = Pool(data=X, label=y, cat_features=X[categorical_cols].columns.values)"
   ]
  },
  {
   "cell_type": "code",
   "execution_count": 9,
   "id": "e75095a8",
   "metadata": {
    "execution": {
     "iopub.execute_input": "2024-11-23T18:16:42.684386Z",
     "iopub.status.busy": "2024-11-23T18:16:42.683977Z",
     "iopub.status.idle": "2024-11-23T18:16:42.691494Z",
     "shell.execute_reply": "2024-11-23T18:16:42.690261Z"
    },
    "papermill": {
     "duration": 0.016436,
     "end_time": "2024-11-23T18:16:42.693794",
     "exception": false,
     "start_time": "2024-11-23T18:16:42.677358",
     "status": "completed"
    },
    "tags": []
   },
   "outputs": [],
   "source": [
    "cb = cat.CatBoostClassifier(random_state=42,iterations=4000, l2_leaf_reg= 0.7, random_strength=0.7, learning_rate=0.015558329, verbose=0, objective='Logloss', eval_metric='AUC')"
   ]
  },
  {
   "cell_type": "code",
   "execution_count": 10,
   "id": "99450fa8",
   "metadata": {
    "execution": {
     "iopub.execute_input": "2024-11-23T18:16:42.704020Z",
     "iopub.status.busy": "2024-11-23T18:16:42.703594Z",
     "iopub.status.idle": "2024-11-23T18:34:03.792994Z",
     "shell.execute_reply": "2024-11-23T18:34:03.791780Z"
    },
    "papermill": {
     "duration": 1041.100985,
     "end_time": "2024-11-23T18:34:03.799114",
     "exception": false,
     "start_time": "2024-11-23T18:16:42.698129",
     "status": "completed"
    },
    "tags": []
   },
   "outputs": [
    {
     "data": {
      "text/plain": [
       "<catboost.core.CatBoostClassifier at 0x7859415d1bd0>"
      ]
     },
     "execution_count": 10,
     "metadata": {},
     "output_type": "execute_result"
    }
   ],
   "source": [
    "cb.fit(train_pool)"
   ]
  },
  {
   "cell_type": "code",
   "execution_count": 11,
   "id": "df38ec98",
   "metadata": {
    "execution": {
     "iopub.execute_input": "2024-11-23T18:34:03.808892Z",
     "iopub.status.busy": "2024-11-23T18:34:03.808490Z",
     "iopub.status.idle": "2024-11-23T18:34:04.479587Z",
     "shell.execute_reply": "2024-11-23T18:34:04.478534Z"
    },
    "papermill": {
     "duration": 0.678838,
     "end_time": "2024-11-23T18:34:04.482060",
     "exception": false,
     "start_time": "2024-11-23T18:34:03.803222",
     "status": "completed"
    },
    "tags": []
   },
   "outputs": [],
   "source": [
    "test[categorical_cols] = test[categorical_cols].astype('str').astype('category')"
   ]
  },
  {
   "cell_type": "code",
   "execution_count": 12,
   "id": "4ff339c5",
   "metadata": {
    "execution": {
     "iopub.execute_input": "2024-11-23T18:34:04.492192Z",
     "iopub.status.busy": "2024-11-23T18:34:04.491762Z",
     "iopub.status.idle": "2024-11-23T18:34:06.317897Z",
     "shell.execute_reply": "2024-11-23T18:34:06.316953Z"
    },
    "papermill": {
     "duration": 1.833949,
     "end_time": "2024-11-23T18:34:06.320395",
     "exception": false,
     "start_time": "2024-11-23T18:34:04.486446",
     "status": "completed"
    },
    "tags": []
   },
   "outputs": [],
   "source": [
    "test_pool = Pool(data=test, cat_features=test[categorical_cols].columns.values)\n",
    "preds = cb.predict(test_pool)"
   ]
  },
  {
   "cell_type": "code",
   "execution_count": 13,
   "id": "f0e071cf",
   "metadata": {
    "execution": {
     "iopub.execute_input": "2024-11-23T18:34:06.330943Z",
     "iopub.status.busy": "2024-11-23T18:34:06.330536Z",
     "iopub.status.idle": "2024-11-23T18:34:06.400266Z",
     "shell.execute_reply": "2024-11-23T18:34:06.399207Z"
    },
    "papermill": {
     "duration": 0.077753,
     "end_time": "2024-11-23T18:34:06.402855",
     "exception": false,
     "start_time": "2024-11-23T18:34:06.325102",
     "status": "completed"
    },
    "tags": []
   },
   "outputs": [],
   "source": [
    "submission_df = pd.DataFrame({\n",
    "    'id':test['id'],\n",
    "    'Depression':preds\n",
    "})\n",
    "submission_df.to_csv('submission.csv', index=False)"
   ]
  },
  {
   "cell_type": "code",
   "execution_count": null,
   "id": "1b973060",
   "metadata": {
    "papermill": {
     "duration": 0.003782,
     "end_time": "2024-11-23T18:34:06.410853",
     "exception": false,
     "start_time": "2024-11-23T18:34:06.407071",
     "status": "completed"
    },
    "tags": []
   },
   "outputs": [],
   "source": []
  }
 ],
 "metadata": {
  "kaggle": {
   "accelerator": "none",
   "dataSources": [
    {
     "databundleVersionId": 10008389,
     "sourceId": 84895,
     "sourceType": "competition"
    }
   ],
   "dockerImageVersionId": 30786,
   "isGpuEnabled": false,
   "isInternetEnabled": true,
   "language": "python",
   "sourceType": "notebook"
  },
  "kernelspec": {
   "display_name": "Python 3",
   "language": "python",
   "name": "python3"
  },
  "language_info": {
   "codemirror_mode": {
    "name": "ipython",
    "version": 3
   },
   "file_extension": ".py",
   "mimetype": "text/x-python",
   "name": "python",
   "nbconvert_exporter": "python",
   "pygments_lexer": "ipython3",
   "version": "3.10.14"
  },
  "papermill": {
   "default_parameters": {},
   "duration": 1053.1243,
   "end_time": "2024-11-23T18:34:07.237314",
   "environment_variables": {},
   "exception": null,
   "input_path": "__notebook__.ipynb",
   "output_path": "__notebook__.ipynb",
   "parameters": {},
   "start_time": "2024-11-23T18:16:34.113014",
   "version": "2.6.0"
  }
 },
 "nbformat": 4,
 "nbformat_minor": 5
}
